{
 "cells": [
  {
   "cell_type": "markdown",
   "metadata": {},
   "source": [
    "In this Jupyter notebook, we symbolically calculate sums of the form\n",
    "\n",
    "$$\n",
    "\\sum_{\\lambda \\in \\Lambda_{24}, \\lVert \\lambda \\rVert^2 = k} \\cos(2\\pi \\langle \\lambda, c \\rangle),\n",
    "$$\n",
    "\n",
    "for the first two shells of the Leech lattice $\\Lambda_{24}$, as defined in the Master's thesis. Here, $c$ is one of the 23 standard representatives of the deep holes of $\\Lambda_{23}$, also as defined in the Master's thesis."
   ]
  },
  {
   "cell_type": "code",
   "execution_count": 1,
   "metadata": {},
   "outputs": [],
   "source": [
    "from tqdm.notebook import tqdm\n",
    "import numpy as np"
   ]
  },
  {
   "cell_type": "code",
   "execution_count": 2,
   "metadata": {},
   "outputs": [
    {
     "name": "stdout",
     "output_type": "stream",
     "text": [
      "/home/sage\n"
     ]
    }
   ],
   "source": [
    "import os\n",
    "print(os.getcwd()) "
   ]
  },
  {
   "cell_type": "code",
   "execution_count": 3,
   "metadata": {},
   "outputs": [],
   "source": [
    "folder = \"data_leech-shells-around-zero/\""
   ]
  },
  {
   "cell_type": "markdown",
   "metadata": {},
   "source": [
    "----------------------------------------------------------------------------------------------------------------------------"
   ]
  },
  {
   "cell_type": "markdown",
   "metadata": {},
   "source": [
    "## Standard deep hole representatives of the Master's thesis \n",
    "\n",
    "The following deep hole points were scaled by $\\sqrt{8} \\cdot s$ so that they become integers. The scaling factor $s$ is stored as the second entry in the following dictionary (see also Appendix C of the Master's thesis for more details)."
   ]
  },
  {
   "cell_type": "code",
   "execution_count": 4,
   "metadata": {},
   "outputs": [],
   "source": [
    "c_A1 = vector([4,0,0,0, 0,0,0,0, 0,0,0,0, 0,0,0,0, 0,0,0,0, 0,0,0,0]) \n",
    "c_A2 = vector([10,0,0,0, 0,2,2,2, 2,0,0,0,  0,2,2,2, 2,0,0,0, 0,2,2,2 ])\n",
    "c_A3 = vector([-1,1,1,1, 1,1,1,1, 2,0,0,0, 0,0,0,0, 2,0,0,0, 0,0,0,0])\n",
    "c_A4 = vector([4,8,4,4, 4,4,4,4, 2,2,6,6, 6,2,2,2, 6,2,2,2, 6,2,2,2]) \n",
    "c_A6 = vector([21]*1 + [1]*7 + [-7]*1 + [5]*7 +[7]*1+ [3]*7)\n",
    "c_A8 = vector([27,1,1,1, 3,1,1,1, -9,5,5,5, 3,5,5,5, 9,7,7,7, 3,5,5,5])\n",
    "c_A12 = vector([39,3,1,3, 3,1,1,1, -13,5,7,7, 5,9,9,7, 13,7,11,7, 5,9,7,9])\n",
    "c_A7D5 = vector([12,1,1,1, 1,0,0,0, -4,3,2,2,  2,3,2,2, 4,3,2,2, 2,3,2,2])\n",
    "c_A9D6 = vector([ 15,1,1,1, 1,0,0,1, -5,3,2,2, 2,3,4,3, 5,3,3,3, 2,3,3,4])  \n",
    "c_A11D7E6 = vector([ 18,1,1,1, 2,0,0,1, -6,3,3,3, 2,4,4,3, 6,3,4,4, 3,5,4,3])\n",
    "c_A15D9 = vector([ 24,1,1,2, 2,1,0,1, -8,4,4,4, 3,7,6,4, 8,4,5,5, 3,5,5,5])\n",
    "c_A17E7 =  vector([ 27,1,2,2, 2,1,0,1, -9,4,5,4, 3,7,6,6, 9,4,7,6, 4,6,5,5])\n",
    "c_E8 =  vector([ 45,1,4,1, 6,2,2,-1, -15,8,8,8, 6,7,10,10, 15,10,10,10, 6,7,10,10]) \n",
    "c_E6 = vector([ 18,1,1,1, 3,0,0,0, -6,5,5,5, 4,3,3,3, 4,3,3,3, 4,3,3,3])\n",
    "c_A24 = vector([75,3,5,5, 7,1,1,3, -25,13,13,11, 9,17,15,15, 25,13,23,15, 11,17,13,15]) \n",
    "c_D4 = vector([2,4,4,4, 2,2,4,2, 2,2,2,2, 2,2,2,2, 2,2,2,2, 2,2,2,2])\n",
    "c_A5D4 = vector([5,9,9,9, 3,3,3,3, 5,5,3,3, 3,3,5,5, 3,3,5,5, 3,3,5,5])\n",
    "c_D6 = vector([3,7,7,7, 3,3,3,3, 3,3,3,3, 3,3,3,3, 3,3,5,5, 3,3,5,5])\n",
    "c_D8 = vector([4,10,10,10, 6,4,4,8, 4,4,4,4, 4,4,4,4, 4,4,6,6, 4,4,6,6])\n",
    "c_D10E7 = vector([5,13,13,13, 7,7,5,9, 5,5,5,5, 5,5,5,5, 5,5,9,9, 5,5,7,7])\n",
    "c_D12 = vector([6,16,16,16, 8,8,6,12, 6,6,6,6, 6,6,6,6, 8,6,10,10, 6,6,10,8])\n",
    "c_D16E8 = vector([8,22,22,22, 12,10,8,16, 10,8,8,8, 8,8,8,8, 10,8,14,14, 8,8,12,12])\n",
    "c_D24 = vector([12,34,34,34, 18,16,12,24, 14,12,12,12, 12,12,12,12, 16,12,20,22, 12,14,20,18]) "
   ]
  },
  {
   "cell_type": "code",
   "execution_count": 5,
   "metadata": {},
   "outputs": [],
   "source": [
    "deep_hole_dict = {\n",
    "    \"A1\": (np.array(c_A1), 1), # s is the second entrie\n",
    "    \"A2\": (np.array(c_A2), 3),\n",
    "    \"A3\": (np.array(c_A3), 1),\n",
    "    \"A4\": (np.array(c_A4), 5),\n",
    "    \"A6\": (np.array(c_A6), 7), \n",
    "    \"A8\": (np.array(c_A8), 9),\n",
    "    \"A12\":(np.array(c_A12), 13),   \n",
    "    \"A7D5\":(np.array(c_A7D5), 4),\n",
    "    \"A9D6\":(np.array(c_A9D6), 5),\n",
    "    \"A11D7E6\":(np.array(c_A11D7E6), 6),\n",
    "    \"A15D9\":(np.array(c_A15D9), 8),   \n",
    "    \"A17E7\":(np.array(c_A17E7), 9),\n",
    "    \"E8\":(np.array(c_E8), 15),\n",
    "    \"E6\":(np.array(c_E6), 6),  \n",
    "    \"A24\":(np.array(c_A24), 25),\n",
    "    \"D4\":(np.array(c_D4), 3),\n",
    "    \"A5D4\":(np.array(c_A5D4), 6),\n",
    "    \"D6\": (np.array(c_D6), 5),\n",
    "    \"D8\": (np.array(c_D8), 7),\n",
    "    \"D10E7\": (np.array(c_D10E7), 9),\n",
    "    \"D12\": (np.array(c_D12), 11),       \n",
    "    \"D16E8\": (np.array(c_D16E8), 15),\n",
    "    \"D24\": (np.array(c_D24), 23)\n",
    "    \n",
    "}"
   ]
  },
  {
   "cell_type": "markdown",
   "metadata": {},
   "source": [
    "----------------------------------------------------------------------------------------------------------------------------"
   ]
  },
  {
   "cell_type": "markdown",
   "metadata": {},
   "source": [
    "Note that our database of the first three shells is scaled by $\\sqrt{8}$, so the points lie in $\\sqrt{8} \\cdot \\Lambda_{24}$, and our deep holes are also scaled.\n",
    "\n",
    "The procedure is always the same:\n",
    "\n",
    "1. First, we calculate the dot product between the deep hole (as defined above) and each point in our database using a matrix multiplication in NumPy, resulting in a NumPy vector (all occurring values are integers).\n",
    "\n",
    "2. We reduce the vector to one that contains each unique value only once and store its frequency.\n",
    "\n",
    "3. Then we scale the values back by $\\frac{1}{8 \\cdot s}$ and multiply by $2\\pi$, resulting in a total multiplication factor of $\\frac{2\\pi}{8 \\cdot s} = \\frac{\\pi}{4} \\cdot \\frac{1}{s}$, so that we obtain the correct arguments for the cosine function.\n",
    "\n",
    "4. Next, we apply $\\cos(\\ldots)$ elementwise to each unique value.\n",
    "\n",
    "5. Finally, we compute the weighted sum using the stored frequencies.\n"
   ]
  },
  {
   "cell_type": "markdown",
   "metadata": {},
   "source": [
    "Unfortunately, Sage does not always fully simplify results, so some expressions must be reduced manually. We obtain the exact value by first evaluating a sum of the form\n",
    "\n",
    "$$\n",
    "S = \\sum_{k=1}^{\\lfloor n/2 \\rfloor} (-1)^k \\cos\\!\\left(\\frac{\\pi k}{n}\\right),\n",
    "$$\n",
    "\n",
    "where $n$ is an odd integer. Then, if necessary, by subtracting or adding one or two terms of the form $\\cos\\!\\left(\\frac{\\pi k}{n}\\right)$ whose values we know and finally multiplying by an appropriate factor, we achieve the complete result.\n",
    "\n",
    "We evaluate $S$ using the geometric series formula by rewriting the sum as the real part of a complex series. Since\n",
    "\n",
    "$$\n",
    "\\cos\\!\\left(\\frac{\\pi k}{n}\\right) = \\Re\\!\\left( e^{i\\pi k/n} \\right),\n",
    "$$\n",
    "\n",
    "we can express the sum as\n",
    "\n",
    "$$\n",
    "S = \\Re\\!\\left(\\sum_{k=1}^{\\lfloor n/2 \\rfloor} \\left(-e^{i\\pi/n}\\right)^k\\right).\n",
    "$$\n",
    "\n",
    "Using the standard geometric series formula\n",
    "\n",
    "$$\n",
    "\\sum_{k=1}^{M} x^k = x\\,\\frac{x^M - 1}{x - 1},\n",
    "$$\n",
    "\n",
    "with $ x = -e^{i\\pi/n} $ and $ M = \\lfloor n/2 \\rfloor $, we obtain\n",
    "\n",
    "$$\n",
    "\\sum_{k=1}^{\\lfloor n/2 \\rfloor} \\left(-e^{i\\pi/n}\\right)^k = -e^{i\\pi/n}\\,\\frac{\\left(-e^{i\\pi/n}\\right)^{\\lfloor n/2 \\rfloor} - 1}{-e^{i\\pi/n} - 1}.\n",
    "$$\n",
    "\n",
    "Multiplying by $\\frac{1 + e^{-i \\pi /n}}{1 + e^{-i \\pi /n}}$, taking the real part of the expression above and carrying through the necessary algebra, we eventually find that\n",
    "\n",
    "$$\n",
    "\\sum_{k=1}^{\\lfloor n/2 \\rfloor} (-1)^k \\cos\\!\\left(\\frac{\\pi k}{n}\\right) = -\\frac{1}{2}.\n",
    "$$\n",
    "\n",
    "\n",
    "We originally used https://www.wolframalpha.com/ to obtain the exact results and then worked backward to justify them."
   ]
  },
  {
   "cell_type": "markdown",
   "metadata": {},
   "source": [
    "----------------------------------------------------------------------------------------------------------------------------"
   ]
  },
  {
   "cell_type": "code",
   "execution_count": 6,
   "metadata": {},
   "outputs": [],
   "source": [
    "# Set, where we save the values for each deep hole\n",
    "dict_vals = {}\n",
    "for key in deep_hole_dict:\n",
    "    dict_vals[key] =[0,0]"
   ]
  },
  {
   "cell_type": "markdown",
   "metadata": {},
   "source": [
    "## First Shell"
   ]
  },
  {
   "cell_type": "code",
   "execution_count": 7,
   "metadata": {},
   "outputs": [
    {
     "name": "stdout",
     "output_type": "stream",
     "text": [
      "(196560, 24)\n"
     ]
    }
   ],
   "source": [
    "np_shell_1_around_zero = np.load(folder+'shell1_around_zero.npy')\n",
    "print(np_shell_1_around_zero.shape)"
   ]
  },
  {
   "cell_type": "code",
   "execution_count": 8,
   "metadata": {},
   "outputs": [
    {
     "data": {
      "application/vnd.jupyter.widget-view+json": {
       "model_id": "1a7e400808044ec2b1a510505a1bd6ee",
       "version_major": 2,
       "version_minor": 0
      },
      "text/plain": [
       "  0%|          | 0/23 [00:00<?, ?it/s]"
      ]
     },
     "metadata": {},
     "output_type": "display_data"
    },
    {
     "name": "stderr",
     "output_type": "stream",
     "text": [
      "/opt/sagemath-9.3/local/lib/python3.7/site-packages/sympy/external/importtools.py:158: DeprecationWarning: distutils Version classes are deprecated. Use packaging.version instead.\n",
      "  if LooseVersion(modversion) < LooseVersion(min_module_version):\n"
     ]
    },
    {
     "name": "stdout",
     "output_type": "stream",
     "text": [
      "A1: -48\n",
      "\n",
      "A2: -270\n",
      "\n",
      "A3: -304\n",
      "\n",
      "A4: -315\n",
      "\n",
      "A6: -56252*cos(3/7*pi) + 56252*cos(2/7*pi) - 56252*cos(1/7*pi) + 27804\n",
      "\n",
      "A8: 43740*cos(4/9*pi) + 43740*cos(2/9*pi) - 43740*cos(1/9*pi) - 324\n",
      "\n",
      "A12: 30290*cos(6/13*pi) - 30290*cos(5/13*pi) + 30290*cos(4/13*pi) - 30290*cos(3/13*pi) + 30290*cos(2/13*pi) - 30290*cos(1/13*pi) + 14820\n",
      "\n",
      "A7D5: -320\n",
      "\n",
      "A9D6: -323\n",
      "\n",
      "A11D7E6: -322\n",
      "\n",
      "A15D9: -324\n",
      "\n",
      "A17E7: 60*cos(4/9*pi) + 60*cos(2/9*pi) - 60*cos(1/9*pi) - 324\n",
      "\n",
      "E8: -321\n",
      "\n",
      "E6: -318\n",
      "\n",
      "A24: 15750*cos(12/25*pi) - 15750*cos(11/25*pi) - 15750*cos(9/25*pi) + 15750*cos(8/25*pi) - 15750*cos(7/25*pi) + 15750*cos(6/25*pi) + 15750*cos(4/25*pi) - 15750*cos(3/25*pi) + 15750*cos(2/25*pi) - 15750*cos(1/25*pi) - 325\n",
      "\n",
      "D4: -309\n",
      "\n",
      "A5D4: -318\n",
      "\n",
      "D6: -318\n",
      "\n",
      "D8: -78*cos(3/7*pi) + 78*cos(2/7*pi) - 78*cos(1/7*pi) - 282\n",
      "\n",
      "D10E7: 60*cos(4/9*pi) + 60*cos(2/9*pi) - 60*cos(1/9*pi) - 321\n",
      "\n",
      "D12: -50*cos(5/11*pi) + 50*cos(4/11*pi) - 50*cos(3/11*pi) + 50*cos(2/11*pi) - 50*cos(1/11*pi) - 298\n",
      "\n",
      "D16E8: -323\n",
      "\n",
      "D24: -24*cos(11/23*pi) + 24*cos(10/23*pi) - 24*cos(9/23*pi) + 24*cos(8/23*pi) - 24*cos(7/23*pi) + 24*cos(6/23*pi) - 24*cos(5/23*pi) + 24*cos(4/23*pi) - 24*cos(3/23*pi) + 24*cos(2/23*pi) - 24*cos(1/23*pi) - 312\n",
      "\n"
     ]
    }
   ],
   "source": [
    "for key in tqdm(deep_hole_dict):   \n",
    "    factor = pi * (1/4) *(1 / deep_hole_dict[key][1])\n",
    "    result = np.dot(np_shell_1_around_zero, deep_hole_dict[key][0]) #only integers involved so exact\n",
    "    unique_vals, counts = np.unique(result, return_counts=True)\n",
    "    unique_vals_sage = [Integer(int(val)) for val in unique_vals] # Convert each value first to an integer, then to a Sage integer\n",
    "    counts_sage = [Integer(int(cnt)) for cnt in counts]\n",
    "    total_sum = sum(count * cos(factor*val) for val, count in zip(unique_vals_sage, counts_sage)).simplify_full().simplify_trig().simplify_full()\n",
    "    dict_vals[key][0] = total_sum\n",
    "    print(f\"{key}: {total_sum}\")\n",
    "    print(\"\")"
   ]
  },
  {
   "cell_type": "code",
   "execution_count": 9,
   "metadata": {},
   "outputs": [],
   "source": [
    "del np_shell_1_around_zero"
   ]
  },
  {
   "cell_type": "markdown",
   "metadata": {},
   "source": [
    "From the above discussion follows:"
   ]
  },
  {
   "cell_type": "markdown",
   "metadata": {},
   "source": [
    "**$A_6^4$**"
   ]
  },
  {
   "cell_type": "code",
   "execution_count": 10,
   "metadata": {},
   "outputs": [
    {
     "data": {
      "text/plain": [
       "-322"
      ]
     },
     "execution_count": 10,
     "metadata": {},
     "output_type": "execute_result"
    }
   ],
   "source": [
    "56252*(-1/2) + 27804"
   ]
  },
  {
   "cell_type": "code",
   "execution_count": 11,
   "metadata": {},
   "outputs": [],
   "source": [
    "dict_vals[\"A6\"][0] = -322"
   ]
  },
  {
   "cell_type": "markdown",
   "metadata": {},
   "source": [
    "----------------------------"
   ]
  },
  {
   "cell_type": "markdown",
   "metadata": {},
   "source": [
    "**$A_8^3$**\n",
    "\n",
    "$$\n",
    "\\cos\\left(\\frac{4\\pi}{9}\\right) + \\cos\\left(\\frac{2\\pi}{9}\\right) - \\cos\\left(\\frac{\\pi}{9}\\right)\n",
    "= \\cos\\left(\\frac{4\\pi}{9}\\right) - \\cos\\left(\\frac{3\\pi}{9}\\right) + \\cos\\left(\\frac{2\\pi}{9}\\right) - \\cos\\left(\\frac{\\pi}{9}\\right)  + \\cos\\left(\\frac{3\\pi}{9}\\right)\n",
    "= \\left(-\\frac{1}{2}\\right) + \\cos\\left(\\frac{\\pi}{3}\\right)\n",
    "= 0.\n",
    "$$"
   ]
  },
  {
   "cell_type": "code",
   "execution_count": 12,
   "metadata": {},
   "outputs": [
    {
     "data": {
      "text/plain": [
       "-324"
      ]
     },
     "execution_count": 12,
     "metadata": {},
     "output_type": "execute_result"
    }
   ],
   "source": [
    "-324"
   ]
  },
  {
   "cell_type": "code",
   "execution_count": 13,
   "metadata": {},
   "outputs": [],
   "source": [
    "dict_vals[\"A8\"][0] = -324"
   ]
  },
  {
   "cell_type": "markdown",
   "metadata": {},
   "source": [
    "-------------------------------------------"
   ]
  },
  {
   "cell_type": "markdown",
   "metadata": {},
   "source": [
    "**$A_{12}^2$**"
   ]
  },
  {
   "cell_type": "code",
   "execution_count": 14,
   "metadata": {},
   "outputs": [
    {
     "data": {
      "text/plain": [
       "-325"
      ]
     },
     "execution_count": 14,
     "metadata": {},
     "output_type": "execute_result"
    }
   ],
   "source": [
    "30290*(-1/2) + 14820"
   ]
  },
  {
   "cell_type": "code",
   "execution_count": 15,
   "metadata": {},
   "outputs": [],
   "source": [
    "dict_vals[\"A12\"][0] = -325"
   ]
  },
  {
   "cell_type": "markdown",
   "metadata": {},
   "source": [
    "--------------------------------------------------------"
   ]
  },
  {
   "cell_type": "markdown",
   "metadata": {},
   "source": [
    "**$A_{17}E_7$**\n",
    "\n",
    "Same procedure as in $A_8^3$"
   ]
  },
  {
   "cell_type": "code",
   "execution_count": 16,
   "metadata": {},
   "outputs": [
    {
     "data": {
      "text/plain": [
       "-324"
      ]
     },
     "execution_count": 16,
     "metadata": {},
     "output_type": "execute_result"
    }
   ],
   "source": [
    "-324"
   ]
  },
  {
   "cell_type": "code",
   "execution_count": 17,
   "metadata": {},
   "outputs": [],
   "source": [
    "dict_vals[\"A17E7\"][0] = -324"
   ]
  },
  {
   "cell_type": "markdown",
   "metadata": {},
   "source": [
    "-------------------------------------------------"
   ]
  },
  {
   "cell_type": "markdown",
   "metadata": {},
   "source": [
    "**$A_{24}$**\n",
    "\n",
    "$$\n",
    "\\cos\\left(\\tfrac{12\\pi}{25}\\right) - \\cos\\left(\\tfrac{11\\pi}{25}\\right) - \\cos\\left(\\tfrac{9\\pi}{25}\\right) + \\cos\\left(\\tfrac{8\\pi}{25}\\right) - \\cos\\left(\\tfrac{7\\pi}{25}\\right) + \\cos\\left(\\tfrac{6\\pi}{25}\\right) \n",
    " + \\cos\\left(\\tfrac{4\\pi}{25}\\right) - \\cos\\left(\\tfrac{3\\pi}{25}\\right) + \\cos\\left(\\tfrac{2\\pi}{25}\\right) - \\cos\\left(\\tfrac{\\pi}{25}\\right) \n",
    " + \\cos\\left(\\tfrac{10\\pi}{25}\\right) - \\cos\\left(\\tfrac{10\\pi}{25}\\right) - \\cos\\left(\\tfrac{5\\pi}{25}\\right) + \\cos\\left(\\tfrac{5\\pi}{25}\\right) \n",
    "= -\\tfrac{1}{2} - \\cos\\left(\\tfrac{2\\pi}{5}\\right) + \\cos\\left(\\tfrac{\\pi}{5}\\right) \n",
    "= 0.\n",
    "$$"
   ]
  },
  {
   "cell_type": "code",
   "execution_count": 18,
   "metadata": {},
   "outputs": [
    {
     "data": {
      "text/plain": [
       "-325"
      ]
     },
     "execution_count": 18,
     "metadata": {},
     "output_type": "execute_result"
    }
   ],
   "source": [
    "-325"
   ]
  },
  {
   "cell_type": "code",
   "execution_count": 19,
   "metadata": {},
   "outputs": [],
   "source": [
    "dict_vals[\"A24\"][0] = -325"
   ]
  },
  {
   "cell_type": "markdown",
   "metadata": {},
   "source": [
    "---------------------------------------------------------------------"
   ]
  },
  {
   "cell_type": "markdown",
   "metadata": {},
   "source": [
    "**$D_8^3$**\n",
    "\n",
    "Same procedure in $A_6^4$"
   ]
  },
  {
   "cell_type": "code",
   "execution_count": 20,
   "metadata": {},
   "outputs": [
    {
     "data": {
      "text/plain": [
       "-321"
      ]
     },
     "execution_count": 20,
     "metadata": {},
     "output_type": "execute_result"
    }
   ],
   "source": [
    " 78*(-1/2) - 282"
   ]
  },
  {
   "cell_type": "code",
   "execution_count": 21,
   "metadata": {},
   "outputs": [],
   "source": [
    "dict_vals[\"D8\"][0] = -321"
   ]
  },
  {
   "cell_type": "markdown",
   "metadata": {},
   "source": [
    "------------------------------------------------"
   ]
  },
  {
   "cell_type": "markdown",
   "metadata": {},
   "source": [
    "**$D_{10}E_7^2$**\n",
    "\n",
    "Same procedure in $A_8^3$"
   ]
  },
  {
   "cell_type": "code",
   "execution_count": 22,
   "metadata": {},
   "outputs": [
    {
     "data": {
      "text/plain": [
       "-321"
      ]
     },
     "execution_count": 22,
     "metadata": {},
     "output_type": "execute_result"
    }
   ],
   "source": [
    "-321"
   ]
  },
  {
   "cell_type": "code",
   "execution_count": 23,
   "metadata": {},
   "outputs": [],
   "source": [
    "dict_vals[\"D10E7\"][0] = -321"
   ]
  },
  {
   "cell_type": "markdown",
   "metadata": {},
   "source": [
    "---------------------------------------------------"
   ]
  },
  {
   "cell_type": "markdown",
   "metadata": {},
   "source": [
    "**$D_{12}^2$**"
   ]
  },
  {
   "cell_type": "code",
   "execution_count": 24,
   "metadata": {},
   "outputs": [
    {
     "data": {
      "text/plain": [
       "-323"
      ]
     },
     "execution_count": 24,
     "metadata": {},
     "output_type": "execute_result"
    }
   ],
   "source": [
    "50*(-1/2)- 298"
   ]
  },
  {
   "cell_type": "code",
   "execution_count": 25,
   "metadata": {},
   "outputs": [],
   "source": [
    "dict_vals[\"D12\"][0] = -323"
   ]
  },
  {
   "cell_type": "markdown",
   "metadata": {},
   "source": [
    "------------------------------------------------"
   ]
  },
  {
   "cell_type": "markdown",
   "metadata": {},
   "source": [
    "**$D_{24}^2$**"
   ]
  },
  {
   "cell_type": "code",
   "execution_count": 26,
   "metadata": {},
   "outputs": [
    {
     "data": {
      "text/plain": [
       "-324"
      ]
     },
     "execution_count": 26,
     "metadata": {},
     "output_type": "execute_result"
    }
   ],
   "source": [
    "24*(-1/2) - 312"
   ]
  },
  {
   "cell_type": "code",
   "execution_count": 27,
   "metadata": {},
   "outputs": [],
   "source": [
    "dict_vals[\"D24\"][0] = -324"
   ]
  },
  {
   "cell_type": "markdown",
   "metadata": {},
   "source": [
    "----------------------------------------------------------------------------------------------------------------------------"
   ]
  },
  {
   "cell_type": "markdown",
   "metadata": {},
   "source": [
    "## Second Shell"
   ]
  },
  {
   "cell_type": "code",
   "execution_count": 28,
   "metadata": {},
   "outputs": [
    {
     "name": "stdout",
     "output_type": "stream",
     "text": [
      "(16773120, 24)\n"
     ]
    }
   ],
   "source": [
    "np_shell_2_around_zero = np.vstack(((np.load(folder+'shell2_shape1_around_zero.npy')).reshape(-1, 24), \n",
    "                                    np.load(folder+'shell2_shape2_around_zero.npy').reshape(-1, 24), \n",
    "                                    np.load(folder+'shell2_shape3_around_zero.npy').reshape(-1, 24), \n",
    "                                    np.load(folder+'shell2_shape4_around_zero.npy').reshape(-1, 24)))\n",
    "print(np_shell_2_around_zero.shape)"
   ]
  },
  {
   "cell_type": "code",
   "execution_count": 29,
   "metadata": {
    "scrolled": false
   },
   "outputs": [
    {
     "data": {
      "application/vnd.jupyter.widget-view+json": {
       "model_id": "3dbdcfd257d9410ca1717768c1fedece",
       "version_major": 2,
       "version_minor": 0
      },
      "text/plain": [
       "  0%|          | 0/23 [00:00<?, ?it/s]"
      ]
     },
     "metadata": {},
     "output_type": "display_data"
    },
    {
     "name": "stdout",
     "output_type": "stream",
     "text": [
      "A1: -4096\n",
      "\n",
      "A2: 3204\n",
      "\n",
      "A3: 4096\n",
      "\n",
      "A4: 4370\n",
      "\n",
      "A6: -4791024*cos(3/7*pi) + 4791024*cos(2/7*pi) - 4791024*cos(1/7*pi) + 2400048\n",
      "\n",
      "A8: 3726648*cos(4/9*pi) + 3726648*cos(2/9*pi) - 3726648*cos(1/9*pi) + 4581\n",
      "\n",
      "A12: 2579772*cos(6/13*pi) - 2579772*cos(5/13*pi) + 2579772*cos(4/13*pi) - 2579772*cos(3/13*pi) + 2579772*cos(2/13*pi) - 2579772*cos(1/13*pi) + 1294488\n",
      "\n",
      "A7D5: 4480\n",
      "\n",
      "A9D6: 4554\n",
      "\n",
      "A11D7E6: 4528\n",
      "\n",
      "A15D9: 4576\n",
      "\n",
      "A17E7: -1896*cos(4/9*pi) - 1896*cos(2/9*pi) + 1896*cos(1/9*pi) + 4577\n",
      "\n",
      "E8: 4503\n",
      "\n",
      "E6: 4428\n",
      "\n",
      "A24: 1341500*cos(12/25*pi) - 1341500*cos(11/25*pi) - 1341500*cos(9/25*pi) + 1341500*cos(8/25*pi) - 1341500*cos(7/25*pi) + 1341500*cos(6/25*pi) + 1341500*cos(4/25*pi) - 1341500*cos(3/25*pi) + 1341500*cos(2/25*pi) - 1341500*cos(1/25*pi) + 4600\n",
      "\n",
      "D4: 4184\n",
      "\n",
      "A5D4: 4436\n",
      "\n",
      "D6: 4424\n",
      "\n",
      "D8: 2456*cos(3/7*pi) - 2456*cos(2/7*pi) + 2456*cos(1/7*pi) + 3272\n",
      "\n",
      "D10E7: -1896*cos(4/9*pi) - 1896*cos(2/9*pi) + 1896*cos(1/9*pi) + 4502\n",
      "\n",
      "D12: 1572*cos(5/11*pi) - 1572*cos(4/11*pi) + 1572*cos(3/11*pi) - 1572*cos(2/11*pi) + 1572*cos(1/11*pi) + 3764\n",
      "\n",
      "D16E8: 4551\n",
      "\n",
      "D24: 754*cos(11/23*pi) - 754*cos(10/23*pi) + 754*cos(9/23*pi) - 754*cos(8/23*pi) + 754*cos(7/23*pi) - 754*cos(6/23*pi) + 754*cos(5/23*pi) - 754*cos(4/23*pi) + 754*cos(3/23*pi) - 754*cos(2/23*pi) + 754*cos(1/23*pi) + 4198\n",
      "\n"
     ]
    }
   ],
   "source": [
    "for key in tqdm(deep_hole_dict):   \n",
    "    factor = pi * (1/4) *(1 / deep_hole_dict[key][1])\n",
    "    result = np.dot(np_shell_2_around_zero, deep_hole_dict[key][0]) #only integers involved so exact\n",
    "    unique_vals, counts = np.unique(result, return_counts=True)\n",
    "    unique_vals_sage = [Integer(int(val)) for val in unique_vals] # Convert each value first to an integer, then to a Sage integer\n",
    "    counts_sage = [Integer(int(cnt)) for cnt in counts]\n",
    "    total_sum = sum(count * cos(factor*val) for val, count in zip(unique_vals_sage, counts_sage)).simplify_full().simplify_trig().simplify_full()\n",
    "    dict_vals[key][1] = total_sum\n",
    "    print(f\"{key}: {total_sum}\")\n",
    "    print(\"\")"
   ]
  },
  {
   "cell_type": "code",
   "execution_count": 30,
   "metadata": {},
   "outputs": [],
   "source": [
    "del np_shell_2_around_zero"
   ]
  },
  {
   "cell_type": "markdown",
   "metadata": {},
   "source": [
    "From the above discussion follows:"
   ]
  },
  {
   "cell_type": "markdown",
   "metadata": {},
   "source": [
    "**$A_6^4$**"
   ]
  },
  {
   "cell_type": "code",
   "execution_count": 31,
   "metadata": {},
   "outputs": [
    {
     "data": {
      "text/plain": [
       "4536"
      ]
     },
     "execution_count": 31,
     "metadata": {},
     "output_type": "execute_result"
    }
   ],
   "source": [
    "4791024*(-1/2) + 2400048"
   ]
  },
  {
   "cell_type": "code",
   "execution_count": 32,
   "metadata": {},
   "outputs": [],
   "source": [
    "dict_vals[\"A6\"][1] = 4536"
   ]
  },
  {
   "cell_type": "markdown",
   "metadata": {},
   "source": [
    "-----------------------------------------"
   ]
  },
  {
   "cell_type": "markdown",
   "metadata": {},
   "source": [
    "**$A_8^3$**"
   ]
  },
  {
   "cell_type": "code",
   "execution_count": 33,
   "metadata": {},
   "outputs": [
    {
     "data": {
      "text/plain": [
       "4581"
      ]
     },
     "execution_count": 33,
     "metadata": {},
     "output_type": "execute_result"
    }
   ],
   "source": [
    "4581"
   ]
  },
  {
   "cell_type": "code",
   "execution_count": 34,
   "metadata": {},
   "outputs": [],
   "source": [
    "dict_vals[\"A8\"][1] = 4581"
   ]
  },
  {
   "cell_type": "markdown",
   "metadata": {},
   "source": [
    "-------------------------------------"
   ]
  },
  {
   "cell_type": "markdown",
   "metadata": {},
   "source": [
    "**$A_{12}^2$**"
   ]
  },
  {
   "cell_type": "code",
   "execution_count": 35,
   "metadata": {},
   "outputs": [
    {
     "data": {
      "text/plain": [
       "4602"
      ]
     },
     "execution_count": 35,
     "metadata": {},
     "output_type": "execute_result"
    }
   ],
   "source": [
    "2579772*(-1/2) + 1294488"
   ]
  },
  {
   "cell_type": "code",
   "execution_count": 36,
   "metadata": {},
   "outputs": [],
   "source": [
    "dict_vals[\"A12\"][1] = 4602"
   ]
  },
  {
   "cell_type": "markdown",
   "metadata": {},
   "source": [
    "------------------------------------------------"
   ]
  },
  {
   "cell_type": "markdown",
   "metadata": {},
   "source": [
    "**$A17E7$**"
   ]
  },
  {
   "cell_type": "code",
   "execution_count": 37,
   "metadata": {},
   "outputs": [
    {
     "data": {
      "text/plain": [
       "4577"
      ]
     },
     "execution_count": 37,
     "metadata": {},
     "output_type": "execute_result"
    }
   ],
   "source": [
    "4577"
   ]
  },
  {
   "cell_type": "code",
   "execution_count": 38,
   "metadata": {},
   "outputs": [],
   "source": [
    "dict_vals[\"A17E7\"][1] = 4577"
   ]
  },
  {
   "cell_type": "markdown",
   "metadata": {},
   "source": [
    "-------------------------------------------"
   ]
  },
  {
   "cell_type": "markdown",
   "metadata": {},
   "source": [
    "**$A_{24}$**"
   ]
  },
  {
   "cell_type": "code",
   "execution_count": 39,
   "metadata": {},
   "outputs": [
    {
     "data": {
      "text/plain": [
       "4600"
      ]
     },
     "execution_count": 39,
     "metadata": {},
     "output_type": "execute_result"
    }
   ],
   "source": [
    "4600"
   ]
  },
  {
   "cell_type": "code",
   "execution_count": 40,
   "metadata": {},
   "outputs": [],
   "source": [
    "dict_vals[\"A24\"][1] = 4600"
   ]
  },
  {
   "cell_type": "markdown",
   "metadata": {},
   "source": [
    "-------------------------------------------"
   ]
  },
  {
   "cell_type": "markdown",
   "metadata": {},
   "source": [
    "**$D_8^3$**"
   ]
  },
  {
   "cell_type": "code",
   "execution_count": 41,
   "metadata": {},
   "outputs": [
    {
     "data": {
      "text/plain": [
       "4500"
      ]
     },
     "execution_count": 41,
     "metadata": {},
     "output_type": "execute_result"
    }
   ],
   "source": [
    "2456*(1/2) + 3272"
   ]
  },
  {
   "cell_type": "code",
   "execution_count": 42,
   "metadata": {},
   "outputs": [],
   "source": [
    "dict_vals[\"D8\"][1] = 4500"
   ]
  },
  {
   "cell_type": "markdown",
   "metadata": {},
   "source": [
    "-----------------------------------------"
   ]
  },
  {
   "cell_type": "markdown",
   "metadata": {},
   "source": [
    "**$D_{10}E_7^2$**"
   ]
  },
  {
   "cell_type": "code",
   "execution_count": 43,
   "metadata": {},
   "outputs": [
    {
     "data": {
      "text/plain": [
       "4502"
      ]
     },
     "execution_count": 43,
     "metadata": {},
     "output_type": "execute_result"
    }
   ],
   "source": [
    " 4502"
   ]
  },
  {
   "cell_type": "code",
   "execution_count": 44,
   "metadata": {},
   "outputs": [],
   "source": [
    "dict_vals[\"D10E7\"][1] = 4502"
   ]
  },
  {
   "cell_type": "markdown",
   "metadata": {},
   "source": [
    "---------------------------------------------"
   ]
  },
  {
   "cell_type": "markdown",
   "metadata": {},
   "source": [
    "**$D_{12}^2$**"
   ]
  },
  {
   "cell_type": "code",
   "execution_count": 45,
   "metadata": {},
   "outputs": [
    {
     "data": {
      "text/plain": [
       "4550"
      ]
     },
     "execution_count": 45,
     "metadata": {},
     "output_type": "execute_result"
    }
   ],
   "source": [
    " 1572*(1/2) + 3764"
   ]
  },
  {
   "cell_type": "code",
   "execution_count": 46,
   "metadata": {},
   "outputs": [],
   "source": [
    "dict_vals[\"D12\"][1] = 4550"
   ]
  },
  {
   "cell_type": "markdown",
   "metadata": {},
   "source": [
    "------------------------------------------"
   ]
  },
  {
   "cell_type": "markdown",
   "metadata": {},
   "source": [
    "**$D_{24}^2$**"
   ]
  },
  {
   "cell_type": "code",
   "execution_count": 47,
   "metadata": {},
   "outputs": [
    {
     "data": {
      "text/plain": [
       "4575"
      ]
     },
     "execution_count": 47,
     "metadata": {},
     "output_type": "execute_result"
    }
   ],
   "source": [
    "754*(1/2) + 4198"
   ]
  },
  {
   "cell_type": "code",
   "execution_count": 48,
   "metadata": {},
   "outputs": [],
   "source": [
    "dict_vals[\"D24\"][1] = 4575"
   ]
  },
  {
   "cell_type": "markdown",
   "metadata": {},
   "source": [
    "-----------------------------------------"
   ]
  },
  {
   "cell_type": "markdown",
   "metadata": {},
   "source": [
    "----------------------------------------------------------------------------------------------------------------------------"
   ]
  },
  {
   "cell_type": "markdown",
   "metadata": {},
   "source": [
    "We now order the deep holes according to the following lexicographic order: $(a, b) > (c, d)$ if $a > c$, or if $a = c$ and $b > d$."
   ]
  },
  {
   "cell_type": "code",
   "execution_count": 49,
   "metadata": {},
   "outputs": [
    {
     "name": "stdout",
     "output_type": "stream",
     "text": [
      "[('A1', [-48, -4096]), ('A2', [-270, 3204]), ('A3', [-304, 4096]), ('D4', [-309, 4184]), ('A4', [-315, 4370]), ('A5D4', [-318, 4436]), ('E6', [-318, 4428]), ('D6', [-318, 4424]), ('A7D5', [-320, 4480]), ('E8', [-321, 4503]), ('D10E7', [-321, 4502]), ('D8', [-321, 4500]), ('A6', [-322, 4536]), ('A11D7E6', [-322, 4528]), ('A9D6', [-323, 4554]), ('D16E8', [-323, 4551]), ('D12', [-323, 4550]), ('A8', [-324, 4581]), ('A17E7', [-324, 4577]), ('A15D9', [-324, 4576]), ('D24', [-324, 4575]), ('A12', [-325, 4602]), ('A24', [-325, 4600])]\n"
     ]
    }
   ],
   "source": [
    "sorted_data = sorted(dict_vals.items(), key=lambda x: (x[1][0], x[1][1]), reverse=True)\n",
    "# Result\n",
    "print(sorted_data)"
   ]
  },
  {
   "cell_type": "code",
   "execution_count": null,
   "metadata": {},
   "outputs": [],
   "source": []
  }
 ],
 "metadata": {
  "kernelspec": {
   "display_name": "SageMath 9.3",
   "language": "sage",
   "name": "sagemath"
  },
  "language_info": {
   "codemirror_mode": {
    "name": "ipython",
    "version": 3
   },
   "file_extension": ".py",
   "mimetype": "text/x-python",
   "name": "python",
   "nbconvert_exporter": "python",
   "pygments_lexer": "ipython3",
   "version": "3.7.10"
  },
  "widgets": {
   "application/vnd.jupyter.widget-state+json": {
    "state": {
     "01578c32ef8c40d29c0d50dd5e4473ec": {
      "model_module": "@jupyter-widgets/base",
      "model_module_version": "1.2.0",
      "model_name": "LayoutModel",
      "state": {}
     },
     "026d2f7f56734217adf45624bcea5530": {
      "model_module": "@jupyter-widgets/controls",
      "model_module_version": "1.5.0",
      "model_name": "ProgressStyleModel",
      "state": {
       "description_width": ""
      }
     },
     "035b4dfa6f0c4be898a253058e8a14bf": {
      "model_module": "@jupyter-widgets/controls",
      "model_module_version": "1.5.0",
      "model_name": "DescriptionStyleModel",
      "state": {
       "description_width": ""
      }
     },
     "03bac786ad474e0698da6022ef611980": {
      "model_module": "@jupyter-widgets/controls",
      "model_module_version": "1.5.0",
      "model_name": "FloatProgressModel",
      "state": {
       "bar_style": "success",
       "layout": "IPY_MODEL_4a30cce4acb34b81bb1c1d5d99db1c77",
       "max": 23,
       "style": "IPY_MODEL_026d2f7f56734217adf45624bcea5530",
       "value": 23
      }
     },
     "059ca8b0bcd34d188c8b2e8caa1e4d37": {
      "model_module": "@jupyter-widgets/controls",
      "model_module_version": "1.5.0",
      "model_name": "FloatProgressModel",
      "state": {
       "bar_style": "success",
       "layout": "IPY_MODEL_c583d61906b944be8a8cbbc7fd96d040",
       "max": 23,
       "style": "IPY_MODEL_db81a9bf0a7d455eb8773b41ef82c41b",
       "value": 23
      }
     },
     "064c8f38f8994ce8b6ec5d70725d7930": {
      "model_module": "@jupyter-widgets/controls",
      "model_module_version": "1.5.0",
      "model_name": "HBoxModel",
      "state": {
       "children": [
        "IPY_MODEL_dd32b2c25de24af5be1b8aeb901c4768",
        "IPY_MODEL_059ca8b0bcd34d188c8b2e8caa1e4d37",
        "IPY_MODEL_6e80902a493a4a9ca9f3550e8f1f6703"
       ],
       "layout": "IPY_MODEL_313b6c3c4c154e2a9a4f9ec882a34354"
      }
     },
     "08adb33cbb0f47af9aa481843dca1853": {
      "model_module": "@jupyter-widgets/controls",
      "model_module_version": "1.5.0",
      "model_name": "DescriptionStyleModel",
      "state": {
       "description_width": ""
      }
     },
     "0a71bd700ef44b4994f4fa6219eb0876": {
      "model_module": "@jupyter-widgets/controls",
      "model_module_version": "1.5.0",
      "model_name": "ProgressStyleModel",
      "state": {
       "description_width": ""
      }
     },
     "0aca7919eda34553a859348152ad0a8c": {
      "model_module": "@jupyter-widgets/controls",
      "model_module_version": "1.5.0",
      "model_name": "DescriptionStyleModel",
      "state": {
       "description_width": ""
      }
     },
     "0ad18568b2774ab1875eb5091931b130": {
      "model_module": "@jupyter-widgets/controls",
      "model_module_version": "1.5.0",
      "model_name": "ProgressStyleModel",
      "state": {
       "description_width": ""
      }
     },
     "0b8c7ebbd84f47bab853434358b5cd7d": {
      "model_module": "@jupyter-widgets/base",
      "model_module_version": "1.2.0",
      "model_name": "LayoutModel",
      "state": {}
     },
     "11a29303ade040a897266e228d059fe7": {
      "model_module": "@jupyter-widgets/controls",
      "model_module_version": "1.5.0",
      "model_name": "HTMLModel",
      "state": {
       "layout": "IPY_MODEL_36c828dd1e2b479dac0a678f586c58dd",
       "style": "IPY_MODEL_70f0a109e7e74242bfb28789dc992458",
       "value": " 23/23 [00:27&lt;00:00,  1.27s/it]"
      }
     },
     "134b14ef99cb4ec6883a14e09e9338b8": {
      "model_module": "@jupyter-widgets/controls",
      "model_module_version": "1.5.0",
      "model_name": "HTMLModel",
      "state": {
       "layout": "IPY_MODEL_865e4c30a116417c8fedf9d17ac9b692",
       "style": "IPY_MODEL_fb7bcec9fe694c81b639309942810e4e",
       "value": " 23/23 [00:05&lt;00:00,  8.98it/s]"
      }
     },
     "13b8ce4d93ce439493cb9fe320d8795a": {
      "model_module": "@jupyter-widgets/controls",
      "model_module_version": "1.5.0",
      "model_name": "HTMLModel",
      "state": {
       "layout": "IPY_MODEL_4a67a4ba85ca47a5ab561a56b2f1d395",
       "style": "IPY_MODEL_526e5b5ca0184f01a8780596a0220825",
       "value": "100%"
      }
     },
     "161788d6bae942dabe32ba9b86706824": {
      "model_module": "@jupyter-widgets/base",
      "model_module_version": "1.2.0",
      "model_name": "LayoutModel",
      "state": {}
     },
     "1664236492c64630b5eadf290287e789": {
      "model_module": "@jupyter-widgets/controls",
      "model_module_version": "1.5.0",
      "model_name": "FloatProgressModel",
      "state": {
       "bar_style": "success",
       "layout": "IPY_MODEL_c9e6fe6a0e7246e39ac1f170a6919060",
       "max": 23,
       "style": "IPY_MODEL_208cc602f63d498a86eac922efa80fbd",
       "value": 23
      }
     },
     "16e743c8707e4226a3613f115748db25": {
      "model_module": "@jupyter-widgets/controls",
      "model_module_version": "1.5.0",
      "model_name": "ProgressStyleModel",
      "state": {
       "description_width": ""
      }
     },
     "18b62d9094924c0687276f94af62ce44": {
      "model_module": "@jupyter-widgets/base",
      "model_module_version": "1.2.0",
      "model_name": "LayoutModel",
      "state": {}
     },
     "19cbea2472524736a8aaaa8d281fc14c": {
      "model_module": "@jupyter-widgets/controls",
      "model_module_version": "1.5.0",
      "model_name": "HBoxModel",
      "state": {
       "children": [
        "IPY_MODEL_ff73847fd4154910a3e08298be4a30c3",
        "IPY_MODEL_99cec18edda3476c811e9f3c549a2c5b",
        "IPY_MODEL_6f696a70e95d4f149bcbde6d896445dd"
       ],
       "layout": "IPY_MODEL_30df4325ec4b47abafbc1560a466bb1e"
      }
     },
     "1a1dbbb14bde42bfaeb0bf699a9e2e16": {
      "model_module": "@jupyter-widgets/controls",
      "model_module_version": "1.5.0",
      "model_name": "DescriptionStyleModel",
      "state": {
       "description_width": ""
      }
     },
     "1a7e400808044ec2b1a510505a1bd6ee": {
      "model_module": "@jupyter-widgets/controls",
      "model_module_version": "1.5.0",
      "model_name": "HBoxModel",
      "state": {
       "children": [
        "IPY_MODEL_c66a2e1d4f7e4b4593dac2cc0c4ea2a0",
        "IPY_MODEL_03bac786ad474e0698da6022ef611980",
        "IPY_MODEL_dc27514f74144a8ea552563e8c411339"
       ],
       "layout": "IPY_MODEL_477a76ef9de34b25ae76aab3b2de98b2"
      }
     },
     "1abdbe6e4aa647809cb3a065eac779dd": {
      "model_module": "@jupyter-widgets/controls",
      "model_module_version": "1.5.0",
      "model_name": "ProgressStyleModel",
      "state": {
       "description_width": ""
      }
     },
     "1b3c967bfc4e41aaa3953dd51ae1b253": {
      "model_module": "@jupyter-widgets/controls",
      "model_module_version": "1.5.0",
      "model_name": "DescriptionStyleModel",
      "state": {
       "description_width": ""
      }
     },
     "1bb83553991f43139a372bf6af28f60a": {
      "model_module": "@jupyter-widgets/controls",
      "model_module_version": "1.5.0",
      "model_name": "HTMLModel",
      "state": {
       "layout": "IPY_MODEL_161788d6bae942dabe32ba9b86706824",
       "style": "IPY_MODEL_b8fc0f1a65d84818804f729f154a1a8e",
       "value": " 23/23 [00:07&lt;00:00,  8.15it/s]"
      }
     },
     "1bf2b78eeb4041af8b182c9402d217a3": {
      "model_module": "@jupyter-widgets/controls",
      "model_module_version": "1.5.0",
      "model_name": "HBoxModel",
      "state": {
       "children": [
        "IPY_MODEL_fbbc66bdaca5417fadc9c13e8af405b9",
        "IPY_MODEL_2352a6af6831497daec04f114a46934e",
        "IPY_MODEL_e6f0be48fe8f4d7aa33b4728bcb9645d"
       ],
       "layout": "IPY_MODEL_cc6ba2cc875842a8b1a228650092f358"
      }
     },
     "1c4ce625b97e4c2b94990b8d06257268": {
      "model_module": "@jupyter-widgets/controls",
      "model_module_version": "1.5.0",
      "model_name": "HTMLModel",
      "state": {
       "layout": "IPY_MODEL_f7bdfd06027c4777a3b044ae153b9154",
       "style": "IPY_MODEL_29479d6f237248949d2910d3f17a62e3",
       "value": " 23/23 [00:37&lt;00:00,  2.24s/it]"
      }
     },
     "1c8bba92b2194a479628527dcf352ef3": {
      "model_module": "@jupyter-widgets/base",
      "model_module_version": "1.2.0",
      "model_name": "LayoutModel",
      "state": {}
     },
     "1cbd77547a99413e951819087fdfcaa0": {
      "model_module": "@jupyter-widgets/base",
      "model_module_version": "1.2.0",
      "model_name": "LayoutModel",
      "state": {}
     },
     "1d554c7b53b241f5ad19ad82706f32dc": {
      "model_module": "@jupyter-widgets/base",
      "model_module_version": "1.2.0",
      "model_name": "LayoutModel",
      "state": {}
     },
     "1eda1261b0584e0c869bdba20dd8f7ca": {
      "model_module": "@jupyter-widgets/controls",
      "model_module_version": "1.5.0",
      "model_name": "HBoxModel",
      "state": {
       "children": [
        "IPY_MODEL_6ba3aff110f0417babb5630cbe645182",
        "IPY_MODEL_6112fbe5cf154511818f74399dd3ff1e",
        "IPY_MODEL_8461e6d62dca440ca2e426e118fd27f2"
       ],
       "layout": "IPY_MODEL_c6c727a9322d45c4bfed32aa6be454c3"
      }
     },
     "208cc602f63d498a86eac922efa80fbd": {
      "model_module": "@jupyter-widgets/controls",
      "model_module_version": "1.5.0",
      "model_name": "ProgressStyleModel",
      "state": {
       "description_width": ""
      }
     },
     "2109e25787774dcd9de9b8c0802239f3": {
      "model_module": "@jupyter-widgets/controls",
      "model_module_version": "1.5.0",
      "model_name": "DescriptionStyleModel",
      "state": {
       "description_width": ""
      }
     },
     "2178895c193d4ae095ef0aa2957c4c2f": {
      "model_module": "@jupyter-widgets/controls",
      "model_module_version": "1.5.0",
      "model_name": "ProgressStyleModel",
      "state": {
       "description_width": ""
      }
     },
     "21c40f11b83e44f7a37599c7c3052413": {
      "model_module": "@jupyter-widgets/base",
      "model_module_version": "1.2.0",
      "model_name": "LayoutModel",
      "state": {}
     },
     "2352a6af6831497daec04f114a46934e": {
      "model_module": "@jupyter-widgets/controls",
      "model_module_version": "1.5.0",
      "model_name": "FloatProgressModel",
      "state": {
       "bar_style": "success",
       "layout": "IPY_MODEL_6b9dd59e66fd4111aa41ff44268e6071",
       "max": 23,
       "style": "IPY_MODEL_3e00828151c4430095e59950b7f84e2f",
       "value": 23
      }
     },
     "26261b7bccce4c97ab0a5f6cbf1c3429": {
      "model_module": "@jupyter-widgets/controls",
      "model_module_version": "1.5.0",
      "model_name": "FloatProgressModel",
      "state": {
       "bar_style": "danger",
       "layout": "IPY_MODEL_b7a6593794944276b3e389942c806783",
       "max": 23,
       "style": "IPY_MODEL_e6434452c9194e5b9bd43bda63d1bb37",
       "value": 8
      }
     },
     "27c842b426894a74aecb966480accb88": {
      "model_module": "@jupyter-widgets/controls",
      "model_module_version": "1.5.0",
      "model_name": "DescriptionStyleModel",
      "state": {
       "description_width": ""
      }
     },
     "29479d6f237248949d2910d3f17a62e3": {
      "model_module": "@jupyter-widgets/controls",
      "model_module_version": "1.5.0",
      "model_name": "DescriptionStyleModel",
      "state": {
       "description_width": ""
      }
     },
     "2beeeb72582a42ca8b65466fe187bbac": {
      "model_module": "@jupyter-widgets/controls",
      "model_module_version": "1.5.0",
      "model_name": "HTMLModel",
      "state": {
       "layout": "IPY_MODEL_dde5859ce90e43478c5ed47e94592678",
       "style": "IPY_MODEL_73502c6e4c014fc39c3d93fbb098a592",
       "value": "100%"
      }
     },
     "2bffff43d1f0467697785bf90a076432": {
      "model_module": "@jupyter-widgets/controls",
      "model_module_version": "1.5.0",
      "model_name": "DescriptionStyleModel",
      "state": {
       "description_width": ""
      }
     },
     "308e82e7a4a54bad91fb25c6ec525f68": {
      "model_module": "@jupyter-widgets/controls",
      "model_module_version": "1.5.0",
      "model_name": "DescriptionStyleModel",
      "state": {
       "description_width": ""
      }
     },
     "30df4325ec4b47abafbc1560a466bb1e": {
      "model_module": "@jupyter-widgets/base",
      "model_module_version": "1.2.0",
      "model_name": "LayoutModel",
      "state": {}
     },
     "313b6c3c4c154e2a9a4f9ec882a34354": {
      "model_module": "@jupyter-widgets/base",
      "model_module_version": "1.2.0",
      "model_name": "LayoutModel",
      "state": {}
     },
     "31a3d1ed24124dda843574833e6b7eec": {
      "model_module": "@jupyter-widgets/controls",
      "model_module_version": "1.5.0",
      "model_name": "HBoxModel",
      "state": {
       "children": [
        "IPY_MODEL_8952b2a1ee9f435bbf7415c78286126d",
        "IPY_MODEL_e1f67e52b6504752987a0827465555e1",
        "IPY_MODEL_134b14ef99cb4ec6883a14e09e9338b8"
       ],
       "layout": "IPY_MODEL_50c467bc63d74e5d9bbb633a29244c65"
      }
     },
     "3377133b5468480982905a89e49c9a99": {
      "model_module": "@jupyter-widgets/controls",
      "model_module_version": "1.5.0",
      "model_name": "HTMLModel",
      "state": {
       "layout": "IPY_MODEL_aaa5e673810d49f8898de256fd297c1c",
       "style": "IPY_MODEL_1a1dbbb14bde42bfaeb0bf699a9e2e16",
       "value": " 23/23 [00:26&lt;00:00,  1.26s/it]"
      }
     },
     "36c828dd1e2b479dac0a678f586c58dd": {
      "model_module": "@jupyter-widgets/base",
      "model_module_version": "1.2.0",
      "model_name": "LayoutModel",
      "state": {}
     },
     "382a0cd41206439582e832a8f8349b34": {
      "model_module": "@jupyter-widgets/base",
      "model_module_version": "1.2.0",
      "model_name": "LayoutModel",
      "state": {}
     },
     "38f0253d521f428d9cc0df4ab7dd8bc6": {
      "model_module": "@jupyter-widgets/base",
      "model_module_version": "1.2.0",
      "model_name": "LayoutModel",
      "state": {}
     },
     "3b6384ebe4de4184a6bcfb9b02ab6e1d": {
      "model_module": "@jupyter-widgets/base",
      "model_module_version": "1.2.0",
      "model_name": "LayoutModel",
      "state": {}
     },
     "3bab452495d44f8bbaad770a6ba4c103": {
      "model_module": "@jupyter-widgets/base",
      "model_module_version": "1.2.0",
      "model_name": "LayoutModel",
      "state": {}
     },
     "3d5c99bd036047359eef08b66e52c2cb": {
      "model_module": "@jupyter-widgets/base",
      "model_module_version": "1.2.0",
      "model_name": "LayoutModel",
      "state": {}
     },
     "3dbdcfd257d9410ca1717768c1fedece": {
      "model_module": "@jupyter-widgets/controls",
      "model_module_version": "1.5.0",
      "model_name": "HBoxModel",
      "state": {
       "children": [
        "IPY_MODEL_13b8ce4d93ce439493cb9fe320d8795a",
        "IPY_MODEL_a9a054e0665940f883fcd2d4940c6b9f",
        "IPY_MODEL_3377133b5468480982905a89e49c9a99"
       ],
       "layout": "IPY_MODEL_b54c76a033554372bced39955ac7ffa8"
      }
     },
     "3e00828151c4430095e59950b7f84e2f": {
      "model_module": "@jupyter-widgets/controls",
      "model_module_version": "1.5.0",
      "model_name": "ProgressStyleModel",
      "state": {
       "description_width": ""
      }
     },
     "3f0b9d27545842258dc018d8552184d5": {
      "model_module": "@jupyter-widgets/controls",
      "model_module_version": "1.5.0",
      "model_name": "HBoxModel",
      "state": {
       "children": [
        "IPY_MODEL_dad2973ba54c4984810b5fa8b62a7ea1",
        "IPY_MODEL_1664236492c64630b5eadf290287e789",
        "IPY_MODEL_1c4ce625b97e4c2b94990b8d06257268"
       ],
       "layout": "IPY_MODEL_95fa59cb8d924e9c89fdbd58f1bd9e30"
      }
     },
     "3ff6344ec85a4319844def196a4cefed": {
      "model_module": "@jupyter-widgets/base",
      "model_module_version": "1.2.0",
      "model_name": "LayoutModel",
      "state": {}
     },
     "43f543e156ad4dbeac4fb52766bbf2b1": {
      "model_module": "@jupyter-widgets/controls",
      "model_module_version": "1.5.0",
      "model_name": "HTMLModel",
      "state": {
       "layout": "IPY_MODEL_1c8bba92b2194a479628527dcf352ef3",
       "style": "IPY_MODEL_84ab9af295974e94b726fd7489ed1727",
       "value": " 4/23 [00:05&lt;00:20,  1.07s/it]"
      }
     },
     "4530e3d09c464a13b9b1a033327d9ce7": {
      "model_module": "@jupyter-widgets/controls",
      "model_module_version": "1.5.0",
      "model_name": "DescriptionStyleModel",
      "state": {
       "description_width": ""
      }
     },
     "4754896b0e24405b90ff49a4e78b5c85": {
      "model_module": "@jupyter-widgets/base",
      "model_module_version": "1.2.0",
      "model_name": "LayoutModel",
      "state": {}
     },
     "477a76ef9de34b25ae76aab3b2de98b2": {
      "model_module": "@jupyter-widgets/base",
      "model_module_version": "1.2.0",
      "model_name": "LayoutModel",
      "state": {}
     },
     "47d501116d9a48a9b3a71438c35682b1": {
      "model_module": "@jupyter-widgets/controls",
      "model_module_version": "1.5.0",
      "model_name": "DescriptionStyleModel",
      "state": {
       "description_width": ""
      }
     },
     "4a30cce4acb34b81bb1c1d5d99db1c77": {
      "model_module": "@jupyter-widgets/base",
      "model_module_version": "1.2.0",
      "model_name": "LayoutModel",
      "state": {}
     },
     "4a67a4ba85ca47a5ab561a56b2f1d395": {
      "model_module": "@jupyter-widgets/base",
      "model_module_version": "1.2.0",
      "model_name": "LayoutModel",
      "state": {}
     },
     "4bd578428b564438ba9661cdf25254c8": {
      "model_module": "@jupyter-widgets/base",
      "model_module_version": "1.2.0",
      "model_name": "LayoutModel",
      "state": {}
     },
     "4c54b2ee85d24bdbb795e7103e69b5d9": {
      "model_module": "@jupyter-widgets/controls",
      "model_module_version": "1.5.0",
      "model_name": "HTMLModel",
      "state": {
       "layout": "IPY_MODEL_88970a5304194af1a1ddbd66844ccaa3",
       "style": "IPY_MODEL_bd90f019861e47fb84af9b38a3309607",
       "value": "100%"
      }
     },
     "4e228301607b4010ac1cc7b1a508c1c4": {
      "model_module": "@jupyter-widgets/controls",
      "model_module_version": "1.5.0",
      "model_name": "DescriptionStyleModel",
      "state": {
       "description_width": ""
      }
     },
     "50c467bc63d74e5d9bbb633a29244c65": {
      "model_module": "@jupyter-widgets/base",
      "model_module_version": "1.2.0",
      "model_name": "LayoutModel",
      "state": {}
     },
     "526e5b5ca0184f01a8780596a0220825": {
      "model_module": "@jupyter-widgets/controls",
      "model_module_version": "1.5.0",
      "model_name": "DescriptionStyleModel",
      "state": {
       "description_width": ""
      }
     },
     "52bc05306e05454198d94950fe792da9": {
      "model_module": "@jupyter-widgets/controls",
      "model_module_version": "1.5.0",
      "model_name": "HBoxModel",
      "state": {
       "children": [
        "IPY_MODEL_901abfad996d4b24a6661aaa34a6f046",
        "IPY_MODEL_5b520c990947413095bb900dd8336ad4",
        "IPY_MODEL_43f543e156ad4dbeac4fb52766bbf2b1"
       ],
       "layout": "IPY_MODEL_826798baa4774ac6a1a519a8fe37145c"
      }
     },
     "5364525ddc074033847cfbe44206cba3": {
      "model_module": "@jupyter-widgets/controls",
      "model_module_version": "1.5.0",
      "model_name": "DescriptionStyleModel",
      "state": {
       "description_width": ""
      }
     },
     "53bc573e9b4b403d991b4600c23ba68d": {
      "model_module": "@jupyter-widgets/controls",
      "model_module_version": "1.5.0",
      "model_name": "DescriptionStyleModel",
      "state": {
       "description_width": ""
      }
     },
     "554567fd6e3e4d4b8f2de9553ff73943": {
      "model_module": "@jupyter-widgets/controls",
      "model_module_version": "1.5.0",
      "model_name": "FloatProgressModel",
      "state": {
       "bar_style": "success",
       "layout": "IPY_MODEL_f4267fab4aee48cf9e3a2261f99e748d",
       "max": 23,
       "style": "IPY_MODEL_2178895c193d4ae095ef0aa2957c4c2f",
       "value": 23
      }
     },
     "555cf630603f4ead96decc9e98dbf15f": {
      "model_module": "@jupyter-widgets/controls",
      "model_module_version": "1.5.0",
      "model_name": "HTMLModel",
      "state": {
       "layout": "IPY_MODEL_9493dbc0526c454eb1ee5c4c10adca6c",
       "style": "IPY_MODEL_a74a507130174c8a8b766d360f7313a5",
       "value": " 23/23 [00:01&lt;00:00, 12.96it/s]"
      }
     },
     "568aa84273334146befcf6a362306181": {
      "model_module": "@jupyter-widgets/base",
      "model_module_version": "1.2.0",
      "model_name": "LayoutModel",
      "state": {}
     },
     "5a3a09907fe5476896b3e380fdb33e02": {
      "model_module": "@jupyter-widgets/controls",
      "model_module_version": "1.5.0",
      "model_name": "HBoxModel",
      "state": {
       "children": [
        "IPY_MODEL_f3c8db66120d4d84a3e2553dcd1e5354",
        "IPY_MODEL_554567fd6e3e4d4b8f2de9553ff73943",
        "IPY_MODEL_d639aa1bafc745078e5c13fb7532a414"
       ],
       "layout": "IPY_MODEL_5fbf427101814d9fa7190e2000467b49"
      }
     },
     "5ad0c8b56322431eb77f16b48898cc2a": {
      "model_module": "@jupyter-widgets/controls",
      "model_module_version": "1.5.0",
      "model_name": "ProgressStyleModel",
      "state": {
       "description_width": ""
      }
     },
     "5b520c990947413095bb900dd8336ad4": {
      "model_module": "@jupyter-widgets/controls",
      "model_module_version": "1.5.0",
      "model_name": "FloatProgressModel",
      "state": {
       "bar_style": "danger",
       "layout": "IPY_MODEL_a12f4c45953e4bf99ff89340a1d991b8",
       "max": 23,
       "style": "IPY_MODEL_84dc02d5330c4ffca62fede41d79f612",
       "value": 4
      }
     },
     "5be8bb191dfe4b74bb7b61f85891d1e2": {
      "model_module": "@jupyter-widgets/controls",
      "model_module_version": "1.5.0",
      "model_name": "HTMLModel",
      "state": {
       "layout": "IPY_MODEL_7362de7a4de64a66810634929087821f",
       "style": "IPY_MODEL_4530e3d09c464a13b9b1a033327d9ce7",
       "value": " 23/23 [00:06&lt;00:00,  8.35it/s]"
      }
     },
     "5e2ac19c5882450ebeb65f09668f70cc": {
      "model_module": "@jupyter-widgets/base",
      "model_module_version": "1.2.0",
      "model_name": "LayoutModel",
      "state": {}
     },
     "5e6543c0ab074462a480c417c47df6ae": {
      "model_module": "@jupyter-widgets/controls",
      "model_module_version": "1.5.0",
      "model_name": "DescriptionStyleModel",
      "state": {
       "description_width": ""
      }
     },
     "5fbf427101814d9fa7190e2000467b49": {
      "model_module": "@jupyter-widgets/base",
      "model_module_version": "1.2.0",
      "model_name": "LayoutModel",
      "state": {}
     },
     "6112fbe5cf154511818f74399dd3ff1e": {
      "model_module": "@jupyter-widgets/controls",
      "model_module_version": "1.5.0",
      "model_name": "FloatProgressModel",
      "state": {
       "bar_style": "success",
       "layout": "IPY_MODEL_0b8c7ebbd84f47bab853434358b5cd7d",
       "max": 23,
       "style": "IPY_MODEL_e5eaf74d2cc24645bf1b640f9fb34640",
       "value": 23
      }
     },
     "627879399e4d43ae819fb16d29024722": {
      "model_module": "@jupyter-widgets/controls",
      "model_module_version": "1.5.0",
      "model_name": "FloatProgressModel",
      "state": {
       "bar_style": "success",
       "layout": "IPY_MODEL_dd1b5accea89480e99d4df8f20f548d8",
       "max": 23,
       "style": "IPY_MODEL_fbe5dffe0ebb4e60a4fb3fd435b7853d",
       "value": 23
      }
     },
     "644aec402d724d3f884302d9f60b85dc": {
      "model_module": "@jupyter-widgets/controls",
      "model_module_version": "1.5.0",
      "model_name": "HTMLModel",
      "state": {
       "layout": "IPY_MODEL_1d554c7b53b241f5ad19ad82706f32dc",
       "style": "IPY_MODEL_4e228301607b4010ac1cc7b1a508c1c4",
       "value": "100%"
      }
     },
     "6673266c79ea4bd1a1e52cb94b7fa87c": {
      "model_module": "@jupyter-widgets/controls",
      "model_module_version": "1.5.0",
      "model_name": "FloatProgressModel",
      "state": {
       "bar_style": "success",
       "layout": "IPY_MODEL_75b635118f3941398561868031f88018",
       "max": 23,
       "style": "IPY_MODEL_0ad18568b2774ab1875eb5091931b130",
       "value": 23
      }
     },
     "67b8706499e9480499f6cc0d0f1a6d15": {
      "model_module": "@jupyter-widgets/controls",
      "model_module_version": "1.5.0",
      "model_name": "HBoxModel",
      "state": {
       "children": [
        "IPY_MODEL_4c54b2ee85d24bdbb795e7103e69b5d9",
        "IPY_MODEL_f3ae692b325542cbb7c838b2947d5e54",
        "IPY_MODEL_7b4cc93874754159b17a531995938024"
       ],
       "layout": "IPY_MODEL_bb9073f37b974f64a244ef10a8dca587"
      }
     },
     "67bb91640d8542ce8472242dfe0f847a": {
      "model_module": "@jupyter-widgets/base",
      "model_module_version": "1.2.0",
      "model_name": "LayoutModel",
      "state": {}
     },
     "67ff007d5175419a9e3c24cbadfc733e": {
      "model_module": "@jupyter-widgets/base",
      "model_module_version": "1.2.0",
      "model_name": "LayoutModel",
      "state": {}
     },
     "6b9dd59e66fd4111aa41ff44268e6071": {
      "model_module": "@jupyter-widgets/base",
      "model_module_version": "1.2.0",
      "model_name": "LayoutModel",
      "state": {}
     },
     "6ba3aff110f0417babb5630cbe645182": {
      "model_module": "@jupyter-widgets/controls",
      "model_module_version": "1.5.0",
      "model_name": "HTMLModel",
      "state": {
       "layout": "IPY_MODEL_1cbd77547a99413e951819087fdfcaa0",
       "style": "IPY_MODEL_47d501116d9a48a9b3a71438c35682b1",
       "value": "100%"
      }
     },
     "6e80902a493a4a9ca9f3550e8f1f6703": {
      "model_module": "@jupyter-widgets/controls",
      "model_module_version": "1.5.0",
      "model_name": "HTMLModel",
      "state": {
       "layout": "IPY_MODEL_a331e7eb04cd41ebb783688b3a7628d5",
       "style": "IPY_MODEL_08adb33cbb0f47af9aa481843dca1853",
       "value": " 23/23 [00:05&lt;00:00,  9.21it/s]"
      }
     },
     "6e99884ea814498b93e51ae29c7545de": {
      "model_module": "@jupyter-widgets/controls",
      "model_module_version": "1.5.0",
      "model_name": "HBoxModel",
      "state": {
       "children": [
        "IPY_MODEL_a9b0caba459e417b9a54de222cc358b9",
        "IPY_MODEL_6673266c79ea4bd1a1e52cb94b7fa87c",
        "IPY_MODEL_1bb83553991f43139a372bf6af28f60a"
       ],
       "layout": "IPY_MODEL_9cc5ffc9f2174868ad9e813c9dbb0659"
      }
     },
     "6f696a70e95d4f149bcbde6d896445dd": {
      "model_module": "@jupyter-widgets/controls",
      "model_module_version": "1.5.0",
      "model_name": "HTMLModel",
      "state": {
       "layout": "IPY_MODEL_9f9eb919bbce453fa509aafcf07d78ad",
       "style": "IPY_MODEL_9ba62c6b86bd4de0b4688ddfb9dcc51d",
       "value": " 14/23 [00:22&lt;00:16,  1.82s/it]"
      }
     },
     "70f0a109e7e74242bfb28789dc992458": {
      "model_module": "@jupyter-widgets/controls",
      "model_module_version": "1.5.0",
      "model_name": "DescriptionStyleModel",
      "state": {
       "description_width": ""
      }
     },
     "7122d91752f64eb0a9374271e8cf7f53": {
      "model_module": "@jupyter-widgets/controls",
      "model_module_version": "1.5.0",
      "model_name": "HBoxModel",
      "state": {
       "children": [
        "IPY_MODEL_e2056b2583474504bfa0e33658810e36",
        "IPY_MODEL_b8fbe1eff25b4b838fd4f02ba58f3241",
        "IPY_MODEL_adbf626e3e594b1cb785ce4712246fb2"
       ],
       "layout": "IPY_MODEL_c183887f547f4d44a431d5d342c6bb6a"
      }
     },
     "71ea51738aaf4c99ba90a7ab51c33e8b": {
      "model_module": "@jupyter-widgets/controls",
      "model_module_version": "1.5.0",
      "model_name": "ProgressStyleModel",
      "state": {
       "description_width": ""
      }
     },
     "72422fff64af423a96214ee1fb25bac9": {
      "model_module": "@jupyter-widgets/controls",
      "model_module_version": "1.5.0",
      "model_name": "HTMLModel",
      "state": {
       "layout": "IPY_MODEL_5e2ac19c5882450ebeb65f09668f70cc",
       "style": "IPY_MODEL_d0e13415dfdf45f79581bd23b0aeadfc",
       "value": "100%"
      }
     },
     "73502c6e4c014fc39c3d93fbb098a592": {
      "model_module": "@jupyter-widgets/controls",
      "model_module_version": "1.5.0",
      "model_name": "DescriptionStyleModel",
      "state": {
       "description_width": ""
      }
     },
     "7362de7a4de64a66810634929087821f": {
      "model_module": "@jupyter-widgets/base",
      "model_module_version": "1.2.0",
      "model_name": "LayoutModel",
      "state": {}
     },
     "75b635118f3941398561868031f88018": {
      "model_module": "@jupyter-widgets/base",
      "model_module_version": "1.2.0",
      "model_name": "LayoutModel",
      "state": {}
     },
     "76180a1959fc4ad69262d240c476c50e": {
      "model_module": "@jupyter-widgets/base",
      "model_module_version": "1.2.0",
      "model_name": "LayoutModel",
      "state": {}
     },
     "762a89b8bc6a479588c419bf10c19dd8": {
      "model_module": "@jupyter-widgets/base",
      "model_module_version": "1.2.0",
      "model_name": "LayoutModel",
      "state": {}
     },
     "76724a6698634e978a1fcf235d2c9349": {
      "model_module": "@jupyter-widgets/base",
      "model_module_version": "1.2.0",
      "model_name": "LayoutModel",
      "state": {}
     },
     "7743ab398cc74101ac7c118cc7cb1954": {
      "model_module": "@jupyter-widgets/controls",
      "model_module_version": "1.5.0",
      "model_name": "DescriptionStyleModel",
      "state": {
       "description_width": ""
      }
     },
     "7832ec9ee2ea461094ea95d68b79c5a3": {
      "model_module": "@jupyter-widgets/controls",
      "model_module_version": "1.5.0",
      "model_name": "DescriptionStyleModel",
      "state": {
       "description_width": ""
      }
     },
     "79a098ea677140bc9626da77a21cfbf5": {
      "model_module": "@jupyter-widgets/controls",
      "model_module_version": "1.5.0",
      "model_name": "HTMLModel",
      "state": {
       "layout": "IPY_MODEL_67ff007d5175419a9e3c24cbadfc733e",
       "style": "IPY_MODEL_d7eb7c2001e84508bc0cbabfe14b04bb",
       "value": " 23/23 [00:07&lt;00:00,  9.16it/s]"
      }
     },
     "7b0a24caaa674786a556ee60f7ae80a9": {
      "model_module": "@jupyter-widgets/controls",
      "model_module_version": "1.5.0",
      "model_name": "FloatProgressModel",
      "state": {
       "bar_style": "success",
       "layout": "IPY_MODEL_7b1ba6dde45343718f5b0446e19529af",
       "max": 23,
       "style": "IPY_MODEL_b0f4ab18b318408eae30550ded8b5969",
       "value": 23
      }
     },
     "7b1ba6dde45343718f5b0446e19529af": {
      "model_module": "@jupyter-widgets/base",
      "model_module_version": "1.2.0",
      "model_name": "LayoutModel",
      "state": {}
     },
     "7b4cc93874754159b17a531995938024": {
      "model_module": "@jupyter-widgets/controls",
      "model_module_version": "1.5.0",
      "model_name": "HTMLModel",
      "state": {
       "layout": "IPY_MODEL_3bab452495d44f8bbaad770a6ba4c103",
       "style": "IPY_MODEL_035b4dfa6f0c4be898a253058e8a14bf",
       "value": " 23/23 [00:01&lt;00:00, 13.82it/s]"
      }
     },
     "7b659e615235490ead7f95fcb9beadf6": {
      "model_module": "@jupyter-widgets/controls",
      "model_module_version": "1.5.0",
      "model_name": "ProgressStyleModel",
      "state": {
       "description_width": ""
      }
     },
     "7db99885d5244ee1abf038677820303a": {
      "model_module": "@jupyter-widgets/controls",
      "model_module_version": "1.5.0",
      "model_name": "DescriptionStyleModel",
      "state": {
       "description_width": ""
      }
     },
     "7fe03621ffd74e6e8b3398a9b3e879c3": {
      "model_module": "@jupyter-widgets/base",
      "model_module_version": "1.2.0",
      "model_name": "LayoutModel",
      "state": {}
     },
     "8205bde225ea4050a5fb432a8ca7afae": {
      "model_module": "@jupyter-widgets/controls",
      "model_module_version": "1.5.0",
      "model_name": "DescriptionStyleModel",
      "state": {
       "description_width": ""
      }
     },
     "826798baa4774ac6a1a519a8fe37145c": {
      "model_module": "@jupyter-widgets/base",
      "model_module_version": "1.2.0",
      "model_name": "LayoutModel",
      "state": {}
     },
     "830dbfb035a640de900a3fb571c7b13a": {
      "model_module": "@jupyter-widgets/controls",
      "model_module_version": "1.5.0",
      "model_name": "HBoxModel",
      "state": {
       "children": [
        "IPY_MODEL_abe12fb29c3c4a7c9e9e41bd0d0c27f4",
        "IPY_MODEL_26261b7bccce4c97ab0a5f6cbf1c3429",
        "IPY_MODEL_fb432dd45dae47538333429e80887a1e"
       ],
       "layout": "IPY_MODEL_b47d5c510a3c4b8c8f274cd3f655bfda"
      }
     },
     "8461e6d62dca440ca2e426e118fd27f2": {
      "model_module": "@jupyter-widgets/controls",
      "model_module_version": "1.5.0",
      "model_name": "HTMLModel",
      "state": {
       "layout": "IPY_MODEL_f70cd1d0c49a4df9bdeba795f9d5eb0e",
       "style": "IPY_MODEL_2109e25787774dcd9de9b8c0802239f3",
       "value": " 23/23 [00:05&lt;00:00,  8.95it/s]"
      }
     },
     "84ab9af295974e94b726fd7489ed1727": {
      "model_module": "@jupyter-widgets/controls",
      "model_module_version": "1.5.0",
      "model_name": "DescriptionStyleModel",
      "state": {
       "description_width": ""
      }
     },
     "84dc02d5330c4ffca62fede41d79f612": {
      "model_module": "@jupyter-widgets/controls",
      "model_module_version": "1.5.0",
      "model_name": "ProgressStyleModel",
      "state": {
       "description_width": ""
      }
     },
     "865e4c30a116417c8fedf9d17ac9b692": {
      "model_module": "@jupyter-widgets/base",
      "model_module_version": "1.2.0",
      "model_name": "LayoutModel",
      "state": {}
     },
     "88970a5304194af1a1ddbd66844ccaa3": {
      "model_module": "@jupyter-widgets/base",
      "model_module_version": "1.2.0",
      "model_name": "LayoutModel",
      "state": {}
     },
     "88fa061311554e89a8eb76fdc4d76bd1": {
      "model_module": "@jupyter-widgets/controls",
      "model_module_version": "1.5.0",
      "model_name": "FloatProgressModel",
      "state": {
       "bar_style": "success",
       "layout": "IPY_MODEL_762a89b8bc6a479588c419bf10c19dd8",
       "max": 23,
       "style": "IPY_MODEL_0a71bd700ef44b4994f4fa6219eb0876",
       "value": 23
      }
     },
     "8952b2a1ee9f435bbf7415c78286126d": {
      "model_module": "@jupyter-widgets/controls",
      "model_module_version": "1.5.0",
      "model_name": "HTMLModel",
      "state": {
       "layout": "IPY_MODEL_dfa1ac8228154a828a0098edfc828cb5",
       "style": "IPY_MODEL_5364525ddc074033847cfbe44206cba3",
       "value": "100%"
      }
     },
     "89f85f3cebb94bac8b9517118a7a2d7e": {
      "model_module": "@jupyter-widgets/base",
      "model_module_version": "1.2.0",
      "model_name": "LayoutModel",
      "state": {}
     },
     "8b4b9d09169f421cb800c97b66b68c53": {
      "model_module": "@jupyter-widgets/base",
      "model_module_version": "1.2.0",
      "model_name": "LayoutModel",
      "state": {}
     },
     "8bff878be1dc40638dd1d31f7b8aa206": {
      "model_module": "@jupyter-widgets/controls",
      "model_module_version": "1.5.0",
      "model_name": "HTMLModel",
      "state": {
       "layout": "IPY_MODEL_aa4a1e83a95740a8bab28ad945ab4036",
       "style": "IPY_MODEL_9265901ff3434d48bd279559b50b7ad6",
       "value": "100%"
      }
     },
     "90065c9ae67449acb726fc8b46a5f6b3": {
      "model_module": "@jupyter-widgets/base",
      "model_module_version": "1.2.0",
      "model_name": "LayoutModel",
      "state": {}
     },
     "901abfad996d4b24a6661aaa34a6f046": {
      "model_module": "@jupyter-widgets/controls",
      "model_module_version": "1.5.0",
      "model_name": "HTMLModel",
      "state": {
       "layout": "IPY_MODEL_4754896b0e24405b90ff49a4e78b5c85",
       "style": "IPY_MODEL_5e6543c0ab074462a480c417c47df6ae",
       "value": " 17%"
      }
     },
     "91a6c12af39c4b63bd7099453352c120": {
      "model_module": "@jupyter-widgets/base",
      "model_module_version": "1.2.0",
      "model_name": "LayoutModel",
      "state": {}
     },
     "9265901ff3434d48bd279559b50b7ad6": {
      "model_module": "@jupyter-widgets/controls",
      "model_module_version": "1.5.0",
      "model_name": "DescriptionStyleModel",
      "state": {
       "description_width": ""
      }
     },
     "9493dbc0526c454eb1ee5c4c10adca6c": {
      "model_module": "@jupyter-widgets/base",
      "model_module_version": "1.2.0",
      "model_name": "LayoutModel",
      "state": {}
     },
     "95fa59cb8d924e9c89fdbd58f1bd9e30": {
      "model_module": "@jupyter-widgets/base",
      "model_module_version": "1.2.0",
      "model_name": "LayoutModel",
      "state": {}
     },
     "967d902b42834a2fbccc0fc0e41fee9b": {
      "model_module": "@jupyter-widgets/controls",
      "model_module_version": "1.5.0",
      "model_name": "HBoxModel",
      "state": {
       "children": [
        "IPY_MODEL_2beeeb72582a42ca8b65466fe187bbac",
        "IPY_MODEL_88fa061311554e89a8eb76fdc4d76bd1",
        "IPY_MODEL_b3b40210c8444d21a6122dbc56a5aa7c"
       ],
       "layout": "IPY_MODEL_da7e75b71deb43c78e878c66620de594"
      }
     },
     "998acd5892454025b6ccb03e0af06399": {
      "model_module": "@jupyter-widgets/base",
      "model_module_version": "1.2.0",
      "model_name": "LayoutModel",
      "state": {}
     },
     "99cec18edda3476c811e9f3c549a2c5b": {
      "model_module": "@jupyter-widgets/controls",
      "model_module_version": "1.5.0",
      "model_name": "FloatProgressModel",
      "state": {
       "bar_style": "danger",
       "layout": "IPY_MODEL_3ff6344ec85a4319844def196a4cefed",
       "max": 23,
       "style": "IPY_MODEL_a5353b74215444f598c0542d9c32de3b",
       "value": 14
      }
     },
     "9ba62c6b86bd4de0b4688ddfb9dcc51d": {
      "model_module": "@jupyter-widgets/controls",
      "model_module_version": "1.5.0",
      "model_name": "DescriptionStyleModel",
      "state": {
       "description_width": ""
      }
     },
     "9cc5ffc9f2174868ad9e813c9dbb0659": {
      "model_module": "@jupyter-widgets/base",
      "model_module_version": "1.2.0",
      "model_name": "LayoutModel",
      "state": {}
     },
     "9f9eb919bbce453fa509aafcf07d78ad": {
      "model_module": "@jupyter-widgets/base",
      "model_module_version": "1.2.0",
      "model_name": "LayoutModel",
      "state": {}
     },
     "9fa0e003fbe14db1b3210024a5173baa": {
      "model_module": "@jupyter-widgets/base",
      "model_module_version": "1.2.0",
      "model_name": "LayoutModel",
      "state": {}
     },
     "a12f4c45953e4bf99ff89340a1d991b8": {
      "model_module": "@jupyter-widgets/base",
      "model_module_version": "1.2.0",
      "model_name": "LayoutModel",
      "state": {}
     },
     "a331e7eb04cd41ebb783688b3a7628d5": {
      "model_module": "@jupyter-widgets/base",
      "model_module_version": "1.2.0",
      "model_name": "LayoutModel",
      "state": {}
     },
     "a371c70a930a463db9fa956954a73dcf": {
      "model_module": "@jupyter-widgets/controls",
      "model_module_version": "1.5.0",
      "model_name": "HBoxModel",
      "state": {
       "children": [
        "IPY_MODEL_df3c72ac906c4980ad146cbeef095568",
        "IPY_MODEL_a7ad6272504b4e3eb3f036e58d69f17b",
        "IPY_MODEL_5be8bb191dfe4b74bb7b61f85891d1e2"
       ],
       "layout": "IPY_MODEL_f6057c7c12fd462aae0e8fa9b0294054"
      }
     },
     "a5353b74215444f598c0542d9c32de3b": {
      "model_module": "@jupyter-widgets/controls",
      "model_module_version": "1.5.0",
      "model_name": "ProgressStyleModel",
      "state": {
       "description_width": ""
      }
     },
     "a74a507130174c8a8b766d360f7313a5": {
      "model_module": "@jupyter-widgets/controls",
      "model_module_version": "1.5.0",
      "model_name": "DescriptionStyleModel",
      "state": {
       "description_width": ""
      }
     },
     "a7ad6272504b4e3eb3f036e58d69f17b": {
      "model_module": "@jupyter-widgets/controls",
      "model_module_version": "1.5.0",
      "model_name": "FloatProgressModel",
      "state": {
       "bar_style": "success",
       "layout": "IPY_MODEL_f6e03d82bbff42059f9beaf8fede68cd",
       "max": 23,
       "style": "IPY_MODEL_1abdbe6e4aa647809cb3a065eac779dd",
       "value": 23
      }
     },
     "a9a054e0665940f883fcd2d4940c6b9f": {
      "model_module": "@jupyter-widgets/controls",
      "model_module_version": "1.5.0",
      "model_name": "FloatProgressModel",
      "state": {
       "bar_style": "success",
       "layout": "IPY_MODEL_76180a1959fc4ad69262d240c476c50e",
       "max": 23,
       "style": "IPY_MODEL_cb18375efdbf4ecd8adf68adc046e52d",
       "value": 23
      }
     },
     "a9b0caba459e417b9a54de222cc358b9": {
      "model_module": "@jupyter-widgets/controls",
      "model_module_version": "1.5.0",
      "model_name": "HTMLModel",
      "state": {
       "layout": "IPY_MODEL_38f0253d521f428d9cc0df4ab7dd8bc6",
       "style": "IPY_MODEL_8205bde225ea4050a5fb432a8ca7afae",
       "value": "100%"
      }
     },
     "aa4a1e83a95740a8bab28ad945ab4036": {
      "model_module": "@jupyter-widgets/base",
      "model_module_version": "1.2.0",
      "model_name": "LayoutModel",
      "state": {}
     },
     "aaa5e673810d49f8898de256fd297c1c": {
      "model_module": "@jupyter-widgets/base",
      "model_module_version": "1.2.0",
      "model_name": "LayoutModel",
      "state": {}
     },
     "abca92c8143f428d9ac09446e2bd3981": {
      "model_module": "@jupyter-widgets/base",
      "model_module_version": "1.2.0",
      "model_name": "LayoutModel",
      "state": {}
     },
     "abe12fb29c3c4a7c9e9e41bd0d0c27f4": {
      "model_module": "@jupyter-widgets/controls",
      "model_module_version": "1.5.0",
      "model_name": "HTMLModel",
      "state": {
       "layout": "IPY_MODEL_3d5c99bd036047359eef08b66e52c2cb",
       "style": "IPY_MODEL_0aca7919eda34553a859348152ad0a8c",
       "value": " 35%"
      }
     },
     "ad3aaaf40c574e07b3d24bafc4213511": {
      "model_module": "@jupyter-widgets/controls",
      "model_module_version": "1.5.0",
      "model_name": "DescriptionStyleModel",
      "state": {
       "description_width": ""
      }
     },
     "adbf626e3e594b1cb785ce4712246fb2": {
      "model_module": "@jupyter-widgets/controls",
      "model_module_version": "1.5.0",
      "model_name": "HTMLModel",
      "state": {
       "layout": "IPY_MODEL_91a6c12af39c4b63bd7099453352c120",
       "style": "IPY_MODEL_2bffff43d1f0467697785bf90a076432",
       "value": " 23/23 [00:01&lt;00:00, 17.43it/s]"
      }
     },
     "ae22dd33427c463b88594794653c0266": {
      "model_module": "@jupyter-widgets/controls",
      "model_module_version": "1.5.0",
      "model_name": "DescriptionStyleModel",
      "state": {
       "description_width": ""
      }
     },
     "b0f4ab18b318408eae30550ded8b5969": {
      "model_module": "@jupyter-widgets/controls",
      "model_module_version": "1.5.0",
      "model_name": "ProgressStyleModel",
      "state": {
       "description_width": ""
      }
     },
     "b3b40210c8444d21a6122dbc56a5aa7c": {
      "model_module": "@jupyter-widgets/controls",
      "model_module_version": "1.5.0",
      "model_name": "HTMLModel",
      "state": {
       "layout": "IPY_MODEL_4bd578428b564438ba9661cdf25254c8",
       "style": "IPY_MODEL_1b3c967bfc4e41aaa3953dd51ae1b253",
       "value": " 23/23 [00:08&lt;00:00,  8.71it/s]"
      }
     },
     "b3f2ec8f9e6c49e98ff40bef31a0cbd3": {
      "model_module": "@jupyter-widgets/controls",
      "model_module_version": "1.5.0",
      "model_name": "ProgressStyleModel",
      "state": {
       "description_width": ""
      }
     },
     "b47d5c510a3c4b8c8f274cd3f655bfda": {
      "model_module": "@jupyter-widgets/base",
      "model_module_version": "1.2.0",
      "model_name": "LayoutModel",
      "state": {}
     },
     "b4c05e56923d4ddcb4ddaa331e4ee8bb": {
      "model_module": "@jupyter-widgets/controls",
      "model_module_version": "1.5.0",
      "model_name": "HTMLModel",
      "state": {
       "layout": "IPY_MODEL_d40096b452304c6e97e997cad13a61d7",
       "style": "IPY_MODEL_c2210ddbf84e4ff091cd68baf5a67a60",
       "value": " 23/23 [00:05&lt;00:00,  9.56it/s]"
      }
     },
     "b54c76a033554372bced39955ac7ffa8": {
      "model_module": "@jupyter-widgets/base",
      "model_module_version": "1.2.0",
      "model_name": "LayoutModel",
      "state": {}
     },
     "b7a6593794944276b3e389942c806783": {
      "model_module": "@jupyter-widgets/base",
      "model_module_version": "1.2.0",
      "model_name": "LayoutModel",
      "state": {}
     },
     "b88bd1dd7bf64535a6b098ccfa52046b": {
      "model_module": "@jupyter-widgets/base",
      "model_module_version": "1.2.0",
      "model_name": "LayoutModel",
      "state": {}
     },
     "b8fbe1eff25b4b838fd4f02ba58f3241": {
      "model_module": "@jupyter-widgets/controls",
      "model_module_version": "1.5.0",
      "model_name": "FloatProgressModel",
      "state": {
       "bar_style": "success",
       "layout": "IPY_MODEL_9fa0e003fbe14db1b3210024a5173baa",
       "max": 23,
       "style": "IPY_MODEL_16e743c8707e4226a3613f115748db25",
       "value": 23
      }
     },
     "b8fc0f1a65d84818804f729f154a1a8e": {
      "model_module": "@jupyter-widgets/controls",
      "model_module_version": "1.5.0",
      "model_name": "DescriptionStyleModel",
      "state": {
       "description_width": ""
      }
     },
     "bb9073f37b974f64a244ef10a8dca587": {
      "model_module": "@jupyter-widgets/base",
      "model_module_version": "1.2.0",
      "model_name": "LayoutModel",
      "state": {}
     },
     "bd90f019861e47fb84af9b38a3309607": {
      "model_module": "@jupyter-widgets/controls",
      "model_module_version": "1.5.0",
      "model_name": "DescriptionStyleModel",
      "state": {
       "description_width": ""
      }
     },
     "bfcf1f5ebcdd4b57aa63b6267c1ff0e0": {
      "model_module": "@jupyter-widgets/base",
      "model_module_version": "1.2.0",
      "model_name": "LayoutModel",
      "state": {}
     },
     "c183887f547f4d44a431d5d342c6bb6a": {
      "model_module": "@jupyter-widgets/base",
      "model_module_version": "1.2.0",
      "model_name": "LayoutModel",
      "state": {}
     },
     "c2210ddbf84e4ff091cd68baf5a67a60": {
      "model_module": "@jupyter-widgets/controls",
      "model_module_version": "1.5.0",
      "model_name": "DescriptionStyleModel",
      "state": {
       "description_width": ""
      }
     },
     "c583d61906b944be8a8cbbc7fd96d040": {
      "model_module": "@jupyter-widgets/base",
      "model_module_version": "1.2.0",
      "model_name": "LayoutModel",
      "state": {}
     },
     "c66a2e1d4f7e4b4593dac2cc0c4ea2a0": {
      "model_module": "@jupyter-widgets/controls",
      "model_module_version": "1.5.0",
      "model_name": "HTMLModel",
      "state": {
       "layout": "IPY_MODEL_3b6384ebe4de4184a6bcfb9b02ab6e1d",
       "style": "IPY_MODEL_53bc573e9b4b403d991b4600c23ba68d",
       "value": "100%"
      }
     },
     "c6c727a9322d45c4bfed32aa6be454c3": {
      "model_module": "@jupyter-widgets/base",
      "model_module_version": "1.2.0",
      "model_name": "LayoutModel",
      "state": {}
     },
     "c773daa0e35f4ff7b1c53f556392db21": {
      "model_module": "@jupyter-widgets/base",
      "model_module_version": "1.2.0",
      "model_name": "LayoutModel",
      "state": {}
     },
     "c90fdf5d4f6742a8bc5968302f9074d6": {
      "model_module": "@jupyter-widgets/controls",
      "model_module_version": "1.5.0",
      "model_name": "HBoxModel",
      "state": {
       "children": [
        "IPY_MODEL_644aec402d724d3f884302d9f60b85dc",
        "IPY_MODEL_e988fb69779a4c6ba0cb4d4bb69da5dc",
        "IPY_MODEL_555cf630603f4ead96decc9e98dbf15f"
       ],
       "layout": "IPY_MODEL_76724a6698634e978a1fcf235d2c9349"
      }
     },
     "c9e6fe6a0e7246e39ac1f170a6919060": {
      "model_module": "@jupyter-widgets/base",
      "model_module_version": "1.2.0",
      "model_name": "LayoutModel",
      "state": {}
     },
     "cb18375efdbf4ecd8adf68adc046e52d": {
      "model_module": "@jupyter-widgets/controls",
      "model_module_version": "1.5.0",
      "model_name": "ProgressStyleModel",
      "state": {
       "description_width": ""
      }
     },
     "cc6ba2cc875842a8b1a228650092f358": {
      "model_module": "@jupyter-widgets/base",
      "model_module_version": "1.2.0",
      "model_name": "LayoutModel",
      "state": {}
     },
     "cd7d50d55a2e42b8bcdbff4fef8d3979": {
      "model_module": "@jupyter-widgets/controls",
      "model_module_version": "1.5.0",
      "model_name": "HBoxModel",
      "state": {
       "children": [
        "IPY_MODEL_72422fff64af423a96214ee1fb25bac9",
        "IPY_MODEL_7b0a24caaa674786a556ee60f7ae80a9",
        "IPY_MODEL_79a098ea677140bc9626da77a21cfbf5"
       ],
       "layout": "IPY_MODEL_e59c516613e4492ca58ae299a610fe8c"
      }
     },
     "d0e13415dfdf45f79581bd23b0aeadfc": {
      "model_module": "@jupyter-widgets/controls",
      "model_module_version": "1.5.0",
      "model_name": "DescriptionStyleModel",
      "state": {
       "description_width": ""
      }
     },
     "d28f5c4f0d204eada8ca90d3ae14a359": {
      "model_module": "@jupyter-widgets/controls",
      "model_module_version": "1.5.0",
      "model_name": "DescriptionStyleModel",
      "state": {
       "description_width": ""
      }
     },
     "d40096b452304c6e97e997cad13a61d7": {
      "model_module": "@jupyter-widgets/base",
      "model_module_version": "1.2.0",
      "model_name": "LayoutModel",
      "state": {}
     },
     "d639aa1bafc745078e5c13fb7532a414": {
      "model_module": "@jupyter-widgets/controls",
      "model_module_version": "1.5.0",
      "model_name": "HTMLModel",
      "state": {
       "layout": "IPY_MODEL_b88bd1dd7bf64535a6b098ccfa52046b",
       "style": "IPY_MODEL_7743ab398cc74101ac7c118cc7cb1954",
       "value": " 23/23 [00:05&lt;00:00,  8.82it/s]"
      }
     },
     "d7eb7c2001e84508bc0cbabfe14b04bb": {
      "model_module": "@jupyter-widgets/controls",
      "model_module_version": "1.5.0",
      "model_name": "DescriptionStyleModel",
      "state": {
       "description_width": ""
      }
     },
     "d8c5bd4e2af441c391fb17fcefa54cd6": {
      "model_module": "@jupyter-widgets/controls",
      "model_module_version": "1.5.0",
      "model_name": "HTMLModel",
      "state": {
       "layout": "IPY_MODEL_f0a3f669f04749d4a881dd2f87c6d746",
       "style": "IPY_MODEL_f4cf3ee9f8a84caabaca4acb918989a1",
       "value": "100%"
      }
     },
     "da7e75b71deb43c78e878c66620de594": {
      "model_module": "@jupyter-widgets/base",
      "model_module_version": "1.2.0",
      "model_name": "LayoutModel",
      "state": {}
     },
     "dad2973ba54c4984810b5fa8b62a7ea1": {
      "model_module": "@jupyter-widgets/controls",
      "model_module_version": "1.5.0",
      "model_name": "HTMLModel",
      "state": {
       "layout": "IPY_MODEL_bfcf1f5ebcdd4b57aa63b6267c1ff0e0",
       "style": "IPY_MODEL_ed6d9246a3774b8db8d422ba218daa14",
       "value": "100%"
      }
     },
     "db81a9bf0a7d455eb8773b41ef82c41b": {
      "model_module": "@jupyter-widgets/controls",
      "model_module_version": "1.5.0",
      "model_name": "ProgressStyleModel",
      "state": {
       "description_width": ""
      }
     },
     "dc27514f74144a8ea552563e8c411339": {
      "model_module": "@jupyter-widgets/controls",
      "model_module_version": "1.5.0",
      "model_name": "HTMLModel",
      "state": {
       "layout": "IPY_MODEL_90065c9ae67449acb726fc8b46a5f6b3",
       "style": "IPY_MODEL_7db99885d5244ee1abf038677820303a",
       "value": " 23/23 [00:05&lt;00:00,  8.90it/s]"
      }
     },
     "dc994f5ff58a4dfe894521f6be8f914e": {
      "model_module": "@jupyter-widgets/controls",
      "model_module_version": "1.5.0",
      "model_name": "FloatProgressModel",
      "state": {
       "bar_style": "success",
       "layout": "IPY_MODEL_67bb91640d8542ce8472242dfe0f847a",
       "max": 23,
       "style": "IPY_MODEL_7b659e615235490ead7f95fcb9beadf6",
       "value": 23
      }
     },
     "dd1b5accea89480e99d4df8f20f548d8": {
      "model_module": "@jupyter-widgets/base",
      "model_module_version": "1.2.0",
      "model_name": "LayoutModel",
      "state": {}
     },
     "dd32b2c25de24af5be1b8aeb901c4768": {
      "model_module": "@jupyter-widgets/controls",
      "model_module_version": "1.5.0",
      "model_name": "HTMLModel",
      "state": {
       "layout": "IPY_MODEL_382a0cd41206439582e832a8f8349b34",
       "style": "IPY_MODEL_308e82e7a4a54bad91fb25c6ec525f68",
       "value": "100%"
      }
     },
     "dde5859ce90e43478c5ed47e94592678": {
      "model_module": "@jupyter-widgets/base",
      "model_module_version": "1.2.0",
      "model_name": "LayoutModel",
      "state": {}
     },
     "df3c72ac906c4980ad146cbeef095568": {
      "model_module": "@jupyter-widgets/controls",
      "model_module_version": "1.5.0",
      "model_name": "HTMLModel",
      "state": {
       "layout": "IPY_MODEL_998acd5892454025b6ccb03e0af06399",
       "style": "IPY_MODEL_ae22dd33427c463b88594794653c0266",
       "value": "100%"
      }
     },
     "dfa1ac8228154a828a0098edfc828cb5": {
      "model_module": "@jupyter-widgets/base",
      "model_module_version": "1.2.0",
      "model_name": "LayoutModel",
      "state": {}
     },
     "e1f67e52b6504752987a0827465555e1": {
      "model_module": "@jupyter-widgets/controls",
      "model_module_version": "1.5.0",
      "model_name": "FloatProgressModel",
      "state": {
       "bar_style": "success",
       "layout": "IPY_MODEL_ea5ce7ed07374f53b2dcb49618168bcc",
       "max": 23,
       "style": "IPY_MODEL_5ad0c8b56322431eb77f16b48898cc2a",
       "value": 23
      }
     },
     "e2056b2583474504bfa0e33658810e36": {
      "model_module": "@jupyter-widgets/controls",
      "model_module_version": "1.5.0",
      "model_name": "HTMLModel",
      "state": {
       "layout": "IPY_MODEL_01578c32ef8c40d29c0d50dd5e4473ec",
       "style": "IPY_MODEL_e3afc25456f04c4795ba134b2bd18be0",
       "value": "100%"
      }
     },
     "e20fd73e480a44bca3b34ee8a82fa468": {
      "model_module": "@jupyter-widgets/base",
      "model_module_version": "1.2.0",
      "model_name": "LayoutModel",
      "state": {}
     },
     "e3afc25456f04c4795ba134b2bd18be0": {
      "model_module": "@jupyter-widgets/controls",
      "model_module_version": "1.5.0",
      "model_name": "DescriptionStyleModel",
      "state": {
       "description_width": ""
      }
     },
     "e59c516613e4492ca58ae299a610fe8c": {
      "model_module": "@jupyter-widgets/base",
      "model_module_version": "1.2.0",
      "model_name": "LayoutModel",
      "state": {}
     },
     "e5eaf74d2cc24645bf1b640f9fb34640": {
      "model_module": "@jupyter-widgets/controls",
      "model_module_version": "1.5.0",
      "model_name": "ProgressStyleModel",
      "state": {
       "description_width": ""
      }
     },
     "e6434452c9194e5b9bd43bda63d1bb37": {
      "model_module": "@jupyter-widgets/controls",
      "model_module_version": "1.5.0",
      "model_name": "ProgressStyleModel",
      "state": {
       "description_width": ""
      }
     },
     "e6f0be48fe8f4d7aa33b4728bcb9645d": {
      "model_module": "@jupyter-widgets/controls",
      "model_module_version": "1.5.0",
      "model_name": "HTMLModel",
      "state": {
       "layout": "IPY_MODEL_89f85f3cebb94bac8b9517118a7a2d7e",
       "style": "IPY_MODEL_fdb6803f783c44778eb3158fe0bb4082",
       "value": " 23/23 [00:26&lt;00:00,  1.24s/it]"
      }
     },
     "e988fb69779a4c6ba0cb4d4bb69da5dc": {
      "model_module": "@jupyter-widgets/controls",
      "model_module_version": "1.5.0",
      "model_name": "FloatProgressModel",
      "state": {
       "bar_style": "success",
       "layout": "IPY_MODEL_7fe03621ffd74e6e8b3398a9b3e879c3",
       "max": 23,
       "style": "IPY_MODEL_71ea51738aaf4c99ba90a7ab51c33e8b",
       "value": 23
      }
     },
     "ea5ce7ed07374f53b2dcb49618168bcc": {
      "model_module": "@jupyter-widgets/base",
      "model_module_version": "1.2.0",
      "model_name": "LayoutModel",
      "state": {}
     },
     "ed335099e3784a7aa461dd199baf9109": {
      "model_module": "@jupyter-widgets/controls",
      "model_module_version": "1.5.0",
      "model_name": "HBoxModel",
      "state": {
       "children": [
        "IPY_MODEL_8bff878be1dc40638dd1d31f7b8aa206",
        "IPY_MODEL_627879399e4d43ae819fb16d29024722",
        "IPY_MODEL_11a29303ade040a897266e228d059fe7"
       ],
       "layout": "IPY_MODEL_568aa84273334146befcf6a362306181"
      }
     },
     "ed6d9246a3774b8db8d422ba218daa14": {
      "model_module": "@jupyter-widgets/controls",
      "model_module_version": "1.5.0",
      "model_name": "DescriptionStyleModel",
      "state": {
       "description_width": ""
      }
     },
     "f0a3f669f04749d4a881dd2f87c6d746": {
      "model_module": "@jupyter-widgets/base",
      "model_module_version": "1.2.0",
      "model_name": "LayoutModel",
      "state": {}
     },
     "f3ae692b325542cbb7c838b2947d5e54": {
      "model_module": "@jupyter-widgets/controls",
      "model_module_version": "1.5.0",
      "model_name": "FloatProgressModel",
      "state": {
       "bar_style": "success",
       "layout": "IPY_MODEL_c773daa0e35f4ff7b1c53f556392db21",
       "max": 23,
       "style": "IPY_MODEL_b3f2ec8f9e6c49e98ff40bef31a0cbd3",
       "value": 23
      }
     },
     "f3c8db66120d4d84a3e2553dcd1e5354": {
      "model_module": "@jupyter-widgets/controls",
      "model_module_version": "1.5.0",
      "model_name": "HTMLModel",
      "state": {
       "layout": "IPY_MODEL_8b4b9d09169f421cb800c97b66b68c53",
       "style": "IPY_MODEL_d28f5c4f0d204eada8ca90d3ae14a359",
       "value": "100%"
      }
     },
     "f4267fab4aee48cf9e3a2261f99e748d": {
      "model_module": "@jupyter-widgets/base",
      "model_module_version": "1.2.0",
      "model_name": "LayoutModel",
      "state": {}
     },
     "f4cf3ee9f8a84caabaca4acb918989a1": {
      "model_module": "@jupyter-widgets/controls",
      "model_module_version": "1.5.0",
      "model_name": "DescriptionStyleModel",
      "state": {
       "description_width": ""
      }
     },
     "f6057c7c12fd462aae0e8fa9b0294054": {
      "model_module": "@jupyter-widgets/base",
      "model_module_version": "1.2.0",
      "model_name": "LayoutModel",
      "state": {}
     },
     "f6e03d82bbff42059f9beaf8fede68cd": {
      "model_module": "@jupyter-widgets/base",
      "model_module_version": "1.2.0",
      "model_name": "LayoutModel",
      "state": {}
     },
     "f70cd1d0c49a4df9bdeba795f9d5eb0e": {
      "model_module": "@jupyter-widgets/base",
      "model_module_version": "1.2.0",
      "model_name": "LayoutModel",
      "state": {}
     },
     "f7bdfd06027c4777a3b044ae153b9154": {
      "model_module": "@jupyter-widgets/base",
      "model_module_version": "1.2.0",
      "model_name": "LayoutModel",
      "state": {}
     },
     "fb432dd45dae47538333429e80887a1e": {
      "model_module": "@jupyter-widgets/controls",
      "model_module_version": "1.5.0",
      "model_name": "HTMLModel",
      "state": {
       "layout": "IPY_MODEL_abca92c8143f428d9ac09446e2bd3981",
       "style": "IPY_MODEL_7832ec9ee2ea461094ea95d68b79c5a3",
       "value": " 8/23 [00:11&lt;00:21,  1.41s/it]"
      }
     },
     "fb7bcec9fe694c81b639309942810e4e": {
      "model_module": "@jupyter-widgets/controls",
      "model_module_version": "1.5.0",
      "model_name": "DescriptionStyleModel",
      "state": {
       "description_width": ""
      }
     },
     "fbbc66bdaca5417fadc9c13e8af405b9": {
      "model_module": "@jupyter-widgets/controls",
      "model_module_version": "1.5.0",
      "model_name": "HTMLModel",
      "state": {
       "layout": "IPY_MODEL_21c40f11b83e44f7a37599c7c3052413",
       "style": "IPY_MODEL_27c842b426894a74aecb966480accb88",
       "value": "100%"
      }
     },
     "fbe5dffe0ebb4e60a4fb3fd435b7853d": {
      "model_module": "@jupyter-widgets/controls",
      "model_module_version": "1.5.0",
      "model_name": "ProgressStyleModel",
      "state": {
       "description_width": ""
      }
     },
     "fc9ba046f7844452bb9781e21530a129": {
      "model_module": "@jupyter-widgets/controls",
      "model_module_version": "1.5.0",
      "model_name": "HBoxModel",
      "state": {
       "children": [
        "IPY_MODEL_d8c5bd4e2af441c391fb17fcefa54cd6",
        "IPY_MODEL_dc994f5ff58a4dfe894521f6be8f914e",
        "IPY_MODEL_b4c05e56923d4ddcb4ddaa331e4ee8bb"
       ],
       "layout": "IPY_MODEL_e20fd73e480a44bca3b34ee8a82fa468"
      }
     },
     "fdb6803f783c44778eb3158fe0bb4082": {
      "model_module": "@jupyter-widgets/controls",
      "model_module_version": "1.5.0",
      "model_name": "DescriptionStyleModel",
      "state": {
       "description_width": ""
      }
     },
     "ff73847fd4154910a3e08298be4a30c3": {
      "model_module": "@jupyter-widgets/controls",
      "model_module_version": "1.5.0",
      "model_name": "HTMLModel",
      "state": {
       "layout": "IPY_MODEL_18b62d9094924c0687276f94af62ce44",
       "style": "IPY_MODEL_ad3aaaf40c574e07b3d24bafc4213511",
       "value": " 61%"
      }
     }
    },
    "version_major": 2,
    "version_minor": 0
   }
  }
 },
 "nbformat": 4,
 "nbformat_minor": 4
}
