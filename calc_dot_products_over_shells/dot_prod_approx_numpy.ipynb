{
 "cells": [
  {
   "cell_type": "markdown",
   "metadata": {},
   "source": [
    "In this Jupyter notebook, we numerically approximate sums of the form\n",
    "\n",
    "$$\n",
    "\\sum_{\\lambda \\in \\Lambda_{24}, \\lVert \\lambda \\rVert^2 = k} \\cos(2\\pi \\langle \\lambda, c \\rangle),\n",
    "$$\n",
    "\n",
    "for the first three shells of the Leech lattice $\\Lambda_{24}$, as defined in the Master's thesis. Here, $c$ is one of the 23 standard representatives of the deep holes of $\\Lambda_{23}$, also as defined in the Master's thesis.\n",
    "\n",
    "For the symbolic calculations of the first shell and the second shell, we refer to the other notebook in the same folder.\n"
   ]
  },
  {
   "cell_type": "code",
   "execution_count": 1,
   "metadata": {},
   "outputs": [],
   "source": [
    "from tqdm.notebook import tqdm\n",
    "import numpy as np"
   ]
  },
  {
   "cell_type": "code",
   "execution_count": 2,
   "metadata": {},
   "outputs": [
    {
     "name": "stdout",
     "output_type": "stream",
     "text": [
      "/home/sage\n"
     ]
    }
   ],
   "source": [
    "import os\n",
    "print(os.getcwd()) "
   ]
  },
  {
   "cell_type": "markdown",
   "metadata": {},
   "source": [
    "----------------------------------------------------------------------------------------------------------------------------"
   ]
  },
  {
   "cell_type": "markdown",
   "metadata": {},
   "source": [
    "## Standard deep hole representatives of the Master's thesis \n",
    "\n",
    "The following deep hole points were scaled by $\\sqrt{8} \\cdot s$ so that they become integers. The scaling factor $s$ is stored as the second entry in the following dictionary (see also Appendix C of the Master's thesis for more details)."
   ]
  },
  {
   "cell_type": "code",
   "execution_count": 3,
   "metadata": {},
   "outputs": [],
   "source": [
    "c_A1 = vector([4,0,0,0, 0,0,0,0, 0,0,0,0, 0,0,0,0, 0,0,0,0, 0,0,0,0]) \n",
    "c_A2 = vector([10,0,0,0, 0,2,2,2, 2,0,0,0,  0,2,2,2, 2,0,0,0, 0,2,2,2 ])\n",
    "c_A3 = vector([-1,1,1,1, 1,1,1,1, 2,0,0,0, 0,0,0,0, 2,0,0,0, 0,0,0,0])\n",
    "c_A4 = vector([4,8,4,4, 4,4,4,4, 2,2,6,6, 6,2,2,2, 6,2,2,2, 6,2,2,2]) \n",
    "c_A6 = vector([21]*1 + [1]*7 + [-7]*1 + [5]*7 +[7]*1+ [3]*7)\n",
    "c_A8 = vector([27,1,1,1, 3,1,1,1, -9,5,5,5, 3,5,5,5, 9,7,7,7, 3,5,5,5])\n",
    "c_A12 = vector([39,3,1,3, 3,1,1,1, -13,5,7,7, 5,9,9,7, 13,7,11,7, 5,9,7,9])\n",
    "c_A7D5 = vector([12,1,1,1, 1,0,0,0, -4,3,2,2,  2,3,2,2, 4,3,2,2, 2,3,2,2])\n",
    "c_A9D6 = vector([ 15,1,1,1, 1,0,0,1, -5,3,2,2, 2,3,4,3, 5,3,3,3, 2,3,3,4])  \n",
    "c_A11D7E6 = vector([ 18,1,1,1, 2,0,0,1, -6,3,3,3, 2,4,4,3, 6,3,4,4, 3,5,4,3])\n",
    "c_A15D9 = vector([ 24,1,1,2, 2,1,0,1, -8,4,4,4, 3,7,6,4, 8,4,5,5, 3,5,5,5])\n",
    "c_A17E7 =  vector([ 27,1,2,2, 2,1,0,1, -9,4,5,4, 3,7,6,6, 9,4,7,6, 4,6,5,5])\n",
    "c_E8 =  vector([ 45,1,4,1, 6,2,2,-1, -15,8,8,8, 6,7,10,10, 15,10,10,10, 6,7,10,10]) \n",
    "c_E6 = vector([ 18,1,1,1, 3,0,0,0, -6,5,5,5, 4,3,3,3, 4,3,3,3, 4,3,3,3])\n",
    "c_A24 = vector([75,3,5,5, 7,1,1,3, -25,13,13,11, 9,17,15,15, 25,13,23,15, 11,17,13,15]) \n",
    "c_D4 = vector([2,4,4,4, 2,2,4,2, 2,2,2,2, 2,2,2,2, 2,2,2,2, 2,2,2,2])\n",
    "c_A5D4 = vector([5,9,9,9, 3,3,3,3, 5,5,3,3, 3,3,5,5, 3,3,5,5, 3,3,5,5])\n",
    "c_D6 = vector([3,7,7,7, 3,3,3,3, 3,3,3,3, 3,3,3,3, 3,3,5,5, 3,3,5,5])\n",
    "c_D8 = vector([4,10,10,10, 6,4,4,8, 4,4,4,4, 4,4,4,4, 4,4,6,6, 4,4,6,6])\n",
    "c_D10E7 = vector([5,13,13,13, 7,7,5,9, 5,5,5,5, 5,5,5,5, 5,5,9,9, 5,5,7,7])\n",
    "c_D12 = vector([6,16,16,16, 8,8,6,12, 6,6,6,6, 6,6,6,6, 8,6,10,10, 6,6,10,8])\n",
    "c_D16E8 = vector([8,22,22,22, 12,10,8,16, 10,8,8,8, 8,8,8,8, 10,8,14,14, 8,8,12,12])\n",
    "c_D24 = vector([12,34,34,34, 18,16,12,24, 14,12,12,12, 12,12,12,12, 16,12,20,22, 12,14,20,18]) "
   ]
  },
  {
   "cell_type": "code",
   "execution_count": 4,
   "metadata": {},
   "outputs": [],
   "source": [
    "deep_hole_dict = {\n",
    "    \"A1\": (np.array(c_A1), 1), #s is the second entrie\n",
    "    \"A2\": (np.array(c_A2), 3),\n",
    "    \"A3\": (np.array(c_A3), 1),\n",
    "    \"A4\": (np.array(c_A4), 5),\n",
    "    \"A6\": (np.array(c_A6), 7), \n",
    "    \"A8\": (np.array(c_A8), 9),\n",
    "    \"A12\":(np.array(c_A12), 13),   \n",
    "    \"A7D5\":(np.array(c_A7D5), 4),\n",
    "    \"A9D6\":(np.array(c_A9D6), 5),\n",
    "    \"A11D7E6\":(np.array(c_A11D7E6), 6),\n",
    "    \"A15D9\":(np.array(c_A15D9), 8),   \n",
    "    \"A17E7\":(np.array(c_A17E7), 9),\n",
    "    \"E8\":(np.array(c_E8), 15),\n",
    "    \"E6\":(np.array(c_E6), 6),  \n",
    "    \"A24\":(np.array(c_A24), 25),\n",
    "    \"D4\":(np.array(c_D4), 3),\n",
    "    \"A5D4\":(np.array(c_A5D4), 6),\n",
    "    \"D6\": (np.array(c_D6), 5),\n",
    "    \"D8\": (np.array(c_D8), 7),\n",
    "    \"D10E7\": (np.array(c_D10E7), 9),\n",
    "    \"D12\": (np.array(c_D12), 11),       \n",
    "    \"D16E8\": (np.array(c_D16E8), 15),\n",
    "    \"D24\": (np.array(c_D24), 23)\n",
    "    \n",
    "}"
   ]
  },
  {
   "cell_type": "markdown",
   "metadata": {},
   "source": [
    "----------------------------------------------------------------------------------------------------------------------------"
   ]
  },
  {
   "cell_type": "markdown",
   "metadata": {},
   "source": [
    "Note that our database of the first three shells is scaled by $\\sqrt{8}$, so the points lie in $\\sqrt{8} \\cdot \\Lambda_{24}$, and our deep holes are also scaled.\n",
    "\n",
    "The procedure is always the same:\n",
    "\n",
    "1. First, we calculate the dot product between the deep hole (as defined above) and each point in our database using a matrix multiplication in NumPy, resulting in a NumPy vector.\n",
    "\n",
    "2. Then we scale everything back by $\\frac{1}{8 \\cdot s}$ and multiply it by $2\\pi$, resulting in a total multiplication factor of $\\frac{2\\pi}{8 \\cdot s} = \\frac{\\pi}{4} \\cdot \\frac{1}{s}$, so that we obtain the actual arguments needed for the cosine.\n",
    "\n",
    "3. Next, we apply $\\cos(\\ldots)$ elementwise to the vector,\n",
    "\n",
    "4. and finally, we sum all of its entries.\n"
   ]
  },
  {
   "cell_type": "markdown",
   "metadata": {},
   "source": [
    "----------------------------------------------------------------------------------------------------------------------------"
   ]
  },
  {
   "cell_type": "markdown",
   "metadata": {},
   "source": [
    "# First Shell of $\\Lambda_{24}$"
   ]
  },
  {
   "cell_type": "code",
   "execution_count": 5,
   "metadata": {},
   "outputs": [
    {
     "name": "stdout",
     "output_type": "stream",
     "text": [
      "(196560, 24)\n"
     ]
    }
   ],
   "source": [
    "np_shell_1_around_zero = np.load('data_leech-shells-around-zero/shell1_around_zero.npy')\n",
    "print(np_shell_1_around_zero.shape)"
   ]
  },
  {
   "cell_type": "code",
   "execution_count": 6,
   "metadata": {},
   "outputs": [
    {
     "data": {
      "application/vnd.jupyter.widget-view+json": {
       "model_id": "82e3b4caa15f44c9b0b321ad7ec64fa6",
       "version_major": 2,
       "version_minor": 0
      },
      "text/plain": [
       "  0%|          | 0/23 [00:00<?, ?it/s]"
      ]
     },
     "metadata": {},
     "output_type": "display_data"
    },
    {
     "name": "stdout",
     "output_type": "stream",
     "text": [
      "A1: -48.0\n",
      "\n",
      "A2: -270.0000000000032\n",
      "\n",
      "A3: -304.0\n",
      "\n",
      "A4: -314.9999999999964\n",
      "\n",
      "A6: -321.9999999999974\n",
      "\n",
      "A8: -324.00000000000557\n",
      "\n",
      "A12: -325.0000000000029\n",
      "\n",
      "A7D5: -319.9999999999999\n",
      "\n",
      "A9D6: -322.99999999999875\n",
      "\n",
      "A11D7E6: -321.9999999999989\n",
      "\n",
      "A15D9: -324.0000000000024\n",
      "\n",
      "A17E7: -323.9999999999974\n",
      "\n",
      "E8: -321.0000000000012\n",
      "\n",
      "E6: -317.99999999999864\n",
      "\n",
      "A24: -324.9999999999991\n",
      "\n",
      "D4: -309.00000000001774\n",
      "\n",
      "A5D4: -318.00000000001637\n",
      "\n",
      "D6: -317.99999999999727\n",
      "\n",
      "D8: -320.99999999999\n",
      "\n",
      "D10E7: -320.99999999999955\n",
      "\n",
      "D12: -323.00000000000387\n",
      "\n",
      "D16E8: -322.9999999999968\n",
      "\n",
      "D24: -323.99999999999864\n",
      "\n"
     ]
    }
   ],
   "source": [
    "shell1 = []\n",
    "for key in tqdm(deep_hole_dict):   \n",
    "    s = deep_hole_dict[key][1]\n",
    "    result = np.dot(np_shell_1_around_zero, deep_hole_dict[key][0])\n",
    "    result_scaled = np.pi*(1/4)*(1/s)*result \n",
    "    result_cos = np.cos(result_scaled)\n",
    "    total_sum = np.sum(result_cos)\n",
    "    shell1.append((key, total_sum))\n",
    "    print(f\"{key}: {total_sum}\")\n",
    "    print(\"\")"
   ]
  },
  {
   "cell_type": "code",
   "execution_count": 7,
   "metadata": {},
   "outputs": [
    {
     "name": "stdout",
     "output_type": "stream",
     "text": [
      "[('A12', -325.0000000000029), ('A24', -324.9999999999991), ('A8', -324.00000000000557), ('A15D9', -324.0000000000024), ('D24', -323.99999999999864), ('A17E7', -323.9999999999974), ('D12', -323.00000000000387), ('A9D6', -322.99999999999875), ('D16E8', -322.9999999999968), ('A11D7E6', -321.9999999999989), ('A6', -321.9999999999974), ('E8', -321.0000000000012), ('D10E7', -320.99999999999955), ('D8', -320.99999999999), ('A7D5', -319.9999999999999), ('A5D4', -318.00000000001637), ('E6', -317.99999999999864), ('D6', -317.99999999999727), ('A4', -314.9999999999964), ('D4', -309.00000000001774), ('A3', -304.0), ('A2', -270.0000000000032), ('A1', -48.0)]\n"
     ]
    }
   ],
   "source": [
    "# Sort by size (although calculated symbolically/exactly the following is not totally true; \n",
    "#also we know that some have the same value)\n",
    "sorted_list = sorted(shell1, key=lambda x: x[1])\n",
    "print(sorted_list)"
   ]
  },
  {
   "cell_type": "code",
   "execution_count": 8,
   "metadata": {},
   "outputs": [],
   "source": [
    "del np_shell_1_around_zero"
   ]
  },
  {
   "cell_type": "markdown",
   "metadata": {},
   "source": [
    "-------------------------------------------------------------------------------------------------------------------------------"
   ]
  },
  {
   "cell_type": "markdown",
   "metadata": {},
   "source": [
    "# Second Shell of $\\Lambda_{24}$"
   ]
  },
  {
   "cell_type": "code",
   "execution_count": 9,
   "metadata": {},
   "outputs": [
    {
     "name": "stdout",
     "output_type": "stream",
     "text": [
      "(16773120, 24)\n"
     ]
    }
   ],
   "source": [
    "np_shell_2_around_zero = np.vstack(((np.load('data_leech-shells-around-zero/shell2_shape1_around_zero.npy')).reshape(-1, 24), \n",
    "                                    np.load('data_leech-shells-around-zero/shell2_shape2_around_zero.npy').reshape(-1, 24), \n",
    "                                    np.load('data_leech-shells-around-zero/shell2_shape3_around_zero.npy').reshape(-1, 24), \n",
    "                                    np.load('data_leech-shells-around-zero/shell2_shape4_around_zero.npy').reshape(-1, 24)))\n",
    "print(np_shell_2_around_zero.shape)"
   ]
  },
  {
   "cell_type": "code",
   "execution_count": 10,
   "metadata": {},
   "outputs": [
    {
     "data": {
      "application/vnd.jupyter.widget-view+json": {
       "model_id": "27780e0ff7ae4928b3aa1d8d9e321904",
       "version_major": 2,
       "version_minor": 0
      },
      "text/plain": [
       "  0%|          | 0/23 [00:00<?, ?it/s]"
      ]
     },
     "metadata": {},
     "output_type": "display_data"
    },
    {
     "name": "stdout",
     "output_type": "stream",
     "text": [
      "A1: -4096.0\n",
      "\n",
      "A2: 3203.999999999969\n",
      "\n",
      "A3: 4096.0\n",
      "\n",
      "A4: 4370.000000001022\n",
      "\n",
      "A6: 4536.000000000136\n",
      "\n",
      "A8: 4580.9999999993615\n",
      "\n",
      "A12: 4602.000000000002\n",
      "\n",
      "A7D5: 4480.0000000000755\n",
      "\n",
      "A9D6: 4554.000000000113\n",
      "\n",
      "A11D7E6: 4528.000000000115\n",
      "\n",
      "A15D9: 4575.999999999827\n",
      "\n",
      "A17E7: 4577.00000000033\n",
      "\n",
      "E8: 4502.99999999983\n",
      "\n",
      "E6: 4428.000000000077\n",
      "\n",
      "A24: 4600.0000000000455\n",
      "\n",
      "D4: 4183.999999999767\n",
      "\n",
      "A5D4: 4435.999999999942\n",
      "\n",
      "D6: 4424.000000003513\n",
      "\n",
      "D8: 4500.000000003525\n",
      "\n",
      "D10E7: 4501.999999998347\n",
      "\n",
      "D12: 4550.000000000242\n",
      "\n",
      "D16E8: 4550.999999999661\n",
      "\n",
      "D24: 4575.000000000649\n",
      "\n"
     ]
    }
   ],
   "source": [
    "for key in tqdm(deep_hole_dict):   \n",
    "    s = deep_hole_dict[key][1]\n",
    "    result = np.dot(np_shell_2_around_zero, deep_hole_dict[key][0])\n",
    "    result_scaled = np.pi*(1/4)*(1/s)*result \n",
    "    result_cos = np.cos(result_scaled)\n",
    "    total_sum = np.sum(result_cos)\n",
    "    print(f\"{key}: {total_sum}\")\n",
    "    print(\"\")"
   ]
  },
  {
   "cell_type": "code",
   "execution_count": 11,
   "metadata": {},
   "outputs": [],
   "source": [
    "del np_shell_2_around_zero"
   ]
  },
  {
   "cell_type": "markdown",
   "metadata": {},
   "source": [
    "-----------------------------------------------------------------------------------------------------------------------------"
   ]
  },
  {
   "cell_type": "markdown",
   "metadata": {},
   "source": [
    "# Thrid Shell of $\\Lambda_{24}$"
   ]
  },
  {
   "cell_type": "code",
   "execution_count": 12,
   "metadata": {},
   "outputs": [],
   "source": [
    "# Due to the size of the third shell, we need to use memory mapping to avoid loading the entire array into RAM\n",
    "memmap_array1 = np.load('data_leech-shells-around-zero/shell3_shape1_around_zero.npy', mmap_mode='r')\n",
    "memmap_array2 = np.load('data_leech-shells-around-zero/shell3_shape2_around_zero.npy', mmap_mode='r')\n",
    "memmap_array3 = np.load('data_leech-shells-around-zero/shell3_shape3_around_zero.npy', mmap_mode='r')\n",
    "memmap_array4 = np.load('data_leech-shells-around-zero/shell3_shape4_around_zero.npy', mmap_mode='r')\n",
    "memmap_array5 = np.load('data_leech-shells-around-zero/shell3_shape5_around_zero.npy', mmap_mode='r')\n",
    "memmap_array6 = np.load('data_leech-shells-around-zero/shell3_shape6_around_zero.npy', mmap_mode='r')\n",
    "memmap_array7 = np.load('data_leech-shells-around-zero/shell3_shape7_around_zero.npy', mmap_mode='r')\n",
    "memmap_array8 = np.load('data_leech-shells-around-zero/shell3_shape8_around_zero.npy', mmap_mode='r')                "
   ]
  },
  {
   "cell_type": "code",
   "execution_count": 13,
   "metadata": {},
   "outputs": [],
   "source": [
    "shape_arrays = [memmap_array1.reshape(-1,24), memmap_array2.reshape(-1,24), memmap_array3.reshape(-1,24), \n",
    "                memmap_array4.reshape(-1,24), memmap_array5.reshape(-1,24), memmap_array6.reshape(-1,24), \n",
    "                memmap_array7.reshape(-1,24), memmap_array8.reshape(-1,24)]"
   ]
  },
  {
   "cell_type": "code",
   "execution_count": 14,
   "metadata": {},
   "outputs": [
    {
     "data": {
      "text/plain": [
       "(48, 24)"
      ]
     },
     "execution_count": 14,
     "metadata": {},
     "output_type": "execute_result"
    }
   ],
   "source": [
    "chunk_size = 1600000\n",
    "shape_arrays[7].shape"
   ]
  },
  {
   "cell_type": "code",
   "execution_count": 15,
   "metadata": {
    "scrolled": true
   },
   "outputs": [
    {
     "data": {
      "application/vnd.jupyter.widget-view+json": {
       "model_id": "16dbc2b175ba4201bc81d3dc9fb839b9",
       "version_major": 2,
       "version_minor": 0
      },
      "text/plain": [
       "  0%|          | 0/23 [00:00<?, ?it/s]"
      ]
     },
     "metadata": {},
     "output_type": "display_data"
    },
    {
     "data": {
      "application/vnd.jupyter.widget-view+json": {
       "model_id": "856f0f7102df406394303be9d2e4d102",
       "version_major": 2,
       "version_minor": 0
      },
      "text/plain": [
       "  0%|          | 0/8 [00:00<?, ?it/s]"
      ]
     },
     "metadata": {},
     "output_type": "display_data"
    },
    {
     "name": "stdout",
     "output_type": "stream",
     "text": [
      "A1: 99408.0\n",
      "\n"
     ]
    },
    {
     "data": {
      "application/vnd.jupyter.widget-view+json": {
       "model_id": "41733d8470bf44dc9a9f38ba633f3b5e",
       "version_major": 2,
       "version_minor": 0
      },
      "text/plain": [
       "  0%|          | 0/8 [00:00<?, ?it/s]"
      ]
     },
     "metadata": {},
     "output_type": "display_data"
    },
    {
     "name": "stdout",
     "output_type": "stream",
     "text": [
      "A2: -15309.000000011023\n",
      "\n"
     ]
    },
    {
     "data": {
      "application/vnd.jupyter.widget-view+json": {
       "model_id": "41b4100b21f44b16b90d462f33f5a359",
       "version_major": 2,
       "version_minor": 0
      },
      "text/plain": [
       "  0%|          | 0/8 [00:00<?, ?it/s]"
      ]
     },
     "metadata": {},
     "output_type": "display_data"
    },
    {
     "name": "stdout",
     "output_type": "stream",
     "text": [
      "A3: -25520.000000000186\n",
      "\n"
     ]
    },
    {
     "data": {
      "application/vnd.jupyter.widget-view+json": {
       "model_id": "99cb07037310411c94fd6b33cd7cb26b",
       "version_major": 2,
       "version_minor": 0
      },
      "text/plain": [
       "  0%|          | 0/8 [00:00<?, ?it/s]"
      ]
     },
     "metadata": {},
     "output_type": "display_data"
    },
    {
     "name": "stdout",
     "output_type": "stream",
     "text": [
      "A4: -28499.999999997643\n",
      "\n"
     ]
    },
    {
     "data": {
      "application/vnd.jupyter.widget-view+json": {
       "model_id": "cc14dade1b7d4c369b4ac71523d47de7",
       "version_major": 2,
       "version_minor": 0
      },
      "text/plain": [
       "  0%|          | 0/8 [00:00<?, ?it/s]"
      ]
     },
     "metadata": {},
     "output_type": "display_data"
    },
    {
     "name": "stdout",
     "output_type": "stream",
     "text": [
      "A6: -30190.99999999741\n",
      "\n"
     ]
    },
    {
     "data": {
      "application/vnd.jupyter.widget-view+json": {
       "model_id": "1a7a80e0b64c4fc9a7c616041496a026",
       "version_major": 2,
       "version_minor": 0
      },
      "text/plain": [
       "  0%|          | 0/8 [00:00<?, ?it/s]"
      ]
     },
     "metadata": {},
     "output_type": "display_data"
    },
    {
     "name": "stdout",
     "output_type": "stream",
     "text": [
      "A8: -30618.000000016327\n",
      "\n"
     ]
    },
    {
     "data": {
      "application/vnd.jupyter.widget-view+json": {
       "model_id": "654d27b549064ba1a67c55c0a8f25a80",
       "version_major": 2,
       "version_minor": 0
      },
      "text/plain": [
       "  0%|          | 0/8 [00:00<?, ?it/s]"
      ]
     },
     "metadata": {},
     "output_type": "display_data"
    },
    {
     "name": "stdout",
     "output_type": "stream",
     "text": [
      "A12: -30796.99999999663\n",
      "\n"
     ]
    },
    {
     "data": {
      "application/vnd.jupyter.widget-view+json": {
       "model_id": "3a97592c395541839e746454f85de017",
       "version_major": 2,
       "version_minor": 0
      },
      "text/plain": [
       "  0%|          | 0/8 [00:00<?, ?it/s]"
      ]
     },
     "metadata": {},
     "output_type": "display_data"
    },
    {
     "name": "stdout",
     "output_type": "stream",
     "text": [
      "A7D5: -29487.999999994565\n",
      "\n"
     ]
    },
    {
     "data": {
      "application/vnd.jupyter.widget-view+json": {
       "model_id": "d8876015f9974799a44043225023cecc",
       "version_major": 2,
       "version_minor": 0
      },
      "text/plain": [
       "  0%|          | 0/8 [00:00<?, ?it/s]"
      ]
     },
     "metadata": {},
     "output_type": "display_data"
    },
    {
     "name": "stdout",
     "output_type": "stream",
     "text": [
      "A9D6: -30291.99999999691\n",
      "\n"
     ]
    },
    {
     "data": {
      "application/vnd.jupyter.widget-view+json": {
       "model_id": "8f07c619ca7c40dfaa432cdf7e082695",
       "version_major": 2,
       "version_minor": 0
      },
      "text/plain": [
       "  0%|          | 0/8 [00:00<?, ?it/s]"
      ]
     },
     "metadata": {},
     "output_type": "display_data"
    },
    {
     "name": "stdout",
     "output_type": "stream",
     "text": [
      "A11D7E6: -29992.999999994478\n",
      "\n"
     ]
    },
    {
     "data": {
      "application/vnd.jupyter.widget-view+json": {
       "model_id": "f929376006bf494d87c2fda5094bbfba",
       "version_major": 2,
       "version_minor": 0
      },
      "text/plain": [
       "  0%|          | 0/8 [00:00<?, ?it/s]"
      ]
     },
     "metadata": {},
     "output_type": "display_data"
    },
    {
     "name": "stdout",
     "output_type": "stream",
     "text": [
      "A15D9: -30496.00000000199\n",
      "\n"
     ]
    },
    {
     "data": {
      "application/vnd.jupyter.widget-view+json": {
       "model_id": "a629edd402f94d0ea1c57f375f1b2c5f",
       "version_major": 2,
       "version_minor": 0
      },
      "text/plain": [
       "  0%|          | 0/8 [00:00<?, ?it/s]"
      ]
     },
     "metadata": {},
     "output_type": "display_data"
    },
    {
     "name": "stdout",
     "output_type": "stream",
     "text": [
      "A17E7: -30521.999999992255\n",
      "\n"
     ]
    },
    {
     "data": {
      "application/vnd.jupyter.widget-view+json": {
       "model_id": "346b8f8dcfa74dfc9cc9a2f7215ef51c",
       "version_major": 2,
       "version_minor": 0
      },
      "text/plain": [
       "  0%|          | 0/8 [00:00<?, ?it/s]"
      ]
     },
     "metadata": {},
     "output_type": "display_data"
    },
    {
     "name": "stdout",
     "output_type": "stream",
     "text": [
      "E8: -29718.000000004056\n",
      "\n"
     ]
    },
    {
     "data": {
      "application/vnd.jupyter.widget-view+json": {
       "model_id": "2fa58f04f502456a8c0f0f03cfd1f1c7",
       "version_major": 2,
       "version_minor": 0
      },
      "text/plain": [
       "  0%|          | 0/8 [00:00<?, ?it/s]"
      ]
     },
     "metadata": {},
     "output_type": "display_data"
    },
    {
     "name": "stdout",
     "output_type": "stream",
     "text": [
      "E6: -28892.999999995292\n",
      "\n"
     ]
    },
    {
     "data": {
      "application/vnd.jupyter.widget-view+json": {
       "model_id": "99bcc5ad190143bda7eb6f4edfc1c2fc",
       "version_major": 2,
       "version_minor": 0
      },
      "text/plain": [
       "  0%|          | 0/8 [00:00<?, ?it/s]"
      ]
     },
     "metadata": {},
     "output_type": "display_data"
    },
    {
     "name": "stdout",
     "output_type": "stream",
     "text": [
      "A24: -30749.999999999174\n",
      "\n"
     ]
    },
    {
     "data": {
      "application/vnd.jupyter.widget-view+json": {
       "model_id": "7e30dd70cde142d89763ed1c3469f7d3",
       "version_major": 2,
       "version_minor": 0
      },
      "text/plain": [
       "  0%|          | 0/8 [00:00<?, ?it/s]"
      ]
     },
     "metadata": {},
     "output_type": "display_data"
    },
    {
     "name": "stdout",
     "output_type": "stream",
     "text": [
      "D4: -25863.00000000032\n",
      "\n"
     ]
    },
    {
     "data": {
      "application/vnd.jupyter.widget-view+json": {
       "model_id": "4281c336e0d645debd5b73804ebdf522",
       "version_major": 2,
       "version_minor": 0
      },
      "text/plain": [
       "  0%|          | 0/8 [00:00<?, ?it/s]"
      ]
     },
     "metadata": {},
     "output_type": "display_data"
    },
    {
     "name": "stdout",
     "output_type": "stream",
     "text": [
      "A5D4: -29085.00000000288\n",
      "\n"
     ]
    },
    {
     "data": {
      "application/vnd.jupyter.widget-view+json": {
       "model_id": "b57a1382f10846848f08e6d9b61b372f",
       "version_major": 2,
       "version_minor": 0
      },
      "text/plain": [
       "  0%|          | 0/8 [00:00<?, ?it/s]"
      ]
     },
     "metadata": {},
     "output_type": "display_data"
    },
    {
     "name": "stdout",
     "output_type": "stream",
     "text": [
      "D6: -28776.999999995358\n",
      "\n"
     ]
    },
    {
     "data": {
      "application/vnd.jupyter.widget-view+json": {
       "model_id": "45899eb67f5f435d81490aed128648c7",
       "version_major": 2,
       "version_minor": 0
      },
      "text/plain": [
       "  0%|          | 0/8 [00:00<?, ?it/s]"
      ]
     },
     "metadata": {},
     "output_type": "display_data"
    },
    {
     "name": "stdout",
     "output_type": "stream",
     "text": [
      "D8: -29636.999999998232\n",
      "\n"
     ]
    },
    {
     "data": {
      "application/vnd.jupyter.widget-view+json": {
       "model_id": "962338123e1e4575b5a987bd4ac98ecd",
       "version_major": 2,
       "version_minor": 0
      },
      "text/plain": [
       "  0%|          | 0/8 [00:00<?, ?it/s]"
      ]
     },
     "metadata": {},
     "output_type": "display_data"
    },
    {
     "name": "stdout",
     "output_type": "stream",
     "text": [
      "D10E7: -29690.999999988588\n",
      "\n"
     ]
    },
    {
     "data": {
      "application/vnd.jupyter.widget-view+json": {
       "model_id": "f9a9e00ea31a47b19b51a72d6b3f7113",
       "version_major": 2,
       "version_minor": 0
      },
      "text/plain": [
       "  0%|          | 0/8 [00:00<?, ?it/s]"
      ]
     },
     "metadata": {},
     "output_type": "display_data"
    },
    {
     "name": "stdout",
     "output_type": "stream",
     "text": [
      "D12: -30194.0000000003\n",
      "\n"
     ]
    },
    {
     "data": {
      "application/vnd.jupyter.widget-view+json": {
       "model_id": "c2ff5f5b6f3e433b89d1d53daeac0f95",
       "version_major": 2,
       "version_minor": 0
      },
      "text/plain": [
       "  0%|          | 0/8 [00:00<?, ?it/s]"
      ]
     },
     "metadata": {},
     "output_type": "display_data"
    },
    {
     "name": "stdout",
     "output_type": "stream",
     "text": [
      "D16E8: -30220.000000006014\n",
      "\n"
     ]
    },
    {
     "data": {
      "application/vnd.jupyter.widget-view+json": {
       "model_id": "29289383ec8245469ce6c7a078a43ce4",
       "version_major": 2,
       "version_minor": 0
      },
      "text/plain": [
       "  0%|          | 0/8 [00:00<?, ?it/s]"
      ]
     },
     "metadata": {},
     "output_type": "display_data"
    },
    {
     "name": "stdout",
     "output_type": "stream",
     "text": [
      "D24: -30473.00000000089\n",
      "\n"
     ]
    }
   ],
   "source": [
    "for key in tqdm(deep_hole_dict):\n",
    "    deep_hole = deep_hole_dict[key][0]\n",
    "    total_sum = 0\n",
    "    factor = (1/4) * np.pi *(1/deep_hole_dict[key][1])   \n",
    "    for array in tqdm(shape_arrays):\n",
    "        for i in range(0,array.shape[0],chunk_size):\n",
    "            result = np.dot(array[i:i + chunk_size, :], deep_hole)\n",
    "            result_scaled = factor* result\n",
    "            result_cos = np.cos(result_scaled)\n",
    "            total_sum = total_sum + np.sum(result_cos)\n",
    "    print(f\"{key}: {total_sum}\")\n",
    "    print(\"\")"
   ]
  },
  {
   "cell_type": "code",
   "execution_count": null,
   "metadata": {},
   "outputs": [],
   "source": [
    "del memmap_array1\n",
    "del memmap_array2\n",
    "del memmap_array3\n",
    "del memmap_array4\n",
    "del memmap_array5\n",
    "del memmap_array6\n",
    "del memmap_array7\n",
    "del memmap_array8"
   ]
  }
 ],
 "metadata": {
  "kernelspec": {
   "display_name": "SageMath 9.3",
   "language": "sage",
   "name": "sagemath"
  },
  "language_info": {
   "codemirror_mode": {
    "name": "ipython",
    "version": 3
   },
   "file_extension": ".py",
   "mimetype": "text/x-python",
   "name": "python",
   "nbconvert_exporter": "python",
   "pygments_lexer": "ipython3",
   "version": "3.7.10"
  },
  "widgets": {
   "application/vnd.jupyter.widget-state+json": {
    "state": {
     "0004f5b64979497998a071bc2c8a2623": {
      "model_module": "@jupyter-widgets/base",
      "model_module_version": "1.2.0",
      "model_name": "LayoutModel",
      "state": {}
     },
     "0045fed1133c40df893abbfbf4f1587d": {
      "model_module": "@jupyter-widgets/base",
      "model_module_version": "1.2.0",
      "model_name": "LayoutModel",
      "state": {}
     },
     "00a679f7a94b45848e690f1a639edc58": {
      "model_module": "@jupyter-widgets/base",
      "model_module_version": "1.2.0",
      "model_name": "LayoutModel",
      "state": {}
     },
     "00a83204a1424391b7d4b2acf45bb8cb": {
      "model_module": "@jupyter-widgets/controls",
      "model_module_version": "1.5.0",
      "model_name": "FloatProgressModel",
      "state": {
       "bar_style": "success",
       "layout": "IPY_MODEL_afb9ca8ec9c743f4994d0c3b3a3ffee0",
       "max": 8,
       "style": "IPY_MODEL_7ea31b849f88485eb2d627b702e2166c",
       "value": 8
      }
     },
     "01718f79ae72484d8da7261f279528fb": {
      "model_module": "@jupyter-widgets/base",
      "model_module_version": "1.2.0",
      "model_name": "LayoutModel",
      "state": {}
     },
     "0204d47eef5546bab940de0f239f8c18": {
      "model_module": "@jupyter-widgets/controls",
      "model_module_version": "1.5.0",
      "model_name": "HTMLModel",
      "state": {
       "layout": "IPY_MODEL_25dc1d85193e450b83abef2371ffaaed",
       "style": "IPY_MODEL_de11d5e1b54d4b72a8a19c9dd8ebc4e0",
       "value": " 8/8 [11:06&lt;00:00, 70.36s/it]"
      }
     },
     "024f7c7b95fa41129849dfd52c70195a": {
      "model_module": "@jupyter-widgets/controls",
      "model_module_version": "1.5.0",
      "model_name": "DescriptionStyleModel",
      "state": {
       "description_width": ""
      }
     },
     "025602a962c74af98eae695637ab7738": {
      "model_module": "@jupyter-widgets/controls",
      "model_module_version": "1.5.0",
      "model_name": "DescriptionStyleModel",
      "state": {
       "description_width": ""
      }
     },
     "03c46fcac8ee4caeb575053d8416c31c": {
      "model_module": "@jupyter-widgets/controls",
      "model_module_version": "1.5.0",
      "model_name": "ProgressStyleModel",
      "state": {
       "description_width": ""
      }
     },
     "0532e82a020541c283486495d409fbf2": {
      "model_module": "@jupyter-widgets/controls",
      "model_module_version": "1.5.0",
      "model_name": "HTMLModel",
      "state": {
       "layout": "IPY_MODEL_53b17feeeb8e4594b4b3abb1835e082a",
       "style": "IPY_MODEL_1aa01af8489645f4a09a465df2b444ce",
       "value": " 23/23 [00:00&lt;00:00, 46.63it/s]"
      }
     },
     "059c62e4f2924779a57bb98efaf76851": {
      "model_module": "@jupyter-widgets/controls",
      "model_module_version": "1.5.0",
      "model_name": "DescriptionStyleModel",
      "state": {
       "description_width": ""
      }
     },
     "05c349ada11b474eb98e8de3c18018f4": {
      "model_module": "@jupyter-widgets/controls",
      "model_module_version": "1.5.0",
      "model_name": "FloatProgressModel",
      "state": {
       "bar_style": "success",
       "layout": "IPY_MODEL_d87f524c6c294cf2973d65cb92e4285b",
       "max": 23,
       "style": "IPY_MODEL_62fc5603f24f432187d34704e29cc864",
       "value": 23
      }
     },
     "08f34de3d279461f9b361c78c148fdc0": {
      "model_module": "@jupyter-widgets/controls",
      "model_module_version": "1.5.0",
      "model_name": "DescriptionStyleModel",
      "state": {
       "description_width": ""
      }
     },
     "09ebcc1a4fbc467ab2b332318676a05d": {
      "model_module": "@jupyter-widgets/base",
      "model_module_version": "1.2.0",
      "model_name": "LayoutModel",
      "state": {}
     },
     "0b0c0b259dea495f849d40ed645265d3": {
      "model_module": "@jupyter-widgets/base",
      "model_module_version": "1.2.0",
      "model_name": "LayoutModel",
      "state": {}
     },
     "0c09a2dcfc1e419fa886a5bd40f6b0d8": {
      "model_module": "@jupyter-widgets/base",
      "model_module_version": "1.2.0",
      "model_name": "LayoutModel",
      "state": {}
     },
     "0cb22c9519f041d5ad33d219f56338de": {
      "model_module": "@jupyter-widgets/base",
      "model_module_version": "1.2.0",
      "model_name": "LayoutModel",
      "state": {}
     },
     "0ccbe23650e64788a50363ec250a758f": {
      "model_module": "@jupyter-widgets/controls",
      "model_module_version": "1.5.0",
      "model_name": "DescriptionStyleModel",
      "state": {
       "description_width": ""
      }
     },
     "0e4688b19715414086ce815d68fe7036": {
      "model_module": "@jupyter-widgets/controls",
      "model_module_version": "1.5.0",
      "model_name": "DescriptionStyleModel",
      "state": {
       "description_width": ""
      }
     },
     "0e5c0f615a8147869befbe7caa0a9775": {
      "model_module": "@jupyter-widgets/controls",
      "model_module_version": "1.5.0",
      "model_name": "HTMLModel",
      "state": {
       "layout": "IPY_MODEL_65488b3cbe3048e6a5881e70e2e46b1f",
       "style": "IPY_MODEL_024f7c7b95fa41129849dfd52c70195a",
       "value": "100%"
      }
     },
     "0e86c58648b64f9db0cdcf2d436eb43b": {
      "model_module": "@jupyter-widgets/controls",
      "model_module_version": "1.5.0",
      "model_name": "DescriptionStyleModel",
      "state": {
       "description_width": ""
      }
     },
     "0ff9b0e4a78e4bd88b835731f28d6e74": {
      "model_module": "@jupyter-widgets/base",
      "model_module_version": "1.2.0",
      "model_name": "LayoutModel",
      "state": {}
     },
     "0ffea7293aae4a3f9ff5908ffbe8824f": {
      "model_module": "@jupyter-widgets/base",
      "model_module_version": "1.2.0",
      "model_name": "LayoutModel",
      "state": {}
     },
     "103a5c37a71d42cabeac30b182b782b4": {
      "model_module": "@jupyter-widgets/controls",
      "model_module_version": "1.5.0",
      "model_name": "FloatProgressModel",
      "state": {
       "bar_style": "success",
       "layout": "IPY_MODEL_c105d28f4a4445cfb7691d4f096e1dba",
       "max": 8,
       "style": "IPY_MODEL_207cf6ae7a75407d96a8555b75812945",
       "value": 8
      }
     },
     "10cf7795785d455496bd2289ec001ab8": {
      "model_module": "@jupyter-widgets/base",
      "model_module_version": "1.2.0",
      "model_name": "LayoutModel",
      "state": {}
     },
     "117e115a16984b778eb0a65022c99f37": {
      "model_module": "@jupyter-widgets/controls",
      "model_module_version": "1.5.0",
      "model_name": "FloatProgressModel",
      "state": {
       "bar_style": "success",
       "layout": "IPY_MODEL_e169c74401844ce88b5d7b763bf19288",
       "max": 8,
       "style": "IPY_MODEL_cddf81b8029f4df2bbf8326fd0cd4f29",
       "value": 8
      }
     },
     "12bbbf6a0b2346d693412306f16c763e": {
      "model_module": "@jupyter-widgets/base",
      "model_module_version": "1.2.0",
      "model_name": "LayoutModel",
      "state": {}
     },
     "132975a1314644078d98065ef6becb7b": {
      "model_module": "@jupyter-widgets/base",
      "model_module_version": "1.2.0",
      "model_name": "LayoutModel",
      "state": {}
     },
     "13c4d906e9674e5ba1708aa4c5ad74fb": {
      "model_module": "@jupyter-widgets/base",
      "model_module_version": "1.2.0",
      "model_name": "LayoutModel",
      "state": {}
     },
     "146e79916fd04694954c96df05c206c2": {
      "model_module": "@jupyter-widgets/controls",
      "model_module_version": "1.5.0",
      "model_name": "DescriptionStyleModel",
      "state": {
       "description_width": ""
      }
     },
     "1530fbacb59c4cac88997b66e533afed": {
      "model_module": "@jupyter-widgets/base",
      "model_module_version": "1.2.0",
      "model_name": "LayoutModel",
      "state": {}
     },
     "15554ab56bd942ccb786458617c85225": {
      "model_module": "@jupyter-widgets/controls",
      "model_module_version": "1.5.0",
      "model_name": "DescriptionStyleModel",
      "state": {
       "description_width": ""
      }
     },
     "15b3f6664db64b828c71b1cbe21b26f3": {
      "model_module": "@jupyter-widgets/base",
      "model_module_version": "1.2.0",
      "model_name": "LayoutModel",
      "state": {}
     },
     "160a378770534f979116b603ea474c83": {
      "model_module": "@jupyter-widgets/base",
      "model_module_version": "1.2.0",
      "model_name": "LayoutModel",
      "state": {}
     },
     "16dbc2b175ba4201bc81d3dc9fb839b9": {
      "model_module": "@jupyter-widgets/controls",
      "model_module_version": "1.5.0",
      "model_name": "HBoxModel",
      "state": {
       "children": [
        "IPY_MODEL_bb9ddb8803fa4e99817cbfb125502020",
        "IPY_MODEL_3be397ab45084842973ad75ffa96ac80",
        "IPY_MODEL_f8450b8802d04271be5c8ef514a53ec1"
       ],
       "layout": "IPY_MODEL_ad8ab96edc4343a6968cb60307a7f14e"
      }
     },
     "196ebb708a7d404bab79bf2b43b26c44": {
      "model_module": "@jupyter-widgets/controls",
      "model_module_version": "1.5.0",
      "model_name": "FloatProgressModel",
      "state": {
       "bar_style": "danger",
       "layout": "IPY_MODEL_132975a1314644078d98065ef6becb7b",
       "max": 23,
       "style": "IPY_MODEL_41f83ce2fe7140b8b540b3e2af4eea3b"
      }
     },
     "19c87ff815604e4588287cc131226ed3": {
      "model_module": "@jupyter-widgets/base",
      "model_module_version": "1.2.0",
      "model_name": "LayoutModel",
      "state": {}
     },
     "1a58d2b692b14324938e9907e9377e70": {
      "model_module": "@jupyter-widgets/base",
      "model_module_version": "1.2.0",
      "model_name": "LayoutModel",
      "state": {}
     },
     "1a7a80e0b64c4fc9a7c616041496a026": {
      "model_module": "@jupyter-widgets/controls",
      "model_module_version": "1.5.0",
      "model_name": "HBoxModel",
      "state": {
       "children": [
        "IPY_MODEL_ba4bc0dfb31e474ca15f9a6174661db9",
        "IPY_MODEL_32cb8ae4ca20400b8995489b94c9895c",
        "IPY_MODEL_c7bf09025b8d4a358f3b0b0de892be76"
       ],
       "layout": "IPY_MODEL_5ff6637bb82742cd92bbe3c80e56427a"
      }
     },
     "1aa01af8489645f4a09a465df2b444ce": {
      "model_module": "@jupyter-widgets/controls",
      "model_module_version": "1.5.0",
      "model_name": "DescriptionStyleModel",
      "state": {
       "description_width": ""
      }
     },
     "1aa5a4f4c17e41b785ccf5a3835f8c9c": {
      "model_module": "@jupyter-widgets/controls",
      "model_module_version": "1.5.0",
      "model_name": "DescriptionStyleModel",
      "state": {
       "description_width": ""
      }
     },
     "1b19c8e3f6974ca1ae0036efbe43bb4d": {
      "model_module": "@jupyter-widgets/base",
      "model_module_version": "1.2.0",
      "model_name": "LayoutModel",
      "state": {}
     },
     "1b7dd7fb5d214210a2c6d9d3cccafc85": {
      "model_module": "@jupyter-widgets/controls",
      "model_module_version": "1.5.0",
      "model_name": "FloatProgressModel",
      "state": {
       "bar_style": "success",
       "layout": "IPY_MODEL_ab2f75acb2234df5b9eee0b9a754b959",
       "max": 8,
       "style": "IPY_MODEL_5975ecacb31443d690d2bbe49451d0d7",
       "value": 8
      }
     },
     "1bd48652b196412785b5df7c70ac164e": {
      "model_module": "@jupyter-widgets/base",
      "model_module_version": "1.2.0",
      "model_name": "LayoutModel",
      "state": {}
     },
     "1bf2ec2fdfd34aecbee62821e8cbf1c9": {
      "model_module": "@jupyter-widgets/controls",
      "model_module_version": "1.5.0",
      "model_name": "DescriptionStyleModel",
      "state": {
       "description_width": ""
      }
     },
     "1d78b1f820044d7cad6320fd388670de": {
      "model_module": "@jupyter-widgets/controls",
      "model_module_version": "1.5.0",
      "model_name": "HTMLModel",
      "state": {
       "layout": "IPY_MODEL_e5c47bcfb6fe4458aeb285255124f5be",
       "style": "IPY_MODEL_843077120f5143d0a234fdbe4d6c2819",
       "value": "100%"
      }
     },
     "1e313af623a84e09840426362b86784c": {
      "model_module": "@jupyter-widgets/base",
      "model_module_version": "1.2.0",
      "model_name": "LayoutModel",
      "state": {}
     },
     "1ebbd6e8cf2b4025bd135aff95a10a8b": {
      "model_module": "@jupyter-widgets/base",
      "model_module_version": "1.2.0",
      "model_name": "LayoutModel",
      "state": {}
     },
     "1f09208ae7204ecf8d7941ac59e40224": {
      "model_module": "@jupyter-widgets/base",
      "model_module_version": "1.2.0",
      "model_name": "LayoutModel",
      "state": {}
     },
     "207cf6ae7a75407d96a8555b75812945": {
      "model_module": "@jupyter-widgets/controls",
      "model_module_version": "1.5.0",
      "model_name": "ProgressStyleModel",
      "state": {
       "description_width": ""
      }
     },
     "2158d94d3d814e569df224ae71e77ada": {
      "model_module": "@jupyter-widgets/base",
      "model_module_version": "1.2.0",
      "model_name": "LayoutModel",
      "state": {}
     },
     "21f0efd961b5440a8ccf8e631324c796": {
      "model_module": "@jupyter-widgets/controls",
      "model_module_version": "1.5.0",
      "model_name": "HTMLModel",
      "state": {
       "layout": "IPY_MODEL_3886d9556ed44975b5b07b4e60862df6",
       "style": "IPY_MODEL_41a54f45cbd3441187a0f798b568eaed",
       "value": " 23/23 [00:00&lt;00:00, 46.94it/s]"
      }
     },
     "2205a400ef46473ab0b668a70be4ba99": {
      "model_module": "@jupyter-widgets/controls",
      "model_module_version": "1.5.0",
      "model_name": "FloatProgressModel",
      "state": {
       "bar_style": "danger",
       "layout": "IPY_MODEL_3d6d552831a14b7ba4b0b5f24b1312ea",
       "max": 23,
       "style": "IPY_MODEL_aa10011a06104d209f19e85b2323dfff",
       "value": 2
      }
     },
     "221fc319d28f4b099d82c74448084196": {
      "model_module": "@jupyter-widgets/controls",
      "model_module_version": "1.5.0",
      "model_name": "FloatProgressModel",
      "state": {
       "bar_style": "success",
       "layout": "IPY_MODEL_83bcf083a7f44e38920353b6ee2cf7aa",
       "max": 8,
       "style": "IPY_MODEL_44887bf74f14459db865a28c060928f8",
       "value": 8
      }
     },
     "23637dc88f1d4b90b59b390d77af22f8": {
      "model_module": "@jupyter-widgets/controls",
      "model_module_version": "1.5.0",
      "model_name": "ProgressStyleModel",
      "state": {
       "description_width": ""
      }
     },
     "2378435e27654b939302d67607d9dc7f": {
      "model_module": "@jupyter-widgets/base",
      "model_module_version": "1.2.0",
      "model_name": "LayoutModel",
      "state": {}
     },
     "239d65ee94a5408e9512c4a29da1571d": {
      "model_module": "@jupyter-widgets/base",
      "model_module_version": "1.2.0",
      "model_name": "LayoutModel",
      "state": {}
     },
     "24889dbd7f884440ad1922faf9e1747b": {
      "model_module": "@jupyter-widgets/controls",
      "model_module_version": "1.5.0",
      "model_name": "FloatProgressModel",
      "state": {
       "bar_style": "success",
       "layout": "IPY_MODEL_09ebcc1a4fbc467ab2b332318676a05d",
       "max": 8,
       "style": "IPY_MODEL_5d15f8588c7b4da4aeba4138563ae1f3",
       "value": 8
      }
     },
     "25dc1d85193e450b83abef2371ffaaed": {
      "model_module": "@jupyter-widgets/base",
      "model_module_version": "1.2.0",
      "model_name": "LayoutModel",
      "state": {}
     },
     "265305a7b4a04e9aa9472b84142f8140": {
      "model_module": "@jupyter-widgets/controls",
      "model_module_version": "1.5.0",
      "model_name": "HTMLModel",
      "state": {
       "layout": "IPY_MODEL_0ffea7293aae4a3f9ff5908ffbe8824f",
       "style": "IPY_MODEL_dd3b6245b6e8477498b7746d2fce75e6",
       "value": "100%"
      }
     },
     "27780e0ff7ae4928b3aa1d8d9e321904": {
      "model_module": "@jupyter-widgets/controls",
      "model_module_version": "1.5.0",
      "model_name": "HBoxModel",
      "state": {
       "children": [
        "IPY_MODEL_acb0ab3131974c7d92853ab706632ba3",
        "IPY_MODEL_df1cc09fcbf34694bb6a524d0e3f5960",
        "IPY_MODEL_8aa95bacdb804d8c9118d7be287f00ea"
       ],
       "layout": "IPY_MODEL_0b0c0b259dea495f849d40ed645265d3"
      }
     },
     "29289383ec8245469ce6c7a078a43ce4": {
      "model_module": "@jupyter-widgets/controls",
      "model_module_version": "1.5.0",
      "model_name": "HBoxModel",
      "state": {
       "children": [
        "IPY_MODEL_3f9aec9bb81c4325be265b62956424b4",
        "IPY_MODEL_7e77af01f8de4b0d8362de5e94e09d5c",
        "IPY_MODEL_29c29549017344e7a13fc4b5642aa9de"
       ],
       "layout": "IPY_MODEL_1b19c8e3f6974ca1ae0036efbe43bb4d"
      }
     },
     "29c29549017344e7a13fc4b5642aa9de": {
      "model_module": "@jupyter-widgets/controls",
      "model_module_version": "1.5.0",
      "model_name": "HTMLModel",
      "state": {
       "layout": "IPY_MODEL_effefbdd79c244f28fe4e659334de93f",
       "style": "IPY_MODEL_d7c4390afdc24f47bc8af8b74cc08876",
       "value": " 8/8 [12:32&lt;00:00, 77.18s/it]"
      }
     },
     "2a15079034f54fb18dec2648cdfb70b0": {
      "model_module": "@jupyter-widgets/controls",
      "model_module_version": "1.5.0",
      "model_name": "DescriptionStyleModel",
      "state": {
       "description_width": ""
      }
     },
     "2b4938f74eb54bb99b236b4428c334dc": {
      "model_module": "@jupyter-widgets/controls",
      "model_module_version": "1.5.0",
      "model_name": "DescriptionStyleModel",
      "state": {
       "description_width": ""
      }
     },
     "2b89eb1a151e4b1eaa56b35f6fb75b38": {
      "model_module": "@jupyter-widgets/base",
      "model_module_version": "1.2.0",
      "model_name": "LayoutModel",
      "state": {}
     },
     "2c22bb9f99a44bbe81b070746acbe1cb": {
      "model_module": "@jupyter-widgets/base",
      "model_module_version": "1.2.0",
      "model_name": "LayoutModel",
      "state": {}
     },
     "2c5b4d6b02a146128bea7ebd32daab29": {
      "model_module": "@jupyter-widgets/controls",
      "model_module_version": "1.5.0",
      "model_name": "HTMLModel",
      "state": {
       "layout": "IPY_MODEL_753297609d344a38af2ecf7b583e6b56",
       "style": "IPY_MODEL_08f34de3d279461f9b361c78c148fdc0",
       "value": " 8/8 [11:58&lt;00:00, 77.25s/it]"
      }
     },
     "2cd88f7244cc4637b8e1eeb278b4524b": {
      "model_module": "@jupyter-widgets/base",
      "model_module_version": "1.2.0",
      "model_name": "LayoutModel",
      "state": {}
     },
     "2db7d41f8d58423ea6273ba72ad4711a": {
      "model_module": "@jupyter-widgets/controls",
      "model_module_version": "1.5.0",
      "model_name": "HTMLModel",
      "state": {
       "layout": "IPY_MODEL_9b1f1874851344d89adf6fe124dddb5e",
       "style": "IPY_MODEL_5215ef107d104f0393252297e2bfced9",
       "value": "100%"
      }
     },
     "2dc782abecc54b2d875ea8b4e1a6ad17": {
      "model_module": "@jupyter-widgets/controls",
      "model_module_version": "1.5.0",
      "model_name": "HTMLModel",
      "state": {
       "layout": "IPY_MODEL_90c64eaa169045279d11d51e952c94aa",
       "style": "IPY_MODEL_8204c615c9e7486888b4c4f8c46d450e",
       "value": "100%"
      }
     },
     "2eeb5ca834864b1e839a2f5cd040e480": {
      "model_module": "@jupyter-widgets/controls",
      "model_module_version": "1.5.0",
      "model_name": "DescriptionStyleModel",
      "state": {
       "description_width": ""
      }
     },
     "2fa58f04f502456a8c0f0f03cfd1f1c7": {
      "model_module": "@jupyter-widgets/controls",
      "model_module_version": "1.5.0",
      "model_name": "HBoxModel",
      "state": {
       "children": [
        "IPY_MODEL_ce6eb5e093504a2b917e0ffae03e8de1",
        "IPY_MODEL_ecd0ca55218f48bfb09aafbdf7e581d8",
        "IPY_MODEL_f1050ef730914114b90efd4fc5c19c47"
       ],
       "layout": "IPY_MODEL_4d8efaffa7d84e75bf893aa776751f91"
      }
     },
     "2fbde30752c744c9a0c3c8a1c9f54ab2": {
      "model_module": "@jupyter-widgets/controls",
      "model_module_version": "1.5.0",
      "model_name": "HTMLModel",
      "state": {
       "layout": "IPY_MODEL_7e5e2d9251cd4c56843012f90b04a138",
       "style": "IPY_MODEL_906311e9b7404394825592055caf3b8c",
       "value": " 23/23 [00:00&lt;00:00, 44.84it/s]"
      }
     },
     "31f825c3f27146f2a83902276b4f54f6": {
      "model_module": "@jupyter-widgets/base",
      "model_module_version": "1.2.0",
      "model_name": "LayoutModel",
      "state": {}
     },
     "320dc4baca7842c1bc7d147bb9127491": {
      "model_module": "@jupyter-widgets/controls",
      "model_module_version": "1.5.0",
      "model_name": "DescriptionStyleModel",
      "state": {
       "description_width": ""
      }
     },
     "322be54f824e4402acf6d0db4a8e2fd7": {
      "model_module": "@jupyter-widgets/controls",
      "model_module_version": "1.5.0",
      "model_name": "ProgressStyleModel",
      "state": {
       "description_width": ""
      }
     },
     "32cb8ae4ca20400b8995489b94c9895c": {
      "model_module": "@jupyter-widgets/controls",
      "model_module_version": "1.5.0",
      "model_name": "FloatProgressModel",
      "state": {
       "bar_style": "success",
       "layout": "IPY_MODEL_00a679f7a94b45848e690f1a639edc58",
       "max": 8,
       "style": "IPY_MODEL_44bf1f30bf654c2397e65e7a1c74daf0",
       "value": 8
      }
     },
     "331d25ff2f444323aa3beb65df2ed1f3": {
      "model_module": "@jupyter-widgets/controls",
      "model_module_version": "1.5.0",
      "model_name": "HTMLModel",
      "state": {
       "layout": "IPY_MODEL_811612fbb7dc414ba586ded908ad6213",
       "style": "IPY_MODEL_146e79916fd04694954c96df05c206c2",
       "value": " 8/8 [17:41&lt;00:00, 94.31s/it]"
      }
     },
     "346b8f8dcfa74dfc9cc9a2f7215ef51c": {
      "model_module": "@jupyter-widgets/controls",
      "model_module_version": "1.5.0",
      "model_name": "HBoxModel",
      "state": {
       "children": [
        "IPY_MODEL_57ad87a3aef14bd099e644f7fa87fa75",
        "IPY_MODEL_bdeb55a3718f499b87ca36adb5f27c8b",
        "IPY_MODEL_0204d47eef5546bab940de0f239f8c18"
       ],
       "layout": "IPY_MODEL_57d2e94ac40144d8989d17f8dcfdd973"
      }
     },
     "34c9f3586b154ba5a76a44368d2dbea0": {
      "model_module": "@jupyter-widgets/controls",
      "model_module_version": "1.5.0",
      "model_name": "HBoxModel",
      "state": {
       "children": [
        "IPY_MODEL_68a7270697e443a1881802716cf38ad4",
        "IPY_MODEL_6eeb05061d0343589f199d3b1f78843b",
        "IPY_MODEL_53c2a17532ae453f9b46066295063f27"
       ],
       "layout": "IPY_MODEL_01718f79ae72484d8da7261f279528fb"
      }
     },
     "35e638b83b964482ba6ab115a75a9162": {
      "model_module": "@jupyter-widgets/controls",
      "model_module_version": "1.5.0",
      "model_name": "ProgressStyleModel",
      "state": {
       "description_width": ""
      }
     },
     "3886d9556ed44975b5b07b4e60862df6": {
      "model_module": "@jupyter-widgets/base",
      "model_module_version": "1.2.0",
      "model_name": "LayoutModel",
      "state": {}
     },
     "39dae88c4fb74988a80a371295692e8c": {
      "model_module": "@jupyter-widgets/base",
      "model_module_version": "1.2.0",
      "model_name": "LayoutModel",
      "state": {}
     },
     "3a97592c395541839e746454f85de017": {
      "model_module": "@jupyter-widgets/controls",
      "model_module_version": "1.5.0",
      "model_name": "HBoxModel",
      "state": {
       "children": [
        "IPY_MODEL_d47853cead4f4ee4aa3bb144a2f40356",
        "IPY_MODEL_221fc319d28f4b099d82c74448084196",
        "IPY_MODEL_79a1c90ff2ae458c842cf428fedc0a42"
       ],
       "layout": "IPY_MODEL_cc4dea448aab4858839f2a74458422eb"
      }
     },
     "3be397ab45084842973ad75ffa96ac80": {
      "model_module": "@jupyter-widgets/controls",
      "model_module_version": "1.5.0",
      "model_name": "FloatProgressModel",
      "state": {
       "bar_style": "success",
       "layout": "IPY_MODEL_62ee7a33405149d59f39a98d2406613d",
       "max": 23,
       "style": "IPY_MODEL_322be54f824e4402acf6d0db4a8e2fd7",
       "value": 23
      }
     },
     "3c2bf85fcd7c4b108baf02173d0517ed": {
      "model_module": "@jupyter-widgets/base",
      "model_module_version": "1.2.0",
      "model_name": "LayoutModel",
      "state": {}
     },
     "3d07198176334d839aa036d33cd5d2df": {
      "model_module": "@jupyter-widgets/base",
      "model_module_version": "1.2.0",
      "model_name": "LayoutModel",
      "state": {}
     },
     "3d68900ecbdf4653a7eb044bb88a3403": {
      "model_module": "@jupyter-widgets/base",
      "model_module_version": "1.2.0",
      "model_name": "LayoutModel",
      "state": {}
     },
     "3d6d552831a14b7ba4b0b5f24b1312ea": {
      "model_module": "@jupyter-widgets/base",
      "model_module_version": "1.2.0",
      "model_name": "LayoutModel",
      "state": {}
     },
     "3d73b18b575746cba864ec78d003910c": {
      "model_module": "@jupyter-widgets/controls",
      "model_module_version": "1.5.0",
      "model_name": "HTMLModel",
      "state": {
       "layout": "IPY_MODEL_515ef7a47e594340b8e8e92aecc926ca",
       "style": "IPY_MODEL_6ab823ce8c51468082351e977276d731",
       "value": "100%"
      }
     },
     "3e6951b5bf3c4b41a3cc241fde0b41f4": {
      "model_module": "@jupyter-widgets/base",
      "model_module_version": "1.2.0",
      "model_name": "LayoutModel",
      "state": {}
     },
     "3e73cf19573c4a4ba2f70e98ac807415": {
      "model_module": "@jupyter-widgets/base",
      "model_module_version": "1.2.0",
      "model_name": "LayoutModel",
      "state": {}
     },
     "3ea75f527adf4f9d89441a304774390c": {
      "model_module": "@jupyter-widgets/controls",
      "model_module_version": "1.5.0",
      "model_name": "FloatProgressModel",
      "state": {
       "bar_style": "success",
       "layout": "IPY_MODEL_5556c0a872cd43a8acfd6ee0b5dc06b3",
       "max": 8,
       "style": "IPY_MODEL_6b81df56023d4d50a5c13fd486e3837c",
       "value": 8
      }
     },
     "3f2b6dad1ee74fa08088c98ea2bf3416": {
      "model_module": "@jupyter-widgets/base",
      "model_module_version": "1.2.0",
      "model_name": "LayoutModel",
      "state": {}
     },
     "3f9aec9bb81c4325be265b62956424b4": {
      "model_module": "@jupyter-widgets/controls",
      "model_module_version": "1.5.0",
      "model_name": "HTMLModel",
      "state": {
       "layout": "IPY_MODEL_bfa8353736a14a328f0c3d03dee0b7b4",
       "style": "IPY_MODEL_0ccbe23650e64788a50363ec250a758f",
       "value": "100%"
      }
     },
     "4153cf39b6a248cda4af05fa3bbb42bc": {
      "model_module": "@jupyter-widgets/controls",
      "model_module_version": "1.5.0",
      "model_name": "HTMLModel",
      "state": {
       "layout": "IPY_MODEL_5fa50ae88bdd47cca20b4e47bdeaecc2",
       "style": "IPY_MODEL_db9af693ce7949219a8422f682557a0a",
       "value": "100%"
      }
     },
     "41647e28888843baa8ab1955208f81a6": {
      "model_module": "@jupyter-widgets/base",
      "model_module_version": "1.2.0",
      "model_name": "LayoutModel",
      "state": {}
     },
     "41733d8470bf44dc9a9f38ba633f3b5e": {
      "model_module": "@jupyter-widgets/controls",
      "model_module_version": "1.5.0",
      "model_name": "HBoxModel",
      "state": {
       "children": [
        "IPY_MODEL_4153cf39b6a248cda4af05fa3bbb42bc",
        "IPY_MODEL_53e3b847439b42c1a8bfd846bdd3e056",
        "IPY_MODEL_bbfcf33c85b14836b49dd31889fcc300"
       ],
       "layout": "IPY_MODEL_1f09208ae7204ecf8d7941ac59e40224"
      }
     },
     "41a54f45cbd3441187a0f798b568eaed": {
      "model_module": "@jupyter-widgets/controls",
      "model_module_version": "1.5.0",
      "model_name": "DescriptionStyleModel",
      "state": {
       "description_width": ""
      }
     },
     "41b31c1eedaa48788f0571ca3561bfde": {
      "model_module": "@jupyter-widgets/controls",
      "model_module_version": "1.5.0",
      "model_name": "HTMLModel",
      "state": {
       "layout": "IPY_MODEL_e855e06ee76c46e4924436fec1d2d007",
       "style": "IPY_MODEL_6d1c56de00a54221b2a4132fd3d8dde6",
       "value": " 8/8 [05:27&lt;00:00, 36.00s/it]"
      }
     },
     "41b4100b21f44b16b90d462f33f5a359": {
      "model_module": "@jupyter-widgets/controls",
      "model_module_version": "1.5.0",
      "model_name": "HBoxModel",
      "state": {
       "children": [
        "IPY_MODEL_5052088ba0644682add33708b65a04ea",
        "IPY_MODEL_9c8c7c15f54041c987a798c56d732b05",
        "IPY_MODEL_57545cdd410f4dee87fb1592a0164f41"
       ],
       "layout": "IPY_MODEL_8126c46932344d7583939d9676ceb640"
      }
     },
     "41f83ce2fe7140b8b540b3e2af4eea3b": {
      "model_module": "@jupyter-widgets/controls",
      "model_module_version": "1.5.0",
      "model_name": "ProgressStyleModel",
      "state": {
       "description_width": ""
      }
     },
     "42249d7206124370bae29034fcd9ec03": {
      "model_module": "@jupyter-widgets/controls",
      "model_module_version": "1.5.0",
      "model_name": "ProgressStyleModel",
      "state": {
       "description_width": ""
      }
     },
     "4262f7d285b24fb5bad8ceb857ca62ab": {
      "model_module": "@jupyter-widgets/controls",
      "model_module_version": "1.5.0",
      "model_name": "FloatProgressModel",
      "state": {
       "bar_style": "success",
       "layout": "IPY_MODEL_0004f5b64979497998a071bc2c8a2623",
       "max": 8,
       "style": "IPY_MODEL_d4de5311764a482fb2b9da73bae6333b",
       "value": 8
      }
     },
     "4281c336e0d645debd5b73804ebdf522": {
      "model_module": "@jupyter-widgets/controls",
      "model_module_version": "1.5.0",
      "model_name": "HBoxModel",
      "state": {
       "children": [
        "IPY_MODEL_6b894b05d7ed4093b7313ac6b5aad490",
        "IPY_MODEL_fc5c84bff1674114a29c544a7b185223",
        "IPY_MODEL_2c5b4d6b02a146128bea7ebd32daab29"
       ],
       "layout": "IPY_MODEL_ecdd27d113204ffab42c0423fa508093"
      }
     },
     "43bf2b23dd0a49d5a6c3a246cb01ac57": {
      "model_module": "@jupyter-widgets/controls",
      "model_module_version": "1.5.0",
      "model_name": "HTMLModel",
      "state": {
       "layout": "IPY_MODEL_dcd9bdad911d4beebe823caf44c1d6ed",
       "style": "IPY_MODEL_bd31ad392d6d480a902b578060288ea2",
       "value": " 8/8 [15:09&lt;00:00, 100.31s/it]"
      }
     },
     "445183dc98054274a5e24889ff2be388": {
      "model_module": "@jupyter-widgets/controls",
      "model_module_version": "1.5.0",
      "model_name": "HTMLModel",
      "state": {
       "layout": "IPY_MODEL_c426490e89ad47abb6a7e2bc7d672e73",
       "style": "IPY_MODEL_5df7d80d66594f259efb2b795e726d07",
       "value": "100%"
      }
     },
     "4462ac82264b41d697c62284610e1291": {
      "model_module": "@jupyter-widgets/controls",
      "model_module_version": "1.5.0",
      "model_name": "DescriptionStyleModel",
      "state": {
       "description_width": ""
      }
     },
     "44887bf74f14459db865a28c060928f8": {
      "model_module": "@jupyter-widgets/controls",
      "model_module_version": "1.5.0",
      "model_name": "ProgressStyleModel",
      "state": {
       "description_width": ""
      }
     },
     "44bf1f30bf654c2397e65e7a1c74daf0": {
      "model_module": "@jupyter-widgets/controls",
      "model_module_version": "1.5.0",
      "model_name": "ProgressStyleModel",
      "state": {
       "description_width": ""
      }
     },
     "44edb93782ee4a599fc5d84a83114130": {
      "model_module": "@jupyter-widgets/controls",
      "model_module_version": "1.5.0",
      "model_name": "HTMLModel",
      "state": {
       "layout": "IPY_MODEL_7ba44b457fd54f06bfe697625fd57300",
       "style": "IPY_MODEL_faa5264b99be4f728dab520be7885d6c",
       "value": "100%"
      }
     },
     "453242c10c184e12b1092efa5e389602": {
      "model_module": "@jupyter-widgets/base",
      "model_module_version": "1.2.0",
      "model_name": "LayoutModel",
      "state": {}
     },
     "45899eb67f5f435d81490aed128648c7": {
      "model_module": "@jupyter-widgets/controls",
      "model_module_version": "1.5.0",
      "model_name": "HBoxModel",
      "state": {
       "children": [
        "IPY_MODEL_2dc782abecc54b2d875ea8b4e1a6ad17",
        "IPY_MODEL_3ea75f527adf4f9d89441a304774390c",
        "IPY_MODEL_ae6adb62d907456387174a5743dea4a2"
       ],
       "layout": "IPY_MODEL_6e105f9bca44424f9eab73c6077d512c"
      }
     },
     "4624081b60ec4bb79f854044130fd325": {
      "model_module": "@jupyter-widgets/controls",
      "model_module_version": "1.5.0",
      "model_name": "DescriptionStyleModel",
      "state": {
       "description_width": ""
      }
     },
     "48fc1f54c0684eec96f20e318ebf1342": {
      "model_module": "@jupyter-widgets/controls",
      "model_module_version": "1.5.0",
      "model_name": "DescriptionStyleModel",
      "state": {
       "description_width": ""
      }
     },
     "4b78c3b9e6504e1992252d457426d007": {
      "model_module": "@jupyter-widgets/controls",
      "model_module_version": "1.5.0",
      "model_name": "HTMLModel",
      "state": {
       "layout": "IPY_MODEL_0ff9b0e4a78e4bd88b835731f28d6e74",
       "style": "IPY_MODEL_2eeb5ca834864b1e839a2f5cd040e480",
       "value": " 1/8 [04:29&lt;04:11, 35.92s/it]"
      }
     },
     "4ca3e69db78049f2b5b2552c5710a4b2": {
      "model_module": "@jupyter-widgets/base",
      "model_module_version": "1.2.0",
      "model_name": "LayoutModel",
      "state": {}
     },
     "4ce8bd5f143c425d870060599e4b12f0": {
      "model_module": "@jupyter-widgets/controls",
      "model_module_version": "1.5.0",
      "model_name": "HTMLModel",
      "state": {
       "layout": "IPY_MODEL_8a3b95cd4a244088abff115d33713d1d",
       "style": "IPY_MODEL_a57c984649db44e2b25645bde47dcb90",
       "value": "100%"
      }
     },
     "4d1c2d0f8ca643be9110f58c6d157054": {
      "model_module": "@jupyter-widgets/base",
      "model_module_version": "1.2.0",
      "model_name": "LayoutModel",
      "state": {}
     },
     "4d683bd85363443a9648032569434a87": {
      "model_module": "@jupyter-widgets/controls",
      "model_module_version": "1.5.0",
      "model_name": "DescriptionStyleModel",
      "state": {
       "description_width": ""
      }
     },
     "4d8efaffa7d84e75bf893aa776751f91": {
      "model_module": "@jupyter-widgets/base",
      "model_module_version": "1.2.0",
      "model_name": "LayoutModel",
      "state": {}
     },
     "4e81844d083348aca8204644b6582040": {
      "model_module": "@jupyter-widgets/base",
      "model_module_version": "1.2.0",
      "model_name": "LayoutModel",
      "state": {}
     },
     "4f4bffa03b6a471a8721e656a36f45d3": {
      "model_module": "@jupyter-widgets/controls",
      "model_module_version": "1.5.0",
      "model_name": "DescriptionStyleModel",
      "state": {
       "description_width": ""
      }
     },
     "4f916e812cb8429ea36841dcd4e32c0b": {
      "model_module": "@jupyter-widgets/controls",
      "model_module_version": "1.5.0",
      "model_name": "DescriptionStyleModel",
      "state": {
       "description_width": ""
      }
     },
     "4fbac9f98c2d49c5a878cdeb513baf6e": {
      "model_module": "@jupyter-widgets/base",
      "model_module_version": "1.2.0",
      "model_name": "LayoutModel",
      "state": {}
     },
     "5052088ba0644682add33708b65a04ea": {
      "model_module": "@jupyter-widgets/controls",
      "model_module_version": "1.5.0",
      "model_name": "HTMLModel",
      "state": {
       "layout": "IPY_MODEL_4ca3e69db78049f2b5b2552c5710a4b2",
       "style": "IPY_MODEL_b25139e4a5b642378a9128090b58e20c",
       "value": "100%"
      }
     },
     "505580a8c85c4862bd0c8db4f2d26566": {
      "model_module": "@jupyter-widgets/controls",
      "model_module_version": "1.5.0",
      "model_name": "DescriptionStyleModel",
      "state": {
       "description_width": ""
      }
     },
     "51147cf1946c44f5be8fb056dda4c69e": {
      "model_module": "@jupyter-widgets/controls",
      "model_module_version": "1.5.0",
      "model_name": "HTMLModel",
      "state": {
       "layout": "IPY_MODEL_41647e28888843baa8ab1955208f81a6",
       "style": "IPY_MODEL_e4e384be55a54a69a716aff7e31dda32",
       "value": " 8/8 [05:30&lt;00:00, 36.96s/it]"
      }
     },
     "515ef7a47e594340b8e8e92aecc926ca": {
      "model_module": "@jupyter-widgets/base",
      "model_module_version": "1.2.0",
      "model_name": "LayoutModel",
      "state": {}
     },
     "5215ef107d104f0393252297e2bfced9": {
      "model_module": "@jupyter-widgets/controls",
      "model_module_version": "1.5.0",
      "model_name": "DescriptionStyleModel",
      "state": {
       "description_width": ""
      }
     },
     "53b17feeeb8e4594b4b3abb1835e082a": {
      "model_module": "@jupyter-widgets/base",
      "model_module_version": "1.2.0",
      "model_name": "LayoutModel",
      "state": {}
     },
     "53c2a17532ae453f9b46066295063f27": {
      "model_module": "@jupyter-widgets/controls",
      "model_module_version": "1.5.0",
      "model_name": "HTMLModel",
      "state": {
       "layout": "IPY_MODEL_90aad20c8fd2496187508a48b51927af",
       "style": "IPY_MODEL_e24a884f78c84612bfc30195b4bac1ff",
       "value": " 23/23 [00:18&lt;00:00,  1.21it/s]"
      }
     },
     "53e3b847439b42c1a8bfd846bdd3e056": {
      "model_module": "@jupyter-widgets/controls",
      "model_module_version": "1.5.0",
      "model_name": "FloatProgressModel",
      "state": {
       "bar_style": "success",
       "layout": "IPY_MODEL_0cb22c9519f041d5ad33d219f56338de",
       "max": 8,
       "style": "IPY_MODEL_d8556ff5b1364480a690b2833b8a3fd6",
       "value": 8
      }
     },
     "5556c0a872cd43a8acfd6ee0b5dc06b3": {
      "model_module": "@jupyter-widgets/base",
      "model_module_version": "1.2.0",
      "model_name": "LayoutModel",
      "state": {}
     },
     "55e74d2547204e719d95ea341665c582": {
      "model_module": "@jupyter-widgets/base",
      "model_module_version": "1.2.0",
      "model_name": "LayoutModel",
      "state": {}
     },
     "56187f2278ab4ca59d99745cb11dcef5": {
      "model_module": "@jupyter-widgets/controls",
      "model_module_version": "1.5.0",
      "model_name": "FloatProgressModel",
      "state": {
       "bar_style": "success",
       "layout": "IPY_MODEL_10cf7795785d455496bd2289ec001ab8",
       "max": 23,
       "style": "IPY_MODEL_6fc1e22e4fad4a24bcb56039487c88ac",
       "value": 23
      }
     },
     "56ef50159a224cc9a7228046c3c04edc": {
      "model_module": "@jupyter-widgets/base",
      "model_module_version": "1.2.0",
      "model_name": "LayoutModel",
      "state": {}
     },
     "57545cdd410f4dee87fb1592a0164f41": {
      "model_module": "@jupyter-widgets/controls",
      "model_module_version": "1.5.0",
      "model_name": "HTMLModel",
      "state": {
       "layout": "IPY_MODEL_56ef50159a224cc9a7228046c3c04edc",
       "style": "IPY_MODEL_808e4e13f50a484b978029281522dc62",
       "value": " 8/8 [11:41&lt;00:00, 74.23s/it]"
      }
     },
     "57ad87a3aef14bd099e644f7fa87fa75": {
      "model_module": "@jupyter-widgets/controls",
      "model_module_version": "1.5.0",
      "model_name": "HTMLModel",
      "state": {
       "layout": "IPY_MODEL_4e81844d083348aca8204644b6582040",
       "style": "IPY_MODEL_ea3c2021ce284ae08a22ffb2d71767d9",
       "value": "100%"
      }
     },
     "57d2e94ac40144d8989d17f8dcfdd973": {
      "model_module": "@jupyter-widgets/base",
      "model_module_version": "1.2.0",
      "model_name": "LayoutModel",
      "state": {}
     },
     "58125fb6cc0e47798207e09a80bcb7f7": {
      "model_module": "@jupyter-widgets/base",
      "model_module_version": "1.2.0",
      "model_name": "LayoutModel",
      "state": {}
     },
     "5975ecacb31443d690d2bbe49451d0d7": {
      "model_module": "@jupyter-widgets/controls",
      "model_module_version": "1.5.0",
      "model_name": "ProgressStyleModel",
      "state": {
       "description_width": ""
      }
     },
     "5a0e496c485c4966be9b8745a2fa733a": {
      "model_module": "@jupyter-widgets/controls",
      "model_module_version": "1.5.0",
      "model_name": "HTMLModel",
      "state": {
       "layout": "IPY_MODEL_6cea22f878b34fb4a0802ecd9fc3b971",
       "style": "IPY_MODEL_6c197f3a08614febbb837fd67163ea75",
       "value": " 8/8 [12:48&lt;00:00, 83.74s/it]"
      }
     },
     "5cf11846387e428b9d3c182083f56292": {
      "model_module": "@jupyter-widgets/controls",
      "model_module_version": "1.5.0",
      "model_name": "ProgressStyleModel",
      "state": {
       "description_width": ""
      }
     },
     "5d15f8588c7b4da4aeba4138563ae1f3": {
      "model_module": "@jupyter-widgets/controls",
      "model_module_version": "1.5.0",
      "model_name": "ProgressStyleModel",
      "state": {
       "description_width": ""
      }
     },
     "5da95650e4734d4e93dbc312bd5baf98": {
      "model_module": "@jupyter-widgets/base",
      "model_module_version": "1.2.0",
      "model_name": "LayoutModel",
      "state": {}
     },
     "5df7d80d66594f259efb2b795e726d07": {
      "model_module": "@jupyter-widgets/controls",
      "model_module_version": "1.5.0",
      "model_name": "DescriptionStyleModel",
      "state": {
       "description_width": ""
      }
     },
     "5dfd47fc0773470f8e85a44c562ec9bb": {
      "model_module": "@jupyter-widgets/controls",
      "model_module_version": "1.5.0",
      "model_name": "HTMLModel",
      "state": {
       "layout": "IPY_MODEL_8959d6b396a24cf1a58653aa6a341ca7",
       "style": "IPY_MODEL_505580a8c85c4862bd0c8db4f2d26566",
       "value": "100%"
      }
     },
     "5fa50ae88bdd47cca20b4e47bdeaecc2": {
      "model_module": "@jupyter-widgets/base",
      "model_module_version": "1.2.0",
      "model_name": "LayoutModel",
      "state": {}
     },
     "5fd2630930874e2f87d56b13f5fb18d1": {
      "model_module": "@jupyter-widgets/controls",
      "model_module_version": "1.5.0",
      "model_name": "ProgressStyleModel",
      "state": {
       "description_width": ""
      }
     },
     "5ff6637bb82742cd92bbe3c80e56427a": {
      "model_module": "@jupyter-widgets/base",
      "model_module_version": "1.2.0",
      "model_name": "LayoutModel",
      "state": {}
     },
     "62ee7a33405149d59f39a98d2406613d": {
      "model_module": "@jupyter-widgets/base",
      "model_module_version": "1.2.0",
      "model_name": "LayoutModel",
      "state": {}
     },
     "62fc5603f24f432187d34704e29cc864": {
      "model_module": "@jupyter-widgets/controls",
      "model_module_version": "1.5.0",
      "model_name": "ProgressStyleModel",
      "state": {
       "description_width": ""
      }
     },
     "65488b3cbe3048e6a5881e70e2e46b1f": {
      "model_module": "@jupyter-widgets/base",
      "model_module_version": "1.2.0",
      "model_name": "LayoutModel",
      "state": {}
     },
     "654d27b549064ba1a67c55c0a8f25a80": {
      "model_module": "@jupyter-widgets/controls",
      "model_module_version": "1.5.0",
      "model_name": "HBoxModel",
      "state": {
       "children": [
        "IPY_MODEL_8bb39483022f4de298bff9080367630a",
        "IPY_MODEL_00a83204a1424391b7d4b2acf45bb8cb",
        "IPY_MODEL_43bf2b23dd0a49d5a6c3a246cb01ac57"
       ],
       "layout": "IPY_MODEL_39dae88c4fb74988a80a371295692e8c"
      }
     },
     "6552b0756be54e8a94da7ca08a2b9632": {
      "model_module": "@jupyter-widgets/controls",
      "model_module_version": "1.5.0",
      "model_name": "DescriptionStyleModel",
      "state": {
       "description_width": ""
      }
     },
     "65624b6054b34e1eb074b4b54300f981": {
      "model_module": "@jupyter-widgets/base",
      "model_module_version": "1.2.0",
      "model_name": "LayoutModel",
      "state": {}
     },
     "65d5e046a302426495378afce17beaab": {
      "model_module": "@jupyter-widgets/controls",
      "model_module_version": "1.5.0",
      "model_name": "HTMLModel",
      "state": {
       "layout": "IPY_MODEL_dfc1785ee7044868bfc1decbd66cf5eb",
       "style": "IPY_MODEL_2b4938f74eb54bb99b236b4428c334dc",
       "value": " 12%"
      }
     },
     "65e90b86f065477eb1cee3717b3858c7": {
      "model_module": "@jupyter-widgets/controls",
      "model_module_version": "1.5.0",
      "model_name": "DescriptionStyleModel",
      "state": {
       "description_width": ""
      }
     },
     "668c30eb8d6446ffbccf7dc22c595a06": {
      "model_module": "@jupyter-widgets/base",
      "model_module_version": "1.2.0",
      "model_name": "LayoutModel",
      "state": {}
     },
     "6745f6e0017748ce81be358ed1e57551": {
      "model_module": "@jupyter-widgets/controls",
      "model_module_version": "1.5.0",
      "model_name": "DescriptionStyleModel",
      "state": {
       "description_width": ""
      }
     },
     "67e7a40e813b44f5b341b16a216f669f": {
      "model_module": "@jupyter-widgets/controls",
      "model_module_version": "1.5.0",
      "model_name": "ProgressStyleModel",
      "state": {
       "description_width": ""
      }
     },
     "68a7270697e443a1881802716cf38ad4": {
      "model_module": "@jupyter-widgets/controls",
      "model_module_version": "1.5.0",
      "model_name": "HTMLModel",
      "state": {
       "layout": "IPY_MODEL_1530fbacb59c4cac88997b66e533afed",
       "style": "IPY_MODEL_da2927beee9c45918786c2e6387eac12",
       "value": "100%"
      }
     },
     "68ab66f041a14868a10dcb7f4d51c372": {
      "model_module": "@jupyter-widgets/base",
      "model_module_version": "1.2.0",
      "model_name": "LayoutModel",
      "state": {}
     },
     "68fe760dc38f4fb097e2cadb303e7237": {
      "model_module": "@jupyter-widgets/controls",
      "model_module_version": "1.5.0",
      "model_name": "HTMLModel",
      "state": {
       "layout": "IPY_MODEL_b87cc8dd98324fe9a82e529949a176ef",
       "style": "IPY_MODEL_15554ab56bd942ccb786458617c85225",
       "value": " 23/23 [00:00&lt;00:00, 47.03it/s]"
      }
     },
     "695332063639469ea11bb0bf53915bbf": {
      "model_module": "@jupyter-widgets/controls",
      "model_module_version": "1.5.0",
      "model_name": "FloatProgressModel",
      "state": {
       "bar_style": "success",
       "layout": "IPY_MODEL_453242c10c184e12b1092efa5e389602",
       "max": 23,
       "style": "IPY_MODEL_bfbc158222284ed190ee4f0227cc8320",
       "value": 23
      }
     },
     "69d8580b12384da0965af3e311ca6cc9": {
      "model_module": "@jupyter-widgets/controls",
      "model_module_version": "1.5.0",
      "model_name": "DescriptionStyleModel",
      "state": {
       "description_width": ""
      }
     },
     "6ab823ce8c51468082351e977276d731": {
      "model_module": "@jupyter-widgets/controls",
      "model_module_version": "1.5.0",
      "model_name": "DescriptionStyleModel",
      "state": {
       "description_width": ""
      }
     },
     "6ad508e95bb04355a6f7db711bd6cdfd": {
      "model_module": "@jupyter-widgets/controls",
      "model_module_version": "1.5.0",
      "model_name": "HTMLModel",
      "state": {
       "layout": "IPY_MODEL_19c87ff815604e4588287cc131226ed3",
       "style": "IPY_MODEL_ed59813b2f2a4737b461ab67ed7fcb65",
       "value": " 8/8 [11:20&lt;00:00, 74.27s/it]"
      }
     },
     "6b81df56023d4d50a5c13fd486e3837c": {
      "model_module": "@jupyter-widgets/controls",
      "model_module_version": "1.5.0",
      "model_name": "ProgressStyleModel",
      "state": {
       "description_width": ""
      }
     },
     "6b894b05d7ed4093b7313ac6b5aad490": {
      "model_module": "@jupyter-widgets/controls",
      "model_module_version": "1.5.0",
      "model_name": "HTMLModel",
      "state": {
       "layout": "IPY_MODEL_b827e601d9f046fcbc5d4bfbd41566f9",
       "style": "IPY_MODEL_f4198bbdb8cc4f439679a012a55c803c",
       "value": "100%"
      }
     },
     "6c197f3a08614febbb837fd67163ea75": {
      "model_module": "@jupyter-widgets/controls",
      "model_module_version": "1.5.0",
      "model_name": "DescriptionStyleModel",
      "state": {
       "description_width": ""
      }
     },
     "6cea22f878b34fb4a0802ecd9fc3b971": {
      "model_module": "@jupyter-widgets/base",
      "model_module_version": "1.2.0",
      "model_name": "LayoutModel",
      "state": {}
     },
     "6d1c56de00a54221b2a4132fd3d8dde6": {
      "model_module": "@jupyter-widgets/controls",
      "model_module_version": "1.5.0",
      "model_name": "DescriptionStyleModel",
      "state": {
       "description_width": ""
      }
     },
     "6e105f9bca44424f9eab73c6077d512c": {
      "model_module": "@jupyter-widgets/base",
      "model_module_version": "1.2.0",
      "model_name": "LayoutModel",
      "state": {}
     },
     "6e5e0e57bcdf4ba6aae6f85a3c4484c7": {
      "model_module": "@jupyter-widgets/base",
      "model_module_version": "1.2.0",
      "model_name": "LayoutModel",
      "state": {}
     },
     "6eeb05061d0343589f199d3b1f78843b": {
      "model_module": "@jupyter-widgets/controls",
      "model_module_version": "1.5.0",
      "model_name": "FloatProgressModel",
      "state": {
       "bar_style": "success",
       "layout": "IPY_MODEL_239d65ee94a5408e9512c4a29da1571d",
       "max": 23,
       "style": "IPY_MODEL_782d2bf56ded4b03b9d176082ec83280",
       "value": 23
      }
     },
     "6fc1e22e4fad4a24bcb56039487c88ac": {
      "model_module": "@jupyter-widgets/controls",
      "model_module_version": "1.5.0",
      "model_name": "ProgressStyleModel",
      "state": {
       "description_width": ""
      }
     },
     "720fa5c5cf6d47fca4d99603414c4bf2": {
      "model_module": "@jupyter-widgets/base",
      "model_module_version": "1.2.0",
      "model_name": "LayoutModel",
      "state": {}
     },
     "752ac0d7048f45b690d35a5824766f22": {
      "model_module": "@jupyter-widgets/controls",
      "model_module_version": "1.5.0",
      "model_name": "DescriptionStyleModel",
      "state": {
       "description_width": ""
      }
     },
     "753297609d344a38af2ecf7b583e6b56": {
      "model_module": "@jupyter-widgets/base",
      "model_module_version": "1.2.0",
      "model_name": "LayoutModel",
      "state": {}
     },
     "75fb21a2e90c4a168baadef91c7a4d33": {
      "model_module": "@jupyter-widgets/base",
      "model_module_version": "1.2.0",
      "model_name": "LayoutModel",
      "state": {}
     },
     "7643ec899bfa4c9ea0c6ac3fa04678b3": {
      "model_module": "@jupyter-widgets/controls",
      "model_module_version": "1.5.0",
      "model_name": "DescriptionStyleModel",
      "state": {
       "description_width": ""
      }
     },
     "76cae3a5ea274530897d291eff2ec7bc": {
      "model_module": "@jupyter-widgets/base",
      "model_module_version": "1.2.0",
      "model_name": "LayoutModel",
      "state": {}
     },
     "7735a8d8a93241f5884d4adcce7ea446": {
      "model_module": "@jupyter-widgets/base",
      "model_module_version": "1.2.0",
      "model_name": "LayoutModel",
      "state": {}
     },
     "7800fa132b9c496ab5dcea131177aa29": {
      "model_module": "@jupyter-widgets/controls",
      "model_module_version": "1.5.0",
      "model_name": "HTMLModel",
      "state": {
       "layout": "IPY_MODEL_15b3f6664db64b828c71b1cbe21b26f3",
       "style": "IPY_MODEL_059c62e4f2924779a57bb98efaf76851",
       "value": " 8/8 [11:59&lt;00:00, 75.25s/it]"
      }
     },
     "782d2bf56ded4b03b9d176082ec83280": {
      "model_module": "@jupyter-widgets/controls",
      "model_module_version": "1.5.0",
      "model_name": "ProgressStyleModel",
      "state": {
       "description_width": ""
      }
     },
     "7844edf253d94f78b7581ed95ecbd367": {
      "model_module": "@jupyter-widgets/base",
      "model_module_version": "1.2.0",
      "model_name": "LayoutModel",
      "state": {}
     },
     "78b0c2b3dbbf4b01bd15c5b108f4f691": {
      "model_module": "@jupyter-widgets/base",
      "model_module_version": "1.2.0",
      "model_name": "LayoutModel",
      "state": {}
     },
     "796a14f1034c493491d10eb4ce25ec22": {
      "model_module": "@jupyter-widgets/controls",
      "model_module_version": "1.5.0",
      "model_name": "HTMLModel",
      "state": {
       "layout": "IPY_MODEL_12bbbf6a0b2346d693412306f16c763e",
       "style": "IPY_MODEL_4f4bffa03b6a471a8721e656a36f45d3",
       "value": "100%"
      }
     },
     "79a1c90ff2ae458c842cf428fedc0a42": {
      "model_module": "@jupyter-widgets/controls",
      "model_module_version": "1.5.0",
      "model_name": "HTMLModel",
      "state": {
       "layout": "IPY_MODEL_13c4d906e9674e5ba1708aa4c5ad74fb",
       "style": "IPY_MODEL_ac0e81db45af404691a1079047b6c2cf",
       "value": " 8/8 [11:57&lt;00:00, 75.90s/it]"
      }
     },
     "79cb99f0d0594af9a14a0e9fb9df2b0b": {
      "model_module": "@jupyter-widgets/controls",
      "model_module_version": "1.5.0",
      "model_name": "HBoxModel",
      "state": {
       "children": [
        "IPY_MODEL_4ce8bd5f143c425d870060599e4b12f0",
        "IPY_MODEL_695332063639469ea11bb0bf53915bbf",
        "IPY_MODEL_c26c53a4870e45dfb415b69533e79b74"
       ],
       "layout": "IPY_MODEL_4fbac9f98c2d49c5a878cdeb513baf6e"
      }
     },
     "7b6db4df4f4e4939aca79104787787e2": {
      "model_module": "@jupyter-widgets/controls",
      "model_module_version": "1.5.0",
      "model_name": "ProgressStyleModel",
      "state": {
       "description_width": ""
      }
     },
     "7ba44b457fd54f06bfe697625fd57300": {
      "model_module": "@jupyter-widgets/base",
      "model_module_version": "1.2.0",
      "model_name": "LayoutModel",
      "state": {}
     },
     "7dcff0b25deb42eea7faff48512133cb": {
      "model_module": "@jupyter-widgets/controls",
      "model_module_version": "1.5.0",
      "model_name": "ProgressStyleModel",
      "state": {
       "description_width": ""
      }
     },
     "7de26230fe2e429982b9943544988303": {
      "model_module": "@jupyter-widgets/base",
      "model_module_version": "1.2.0",
      "model_name": "LayoutModel",
      "state": {}
     },
     "7e19ed87b908407dbe20c7c350e8aac3": {
      "model_module": "@jupyter-widgets/base",
      "model_module_version": "1.2.0",
      "model_name": "LayoutModel",
      "state": {}
     },
     "7e30dd70cde142d89763ed1c3469f7d3": {
      "model_module": "@jupyter-widgets/controls",
      "model_module_version": "1.5.0",
      "model_name": "HBoxModel",
      "state": {
       "children": [
        "IPY_MODEL_445183dc98054274a5e24889ff2be388",
        "IPY_MODEL_a89972d5928a4aed9d7b9c846d9ee00a",
        "IPY_MODEL_afab45b16c9341e1a665676027816a91"
       ],
       "layout": "IPY_MODEL_8f6e251bb59744409d3eb484df678a1b"
      }
     },
     "7e5e2d9251cd4c56843012f90b04a138": {
      "model_module": "@jupyter-widgets/base",
      "model_module_version": "1.2.0",
      "model_name": "LayoutModel",
      "state": {}
     },
     "7e77af01f8de4b0d8362de5e94e09d5c": {
      "model_module": "@jupyter-widgets/controls",
      "model_module_version": "1.5.0",
      "model_name": "FloatProgressModel",
      "state": {
       "bar_style": "success",
       "layout": "IPY_MODEL_ae7dc1ef1d354869b617156f834996ba",
       "max": 8,
       "style": "IPY_MODEL_f20ac3fc39ce450e8777877af7988708",
       "value": 8
      }
     },
     "7ea31b849f88485eb2d627b702e2166c": {
      "model_module": "@jupyter-widgets/controls",
      "model_module_version": "1.5.0",
      "model_name": "ProgressStyleModel",
      "state": {
       "description_width": ""
      }
     },
     "7ffc6af0a71d4576b7697bc03f55a84d": {
      "model_module": "@jupyter-widgets/controls",
      "model_module_version": "1.5.0",
      "model_name": "HBoxModel",
      "state": {
       "children": [
        "IPY_MODEL_ef130c687cc44dcf8ddd19fcae283e28",
        "IPY_MODEL_56187f2278ab4ca59d99745cb11dcef5",
        "IPY_MODEL_68fe760dc38f4fb097e2cadb303e7237"
       ],
       "layout": "IPY_MODEL_7735a8d8a93241f5884d4adcce7ea446"
      }
     },
     "808e4e13f50a484b978029281522dc62": {
      "model_module": "@jupyter-widgets/controls",
      "model_module_version": "1.5.0",
      "model_name": "DescriptionStyleModel",
      "state": {
       "description_width": ""
      }
     },
     "811612fbb7dc414ba586ded908ad6213": {
      "model_module": "@jupyter-widgets/base",
      "model_module_version": "1.2.0",
      "model_name": "LayoutModel",
      "state": {}
     },
     "8126c46932344d7583939d9676ceb640": {
      "model_module": "@jupyter-widgets/base",
      "model_module_version": "1.2.0",
      "model_name": "LayoutModel",
      "state": {}
     },
     "8127d4eb87314f2f852b6f438a857b80": {
      "model_module": "@jupyter-widgets/controls",
      "model_module_version": "1.5.0",
      "model_name": "HBoxModel",
      "state": {
       "children": [
        "IPY_MODEL_cacee246d51e4726a57cd8269735fb6c",
        "IPY_MODEL_9304c8d8bd324e6da8b4689efdfe53ee",
        "IPY_MODEL_7800fa132b9c496ab5dcea131177aa29"
       ],
       "layout": "IPY_MODEL_8efdff2af3b44fe4b6b59855cbb3c54c"
      }
     },
     "812dd7b51f9a497b812535f4e8505486": {
      "model_module": "@jupyter-widgets/base",
      "model_module_version": "1.2.0",
      "model_name": "LayoutModel",
      "state": {}
     },
     "8135fb189adc48159d28fefb85655d9a": {
      "model_module": "@jupyter-widgets/controls",
      "model_module_version": "1.5.0",
      "model_name": "FloatProgressModel",
      "state": {
       "bar_style": "success",
       "layout": "IPY_MODEL_55e74d2547204e719d95ea341665c582",
       "max": 8,
       "style": "IPY_MODEL_d95c1c4c10484f5eb1a1f4816e9a2e1f",
       "value": 8
      }
     },
     "81d324fb155c4b8f93187bff76a4396b": {
      "model_module": "@jupyter-widgets/base",
      "model_module_version": "1.2.0",
      "model_name": "LayoutModel",
      "state": {}
     },
     "8204c615c9e7486888b4c4f8c46d450e": {
      "model_module": "@jupyter-widgets/controls",
      "model_module_version": "1.5.0",
      "model_name": "DescriptionStyleModel",
      "state": {
       "description_width": ""
      }
     },
     "8242484258f94edcae5b81740da518bb": {
      "model_module": "@jupyter-widgets/base",
      "model_module_version": "1.2.0",
      "model_name": "LayoutModel",
      "state": {}
     },
     "82e3b4caa15f44c9b0b321ad7ec64fa6": {
      "model_module": "@jupyter-widgets/controls",
      "model_module_version": "1.5.0",
      "model_name": "HBoxModel",
      "state": {
       "children": [
        "IPY_MODEL_44edb93782ee4a599fc5d84a83114130",
        "IPY_MODEL_a0b216a5237c4cd6a7c64786a195bfea",
        "IPY_MODEL_2fbde30752c744c9a0c3c8a1c9f54ab2"
       ],
       "layout": "IPY_MODEL_160a378770534f979116b603ea474c83"
      }
     },
     "835c01d157514619b0525c8aa347368f": {
      "model_module": "@jupyter-widgets/base",
      "model_module_version": "1.2.0",
      "model_name": "LayoutModel",
      "state": {}
     },
     "83bcf083a7f44e38920353b6ee2cf7aa": {
      "model_module": "@jupyter-widgets/base",
      "model_module_version": "1.2.0",
      "model_name": "LayoutModel",
      "state": {}
     },
     "843077120f5143d0a234fdbe4d6c2819": {
      "model_module": "@jupyter-widgets/controls",
      "model_module_version": "1.5.0",
      "model_name": "DescriptionStyleModel",
      "state": {
       "description_width": ""
      }
     },
     "856f0f7102df406394303be9d2e4d102": {
      "model_module": "@jupyter-widgets/controls",
      "model_module_version": "1.5.0",
      "model_name": "HBoxModel",
      "state": {
       "children": [
        "IPY_MODEL_e49fb7b357e84cb9948dc13ec101aada",
        "IPY_MODEL_88d4f75b239d45c6b03d563078306782",
        "IPY_MODEL_41b31c1eedaa48788f0571ca3561bfde"
       ],
       "layout": "IPY_MODEL_1bd48652b196412785b5df7c70ac164e"
      }
     },
     "86aed8d063444772a90364201bea3f3f": {
      "model_module": "@jupyter-widgets/controls",
      "model_module_version": "1.5.0",
      "model_name": "HTMLModel",
      "state": {
       "layout": "IPY_MODEL_0c09a2dcfc1e419fa886a5bd40f6b0d8",
       "style": "IPY_MODEL_752ac0d7048f45b690d35a5824766f22",
       "value": " 8/8 [11:19&lt;00:00, 72.91s/it]"
      }
     },
     "88d4f75b239d45c6b03d563078306782": {
      "model_module": "@jupyter-widgets/controls",
      "model_module_version": "1.5.0",
      "model_name": "FloatProgressModel",
      "state": {
       "bar_style": "success",
       "layout": "IPY_MODEL_f58e6b064cb042c890b0e23778c61457",
       "max": 8,
       "style": "IPY_MODEL_b14889c0cf91423ea23645129eded9b1",
       "value": 8
      }
     },
     "891d3eb2e23b4d3eb1f78c0c36090070": {
      "model_module": "@jupyter-widgets/base",
      "model_module_version": "1.2.0",
      "model_name": "LayoutModel",
      "state": {}
     },
     "8959d6b396a24cf1a58653aa6a341ca7": {
      "model_module": "@jupyter-widgets/base",
      "model_module_version": "1.2.0",
      "model_name": "LayoutModel",
      "state": {}
     },
     "8a083d23c8964d95b18444fc014ddfe8": {
      "model_module": "@jupyter-widgets/controls",
      "model_module_version": "1.5.0",
      "model_name": "HTMLModel",
      "state": {
       "layout": "IPY_MODEL_f4278149f059460791baf0687e7ea21a",
       "style": "IPY_MODEL_4462ac82264b41d697c62284610e1291",
       "value": "100%"
      }
     },
     "8a3b95cd4a244088abff115d33713d1d": {
      "model_module": "@jupyter-widgets/base",
      "model_module_version": "1.2.0",
      "model_name": "LayoutModel",
      "state": {}
     },
     "8a6657dd51a54d59bf1fb015219c40e1": {
      "model_module": "@jupyter-widgets/controls",
      "model_module_version": "1.5.0",
      "model_name": "FloatProgressModel",
      "state": {
       "bar_style": "success",
       "layout": "IPY_MODEL_1a58d2b692b14324938e9907e9377e70",
       "max": 23,
       "style": "IPY_MODEL_dcff4db84e36408e94d8bd9f1ab6a072",
       "value": 23
      }
     },
     "8aa95bacdb804d8c9118d7be287f00ea": {
      "model_module": "@jupyter-widgets/controls",
      "model_module_version": "1.5.0",
      "model_name": "HTMLModel",
      "state": {
       "layout": "IPY_MODEL_3d68900ecbdf4653a7eb044bb88a3403",
       "style": "IPY_MODEL_c37d9507bf204eab9c65f6c77c7b87ba",
       "value": " 23/23 [00:18&lt;00:00,  1.23it/s]"
      }
     },
     "8bb39483022f4de298bff9080367630a": {
      "model_module": "@jupyter-widgets/controls",
      "model_module_version": "1.5.0",
      "model_name": "HTMLModel",
      "state": {
       "layout": "IPY_MODEL_68ab66f041a14868a10dcb7f4d51c372",
       "style": "IPY_MODEL_4f916e812cb8429ea36841dcd4e32c0b",
       "value": "100%"
      }
     },
     "8e948e32f3ff42d69a3352316968cef3": {
      "model_module": "@jupyter-widgets/controls",
      "model_module_version": "1.5.0",
      "model_name": "FloatProgressModel",
      "state": {
       "bar_style": "success",
       "layout": "IPY_MODEL_3f2b6dad1ee74fa08088c98ea2bf3416",
       "max": 8,
       "style": "IPY_MODEL_a61e87f55fa3490dac478a2a66d73ac0",
       "value": 8
      }
     },
     "8efdff2af3b44fe4b6b59855cbb3c54c": {
      "model_module": "@jupyter-widgets/base",
      "model_module_version": "1.2.0",
      "model_name": "LayoutModel",
      "state": {}
     },
     "8f07c619ca7c40dfaa432cdf7e082695": {
      "model_module": "@jupyter-widgets/controls",
      "model_module_version": "1.5.0",
      "model_name": "HBoxModel",
      "state": {
       "children": [
        "IPY_MODEL_2db7d41f8d58423ea6273ba72ad4711a",
        "IPY_MODEL_117e115a16984b778eb0a65022c99f37",
        "IPY_MODEL_e5529e9d9471423084f07a0c3fdfbe0f"
       ],
       "layout": "IPY_MODEL_f2989a4ea7724d909e66b3308ed0a2c7"
      }
     },
     "8f6e251bb59744409d3eb484df678a1b": {
      "model_module": "@jupyter-widgets/base",
      "model_module_version": "1.2.0",
      "model_name": "LayoutModel",
      "state": {}
     },
     "8f740647769446a8aee626b0803b30e2": {
      "model_module": "@jupyter-widgets/base",
      "model_module_version": "1.2.0",
      "model_name": "LayoutModel",
      "state": {}
     },
     "9026ed0946554d07b5acd20c90fb86af": {
      "model_module": "@jupyter-widgets/controls",
      "model_module_version": "1.5.0",
      "model_name": "HTMLModel",
      "state": {
       "layout": "IPY_MODEL_9a754bc2c76842aca2a642b0f05662f3",
       "style": "IPY_MODEL_af4b6f51291f472fa9d8b08ab8fdcdd2",
       "value": "  9%"
      }
     },
     "906311e9b7404394825592055caf3b8c": {
      "model_module": "@jupyter-widgets/controls",
      "model_module_version": "1.5.0",
      "model_name": "DescriptionStyleModel",
      "state": {
       "description_width": ""
      }
     },
     "90aad20c8fd2496187508a48b51927af": {
      "model_module": "@jupyter-widgets/base",
      "model_module_version": "1.2.0",
      "model_name": "LayoutModel",
      "state": {}
     },
     "90c64eaa169045279d11d51e952c94aa": {
      "model_module": "@jupyter-widgets/base",
      "model_module_version": "1.2.0",
      "model_name": "LayoutModel",
      "state": {}
     },
     "91851ffc63ce4010b3c430c7547b5145": {
      "model_module": "@jupyter-widgets/controls",
      "model_module_version": "1.5.0",
      "model_name": "HBoxModel",
      "state": {
       "children": [
        "IPY_MODEL_796a14f1034c493491d10eb4ce25ec22",
        "IPY_MODEL_8a6657dd51a54d59bf1fb015219c40e1",
        "IPY_MODEL_21f0efd961b5440a8ccf8e631324c796"
       ],
       "layout": "IPY_MODEL_78b0c2b3dbbf4b01bd15c5b108f4f691"
      }
     },
     "9217d56caba648b486ebb302621d6bdb": {
      "model_module": "@jupyter-widgets/base",
      "model_module_version": "1.2.0",
      "model_name": "LayoutModel",
      "state": {}
     },
     "9304c8d8bd324e6da8b4689efdfe53ee": {
      "model_module": "@jupyter-widgets/controls",
      "model_module_version": "1.5.0",
      "model_name": "FloatProgressModel",
      "state": {
       "bar_style": "success",
       "layout": "IPY_MODEL_c99ca28c92f746a4b2b85cfb2e4d88d2",
       "max": 8,
       "style": "IPY_MODEL_a2f1f1c770954e88b7073a37368704d0",
       "value": 8
      }
     },
     "9318a77c499d415980aeaef7432b2848": {
      "model_module": "@jupyter-widgets/base",
      "model_module_version": "1.2.0",
      "model_name": "LayoutModel",
      "state": {}
     },
     "962338123e1e4575b5a987bd4ac98ecd": {
      "model_module": "@jupyter-widgets/controls",
      "model_module_version": "1.5.0",
      "model_name": "HBoxModel",
      "state": {
       "children": [
        "IPY_MODEL_0e5c0f615a8147869befbe7caa0a9775",
        "IPY_MODEL_abc4223a7070474592c57236c6a3e95f",
        "IPY_MODEL_5a0e496c485c4966be9b8745a2fa733a"
       ],
       "layout": "IPY_MODEL_3c2bf85fcd7c4b108baf02173d0517ed"
      }
     },
     "988957ac7a2d4de79d494b28db9a59a1": {
      "model_module": "@jupyter-widgets/base",
      "model_module_version": "1.2.0",
      "model_name": "LayoutModel",
      "state": {}
     },
     "99bcc5ad190143bda7eb6f4edfc1c2fc": {
      "model_module": "@jupyter-widgets/controls",
      "model_module_version": "1.5.0",
      "model_name": "HBoxModel",
      "state": {
       "children": [
        "IPY_MODEL_8a083d23c8964d95b18444fc014ddfe8",
        "IPY_MODEL_103a5c37a71d42cabeac30b182b782b4",
        "IPY_MODEL_dd782cd10c2f4651894b80bee476ca64"
       ],
       "layout": "IPY_MODEL_f656971917b74a538fd751e87a6926e3"
      }
     },
     "99cb07037310411c94fd6b33cd7cb26b": {
      "model_module": "@jupyter-widgets/controls",
      "model_module_version": "1.5.0",
      "model_name": "HBoxModel",
      "state": {
       "children": [
        "IPY_MODEL_9d2dd2b23f1d4c1ca292b2830a7c5b88",
        "IPY_MODEL_a4a31cbd4def4b85a08d111722797aca",
        "IPY_MODEL_c5efdf020be24acc9e978970a0703b12"
       ],
       "layout": "IPY_MODEL_9318a77c499d415980aeaef7432b2848"
      }
     },
     "9a754bc2c76842aca2a642b0f05662f3": {
      "model_module": "@jupyter-widgets/base",
      "model_module_version": "1.2.0",
      "model_name": "LayoutModel",
      "state": {}
     },
     "9b1f1874851344d89adf6fe124dddb5e": {
      "model_module": "@jupyter-widgets/base",
      "model_module_version": "1.2.0",
      "model_name": "LayoutModel",
      "state": {}
     },
     "9c8c7c15f54041c987a798c56d732b05": {
      "model_module": "@jupyter-widgets/controls",
      "model_module_version": "1.5.0",
      "model_name": "FloatProgressModel",
      "state": {
       "bar_style": "success",
       "layout": "IPY_MODEL_adf1a1bb06a849c7873a4af3e979b7b9",
       "max": 8,
       "style": "IPY_MODEL_42249d7206124370bae29034fcd9ec03",
       "value": 8
      }
     },
     "9d04fe90c9f544f09f356f1ea273a49a": {
      "model_module": "@jupyter-widgets/controls",
      "model_module_version": "1.5.0",
      "model_name": "HTMLModel",
      "state": {
       "layout": "IPY_MODEL_3d07198176334d839aa036d33cd5d2df",
       "style": "IPY_MODEL_1aa5a4f4c17e41b785ccf5a3835f8c9c",
       "value": "  0%"
      }
     },
     "9d2dd2b23f1d4c1ca292b2830a7c5b88": {
      "model_module": "@jupyter-widgets/controls",
      "model_module_version": "1.5.0",
      "model_name": "HTMLModel",
      "state": {
       "layout": "IPY_MODEL_aadf418f977542859e8c910812008a03",
       "style": "IPY_MODEL_4624081b60ec4bb79f854044130fd325",
       "value": "100%"
      }
     },
     "9e4c5893e2554283a76d838eab4a9a02": {
      "model_module": "@jupyter-widgets/controls",
      "model_module_version": "1.5.0",
      "model_name": "HTMLModel",
      "state": {
       "layout": "IPY_MODEL_deb0904474bf4c0d8e0dfff9143d7613",
       "style": "IPY_MODEL_320dc4baca7842c1bc7d147bb9127491",
       "value": " 2/23 [21:59&lt;3:15:50, 559.56s/it]"
      }
     },
     "a0b216a5237c4cd6a7c64786a195bfea": {
      "model_module": "@jupyter-widgets/controls",
      "model_module_version": "1.5.0",
      "model_name": "FloatProgressModel",
      "state": {
       "bar_style": "success",
       "layout": "IPY_MODEL_7e19ed87b908407dbe20c7c350e8aac3",
       "max": 23,
       "style": "IPY_MODEL_23637dc88f1d4b90b59b390d77af22f8",
       "value": 23
      }
     },
     "a2f1f1c770954e88b7073a37368704d0": {
      "model_module": "@jupyter-widgets/controls",
      "model_module_version": "1.5.0",
      "model_name": "ProgressStyleModel",
      "state": {
       "description_width": ""
      }
     },
     "a3f2e046c2314273bb04dbdf18095f44": {
      "model_module": "@jupyter-widgets/controls",
      "model_module_version": "1.5.0",
      "model_name": "ProgressStyleModel",
      "state": {
       "description_width": ""
      }
     },
     "a47a4de0a0d44670bcc9153c699bf708": {
      "model_module": "@jupyter-widgets/base",
      "model_module_version": "1.2.0",
      "model_name": "LayoutModel",
      "state": {}
     },
     "a47df9c65a75431f8e2277f6ce6341bd": {
      "model_module": "@jupyter-widgets/base",
      "model_module_version": "1.2.0",
      "model_name": "LayoutModel",
      "state": {}
     },
     "a4a31cbd4def4b85a08d111722797aca": {
      "model_module": "@jupyter-widgets/controls",
      "model_module_version": "1.5.0",
      "model_name": "FloatProgressModel",
      "state": {
       "bar_style": "success",
       "layout": "IPY_MODEL_ef00864cd47541a192aa6fecbc7e3c77",
       "max": 8,
       "style": "IPY_MODEL_35e638b83b964482ba6ab115a75a9162",
       "value": 8
      }
     },
     "a57c984649db44e2b25645bde47dcb90": {
      "model_module": "@jupyter-widgets/controls",
      "model_module_version": "1.5.0",
      "model_name": "DescriptionStyleModel",
      "state": {
       "description_width": ""
      }
     },
     "a61e87f55fa3490dac478a2a66d73ac0": {
      "model_module": "@jupyter-widgets/controls",
      "model_module_version": "1.5.0",
      "model_name": "ProgressStyleModel",
      "state": {
       "description_width": ""
      }
     },
     "a629edd402f94d0ea1c57f375f1b2c5f": {
      "model_module": "@jupyter-widgets/controls",
      "model_module_version": "1.5.0",
      "model_name": "HBoxModel",
      "state": {
       "children": [
        "IPY_MODEL_c6eef796db2f48eca388c23b488d08a3",
        "IPY_MODEL_24889dbd7f884440ad1922faf9e1747b",
        "IPY_MODEL_d488b2fbed694b62a27b0978975c0948"
       ],
       "layout": "IPY_MODEL_7844edf253d94f78b7581ed95ecbd367"
      }
     },
     "a89972d5928a4aed9d7b9c846d9ee00a": {
      "model_module": "@jupyter-widgets/controls",
      "model_module_version": "1.5.0",
      "model_name": "FloatProgressModel",
      "state": {
       "bar_style": "success",
       "layout": "IPY_MODEL_891d3eb2e23b4d3eb1f78c0c36090070",
       "max": 8,
       "style": "IPY_MODEL_def552f424ea42bb82635e1b5b9a54c2",
       "value": 8
      }
     },
     "a935b246855441c9a94f1b4c2b7979e1": {
      "model_module": "@jupyter-widgets/controls",
      "model_module_version": "1.5.0",
      "model_name": "HTMLModel",
      "state": {
       "layout": "IPY_MODEL_a47a4de0a0d44670bcc9153c699bf708",
       "style": "IPY_MODEL_e42e60a32a8840eeb4e84b83982ad98c",
       "value": " 0/23 [00:00&lt;?, ?it/s]"
      }
     },
     "aa10011a06104d209f19e85b2323dfff": {
      "model_module": "@jupyter-widgets/controls",
      "model_module_version": "1.5.0",
      "model_name": "ProgressStyleModel",
      "state": {
       "description_width": ""
      }
     },
     "aadf418f977542859e8c910812008a03": {
      "model_module": "@jupyter-widgets/base",
      "model_module_version": "1.2.0",
      "model_name": "LayoutModel",
      "state": {}
     },
     "ab2f75acb2234df5b9eee0b9a754b959": {
      "model_module": "@jupyter-widgets/base",
      "model_module_version": "1.2.0",
      "model_name": "LayoutModel",
      "state": {}
     },
     "abc4223a7070474592c57236c6a3e95f": {
      "model_module": "@jupyter-widgets/controls",
      "model_module_version": "1.5.0",
      "model_name": "FloatProgressModel",
      "state": {
       "bar_style": "success",
       "layout": "IPY_MODEL_720fa5c5cf6d47fca4d99603414c4bf2",
       "max": 8,
       "style": "IPY_MODEL_7dcff0b25deb42eea7faff48512133cb",
       "value": 8
      }
     },
     "ac0e81db45af404691a1079047b6c2cf": {
      "model_module": "@jupyter-widgets/controls",
      "model_module_version": "1.5.0",
      "model_name": "DescriptionStyleModel",
      "state": {
       "description_width": ""
      }
     },
     "acb0ab3131974c7d92853ab706632ba3": {
      "model_module": "@jupyter-widgets/controls",
      "model_module_version": "1.5.0",
      "model_name": "HTMLModel",
      "state": {
       "layout": "IPY_MODEL_988957ac7a2d4de79d494b28db9a59a1",
       "style": "IPY_MODEL_2a15079034f54fb18dec2648cdfb70b0",
       "value": "100%"
      }
     },
     "ad40dcd0155841008daf4e8695956bbb": {
      "model_module": "@jupyter-widgets/controls",
      "model_module_version": "1.5.0",
      "model_name": "HBoxModel",
      "state": {
       "children": [
        "IPY_MODEL_9026ed0946554d07b5acd20c90fb86af",
        "IPY_MODEL_2205a400ef46473ab0b668a70be4ba99",
        "IPY_MODEL_9e4c5893e2554283a76d838eab4a9a02"
       ],
       "layout": "IPY_MODEL_835c01d157514619b0525c8aa347368f"
      }
     },
     "ad8ab96edc4343a6968cb60307a7f14e": {
      "model_module": "@jupyter-widgets/base",
      "model_module_version": "1.2.0",
      "model_name": "LayoutModel",
      "state": {}
     },
     "addd0801aeb54a6ea53cf41299b3e2b7": {
      "model_module": "@jupyter-widgets/base",
      "model_module_version": "1.2.0",
      "model_name": "LayoutModel",
      "state": {}
     },
     "adf1a1bb06a849c7873a4af3e979b7b9": {
      "model_module": "@jupyter-widgets/base",
      "model_module_version": "1.2.0",
      "model_name": "LayoutModel",
      "state": {}
     },
     "ae6adb62d907456387174a5743dea4a2": {
      "model_module": "@jupyter-widgets/controls",
      "model_module_version": "1.5.0",
      "model_name": "HTMLModel",
      "state": {
       "layout": "IPY_MODEL_1e313af623a84e09840426362b86784c",
       "style": "IPY_MODEL_c34e2c3b76cb42eb9a8b9de4678a6730",
       "value": " 8/8 [11:58&lt;00:00, 77.59s/it]"
      }
     },
     "ae7dc1ef1d354869b617156f834996ba": {
      "model_module": "@jupyter-widgets/base",
      "model_module_version": "1.2.0",
      "model_name": "LayoutModel",
      "state": {}
     },
     "af4b6f51291f472fa9d8b08ab8fdcdd2": {
      "model_module": "@jupyter-widgets/controls",
      "model_module_version": "1.5.0",
      "model_name": "DescriptionStyleModel",
      "state": {
       "description_width": ""
      }
     },
     "afab45b16c9341e1a665676027816a91": {
      "model_module": "@jupyter-widgets/controls",
      "model_module_version": "1.5.0",
      "model_name": "HTMLModel",
      "state": {
       "layout": "IPY_MODEL_76cae3a5ea274530897d291eff2ec7bc",
       "style": "IPY_MODEL_65e90b86f065477eb1cee3717b3858c7",
       "value": " 8/8 [11:20&lt;00:00, 70.27s/it]"
      }
     },
     "afb9ca8ec9c743f4994d0c3b3a3ffee0": {
      "model_module": "@jupyter-widgets/base",
      "model_module_version": "1.2.0",
      "model_name": "LayoutModel",
      "state": {}
     },
     "b0566f7704d44ae3a39814874f37664a": {
      "model_module": "@jupyter-widgets/base",
      "model_module_version": "1.2.0",
      "model_name": "LayoutModel",
      "state": {}
     },
     "b14889c0cf91423ea23645129eded9b1": {
      "model_module": "@jupyter-widgets/controls",
      "model_module_version": "1.5.0",
      "model_name": "ProgressStyleModel",
      "state": {
       "description_width": ""
      }
     },
     "b25139e4a5b642378a9128090b58e20c": {
      "model_module": "@jupyter-widgets/controls",
      "model_module_version": "1.5.0",
      "model_name": "DescriptionStyleModel",
      "state": {
       "description_width": ""
      }
     },
     "b28c748fe9714c95bc7a59d0601d7897": {
      "model_module": "@jupyter-widgets/controls",
      "model_module_version": "1.5.0",
      "model_name": "ProgressStyleModel",
      "state": {
       "description_width": ""
      }
     },
     "b2ca5e053db743f6a10732d5c0644729": {
      "model_module": "@jupyter-widgets/controls",
      "model_module_version": "1.5.0",
      "model_name": "HTMLModel",
      "state": {
       "layout": "IPY_MODEL_2158d94d3d814e569df224ae71e77ada",
       "style": "IPY_MODEL_0e86c58648b64f9db0cdcf2d436eb43b",
       "value": "100%"
      }
     },
     "b2d5e38aaea748ca9edb79ec71b95454": {
      "model_module": "@jupyter-widgets/base",
      "model_module_version": "1.2.0",
      "model_name": "LayoutModel",
      "state": {}
     },
     "b57a1382f10846848f08e6d9b61b372f": {
      "model_module": "@jupyter-widgets/controls",
      "model_module_version": "1.5.0",
      "model_name": "HBoxModel",
      "state": {
       "children": [
        "IPY_MODEL_1d78b1f820044d7cad6320fd388670de",
        "IPY_MODEL_1b7dd7fb5d214210a2c6d9d3cccafc85",
        "IPY_MODEL_86aed8d063444772a90364201bea3f3f"
       ],
       "layout": "IPY_MODEL_2c22bb9f99a44bbe81b070746acbe1cb"
      }
     },
     "b7e88bcb6c654b3b95bcc5513e05171f": {
      "model_module": "@jupyter-widgets/controls",
      "model_module_version": "1.5.0",
      "model_name": "HTMLModel",
      "state": {
       "layout": "IPY_MODEL_e58b4f74340a46c89ad34dd68c29d73a",
       "style": "IPY_MODEL_69d8580b12384da0965af3e311ca6cc9",
       "value": " 8/8 [10:53&lt;00:00, 69.47s/it]"
      }
     },
     "b7f3f54099254708affc7cf65d756e65": {
      "model_module": "@jupyter-widgets/controls",
      "model_module_version": "1.5.0",
      "model_name": "DescriptionStyleModel",
      "state": {
       "description_width": ""
      }
     },
     "b827e601d9f046fcbc5d4bfbd41566f9": {
      "model_module": "@jupyter-widgets/base",
      "model_module_version": "1.2.0",
      "model_name": "LayoutModel",
      "state": {}
     },
     "b87cc8dd98324fe9a82e529949a176ef": {
      "model_module": "@jupyter-widgets/base",
      "model_module_version": "1.2.0",
      "model_name": "LayoutModel",
      "state": {}
     },
     "b88e6bfc04f7407eb7faae61abd5ed1c": {
      "model_module": "@jupyter-widgets/controls",
      "model_module_version": "1.5.0",
      "model_name": "ProgressStyleModel",
      "state": {
       "description_width": ""
      }
     },
     "ba4bc0dfb31e474ca15f9a6174661db9": {
      "model_module": "@jupyter-widgets/controls",
      "model_module_version": "1.5.0",
      "model_name": "HTMLModel",
      "state": {
       "layout": "IPY_MODEL_eacc6e94fc5746aca446c0f6c0b66972",
       "style": "IPY_MODEL_7643ec899bfa4c9ea0c6ac3fa04678b3",
       "value": "100%"
      }
     },
     "bb3f90c990e74df8993428d8f61bb3d4": {
      "model_module": "@jupyter-widgets/base",
      "model_module_version": "1.2.0",
      "model_name": "LayoutModel",
      "state": {}
     },
     "bb9ddb8803fa4e99817cbfb125502020": {
      "model_module": "@jupyter-widgets/controls",
      "model_module_version": "1.5.0",
      "model_name": "HTMLModel",
      "state": {
       "layout": "IPY_MODEL_b0566f7704d44ae3a39814874f37664a",
       "style": "IPY_MODEL_0e4688b19715414086ce815d68fe7036",
       "value": "100%"
      }
     },
     "bbfcf33c85b14836b49dd31889fcc300": {
      "model_module": "@jupyter-widgets/controls",
      "model_module_version": "1.5.0",
      "model_name": "HTMLModel",
      "state": {
       "layout": "IPY_MODEL_e19bd19e81f64edb9f05e7097ef43a01",
       "style": "IPY_MODEL_b7f3f54099254708affc7cf65d756e65",
       "value": " 8/8 [11:43&lt;00:00, 76.09s/it]"
      }
     },
     "bd08f352b0de4cf2bbb4654c05fe6940": {
      "model_module": "@jupyter-widgets/controls",
      "model_module_version": "1.5.0",
      "model_name": "DescriptionStyleModel",
      "state": {
       "description_width": ""
      }
     },
     "bd31ad392d6d480a902b578060288ea2": {
      "model_module": "@jupyter-widgets/controls",
      "model_module_version": "1.5.0",
      "model_name": "DescriptionStyleModel",
      "state": {
       "description_width": ""
      }
     },
     "bdeb55a3718f499b87ca36adb5f27c8b": {
      "model_module": "@jupyter-widgets/controls",
      "model_module_version": "1.5.0",
      "model_name": "FloatProgressModel",
      "state": {
       "bar_style": "success",
       "layout": "IPY_MODEL_812dd7b51f9a497b812535f4e8505486",
       "max": 8,
       "style": "IPY_MODEL_b28c748fe9714c95bc7a59d0601d7897",
       "value": 8
      }
     },
     "bfa8353736a14a328f0c3d03dee0b7b4": {
      "model_module": "@jupyter-widgets/base",
      "model_module_version": "1.2.0",
      "model_name": "LayoutModel",
      "state": {}
     },
     "bfbc158222284ed190ee4f0227cc8320": {
      "model_module": "@jupyter-widgets/controls",
      "model_module_version": "1.5.0",
      "model_name": "ProgressStyleModel",
      "state": {
       "description_width": ""
      }
     },
     "c061528781a04733bbf74c0d66f97ef7": {
      "model_module": "@jupyter-widgets/base",
      "model_module_version": "1.2.0",
      "model_name": "LayoutModel",
      "state": {}
     },
     "c105d28f4a4445cfb7691d4f096e1dba": {
      "model_module": "@jupyter-widgets/base",
      "model_module_version": "1.2.0",
      "model_name": "LayoutModel",
      "state": {}
     },
     "c1220e4b37a9403ea4016f5bfce69560": {
      "model_module": "@jupyter-widgets/controls",
      "model_module_version": "1.5.0",
      "model_name": "DescriptionStyleModel",
      "state": {
       "description_width": ""
      }
     },
     "c26c53a4870e45dfb415b69533e79b74": {
      "model_module": "@jupyter-widgets/controls",
      "model_module_version": "1.5.0",
      "model_name": "HTMLModel",
      "state": {
       "layout": "IPY_MODEL_e881ab5f9b7a48cbbf23202e34a6c87b",
       "style": "IPY_MODEL_dea426e0953c4508a47005f62c2e1eb2",
       "value": " 23/23 [00:00&lt;00:00, 44.52it/s]"
      }
     },
     "c2ff5f5b6f3e433b89d1d53daeac0f95": {
      "model_module": "@jupyter-widgets/controls",
      "model_module_version": "1.5.0",
      "model_name": "HBoxModel",
      "state": {
       "children": [
        "IPY_MODEL_5dfd47fc0773470f8e85a44c562ec9bb",
        "IPY_MODEL_4262f7d285b24fb5bad8ceb857ca62ab",
        "IPY_MODEL_c5d55fcbabfa41cbae5a41690aac66c3"
       ],
       "layout": "IPY_MODEL_3e73cf19573c4a4ba2f70e98ac807415"
      }
     },
     "c34e2c3b76cb42eb9a8b9de4678a6730": {
      "model_module": "@jupyter-widgets/controls",
      "model_module_version": "1.5.0",
      "model_name": "DescriptionStyleModel",
      "state": {
       "description_width": ""
      }
     },
     "c37d9507bf204eab9c65f6c77c7b87ba": {
      "model_module": "@jupyter-widgets/controls",
      "model_module_version": "1.5.0",
      "model_name": "DescriptionStyleModel",
      "state": {
       "description_width": ""
      }
     },
     "c426490e89ad47abb6a7e2bc7d672e73": {
      "model_module": "@jupyter-widgets/base",
      "model_module_version": "1.2.0",
      "model_name": "LayoutModel",
      "state": {}
     },
     "c43088754ae041ed900dbcce91002197": {
      "model_module": "@jupyter-widgets/controls",
      "model_module_version": "1.5.0",
      "model_name": "DescriptionStyleModel",
      "state": {
       "description_width": ""
      }
     },
     "c5d55fcbabfa41cbae5a41690aac66c3": {
      "model_module": "@jupyter-widgets/controls",
      "model_module_version": "1.5.0",
      "model_name": "HTMLModel",
      "state": {
       "layout": "IPY_MODEL_4d1c2d0f8ca643be9110f58c6d157054",
       "style": "IPY_MODEL_e45520385e8c40b58bd08d2863e14b7a",
       "value": " 8/8 [13:05&lt;00:00, 83.98s/it]"
      }
     },
     "c5efdf020be24acc9e978970a0703b12": {
      "model_module": "@jupyter-widgets/controls",
      "model_module_version": "1.5.0",
      "model_name": "HTMLModel",
      "state": {
       "layout": "IPY_MODEL_ec0da36ac79045468071f8b0630b4819",
       "style": "IPY_MODEL_c1220e4b37a9403ea4016f5bfce69560",
       "value": " 8/8 [12:03&lt;00:00, 76.56s/it]"
      }
     },
     "c69a370915b3400dbe1624f091371ceb": {
      "model_module": "@jupyter-widgets/base",
      "model_module_version": "1.2.0",
      "model_name": "LayoutModel",
      "state": {}
     },
     "c6eef796db2f48eca388c23b488d08a3": {
      "model_module": "@jupyter-widgets/controls",
      "model_module_version": "1.5.0",
      "model_name": "HTMLModel",
      "state": {
       "layout": "IPY_MODEL_0045fed1133c40df893abbfbf4f1587d",
       "style": "IPY_MODEL_4d683bd85363443a9648032569434a87",
       "value": "100%"
      }
     },
     "c7bf09025b8d4a358f3b0b0de892be76": {
      "model_module": "@jupyter-widgets/controls",
      "model_module_version": "1.5.0",
      "model_name": "HTMLModel",
      "state": {
       "layout": "IPY_MODEL_8242484258f94edcae5b81740da518bb",
       "style": "IPY_MODEL_f1f374785386484297449c6077a5b40e",
       "value": " 8/8 [13:22&lt;00:00, 86.22s/it]"
      }
     },
     "c99ca28c92f746a4b2b85cfb2e4d88d2": {
      "model_module": "@jupyter-widgets/base",
      "model_module_version": "1.2.0",
      "model_name": "LayoutModel",
      "state": {}
     },
     "cac9172508f94f08a43c252ad78bc05d": {
      "model_module": "@jupyter-widgets/controls",
      "model_module_version": "1.5.0",
      "model_name": "DescriptionStyleModel",
      "state": {
       "description_width": ""
      }
     },
     "cacee246d51e4726a57cd8269735fb6c": {
      "model_module": "@jupyter-widgets/controls",
      "model_module_version": "1.5.0",
      "model_name": "HTMLModel",
      "state": {
       "layout": "IPY_MODEL_8f740647769446a8aee626b0803b30e2",
       "style": "IPY_MODEL_e30e273414324409b3b34036bbd67b1d",
       "value": "100%"
      }
     },
     "cc14dade1b7d4c369b4ac71523d47de7": {
      "model_module": "@jupyter-widgets/controls",
      "model_module_version": "1.5.0",
      "model_name": "HBoxModel",
      "state": {
       "children": [
        "IPY_MODEL_d99d00aafc254459800371be0185d6f3",
        "IPY_MODEL_8135fb189adc48159d28fefb85655d9a",
        "IPY_MODEL_331d25ff2f444323aa3beb65df2ed1f3"
       ],
       "layout": "IPY_MODEL_f1136b947f3a40299f8848f85ccad0f5"
      }
     },
     "cc4dea448aab4858839f2a74458422eb": {
      "model_module": "@jupyter-widgets/base",
      "model_module_version": "1.2.0",
      "model_name": "LayoutModel",
      "state": {}
     },
     "cc8626b77a3e4738b6680a582f14a1bf": {
      "model_module": "@jupyter-widgets/controls",
      "model_module_version": "1.5.0",
      "model_name": "FloatProgressModel",
      "state": {
       "bar_style": "danger",
       "layout": "IPY_MODEL_2378435e27654b939302d67607d9dc7f",
       "max": 8,
       "style": "IPY_MODEL_b88e6bfc04f7407eb7faae61abd5ed1c",
       "value": 1
      }
     },
     "cddf81b8029f4df2bbf8326fd0cd4f29": {
      "model_module": "@jupyter-widgets/controls",
      "model_module_version": "1.5.0",
      "model_name": "ProgressStyleModel",
      "state": {
       "description_width": ""
      }
     },
     "ce6eb5e093504a2b917e0ffae03e8de1": {
      "model_module": "@jupyter-widgets/controls",
      "model_module_version": "1.5.0",
      "model_name": "HTMLModel",
      "state": {
       "layout": "IPY_MODEL_b2d5e38aaea748ca9edb79ec71b95454",
       "style": "IPY_MODEL_cac9172508f94f08a43c252ad78bc05d",
       "value": "100%"
      }
     },
     "d13f36ad73de49fa9a3cc955a25a2f6c": {
      "model_module": "@jupyter-widgets/controls",
      "model_module_version": "1.5.0",
      "model_name": "HBoxModel",
      "state": {
       "children": [
        "IPY_MODEL_ec6715f371454df2b60554a36f928024",
        "IPY_MODEL_de12a86e5cf94c11ba555fd635fe80d1",
        "IPY_MODEL_51147cf1946c44f5be8fb056dda4c69e"
       ],
       "layout": "IPY_MODEL_bb3f90c990e74df8993428d8f61bb3d4"
      }
     },
     "d25e3647ed774835a2642856c38a0de8": {
      "model_module": "@jupyter-widgets/base",
      "model_module_version": "1.2.0",
      "model_name": "LayoutModel",
      "state": {}
     },
     "d32d5e4ef2bd4bbb8af8c52c18377010": {
      "model_module": "@jupyter-widgets/base",
      "model_module_version": "1.2.0",
      "model_name": "LayoutModel",
      "state": {}
     },
     "d47853cead4f4ee4aa3bb144a2f40356": {
      "model_module": "@jupyter-widgets/controls",
      "model_module_version": "1.5.0",
      "model_name": "HTMLModel",
      "state": {
       "layout": "IPY_MODEL_2cd88f7244cc4637b8e1eeb278b4524b",
       "style": "IPY_MODEL_48fc1f54c0684eec96f20e318ebf1342",
       "value": "100%"
      }
     },
     "d488b2fbed694b62a27b0978975c0948": {
      "model_module": "@jupyter-widgets/controls",
      "model_module_version": "1.5.0",
      "model_name": "HTMLModel",
      "state": {
       "layout": "IPY_MODEL_3e6951b5bf3c4b41a3cc241fde0b41f4",
       "style": "IPY_MODEL_f15ab023f9274ceebb1c95db09163e37",
       "value": " 8/8 [10:53&lt;00:00, 71.28s/it]"
      }
     },
     "d498ea8b25154495ab106c30bde4334a": {
      "model_module": "@jupyter-widgets/controls",
      "model_module_version": "1.5.0",
      "model_name": "HBoxModel",
      "state": {
       "children": [
        "IPY_MODEL_265305a7b4a04e9aa9472b84142f8140",
        "IPY_MODEL_05c349ada11b474eb98e8de3c18018f4",
        "IPY_MODEL_0532e82a020541c283486495d409fbf2"
       ],
       "layout": "IPY_MODEL_d32d5e4ef2bd4bbb8af8c52c18377010"
      }
     },
     "d4de5311764a482fb2b9da73bae6333b": {
      "model_module": "@jupyter-widgets/controls",
      "model_module_version": "1.5.0",
      "model_name": "ProgressStyleModel",
      "state": {
       "description_width": ""
      }
     },
     "d7c4390afdc24f47bc8af8b74cc08876": {
      "model_module": "@jupyter-widgets/controls",
      "model_module_version": "1.5.0",
      "model_name": "DescriptionStyleModel",
      "state": {
       "description_width": ""
      }
     },
     "d8556ff5b1364480a690b2833b8a3fd6": {
      "model_module": "@jupyter-widgets/controls",
      "model_module_version": "1.5.0",
      "model_name": "ProgressStyleModel",
      "state": {
       "description_width": ""
      }
     },
     "d87f524c6c294cf2973d65cb92e4285b": {
      "model_module": "@jupyter-widgets/base",
      "model_module_version": "1.2.0",
      "model_name": "LayoutModel",
      "state": {}
     },
     "d8876015f9974799a44043225023cecc": {
      "model_module": "@jupyter-widgets/controls",
      "model_module_version": "1.5.0",
      "model_name": "HBoxModel",
      "state": {
       "children": [
        "IPY_MODEL_f7ab82c9eff14016bf296310efa773c6",
        "IPY_MODEL_e0b486ab1ee04d16be47ee5129ab18c8",
        "IPY_MODEL_6ad508e95bb04355a6f7db711bd6cdfd"
       ],
       "layout": "IPY_MODEL_c69a370915b3400dbe1624f091371ceb"
      }
     },
     "d95c1c4c10484f5eb1a1f4816e9a2e1f": {
      "model_module": "@jupyter-widgets/controls",
      "model_module_version": "1.5.0",
      "model_name": "ProgressStyleModel",
      "state": {
       "description_width": ""
      }
     },
     "d99d00aafc254459800371be0185d6f3": {
      "model_module": "@jupyter-widgets/controls",
      "model_module_version": "1.5.0",
      "model_name": "HTMLModel",
      "state": {
       "layout": "IPY_MODEL_6e5e0e57bcdf4ba6aae6f85a3c4484c7",
       "style": "IPY_MODEL_c43088754ae041ed900dbcce91002197",
       "value": "100%"
      }
     },
     "da2927beee9c45918786c2e6387eac12": {
      "model_module": "@jupyter-widgets/controls",
      "model_module_version": "1.5.0",
      "model_name": "DescriptionStyleModel",
      "state": {
       "description_width": ""
      }
     },
     "db9af693ce7949219a8422f682557a0a": {
      "model_module": "@jupyter-widgets/controls",
      "model_module_version": "1.5.0",
      "model_name": "DescriptionStyleModel",
      "state": {
       "description_width": ""
      }
     },
     "dcd9bdad911d4beebe823caf44c1d6ed": {
      "model_module": "@jupyter-widgets/base",
      "model_module_version": "1.2.0",
      "model_name": "LayoutModel",
      "state": {}
     },
     "dcff4db84e36408e94d8bd9f1ab6a072": {
      "model_module": "@jupyter-widgets/controls",
      "model_module_version": "1.5.0",
      "model_name": "ProgressStyleModel",
      "state": {
       "description_width": ""
      }
     },
     "dd3b6245b6e8477498b7746d2fce75e6": {
      "model_module": "@jupyter-widgets/controls",
      "model_module_version": "1.5.0",
      "model_name": "DescriptionStyleModel",
      "state": {
       "description_width": ""
      }
     },
     "dd782cd10c2f4651894b80bee476ca64": {
      "model_module": "@jupyter-widgets/controls",
      "model_module_version": "1.5.0",
      "model_name": "HTMLModel",
      "state": {
       "layout": "IPY_MODEL_31f825c3f27146f2a83902276b4f54f6",
       "style": "IPY_MODEL_6745f6e0017748ce81be358ed1e57551",
       "value": " 8/8 [11:49&lt;00:00, 77.69s/it]"
      }
     },
     "de11d5e1b54d4b72a8a19c9dd8ebc4e0": {
      "model_module": "@jupyter-widgets/controls",
      "model_module_version": "1.5.0",
      "model_name": "DescriptionStyleModel",
      "state": {
       "description_width": ""
      }
     },
     "de12a86e5cf94c11ba555fd635fe80d1": {
      "model_module": "@jupyter-widgets/controls",
      "model_module_version": "1.5.0",
      "model_name": "FloatProgressModel",
      "state": {
       "bar_style": "success",
       "layout": "IPY_MODEL_fe895e39a2ef43aba8f7b98c3cf7593b",
       "max": 8,
       "style": "IPY_MODEL_5fd2630930874e2f87d56b13f5fb18d1",
       "value": 8
      }
     },
     "dea426e0953c4508a47005f62c2e1eb2": {
      "model_module": "@jupyter-widgets/controls",
      "model_module_version": "1.5.0",
      "model_name": "DescriptionStyleModel",
      "state": {
       "description_width": ""
      }
     },
     "deb0904474bf4c0d8e0dfff9143d7613": {
      "model_module": "@jupyter-widgets/base",
      "model_module_version": "1.2.0",
      "model_name": "LayoutModel",
      "state": {}
     },
     "def552f424ea42bb82635e1b5b9a54c2": {
      "model_module": "@jupyter-widgets/controls",
      "model_module_version": "1.5.0",
      "model_name": "ProgressStyleModel",
      "state": {
       "description_width": ""
      }
     },
     "df1cc09fcbf34694bb6a524d0e3f5960": {
      "model_module": "@jupyter-widgets/controls",
      "model_module_version": "1.5.0",
      "model_name": "FloatProgressModel",
      "state": {
       "bar_style": "success",
       "layout": "IPY_MODEL_c061528781a04733bbf74c0d66f97ef7",
       "max": 23,
       "style": "IPY_MODEL_67e7a40e813b44f5b341b16a216f669f",
       "value": 23
      }
     },
     "df80cc364b814c9ead52ab428bd2596f": {
      "model_module": "@jupyter-widgets/controls",
      "model_module_version": "1.5.0",
      "model_name": "DescriptionStyleModel",
      "state": {
       "description_width": ""
      }
     },
     "dfc1785ee7044868bfc1decbd66cf5eb": {
      "model_module": "@jupyter-widgets/base",
      "model_module_version": "1.2.0",
      "model_name": "LayoutModel",
      "state": {}
     },
     "e0b486ab1ee04d16be47ee5129ab18c8": {
      "model_module": "@jupyter-widgets/controls",
      "model_module_version": "1.5.0",
      "model_name": "FloatProgressModel",
      "state": {
       "bar_style": "success",
       "layout": "IPY_MODEL_9217d56caba648b486ebb302621d6bdb",
       "max": 8,
       "style": "IPY_MODEL_a3f2e046c2314273bb04dbdf18095f44",
       "value": 8
      }
     },
     "e169c74401844ce88b5d7b763bf19288": {
      "model_module": "@jupyter-widgets/base",
      "model_module_version": "1.2.0",
      "model_name": "LayoutModel",
      "state": {}
     },
     "e19bd19e81f64edb9f05e7097ef43a01": {
      "model_module": "@jupyter-widgets/base",
      "model_module_version": "1.2.0",
      "model_name": "LayoutModel",
      "state": {}
     },
     "e24a884f78c84612bfc30195b4bac1ff": {
      "model_module": "@jupyter-widgets/controls",
      "model_module_version": "1.5.0",
      "model_name": "DescriptionStyleModel",
      "state": {
       "description_width": ""
      }
     },
     "e30e273414324409b3b34036bbd67b1d": {
      "model_module": "@jupyter-widgets/controls",
      "model_module_version": "1.5.0",
      "model_name": "DescriptionStyleModel",
      "state": {
       "description_width": ""
      }
     },
     "e373334cdec24f61a1db31ad351a97d7": {
      "model_module": "@jupyter-widgets/controls",
      "model_module_version": "1.5.0",
      "model_name": "DescriptionStyleModel",
      "state": {
       "description_width": ""
      }
     },
     "e42e60a32a8840eeb4e84b83982ad98c": {
      "model_module": "@jupyter-widgets/controls",
      "model_module_version": "1.5.0",
      "model_name": "DescriptionStyleModel",
      "state": {
       "description_width": ""
      }
     },
     "e45520385e8c40b58bd08d2863e14b7a": {
      "model_module": "@jupyter-widgets/controls",
      "model_module_version": "1.5.0",
      "model_name": "DescriptionStyleModel",
      "state": {
       "description_width": ""
      }
     },
     "e49fb7b357e84cb9948dc13ec101aada": {
      "model_module": "@jupyter-widgets/controls",
      "model_module_version": "1.5.0",
      "model_name": "HTMLModel",
      "state": {
       "layout": "IPY_MODEL_58125fb6cc0e47798207e09a80bcb7f7",
       "style": "IPY_MODEL_df80cc364b814c9ead52ab428bd2596f",
       "value": "100%"
      }
     },
     "e4e384be55a54a69a716aff7e31dda32": {
      "model_module": "@jupyter-widgets/controls",
      "model_module_version": "1.5.0",
      "model_name": "DescriptionStyleModel",
      "state": {
       "description_width": ""
      }
     },
     "e5529e9d9471423084f07a0c3fdfbe0f": {
      "model_module": "@jupyter-widgets/controls",
      "model_module_version": "1.5.0",
      "model_name": "HTMLModel",
      "state": {
       "layout": "IPY_MODEL_addd0801aeb54a6ea53cf41299b3e2b7",
       "style": "IPY_MODEL_fc59104419a84414b6b5ea7fad4b380d",
       "value": " 8/8 [11:40&lt;00:00, 73.91s/it]"
      }
     },
     "e58b4f74340a46c89ad34dd68c29d73a": {
      "model_module": "@jupyter-widgets/base",
      "model_module_version": "1.2.0",
      "model_name": "LayoutModel",
      "state": {}
     },
     "e5c47bcfb6fe4458aeb285255124f5be": {
      "model_module": "@jupyter-widgets/base",
      "model_module_version": "1.2.0",
      "model_name": "LayoutModel",
      "state": {}
     },
     "e665b660cafc4c87b2d84239bd89252c": {
      "model_module": "@jupyter-widgets/controls",
      "model_module_version": "1.5.0",
      "model_name": "FloatProgressModel",
      "state": {
       "bar_style": "success",
       "layout": "IPY_MODEL_75fb21a2e90c4a168baadef91c7a4d33",
       "max": 8,
       "style": "IPY_MODEL_5cf11846387e428b9d3c182083f56292",
       "value": 8
      }
     },
     "e7254825e84040258641ddb8c77269c4": {
      "model_module": "@jupyter-widgets/base",
      "model_module_version": "1.2.0",
      "model_name": "LayoutModel",
      "state": {}
     },
     "e8378b24f2ef49189fea94500fac7873": {
      "model_module": "@jupyter-widgets/controls",
      "model_module_version": "1.5.0",
      "model_name": "HBoxModel",
      "state": {
       "children": [
        "IPY_MODEL_65d5e046a302426495378afce17beaab",
        "IPY_MODEL_cc8626b77a3e4738b6680a582f14a1bf",
        "IPY_MODEL_4b78c3b9e6504e1992252d457426d007"
       ],
       "layout": "IPY_MODEL_1ebbd6e8cf2b4025bd135aff95a10a8b"
      }
     },
     "e855e06ee76c46e4924436fec1d2d007": {
      "model_module": "@jupyter-widgets/base",
      "model_module_version": "1.2.0",
      "model_name": "LayoutModel",
      "state": {}
     },
     "e881ab5f9b7a48cbbf23202e34a6c87b": {
      "model_module": "@jupyter-widgets/base",
      "model_module_version": "1.2.0",
      "model_name": "LayoutModel",
      "state": {}
     },
     "ea3c2021ce284ae08a22ffb2d71767d9": {
      "model_module": "@jupyter-widgets/controls",
      "model_module_version": "1.5.0",
      "model_name": "DescriptionStyleModel",
      "state": {
       "description_width": ""
      }
     },
     "eacc6e94fc5746aca446c0f6c0b66972": {
      "model_module": "@jupyter-widgets/base",
      "model_module_version": "1.2.0",
      "model_name": "LayoutModel",
      "state": {}
     },
     "eadcae4cf413490381d4ea34b029829e": {
      "model_module": "@jupyter-widgets/base",
      "model_module_version": "1.2.0",
      "model_name": "LayoutModel",
      "state": {}
     },
     "ec0da36ac79045468071f8b0630b4819": {
      "model_module": "@jupyter-widgets/base",
      "model_module_version": "1.2.0",
      "model_name": "LayoutModel",
      "state": {}
     },
     "ec6715f371454df2b60554a36f928024": {
      "model_module": "@jupyter-widgets/controls",
      "model_module_version": "1.5.0",
      "model_name": "HTMLModel",
      "state": {
       "layout": "IPY_MODEL_a47df9c65a75431f8e2277f6ce6341bd",
       "style": "IPY_MODEL_1bf2ec2fdfd34aecbee62821e8cbf1c9",
       "value": "100%"
      }
     },
     "ecd0ca55218f48bfb09aafbdf7e581d8": {
      "model_module": "@jupyter-widgets/controls",
      "model_module_version": "1.5.0",
      "model_name": "FloatProgressModel",
      "state": {
       "bar_style": "success",
       "layout": "IPY_MODEL_f3f469ff447f4364a60e6ba7611b58bf",
       "max": 8,
       "style": "IPY_MODEL_03c46fcac8ee4caeb575053d8416c31c",
       "value": 8
      }
     },
     "ecdd27d113204ffab42c0423fa508093": {
      "model_module": "@jupyter-widgets/base",
      "model_module_version": "1.2.0",
      "model_name": "LayoutModel",
      "state": {}
     },
     "ed1a51808045434c90b36758998eefa9": {
      "model_module": "@jupyter-widgets/controls",
      "model_module_version": "1.5.0",
      "model_name": "DescriptionStyleModel",
      "state": {
       "description_width": ""
      }
     },
     "ed59813b2f2a4737b461ab67ed7fcb65": {
      "model_module": "@jupyter-widgets/controls",
      "model_module_version": "1.5.0",
      "model_name": "DescriptionStyleModel",
      "state": {
       "description_width": ""
      }
     },
     "ef00864cd47541a192aa6fecbc7e3c77": {
      "model_module": "@jupyter-widgets/base",
      "model_module_version": "1.2.0",
      "model_name": "LayoutModel",
      "state": {}
     },
     "ef130c687cc44dcf8ddd19fcae283e28": {
      "model_module": "@jupyter-widgets/controls",
      "model_module_version": "1.5.0",
      "model_name": "HTMLModel",
      "state": {
       "layout": "IPY_MODEL_65624b6054b34e1eb074b4b54300f981",
       "style": "IPY_MODEL_bd08f352b0de4cf2bbb4654c05fe6940",
       "value": "100%"
      }
     },
     "effefbdd79c244f28fe4e659334de93f": {
      "model_module": "@jupyter-widgets/base",
      "model_module_version": "1.2.0",
      "model_name": "LayoutModel",
      "state": {}
     },
     "f1050ef730914114b90efd4fc5c19c47": {
      "model_module": "@jupyter-widgets/controls",
      "model_module_version": "1.5.0",
      "model_name": "HTMLModel",
      "state": {
       "layout": "IPY_MODEL_e7254825e84040258641ddb8c77269c4",
       "style": "IPY_MODEL_025602a962c74af98eae695637ab7738",
       "value": " 8/8 [12:14&lt;00:00, 77.83s/it]"
      }
     },
     "f1136b947f3a40299f8848f85ccad0f5": {
      "model_module": "@jupyter-widgets/base",
      "model_module_version": "1.2.0",
      "model_name": "LayoutModel",
      "state": {}
     },
     "f15ab023f9274ceebb1c95db09163e37": {
      "model_module": "@jupyter-widgets/controls",
      "model_module_version": "1.5.0",
      "model_name": "DescriptionStyleModel",
      "state": {
       "description_width": ""
      }
     },
     "f1f374785386484297449c6077a5b40e": {
      "model_module": "@jupyter-widgets/controls",
      "model_module_version": "1.5.0",
      "model_name": "DescriptionStyleModel",
      "state": {
       "description_width": ""
      }
     },
     "f20ac3fc39ce450e8777877af7988708": {
      "model_module": "@jupyter-widgets/controls",
      "model_module_version": "1.5.0",
      "model_name": "ProgressStyleModel",
      "state": {
       "description_width": ""
      }
     },
     "f2989a4ea7724d909e66b3308ed0a2c7": {
      "model_module": "@jupyter-widgets/base",
      "model_module_version": "1.2.0",
      "model_name": "LayoutModel",
      "state": {}
     },
     "f3f469ff447f4364a60e6ba7611b58bf": {
      "model_module": "@jupyter-widgets/base",
      "model_module_version": "1.2.0",
      "model_name": "LayoutModel",
      "state": {}
     },
     "f415bc93111241e4afa80b3de9229b7e": {
      "model_module": "@jupyter-widgets/controls",
      "model_module_version": "1.5.0",
      "model_name": "HTMLModel",
      "state": {
       "layout": "IPY_MODEL_668c30eb8d6446ffbccf7dc22c595a06",
       "style": "IPY_MODEL_ed1a51808045434c90b36758998eefa9",
       "value": " 8/8 [13:43&lt;00:00, 90.53s/it]"
      }
     },
     "f4198bbdb8cc4f439679a012a55c803c": {
      "model_module": "@jupyter-widgets/controls",
      "model_module_version": "1.5.0",
      "model_name": "DescriptionStyleModel",
      "state": {
       "description_width": ""
      }
     },
     "f4278149f059460791baf0687e7ea21a": {
      "model_module": "@jupyter-widgets/base",
      "model_module_version": "1.2.0",
      "model_name": "LayoutModel",
      "state": {}
     },
     "f58e6b064cb042c890b0e23778c61457": {
      "model_module": "@jupyter-widgets/base",
      "model_module_version": "1.2.0",
      "model_name": "LayoutModel",
      "state": {}
     },
     "f656971917b74a538fd751e87a6926e3": {
      "model_module": "@jupyter-widgets/base",
      "model_module_version": "1.2.0",
      "model_name": "LayoutModel",
      "state": {}
     },
     "f7ab82c9eff14016bf296310efa773c6": {
      "model_module": "@jupyter-widgets/controls",
      "model_module_version": "1.5.0",
      "model_name": "HTMLModel",
      "state": {
       "layout": "IPY_MODEL_2b89eb1a151e4b1eaa56b35f6fb75b38",
       "style": "IPY_MODEL_6552b0756be54e8a94da7ca08a2b9632",
       "value": "100%"
      }
     },
     "f8450b8802d04271be5c8ef514a53ec1": {
      "model_module": "@jupyter-widgets/controls",
      "model_module_version": "1.5.0",
      "model_name": "HTMLModel",
      "state": {
       "layout": "IPY_MODEL_81d324fb155c4b8f93187bff76a4396b",
       "style": "IPY_MODEL_e373334cdec24f61a1db31ad351a97d7",
       "value": " 23/23 [4:37:53&lt;00:00, 759.75s/it]"
      }
     },
     "f929376006bf494d87c2fda5094bbfba": {
      "model_module": "@jupyter-widgets/controls",
      "model_module_version": "1.5.0",
      "model_name": "HBoxModel",
      "state": {
       "children": [
        "IPY_MODEL_3d73b18b575746cba864ec78d003910c",
        "IPY_MODEL_8e948e32f3ff42d69a3352316968cef3",
        "IPY_MODEL_b7e88bcb6c654b3b95bcc5513e05171f"
       ],
       "layout": "IPY_MODEL_7de26230fe2e429982b9943544988303"
      }
     },
     "f9a9e00ea31a47b19b51a72d6b3f7113": {
      "model_module": "@jupyter-widgets/controls",
      "model_module_version": "1.5.0",
      "model_name": "HBoxModel",
      "state": {
       "children": [
        "IPY_MODEL_b2ca5e053db743f6a10732d5c0644729",
        "IPY_MODEL_e665b660cafc4c87b2d84239bd89252c",
        "IPY_MODEL_f415bc93111241e4afa80b3de9229b7e"
       ],
       "layout": "IPY_MODEL_eadcae4cf413490381d4ea34b029829e"
      }
     },
     "faa5264b99be4f728dab520be7885d6c": {
      "model_module": "@jupyter-widgets/controls",
      "model_module_version": "1.5.0",
      "model_name": "DescriptionStyleModel",
      "state": {
       "description_width": ""
      }
     },
     "fc59104419a84414b6b5ea7fad4b380d": {
      "model_module": "@jupyter-widgets/controls",
      "model_module_version": "1.5.0",
      "model_name": "DescriptionStyleModel",
      "state": {
       "description_width": ""
      }
     },
     "fc5c84bff1674114a29c544a7b185223": {
      "model_module": "@jupyter-widgets/controls",
      "model_module_version": "1.5.0",
      "model_name": "FloatProgressModel",
      "state": {
       "bar_style": "success",
       "layout": "IPY_MODEL_5da95650e4734d4e93dbc312bd5baf98",
       "max": 8,
       "style": "IPY_MODEL_7b6db4df4f4e4939aca79104787787e2",
       "value": 8
      }
     },
     "fc948bcef5ae492f88abdbc94d283ac1": {
      "model_module": "@jupyter-widgets/controls",
      "model_module_version": "1.5.0",
      "model_name": "HBoxModel",
      "state": {
       "children": [
        "IPY_MODEL_9d04fe90c9f544f09f356f1ea273a49a",
        "IPY_MODEL_196ebb708a7d404bab79bf2b43b26c44",
        "IPY_MODEL_a935b246855441c9a94f1b4c2b7979e1"
       ],
       "layout": "IPY_MODEL_d25e3647ed774835a2642856c38a0de8"
      }
     },
     "fe895e39a2ef43aba8f7b98c3cf7593b": {
      "model_module": "@jupyter-widgets/base",
      "model_module_version": "1.2.0",
      "model_name": "LayoutModel",
      "state": {}
     }
    },
    "version_major": 2,
    "version_minor": 0
   }
  }
 },
 "nbformat": 4,
 "nbformat_minor": 4
}
