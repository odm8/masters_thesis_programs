{
 "cells": [
  {
   "cell_type": "markdown",
   "metadata": {},
   "source": [
    "In this Jupyter notebook, one can perform the **spherical 2-design test** (see Section 2.3 of the Master's thesis) for any shell up to squared distance $3$ (see Appendix E of the Master's thesis) for one of the deep holes listed below.\n",
    "\n",
    "According to Section 4.4.2 of the Master's thesis (or the accompanying Jupyter notebook that computes the distances from the first three shells of $ \\Lambda_{24} $ to the deep holes), the squared distance of any shell is a multiple of\n",
    "\n",
    "$$\n",
    "\\frac{2}{h}\n",
    "$$\n",
    "\n",
    "starting from $ 2 $, where $ h $ is the **Coxeter number** associated with the deep hole.\n",
    "\n"
   ]
  },
  {
   "cell_type": "code",
   "execution_count": 417,
   "metadata": {},
   "outputs": [],
   "source": [
    "from tqdm.notebook import tqdm\n",
    "import numpy as np\n",
    "import os"
   ]
  },
  {
   "cell_type": "code",
   "execution_count": 418,
   "metadata": {},
   "outputs": [
    {
     "name": "stdout",
     "output_type": "stream",
     "text": [
      "/home/sage\n"
     ]
    }
   ],
   "source": [
    "print(os.getcwd()) "
   ]
  },
  {
   "cell_type": "code",
   "execution_count": 419,
   "metadata": {},
   "outputs": [],
   "source": [
    "folder = \"data_leech-shells-around-zero/\""
   ]
  },
  {
   "cell_type": "markdown",
   "metadata": {},
   "source": [
    "---------------------------------------"
   ]
  },
  {
   "cell_type": "markdown",
   "metadata": {},
   "source": [
    "The following functions perform the **spherical 2-design test** and display the results accordingly."
   ]
  },
  {
   "cell_type": "code",
   "execution_count": 420,
   "metadata": {},
   "outputs": [],
   "source": [
    "# P is a Matrix with the columns being the vertices of the second shell around the deep hole c\n",
    "def sph_two_design_test(P,c):\n",
    "    X = P.ncols()        #order of the shell around c\n",
    "    n = P.nrows()        #dimension of the space\n",
    "    r = (P.column(0)-c).norm()                 \n",
    "    M = P -Matrix([c]*X).transpose()  #new Matrix where the vertices are P-c   \n",
    "        \n",
    "    #Test, whether all points have the same distance to the hole c\n",
    "    for index, element in enumerate(M.columns()):\n",
    "        if element.norm() != r:\n",
    "            raise ValueError(\"Points of P do not have same distance to c \"+ \n",
    "                             f\" Element at index {index} is {element} and radius {element.norm()} but it should be {r}\")\n",
    "    \n",
    "    s_1 = sum(M.columns()) # 1-design test\n",
    "    s_2 = Matrix(M.columns()).transpose() * Matrix(M.columns()) \n",
    "    \n",
    "    # checking codition for the spherical 2-design test\n",
    "    (b_1,b_2) = (s_1 == 0, s_2 == r^2 * (X/n) * identity_matrix(n)) \n",
    "    return (b_1, b_1 & b_2, X, n, r^2, s_1, s_2, P, M, c)\n",
    "\n",
    "#Function to present the results\n",
    "def print_result(res):\n",
    "    print(f\"Is spherical 1-design: {res[0]}\")\n",
    "    print(f\"Is spherical 2-design: {res[1]}\")\n",
    "    print(\"\")\n",
    "    print(f\"Number of points of in the shell: {res[2]}\")\n",
    "    print(f\"Dimension :  {res[3]}\")\n",
    "    print(f\"Squared distance to the deep hole: {res[4]}\")\n",
    "    print(\"\")\n",
    "    print(\"The vector of the spherical 1-design test: \")\n",
    "    print(res[5])\n",
    "    print(\"\")\n",
    "    print(\"The matrix of the spherical 2-design test:\")\n",
    "    print(res[6])\n",
    "    print(\"\")\n",
    "    print(f\"The deep hole: \")\n",
    "    print(res[9])\n",
    "    return "
   ]
  },
  {
   "cell_type": "markdown",
   "metadata": {},
   "source": [
    "--------------------------------------------------------------------------------------------------"
   ]
  },
  {
   "cell_type": "markdown",
   "metadata": {},
   "source": [
    "**Deep Hole List**\n",
    "\n",
    "All are scaled by $\\sqrt 8 \\cdot s$, where $s$ is the second entry in the tuple in the dictionary below."
   ]
  },
  {
   "cell_type": "code",
   "execution_count": 421,
   "metadata": {},
   "outputs": [],
   "source": [
    "c_A1 = vector([4,0,0,0, 0,0,0,0, 0,0,0,0, 0,0,0,0, 0,0,0,0, 0,0,0,0]) \n",
    "c_A2 = vector([10,0,0,0, 0,2,2,2, 2,0,0,0,  0,2,2,2, 2,0,0,0, 0,2,2,2 ])\n",
    "c_A3 = vector([-1,1,1,1, 1,1,1,1, 2,0,0,0, 0,0,0,0, 2,0,0,0, 0,0,0,0])\n",
    "c_A4 = vector([4,8,4,4, 4,4,4,4, 2,2,6,6, 6,2,2,2, 6,2,2,2, 6,2,2,2]) \n",
    "c_A6 = vector([21]*1 + [1]*7 + [-7]*1 + [5]*7 +[7]*1+ [3]*7)\n",
    "c_A8 = vector([27,1,1,1, 3,1,1,1, -9,5,5,5, 3,5,5,5, 9,7,7,7, 3,5,5,5])\n",
    "c_A12 = vector([39,3,1,3, 3,1,1,1, -13,5,7,7, 5,9,9,7, 13,7,11,7, 5,9,7,9])\n",
    "c_A7D5 = vector([12,1,1,1, 1,0,0,0, -4,3,2,2,  2,3,2,2, 4,3,2,2, 2,3,2,2])\n",
    "c_A9D6 = vector([ 15,1,1,1, 1,0,0,1, -5,3,2,2, 2,3,4,3, 5,3,3,3, 2,3,3,4])  \n",
    "c_A11D7E6 = vector([ 18,1,1,1, 2,0,0,1, -6,3,3,3, 2,4,4,3, 6,3,4,4, 3,5,4,3])\n",
    "c_A15D9 = vector([ 24,1,1,2, 2,1,0,1, -8,4,4,4, 3,7,6,4, 8,4,5,5, 3,5,5,5])\n",
    "c_A17E7 =  vector([ 27,1,2,2, 2,1,0,1, -9,4,5,4, 3,7,6,6, 9,4,7,6, 4,6,5,5])\n",
    "c_E8 =  vector([ 45,1,4,1, 6,2,2,-1, -15,8,8,8, 6,7,10,10, 15,10,10,10, 6,7,10,10]) \n",
    "c_E6 = vector([ 18,1,1,1, 3,0,0,0, -6,5,5,5, 4,3,3,3, 4,3,3,3, 4,3,3,3])\n",
    "c_A24 = vector([75,3,5,5, 7,1,1,3, -25,13,13,11, 9,17,15,15, 25,13,23,15, 11,17,13,15]) \n",
    "c_D4 = vector([2,4,4,4, 2,2,4,2, 2,2,2,2, 2,2,2,2, 2,2,2,2, 2,2,2,2])\n",
    "c_A5D4 = vector([5,9,9,9, 3,3,3,3, 5,5,3,3, 3,3,5,5, 3,3,5,5, 3,3,5,5])\n",
    "c_D6 = vector([3,7,7,7, 3,3,3,3, 3,3,3,3, 3,3,3,3, 3,3,5,5, 3,3,5,5])\n",
    "c_D8 = vector([4,10,10,10, 6,4,4,8, 4,4,4,4, 4,4,4,4, 4,4,6,6, 4,4,6,6])\n",
    "c_D10E7 = vector([5,13,13,13, 7,7,5,9, 5,5,5,5, 5,5,5,5, 5,5,9,9, 5,5,7,7])\n",
    "c_D12 = vector([6,16,16,16, 8,8,6,12, 6,6,6,6, 6,6,6,6, 8,6,10,10, 6,6,10,8])\n",
    "c_D16E8 = vector([8,22,22,22, 12,10,8,16, 10,8,8,8, 8,8,8,8, 10,8,14,14, 8,8,12,12])\n",
    "c_D24 = vector([12,34,34,34, 18,16,12,24, 14,12,12,12, 12,12,12,12, 16,12,20,22, 12,14,20,18]) "
   ]
  },
  {
   "cell_type": "code",
   "execution_count": 422,
   "metadata": {},
   "outputs": [],
   "source": [
    "deep_hole_dict = {\n",
    "    \"A1\": (np.array(c_A1), 1), #s is the second entry\n",
    "    \"A2\": (np.array(c_A2), 3),\n",
    "    \"A3\": (np.array(c_A3), 1),\n",
    "    \"A4\": (np.array(c_A4), 5),\n",
    "    \"A6\": (np.array(c_A6), 7), \n",
    "    \"A8\": (np.array(c_A8), 9),\n",
    "    \"A12\":(np.array(c_A12), 13),   \n",
    "    \"A7D5\":(np.array(c_A7D5), 4),\n",
    "    \"A9D6\":(np.array(c_A9D6), 5),\n",
    "    \"A11D7E6\":(np.array(c_A11D7E6), 6),\n",
    "    \"A15D9\":(np.array(c_A15D9), 8),   \n",
    "    \"A17E7\":(np.array(c_A17E7), 9),\n",
    "    \"E8\":(np.array(c_E8), 15),\n",
    "    \"E6\":(np.array(c_E6), 6),  \n",
    "    \"A24\":(np.array(c_A24), 25),\n",
    "    \"D4\":(np.array(c_D4), 3),\n",
    "    \"A5D4\":(np.array(c_A5D4), 6),\n",
    "    \"D6\": (np.array(c_D6), 5),\n",
    "    \"D8\": (np.array(c_D8), 7),\n",
    "    \"D10E7\": (np.array(c_D10E7), 9),\n",
    "    \"D12\": (np.array(c_D12), 11),       \n",
    "    \"D16E8\": (np.array(c_D16E8), 15),\n",
    "    \"D24\": (np.array(c_D24), 23)   \n",
    "}"
   ]
  },
  {
   "cell_type": "markdown",
   "metadata": {},
   "source": [
    "----------------------------------------------------"
   ]
  },
  {
   "cell_type": "markdown",
   "metadata": {},
   "source": [
    "Insert in **\"key\"** the name of the deep hole in the dictionary above and in **\"dist\"** the **squared distance** of the shell to the deep hole in $\\Lambda_{24}$:"
   ]
  },
  {
   "cell_type": "code",
   "execution_count": 423,
   "metadata": {},
   "outputs": [],
   "source": [
    "key = \"A3\"\n",
    "dist = 3"
   ]
  },
  {
   "cell_type": "code",
   "execution_count": 424,
   "metadata": {},
   "outputs": [],
   "source": [
    "deep_hole = deep_hole_dict[key]"
   ]
  },
  {
   "cell_type": "markdown",
   "metadata": {},
   "source": [
    "The procedure is as follows.\n",
    "\n",
    "Since our database of $ \\Lambda_{24} $ is scaled by $ \\sqrt{8} $ so that all entries are integers, we need to scale by a factor $ s $, as our deep hole is also scaled accordingly. The squared distance from the shell to the deep hole thus becomes the integer:\n",
    "\n",
    "$$\n",
    "dist \\cdot 8 \\cdot s^2.\n",
    "$$\n",
    "\n",
    "Since we are working exclusively with integers, we can safely use NumPy functions and still obtain exact results—this is the approach we take.  \n",
    "\n",
    "We search through each of the first three shells for points that lie at the appropriate distance from our deep hole and store them in the list $ P$.  \n",
    "At the end, we scale everything accordingly and perform the spherical 2-design test on the gathered point set.\n",
    "\n",
    "To save RAM, we will use the data type `np.int32`, which is perfectly valid given the size of the numbers involved.\n",
    "\n",
    "Also note that all points from the second shell of the chosen deep hole are contained in our database (see Appendix E of the Master's thesis)."
   ]
  },
  {
   "cell_type": "code",
   "execution_count": 425,
   "metadata": {},
   "outputs": [],
   "source": [
    "dist_sec_shell = (dist)*8*(deep_hole[1]^2) #"
   ]
  },
  {
   "cell_type": "code",
   "execution_count": 426,
   "metadata": {},
   "outputs": [],
   "source": [
    "P = []"
   ]
  },
  {
   "cell_type": "markdown",
   "metadata": {},
   "source": [
    "**Zero Shell**"
   ]
  },
  {
   "cell_type": "code",
   "execution_count": 427,
   "metadata": {},
   "outputs": [],
   "source": [
    "if np.sum(deep_hole[0] ** 2) == dist_sec_shell:\n",
    "    P = P + [np.zeros(24, dtype=int)]"
   ]
  },
  {
   "cell_type": "markdown",
   "metadata": {},
   "source": [
    "**First Shell**"
   ]
  },
  {
   "cell_type": "code",
   "execution_count": 428,
   "metadata": {},
   "outputs": [
    {
     "name": "stdout",
     "output_type": "stream",
     "text": [
      "(196560, 24)\n"
     ]
    }
   ],
   "source": [
    "np_shell_1_around_zero = np.load(folder+'shell1_around_zero.npy')\n",
    "print(np_shell_1_around_zero.shape)"
   ]
  },
  {
   "cell_type": "code",
   "execution_count": 429,
   "metadata": {},
   "outputs": [],
   "source": [
    "differences = np_shell_1_around_zero*deep_hole[1] - deep_hole[0] \n",
    "\n",
    "squared_distances = np.sum(differences.astype(np.int32) ** 2, axis=1) \n",
    "\n",
    "coord =  np.where(squared_distances == dist_sec_shell)[0]\n",
    "\n",
    "P = P + [np_shell_1_around_zero[i, :] for i in coord]"
   ]
  },
  {
   "cell_type": "code",
   "execution_count": 430,
   "metadata": {},
   "outputs": [],
   "source": [
    "del np_shell_1_around_zero"
   ]
  },
  {
   "cell_type": "markdown",
   "metadata": {},
   "source": [
    "**Second Shell**"
   ]
  },
  {
   "cell_type": "code",
   "execution_count": 431,
   "metadata": {},
   "outputs": [
    {
     "name": "stdout",
     "output_type": "stream",
     "text": [
      "(16773120, 24)\n"
     ]
    }
   ],
   "source": [
    "np_shell_2_around_zero = np.vstack(((np.load(folder+'shell2_shape1_around_zero.npy')).reshape(-1, 24), \n",
    "                                    np.load(folder+'shell2_shape2_around_zero.npy').reshape(-1, 24), \n",
    "                                    np.load(folder+'shell2_shape3_around_zero.npy').reshape(-1, 24), \n",
    "                                    np.load(folder+'shell2_shape4_around_zero.npy').reshape(-1, 24)))\n",
    "print(np_shell_2_around_zero.shape)"
   ]
  },
  {
   "cell_type": "code",
   "execution_count": 432,
   "metadata": {},
   "outputs": [],
   "source": [
    "differences = np_shell_2_around_zero*deep_hole[1] - deep_hole[0] \n",
    "\n",
    "squared_distances = np.sum(differences.astype(np.int32) ** 2, axis=1) \n",
    "\n",
    "coord =  np.where(squared_distances == dist_sec_shell)[0]\n",
    "\n",
    "P = P + [np_shell_2_around_zero[i, :] for i in coord]"
   ]
  },
  {
   "cell_type": "code",
   "execution_count": 433,
   "metadata": {},
   "outputs": [],
   "source": [
    "del np_shell_2_around_zero"
   ]
  },
  {
   "cell_type": "markdown",
   "metadata": {},
   "source": [
    "**Third Shell**"
   ]
  },
  {
   "cell_type": "code",
   "execution_count": 434,
   "metadata": {},
   "outputs": [],
   "source": [
    "# Due to the size of the third shell, we need to use memory mapping to avoid loading the entire array into RAM\n",
    "memmap_array1 = np.load(folder+'shell3_shape1_around_zero.npy', mmap_mode='r')\n",
    "memmap_array2 = np.load(folder+'shell3_shape2_around_zero.npy', mmap_mode='r')\n",
    "memmap_array3 = np.load(folder+'shell3_shape3_around_zero.npy', mmap_mode='r')\n",
    "memmap_array4 = np.load(folder+'shell3_shape4_around_zero.npy', mmap_mode='r')\n",
    "memmap_array5 = np.load(folder+'shell3_shape5_around_zero.npy', mmap_mode='r')\n",
    "memmap_array6 = np.load(folder+'shell3_shape6_around_zero.npy', mmap_mode='r')\n",
    "memmap_array7 = np.load(folder+'shell3_shape7_around_zero.npy', mmap_mode='r')\n",
    "memmap_array8 = np.load(folder+'shell3_shape8_around_zero.npy', mmap_mode='r')"
   ]
  },
  {
   "cell_type": "code",
   "execution_count": 435,
   "metadata": {},
   "outputs": [],
   "source": [
    "shape_arrays = [memmap_array1.reshape(-1,24), memmap_array2.reshape(-1,24), memmap_array3.reshape(-1,24), \n",
    "                memmap_array4.reshape(-1,24), memmap_array5.reshape(-1,24), memmap_array6.reshape(-1,24), \n",
    "                memmap_array7.reshape(-1,24), memmap_array8.reshape(-1,24)]"
   ]
  },
  {
   "cell_type": "code",
   "execution_count": 436,
   "metadata": {},
   "outputs": [
    {
     "data": {
      "text/plain": [
       "(48, 24)"
      ]
     },
     "execution_count": 436,
     "metadata": {},
     "output_type": "execute_result"
    }
   ],
   "source": [
    "chunk_size = 1600000\n",
    "shape_arrays[7].shape"
   ]
  },
  {
   "cell_type": "code",
   "execution_count": 437,
   "metadata": {},
   "outputs": [
    {
     "data": {
      "application/vnd.jupyter.widget-view+json": {
       "model_id": "4d4ef5c0baa74a1883e1928b4acc6248",
       "version_major": 2,
       "version_minor": 0
      },
      "text/plain": [
       "  0%|          | 0/8 [00:00<?, ?it/s]"
      ]
     },
     "metadata": {},
     "output_type": "display_data"
    }
   ],
   "source": [
    "for array in tqdm(shape_arrays):\n",
    "    for i in range(0,array.shape[0],chunk_size):  \n",
    "        \n",
    "        differences = array[i:i + chunk_size, :]*deep_hole[1] - deep_hole[0]         \n",
    "        \n",
    "        squared_distances = np.sum(differences.astype(np.int32) ** 2, axis=1)\n",
    "        \n",
    "        coord =  np.where(squared_distances == dist_sec_shell)[0]\n",
    "        \n",
    "        P = P + [(array[i:i + chunk_size, :])[k, :] for k in coord]"
   ]
  },
  {
   "cell_type": "code",
   "execution_count": 438,
   "metadata": {},
   "outputs": [],
   "source": [
    "del memmap_array1\n",
    "del memmap_array2\n",
    "del memmap_array3\n",
    "del memmap_array4\n",
    "del memmap_array5\n",
    "del memmap_array6\n",
    "del memmap_array7\n",
    "del memmap_array8"
   ]
  },
  {
   "cell_type": "markdown",
   "metadata": {},
   "source": [
    "We know conduct the spherical 2-design test."
   ]
  },
  {
   "cell_type": "code",
   "execution_count": 439,
   "metadata": {},
   "outputs": [],
   "source": [
    "P = (Matrix(QQ,P)/sqrt(8)).transpose()"
   ]
  },
  {
   "cell_type": "code",
   "execution_count": 440,
   "metadata": {},
   "outputs": [
    {
     "name": "stdout",
     "output_type": "stream",
     "text": [
      "Is spherical 1-design: True\n",
      "Is spherical 2-design: False\n",
      "\n",
      "Number of points of in the shell: 2048\n",
      "Dimension :  24\n",
      "Squared distance to the deep hole: 3\n",
      "\n",
      "The vector of the spherical 1-design test: \n",
      "(0, 0, 0, 0, 0, 0, 0, 0, 0, 0, 0, 0, 0, 0, 0, 0, 0, 0, 0, 0, 0, 0, 0, 0)\n",
      "\n",
      "The matrix of the spherical 2-design test:\n",
      "[288   0   0   0   0   0   0   0   0   0   0   0   0   0   0   0   0   0   0   0   0   0   0   0]\n",
      "[  0 288   0   0   0   0   0   0   0   0   0   0   0   0   0   0   0   0   0   0   0   0   0   0]\n",
      "[  0   0 288   0   0   0   0   0   0   0   0   0   0   0   0   0   0   0   0   0   0   0   0   0]\n",
      "[  0   0   0 288   0   0   0   0   0   0   0   0   0   0   0   0   0   0   0   0   0   0   0   0]\n",
      "[  0   0   0   0 288   0   0   0   0   0   0   0   0   0   0   0   0   0   0   0   0   0   0   0]\n",
      "[  0   0   0   0   0 288   0   0   0   0   0   0   0   0   0   0   0   0   0   0   0   0   0   0]\n",
      "[  0   0   0   0   0   0 288   0   0   0   0   0   0   0   0   0   0   0   0   0   0   0   0   0]\n",
      "[  0   0   0   0   0   0   0 288   0   0   0   0   0   0   0   0   0   0   0   0   0   0   0   0]\n",
      "[  0   0   0   0   0   0   0   0 240   0   0   0   0   0   0   0   0   0   0   0   0   0   0   0]\n",
      "[  0   0   0   0   0   0   0   0   0 240   0   0   0   0   0   0   0   0   0   0   0   0   0   0]\n",
      "[  0   0   0   0   0   0   0   0   0   0 240   0   0   0   0   0   0   0   0   0   0   0   0   0]\n",
      "[  0   0   0   0   0   0   0   0   0   0   0 240   0   0   0   0   0   0   0   0   0   0   0   0]\n",
      "[  0   0   0   0   0   0   0   0   0   0   0   0 240   0   0   0   0   0   0   0   0   0   0   0]\n",
      "[  0   0   0   0   0   0   0   0   0   0   0   0   0 240   0   0   0   0   0   0   0   0   0   0]\n",
      "[  0   0   0   0   0   0   0   0   0   0   0   0   0   0 240   0   0   0   0   0   0   0   0   0]\n",
      "[  0   0   0   0   0   0   0   0   0   0   0   0   0   0   0 240   0   0   0   0   0   0   0   0]\n",
      "[  0   0   0   0   0   0   0   0   0   0   0   0   0   0   0   0 240   0   0   0   0   0   0   0]\n",
      "[  0   0   0   0   0   0   0   0   0   0   0   0   0   0   0   0   0 240   0   0   0   0   0   0]\n",
      "[  0   0   0   0   0   0   0   0   0   0   0   0   0   0   0   0   0   0 240   0   0   0   0   0]\n",
      "[  0   0   0   0   0   0   0   0   0   0   0   0   0   0   0   0   0   0   0 240   0   0   0   0]\n",
      "[  0   0   0   0   0   0   0   0   0   0   0   0   0   0   0   0   0   0   0   0 240   0   0   0]\n",
      "[  0   0   0   0   0   0   0   0   0   0   0   0   0   0   0   0   0   0   0   0   0 240   0   0]\n",
      "[  0   0   0   0   0   0   0   0   0   0   0   0   0   0   0   0   0   0   0   0   0   0 240   0]\n",
      "[  0   0   0   0   0   0   0   0   0   0   0   0   0   0   0   0   0   0   0   0   0   0   0 240]\n",
      "\n",
      "The deep hole: \n",
      "(-1/4*sqrt(2), 1/4*sqrt(2), 1/4*sqrt(2), 1/4*sqrt(2), 1/4*sqrt(2), 1/4*sqrt(2), 1/4*sqrt(2), 1/4*sqrt(2), 1/2*sqrt(2), 0, 0, 0, 0, 0, 0, 0, 1/2*sqrt(2), 0, 0, 0, 0, 0, 0, 0)\n"
     ]
    }
   ],
   "source": [
    "result = sph_two_design_test(P, vector(deep_hole[0].tolist()) /(sqrt(8)*deep_hole[1]))\n",
    "print_result(result)"
   ]
  },
  {
   "cell_type": "markdown",
   "metadata": {},
   "source": [
    "--------------------------------------------------------------"
   ]
  },
  {
   "cell_type": "markdown",
   "metadata": {},
   "source": [
    "---------------------------------------------------------------------------------------------"
   ]
  }
 ],
 "metadata": {
  "kernelspec": {
   "display_name": "SageMath 9.3",
   "language": "sage",
   "name": "sagemath"
  },
  "language_info": {
   "codemirror_mode": {
    "name": "ipython",
    "version": 3
   },
   "file_extension": ".py",
   "mimetype": "text/x-python",
   "name": "python",
   "nbconvert_exporter": "python",
   "pygments_lexer": "ipython3",
   "version": "3.7.10"
  },
  "widgets": {
   "application/vnd.jupyter.widget-state+json": {
    "state": {
     "00c988f3dcb94a95849f1feff065cd61": {
      "model_module": "@jupyter-widgets/controls",
      "model_module_version": "1.5.0",
      "model_name": "ProgressStyleModel",
      "state": {
       "description_width": ""
      }
     },
     "0196975131da4aa8bcb83671a7921b55": {
      "model_module": "@jupyter-widgets/controls",
      "model_module_version": "1.5.0",
      "model_name": "HBoxModel",
      "state": {
       "children": [
        "IPY_MODEL_4e54dee28f924c489e4f46e3a552359d",
        "IPY_MODEL_0c85f9f6e8854e7ebf0ef07eef0dd8e5",
        "IPY_MODEL_771bcfa4db0c4cdd874ee0295128fd8a"
       ],
       "layout": "IPY_MODEL_b30d1969a9a5429d8853984c1022edf7"
      }
     },
     "01b7cb45e42e4288a6a4f8be02460337": {
      "model_module": "@jupyter-widgets/base",
      "model_module_version": "1.2.0",
      "model_name": "LayoutModel",
      "state": {}
     },
     "04ef5a22144145f49b05da3d5e1ed54b": {
      "model_module": "@jupyter-widgets/controls",
      "model_module_version": "1.5.0",
      "model_name": "DescriptionStyleModel",
      "state": {
       "description_width": ""
      }
     },
     "0651bef0604e4a88b2bbfa69cc7338bd": {
      "model_module": "@jupyter-widgets/base",
      "model_module_version": "1.2.0",
      "model_name": "LayoutModel",
      "state": {}
     },
     "092a378b48cc4853862c768e7322893e": {
      "model_module": "@jupyter-widgets/controls",
      "model_module_version": "1.5.0",
      "model_name": "HTMLModel",
      "state": {
       "layout": "IPY_MODEL_7948aa9d0b3f4329b9a93ffdad3753a9",
       "style": "IPY_MODEL_d3d961f9cdeb4bcc9530278e7e0ad091",
       "value": " 8/8 [07:32&lt;00:00, 48.14s/it]"
      }
     },
     "092a9556562e4484bfb98b80cc75ac9e": {
      "model_module": "@jupyter-widgets/base",
      "model_module_version": "1.2.0",
      "model_name": "LayoutModel",
      "state": {}
     },
     "09f56d2935ac4ef5a6cf883c4f6e86ec": {
      "model_module": "@jupyter-widgets/base",
      "model_module_version": "1.2.0",
      "model_name": "LayoutModel",
      "state": {}
     },
     "0b36eafa8c684e258c6f26a2e0d2d048": {
      "model_module": "@jupyter-widgets/controls",
      "model_module_version": "1.5.0",
      "model_name": "HBoxModel",
      "state": {
       "children": [
        "IPY_MODEL_8921e5b2062148f2b72868fcf9f7c4b7",
        "IPY_MODEL_11282b111eba48dab928dabbe64deba6",
        "IPY_MODEL_885a2dd446f643cb96c38dd649c8ada9"
       ],
       "layout": "IPY_MODEL_5809703c5100415fb0f19320e17f11d3"
      }
     },
     "0c85f9f6e8854e7ebf0ef07eef0dd8e5": {
      "model_module": "@jupyter-widgets/controls",
      "model_module_version": "1.5.0",
      "model_name": "FloatProgressModel",
      "state": {
       "bar_style": "success",
       "layout": "IPY_MODEL_8baa0e7c22f3466ba682e4fbd2c13fdb",
       "max": 8,
       "style": "IPY_MODEL_d6fb532d3f374ec7bb4cfc52ac9f2385",
       "value": 8
      }
     },
     "0e5f516b90f74eeb9225dfd139f46d7f": {
      "model_module": "@jupyter-widgets/controls",
      "model_module_version": "1.5.0",
      "model_name": "DescriptionStyleModel",
      "state": {
       "description_width": ""
      }
     },
     "0f416fdbd0944cf0ac3789eba8e6ae7a": {
      "model_module": "@jupyter-widgets/controls",
      "model_module_version": "1.5.0",
      "model_name": "HTMLModel",
      "state": {
       "layout": "IPY_MODEL_1f8195e4b4fa4ad68ef917d7125847fc",
       "style": "IPY_MODEL_f4fa4b94470641e181e66c0f3a227a0f",
       "value": " 8/8 [07:34&lt;00:00, 48.62s/it]"
      }
     },
     "11282b111eba48dab928dabbe64deba6": {
      "model_module": "@jupyter-widgets/controls",
      "model_module_version": "1.5.0",
      "model_name": "FloatProgressModel",
      "state": {
       "bar_style": "success",
       "layout": "IPY_MODEL_9a8607a43e6d4478a17b7302cdf4b239",
       "max": 8,
       "style": "IPY_MODEL_c73c2a592ec24e4ca1ec686a6f8aa338",
       "value": 8
      }
     },
     "136795ff4cd543c287a68635b23309c7": {
      "model_module": "@jupyter-widgets/controls",
      "model_module_version": "1.5.0",
      "model_name": "HTMLModel",
      "state": {
       "layout": "IPY_MODEL_092a9556562e4484bfb98b80cc75ac9e",
       "style": "IPY_MODEL_64aa1c6e2d4f4609b4458223fa097548",
       "value": "100%"
      }
     },
     "15251000b2434e6e96cf65179ca962f1": {
      "model_module": "@jupyter-widgets/controls",
      "model_module_version": "1.5.0",
      "model_name": "ProgressStyleModel",
      "state": {
       "description_width": ""
      }
     },
     "166ae6d02b4a44b3b4add860ef3686af": {
      "model_module": "@jupyter-widgets/base",
      "model_module_version": "1.2.0",
      "model_name": "LayoutModel",
      "state": {}
     },
     "1ea543767dac477c8c2c2156a8857777": {
      "model_module": "@jupyter-widgets/controls",
      "model_module_version": "1.5.0",
      "model_name": "DescriptionStyleModel",
      "state": {
       "description_width": ""
      }
     },
     "1eda7b9184ad41bc98d82002d86f9633": {
      "model_module": "@jupyter-widgets/controls",
      "model_module_version": "1.5.0",
      "model_name": "DescriptionStyleModel",
      "state": {
       "description_width": ""
      }
     },
     "1eff2fd1235f4bc79aa6657a46567992": {
      "model_module": "@jupyter-widgets/base",
      "model_module_version": "1.2.0",
      "model_name": "LayoutModel",
      "state": {}
     },
     "1f8195e4b4fa4ad68ef917d7125847fc": {
      "model_module": "@jupyter-widgets/base",
      "model_module_version": "1.2.0",
      "model_name": "LayoutModel",
      "state": {}
     },
     "2407e02d7e8a43fabf57a9a9776725c2": {
      "model_module": "@jupyter-widgets/controls",
      "model_module_version": "1.5.0",
      "model_name": "DescriptionStyleModel",
      "state": {
       "description_width": ""
      }
     },
     "24421687679345d39a8c6d715f9905b3": {
      "model_module": "@jupyter-widgets/base",
      "model_module_version": "1.2.0",
      "model_name": "LayoutModel",
      "state": {}
     },
     "2603016d8cb8426c810238a3ae25d87c": {
      "model_module": "@jupyter-widgets/controls",
      "model_module_version": "1.5.0",
      "model_name": "DescriptionStyleModel",
      "state": {
       "description_width": ""
      }
     },
     "29ba84617d4e4160955a9f1dc4009d2b": {
      "model_module": "@jupyter-widgets/controls",
      "model_module_version": "1.5.0",
      "model_name": "HBoxModel",
      "state": {
       "children": [
        "IPY_MODEL_6d44553130624fdab27807e73353da6f",
        "IPY_MODEL_e69b57fa7c2f4a0f917f9a568b742687",
        "IPY_MODEL_f0f0087d0e5d4e2bb4ac04e3ace766e1"
       ],
       "layout": "IPY_MODEL_34d5342decb14e188f52a43b687edc64"
      }
     },
     "2b7ca3b432db4a44b93a4503a290644d": {
      "model_module": "@jupyter-widgets/controls",
      "model_module_version": "1.5.0",
      "model_name": "DescriptionStyleModel",
      "state": {
       "description_width": ""
      }
     },
     "2bcd70e551804bb79d604c9b0825c8af": {
      "model_module": "@jupyter-widgets/controls",
      "model_module_version": "1.5.0",
      "model_name": "HTMLModel",
      "state": {
       "layout": "IPY_MODEL_e42260a9ad5741bb80d2ce101d9acc6f",
       "style": "IPY_MODEL_d781a0ce24844d749466f6726e2169fd",
       "value": " 8/8 [07:35&lt;00:00, 48.43s/it]"
      }
     },
     "2c18cbb66b534b1388ceffa06256da17": {
      "model_module": "@jupyter-widgets/controls",
      "model_module_version": "1.5.0",
      "model_name": "HTMLModel",
      "state": {
       "layout": "IPY_MODEL_6a563686f0174ed5903d5d507cd25a20",
       "style": "IPY_MODEL_5e0d310d3f704b0bab3403c422d981f6",
       "value": " 8/8 [07:33&lt;00:00, 48.20s/it]"
      }
     },
     "2d0c3eb984d445738b94aabdd03c0a41": {
      "model_module": "@jupyter-widgets/controls",
      "model_module_version": "1.5.0",
      "model_name": "FloatProgressModel",
      "state": {
       "bar_style": "success",
       "layout": "IPY_MODEL_d0c5a9bbdc8f44c5a22189440b5181e1",
       "max": 8,
       "style": "IPY_MODEL_87d40693b1e24b9e82c828b198cf19e9",
       "value": 8
      }
     },
     "2e214390fefd4498a0b1e1b3c4192992": {
      "model_module": "@jupyter-widgets/controls",
      "model_module_version": "1.5.0",
      "model_name": "DescriptionStyleModel",
      "state": {
       "description_width": ""
      }
     },
     "2ee680b71bae4ddca1bd56fc88cf4842": {
      "model_module": "@jupyter-widgets/controls",
      "model_module_version": "1.5.0",
      "model_name": "FloatProgressModel",
      "state": {
       "bar_style": "success",
       "layout": "IPY_MODEL_d7d8872dc70741db8fa0513dfe8deed3",
       "max": 8,
       "style": "IPY_MODEL_f0d26ced89a54acfac532a1ddf112c7d",
       "value": 8
      }
     },
     "2f0ae35d757448bba30bf55a15844fe1": {
      "model_module": "@jupyter-widgets/controls",
      "model_module_version": "1.5.0",
      "model_name": "DescriptionStyleModel",
      "state": {
       "description_width": ""
      }
     },
     "2ff53006699645e9b9b4a8fd0d3166c6": {
      "model_module": "@jupyter-widgets/controls",
      "model_module_version": "1.5.0",
      "model_name": "ProgressStyleModel",
      "state": {
       "description_width": ""
      }
     },
     "300b6e131a274985ab797eb00f2626f3": {
      "model_module": "@jupyter-widgets/controls",
      "model_module_version": "1.5.0",
      "model_name": "FloatProgressModel",
      "state": {
       "bar_style": "success",
       "layout": "IPY_MODEL_bcfa615a33a7452abc4e32ed2d0e5796",
       "max": 8,
       "style": "IPY_MODEL_bf3199db8a704466ac5cf91a4966949f",
       "value": 8
      }
     },
     "333d2ed90de94e05b9829ed71e5299dc": {
      "model_module": "@jupyter-widgets/controls",
      "model_module_version": "1.5.0",
      "model_name": "HBoxModel",
      "state": {
       "children": [
        "IPY_MODEL_3932ab70b4834cae86d3d50d11ee27dc",
        "IPY_MODEL_2d0c3eb984d445738b94aabdd03c0a41",
        "IPY_MODEL_748e42f8ae1346d69039e88952f7008c"
       ],
       "layout": "IPY_MODEL_8fb7bc13039f414884b454b918a9e5d5"
      }
     },
     "342a96945eff4e65b8919b40ca4acfa1": {
      "model_module": "@jupyter-widgets/controls",
      "model_module_version": "1.5.0",
      "model_name": "HTMLModel",
      "state": {
       "layout": "IPY_MODEL_24421687679345d39a8c6d715f9905b3",
       "style": "IPY_MODEL_1ea543767dac477c8c2c2156a8857777",
       "value": "100%"
      }
     },
     "34d5342decb14e188f52a43b687edc64": {
      "model_module": "@jupyter-widgets/base",
      "model_module_version": "1.2.0",
      "model_name": "LayoutModel",
      "state": {}
     },
     "351927eebdde40f9927c3c9b60c17c31": {
      "model_module": "@jupyter-widgets/controls",
      "model_module_version": "1.5.0",
      "model_name": "FloatProgressModel",
      "state": {
       "bar_style": "success",
       "layout": "IPY_MODEL_63dc5de231ab4ef29898b3f0741b202d",
       "max": 8,
       "style": "IPY_MODEL_9a046687a8174a3eb43ff12fd85f01e3",
       "value": 8
      }
     },
     "353cfa8ac3a14864a15d882765c8c697": {
      "model_module": "@jupyter-widgets/controls",
      "model_module_version": "1.5.0",
      "model_name": "HBoxModel",
      "state": {
       "children": [
        "IPY_MODEL_356ecf9fe47f47beb26e4f26f06b7192",
        "IPY_MODEL_67e4da155d834a8c97137d3a7dd1cdea",
        "IPY_MODEL_092a378b48cc4853862c768e7322893e"
       ],
       "layout": "IPY_MODEL_c24214bf514141988cace998061b5635"
      }
     },
     "356ecf9fe47f47beb26e4f26f06b7192": {
      "model_module": "@jupyter-widgets/controls",
      "model_module_version": "1.5.0",
      "model_name": "HTMLModel",
      "state": {
       "layout": "IPY_MODEL_b1390c288f484c91859cfba3ff601c2f",
       "style": "IPY_MODEL_a6c93ae007254c49b22da6ce5b77f68f",
       "value": "100%"
      }
     },
     "3912e258aac2451cbc3cc252533d719d": {
      "model_module": "@jupyter-widgets/controls",
      "model_module_version": "1.5.0",
      "model_name": "HTMLModel",
      "state": {
       "layout": "IPY_MODEL_5ace4b86bc2a400cbf15a8f0f87011df",
       "style": "IPY_MODEL_c6d0070d5ffa47e7ba3559cf7ba79513",
       "value": " 8/8 [07:37&lt;00:00, 48.52s/it]"
      }
     },
     "3932ab70b4834cae86d3d50d11ee27dc": {
      "model_module": "@jupyter-widgets/controls",
      "model_module_version": "1.5.0",
      "model_name": "HTMLModel",
      "state": {
       "layout": "IPY_MODEL_1eff2fd1235f4bc79aa6657a46567992",
       "style": "IPY_MODEL_eb701fe5f6884ceba3ec272721e31209",
       "value": "100%"
      }
     },
     "3962c075e23e4721985cb0448281c388": {
      "model_module": "@jupyter-widgets/controls",
      "model_module_version": "1.5.0",
      "model_name": "ProgressStyleModel",
      "state": {
       "description_width": ""
      }
     },
     "39c779a580684caea43e95c8ce5704fb": {
      "model_module": "@jupyter-widgets/base",
      "model_module_version": "1.2.0",
      "model_name": "LayoutModel",
      "state": {}
     },
     "3f71d71dd148489fa6728ada759c432b": {
      "model_module": "@jupyter-widgets/controls",
      "model_module_version": "1.5.0",
      "model_name": "HTMLModel",
      "state": {
       "layout": "IPY_MODEL_8381abb25d664934bd5d0106391cf9bb",
       "style": "IPY_MODEL_2603016d8cb8426c810238a3ae25d87c",
       "value": "100%"
      }
     },
     "3ff0076cdf7f45868052aeb3237eb541": {
      "model_module": "@jupyter-widgets/base",
      "model_module_version": "1.2.0",
      "model_name": "LayoutModel",
      "state": {}
     },
     "402101f4275e4b8f9e385ea0ce96349a": {
      "model_module": "@jupyter-widgets/controls",
      "model_module_version": "1.5.0",
      "model_name": "DescriptionStyleModel",
      "state": {
       "description_width": ""
      }
     },
     "40852e6f6ded43af90432e52b556050c": {
      "model_module": "@jupyter-widgets/controls",
      "model_module_version": "1.5.0",
      "model_name": "FloatProgressModel",
      "state": {
       "bar_style": "success",
       "layout": "IPY_MODEL_d4f85445f91e4831ad395a6cf55f30ad",
       "max": 8,
       "style": "IPY_MODEL_867d5813f7b84baa9bf89c05d1168f09",
       "value": 8
      }
     },
     "417b7db96f4b4ed29cb1d43ed4ca50f1": {
      "model_module": "@jupyter-widgets/base",
      "model_module_version": "1.2.0",
      "model_name": "LayoutModel",
      "state": {}
     },
     "44656945f26c446aac2a0583bcd6d354": {
      "model_module": "@jupyter-widgets/controls",
      "model_module_version": "1.5.0",
      "model_name": "ProgressStyleModel",
      "state": {
       "description_width": ""
      }
     },
     "45c31bb71b22470f9b2e1b7244447dd6": {
      "model_module": "@jupyter-widgets/controls",
      "model_module_version": "1.5.0",
      "model_name": "FloatProgressModel",
      "state": {
       "bar_style": "success",
       "layout": "IPY_MODEL_fa080e1ee1a947f5bda495ba5c3ef13f",
       "max": 8,
       "style": "IPY_MODEL_3962c075e23e4721985cb0448281c388",
       "value": 8
      }
     },
     "45ca3022d16e45ceacf48a8b9aee8a2a": {
      "model_module": "@jupyter-widgets/controls",
      "model_module_version": "1.5.0",
      "model_name": "DescriptionStyleModel",
      "state": {
       "description_width": ""
      }
     },
     "463c4ca32a0c452a8438e8d0143539ee": {
      "model_module": "@jupyter-widgets/controls",
      "model_module_version": "1.5.0",
      "model_name": "DescriptionStyleModel",
      "state": {
       "description_width": ""
      }
     },
     "4a2bf9948fa341e99f2a79614b1b715c": {
      "model_module": "@jupyter-widgets/base",
      "model_module_version": "1.2.0",
      "model_name": "LayoutModel",
      "state": {}
     },
     "4aa57bf0cd8e4a02a5228ee6afa6d2b9": {
      "model_module": "@jupyter-widgets/controls",
      "model_module_version": "1.5.0",
      "model_name": "ProgressStyleModel",
      "state": {
       "description_width": ""
      }
     },
     "4b52502a99d547b1b4bbbd0d8bdfe862": {
      "model_module": "@jupyter-widgets/base",
      "model_module_version": "1.2.0",
      "model_name": "LayoutModel",
      "state": {}
     },
     "4d4ef5c0baa74a1883e1928b4acc6248": {
      "model_module": "@jupyter-widgets/controls",
      "model_module_version": "1.5.0",
      "model_name": "HBoxModel",
      "state": {
       "children": [
        "IPY_MODEL_f4d5ff32c05b4cc39fb530236e30733f",
        "IPY_MODEL_53d27224d1e64260980b182593814dee",
        "IPY_MODEL_deb10587d3904263b309f3bd8e4bbc9f"
       ],
       "layout": "IPY_MODEL_c3002b741aba4a5eb7bacc35d6b9dcb6"
      }
     },
     "4e54dee28f924c489e4f46e3a552359d": {
      "model_module": "@jupyter-widgets/controls",
      "model_module_version": "1.5.0",
      "model_name": "HTMLModel",
      "state": {
       "layout": "IPY_MODEL_e546fab8206e4234a71424f81d2fdcc3",
       "style": "IPY_MODEL_8768e9b22f814c0b9e059602d7c56acf",
       "value": "100%"
      }
     },
     "4fec85df7ea64266a03485e596cac053": {
      "model_module": "@jupyter-widgets/base",
      "model_module_version": "1.2.0",
      "model_name": "LayoutModel",
      "state": {}
     },
     "53d27224d1e64260980b182593814dee": {
      "model_module": "@jupyter-widgets/controls",
      "model_module_version": "1.5.0",
      "model_name": "FloatProgressModel",
      "state": {
       "bar_style": "success",
       "layout": "IPY_MODEL_5a2c8f04f5394b47b515e824d810fc92",
       "max": 8,
       "style": "IPY_MODEL_61818f5778e7485dbe5f1ccf3aec1c07",
       "value": 8
      }
     },
     "57fdb203c7564cb0bea932886db0b23f": {
      "model_module": "@jupyter-widgets/controls",
      "model_module_version": "1.5.0",
      "model_name": "HTMLModel",
      "state": {
       "layout": "IPY_MODEL_4a2bf9948fa341e99f2a79614b1b715c",
       "style": "IPY_MODEL_cde3ce23e9e9420dade499850dd9bbca",
       "value": " 8/8 [07:41&lt;00:00, 48.98s/it]"
      }
     },
     "5809703c5100415fb0f19320e17f11d3": {
      "model_module": "@jupyter-widgets/base",
      "model_module_version": "1.2.0",
      "model_name": "LayoutModel",
      "state": {}
     },
     "5a2c8f04f5394b47b515e824d810fc92": {
      "model_module": "@jupyter-widgets/base",
      "model_module_version": "1.2.0",
      "model_name": "LayoutModel",
      "state": {}
     },
     "5ace4b86bc2a400cbf15a8f0f87011df": {
      "model_module": "@jupyter-widgets/base",
      "model_module_version": "1.2.0",
      "model_name": "LayoutModel",
      "state": {}
     },
     "5db9f137c68c4269b6528acd9268bdab": {
      "model_module": "@jupyter-widgets/controls",
      "model_module_version": "1.5.0",
      "model_name": "HBoxModel",
      "state": {
       "children": [
        "IPY_MODEL_dbef30e6776c4429b154fe4f288acba1",
        "IPY_MODEL_ba369a020a3a4f3db190ac7f279df2d7",
        "IPY_MODEL_2c18cbb66b534b1388ceffa06256da17"
       ],
       "layout": "IPY_MODEL_b6fe98f4ce4e4484bdf4dd408ed1ba84"
      }
     },
     "5e0d310d3f704b0bab3403c422d981f6": {
      "model_module": "@jupyter-widgets/controls",
      "model_module_version": "1.5.0",
      "model_name": "DescriptionStyleModel",
      "state": {
       "description_width": ""
      }
     },
     "5fa5401db26445a7aa4debf77b469961": {
      "model_module": "@jupyter-widgets/base",
      "model_module_version": "1.2.0",
      "model_name": "LayoutModel",
      "state": {}
     },
     "61818f5778e7485dbe5f1ccf3aec1c07": {
      "model_module": "@jupyter-widgets/controls",
      "model_module_version": "1.5.0",
      "model_name": "ProgressStyleModel",
      "state": {
       "description_width": ""
      }
     },
     "61f2a9c225ab4aafa28778ddd0b66488": {
      "model_module": "@jupyter-widgets/base",
      "model_module_version": "1.2.0",
      "model_name": "LayoutModel",
      "state": {}
     },
     "6342a389613f4d9888450f86b1f7d6c0": {
      "model_module": "@jupyter-widgets/controls",
      "model_module_version": "1.5.0",
      "model_name": "ProgressStyleModel",
      "state": {
       "description_width": ""
      }
     },
     "63dc5de231ab4ef29898b3f0741b202d": {
      "model_module": "@jupyter-widgets/base",
      "model_module_version": "1.2.0",
      "model_name": "LayoutModel",
      "state": {}
     },
     "64aa1c6e2d4f4609b4458223fa097548": {
      "model_module": "@jupyter-widgets/controls",
      "model_module_version": "1.5.0",
      "model_name": "DescriptionStyleModel",
      "state": {
       "description_width": ""
      }
     },
     "67569f42906c4b88820f6f6fc027e80a": {
      "model_module": "@jupyter-widgets/base",
      "model_module_version": "1.2.0",
      "model_name": "LayoutModel",
      "state": {}
     },
     "67610e96737543cba67999453c079c73": {
      "model_module": "@jupyter-widgets/base",
      "model_module_version": "1.2.0",
      "model_name": "LayoutModel",
      "state": {}
     },
     "67e4da155d834a8c97137d3a7dd1cdea": {
      "model_module": "@jupyter-widgets/controls",
      "model_module_version": "1.5.0",
      "model_name": "FloatProgressModel",
      "state": {
       "bar_style": "success",
       "layout": "IPY_MODEL_7676a0ebc8be4ad6acdb6751f34c4490",
       "max": 8,
       "style": "IPY_MODEL_44656945f26c446aac2a0583bcd6d354",
       "value": 8
      }
     },
     "68a034852fba452bb7f259cfcb8635a2": {
      "model_module": "@jupyter-widgets/controls",
      "model_module_version": "1.5.0",
      "model_name": "HBoxModel",
      "state": {
       "children": [
        "IPY_MODEL_136795ff4cd543c287a68635b23309c7",
        "IPY_MODEL_40852e6f6ded43af90432e52b556050c",
        "IPY_MODEL_0f416fdbd0944cf0ac3789eba8e6ae7a"
       ],
       "layout": "IPY_MODEL_b3ec3ee5e8274305802a6e3ae9c864cf"
      }
     },
     "6a325bc0cf6a432fb874b62b517243d5": {
      "model_module": "@jupyter-widgets/controls",
      "model_module_version": "1.5.0",
      "model_name": "FloatProgressModel",
      "state": {
       "bar_style": "success",
       "layout": "IPY_MODEL_a4cedb4710b84e66ba857f46aed7f8a2",
       "max": 8,
       "style": "IPY_MODEL_968d8ffb208b417db513983c8d216e38",
       "value": 8
      }
     },
     "6a563686f0174ed5903d5d507cd25a20": {
      "model_module": "@jupyter-widgets/base",
      "model_module_version": "1.2.0",
      "model_name": "LayoutModel",
      "state": {}
     },
     "6a927f9d7dff47c381a2986ebc59f0bf": {
      "model_module": "@jupyter-widgets/base",
      "model_module_version": "1.2.0",
      "model_name": "LayoutModel",
      "state": {}
     },
     "6ae283fdca3f4505bcdebc0bc57dad0b": {
      "model_module": "@jupyter-widgets/controls",
      "model_module_version": "1.5.0",
      "model_name": "HTMLModel",
      "state": {
       "layout": "IPY_MODEL_5fa5401db26445a7aa4debf77b469961",
       "style": "IPY_MODEL_c698fa0055be45eeadde14d68426ab70",
       "value": "100%"
      }
     },
     "6b505f97abcc4b11b8a5f0994cfb7bd5": {
      "model_module": "@jupyter-widgets/base",
      "model_module_version": "1.2.0",
      "model_name": "LayoutModel",
      "state": {}
     },
     "6d44553130624fdab27807e73353da6f": {
      "model_module": "@jupyter-widgets/controls",
      "model_module_version": "1.5.0",
      "model_name": "HTMLModel",
      "state": {
       "layout": "IPY_MODEL_81b747ebbcf74a768c6db1de7e888886",
       "style": "IPY_MODEL_2f0ae35d757448bba30bf55a15844fe1",
       "value": "100%"
      }
     },
     "6dba5f89097048e8ac2b964136a463a2": {
      "model_module": "@jupyter-widgets/controls",
      "model_module_version": "1.5.0",
      "model_name": "FloatProgressModel",
      "state": {
       "bar_style": "success",
       "layout": "IPY_MODEL_0651bef0604e4a88b2bbfa69cc7338bd",
       "max": 8,
       "style": "IPY_MODEL_9fb3c44a12e84194a86e26494673fd57",
       "value": 8
      }
     },
     "6e7b9ca00d064d0499c5c62de53976dc": {
      "model_module": "@jupyter-widgets/controls",
      "model_module_version": "1.5.0",
      "model_name": "HTMLModel",
      "state": {
       "layout": "IPY_MODEL_01b7cb45e42e4288a6a4f8be02460337",
       "style": "IPY_MODEL_da023f102763440db0d0ae0c02bd10d4",
       "value": " 8/8 [07:41&lt;00:00, 48.60s/it]"
      }
     },
     "748d38f93a10469b97364bbc2794ac1f": {
      "model_module": "@jupyter-widgets/controls",
      "model_module_version": "1.5.0",
      "model_name": "HBoxModel",
      "state": {
       "children": [
        "IPY_MODEL_6ae283fdca3f4505bcdebc0bc57dad0b",
        "IPY_MODEL_6a325bc0cf6a432fb874b62b517243d5",
        "IPY_MODEL_aa7684fdd5064907bd6fea9b5b6d7936"
       ],
       "layout": "IPY_MODEL_cab4259fea8c4cd5ba25e7b02d54a5e2"
      }
     },
     "748e42f8ae1346d69039e88952f7008c": {
      "model_module": "@jupyter-widgets/controls",
      "model_module_version": "1.5.0",
      "model_name": "HTMLModel",
      "state": {
       "layout": "IPY_MODEL_3ff0076cdf7f45868052aeb3237eb541",
       "style": "IPY_MODEL_a8c5e6860491495ab7cb74006fa17665",
       "value": " 8/8 [08:02&lt;00:00, 50.16s/it]"
      }
     },
     "74e77fce795748e9b148ae7e42595349": {
      "model_module": "@jupyter-widgets/base",
      "model_module_version": "1.2.0",
      "model_name": "LayoutModel",
      "state": {}
     },
     "75a740ace4bc42a6b535b04011061498": {
      "model_module": "@jupyter-widgets/controls",
      "model_module_version": "1.5.0",
      "model_name": "FloatProgressModel",
      "state": {
       "bar_style": "success",
       "layout": "IPY_MODEL_ce5df8e45e1141268e91dba138a517c7",
       "max": 8,
       "style": "IPY_MODEL_8f259a0460e24849a23541c7bc24fa51",
       "value": 8
      }
     },
     "7676a0ebc8be4ad6acdb6751f34c4490": {
      "model_module": "@jupyter-widgets/base",
      "model_module_version": "1.2.0",
      "model_name": "LayoutModel",
      "state": {}
     },
     "771bcfa4db0c4cdd874ee0295128fd8a": {
      "model_module": "@jupyter-widgets/controls",
      "model_module_version": "1.5.0",
      "model_name": "HTMLModel",
      "state": {
       "layout": "IPY_MODEL_b613e8007ceb4eedb722e7da162ea1ad",
       "style": "IPY_MODEL_2407e02d7e8a43fabf57a9a9776725c2",
       "value": " 8/8 [07:39&lt;00:00, 49.25s/it]"
      }
     },
     "785fd07494df4ae08d6fdca832cf81d1": {
      "model_module": "@jupyter-widgets/base",
      "model_module_version": "1.2.0",
      "model_name": "LayoutModel",
      "state": {}
     },
     "7948aa9d0b3f4329b9a93ffdad3753a9": {
      "model_module": "@jupyter-widgets/base",
      "model_module_version": "1.2.0",
      "model_name": "LayoutModel",
      "state": {}
     },
     "7db511468cc74fc8854107cfa86f46be": {
      "model_module": "@jupyter-widgets/base",
      "model_module_version": "1.2.0",
      "model_name": "LayoutModel",
      "state": {}
     },
     "7eec20f7943a42ceb8b5edad7cfd29a1": {
      "model_module": "@jupyter-widgets/base",
      "model_module_version": "1.2.0",
      "model_name": "LayoutModel",
      "state": {}
     },
     "7f97936b3f394eef9aa907e29b4f1a75": {
      "model_module": "@jupyter-widgets/controls",
      "model_module_version": "1.5.0",
      "model_name": "HTMLModel",
      "state": {
       "layout": "IPY_MODEL_7db511468cc74fc8854107cfa86f46be",
       "style": "IPY_MODEL_f3638c9c02124634b473202f274bcdd5",
       "value": "100%"
      }
     },
     "80b3b8e3b5e643bd97eb254c6b152fa6": {
      "model_module": "@jupyter-widgets/controls",
      "model_module_version": "1.5.0",
      "model_name": "DescriptionStyleModel",
      "state": {
       "description_width": ""
      }
     },
     "81b747ebbcf74a768c6db1de7e888886": {
      "model_module": "@jupyter-widgets/base",
      "model_module_version": "1.2.0",
      "model_name": "LayoutModel",
      "state": {}
     },
     "8298c9297e554175a63ebe16a3145a7d": {
      "model_module": "@jupyter-widgets/controls",
      "model_module_version": "1.5.0",
      "model_name": "DescriptionStyleModel",
      "state": {
       "description_width": ""
      }
     },
     "8381abb25d664934bd5d0106391cf9bb": {
      "model_module": "@jupyter-widgets/base",
      "model_module_version": "1.2.0",
      "model_name": "LayoutModel",
      "state": {}
     },
     "867d5813f7b84baa9bf89c05d1168f09": {
      "model_module": "@jupyter-widgets/controls",
      "model_module_version": "1.5.0",
      "model_name": "ProgressStyleModel",
      "state": {
       "description_width": ""
      }
     },
     "8768e9b22f814c0b9e059602d7c56acf": {
      "model_module": "@jupyter-widgets/controls",
      "model_module_version": "1.5.0",
      "model_name": "DescriptionStyleModel",
      "state": {
       "description_width": ""
      }
     },
     "87d40693b1e24b9e82c828b198cf19e9": {
      "model_module": "@jupyter-widgets/controls",
      "model_module_version": "1.5.0",
      "model_name": "ProgressStyleModel",
      "state": {
       "description_width": ""
      }
     },
     "885a2dd446f643cb96c38dd649c8ada9": {
      "model_module": "@jupyter-widgets/controls",
      "model_module_version": "1.5.0",
      "model_name": "HTMLModel",
      "state": {
       "layout": "IPY_MODEL_67569f42906c4b88820f6f6fc027e80a",
       "style": "IPY_MODEL_80b3b8e3b5e643bd97eb254c6b152fa6",
       "value": " 8/8 [07:35&lt;00:00, 48.39s/it]"
      }
     },
     "8921e5b2062148f2b72868fcf9f7c4b7": {
      "model_module": "@jupyter-widgets/controls",
      "model_module_version": "1.5.0",
      "model_name": "HTMLModel",
      "state": {
       "layout": "IPY_MODEL_b315b368c63c41579f7ac01da4861289",
       "style": "IPY_MODEL_04ef5a22144145f49b05da3d5e1ed54b",
       "value": "100%"
      }
     },
     "8a141d43c58c464e9fb5b16af9cefefa": {
      "model_module": "@jupyter-widgets/controls",
      "model_module_version": "1.5.0",
      "model_name": "HTMLModel",
      "state": {
       "layout": "IPY_MODEL_8cebea2439d947f5bc163e0a22f520b2",
       "style": "IPY_MODEL_402101f4275e4b8f9e385ea0ce96349a",
       "value": "100%"
      }
     },
     "8b11f83bc0c64ecd9b7dd75b3e7e8aec": {
      "model_module": "@jupyter-widgets/controls",
      "model_module_version": "1.5.0",
      "model_name": "DescriptionStyleModel",
      "state": {
       "description_width": ""
      }
     },
     "8baa0e7c22f3466ba682e4fbd2c13fdb": {
      "model_module": "@jupyter-widgets/base",
      "model_module_version": "1.2.0",
      "model_name": "LayoutModel",
      "state": {}
     },
     "8cebea2439d947f5bc163e0a22f520b2": {
      "model_module": "@jupyter-widgets/base",
      "model_module_version": "1.2.0",
      "model_name": "LayoutModel",
      "state": {}
     },
     "8d063bd1a064411f9ada8d1cc99649e5": {
      "model_module": "@jupyter-widgets/controls",
      "model_module_version": "1.5.0",
      "model_name": "HBoxModel",
      "state": {
       "children": [
        "IPY_MODEL_3f71d71dd148489fa6728ada759c432b",
        "IPY_MODEL_300b6e131a274985ab797eb00f2626f3",
        "IPY_MODEL_6e7b9ca00d064d0499c5c62de53976dc"
       ],
       "layout": "IPY_MODEL_a002c7f380c341c895f13304e2651559"
      }
     },
     "8e290e331fed406b96dfc59ff104a067": {
      "model_module": "@jupyter-widgets/controls",
      "model_module_version": "1.5.0",
      "model_name": "HBoxModel",
      "state": {
       "children": [
        "IPY_MODEL_7f97936b3f394eef9aa907e29b4f1a75",
        "IPY_MODEL_75a740ace4bc42a6b535b04011061498",
        "IPY_MODEL_e5058be6b44f4abca1ff426ac5eefa44"
       ],
       "layout": "IPY_MODEL_74e77fce795748e9b148ae7e42595349"
      }
     },
     "8f259a0460e24849a23541c7bc24fa51": {
      "model_module": "@jupyter-widgets/controls",
      "model_module_version": "1.5.0",
      "model_name": "ProgressStyleModel",
      "state": {
       "description_width": ""
      }
     },
     "8fb7bc13039f414884b454b918a9e5d5": {
      "model_module": "@jupyter-widgets/base",
      "model_module_version": "1.2.0",
      "model_name": "LayoutModel",
      "state": {}
     },
     "968d8ffb208b417db513983c8d216e38": {
      "model_module": "@jupyter-widgets/controls",
      "model_module_version": "1.5.0",
      "model_name": "ProgressStyleModel",
      "state": {
       "description_width": ""
      }
     },
     "984abdb5447140aa8d57b0af6bb16de2": {
      "model_module": "@jupyter-widgets/controls",
      "model_module_version": "1.5.0",
      "model_name": "HTMLModel",
      "state": {
       "layout": "IPY_MODEL_4b52502a99d547b1b4bbbd0d8bdfe862",
       "style": "IPY_MODEL_2b7ca3b432db4a44b93a4503a290644d",
       "value": " 8/8 [07:42&lt;00:00, 49.13s/it]"
      }
     },
     "9a046687a8174a3eb43ff12fd85f01e3": {
      "model_module": "@jupyter-widgets/controls",
      "model_module_version": "1.5.0",
      "model_name": "ProgressStyleModel",
      "state": {
       "description_width": ""
      }
     },
     "9a8607a43e6d4478a17b7302cdf4b239": {
      "model_module": "@jupyter-widgets/base",
      "model_module_version": "1.2.0",
      "model_name": "LayoutModel",
      "state": {}
     },
     "9f08f3bb22134096b361ea6946c636cc": {
      "model_module": "@jupyter-widgets/base",
      "model_module_version": "1.2.0",
      "model_name": "LayoutModel",
      "state": {}
     },
     "9fb3c44a12e84194a86e26494673fd57": {
      "model_module": "@jupyter-widgets/controls",
      "model_module_version": "1.5.0",
      "model_name": "ProgressStyleModel",
      "state": {
       "description_width": ""
      }
     },
     "a002c7f380c341c895f13304e2651559": {
      "model_module": "@jupyter-widgets/base",
      "model_module_version": "1.2.0",
      "model_name": "LayoutModel",
      "state": {}
     },
     "a3431a9074d64a059b082cd937771223": {
      "model_module": "@jupyter-widgets/controls",
      "model_module_version": "1.5.0",
      "model_name": "HBoxModel",
      "state": {
       "children": [
        "IPY_MODEL_342a96945eff4e65b8919b40ca4acfa1",
        "IPY_MODEL_c13238eb72ab43c792c116d3853a9df0",
        "IPY_MODEL_3912e258aac2451cbc3cc252533d719d"
       ],
       "layout": "IPY_MODEL_ca6e77ffb9ce4f3bbcdb0cc859b772b4"
      }
     },
     "a48244f98219445f9c3e3a4383526e35": {
      "model_module": "@jupyter-widgets/controls",
      "model_module_version": "1.5.0",
      "model_name": "HBoxModel",
      "state": {
       "children": [
        "IPY_MODEL_ab1915fbfc584283bc796941c7433f56",
        "IPY_MODEL_bea03da4098d45d3b4b1d3b6320b6ba3",
        "IPY_MODEL_fa81038107d7444293c90b6c4b46284c"
       ],
       "layout": "IPY_MODEL_6a927f9d7dff47c381a2986ebc59f0bf"
      }
     },
     "a4cedb4710b84e66ba857f46aed7f8a2": {
      "model_module": "@jupyter-widgets/base",
      "model_module_version": "1.2.0",
      "model_name": "LayoutModel",
      "state": {}
     },
     "a6c93ae007254c49b22da6ce5b77f68f": {
      "model_module": "@jupyter-widgets/controls",
      "model_module_version": "1.5.0",
      "model_name": "DescriptionStyleModel",
      "state": {
       "description_width": ""
      }
     },
     "a86a79c7b5a444d4a9fbffd4612d56e4": {
      "model_module": "@jupyter-widgets/controls",
      "model_module_version": "1.5.0",
      "model_name": "HBoxModel",
      "state": {
       "children": [
        "IPY_MODEL_8a141d43c58c464e9fb5b16af9cefefa",
        "IPY_MODEL_b951c68cfce347f48f14e4e8cadb18b6",
        "IPY_MODEL_984abdb5447140aa8d57b0af6bb16de2"
       ],
       "layout": "IPY_MODEL_785fd07494df4ae08d6fdca832cf81d1"
      }
     },
     "a8c5e6860491495ab7cb74006fa17665": {
      "model_module": "@jupyter-widgets/controls",
      "model_module_version": "1.5.0",
      "model_name": "DescriptionStyleModel",
      "state": {
       "description_width": ""
      }
     },
     "aa7684fdd5064907bd6fea9b5b6d7936": {
      "model_module": "@jupyter-widgets/controls",
      "model_module_version": "1.5.0",
      "model_name": "HTMLModel",
      "state": {
       "layout": "IPY_MODEL_e0115a8f4f0c4688bde847df681b4ce9",
       "style": "IPY_MODEL_8298c9297e554175a63ebe16a3145a7d",
       "value": " 8/8 [07:34&lt;00:00, 48.42s/it]"
      }
     },
     "aa7b5373295849d18337fd0f0f4e4bcf": {
      "model_module": "@jupyter-widgets/controls",
      "model_module_version": "1.5.0",
      "model_name": "DescriptionStyleModel",
      "state": {
       "description_width": ""
      }
     },
     "ab1915fbfc584283bc796941c7433f56": {
      "model_module": "@jupyter-widgets/controls",
      "model_module_version": "1.5.0",
      "model_name": "HTMLModel",
      "state": {
       "layout": "IPY_MODEL_7eec20f7943a42ceb8b5edad7cfd29a1",
       "style": "IPY_MODEL_45ca3022d16e45ceacf48a8b9aee8a2a",
       "value": "100%"
      }
     },
     "aba0564d3da24bfda799d069c74a17f0": {
      "model_module": "@jupyter-widgets/controls",
      "model_module_version": "1.5.0",
      "model_name": "HBoxModel",
      "state": {
       "children": [
        "IPY_MODEL_be1a88b7cfec43a0be7ed8a257b6d4b3",
        "IPY_MODEL_45c31bb71b22470f9b2e1b7244447dd6",
        "IPY_MODEL_f4ac4dc23ec14d4e9da48b3c412c9752"
       ],
       "layout": "IPY_MODEL_09f56d2935ac4ef5a6cf883c4f6e86ec"
      }
     },
     "aff90847b05b4c20abf7b05cb3087652": {
      "model_module": "@jupyter-widgets/controls",
      "model_module_version": "1.5.0",
      "model_name": "HTMLModel",
      "state": {
       "layout": "IPY_MODEL_e181e742420445b6bf9e1f498f13610f",
       "style": "IPY_MODEL_463c4ca32a0c452a8438e8d0143539ee",
       "value": " 8/8 [07:46&lt;00:00, 49.00s/it]"
      }
     },
     "b0433cf888764ef897a2e87d37bb77b5": {
      "model_module": "@jupyter-widgets/controls",
      "model_module_version": "1.5.0",
      "model_name": "HTMLModel",
      "state": {
       "layout": "IPY_MODEL_eab179dddbe5490e9b9bbf81597b06d6",
       "style": "IPY_MODEL_b6090e51ea524b8db2354754d1dbad49",
       "value": "100%"
      }
     },
     "b1390c288f484c91859cfba3ff601c2f": {
      "model_module": "@jupyter-widgets/base",
      "model_module_version": "1.2.0",
      "model_name": "LayoutModel",
      "state": {}
     },
     "b2874ef1c0c345668517a77a39816bce": {
      "model_module": "@jupyter-widgets/base",
      "model_module_version": "1.2.0",
      "model_name": "LayoutModel",
      "state": {}
     },
     "b30d1969a9a5429d8853984c1022edf7": {
      "model_module": "@jupyter-widgets/base",
      "model_module_version": "1.2.0",
      "model_name": "LayoutModel",
      "state": {}
     },
     "b315b368c63c41579f7ac01da4861289": {
      "model_module": "@jupyter-widgets/base",
      "model_module_version": "1.2.0",
      "model_name": "LayoutModel",
      "state": {}
     },
     "b3ec3ee5e8274305802a6e3ae9c864cf": {
      "model_module": "@jupyter-widgets/base",
      "model_module_version": "1.2.0",
      "model_name": "LayoutModel",
      "state": {}
     },
     "b6090e51ea524b8db2354754d1dbad49": {
      "model_module": "@jupyter-widgets/controls",
      "model_module_version": "1.5.0",
      "model_name": "DescriptionStyleModel",
      "state": {
       "description_width": ""
      }
     },
     "b613e8007ceb4eedb722e7da162ea1ad": {
      "model_module": "@jupyter-widgets/base",
      "model_module_version": "1.2.0",
      "model_name": "LayoutModel",
      "state": {}
     },
     "b6fe98f4ce4e4484bdf4dd408ed1ba84": {
      "model_module": "@jupyter-widgets/base",
      "model_module_version": "1.2.0",
      "model_name": "LayoutModel",
      "state": {}
     },
     "b951c68cfce347f48f14e4e8cadb18b6": {
      "model_module": "@jupyter-widgets/controls",
      "model_module_version": "1.5.0",
      "model_name": "FloatProgressModel",
      "state": {
       "bar_style": "success",
       "layout": "IPY_MODEL_e278f425bf0b4f6585a0a02557f24603",
       "max": 8,
       "style": "IPY_MODEL_15251000b2434e6e96cf65179ca962f1",
       "value": 8
      }
     },
     "ba29421623494c308fe6a92ab8642ee9": {
      "model_module": "@jupyter-widgets/base",
      "model_module_version": "1.2.0",
      "model_name": "LayoutModel",
      "state": {}
     },
     "ba369a020a3a4f3db190ac7f279df2d7": {
      "model_module": "@jupyter-widgets/controls",
      "model_module_version": "1.5.0",
      "model_name": "FloatProgressModel",
      "state": {
       "bar_style": "success",
       "layout": "IPY_MODEL_61f2a9c225ab4aafa28778ddd0b66488",
       "max": 8,
       "style": "IPY_MODEL_4aa57bf0cd8e4a02a5228ee6afa6d2b9",
       "value": 8
      }
     },
     "bcfa615a33a7452abc4e32ed2d0e5796": {
      "model_module": "@jupyter-widgets/base",
      "model_module_version": "1.2.0",
      "model_name": "LayoutModel",
      "state": {}
     },
     "bd45b11221134c069d1e875887a93705": {
      "model_module": "@jupyter-widgets/controls",
      "model_module_version": "1.5.0",
      "model_name": "DescriptionStyleModel",
      "state": {
       "description_width": ""
      }
     },
     "be1a88b7cfec43a0be7ed8a257b6d4b3": {
      "model_module": "@jupyter-widgets/controls",
      "model_module_version": "1.5.0",
      "model_name": "HTMLModel",
      "state": {
       "layout": "IPY_MODEL_d288c448fc0d4a45a5d6296e634d7f4a",
       "style": "IPY_MODEL_2e214390fefd4498a0b1e1b3c4192992",
       "value": "100%"
      }
     },
     "bea03da4098d45d3b4b1d3b6320b6ba3": {
      "model_module": "@jupyter-widgets/controls",
      "model_module_version": "1.5.0",
      "model_name": "FloatProgressModel",
      "state": {
       "bar_style": "success",
       "layout": "IPY_MODEL_417b7db96f4b4ed29cb1d43ed4ca50f1",
       "max": 8,
       "style": "IPY_MODEL_2ff53006699645e9b9b4a8fd0d3166c6",
       "value": 8
      }
     },
     "bf3199db8a704466ac5cf91a4966949f": {
      "model_module": "@jupyter-widgets/controls",
      "model_module_version": "1.5.0",
      "model_name": "ProgressStyleModel",
      "state": {
       "description_width": ""
      }
     },
     "c13238eb72ab43c792c116d3853a9df0": {
      "model_module": "@jupyter-widgets/controls",
      "model_module_version": "1.5.0",
      "model_name": "FloatProgressModel",
      "state": {
       "bar_style": "success",
       "layout": "IPY_MODEL_4fec85df7ea64266a03485e596cac053",
       "max": 8,
       "style": "IPY_MODEL_00c988f3dcb94a95849f1feff065cd61",
       "value": 8
      }
     },
     "c1a6e8e579514445b2e6313f0825c059": {
      "model_module": "@jupyter-widgets/base",
      "model_module_version": "1.2.0",
      "model_name": "LayoutModel",
      "state": {}
     },
     "c24214bf514141988cace998061b5635": {
      "model_module": "@jupyter-widgets/base",
      "model_module_version": "1.2.0",
      "model_name": "LayoutModel",
      "state": {}
     },
     "c3002b741aba4a5eb7bacc35d6b9dcb6": {
      "model_module": "@jupyter-widgets/base",
      "model_module_version": "1.2.0",
      "model_name": "LayoutModel",
      "state": {}
     },
     "c44e3437f40f406ab833f08244eb461e": {
      "model_module": "@jupyter-widgets/controls",
      "model_module_version": "1.5.0",
      "model_name": "DescriptionStyleModel",
      "state": {
       "description_width": ""
      }
     },
     "c698fa0055be45eeadde14d68426ab70": {
      "model_module": "@jupyter-widgets/controls",
      "model_module_version": "1.5.0",
      "model_name": "DescriptionStyleModel",
      "state": {
       "description_width": ""
      }
     },
     "c6d0070d5ffa47e7ba3559cf7ba79513": {
      "model_module": "@jupyter-widgets/controls",
      "model_module_version": "1.5.0",
      "model_name": "DescriptionStyleModel",
      "state": {
       "description_width": ""
      }
     },
     "c73c2a592ec24e4ca1ec686a6f8aa338": {
      "model_module": "@jupyter-widgets/controls",
      "model_module_version": "1.5.0",
      "model_name": "ProgressStyleModel",
      "state": {
       "description_width": ""
      }
     },
     "ca6e77ffb9ce4f3bbcdb0cc859b772b4": {
      "model_module": "@jupyter-widgets/base",
      "model_module_version": "1.2.0",
      "model_name": "LayoutModel",
      "state": {}
     },
     "cab4259fea8c4cd5ba25e7b02d54a5e2": {
      "model_module": "@jupyter-widgets/base",
      "model_module_version": "1.2.0",
      "model_name": "LayoutModel",
      "state": {}
     },
     "cc3021fd7b07407fb30b5be97fd3c7ff": {
      "model_module": "@jupyter-widgets/base",
      "model_module_version": "1.2.0",
      "model_name": "LayoutModel",
      "state": {}
     },
     "cde3ce23e9e9420dade499850dd9bbca": {
      "model_module": "@jupyter-widgets/controls",
      "model_module_version": "1.5.0",
      "model_name": "DescriptionStyleModel",
      "state": {
       "description_width": ""
      }
     },
     "ce5df8e45e1141268e91dba138a517c7": {
      "model_module": "@jupyter-widgets/base",
      "model_module_version": "1.2.0",
      "model_name": "LayoutModel",
      "state": {}
     },
     "d0c5a9bbdc8f44c5a22189440b5181e1": {
      "model_module": "@jupyter-widgets/base",
      "model_module_version": "1.2.0",
      "model_name": "LayoutModel",
      "state": {}
     },
     "d112eab640c04cb9ac7d85c721b63c5f": {
      "model_module": "@jupyter-widgets/controls",
      "model_module_version": "1.5.0",
      "model_name": "DescriptionStyleModel",
      "state": {
       "description_width": ""
      }
     },
     "d288c448fc0d4a45a5d6296e634d7f4a": {
      "model_module": "@jupyter-widgets/base",
      "model_module_version": "1.2.0",
      "model_name": "LayoutModel",
      "state": {}
     },
     "d3d961f9cdeb4bcc9530278e7e0ad091": {
      "model_module": "@jupyter-widgets/controls",
      "model_module_version": "1.5.0",
      "model_name": "DescriptionStyleModel",
      "state": {
       "description_width": ""
      }
     },
     "d3e93e5c622a44628bd6bf4f58ae30ab": {
      "model_module": "@jupyter-widgets/controls",
      "model_module_version": "1.5.0",
      "model_name": "HBoxModel",
      "state": {
       "children": [
        "IPY_MODEL_f040e46931ec47d6b00bae81b5328cc0",
        "IPY_MODEL_6dba5f89097048e8ac2b964136a463a2",
        "IPY_MODEL_aff90847b05b4c20abf7b05cb3087652"
       ],
       "layout": "IPY_MODEL_6b505f97abcc4b11b8a5f0994cfb7bd5"
      }
     },
     "d4f85445f91e4831ad395a6cf55f30ad": {
      "model_module": "@jupyter-widgets/base",
      "model_module_version": "1.2.0",
      "model_name": "LayoutModel",
      "state": {}
     },
     "d6fb532d3f374ec7bb4cfc52ac9f2385": {
      "model_module": "@jupyter-widgets/controls",
      "model_module_version": "1.5.0",
      "model_name": "ProgressStyleModel",
      "state": {
       "description_width": ""
      }
     },
     "d781a0ce24844d749466f6726e2169fd": {
      "model_module": "@jupyter-widgets/controls",
      "model_module_version": "1.5.0",
      "model_name": "DescriptionStyleModel",
      "state": {
       "description_width": ""
      }
     },
     "d7d8872dc70741db8fa0513dfe8deed3": {
      "model_module": "@jupyter-widgets/base",
      "model_module_version": "1.2.0",
      "model_name": "LayoutModel",
      "state": {}
     },
     "d96b86bee994498cb71d16ff029e038b": {
      "model_module": "@jupyter-widgets/controls",
      "model_module_version": "1.5.0",
      "model_name": "DescriptionStyleModel",
      "state": {
       "description_width": ""
      }
     },
     "da023f102763440db0d0ae0c02bd10d4": {
      "model_module": "@jupyter-widgets/controls",
      "model_module_version": "1.5.0",
      "model_name": "DescriptionStyleModel",
      "state": {
       "description_width": ""
      }
     },
     "dbef30e6776c4429b154fe4f288acba1": {
      "model_module": "@jupyter-widgets/controls",
      "model_module_version": "1.5.0",
      "model_name": "HTMLModel",
      "state": {
       "layout": "IPY_MODEL_f452407609824d50bbeb51fc05cfe493",
       "style": "IPY_MODEL_bd45b11221134c069d1e875887a93705",
       "value": "100%"
      }
     },
     "dcfe6856ae584c42afa1896c7f717f1b": {
      "model_module": "@jupyter-widgets/base",
      "model_module_version": "1.2.0",
      "model_name": "LayoutModel",
      "state": {}
     },
     "deb10587d3904263b309f3bd8e4bbc9f": {
      "model_module": "@jupyter-widgets/controls",
      "model_module_version": "1.5.0",
      "model_name": "HTMLModel",
      "state": {
       "layout": "IPY_MODEL_39c779a580684caea43e95c8ce5704fb",
       "style": "IPY_MODEL_f740a2372aaf496b90cdfb775c965392",
       "value": " 8/8 [07:40&lt;00:00, 49.03s/it]"
      }
     },
     "e0115a8f4f0c4688bde847df681b4ce9": {
      "model_module": "@jupyter-widgets/base",
      "model_module_version": "1.2.0",
      "model_name": "LayoutModel",
      "state": {}
     },
     "e181e742420445b6bf9e1f498f13610f": {
      "model_module": "@jupyter-widgets/base",
      "model_module_version": "1.2.0",
      "model_name": "LayoutModel",
      "state": {}
     },
     "e278f425bf0b4f6585a0a02557f24603": {
      "model_module": "@jupyter-widgets/base",
      "model_module_version": "1.2.0",
      "model_name": "LayoutModel",
      "state": {}
     },
     "e42260a9ad5741bb80d2ce101d9acc6f": {
      "model_module": "@jupyter-widgets/base",
      "model_module_version": "1.2.0",
      "model_name": "LayoutModel",
      "state": {}
     },
     "e4f62a7d676b4cdb91ce27df659455f4": {
      "model_module": "@jupyter-widgets/base",
      "model_module_version": "1.2.0",
      "model_name": "LayoutModel",
      "state": {}
     },
     "e5058be6b44f4abca1ff426ac5eefa44": {
      "model_module": "@jupyter-widgets/controls",
      "model_module_version": "1.5.0",
      "model_name": "HTMLModel",
      "state": {
       "layout": "IPY_MODEL_b2874ef1c0c345668517a77a39816bce",
       "style": "IPY_MODEL_1eda7b9184ad41bc98d82002d86f9633",
       "value": " 8/8 [07:34&lt;00:00, 48.59s/it]"
      }
     },
     "e546fab8206e4234a71424f81d2fdcc3": {
      "model_module": "@jupyter-widgets/base",
      "model_module_version": "1.2.0",
      "model_name": "LayoutModel",
      "state": {}
     },
     "e67b431c78144ee28d5ded4c36a98471": {
      "model_module": "@jupyter-widgets/controls",
      "model_module_version": "1.5.0",
      "model_name": "HTMLModel",
      "state": {
       "layout": "IPY_MODEL_9f08f3bb22134096b361ea6946c636cc",
       "style": "IPY_MODEL_d96b86bee994498cb71d16ff029e038b",
       "value": "100%"
      }
     },
     "e697d163c6d6489597ce63e100a5e48a": {
      "model_module": "@jupyter-widgets/controls",
      "model_module_version": "1.5.0",
      "model_name": "HBoxModel",
      "state": {
       "children": [
        "IPY_MODEL_e67b431c78144ee28d5ded4c36a98471",
        "IPY_MODEL_2ee680b71bae4ddca1bd56fc88cf4842",
        "IPY_MODEL_57fdb203c7564cb0bea932886db0b23f"
       ],
       "layout": "IPY_MODEL_166ae6d02b4a44b3b4add860ef3686af"
      }
     },
     "e69b57fa7c2f4a0f917f9a568b742687": {
      "model_module": "@jupyter-widgets/controls",
      "model_module_version": "1.5.0",
      "model_name": "FloatProgressModel",
      "state": {
       "bar_style": "success",
       "layout": "IPY_MODEL_dcfe6856ae584c42afa1896c7f717f1b",
       "max": 8,
       "style": "IPY_MODEL_6342a389613f4d9888450f86b1f7d6c0",
       "value": 8
      }
     },
     "eab179dddbe5490e9b9bbf81597b06d6": {
      "model_module": "@jupyter-widgets/base",
      "model_module_version": "1.2.0",
      "model_name": "LayoutModel",
      "state": {}
     },
     "eb701fe5f6884ceba3ec272721e31209": {
      "model_module": "@jupyter-widgets/controls",
      "model_module_version": "1.5.0",
      "model_name": "DescriptionStyleModel",
      "state": {
       "description_width": ""
      }
     },
     "ec340dfa8bd34ff9aa49c354257c5a26": {
      "model_module": "@jupyter-widgets/base",
      "model_module_version": "1.2.0",
      "model_name": "LayoutModel",
      "state": {}
     },
     "ed5227026ec74f669e3bf19b6bf214c6": {
      "model_module": "@jupyter-widgets/controls",
      "model_module_version": "1.5.0",
      "model_name": "HBoxModel",
      "state": {
       "children": [
        "IPY_MODEL_b0433cf888764ef897a2e87d37bb77b5",
        "IPY_MODEL_351927eebdde40f9927c3c9b60c17c31",
        "IPY_MODEL_2bcd70e551804bb79d604c9b0825c8af"
       ],
       "layout": "IPY_MODEL_ec340dfa8bd34ff9aa49c354257c5a26"
      }
     },
     "f040e46931ec47d6b00bae81b5328cc0": {
      "model_module": "@jupyter-widgets/controls",
      "model_module_version": "1.5.0",
      "model_name": "HTMLModel",
      "state": {
       "layout": "IPY_MODEL_cc3021fd7b07407fb30b5be97fd3c7ff",
       "style": "IPY_MODEL_c44e3437f40f406ab833f08244eb461e",
       "value": "100%"
      }
     },
     "f0d26ced89a54acfac532a1ddf112c7d": {
      "model_module": "@jupyter-widgets/controls",
      "model_module_version": "1.5.0",
      "model_name": "ProgressStyleModel",
      "state": {
       "description_width": ""
      }
     },
     "f0f0087d0e5d4e2bb4ac04e3ace766e1": {
      "model_module": "@jupyter-widgets/controls",
      "model_module_version": "1.5.0",
      "model_name": "HTMLModel",
      "state": {
       "layout": "IPY_MODEL_ba29421623494c308fe6a92ab8642ee9",
       "style": "IPY_MODEL_0e5f516b90f74eeb9225dfd139f46d7f",
       "value": " 8/8 [07:36&lt;00:00, 49.11s/it]"
      }
     },
     "f3638c9c02124634b473202f274bcdd5": {
      "model_module": "@jupyter-widgets/controls",
      "model_module_version": "1.5.0",
      "model_name": "DescriptionStyleModel",
      "state": {
       "description_width": ""
      }
     },
     "f452407609824d50bbeb51fc05cfe493": {
      "model_module": "@jupyter-widgets/base",
      "model_module_version": "1.2.0",
      "model_name": "LayoutModel",
      "state": {}
     },
     "f4ac4dc23ec14d4e9da48b3c412c9752": {
      "model_module": "@jupyter-widgets/controls",
      "model_module_version": "1.5.0",
      "model_name": "HTMLModel",
      "state": {
       "layout": "IPY_MODEL_c1a6e8e579514445b2e6313f0825c059",
       "style": "IPY_MODEL_aa7b5373295849d18337fd0f0f4e4bcf",
       "value": " 8/8 [07:48&lt;00:00, 49.89s/it]"
      }
     },
     "f4d5ff32c05b4cc39fb530236e30733f": {
      "model_module": "@jupyter-widgets/controls",
      "model_module_version": "1.5.0",
      "model_name": "HTMLModel",
      "state": {
       "layout": "IPY_MODEL_e4f62a7d676b4cdb91ce27df659455f4",
       "style": "IPY_MODEL_8b11f83bc0c64ecd9b7dd75b3e7e8aec",
       "value": "100%"
      }
     },
     "f4fa4b94470641e181e66c0f3a227a0f": {
      "model_module": "@jupyter-widgets/controls",
      "model_module_version": "1.5.0",
      "model_name": "DescriptionStyleModel",
      "state": {
       "description_width": ""
      }
     },
     "f740a2372aaf496b90cdfb775c965392": {
      "model_module": "@jupyter-widgets/controls",
      "model_module_version": "1.5.0",
      "model_name": "DescriptionStyleModel",
      "state": {
       "description_width": ""
      }
     },
     "fa080e1ee1a947f5bda495ba5c3ef13f": {
      "model_module": "@jupyter-widgets/base",
      "model_module_version": "1.2.0",
      "model_name": "LayoutModel",
      "state": {}
     },
     "fa81038107d7444293c90b6c4b46284c": {
      "model_module": "@jupyter-widgets/controls",
      "model_module_version": "1.5.0",
      "model_name": "HTMLModel",
      "state": {
       "layout": "IPY_MODEL_67610e96737543cba67999453c079c73",
       "style": "IPY_MODEL_d112eab640c04cb9ac7d85c721b63c5f",
       "value": " 8/8 [07:37&lt;00:00, 48.81s/it]"
      }
     }
    },
    "version_major": 2,
    "version_minor": 0
   }
  }
 },
 "nbformat": 4,
 "nbformat_minor": 4
}
