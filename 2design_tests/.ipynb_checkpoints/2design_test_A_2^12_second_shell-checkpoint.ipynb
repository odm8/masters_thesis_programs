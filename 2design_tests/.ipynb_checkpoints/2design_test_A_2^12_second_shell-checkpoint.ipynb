{
 "cells": [
  {
   "cell_type": "markdown",
   "metadata": {},
   "source": [
    "In this Jupyter notebook, we perform the **spherical 2-design test** (see Section 2.3 of the Master's thesis) for the **second shell** of a deep hole of the type mentioned in the notebook title.\n",
    "\n",
    "According to Section 4.4.2 of the Master's thesis (or the accompanying Jupyter notebook that computes the distances from the first three shells of $\\Lambda_{24}$ to the deep holes), the second shell has squared distance\n",
    "\n",
    "$$\n",
    "2 + \\frac{2}{h}\n",
    "$$\n",
    "\n",
    "to the deep hole, where $h$ is the **Coxeter number** associated with the deep hole.\n"
   ]
  },
  {
   "cell_type": "code",
   "execution_count": 1,
   "metadata": {},
   "outputs": [],
   "source": [
    "from tqdm.notebook import tqdm\n",
    "import numpy as np\n",
    "import os"
   ]
  },
  {
   "cell_type": "code",
   "execution_count": 2,
   "metadata": {},
   "outputs": [
    {
     "name": "stdout",
     "output_type": "stream",
     "text": [
      "/home/sage\n"
     ]
    }
   ],
   "source": [
    "print(os.getcwd()) "
   ]
  },
  {
   "cell_type": "code",
   "execution_count": 3,
   "metadata": {},
   "outputs": [],
   "source": [
    "folder = \"data_leech-shells-around-zero/\""
   ]
  },
  {
   "cell_type": "markdown",
   "metadata": {},
   "source": [
    "---------------------------------------"
   ]
  },
  {
   "cell_type": "markdown",
   "metadata": {},
   "source": [
    "The following functions perform the **spherical 2-design test** and display the results accordingly."
   ]
  },
  {
   "cell_type": "code",
   "execution_count": 4,
   "metadata": {},
   "outputs": [],
   "source": [
    "# P is a Matrix with the columns being the vertices of the second shell around the deep hole c\n",
    "def sph_two_design_test(P,c):\n",
    "    X = P.ncols()        #order of the shell around c\n",
    "    n = P.nrows()        #dimension of the space\n",
    "    r = (P.column(0)-c).norm()                 \n",
    "    M = P -Matrix([c]*X).transpose()  #new Matrix where the vertices are P-c   \n",
    "        \n",
    "    #Test, whether all points have the same distance to the hole c\n",
    "    for index, element in enumerate(M.columns()):\n",
    "        if element.norm() != r:\n",
    "            raise ValueError(\"Points of P do not have same distance to c \"+ \n",
    "                             f\" Element at index {index} is {element} and radius {element.norm()} but it should be {r}\")\n",
    "    \n",
    "    s_1 = sum(M.columns()) # 1-design test\n",
    "    s_2 = Matrix(M.columns()).transpose() * Matrix(M.columns()) \n",
    "    \n",
    "    # checking codition for the spherical 2-design test\n",
    "    (b_1,b_2) = (s_1 == 0, s_2 == r^2 * (X/n) * identity_matrix(n)) \n",
    "    return (b_1, b_1 & b_2, X, n, r^2, s_1, s_2, P, M, c)\n",
    "\n",
    "#Function to present the results\n",
    "def print_result(res):\n",
    "    print(f\"Is spherical 1-design: {res[0]}\")\n",
    "    print(f\"Is spherical 2-design: {res[1]}\")\n",
    "    print(\"\")\n",
    "    print(f\"Number of points of in the shell: {res[2]}\")\n",
    "    print(f\"Dimension :  {res[3]}\")\n",
    "    print(f\"Squared distance to the deep hole: {res[4]}\")\n",
    "    print(\"\")\n",
    "    print(\"The vector of the spherical 1-design test: \")\n",
    "    print(res[5])\n",
    "    print(\"\")\n",
    "    print(\"The matrix of the spherical 2-design test:\")\n",
    "    print(res[6])\n",
    "    print(\"\")\n",
    "    print(f\"The deep hole: \")\n",
    "    print(res[9])\n",
    "    return "
   ]
  },
  {
   "cell_type": "markdown",
   "metadata": {},
   "source": [
    "--------------------------------------------------------------------------------------------------"
   ]
  },
  {
   "cell_type": "markdown",
   "metadata": {},
   "source": [
    "A deep hole of type $ A_2^{12} $, scaled by $ \\sqrt{8}\\,s $, where $ s $ is the second entry in the tuple below:\n"
   ]
  },
  {
   "cell_type": "code",
   "execution_count": 5,
   "metadata": {},
   "outputs": [],
   "source": [
    "deep_hole = (np.array(vector([10,0,0,0, 0,2,2,2, 2,0,0,0,  0,2,2,2, 2,0,0,0, 0,2,2,2 ])), 3)\n",
    "h = 3"
   ]
  },
  {
   "cell_type": "markdown",
   "metadata": {},
   "source": [
    "The procedure is as follows.\n",
    "\n",
    "Since our database of $ \\Lambda_{24} $ is scaled by $ \\sqrt{8} $ so that all entries are integers, we need to scale by a factor $ s $, as our deep hole is also scaled accordingly. The squared distance from the second shell to the deep hole thus becomes the integer:\n",
    "\n",
    "$$\n",
    "(2 + \\frac{2}{h}) \\cdot 8 \\cdot s^2,\n",
    "$$\n",
    "\n",
    "where $ h $ is the associated Coxeter number.\n",
    "\n",
    "Since we are working exclusively with integers, we can safely use NumPy functions and still obtain exact results—this is the approach we take.  \n",
    "\n",
    "We search through each of the first three shells for points that lie at the appropriate distance from our deep hole and store them in the list $ P$.  \n",
    "At the end, we scale everything accordingly and perform the spherical 2-design test on the gathered point set.\n",
    "\n",
    "To save RAM, we will use the data type `np.int32`, which is perfectly valid given the size of the numbers involved.\n",
    "\n",
    "Also note that all points from the second shell of the chosen deep hole are contained in our database (see Appendix E of the Master's thesis)."
   ]
  },
  {
   "cell_type": "code",
   "execution_count": 6,
   "metadata": {},
   "outputs": [],
   "source": [
    "dist_sec_shell = (2 + 2/h)*8*(deep_hole[1]^2) #"
   ]
  },
  {
   "cell_type": "code",
   "execution_count": 7,
   "metadata": {},
   "outputs": [],
   "source": [
    "P = []"
   ]
  },
  {
   "cell_type": "markdown",
   "metadata": {},
   "source": [
    "**First Shell**"
   ]
  },
  {
   "cell_type": "code",
   "execution_count": 8,
   "metadata": {},
   "outputs": [
    {
     "name": "stdout",
     "output_type": "stream",
     "text": [
      "(196560, 24)\n"
     ]
    }
   ],
   "source": [
    "np_shell_1_around_zero = np.load(folder+'shell1_around_zero.npy')\n",
    "print(np_shell_1_around_zero.shape)"
   ]
  },
  {
   "cell_type": "code",
   "execution_count": 9,
   "metadata": {},
   "outputs": [],
   "source": [
    "differences = np_shell_1_around_zero*deep_hole[1] - deep_hole[0] \n",
    "\n",
    "squared_distances = np.sum(differences.astype(np.int32) ** 2, axis=1) \n",
    "\n",
    "coord =  np.where(squared_distances == dist_sec_shell)[0]\n",
    "\n",
    "P = P + [np_shell_1_around_zero[i, :] for i in coord]"
   ]
  },
  {
   "cell_type": "code",
   "execution_count": 10,
   "metadata": {},
   "outputs": [],
   "source": [
    "del np_shell_1_around_zero"
   ]
  },
  {
   "cell_type": "markdown",
   "metadata": {},
   "source": [
    "**Second Shell**"
   ]
  },
  {
   "cell_type": "code",
   "execution_count": 11,
   "metadata": {},
   "outputs": [
    {
     "name": "stdout",
     "output_type": "stream",
     "text": [
      "(16773120, 24)\n"
     ]
    }
   ],
   "source": [
    "np_shell_2_around_zero = np.vstack(((np.load(folder+'shell2_shape1_around_zero.npy')).reshape(-1, 24), \n",
    "                                    np.load(folder+'shell2_shape2_around_zero.npy').reshape(-1, 24), \n",
    "                                    np.load(folder+'shell2_shape3_around_zero.npy').reshape(-1, 24), \n",
    "                                    np.load(folder+'shell2_shape4_around_zero.npy').reshape(-1, 24)))\n",
    "print(np_shell_2_around_zero.shape)"
   ]
  },
  {
   "cell_type": "code",
   "execution_count": 12,
   "metadata": {},
   "outputs": [],
   "source": [
    "differences = np_shell_2_around_zero*deep_hole[1] - deep_hole[0] \n",
    "\n",
    "squared_distances = np.sum(differences.astype(np.int32) ** 2, axis=1) \n",
    "\n",
    "coord =  np.where(squared_distances == dist_sec_shell)[0]\n",
    "\n",
    "P = P + [np_shell_2_around_zero[i, :] for i in coord]"
   ]
  },
  {
   "cell_type": "code",
   "execution_count": 13,
   "metadata": {},
   "outputs": [],
   "source": [
    "del np_shell_2_around_zero"
   ]
  },
  {
   "cell_type": "markdown",
   "metadata": {},
   "source": [
    "**Third Shell**"
   ]
  },
  {
   "cell_type": "code",
   "execution_count": 14,
   "metadata": {},
   "outputs": [],
   "source": [
    "# Due to the size of the third shell, we need to use memory mapping to avoid loading the entire array into RAM\n",
    "memmap_array1 = np.load(folder+'shell3_shape1_around_zero.npy', mmap_mode='r')\n",
    "memmap_array2 = np.load(folder+'shell3_shape2_around_zero.npy', mmap_mode='r')\n",
    "memmap_array3 = np.load(folder+'shell3_shape3_around_zero.npy', mmap_mode='r')\n",
    "memmap_array4 = np.load(folder+'shell3_shape4_around_zero.npy', mmap_mode='r')\n",
    "memmap_array5 = np.load(folder+'shell3_shape5_around_zero.npy', mmap_mode='r')\n",
    "memmap_array6 = np.load(folder+'shell3_shape6_around_zero.npy', mmap_mode='r')\n",
    "memmap_array7 = np.load(folder+'shell3_shape7_around_zero.npy', mmap_mode='r')\n",
    "memmap_array8 = np.load(folder+'shell3_shape8_around_zero.npy', mmap_mode='r')"
   ]
  },
  {
   "cell_type": "code",
   "execution_count": 15,
   "metadata": {},
   "outputs": [],
   "source": [
    "shape_arrays = [memmap_array1.reshape(-1,24), memmap_array2.reshape(-1,24), memmap_array3.reshape(-1,24), \n",
    "                memmap_array4.reshape(-1,24), memmap_array5.reshape(-1,24), memmap_array6.reshape(-1,24), \n",
    "                memmap_array7.reshape(-1,24), memmap_array8.reshape(-1,24)]"
   ]
  },
  {
   "cell_type": "code",
   "execution_count": 16,
   "metadata": {},
   "outputs": [
    {
     "data": {
      "text/plain": [
       "(48, 24)"
      ]
     },
     "execution_count": 16,
     "metadata": {},
     "output_type": "execute_result"
    }
   ],
   "source": [
    "chunk_size = 1600000\n",
    "shape_arrays[7].shape"
   ]
  },
  {
   "cell_type": "code",
   "execution_count": 17,
   "metadata": {},
   "outputs": [
    {
     "data": {
      "application/vnd.jupyter.widget-view+json": {
       "model_id": "9f2c567c6fd74ddbbb006da58b1702ab",
       "version_major": 2,
       "version_minor": 0
      },
      "text/plain": [
       "  0%|          | 0/8 [00:00<?, ?it/s]"
      ]
     },
     "metadata": {},
     "output_type": "display_data"
    }
   ],
   "source": [
    "for array in tqdm(shape_arrays):\n",
    "    for i in range(0,array.shape[0],chunk_size):  \n",
    "        \n",
    "        differences = array[i:i + chunk_size, :]*deep_hole[1] - deep_hole[0]         \n",
    "        \n",
    "        squared_distances = np.sum(differences.astype(np.int32) ** 2, axis=1)\n",
    "        \n",
    "        coord =  np.where(squared_distances == dist_sec_shell)[0]\n",
    "        \n",
    "        P = P + [(array[i:i + chunk_size, :])[k, :] for k in coord]"
   ]
  },
  {
   "cell_type": "code",
   "execution_count": 18,
   "metadata": {},
   "outputs": [],
   "source": [
    "del memmap_array1\n",
    "del memmap_array2\n",
    "del memmap_array3\n",
    "del memmap_array4\n",
    "del memmap_array5\n",
    "del memmap_array6\n",
    "del memmap_array7\n",
    "del memmap_array8"
   ]
  },
  {
   "cell_type": "markdown",
   "metadata": {},
   "source": [
    "We know conduct the spherical 2-design test."
   ]
  },
  {
   "cell_type": "code",
   "execution_count": 19,
   "metadata": {},
   "outputs": [],
   "source": [
    "P = (Matrix(QQ,P)/sqrt(8)).transpose()"
   ]
  },
  {
   "cell_type": "code",
   "execution_count": 20,
   "metadata": {},
   "outputs": [
    {
     "name": "stderr",
     "output_type": "stream",
     "text": [
      "/opt/sagemath-9.3/local/lib/python3.7/site-packages/sympy/external/importtools.py:158: DeprecationWarning: distutils Version classes are deprecated. Use packaging.version instead.\n",
      "  if LooseVersion(modversion) < LooseVersion(min_module_version):\n"
     ]
    },
    {
     "name": "stdout",
     "output_type": "stream",
     "text": [
      "Is spherical 1-design: True\n",
      "Is spherical 2-design: True\n",
      "\n",
      "Number of points of in the shell: 729\n",
      "Dimension :  24\n",
      "Squared distance to the deep hole: 8/3\n",
      "\n",
      "The vector of the spherical 1-design test: \n",
      "(0, 0, 0, 0, 0, 0, 0, 0, 0, 0, 0, 0, 0, 0, 0, 0, 0, 0, 0, 0, 0, 0, 0, 0)\n",
      "\n",
      "The matrix of the spherical 2-design test:\n",
      "[81  0  0  0  0  0  0  0  0  0  0  0  0  0  0  0  0  0  0  0  0  0  0  0]\n",
      "[ 0 81  0  0  0  0  0  0  0  0  0  0  0  0  0  0  0  0  0  0  0  0  0  0]\n",
      "[ 0  0 81  0  0  0  0  0  0  0  0  0  0  0  0  0  0  0  0  0  0  0  0  0]\n",
      "[ 0  0  0 81  0  0  0  0  0  0  0  0  0  0  0  0  0  0  0  0  0  0  0  0]\n",
      "[ 0  0  0  0 81  0  0  0  0  0  0  0  0  0  0  0  0  0  0  0  0  0  0  0]\n",
      "[ 0  0  0  0  0 81  0  0  0  0  0  0  0  0  0  0  0  0  0  0  0  0  0  0]\n",
      "[ 0  0  0  0  0  0 81  0  0  0  0  0  0  0  0  0  0  0  0  0  0  0  0  0]\n",
      "[ 0  0  0  0  0  0  0 81  0  0  0  0  0  0  0  0  0  0  0  0  0  0  0  0]\n",
      "[ 0  0  0  0  0  0  0  0 81  0  0  0  0  0  0  0  0  0  0  0  0  0  0  0]\n",
      "[ 0  0  0  0  0  0  0  0  0 81  0  0  0  0  0  0  0  0  0  0  0  0  0  0]\n",
      "[ 0  0  0  0  0  0  0  0  0  0 81  0  0  0  0  0  0  0  0  0  0  0  0  0]\n",
      "[ 0  0  0  0  0  0  0  0  0  0  0 81  0  0  0  0  0  0  0  0  0  0  0  0]\n",
      "[ 0  0  0  0  0  0  0  0  0  0  0  0 81  0  0  0  0  0  0  0  0  0  0  0]\n",
      "[ 0  0  0  0  0  0  0  0  0  0  0  0  0 81  0  0  0  0  0  0  0  0  0  0]\n",
      "[ 0  0  0  0  0  0  0  0  0  0  0  0  0  0 81  0  0  0  0  0  0  0  0  0]\n",
      "[ 0  0  0  0  0  0  0  0  0  0  0  0  0  0  0 81  0  0  0  0  0  0  0  0]\n",
      "[ 0  0  0  0  0  0  0  0  0  0  0  0  0  0  0  0 81  0  0  0  0  0  0  0]\n",
      "[ 0  0  0  0  0  0  0  0  0  0  0  0  0  0  0  0  0 81  0  0  0  0  0  0]\n",
      "[ 0  0  0  0  0  0  0  0  0  0  0  0  0  0  0  0  0  0 81  0  0  0  0  0]\n",
      "[ 0  0  0  0  0  0  0  0  0  0  0  0  0  0  0  0  0  0  0 81  0  0  0  0]\n",
      "[ 0  0  0  0  0  0  0  0  0  0  0  0  0  0  0  0  0  0  0  0 81  0  0  0]\n",
      "[ 0  0  0  0  0  0  0  0  0  0  0  0  0  0  0  0  0  0  0  0  0 81  0  0]\n",
      "[ 0  0  0  0  0  0  0  0  0  0  0  0  0  0  0  0  0  0  0  0  0  0 81  0]\n",
      "[ 0  0  0  0  0  0  0  0  0  0  0  0  0  0  0  0  0  0  0  0  0  0  0 81]\n",
      "\n",
      "The deep hole: \n",
      "(5/6*sqrt(2), 0, 0, 0, 0, 1/6*sqrt(2), 1/6*sqrt(2), 1/6*sqrt(2), 1/6*sqrt(2), 0, 0, 0, 0, 1/6*sqrt(2), 1/6*sqrt(2), 1/6*sqrt(2), 1/6*sqrt(2), 0, 0, 0, 0, 1/6*sqrt(2), 1/6*sqrt(2), 1/6*sqrt(2))\n"
     ]
    }
   ],
   "source": [
    "result = sph_two_design_test(P, vector(deep_hole[0].tolist()) /(sqrt(8)*deep_hole[1]))\n",
    "print_result(result)"
   ]
  },
  {
   "cell_type": "markdown",
   "metadata": {},
   "source": [
    "--------------------------------------------------------------"
   ]
  },
  {
   "cell_type": "markdown",
   "metadata": {},
   "source": [
    "---------------------------------------------------------------------------------------------"
   ]
  }
 ],
 "metadata": {
  "kernelspec": {
   "display_name": "SageMath 9.3",
   "language": "sage",
   "name": "sagemath"
  },
  "language_info": {
   "codemirror_mode": {
    "name": "ipython",
    "version": 3
   },
   "file_extension": ".py",
   "mimetype": "text/x-python",
   "name": "python",
   "nbconvert_exporter": "python",
   "pygments_lexer": "ipython3",
   "version": "3.7.10"
  },
  "widgets": {
   "application/vnd.jupyter.widget-state+json": {
    "state": {
     "03f6851694e842fdade304318e4fe61b": {
      "model_module": "@jupyter-widgets/controls",
      "model_module_version": "1.5.0",
      "model_name": "HTMLModel",
      "state": {
       "layout": "IPY_MODEL_25067c23482944818bf042d2997c7f64",
       "style": "IPY_MODEL_9577f8e3edf84c0a92cd7f465c81a417",
       "value": " 8/8 [07:32&lt;00:00, 48.22s/it]"
      }
     },
     "207e7b36eddd4f4dba6a265d68797476": {
      "model_module": "@jupyter-widgets/base",
      "model_module_version": "1.2.0",
      "model_name": "LayoutModel",
      "state": {}
     },
     "223442b217c84f79adabe7f187abcd56": {
      "model_module": "@jupyter-widgets/controls",
      "model_module_version": "1.5.0",
      "model_name": "DescriptionStyleModel",
      "state": {
       "description_width": ""
      }
     },
     "25067c23482944818bf042d2997c7f64": {
      "model_module": "@jupyter-widgets/base",
      "model_module_version": "1.2.0",
      "model_name": "LayoutModel",
      "state": {}
     },
     "26426831d03f484eb6e323b90899a40b": {
      "model_module": "@jupyter-widgets/controls",
      "model_module_version": "1.5.0",
      "model_name": "FloatProgressModel",
      "state": {
       "bar_style": "success",
       "layout": "IPY_MODEL_207e7b36eddd4f4dba6a265d68797476",
       "max": 8,
       "style": "IPY_MODEL_3ec53bc2be44490eb50fc874d5d2e120",
       "value": 8
      }
     },
     "386da400a1b045c5872be39a676b9850": {
      "model_module": "@jupyter-widgets/controls",
      "model_module_version": "1.5.0",
      "model_name": "HTMLModel",
      "state": {
       "layout": "IPY_MODEL_f23dfb970f75484a903465eac1358416",
       "style": "IPY_MODEL_223442b217c84f79adabe7f187abcd56",
       "value": "100%"
      }
     },
     "3ec53bc2be44490eb50fc874d5d2e120": {
      "model_module": "@jupyter-widgets/controls",
      "model_module_version": "1.5.0",
      "model_name": "ProgressStyleModel",
      "state": {
       "description_width": ""
      }
     },
     "9577f8e3edf84c0a92cd7f465c81a417": {
      "model_module": "@jupyter-widgets/controls",
      "model_module_version": "1.5.0",
      "model_name": "DescriptionStyleModel",
      "state": {
       "description_width": ""
      }
     },
     "9f2c567c6fd74ddbbb006da58b1702ab": {
      "model_module": "@jupyter-widgets/controls",
      "model_module_version": "1.5.0",
      "model_name": "HBoxModel",
      "state": {
       "children": [
        "IPY_MODEL_386da400a1b045c5872be39a676b9850",
        "IPY_MODEL_26426831d03f484eb6e323b90899a40b",
        "IPY_MODEL_03f6851694e842fdade304318e4fe61b"
       ],
       "layout": "IPY_MODEL_db3c1f9cdb694a8ca9a8d7d78901186d"
      }
     },
     "db3c1f9cdb694a8ca9a8d7d78901186d": {
      "model_module": "@jupyter-widgets/base",
      "model_module_version": "1.2.0",
      "model_name": "LayoutModel",
      "state": {}
     },
     "f23dfb970f75484a903465eac1358416": {
      "model_module": "@jupyter-widgets/base",
      "model_module_version": "1.2.0",
      "model_name": "LayoutModel",
      "state": {}
     }
    },
    "version_major": 2,
    "version_minor": 0
   }
  }
 },
 "nbformat": 4,
 "nbformat_minor": 4
}
