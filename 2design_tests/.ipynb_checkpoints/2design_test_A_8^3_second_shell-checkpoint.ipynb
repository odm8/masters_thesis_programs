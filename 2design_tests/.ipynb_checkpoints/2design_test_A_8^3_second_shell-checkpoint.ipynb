{
 "cells": [
  {
   "cell_type": "markdown",
   "metadata": {},
   "source": [
    "In this Jupyter notebook, we perform the **spherical 2-design test** (see Section 2.3 of the Master's thesis) for the **second shell** of a deep hole of the type mentioned in the notebook title.\n",
    "\n",
    "According to Section 4.4.2 of the Master's thesis (or the accompanying Jupyter notebook that computes the distances from the first three shells of $\\Lambda_{24}$ to the deep holes), the second shell has squared distance\n",
    "\n",
    "$$\n",
    "2 + \\frac{2}{h}\n",
    "$$\n",
    "\n",
    "to the deep hole, where $h$ is the **Coxeter number** associated with the deep hole.\n"
   ]
  },
  {
   "cell_type": "code",
   "execution_count": 1,
   "metadata": {},
   "outputs": [],
   "source": [
    "from tqdm.notebook import tqdm\n",
    "import numpy as np\n",
    "import os"
   ]
  },
  {
   "cell_type": "code",
   "execution_count": 2,
   "metadata": {},
   "outputs": [
    {
     "name": "stdout",
     "output_type": "stream",
     "text": [
      "/home/sage\n"
     ]
    }
   ],
   "source": [
    "print(os.getcwd()) "
   ]
  },
  {
   "cell_type": "code",
   "execution_count": 3,
   "metadata": {},
   "outputs": [],
   "source": [
    "folder = \"data_leech-shells-around-zero/\""
   ]
  },
  {
   "cell_type": "markdown",
   "metadata": {},
   "source": [
    "---------------------------------------"
   ]
  },
  {
   "cell_type": "markdown",
   "metadata": {},
   "source": [
    "The following functions perform the **spherical 2-design test** and display the results accordingly."
   ]
  },
  {
   "cell_type": "code",
   "execution_count": 4,
   "metadata": {},
   "outputs": [],
   "source": [
    "# P is a Matrix with the columns being the vertices of the second shell around the deep hole c\n",
    "def sph_two_design_test(P,c):\n",
    "    X = P.ncols()        #order of the shell around c\n",
    "    n = P.nrows()        #dimension of the space\n",
    "    r = (P.column(0)-c).norm()                 \n",
    "    M = P -Matrix([c]*X).transpose()  #new Matrix where the vertices are P-c   \n",
    "        \n",
    "    #Test, whether all points have the same distance to the hole c\n",
    "    for index, element in enumerate(M.columns()):\n",
    "        if element.norm() != r:\n",
    "            raise ValueError(\"Points of P do not have same distance to c \"+ \n",
    "                             f\" Element at index {index} is {element} and radius {element.norm()} but it should be {r}\")\n",
    "    \n",
    "    s_1 = sum(M.columns()) # 1-design test\n",
    "    s_2 = Matrix(M.columns()).transpose() * Matrix(M.columns()) \n",
    "    \n",
    "    # checking codition for the spherical 2-design test\n",
    "    (b_1,b_2) = (s_1 == 0, s_2 == r^2 * (X/n) * identity_matrix(n)) \n",
    "    return (b_1, b_1 & b_2, X, n, r^2, s_1, s_2, P, M, c)\n",
    "\n",
    "#Function to present the results\n",
    "def print_result(res):\n",
    "    print(f\"Is spherical 1-design: {res[0]}\")\n",
    "    print(f\"Is spherical 2-design: {res[1]}\")\n",
    "    print(\"\")\n",
    "    print(f\"Number of points of in the shell: {res[2]}\")\n",
    "    print(f\"Dimension :  {res[3]}\")\n",
    "    print(f\"Squared distance to the deep hole: {res[4]}\")\n",
    "    print(\"\")\n",
    "    print(\"The vector of the spherical 1-design test: \")\n",
    "    print(res[5])\n",
    "    print(\"\")\n",
    "    print(\"The matrix of the spherical 2-design test:\")\n",
    "    print(res[6])\n",
    "    print(\"\")\n",
    "    print(f\"The deep hole: \")\n",
    "    print(res[9])\n",
    "    return "
   ]
  },
  {
   "cell_type": "markdown",
   "metadata": {},
   "source": [
    "--------------------------------------------------------------------------------------------------"
   ]
  },
  {
   "cell_type": "markdown",
   "metadata": {},
   "source": [
    "A deep hole of type $ A_8^3 $, scaled by $ \\sqrt{8}\\,s $, where $ s $ is the second entry in the tuple below:\n"
   ]
  },
  {
   "cell_type": "code",
   "execution_count": 5,
   "metadata": {},
   "outputs": [],
   "source": [
    "deep_hole = (np.array(vector([27,1,1,1, 3,1,1,1, -9,5,5,5, 3,5,5,5, 9,7,7,7, 3,5,5,5])), 9)\n",
    "h = 9"
   ]
  },
  {
   "cell_type": "markdown",
   "metadata": {},
   "source": [
    "The procedure is as follows.\n",
    "\n",
    "Since our database of $ \\Lambda_{24} $ is scaled by $ \\sqrt{8} $ so that all entries are integers, we need to scale by a factor $ s $, as our deep hole is also scaled accordingly. The squared distance from the second shell to the deep hole thus becomes the integer:\n",
    "\n",
    "$$\n",
    "(2 + \\frac{2}{h}) \\cdot 8 \\cdot s^2,\n",
    "$$\n",
    "\n",
    "where $ h $ is the associated Coxeter number.\n",
    "\n",
    "Since we are working exclusively with integers, we can safely use NumPy functions and still obtain exact results—this is the approach we take.  \n",
    "\n",
    "We search through each of the first three shells for points that lie at the appropriate distance from our deep hole and store them in the list $ P$.  \n",
    "At the end, we scale everything accordingly and perform the spherical 2-design test on the gathered point set.\n",
    "\n",
    "To save RAM, we will use the data type `np.int32`, which is perfectly valid given the size of the numbers involved.\n",
    "\n",
    "Also note that all points from the second shell of the chosen deep hole are contained in our database (see Appendix E of the Master's thesis)."
   ]
  },
  {
   "cell_type": "code",
   "execution_count": 6,
   "metadata": {},
   "outputs": [],
   "source": [
    "dist_sec_shell = (2 + 2/h)*8*(deep_hole[1]^2) #"
   ]
  },
  {
   "cell_type": "code",
   "execution_count": 7,
   "metadata": {},
   "outputs": [],
   "source": [
    "P = []"
   ]
  },
  {
   "cell_type": "markdown",
   "metadata": {},
   "source": [
    "**First Shell**"
   ]
  },
  {
   "cell_type": "code",
   "execution_count": 8,
   "metadata": {},
   "outputs": [
    {
     "name": "stdout",
     "output_type": "stream",
     "text": [
      "(196560, 24)\n"
     ]
    }
   ],
   "source": [
    "np_shell_1_around_zero = np.load(folder+'shell1_around_zero.npy')\n",
    "print(np_shell_1_around_zero.shape)"
   ]
  },
  {
   "cell_type": "code",
   "execution_count": 9,
   "metadata": {},
   "outputs": [],
   "source": [
    "differences = np_shell_1_around_zero*deep_hole[1] - deep_hole[0] \n",
    "\n",
    "squared_distances = np.sum(differences.astype(np.int32) ** 2, axis=1) \n",
    "\n",
    "coord =  np.where(squared_distances == dist_sec_shell)[0]\n",
    "\n",
    "P = P + [np_shell_1_around_zero[i, :] for i in coord]"
   ]
  },
  {
   "cell_type": "code",
   "execution_count": 10,
   "metadata": {},
   "outputs": [],
   "source": [
    "del np_shell_1_around_zero"
   ]
  },
  {
   "cell_type": "markdown",
   "metadata": {},
   "source": [
    "**Second Shell**"
   ]
  },
  {
   "cell_type": "code",
   "execution_count": 11,
   "metadata": {},
   "outputs": [
    {
     "name": "stdout",
     "output_type": "stream",
     "text": [
      "(16773120, 24)\n"
     ]
    }
   ],
   "source": [
    "np_shell_2_around_zero = np.vstack(((np.load(folder+'shell2_shape1_around_zero.npy')).reshape(-1, 24), \n",
    "                                    np.load(folder+'shell2_shape2_around_zero.npy').reshape(-1, 24), \n",
    "                                    np.load(folder+'shell2_shape3_around_zero.npy').reshape(-1, 24), \n",
    "                                    np.load(folder+'shell2_shape4_around_zero.npy').reshape(-1, 24)))\n",
    "print(np_shell_2_around_zero.shape)"
   ]
  },
  {
   "cell_type": "code",
   "execution_count": 12,
   "metadata": {},
   "outputs": [],
   "source": [
    "differences = np_shell_2_around_zero*deep_hole[1] - deep_hole[0] \n",
    "\n",
    "squared_distances = np.sum(differences.astype(np.int32) ** 2, axis=1) \n",
    "\n",
    "coord =  np.where(squared_distances == dist_sec_shell)[0]\n",
    "\n",
    "P = P + [np_shell_2_around_zero[i, :] for i in coord]"
   ]
  },
  {
   "cell_type": "code",
   "execution_count": 13,
   "metadata": {},
   "outputs": [],
   "source": [
    "del np_shell_2_around_zero"
   ]
  },
  {
   "cell_type": "markdown",
   "metadata": {},
   "source": [
    "**Third Shell**"
   ]
  },
  {
   "cell_type": "code",
   "execution_count": 14,
   "metadata": {},
   "outputs": [],
   "source": [
    "# Due to the size of the third shell, we need to use memory mapping to avoid loading the entire array into RAM\n",
    "memmap_array1 = np.load(folder+'shell3_shape1_around_zero.npy', mmap_mode='r')\n",
    "memmap_array2 = np.load(folder+'shell3_shape2_around_zero.npy', mmap_mode='r')\n",
    "memmap_array3 = np.load(folder+'shell3_shape3_around_zero.npy', mmap_mode='r')\n",
    "memmap_array4 = np.load(folder+'shell3_shape4_around_zero.npy', mmap_mode='r')\n",
    "memmap_array5 = np.load(folder+'shell3_shape5_around_zero.npy', mmap_mode='r')\n",
    "memmap_array6 = np.load(folder+'shell3_shape6_around_zero.npy', mmap_mode='r')\n",
    "memmap_array7 = np.load(folder+'shell3_shape7_around_zero.npy', mmap_mode='r')\n",
    "memmap_array8 = np.load(folder+'shell3_shape8_around_zero.npy', mmap_mode='r')"
   ]
  },
  {
   "cell_type": "code",
   "execution_count": 15,
   "metadata": {},
   "outputs": [],
   "source": [
    "shape_arrays = [memmap_array1.reshape(-1,24), memmap_array2.reshape(-1,24), memmap_array3.reshape(-1,24), \n",
    "                memmap_array4.reshape(-1,24), memmap_array5.reshape(-1,24), memmap_array6.reshape(-1,24), \n",
    "                memmap_array7.reshape(-1,24), memmap_array8.reshape(-1,24)]"
   ]
  },
  {
   "cell_type": "code",
   "execution_count": 16,
   "metadata": {},
   "outputs": [
    {
     "data": {
      "text/plain": [
       "(48, 24)"
      ]
     },
     "execution_count": 16,
     "metadata": {},
     "output_type": "execute_result"
    }
   ],
   "source": [
    "chunk_size = 1600000\n",
    "shape_arrays[7].shape"
   ]
  },
  {
   "cell_type": "code",
   "execution_count": 17,
   "metadata": {},
   "outputs": [
    {
     "data": {
      "application/vnd.jupyter.widget-view+json": {
       "model_id": "e2b0a3765063492082ecd2d863c45771",
       "version_major": 2,
       "version_minor": 0
      },
      "text/plain": [
       "  0%|          | 0/8 [00:00<?, ?it/s]"
      ]
     },
     "metadata": {},
     "output_type": "display_data"
    }
   ],
   "source": [
    "for array in tqdm(shape_arrays):\n",
    "    for i in range(0,array.shape[0],chunk_size):  \n",
    "        \n",
    "        differences = array[i:i + chunk_size, :]*deep_hole[1] - deep_hole[0]         \n",
    "        \n",
    "        squared_distances = np.sum(differences.astype(np.int32) ** 2, axis=1)\n",
    "        \n",
    "        coord =  np.where(squared_distances == dist_sec_shell)[0]\n",
    "        \n",
    "        P = P + [(array[i:i + chunk_size, :])[k, :] for k in coord]"
   ]
  },
  {
   "cell_type": "code",
   "execution_count": 18,
   "metadata": {},
   "outputs": [],
   "source": [
    "del memmap_array1\n",
    "del memmap_array2\n",
    "del memmap_array3\n",
    "del memmap_array4\n",
    "del memmap_array5\n",
    "del memmap_array6\n",
    "del memmap_array7\n",
    "del memmap_array8"
   ]
  },
  {
   "cell_type": "markdown",
   "metadata": {},
   "source": [
    "We know conduct the spherical 2-design test."
   ]
  },
  {
   "cell_type": "code",
   "execution_count": 19,
   "metadata": {},
   "outputs": [],
   "source": [
    "P = (Matrix(QQ,P)/sqrt(8)).transpose()"
   ]
  },
  {
   "cell_type": "code",
   "execution_count": 20,
   "metadata": {},
   "outputs": [
    {
     "name": "stderr",
     "output_type": "stream",
     "text": [
      "/opt/sagemath-9.3/local/lib/python3.7/site-packages/sympy/external/importtools.py:158: DeprecationWarning: distutils Version classes are deprecated. Use packaging.version instead.\n",
      "  if LooseVersion(modversion) < LooseVersion(min_module_version):\n"
     ]
    },
    {
     "name": "stdout",
     "output_type": "stream",
     "text": [
      "Is spherical 1-design: True\n",
      "Is spherical 2-design: False\n",
      "\n",
      "Number of points of in the shell: 27\n",
      "Dimension :  24\n",
      "Squared distance to the deep hole: 20/9\n",
      "\n",
      "The vector of the spherical 1-design test: \n",
      "(0, 0, 0, 0, 0, 0, 0, 0, 0, 0, 0, 0, 0, 0, 0, 0, 0, 0, 0, 0, 0, 0, 0, 0)\n",
      "\n",
      "The matrix of the spherical 2-design test:\n",
      "[   3/2      0      0      0   -3/4    1/4    1/4    1/4      0      0      0      0      0      0      0      0   -3/4   -1/4   -1/4   -1/4      0      0      0      0]\n",
      "[     0   11/6   -1/6   -1/6   -1/4   1/12 -11/12   1/12      0   -1/3   -1/3    2/3      0   -1/3    2/3   -1/3    1/4   1/12   1/12 -11/12      0    2/3   -1/3   -1/3]\n",
      "[     0   -1/6   11/6   -1/6   -1/4   1/12   1/12 -11/12      0    2/3   -1/3   -1/3      0   -1/3   -1/3    2/3    1/4 -11/12   1/12   1/12      0   -1/3    2/3   -1/3]\n",
      "[     0   -1/6   -1/6   11/6   -1/4 -11/12   1/12   1/12      0   -1/3    2/3   -1/3      0    2/3   -1/3   -1/3    1/4   1/12 -11/12   1/12      0   -1/3   -1/3    2/3]\n",
      "[  -3/4   -1/4   -1/4   -1/4      3      0      0      0    3/4   -1/4   -1/4   -1/4   -3/4    1/4    1/4    1/4      0    1/2    1/2    1/2   -3/4    1/4    1/4    1/4]\n",
      "[   1/4   1/12   1/12 -11/12      0    7/3    1/3    1/3    1/4   5/12  -1/12   5/12   -1/4 -13/12   5/12  -1/12   -1/2   -1/6    1/3   -1/6   -1/4  -1/12   5/12 -13/12]\n",
      "[   1/4 -11/12   1/12   1/12      0    1/3    7/3    1/3    1/4   5/12   5/12  -1/12   -1/4  -1/12 -13/12   5/12   -1/2   -1/6   -1/6    1/3   -1/4 -13/12  -1/12   5/12]\n",
      "[   1/4   1/12 -11/12   1/12      0    1/3    1/3    7/3    1/4  -1/12   5/12   5/12   -1/4   5/12  -1/12 -13/12   -1/2    1/3   -1/6   -1/6   -1/4   5/12 -13/12  -1/12]\n",
      "[     0      0      0      0    3/4    1/4    1/4    1/4    3/2      0      0      0      0   -1/2   -1/2   -1/2   -3/4    1/4    1/4    1/4      0   -1/2   -1/2   -1/2]\n",
      "[     0   -1/3    2/3   -1/3   -1/4   5/12   5/12  -1/12      0   11/6   -1/6   -1/6    1/2   -1/6   -1/6    1/3   -1/4  -7/12  -1/12  -1/12    1/2   -1/6    1/3   -1/6]\n",
      "[     0   -1/3   -1/3    2/3   -1/4  -1/12   5/12   5/12      0   -1/6   11/6   -1/6    1/2    1/3   -1/6   -1/6   -1/4  -1/12  -7/12  -1/12    1/2   -1/6   -1/6    1/3]\n",
      "[     0    2/3   -1/3   -1/3   -1/4   5/12  -1/12   5/12      0   -1/6   -1/6   11/6    1/2   -1/6    1/3   -1/6   -1/4  -1/12  -1/12  -7/12    1/2    1/3   -1/6   -1/6]\n",
      "[     0      0      0      0   -3/4   -1/4   -1/4   -1/4      0    1/2    1/2    1/2    3/2      0      0      0   -3/4   -3/4   -3/4   -3/4    3/2      0      0      0]\n",
      "[     0   -1/3   -1/3    2/3    1/4 -13/12  -1/12   5/12   -1/2   -1/6    1/3   -1/6      0   17/6   -2/3   -2/3    3/4 -13/12  -1/12   5/12      0    5/6   -1/6    5/6]\n",
      "[     0    2/3   -1/3   -1/3    1/4   5/12 -13/12  -1/12   -1/2   -1/6   -1/6    1/3      0   -2/3   17/6   -2/3    3/4   5/12 -13/12  -1/12      0    5/6    5/6   -1/6]\n",
      "[     0   -1/3    2/3   -1/3    1/4  -1/12   5/12 -13/12   -1/2    1/3   -1/6   -1/6      0   -2/3   -2/3   17/6    3/4  -1/12   5/12 -13/12      0   -1/6    5/6    5/6]\n",
      "[  -3/4    1/4    1/4    1/4      0   -1/2   -1/2   -1/2   -3/4   -1/4   -1/4   -1/4   -3/4    3/4    3/4    3/4      3      0      0      0   -3/4    3/4    3/4    3/4]\n",
      "[  -1/4   1/12 -11/12   1/12    1/2   -1/6   -1/6    1/3    1/4  -7/12  -1/12  -1/12   -3/4 -13/12   5/12  -1/12      0   13/3   -2/3   -2/3   -3/4 -13/12  -1/12   5/12]\n",
      "[  -1/4   1/12   1/12 -11/12    1/2    1/3   -1/6   -1/6    1/4  -1/12  -7/12  -1/12   -3/4  -1/12 -13/12   5/12      0   -2/3   13/3   -2/3   -3/4   5/12 -13/12  -1/12]\n",
      "[  -1/4 -11/12   1/12   1/12    1/2   -1/6    1/3   -1/6    1/4  -1/12  -1/12  -7/12   -3/4   5/12  -1/12 -13/12      0   -2/3   -2/3   13/3   -3/4  -1/12   5/12 -13/12]\n",
      "[     0      0      0      0   -3/4   -1/4   -1/4   -1/4      0    1/2    1/2    1/2    3/2      0      0      0   -3/4   -3/4   -3/4   -3/4    3/2      0      0      0]\n",
      "[     0    2/3   -1/3   -1/3    1/4  -1/12 -13/12   5/12   -1/2   -1/6   -1/6    1/3      0    5/6    5/6   -1/6    3/4 -13/12   5/12  -1/12      0   17/6   -2/3   -2/3]\n",
      "[     0   -1/3    2/3   -1/3    1/4   5/12  -1/12 -13/12   -1/2    1/3   -1/6   -1/6      0   -1/6    5/6    5/6    3/4  -1/12 -13/12   5/12      0   -2/3   17/6   -2/3]\n",
      "[     0   -1/3   -1/3    2/3    1/4 -13/12   5/12  -1/12   -1/2   -1/6    1/3   -1/6      0    5/6   -1/6    5/6    3/4   5/12  -1/12 -13/12      0   -2/3   -2/3   17/6]\n",
      "\n",
      "The deep hole: \n",
      "(3/4*sqrt(2), 1/36*sqrt(2), 1/36*sqrt(2), 1/36*sqrt(2), 1/12*sqrt(2), 1/36*sqrt(2), 1/36*sqrt(2), 1/36*sqrt(2), -1/4*sqrt(2), 5/36*sqrt(2), 5/36*sqrt(2), 5/36*sqrt(2), 1/12*sqrt(2), 5/36*sqrt(2), 5/36*sqrt(2), 5/36*sqrt(2), 1/4*sqrt(2), 7/36*sqrt(2), 7/36*sqrt(2), 7/36*sqrt(2), 1/12*sqrt(2), 5/36*sqrt(2), 5/36*sqrt(2), 5/36*sqrt(2))\n"
     ]
    }
   ],
   "source": [
    "result = sph_two_design_test(P, vector(deep_hole[0].tolist()) /(sqrt(8)*deep_hole[1]))\n",
    "print_result(result)"
   ]
  },
  {
   "cell_type": "markdown",
   "metadata": {},
   "source": [
    "--------------------------------------------------------------"
   ]
  },
  {
   "cell_type": "markdown",
   "metadata": {},
   "source": [
    "---------------------------------------------------------------------------------------------"
   ]
  }
 ],
 "metadata": {
  "kernelspec": {
   "display_name": "SageMath 9.3",
   "language": "sage",
   "name": "sagemath"
  },
  "language_info": {
   "codemirror_mode": {
    "name": "ipython",
    "version": 3
   },
   "file_extension": ".py",
   "mimetype": "text/x-python",
   "name": "python",
   "nbconvert_exporter": "python",
   "pygments_lexer": "ipython3",
   "version": "3.7.10"
  },
  "widgets": {
   "application/vnd.jupyter.widget-state+json": {
    "state": {
     "02ae8e4d0f0341478357a331061c3de8": {
      "model_module": "@jupyter-widgets/base",
      "model_module_version": "1.2.0",
      "model_name": "LayoutModel",
      "state": {}
     },
     "164d1e0058164937917abf4921c62c2a": {
      "model_module": "@jupyter-widgets/controls",
      "model_module_version": "1.5.0",
      "model_name": "FloatProgressModel",
      "state": {
       "bar_style": "success",
       "layout": "IPY_MODEL_02ae8e4d0f0341478357a331061c3de8",
       "max": 8,
       "style": "IPY_MODEL_d1eed189442946419f12e4a45d9b34eb",
       "value": 8
      }
     },
     "1a0e455fbcb74e6894fd9dd0efebec47": {
      "model_module": "@jupyter-widgets/controls",
      "model_module_version": "1.5.0",
      "model_name": "DescriptionStyleModel",
      "state": {
       "description_width": ""
      }
     },
     "1e4bf247e0714c939e8ba55695a1fcda": {
      "model_module": "@jupyter-widgets/controls",
      "model_module_version": "1.5.0",
      "model_name": "FloatProgressModel",
      "state": {
       "bar_style": "success",
       "layout": "IPY_MODEL_bd4bef3cdfbc4be2b5d2a9068238422e",
       "max": 8,
       "style": "IPY_MODEL_3386d773a9c34322a753825de76a3c9d",
       "value": 8
      }
     },
     "3386d773a9c34322a753825de76a3c9d": {
      "model_module": "@jupyter-widgets/controls",
      "model_module_version": "1.5.0",
      "model_name": "ProgressStyleModel",
      "state": {
       "description_width": ""
      }
     },
     "3669f11da2cd40a297d94192956baeb2": {
      "model_module": "@jupyter-widgets/controls",
      "model_module_version": "1.5.0",
      "model_name": "HTMLModel",
      "state": {
       "layout": "IPY_MODEL_c7d6b0e610464176a8f3cdaaff0b8fa1",
       "style": "IPY_MODEL_d3681a957ea941e1a545a2f533004663",
       "value": "100%"
      }
     },
     "411237804f9e484199d1900e36bce29e": {
      "model_module": "@jupyter-widgets/base",
      "model_module_version": "1.2.0",
      "model_name": "LayoutModel",
      "state": {}
     },
     "4abeb4eae6364941b199f59bfeeb3ae9": {
      "model_module": "@jupyter-widgets/controls",
      "model_module_version": "1.5.0",
      "model_name": "HTMLModel",
      "state": {
       "layout": "IPY_MODEL_c9c36792720c4ccdb4ef70cc1493cc2a",
       "style": "IPY_MODEL_dd5b49a58a524f80b22943e232cce2d0",
       "value": " 8/8 [07:33&lt;00:00, 47.85s/it]"
      }
     },
     "4c42645d526e473ca8eb472e6b463d44": {
      "model_module": "@jupyter-widgets/base",
      "model_module_version": "1.2.0",
      "model_name": "LayoutModel",
      "state": {}
     },
     "6722a1c4f1ff43f4abf8bdfc198e5f6d": {
      "model_module": "@jupyter-widgets/controls",
      "model_module_version": "1.5.0",
      "model_name": "HBoxModel",
      "state": {
       "children": [
        "IPY_MODEL_ee54ae1c86cf48cebee050c70740285f",
        "IPY_MODEL_164d1e0058164937917abf4921c62c2a",
        "IPY_MODEL_95eed1e602b645cbbb5d2530332e0c59"
       ],
       "layout": "IPY_MODEL_dc836df61fdd4c7399b7bc0b8b1f9924"
      }
     },
     "95eed1e602b645cbbb5d2530332e0c59": {
      "model_module": "@jupyter-widgets/controls",
      "model_module_version": "1.5.0",
      "model_name": "HTMLModel",
      "state": {
       "layout": "IPY_MODEL_411237804f9e484199d1900e36bce29e",
       "style": "IPY_MODEL_1a0e455fbcb74e6894fd9dd0efebec47",
       "value": " 8/8 [07:52&lt;00:00, 49.90s/it]"
      }
     },
     "bd4bef3cdfbc4be2b5d2a9068238422e": {
      "model_module": "@jupyter-widgets/base",
      "model_module_version": "1.2.0",
      "model_name": "LayoutModel",
      "state": {}
     },
     "c7d6b0e610464176a8f3cdaaff0b8fa1": {
      "model_module": "@jupyter-widgets/base",
      "model_module_version": "1.2.0",
      "model_name": "LayoutModel",
      "state": {}
     },
     "c9c36792720c4ccdb4ef70cc1493cc2a": {
      "model_module": "@jupyter-widgets/base",
      "model_module_version": "1.2.0",
      "model_name": "LayoutModel",
      "state": {}
     },
     "d1eed189442946419f12e4a45d9b34eb": {
      "model_module": "@jupyter-widgets/controls",
      "model_module_version": "1.5.0",
      "model_name": "ProgressStyleModel",
      "state": {
       "description_width": ""
      }
     },
     "d3681a957ea941e1a545a2f533004663": {
      "model_module": "@jupyter-widgets/controls",
      "model_module_version": "1.5.0",
      "model_name": "DescriptionStyleModel",
      "state": {
       "description_width": ""
      }
     },
     "d8e090454bcb423d91a2f90661dbede6": {
      "model_module": "@jupyter-widgets/base",
      "model_module_version": "1.2.0",
      "model_name": "LayoutModel",
      "state": {}
     },
     "dc836df61fdd4c7399b7bc0b8b1f9924": {
      "model_module": "@jupyter-widgets/base",
      "model_module_version": "1.2.0",
      "model_name": "LayoutModel",
      "state": {}
     },
     "dd5b49a58a524f80b22943e232cce2d0": {
      "model_module": "@jupyter-widgets/controls",
      "model_module_version": "1.5.0",
      "model_name": "DescriptionStyleModel",
      "state": {
       "description_width": ""
      }
     },
     "e2b0a3765063492082ecd2d863c45771": {
      "model_module": "@jupyter-widgets/controls",
      "model_module_version": "1.5.0",
      "model_name": "HBoxModel",
      "state": {
       "children": [
        "IPY_MODEL_3669f11da2cd40a297d94192956baeb2",
        "IPY_MODEL_1e4bf247e0714c939e8ba55695a1fcda",
        "IPY_MODEL_4abeb4eae6364941b199f59bfeeb3ae9"
       ],
       "layout": "IPY_MODEL_4c42645d526e473ca8eb472e6b463d44"
      }
     },
     "ee54ae1c86cf48cebee050c70740285f": {
      "model_module": "@jupyter-widgets/controls",
      "model_module_version": "1.5.0",
      "model_name": "HTMLModel",
      "state": {
       "layout": "IPY_MODEL_d8e090454bcb423d91a2f90661dbede6",
       "style": "IPY_MODEL_f99fcd36906d4e158db7c6dc1e07fe98",
       "value": "100%"
      }
     },
     "f99fcd36906d4e158db7c6dc1e07fe98": {
      "model_module": "@jupyter-widgets/controls",
      "model_module_version": "1.5.0",
      "model_name": "DescriptionStyleModel",
      "state": {
       "description_width": ""
      }
     }
    },
    "version_major": 2,
    "version_minor": 0
   }
  }
 },
 "nbformat": 4,
 "nbformat_minor": 4
}
