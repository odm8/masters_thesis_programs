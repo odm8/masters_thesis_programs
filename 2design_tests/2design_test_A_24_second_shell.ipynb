{
 "cells": [
  {
   "cell_type": "markdown",
   "metadata": {},
   "source": [
    "In this Jupyter notebook, we perform the **spherical 2-design test** (see Section 2.3 of the Master's thesis) for the **second shell** of a deep hole of the type mentioned in the notebook title.\n",
    "\n",
    "According to Section 4.4.2 of the Master's thesis (or the accompanying Jupyter notebook that computes the distances from the first three shells of $\\Lambda_{24}$ to the deep holes), the second shell has squared distance\n",
    "\n",
    "$$\n",
    "2 + \\frac{2}{h}\n",
    "$$\n",
    "\n",
    "to the deep hole, where $h$ is the **Coxeter number** associated with the deep hole.\n"
   ]
  },
  {
   "cell_type": "code",
   "execution_count": 1,
   "metadata": {},
   "outputs": [],
   "source": [
    "from tqdm.notebook import tqdm\n",
    "import numpy as np\n",
    "import os"
   ]
  },
  {
   "cell_type": "code",
   "execution_count": 2,
   "metadata": {},
   "outputs": [
    {
     "name": "stdout",
     "output_type": "stream",
     "text": [
      "/home/sage\n"
     ]
    }
   ],
   "source": [
    "print(os.getcwd()) "
   ]
  },
  {
   "cell_type": "code",
   "execution_count": 3,
   "metadata": {},
   "outputs": [],
   "source": [
    "folder = \"data_leech-shells-around-zero/\""
   ]
  },
  {
   "cell_type": "markdown",
   "metadata": {},
   "source": [
    "---------------------------------------"
   ]
  },
  {
   "cell_type": "markdown",
   "metadata": {},
   "source": [
    "The following functions perform the **spherical 2-design test** and display the results accordingly."
   ]
  },
  {
   "cell_type": "code",
   "execution_count": 4,
   "metadata": {},
   "outputs": [],
   "source": [
    "# P is a Matrix with the columns being the vertices of the second shell around the deep hole c\n",
    "def sph_two_design_test(P,c):\n",
    "    X = P.ncols()        #order of the shell around c\n",
    "    n = P.nrows()        #dimension of the space\n",
    "    r = (P.column(0)-c).norm()                 \n",
    "    M = P -Matrix([c]*X).transpose()  #new Matrix where the vertices are P-c   \n",
    "        \n",
    "    #Test, whether all points have the same distance to the hole c\n",
    "    for index, element in enumerate(M.columns()):\n",
    "        if element.norm() != r:\n",
    "            raise ValueError(\"Points of P do not have same distance to c \"+ \n",
    "                             f\" Element at index {index} is {element} and radius {element.norm()} but it should be {r}\")\n",
    "    \n",
    "    s_1 = sum(M.columns()) # 1-design test\n",
    "    s_2 = Matrix(M.columns()).transpose() * Matrix(M.columns()) \n",
    "    \n",
    "    # checking codition for the spherical 2-design test\n",
    "    (b_1,b_2) = (s_1 == 0, s_2 == r^2 * (X/n) * identity_matrix(n)) \n",
    "    return (b_1, b_1 & b_2, X, n, r^2, s_1, s_2, P, M, c)\n",
    "\n",
    "#Function to present the results\n",
    "def print_result(res):\n",
    "    print(f\"Is spherical 1-design: {res[0]}\")\n",
    "    print(f\"Is spherical 2-design: {res[1]}\")\n",
    "    print(\"\")\n",
    "    print(f\"Number of points of in the shell: {res[2]}\")\n",
    "    print(f\"Dimension :  {res[3]}\")\n",
    "    print(f\"Squared distance to the deep hole: {res[4]}\")\n",
    "    print(\"\")\n",
    "    print(\"The vector of the spherical 1-design test: \")\n",
    "    print(res[5])\n",
    "    print(\"\")\n",
    "    print(\"The matrix of the spherical 2-design test:\")\n",
    "    print(res[6])\n",
    "    print(\"\")\n",
    "    print(f\"The deep hole: \")\n",
    "    print(res[9])\n",
    "    return "
   ]
  },
  {
   "cell_type": "markdown",
   "metadata": {},
   "source": [
    "--------------------------------------------------------------------------------------------------"
   ]
  },
  {
   "cell_type": "markdown",
   "metadata": {},
   "source": [
    "A deep hole of type $ A_{24} $, scaled by $ \\sqrt{8}\\,s $, where $ s $ is the second entry in the tuple below:\n"
   ]
  },
  {
   "cell_type": "code",
   "execution_count": 5,
   "metadata": {},
   "outputs": [],
   "source": [
    "deep_hole = (np.array(vector([75,3,5,5, 7,1,1,3, -25,13,13,11, 9,17,15,15, 25,13,23,15, 11,17,13,15])), 25)\n",
    "h = 25"
   ]
  },
  {
   "cell_type": "markdown",
   "metadata": {},
   "source": [
    "The procedure is as follows.\n",
    "\n",
    "Since our database of $ \\Lambda_{24} $ is scaled by $ \\sqrt{8} $ so that all entries are integers, we need to scale by a factor $ s $, as our deep hole is also scaled accordingly. The squared distance from the second shell to the deep hole thus becomes the integer:\n",
    "\n",
    "$$\n",
    "(2 + \\frac{2}{h}) \\cdot 8 \\cdot s^2,\n",
    "$$\n",
    "\n",
    "where $ h $ is the associated Coxeter number.\n",
    "\n",
    "Since we are working exclusively with integers, we can safely use NumPy functions and still obtain exact results—this is the approach we take.  \n",
    "\n",
    "We search through each of the first three shells for points that lie at the appropriate distance from our deep hole and store them in the list $ P$.  \n",
    "At the end, we scale everything accordingly and perform the spherical 2-design test on the gathered point set.\n",
    "\n",
    "To save RAM, we will use the data type `np.int32`, which is perfectly valid given the size of the numbers involved.\n",
    "\n",
    "Also note that all points from the second shell of the chosen deep hole are contained in our database (see Appendix E of the Master's thesis)."
   ]
  },
  {
   "cell_type": "code",
   "execution_count": 6,
   "metadata": {},
   "outputs": [],
   "source": [
    "dist_sec_shell = (2 + 2/h)*8*(deep_hole[1]^2) #"
   ]
  },
  {
   "cell_type": "code",
   "execution_count": 7,
   "metadata": {},
   "outputs": [],
   "source": [
    "P = []"
   ]
  },
  {
   "cell_type": "markdown",
   "metadata": {},
   "source": [
    "**First Shell**"
   ]
  },
  {
   "cell_type": "code",
   "execution_count": 8,
   "metadata": {},
   "outputs": [
    {
     "name": "stdout",
     "output_type": "stream",
     "text": [
      "(196560, 24)\n"
     ]
    }
   ],
   "source": [
    "np_shell_1_around_zero = np.load(folder+'shell1_around_zero.npy')\n",
    "print(np_shell_1_around_zero.shape)"
   ]
  },
  {
   "cell_type": "code",
   "execution_count": 9,
   "metadata": {},
   "outputs": [],
   "source": [
    "differences = np_shell_1_around_zero*deep_hole[1] - deep_hole[0] \n",
    "\n",
    "squared_distances = np.sum(differences.astype(np.int32) ** 2, axis=1) \n",
    "\n",
    "coord =  np.where(squared_distances == dist_sec_shell)[0]\n",
    "\n",
    "P = P + [np_shell_1_around_zero[i, :] for i in coord]"
   ]
  },
  {
   "cell_type": "code",
   "execution_count": 10,
   "metadata": {},
   "outputs": [],
   "source": [
    "del np_shell_1_around_zero"
   ]
  },
  {
   "cell_type": "markdown",
   "metadata": {},
   "source": [
    "**Second Shell**"
   ]
  },
  {
   "cell_type": "code",
   "execution_count": 11,
   "metadata": {},
   "outputs": [
    {
     "name": "stdout",
     "output_type": "stream",
     "text": [
      "(16773120, 24)\n"
     ]
    }
   ],
   "source": [
    "np_shell_2_around_zero = np.vstack(((np.load(folder+'shell2_shape1_around_zero.npy')).reshape(-1, 24), \n",
    "                                    np.load(folder+'shell2_shape2_around_zero.npy').reshape(-1, 24), \n",
    "                                    np.load(folder+'shell2_shape3_around_zero.npy').reshape(-1, 24), \n",
    "                                    np.load(folder+'shell2_shape4_around_zero.npy').reshape(-1, 24)))\n",
    "print(np_shell_2_around_zero.shape)"
   ]
  },
  {
   "cell_type": "code",
   "execution_count": 12,
   "metadata": {},
   "outputs": [],
   "source": [
    "differences = np_shell_2_around_zero*deep_hole[1] - deep_hole[0] \n",
    "\n",
    "squared_distances = np.sum(differences.astype(np.int32) ** 2, axis=1) \n",
    "\n",
    "coord =  np.where(squared_distances == dist_sec_shell)[0]\n",
    "\n",
    "P = P + [np_shell_2_around_zero[i, :] for i in coord]"
   ]
  },
  {
   "cell_type": "code",
   "execution_count": 13,
   "metadata": {},
   "outputs": [],
   "source": [
    "del np_shell_2_around_zero"
   ]
  },
  {
   "cell_type": "markdown",
   "metadata": {},
   "source": [
    "**Third Shell**"
   ]
  },
  {
   "cell_type": "code",
   "execution_count": 14,
   "metadata": {},
   "outputs": [],
   "source": [
    "# Due to the size of the third shell, we need to use memory mapping to avoid loading the entire array into RAM\n",
    "memmap_array1 = np.load(folder+'shell3_shape1_around_zero.npy', mmap_mode='r')\n",
    "memmap_array2 = np.load(folder+'shell3_shape2_around_zero.npy', mmap_mode='r')\n",
    "memmap_array3 = np.load(folder+'shell3_shape3_around_zero.npy', mmap_mode='r')\n",
    "memmap_array4 = np.load(folder+'shell3_shape4_around_zero.npy', mmap_mode='r')\n",
    "memmap_array5 = np.load(folder+'shell3_shape5_around_zero.npy', mmap_mode='r')\n",
    "memmap_array6 = np.load(folder+'shell3_shape6_around_zero.npy', mmap_mode='r')\n",
    "memmap_array7 = np.load(folder+'shell3_shape7_around_zero.npy', mmap_mode='r')\n",
    "memmap_array8 = np.load(folder+'shell3_shape8_around_zero.npy', mmap_mode='r')"
   ]
  },
  {
   "cell_type": "code",
   "execution_count": 15,
   "metadata": {},
   "outputs": [],
   "source": [
    "shape_arrays = [memmap_array1.reshape(-1,24), memmap_array2.reshape(-1,24), memmap_array3.reshape(-1,24), \n",
    "                memmap_array4.reshape(-1,24), memmap_array5.reshape(-1,24), memmap_array6.reshape(-1,24), \n",
    "                memmap_array7.reshape(-1,24), memmap_array8.reshape(-1,24)]"
   ]
  },
  {
   "cell_type": "code",
   "execution_count": 16,
   "metadata": {},
   "outputs": [
    {
     "data": {
      "text/plain": [
       "(48, 24)"
      ]
     },
     "execution_count": 16,
     "metadata": {},
     "output_type": "execute_result"
    }
   ],
   "source": [
    "chunk_size = 1600000\n",
    "shape_arrays[7].shape"
   ]
  },
  {
   "cell_type": "code",
   "execution_count": 17,
   "metadata": {},
   "outputs": [
    {
     "data": {
      "application/vnd.jupyter.widget-view+json": {
       "model_id": "b0ad1d4823b04428bf91be242d04a9f9",
       "version_major": 2,
       "version_minor": 0
      },
      "text/plain": [
       "  0%|          | 0/8 [00:00<?, ?it/s]"
      ]
     },
     "metadata": {},
     "output_type": "display_data"
    }
   ],
   "source": [
    "for array in tqdm(shape_arrays):\n",
    "    for i in range(0,array.shape[0],chunk_size):  \n",
    "        \n",
    "        differences = array[i:i + chunk_size, :]*deep_hole[1] - deep_hole[0]         \n",
    "        \n",
    "        squared_distances = np.sum(differences.astype(np.int32) ** 2, axis=1)\n",
    "        \n",
    "        coord =  np.where(squared_distances == dist_sec_shell)[0]\n",
    "        \n",
    "        P = P + [(array[i:i + chunk_size, :])[k, :] for k in coord]"
   ]
  },
  {
   "cell_type": "code",
   "execution_count": 18,
   "metadata": {},
   "outputs": [],
   "source": [
    "del memmap_array1\n",
    "del memmap_array2\n",
    "del memmap_array3\n",
    "del memmap_array4\n",
    "del memmap_array5\n",
    "del memmap_array6\n",
    "del memmap_array7\n",
    "del memmap_array8"
   ]
  },
  {
   "cell_type": "markdown",
   "metadata": {},
   "source": [
    "We know conduct the spherical 2-design test."
   ]
  },
  {
   "cell_type": "code",
   "execution_count": 19,
   "metadata": {},
   "outputs": [],
   "source": [
    "P = (Matrix(QQ,P)/sqrt(8)).transpose()"
   ]
  },
  {
   "cell_type": "code",
   "execution_count": 20,
   "metadata": {},
   "outputs": [
    {
     "name": "stderr",
     "output_type": "stream",
     "text": [
      "/opt/sagemath-9.3/local/lib/python3.7/site-packages/sympy/external/importtools.py:158: DeprecationWarning: distutils Version classes are deprecated. Use packaging.version instead.\n",
      "  if LooseVersion(modversion) < LooseVersion(min_module_version):\n"
     ]
    },
    {
     "name": "stdout",
     "output_type": "stream",
     "text": [
      "Is spherical 1-design: False\n",
      "Is spherical 2-design: False\n",
      "\n",
      "Number of points of in the shell: 5\n",
      "Dimension :  24\n",
      "Squared distance to the deep hole: 52/25\n",
      "\n",
      "The vector of the spherical 1-design test: \n",
      "(1/4*sqrt(2), -3/20*sqrt(2), 1/4*sqrt(2), -1/4*sqrt(2), 3/20*sqrt(2), -1/20*sqrt(2), -1/20*sqrt(2), -3/20*sqrt(2), 1/4*sqrt(2), -3/20*sqrt(2), -3/20*sqrt(2), -1/20*sqrt(2), 1/20*sqrt(2), -7/20*sqrt(2), 1/4*sqrt(2), -1/4*sqrt(2), -1/4*sqrt(2), -3/20*sqrt(2), -3/20*sqrt(2), 1/4*sqrt(2), -1/20*sqrt(2), -7/20*sqrt(2), -3/20*sqrt(2), 1/4*sqrt(2))\n",
      "\n",
      "The matrix of the spherical 2-design test:\n",
      "[      1/8    -3/200     -1/40     -1/40    -7/200    -1/200    -1/200    -3/200       1/8   -13/200   -13/200   -11/200    -9/200   -17/200     -3/40     -3/40      -1/8   -13/200    77/200     -3/40   -11/200   -17/200   -13/200     -3/40]\n",
      "[   -3/200  509/1000   -53/200     3/200 -259/1000    3/1000    3/1000    9/1000    -3/200 -241/1000 -241/1000  253/1000  247/1000 -229/1000    -3/200   -47/200     3/200  259/1000  509/1000    -3/200 -247/1000 -229/1000  259/1000    -3/200]\n",
      "[    -1/40   -53/200     17/40    -11/40   -17/200    49/200   -51/200    47/200     -1/40   -23/200    77/200   -21/200   -19/200    73/200      3/40       3/8      1/40   -23/200   -93/200      3/40   -21/200   -27/200   -23/200      3/40]\n",
      "[    -1/40     3/200    -11/40     21/40    47/200   -99/200   101/200   -97/200     -1/40    53/200   -47/200   -49/200    49/200   -43/200     -1/40     -9/40      1/40   -47/200     3/200     -1/40    51/200    57/200    53/200     -1/40]\n",
      "[   -7/200 -259/1000   -17/200    47/200  409/1000 -253/1000  247/1000 -259/1000    -7/200  391/1000 -109/1000 -103/1000  -97/1000 -121/1000    13/200   -23/200     7/200 -109/1000 -459/1000    13/200  397/1000  379/1000 -109/1000    13/200]\n",
      "[   -1/200    3/1000    49/200   -99/200 -253/1000  501/1000 -499/1000  503/1000    -1/200 -247/1000  253/1000  251/1000 -251/1000  257/1000    -1/200    51/200     1/200  253/1000    3/1000    -1/200 -249/1000 -243/1000 -247/1000    -1/200]\n",
      "[   -1/200    3/1000   -51/200   101/200  247/1000 -499/1000  501/1000 -497/1000    -1/200  253/1000 -247/1000 -249/1000  249/1000 -243/1000    -1/200   -49/200     1/200 -247/1000    3/1000    -1/200  251/1000  257/1000  253/1000    -1/200]\n",
      "[   -3/200    9/1000    47/200   -97/200 -259/1000  503/1000 -497/1000  509/1000    -3/200 -241/1000  259/1000  253/1000 -253/1000  271/1000    -3/200    53/200     3/200  259/1000    9/1000    -3/200 -247/1000 -229/1000 -241/1000    -3/200]\n",
      "[      1/8    -3/200     -1/40     -1/40    -7/200    -1/200    -1/200    -3/200       1/8   -13/200   -13/200   -11/200    -9/200   -17/200     -3/40     -3/40      -1/8   -13/200    77/200     -3/40   -11/200   -17/200   -13/200     -3/40]\n",
      "[  -13/200 -241/1000   -23/200    53/200  391/1000 -247/1000  253/1000 -241/1000   -13/200  409/1000  -91/1000  -97/1000 -103/1000  -79/1000     7/200   -17/200    13/200  -91/1000 -441/1000     7/200  403/1000  421/1000  -91/1000     7/200]\n",
      "[  -13/200 -241/1000    77/200   -47/200 -109/1000  253/1000 -247/1000  259/1000   -13/200  -91/1000  409/1000  -97/1000 -103/1000  421/1000     7/200    83/200    13/200  -91/1000 -441/1000     7/200  -97/1000  -79/1000  -91/1000     7/200]\n",
      "[  -11/200  253/1000   -21/200   -49/200 -103/1000  251/1000 -249/1000  253/1000   -11/200  -97/1000  -97/1000  401/1000 -101/1000  -93/1000     9/200   -19/200    11/200  403/1000   53/1000     9/200  -99/1000  -93/1000  -97/1000     9/200]\n",
      "[   -9/200  247/1000   -19/200    49/200  -97/1000 -251/1000  249/1000 -253/1000    -9/200 -103/1000 -103/1000 -101/1000  401/1000 -107/1000    11/200   -21/200     9/200 -103/1000   47/1000    11/200 -101/1000 -107/1000  397/1000    11/200]\n",
      "[  -17/200 -229/1000    73/200   -43/200 -121/1000  257/1000 -243/1000  271/1000   -17/200  -79/1000  421/1000  -93/1000 -107/1000  449/1000     3/200    87/200    17/200  -79/1000 -429/1000     3/200  -93/1000  -51/1000  -79/1000     3/200]\n",
      "[    -3/40    -3/200      3/40     -1/40    13/200    -1/200    -1/200    -3/200     -3/40     7/200     7/200     9/200    11/200     3/200       1/8      1/40      3/40     7/200   -83/200       1/8     9/200     3/200     7/200       1/8]\n",
      "[    -3/40   -47/200       3/8     -9/40   -23/200    51/200   -49/200    53/200     -3/40   -17/200    83/200   -19/200   -21/200    87/200      1/40     17/40      3/40   -17/200   -87/200      1/40   -19/200   -13/200   -17/200      1/40]\n",
      "[     -1/8     3/200      1/40      1/40     7/200     1/200     1/200     3/200      -1/8    13/200    13/200    11/200     9/200    17/200      3/40      3/40       1/8    13/200   -77/200      3/40    11/200    17/200    13/200      3/40]\n",
      "[  -13/200  259/1000   -23/200   -47/200 -109/1000  253/1000 -247/1000  259/1000   -13/200  -91/1000  -91/1000  403/1000 -103/1000  -79/1000     7/200   -17/200    13/200  409/1000   59/1000     7/200  -97/1000  -79/1000  -91/1000     7/200]\n",
      "[   77/200  509/1000   -93/200     3/200 -459/1000    3/1000    3/1000    9/1000    77/200 -441/1000 -441/1000   53/1000   47/1000 -429/1000   -83/200   -87/200   -77/200   59/1000 2109/1000   -83/200 -447/1000 -429/1000   59/1000   -83/200]\n",
      "[    -3/40    -3/200      3/40     -1/40    13/200    -1/200    -1/200    -3/200     -3/40     7/200     7/200     9/200    11/200     3/200       1/8      1/40      3/40     7/200   -83/200       1/8     9/200     3/200     7/200       1/8]\n",
      "[  -11/200 -247/1000   -21/200    51/200  397/1000 -249/1000  251/1000 -247/1000   -11/200  403/1000  -97/1000  -99/1000 -101/1000  -93/1000     9/200   -19/200    11/200  -97/1000 -447/1000     9/200  401/1000  407/1000  -97/1000     9/200]\n",
      "[  -17/200 -229/1000   -27/200    57/200  379/1000 -243/1000  257/1000 -229/1000   -17/200  421/1000  -79/1000  -93/1000 -107/1000  -51/1000     3/200   -13/200    17/200  -79/1000 -429/1000     3/200  407/1000  449/1000  -79/1000     3/200]\n",
      "[  -13/200  259/1000   -23/200    53/200 -109/1000 -247/1000  253/1000 -241/1000   -13/200  -91/1000  -91/1000  -97/1000  397/1000  -79/1000     7/200   -17/200    13/200  -91/1000   59/1000     7/200  -97/1000  -79/1000  409/1000     7/200]\n",
      "[    -3/40    -3/200      3/40     -1/40    13/200    -1/200    -1/200    -3/200     -3/40     7/200     7/200     9/200    11/200     3/200       1/8      1/40      3/40     7/200   -83/200       1/8     9/200     3/200     7/200       1/8]\n",
      "\n",
      "The deep hole: \n",
      "(3/4*sqrt(2), 3/100*sqrt(2), 1/20*sqrt(2), 1/20*sqrt(2), 7/100*sqrt(2), 1/100*sqrt(2), 1/100*sqrt(2), 3/100*sqrt(2), -1/4*sqrt(2), 13/100*sqrt(2), 13/100*sqrt(2), 11/100*sqrt(2), 9/100*sqrt(2), 17/100*sqrt(2), 3/20*sqrt(2), 3/20*sqrt(2), 1/4*sqrt(2), 13/100*sqrt(2), 23/100*sqrt(2), 3/20*sqrt(2), 11/100*sqrt(2), 17/100*sqrt(2), 13/100*sqrt(2), 3/20*sqrt(2))\n"
     ]
    }
   ],
   "source": [
    "result = sph_two_design_test(P, vector(deep_hole[0].tolist()) /(sqrt(8)*deep_hole[1]))\n",
    "print_result(result)"
   ]
  },
  {
   "cell_type": "markdown",
   "metadata": {},
   "source": [
    "--------------------------------------------------------------"
   ]
  },
  {
   "cell_type": "markdown",
   "metadata": {},
   "source": [
    "---------------------------------------------------------------------------------------------"
   ]
  }
 ],
 "metadata": {
  "kernelspec": {
   "display_name": "SageMath 9.3",
   "language": "sage",
   "name": "sagemath"
  },
  "language_info": {
   "codemirror_mode": {
    "name": "ipython",
    "version": 3
   },
   "file_extension": ".py",
   "mimetype": "text/x-python",
   "name": "python",
   "nbconvert_exporter": "python",
   "pygments_lexer": "ipython3",
   "version": "3.7.10"
  },
  "widgets": {
   "application/vnd.jupyter.widget-state+json": {
    "state": {
     "088cec8a9dd14e8cb501cb96f12f52d5": {
      "model_module": "@jupyter-widgets/base",
      "model_module_version": "1.2.0",
      "model_name": "LayoutModel",
      "state": {}
     },
     "21b0ded631514f64838e38e581524910": {
      "model_module": "@jupyter-widgets/controls",
      "model_module_version": "1.5.0",
      "model_name": "ProgressStyleModel",
      "state": {
       "description_width": ""
      }
     },
     "22d6adc174eb40f6ac18241c9f08dde5": {
      "model_module": "@jupyter-widgets/base",
      "model_module_version": "1.2.0",
      "model_name": "LayoutModel",
      "state": {}
     },
     "4c20048597594cf78d346a8cd84e2dfd": {
      "model_module": "@jupyter-widgets/controls",
      "model_module_version": "1.5.0",
      "model_name": "DescriptionStyleModel",
      "state": {
       "description_width": ""
      }
     },
     "61be8fb5896f40069bf28cad172edf89": {
      "model_module": "@jupyter-widgets/controls",
      "model_module_version": "1.5.0",
      "model_name": "DescriptionStyleModel",
      "state": {
       "description_width": ""
      }
     },
     "83f622bb238b477087ba62e7a71b5881": {
      "model_module": "@jupyter-widgets/controls",
      "model_module_version": "1.5.0",
      "model_name": "FloatProgressModel",
      "state": {
       "bar_style": "success",
       "layout": "IPY_MODEL_951314c0048e4d9cb9f46d250f25c3e2",
       "max": 8,
       "style": "IPY_MODEL_21b0ded631514f64838e38e581524910",
       "value": 8
      }
     },
     "93451df5d53f4b4989f9a0d8ed7dea22": {
      "model_module": "@jupyter-widgets/controls",
      "model_module_version": "1.5.0",
      "model_name": "HTMLModel",
      "state": {
       "layout": "IPY_MODEL_22d6adc174eb40f6ac18241c9f08dde5",
       "style": "IPY_MODEL_4c20048597594cf78d346a8cd84e2dfd",
       "value": "100%"
      }
     },
     "951314c0048e4d9cb9f46d250f25c3e2": {
      "model_module": "@jupyter-widgets/base",
      "model_module_version": "1.2.0",
      "model_name": "LayoutModel",
      "state": {}
     },
     "a2c1b1e08ba24766a54ea7e046d02e43": {
      "model_module": "@jupyter-widgets/base",
      "model_module_version": "1.2.0",
      "model_name": "LayoutModel",
      "state": {}
     },
     "b0ad1d4823b04428bf91be242d04a9f9": {
      "model_module": "@jupyter-widgets/controls",
      "model_module_version": "1.5.0",
      "model_name": "HBoxModel",
      "state": {
       "children": [
        "IPY_MODEL_93451df5d53f4b4989f9a0d8ed7dea22",
        "IPY_MODEL_83f622bb238b477087ba62e7a71b5881",
        "IPY_MODEL_f50c8252479946b383ea7408ee6ffb69"
       ],
       "layout": "IPY_MODEL_a2c1b1e08ba24766a54ea7e046d02e43"
      }
     },
     "f50c8252479946b383ea7408ee6ffb69": {
      "model_module": "@jupyter-widgets/controls",
      "model_module_version": "1.5.0",
      "model_name": "HTMLModel",
      "state": {
       "layout": "IPY_MODEL_088cec8a9dd14e8cb501cb96f12f52d5",
       "style": "IPY_MODEL_61be8fb5896f40069bf28cad172edf89",
       "value": " 8/8 [07:37&lt;00:00, 48.50s/it]"
      }
     }
    },
    "version_major": 2,
    "version_minor": 0
   }
  }
 },
 "nbformat": 4,
 "nbformat_minor": 4
}
