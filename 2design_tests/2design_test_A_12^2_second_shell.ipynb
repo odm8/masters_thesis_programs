{
 "cells": [
  {
   "cell_type": "markdown",
   "metadata": {},
   "source": [
    "In this Jupyter notebook, we perform the **spherical 2-design test** (see Section 2.3 of the Master's thesis) for the **second shell** of a deep hole of the type mentioned in the notebook title.\n",
    "\n",
    "According to Section 4.4.2 of the Master's thesis (or the accompanying Jupyter notebook that computes the distances from the first three shells of $\\Lambda_{24}$ to the deep holes), the second shell has squared distance\n",
    "\n",
    "$$\n",
    "2 + \\frac{2}{h}\n",
    "$$\n",
    "\n",
    "to the deep hole, where $h$ is the **Coxeter number** associated with the deep hole.\n"
   ]
  },
  {
   "cell_type": "code",
   "execution_count": 1,
   "metadata": {},
   "outputs": [],
   "source": [
    "from tqdm.notebook import tqdm\n",
    "import numpy as np\n",
    "import os"
   ]
  },
  {
   "cell_type": "code",
   "execution_count": 2,
   "metadata": {},
   "outputs": [
    {
     "name": "stdout",
     "output_type": "stream",
     "text": [
      "/home/sage\n"
     ]
    }
   ],
   "source": [
    "print(os.getcwd()) "
   ]
  },
  {
   "cell_type": "code",
   "execution_count": 3,
   "metadata": {},
   "outputs": [],
   "source": [
    "folder = \"data_leech-shells-around-zero/\""
   ]
  },
  {
   "cell_type": "markdown",
   "metadata": {},
   "source": [
    "---------------------------------------"
   ]
  },
  {
   "cell_type": "markdown",
   "metadata": {},
   "source": [
    "The following functions perform the **spherical 2-design test** and display the results accordingly."
   ]
  },
  {
   "cell_type": "code",
   "execution_count": 4,
   "metadata": {},
   "outputs": [],
   "source": [
    "# P is a Matrix with the columns being the vertices of the second shell around the deep hole c\n",
    "def sph_two_design_test(P,c):\n",
    "    X = P.ncols()        #order of the shell around c\n",
    "    n = P.nrows()        #dimension of the space\n",
    "    r = (P.column(0)-c).norm()                 \n",
    "    M = P -Matrix([c]*X).transpose()  #new Matrix where the vertices are P-c   \n",
    "        \n",
    "    #Test, whether all points have the same distance to the hole c\n",
    "    for index, element in enumerate(M.columns()):\n",
    "        if element.norm() != r:\n",
    "            raise ValueError(\"Points of P do not have same distance to c \"+ \n",
    "                             f\" Element at index {index} is {element} and radius {element.norm()} but it should be {r}\")\n",
    "    \n",
    "    s_1 = sum(M.columns()) # 1-design test\n",
    "    s_2 = Matrix(M.columns()).transpose() * Matrix(M.columns()) \n",
    "    \n",
    "    # checking codition for the spherical 2-design test\n",
    "    (b_1,b_2) = (s_1 == 0, s_2 == r^2 * (X/n) * identity_matrix(n)) \n",
    "    return (b_1, b_1 & b_2, X, n, r^2, s_1, s_2, P, M, c)\n",
    "\n",
    "#Function to present the results\n",
    "def print_result(res):\n",
    "    print(f\"Is spherical 1-design: {res[0]}\")\n",
    "    print(f\"Is spherical 2-design: {res[1]}\")\n",
    "    print(\"\")\n",
    "    print(f\"Number of points of in the shell: {res[2]}\")\n",
    "    print(f\"Dimension :  {res[3]}\")\n",
    "    print(f\"Squared distance to the deep hole: {res[4]}\")\n",
    "    print(\"\")\n",
    "    print(\"The vector of the spherical 1-design test: \")\n",
    "    print(res[5])\n",
    "    print(\"\")\n",
    "    print(\"The matrix of the spherical 2-design test:\")\n",
    "    print(res[6])\n",
    "    print(\"\")\n",
    "    print(f\"The deep hole: \")\n",
    "    print(res[9])\n",
    "    return "
   ]
  },
  {
   "cell_type": "markdown",
   "metadata": {},
   "source": [
    "--------------------------------------------------------------------------------------------------"
   ]
  },
  {
   "cell_type": "markdown",
   "metadata": {},
   "source": [
    "A deep hole of type $ A_{12}^2 $, scaled by $ \\sqrt{8}\\,s $, where $ s $ is the second entry in the tuple below:\n"
   ]
  },
  {
   "cell_type": "code",
   "execution_count": 5,
   "metadata": {},
   "outputs": [],
   "source": [
    "deep_hole = (np.array(vector([39,3,1,3, 3,1,1,1, -13,5,7,7, 5,9,9,7, 13,7,11,7, 5,9,7,9])), 13)\n",
    "h = 13"
   ]
  },
  {
   "cell_type": "markdown",
   "metadata": {},
   "source": [
    "The procedure is as follows.\n",
    "\n",
    "Since our database of $ \\Lambda_{24} $ is scaled by $ \\sqrt{8} $ so that all entries are integers, we need to scale by a factor $ s $, as our deep hole is also scaled accordingly. The squared distance from the second shell to the deep hole thus becomes the integer:\n",
    "\n",
    "$$\n",
    "(2 + \\frac{2}{h}) \\cdot 8 \\cdot s^2,\n",
    "$$\n",
    "\n",
    "where $ h $ is the associated Coxeter number.\n",
    "\n",
    "Since we are working exclusively with integers, we can safely use NumPy functions and still obtain exact results—this is the approach we take.  \n",
    "\n",
    "We search through each of the first three shells for points that lie at the appropriate distance from our deep hole and store them in the list $ P$.  \n",
    "At the end, we scale everything accordingly and perform the spherical 2-design test on the gathered point set.\n",
    "\n",
    "To save RAM, we will use the data type `np.int32`, which is perfectly valid given the size of the numbers involved.\n",
    "\n",
    "Also note that all points from the second shell of the chosen deep hole are contained in our database (see Appendix E of the Master's thesis)."
   ]
  },
  {
   "cell_type": "code",
   "execution_count": 6,
   "metadata": {},
   "outputs": [],
   "source": [
    "dist_sec_shell = (2 + 2/h)*8*(deep_hole[1]^2) #"
   ]
  },
  {
   "cell_type": "code",
   "execution_count": 7,
   "metadata": {},
   "outputs": [],
   "source": [
    "P = []"
   ]
  },
  {
   "cell_type": "markdown",
   "metadata": {},
   "source": [
    "**First Shell**"
   ]
  },
  {
   "cell_type": "code",
   "execution_count": 8,
   "metadata": {},
   "outputs": [
    {
     "name": "stdout",
     "output_type": "stream",
     "text": [
      "(196560, 24)\n"
     ]
    }
   ],
   "source": [
    "np_shell_1_around_zero = np.load(folder+'shell1_around_zero.npy')\n",
    "print(np_shell_1_around_zero.shape)"
   ]
  },
  {
   "cell_type": "code",
   "execution_count": 9,
   "metadata": {},
   "outputs": [],
   "source": [
    "differences = np_shell_1_around_zero*deep_hole[1] - deep_hole[0] \n",
    "\n",
    "squared_distances = np.sum(differences.astype(np.int32) ** 2, axis=1) \n",
    "\n",
    "coord =  np.where(squared_distances == dist_sec_shell)[0]\n",
    "\n",
    "P = P + [np_shell_1_around_zero[i, :] for i in coord]"
   ]
  },
  {
   "cell_type": "code",
   "execution_count": 10,
   "metadata": {},
   "outputs": [],
   "source": [
    "del np_shell_1_around_zero"
   ]
  },
  {
   "cell_type": "markdown",
   "metadata": {},
   "source": [
    "**Second Shell**"
   ]
  },
  {
   "cell_type": "code",
   "execution_count": 11,
   "metadata": {},
   "outputs": [
    {
     "name": "stdout",
     "output_type": "stream",
     "text": [
      "(16773120, 24)\n"
     ]
    }
   ],
   "source": [
    "np_shell_2_around_zero = np.vstack(((np.load(folder+'shell2_shape1_around_zero.npy')).reshape(-1, 24), \n",
    "                                    np.load(folder+'shell2_shape2_around_zero.npy').reshape(-1, 24), \n",
    "                                    np.load(folder+'shell2_shape3_around_zero.npy').reshape(-1, 24), \n",
    "                                    np.load(folder+'shell2_shape4_around_zero.npy').reshape(-1, 24)))\n",
    "print(np_shell_2_around_zero.shape)"
   ]
  },
  {
   "cell_type": "code",
   "execution_count": 12,
   "metadata": {},
   "outputs": [],
   "source": [
    "differences = np_shell_2_around_zero*deep_hole[1] - deep_hole[0] \n",
    "\n",
    "squared_distances = np.sum(differences.astype(np.int32) ** 2, axis=1) \n",
    "\n",
    "coord =  np.where(squared_distances == dist_sec_shell)[0]\n",
    "\n",
    "P = P + [np_shell_2_around_zero[i, :] for i in coord]"
   ]
  },
  {
   "cell_type": "code",
   "execution_count": 13,
   "metadata": {},
   "outputs": [],
   "source": [
    "del np_shell_2_around_zero"
   ]
  },
  {
   "cell_type": "markdown",
   "metadata": {},
   "source": [
    "**Third Shell**"
   ]
  },
  {
   "cell_type": "code",
   "execution_count": 14,
   "metadata": {},
   "outputs": [],
   "source": [
    "# Due to the size of the third shell, we need to use memory mapping to avoid loading the entire array into RAM\n",
    "memmap_array1 = np.load(folder+'shell3_shape1_around_zero.npy', mmap_mode='r')\n",
    "memmap_array2 = np.load(folder+'shell3_shape2_around_zero.npy', mmap_mode='r')\n",
    "memmap_array3 = np.load(folder+'shell3_shape3_around_zero.npy', mmap_mode='r')\n",
    "memmap_array4 = np.load(folder+'shell3_shape4_around_zero.npy', mmap_mode='r')\n",
    "memmap_array5 = np.load(folder+'shell3_shape5_around_zero.npy', mmap_mode='r')\n",
    "memmap_array6 = np.load(folder+'shell3_shape6_around_zero.npy', mmap_mode='r')\n",
    "memmap_array7 = np.load(folder+'shell3_shape7_around_zero.npy', mmap_mode='r')\n",
    "memmap_array8 = np.load(folder+'shell3_shape8_around_zero.npy', mmap_mode='r')"
   ]
  },
  {
   "cell_type": "code",
   "execution_count": 15,
   "metadata": {},
   "outputs": [],
   "source": [
    "shape_arrays = [memmap_array1.reshape(-1,24), memmap_array2.reshape(-1,24), memmap_array3.reshape(-1,24), \n",
    "                memmap_array4.reshape(-1,24), memmap_array5.reshape(-1,24), memmap_array6.reshape(-1,24), \n",
    "                memmap_array7.reshape(-1,24), memmap_array8.reshape(-1,24)]"
   ]
  },
  {
   "cell_type": "code",
   "execution_count": 16,
   "metadata": {},
   "outputs": [
    {
     "data": {
      "text/plain": [
       "(48, 24)"
      ]
     },
     "execution_count": 16,
     "metadata": {},
     "output_type": "execute_result"
    }
   ],
   "source": [
    "chunk_size = 1600000\n",
    "shape_arrays[7].shape"
   ]
  },
  {
   "cell_type": "code",
   "execution_count": 17,
   "metadata": {},
   "outputs": [
    {
     "data": {
      "application/vnd.jupyter.widget-view+json": {
       "model_id": "4764dc5a123546609cf1fa066aa5c2b1",
       "version_major": 2,
       "version_minor": 0
      },
      "text/plain": [
       "  0%|          | 0/8 [00:00<?, ?it/s]"
      ]
     },
     "metadata": {},
     "output_type": "display_data"
    }
   ],
   "source": [
    "for array in tqdm(shape_arrays):\n",
    "    for i in range(0,array.shape[0],chunk_size):  \n",
    "        \n",
    "        differences = array[i:i + chunk_size, :]*deep_hole[1] - deep_hole[0]         \n",
    "        \n",
    "        squared_distances = np.sum(differences.astype(np.int32) ** 2, axis=1)\n",
    "        \n",
    "        coord =  np.where(squared_distances == dist_sec_shell)[0]\n",
    "        \n",
    "        P = P + [(array[i:i + chunk_size, :])[k, :] for k in coord]"
   ]
  },
  {
   "cell_type": "code",
   "execution_count": 18,
   "metadata": {},
   "outputs": [],
   "source": [
    "del memmap_array1\n",
    "del memmap_array2\n",
    "del memmap_array3\n",
    "del memmap_array4\n",
    "del memmap_array5\n",
    "del memmap_array6\n",
    "del memmap_array7\n",
    "del memmap_array8"
   ]
  },
  {
   "cell_type": "markdown",
   "metadata": {},
   "source": [
    "We know conduct the spherical 2-design test."
   ]
  },
  {
   "cell_type": "code",
   "execution_count": 19,
   "metadata": {},
   "outputs": [],
   "source": [
    "P = (Matrix(QQ,P)/sqrt(8)).transpose()"
   ]
  },
  {
   "cell_type": "code",
   "execution_count": 20,
   "metadata": {},
   "outputs": [
    {
     "name": "stderr",
     "output_type": "stream",
     "text": [
      "/opt/sagemath-9.3/local/lib/python3.7/site-packages/sympy/external/importtools.py:158: DeprecationWarning: distutils Version classes are deprecated. Use packaging.version instead.\n",
      "  if LooseVersion(modversion) < LooseVersion(min_module_version):\n"
     ]
    },
    {
     "name": "stdout",
     "output_type": "stream",
     "text": [
      "Is spherical 1-design: True\n",
      "Is spherical 2-design: False\n",
      "\n",
      "Number of points of in the shell: 13\n",
      "Dimension :  24\n",
      "Squared distance to the deep hole: 28/13\n",
      "\n",
      "The vector of the spherical 1-design test: \n",
      "(0, 0, 0, 0, 0, 0, 0, 0, 0, 0, 0, 0, 0, 0, 0, 0, 0, 0, 0, 0, 0, 0, 0, 0)\n",
      "\n",
      "The matrix of the spherical 2-design test:\n",
      "[   1/2      0      0   -1/4      0      0    1/4      0      0      0      0    1/4      0      0   -1/4      0   -1/4   -1/4      0    1/4      0      0      0   -1/4]\n",
      "[     0  27/26 -17/26 -11/52  -6/13   9/26  31/52  -2/13      0  -7/26  11/26   9/52   3/13  -5/13 -33/52  -1/13   -1/4   9/52   4/13 -17/52  -7/26   3/26  -1/13  19/52]\n",
      "[     0 -17/26  29/26   5/52   9/26 -23/26 -33/52   3/26      0  15/26  -5/26 -23/52   1/13   1/26 -11/52   4/13    1/4   3/52  -3/13   3/52  15/26  -6/13   4/13 -11/52]\n",
      "[  -1/4 -11/52   5/52  20/13 -11/52 -21/52   9/26 -21/52    1/4 -27/52 -17/52  -1/13  -1/52  45/52   8/13 -17/52      0 -15/26  29/52  -1/13  -1/52 -33/52  35/52   3/26]\n",
      "[     0  -6/13   9/26 -11/52  27/26  -2/13 -21/52   9/26      0   3/13  -1/13 -17/52  -7/26   3/26  -7/52  -1/13    1/4   9/52  -9/13  35/52  -7/26   3/26  -1/13  -7/52]\n",
      "[     0   9/26 -23/26 -21/52  -2/13  29/26  19/52   3/26      0 -11/26   4/13  29/52 -11/26   1/26  15/52  -5/26   -1/4   3/52  -3/13   3/52 -11/26   7/13  -9/13  15/52]\n",
      "[   1/4  31/52 -33/52   9/26 -21/52  19/52  21/13 -33/52    1/4  -9/52  29/52   4/13  17/52  15/52  -6/13   3/52   -1/2  -9/13 -25/52  -5/26  -9/52 -11/52   3/52   7/13]\n",
      "[     0  -2/13   3/26 -21/52   9/26   3/26 -33/52  29/26      0   1/13  -5/26   3/52 -11/26  -6/13  15/52  -5/26    1/4  29/52   7/26   3/52   1/13   1/26  -9/13 -11/52]\n",
      "[     0      0      0    1/4      0      0    1/4      0    1/2      0      0   -1/4      0      0   -1/4      0   -1/4   -1/4    1/2   -1/4      0   -1/2      0    1/4]\n",
      "[     0  -7/26  15/26 -27/52   3/13 -11/26  -9/52   1/13      0  23/26   1/26 -11/52   5/13  -4/13 -29/52   7/13    1/4  15/52 -17/26 -11/52   5/13  -4/13   1/26  -3/52]\n",
      "[     0  11/26  -5/26 -17/52  -1/13   4/13  29/52  -5/26      0   1/26  17/26  -5/52   1/26  -3/13 -25/52   2/13   -1/4  -5/52  -8/13  -5/52   1/26   7/26  -9/26  27/52]\n",
      "[   1/4   9/52 -23/52  -1/13 -17/52  29/52   4/13   3/52   -1/4 -11/52  -5/52  15/13 -11/52  27/52   7/26  -5/52      0   2/13 -19/52   2/13 -11/52   1/52  -5/52  -3/13]\n",
      "[     0   3/13   1/13  -1/52  -7/26 -11/26  17/52 -11/26      0   5/13   1/26 -11/52  23/26  -4/13 -29/52   7/13   -1/4 -11/52  -2/13 -11/52   5/13  -4/13   7/13  -3/52]\n",
      "[     0  -5/13   1/26  45/52   3/26   1/26  15/52  -6/13      0  -4/13  -3/13  27/52  -4/13  35/26  31/52  -3/13    1/4 -25/52 -15/26  27/52  -4/13  -2/13  10/13   5/52]\n",
      "[  -1/4 -33/52 -11/52   8/13  -7/52  15/52  -6/13  15/52   -1/4 -29/52 -25/52   7/26 -29/52  31/52  24/13 -25/52    1/2  -3/13   9/52   7/26  -3/52  31/52   1/52  -2/13]\n",
      "[     0  -1/13   4/13 -17/52  -1/13  -5/26   3/52  -5/26      0   7/13   2/13  -5/52   7/13  -3/13 -25/52  17/26   -1/4  -5/52  -8/13  -5/52   7/13  -3/13   2/13   1/52]\n",
      "[  -1/4   -1/4    1/4      0    1/4   -1/4   -1/2    1/4   -1/4    1/4   -1/4      0   -1/4    1/4    1/2   -1/4      1    1/2   -1/4      0   -1/4    1/4    1/4      0]\n",
      "[  -1/4   9/52   3/52 -15/26   9/52   3/52  -9/13  29/52   -1/4  15/52  -5/52   2/13 -11/52 -25/52  -3/13  -5/52    1/2  15/13   7/52  -9/26 -11/52   1/52 -31/52  -3/13]\n",
      "[     0   4/13  -3/13  29/52  -9/13  -3/13 -25/52   7/26    1/2 -17/26  -8/13 -19/52  -2/13 -15/26   9/52  -8/13   -1/4   7/52  77/26 -45/52  -2/13 -15/26  -3/26 -17/52]\n",
      "[   1/4 -17/52   3/52  -1/13  35/52   3/52  -5/26   3/52   -1/4 -11/52  -5/52   2/13 -11/52  27/52   7/26  -5/52      0  -9/26 -45/52  15/13 -11/52  27/52  21/52  -3/13]\n",
      "[     0  -7/26  15/26  -1/52  -7/26 -11/26  -9/52   1/13      0   5/13   1/26 -11/52   5/13  -4/13  -3/52   7/13   -1/4 -11/52  -2/13 -11/52  23/26  -4/13   1/26  -3/52]\n",
      "[     0   3/26  -6/13 -33/52   3/26   7/13 -11/52   1/26   -1/2  -4/13   7/26   1/52  -4/13  -2/13  31/52  -3/13    1/4   1/52 -15/26  27/52  -4/13  35/26  -3/13   5/52]\n",
      "[     0  -1/13   4/13  35/52  -1/13  -9/13   3/52  -9/13      0   1/26  -9/26  -5/52   7/13  10/13   1/52   2/13    1/4 -31/52  -3/26  21/52   1/26  -3/13  43/26   1/52]\n",
      "[  -1/4  19/52 -11/52   3/26  -7/52  15/52   7/13 -11/52    1/4  -3/52  27/52  -3/13  -3/52   5/52  -2/13   1/52      0  -3/13 -17/52  -3/13  -3/52   5/52   1/52  11/13]\n",
      "\n",
      "The deep hole: \n",
      "(3/4*sqrt(2), 3/52*sqrt(2), 1/52*sqrt(2), 3/52*sqrt(2), 3/52*sqrt(2), 1/52*sqrt(2), 1/52*sqrt(2), 1/52*sqrt(2), -1/4*sqrt(2), 5/52*sqrt(2), 7/52*sqrt(2), 7/52*sqrt(2), 5/52*sqrt(2), 9/52*sqrt(2), 9/52*sqrt(2), 7/52*sqrt(2), 1/4*sqrt(2), 7/52*sqrt(2), 11/52*sqrt(2), 7/52*sqrt(2), 5/52*sqrt(2), 9/52*sqrt(2), 7/52*sqrt(2), 9/52*sqrt(2))\n"
     ]
    }
   ],
   "source": [
    "result = sph_two_design_test(P, vector(deep_hole[0].tolist()) /(sqrt(8)*deep_hole[1]))\n",
    "print_result(result)"
   ]
  },
  {
   "cell_type": "markdown",
   "metadata": {},
   "source": [
    "--------------------------------------------------------------"
   ]
  },
  {
   "cell_type": "markdown",
   "metadata": {},
   "source": [
    "---------------------------------------------------------------------------------------------"
   ]
  }
 ],
 "metadata": {
  "kernelspec": {
   "display_name": "SageMath 9.3",
   "language": "sage",
   "name": "sagemath"
  },
  "language_info": {
   "codemirror_mode": {
    "name": "ipython",
    "version": 3
   },
   "file_extension": ".py",
   "mimetype": "text/x-python",
   "name": "python",
   "nbconvert_exporter": "python",
   "pygments_lexer": "ipython3",
   "version": "3.7.10"
  },
  "widgets": {
   "application/vnd.jupyter.widget-state+json": {
    "state": {
     "35e2634e2d6d4e469785c9284e41a47c": {
      "model_module": "@jupyter-widgets/controls",
      "model_module_version": "1.5.0",
      "model_name": "ProgressStyleModel",
      "state": {
       "description_width": ""
      }
     },
     "3ea0efddcb8f435ca9677ca91bc7f0a1": {
      "model_module": "@jupyter-widgets/controls",
      "model_module_version": "1.5.0",
      "model_name": "DescriptionStyleModel",
      "state": {
       "description_width": ""
      }
     },
     "4212f6647cb0451caa2d4885a177ba00": {
      "model_module": "@jupyter-widgets/controls",
      "model_module_version": "1.5.0",
      "model_name": "DescriptionStyleModel",
      "state": {
       "description_width": ""
      }
     },
     "4764dc5a123546609cf1fa066aa5c2b1": {
      "model_module": "@jupyter-widgets/controls",
      "model_module_version": "1.5.0",
      "model_name": "HBoxModel",
      "state": {
       "children": [
        "IPY_MODEL_aa8199e178d64b6988384b1cae1b7f6d",
        "IPY_MODEL_b7c963c4e5744b1ba7a246e06b7914d5",
        "IPY_MODEL_807464f089b84185a1c8306326327810"
       ],
       "layout": "IPY_MODEL_65d16f760b734f6ea9170477e64e9aae"
      }
     },
     "56d57c77e0964dd4a7819b19bbc82538": {
      "model_module": "@jupyter-widgets/base",
      "model_module_version": "1.2.0",
      "model_name": "LayoutModel",
      "state": {}
     },
     "65d16f760b734f6ea9170477e64e9aae": {
      "model_module": "@jupyter-widgets/base",
      "model_module_version": "1.2.0",
      "model_name": "LayoutModel",
      "state": {}
     },
     "807464f089b84185a1c8306326327810": {
      "model_module": "@jupyter-widgets/controls",
      "model_module_version": "1.5.0",
      "model_name": "HTMLModel",
      "state": {
       "layout": "IPY_MODEL_ce4eb8db09d24d9a99505ca5e195b1e1",
       "style": "IPY_MODEL_4212f6647cb0451caa2d4885a177ba00",
       "value": " 8/8 [07:36&lt;00:00, 48.58s/it]"
      }
     },
     "aa8199e178d64b6988384b1cae1b7f6d": {
      "model_module": "@jupyter-widgets/controls",
      "model_module_version": "1.5.0",
      "model_name": "HTMLModel",
      "state": {
       "layout": "IPY_MODEL_56d57c77e0964dd4a7819b19bbc82538",
       "style": "IPY_MODEL_3ea0efddcb8f435ca9677ca91bc7f0a1",
       "value": "100%"
      }
     },
     "b7c963c4e5744b1ba7a246e06b7914d5": {
      "model_module": "@jupyter-widgets/controls",
      "model_module_version": "1.5.0",
      "model_name": "FloatProgressModel",
      "state": {
       "bar_style": "success",
       "layout": "IPY_MODEL_cd9a9b8b5a4541f69f18ca2fd65438aa",
       "max": 8,
       "style": "IPY_MODEL_35e2634e2d6d4e469785c9284e41a47c",
       "value": 8
      }
     },
     "cd9a9b8b5a4541f69f18ca2fd65438aa": {
      "model_module": "@jupyter-widgets/base",
      "model_module_version": "1.2.0",
      "model_name": "LayoutModel",
      "state": {}
     },
     "ce4eb8db09d24d9a99505ca5e195b1e1": {
      "model_module": "@jupyter-widgets/base",
      "model_module_version": "1.2.0",
      "model_name": "LayoutModel",
      "state": {}
     }
    },
    "version_major": 2,
    "version_minor": 0
   }
  }
 },
 "nbformat": 4,
 "nbformat_minor": 4
}
