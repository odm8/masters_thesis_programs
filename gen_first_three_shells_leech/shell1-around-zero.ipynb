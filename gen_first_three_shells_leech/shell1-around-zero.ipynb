{
 "cells": [
  {
   "cell_type": "code",
   "execution_count": 4,
   "metadata": {},
   "outputs": [],
   "source": [
    "from itertools import combinations, product, chain\n",
    "import numpy as np\n",
    "import os"
   ]
  },
  {
   "cell_type": "code",
   "execution_count": 5,
   "metadata": {},
   "outputs": [
    {
     "name": "stdout",
     "output_type": "stream",
     "text": [
      "/home/sage/master_ready/gen_first_three_shells_leech\n"
     ]
    }
   ],
   "source": [
    "print(os.getcwd()) "
   ]
  },
  {
   "cell_type": "code",
   "execution_count": 6,
   "metadata": {},
   "outputs": [],
   "source": [
    "#Loading Golay Code\n",
    "codewords_weight_8  = np.load(\"data_golay-code/codewords_weight_8.npy\")\n",
    "codewords_weight_12  = np.load(\"data_golay-code/codewords_weight_12.npy\")\n",
    "codewords_weight_16  = np.load(\"data_golay-code/codewords_weight_16.npy\")\n",
    "C  = np.load(\"data_golay-code/C.npy\")"
   ]
  },
  {
   "cell_type": "code",
   "execution_count": 7,
   "metadata": {},
   "outputs": [],
   "source": [
    "#Adapted to numpy\n",
    "def leech_latt_controll_vector(vec):\n",
    "    v_m = vec % 2\n",
    "    i = np.all(v_m == v_m[0])\n",
    "    iii = (np.sum(vec) % 8 == 4*(v_m[0]) % 8)\n",
    "    norm_sq = np.sum(vec**2)\n",
    "    b_0 = (vec % 4 == 0) in C\n",
    "    b_1 = (vec % 4 == 1) in C\n",
    "    b_2 = (vec % 4 == 2) in C\n",
    "    b_3 = (vec % 4 == 3) in C\n",
    "    #actual condition!\n",
    "    if (norm_sq) != 32: #8*4\n",
    "        return False\n",
    "    if not (i and iii and all([b_0, b_1, b_2, b_3])):\n",
    "        return False\n",
    "    return True"
   ]
  },
  {
   "cell_type": "markdown",
   "metadata": {},
   "source": [
    "----------------------------------------------------------------------------------------------------------------------------"
   ]
  },
  {
   "cell_type": "markdown",
   "metadata": {},
   "source": [
    "Shape $\\left( (\\pm 4)^2, 0^{22} \\right)$"
   ]
  },
  {
   "cell_type": "code",
   "execution_count": 9,
   "metadata": {},
   "outputs": [
    {
     "name": "stdout",
     "output_type": "stream",
     "text": [
      "Order of the Shape ((± 4)^2, 0^22)\n",
      "1104\n"
     ]
    }
   ],
   "source": [
    "#Shell of squared Norm 4 (Type 2)\n",
    "#Shape ((± 4)^2, 0^22)\n",
    "l2_1 =[]\n",
    "for pos1, pos2 in combinations(range(24), 2):\n",
    "    # Iterate over all combinations of values for the two positions\n",
    "     for val1, val2 in product([-4,4], repeat=2):\n",
    "            vec = np.zeros(24)\n",
    "            vec[pos1] = val1\n",
    "            vec[pos2] = val2\n",
    "            l2_1.append(vec.copy())\n",
    "print(\"Order of the Shape ((± 4)^2, 0^22)\" )\n",
    "print(len(l2_1))"
   ]
  },
  {
   "cell_type": "markdown",
   "metadata": {},
   "source": [
    "-----------------------------------------------------------------------------------------------------------------------------"
   ]
  },
  {
   "cell_type": "markdown",
   "metadata": {},
   "source": [
    "Shape $\\left( (\\pm 2)^8, 0^{16} \\right)$, where the $\\pm 2$ entries occupy an octad and have positive product."
   ]
  },
  {
   "cell_type": "code",
   "execution_count": 10,
   "metadata": {},
   "outputs": [
    {
     "name": "stdout",
     "output_type": "stream",
     "text": [
      "Order of the Shape ((± 2)^8, 0^16)\n",
      "97152\n"
     ]
    }
   ],
   "source": [
    "#Shape ((± 2)^8, 0^16), where the ±2 occupy an octad and have positive product\n",
    "l2_2 =[]\n",
    "for i in [0,2,4,6,8]: # number of -2's\n",
    "    for cw in codewords_weight_8:\n",
    "        pos=np.where(cw == 1)[0]\n",
    "        for comb in combinations(pos,i):\n",
    "            pos_without_comb = np.setdiff1d(pos, comb)\n",
    "            vec = np.zeros(24)\n",
    "            for k in comb:\n",
    "                vec[k] = -2\n",
    "            for k in pos_without_comb:\n",
    "                vec[k] = 2\n",
    "            l2_2.append(vec.copy())\n",
    "print(\"Order of the Shape ((± 2)^8, 0^16)\")\n",
    "print(len(l2_2)) "
   ]
  },
  {
   "cell_type": "markdown",
   "metadata": {},
   "source": [
    "----------------------------------------------------------------------------------------------------------------------------"
   ]
  },
  {
   "cell_type": "markdown",
   "metadata": {},
   "source": [
    "Shape $\\left( (\\mp 3), (\\pm 1)^{23} \\right)$, where the entries congruent to $1$ modulo $4$ occupy a $\\mathcal{G}$-set."
   ]
  },
  {
   "cell_type": "code",
   "execution_count": 11,
   "metadata": {},
   "outputs": [
    {
     "name": "stdout",
     "output_type": "stream",
     "text": [
      "Order of the Shape Shape (-+ 3, (± 1)^23)\n",
      "98304\n"
     ]
    }
   ],
   "source": [
    "#Shape (-+ 3, (± 1)^23), where the entries congruent 1 modulo 4 occupy a G set\n",
    "l2_3 =[]\n",
    "for i in range(24): # place of the ±3\n",
    "    index_0_23 = np.arange(24)\n",
    "    for cw in C:\n",
    "        pos=np.where(cw == 1)[0] # entries cong 1 mod 4 G set [technically cong 3 mod 4 also g set but same result]\n",
    "        pos_without_pos = np.setdiff1d(index_0_23,pos)\n",
    "        vec = np.zeros(24)\n",
    "        for k in pos:\n",
    "            vec[k] = 1\n",
    "        for k in pos_without_pos:\n",
    "            vec[k] = -1\n",
    "        if i in pos:\n",
    "            vec[i] = -3\n",
    "        else:\n",
    "            vec[i] = 3\n",
    "        l2_3.append(vec.copy())\n",
    "        \n",
    "print(\"Order of the Shape Shape (-+ 3, (± 1)^23)\")\n",
    "print(len(l2_3))"
   ]
  },
  {
   "cell_type": "markdown",
   "metadata": {},
   "source": [
    "-----------------------------------------------------------------------------------------------------------------------------"
   ]
  },
  {
   "cell_type": "code",
   "execution_count": 12,
   "metadata": {},
   "outputs": [
    {
     "name": "stdout",
     "output_type": "stream",
     "text": [
      "Order of the first shell around 0\n",
      "196560\n"
     ]
    }
   ],
   "source": [
    "shell_1 =[*l2_1, *l2_2, *l2_3] \n",
    "print(\"Order of the first shell around 0\")\n",
    "print(len(shell_1))"
   ]
  },
  {
   "cell_type": "code",
   "execution_count": 13,
   "metadata": {},
   "outputs": [
    {
     "data": {
      "text/plain": [
       "(196560, 24)"
      ]
     },
     "execution_count": 13,
     "metadata": {},
     "output_type": "execute_result"
    }
   ],
   "source": [
    "M_shape = np.array(shell_1)\n",
    "M_shape.shape"
   ]
  },
  {
   "cell_type": "code",
   "execution_count": 15,
   "metadata": {},
   "outputs": [
    {
     "name": "stdout",
     "output_type": "stream",
     "text": [
      "True\n"
     ]
    }
   ],
   "source": [
    "check = np.apply_along_axis(leech_latt_controll_vector, axis=1, arr=M_shape)\n",
    "print(np.all(check))"
   ]
  },
  {
   "cell_type": "code",
   "execution_count": 16,
   "metadata": {},
   "outputs": [],
   "source": [
    "np.save(\"shell1_around_zero\", M_shape)"
   ]
  }
 ],
 "metadata": {
  "kernelspec": {
   "display_name": "Python 3",
   "language": "python",
   "name": "python3"
  },
  "language_info": {
   "codemirror_mode": {
    "name": "ipython",
    "version": 3
   },
   "file_extension": ".py",
   "mimetype": "text/x-python",
   "name": "python",
   "nbconvert_exporter": "python",
   "pygments_lexer": "ipython3",
   "version": "3.7.10"
  }
 },
 "nbformat": 4,
 "nbformat_minor": 4
}
