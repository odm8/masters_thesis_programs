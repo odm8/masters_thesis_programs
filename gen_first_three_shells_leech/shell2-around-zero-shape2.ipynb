{
 "cells": [
  {
   "cell_type": "code",
   "execution_count": 6,
   "metadata": {},
   "outputs": [],
   "source": [
    "from itertools import combinations, product, chain\n",
    "import os\n",
    "import numpy as np"
   ]
  },
  {
   "cell_type": "code",
   "execution_count": null,
   "metadata": {},
   "outputs": [],
   "source": [
    "print(os.getcwd()) "
   ]
  },
  {
   "cell_type": "code",
   "execution_count": 7,
   "metadata": {},
   "outputs": [],
   "source": [
    "#Loading Golay Code\n",
    "codewords_weight_8  = np.load(\"data_golay-code/codewords_weight_8.npy\")\n",
    "codewords_weight_12  = np.load(\"data_golay-code/codewords_weight_12.npy\")\n",
    "codewords_weight_16  = np.load(\"data_golay-code/codewords_weight_16.npy\")\n",
    "C  = np.load(\"data_golay-code/C.npy\")"
   ]
  },
  {
   "cell_type": "code",
   "execution_count": 8,
   "metadata": {},
   "outputs": [],
   "source": [
    "#Adapted to numpy\n",
    "def leech_latt_controll_vector(vec):\n",
    "    v_m = vec % 2\n",
    "    i = np.all(v_m == v_m[0])\n",
    "    iii = (np.sum(vec) % 8 == 4*(v_m[0]) % 8)\n",
    "    norm_sq = np.sum(vec**2)\n",
    "    b_0 = (vec % 4 == 0) in C\n",
    "    b_1 = (vec % 4 == 1) in C\n",
    "    b_2 = (vec % 4 == 2) in C\n",
    "    b_3 = (vec % 4 == 3) in C\n",
    "    #actual conditions\n",
    "    if (norm_sq) != 48: #8*6\n",
    "        return False\n",
    "    if not (i and iii and all([b_0, b_1, b_2, b_3])):\n",
    "        return False\n",
    "    return True"
   ]
  },
  {
   "cell_type": "markdown",
   "metadata": {},
   "source": [
    "------------------------------------------------------------------------------------------------------------------------------"
   ]
  },
  {
   "cell_type": "markdown",
   "metadata": {},
   "source": [
    "$\\left( (\\pm 2)^{12}, 0^{12} \\right)$, where the $\\pm 2$ entries occupy a dodecad and have positive product."
   ]
  },
  {
   "cell_type": "code",
   "execution_count": 9,
   "metadata": {},
   "outputs": [],
   "source": [
    "#Shell of squared Norm 6 (Type 3)\n",
    "#Shape ((±2)^12, 0^12), where the ±2's occupy an dodecad and have positive product\n",
    "def shape_2(cw):\n",
    "    vectors = []\n",
    "    vec = np.zeros(24)\n",
    "    index_0_23 = np.arange(24)\n",
    "    pos = np.where(cw == 1)[0]  \n",
    "    for i in [0,2,4,6,8,10,12]: # number of -2's\n",
    "        for comb in combinations(pos,i):\n",
    "            pos_without_comb = np.setdiff1d(pos, comb)\n",
    "            vec.fill(0)\n",
    "            vec[list(comb)] = -2\n",
    "            vec[list(pos_without_comb)] = 2\n",
    "            vectors.append(vec.copy())\n",
    "    return vectors"
   ]
  },
  {
   "cell_type": "markdown",
   "metadata": {},
   "source": [
    "-------------------------------------------------------------------------------------------------------------------------"
   ]
  },
  {
   "cell_type": "code",
   "execution_count": 10,
   "metadata": {},
   "outputs": [
    {
     "data": {
      "text/plain": [
       "(2576, 2048, 24)"
      ]
     },
     "execution_count": 10,
     "metadata": {},
     "output_type": "execute_result"
    }
   ],
   "source": [
    "M_shape2 = np.apply_along_axis(shape_2, axis=1, arr=codewords_weight_12)\n",
    "M_shape2.shape"
   ]
  },
  {
   "cell_type": "code",
   "execution_count": 11,
   "metadata": {},
   "outputs": [
    {
     "name": "stdout",
     "output_type": "stream",
     "text": [
      "True\n"
     ]
    }
   ],
   "source": [
    "check = np.apply_along_axis(leech_latt_controll_vector, axis=2, arr=M_shape2)\n",
    "print(np.all(check))"
   ]
  },
  {
   "cell_type": "code",
   "execution_count": 12,
   "metadata": {},
   "outputs": [],
   "source": [
    "np.save(\"shell2_shape2_around_zero\", M_shape2)"
   ]
  },
  {
   "cell_type": "code",
   "execution_count": null,
   "metadata": {},
   "outputs": [],
   "source": []
  }
 ],
 "metadata": {
  "kernelspec": {
   "display_name": "Python 3",
   "language": "python",
   "name": "python3"
  },
  "language_info": {
   "codemirror_mode": {
    "name": "ipython",
    "version": 3
   },
   "file_extension": ".py",
   "mimetype": "text/x-python",
   "name": "python",
   "nbconvert_exporter": "python",
   "pygments_lexer": "ipython3",
   "version": "3.7.10"
  }
 },
 "nbformat": 4,
 "nbformat_minor": 4
}
