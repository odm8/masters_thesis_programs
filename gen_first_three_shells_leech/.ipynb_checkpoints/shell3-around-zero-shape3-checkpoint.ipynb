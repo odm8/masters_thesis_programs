{
 "cells": [
  {
   "cell_type": "code",
   "execution_count": 1,
   "metadata": {},
   "outputs": [],
   "source": [
    "from itertools import combinations, product, chain\n",
    "import os\n",
    "import numpy as np"
   ]
  },
  {
   "cell_type": "code",
   "execution_count": null,
   "metadata": {},
   "outputs": [],
   "source": [
    "print(os.getcwd()) "
   ]
  },
  {
   "cell_type": "code",
   "execution_count": 2,
   "metadata": {},
   "outputs": [],
   "source": [
    "#Loading Golay Code\n",
    "codewords_weight_8  = np.load(\"data_golay-code/codewords_weight_8.npy\")\n",
    "codewords_weight_12  = np.load(\"data_golay-code/codewords_weight_12.npy\")\n",
    "codewords_weight_16  = np.load(\"data_golay-code/codewords_weight_16.npy\")\n",
    "C  = np.load(\"data_golay-code/C.npy\")"
   ]
  },
  {
   "cell_type": "code",
   "execution_count": 3,
   "metadata": {},
   "outputs": [],
   "source": [
    "#Adapted to numpy\n",
    "def leech_latt_controll_vector(vec):\n",
    "    v_m = vec % 2\n",
    "    i = np.all(v_m == v_m[0])\n",
    "    iii = (np.sum(vec) % 8 == 4*(v_m[0]) % 8)\n",
    "    norm_sq = np.sum(vec**2)\n",
    "    b_0 = (vec % 4 == 0) in C\n",
    "    b_1 = (vec % 4 == 1) in C\n",
    "    b_2 = (vec % 4 == 2) in C\n",
    "    b_3 = (vec % 4 == 3) in C\n",
    "    #actual conditions\n",
    "    if (norm_sq) != 64: #8*8\n",
    "        return False\n",
    "    if not (i and iii and all([b_0, b_1, b_2, b_3])):\n",
    "        return False\n",
    "    return True"
   ]
  },
  {
   "cell_type": "markdown",
   "metadata": {},
   "source": [
    "-------------------------------------------------------------------------------------------------------------------------------"
   ]
  },
  {
   "cell_type": "markdown",
   "metadata": {},
   "source": [
    "Shape $\\left( (\\pm 4)^4, 0^{20}\\right)$"
   ]
  },
  {
   "cell_type": "code",
   "execution_count": 4,
   "metadata": {},
   "outputs": [],
   "source": [
    "#Shape ((± 4)^4, 0^20)\n",
    "def shape3(pos1, pos2, pos3, pos4):\n",
    "    vectors = []\n",
    "    vec = np.zeros(24)\n",
    "    for val1, val2, val3, val4 in product([-4,4], repeat=4):\n",
    "        vec.fill(0)\n",
    "        vec[pos1] = val1\n",
    "        vec[pos2] = val2\n",
    "        vec[pos3] = val3\n",
    "        vec[pos4] = val4\n",
    "        vectors.append(vec.copy())\n",
    "    return vectors\n"
   ]
  },
  {
   "cell_type": "markdown",
   "metadata": {},
   "source": [
    "----------------------------------------------------------------------------------------------------------------------------"
   ]
  },
  {
   "cell_type": "code",
   "execution_count": 5,
   "metadata": {},
   "outputs": [
    {
     "data": {
      "text/plain": [
       "(10626, 16, 24)"
      ]
     },
     "execution_count": 5,
     "metadata": {},
     "output_type": "execute_result"
    }
   ],
   "source": [
    "M_shape3 = np.array([shape3(pos1, pos2, pos3, pos4) for pos1, pos2, pos3, pos4 in combinations(range(24), 4)])\n",
    "M_shape3.shape"
   ]
  },
  {
   "cell_type": "code",
   "execution_count": 6,
   "metadata": {},
   "outputs": [
    {
     "name": "stdout",
     "output_type": "stream",
     "text": [
      "True\n"
     ]
    }
   ],
   "source": [
    "check = np.apply_along_axis(leech_latt_controll_vector, axis=2, arr=M_shape3)\n",
    "print(np.all(check))"
   ]
  },
  {
   "cell_type": "code",
   "execution_count": 7,
   "metadata": {},
   "outputs": [],
   "source": [
    "np.save(\"shell3_shape3_around_zero\", M_shape3)"
   ]
  },
  {
   "cell_type": "code",
   "execution_count": null,
   "metadata": {},
   "outputs": [],
   "source": []
  }
 ],
 "metadata": {
  "kernelspec": {
   "display_name": "Python 3",
   "language": "python",
   "name": "python3"
  },
  "language_info": {
   "codemirror_mode": {
    "name": "ipython",
    "version": 3
   },
   "file_extension": ".py",
   "mimetype": "text/x-python",
   "name": "python",
   "nbconvert_exporter": "python",
   "pygments_lexer": "ipython3",
   "version": "3.7.10"
  }
 },
 "nbformat": 4,
 "nbformat_minor": 4
}
