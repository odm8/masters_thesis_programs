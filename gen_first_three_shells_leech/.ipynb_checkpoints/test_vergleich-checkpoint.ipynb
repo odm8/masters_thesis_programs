{
 "cells": [
  {
   "cell_type": "code",
   "execution_count": 1,
   "metadata": {},
   "outputs": [],
   "source": [
    "import numpy as np\n",
    "import os\n",
    "\n",
    "def load_and_compare_arrays(folder_path, array_name1, array_name2):\n",
    "    # Construct the full paths to the .npy files\n",
    "    path1 = os.path.join(folder_path, array_name1)\n",
    "    path2 = os.path.join(folder_path, array_name2)\n",
    "\n",
    "    # Load the arrays\n",
    "    arr1 = np.load(path1)\n",
    "    arr2 = np.load(path2)\n",
    "\n",
    "    # Check if they are identical\n",
    "    are_identical = np.array_equal(arr1, arr2)\n",
    "    return are_identical"
   ]
  },
  {
   "cell_type": "code",
   "execution_count": 4,
   "metadata": {},
   "outputs": [
    {
     "name": "stdout",
     "output_type": "stream",
     "text": [
      "The arrays are identical.\n"
     ]
    }
   ],
   "source": [
    "if __name__ == \"__main__\":\n",
    "    folder = \"/home/sage/master_ready/gen_first_three_shells_leech\"   # Replace with your folder path\n",
    "    array_file1 = \"shell1_around_zero.npy\"   # Replace with your first array file name\n",
    "    array_file2 = \"np_shell_1_around_zero.npy\"   # Replace with your second array file name\n",
    "\n",
    "    # Compare arrays\n",
    "    if load_and_compare_arrays(folder, array_file1, array_file2):\n",
    "        print(\"The arrays are identical.\")\n",
    "    else:\n",
    "        print(\"The arrays are not identical.\")"
   ]
  },
  {
   "cell_type": "code",
   "execution_count": null,
   "metadata": {},
   "outputs": [],
   "source": []
  },
  {
   "cell_type": "code",
   "execution_count": null,
   "metadata": {},
   "outputs": [],
   "source": []
  }
 ],
 "metadata": {
  "kernelspec": {
   "display_name": "SageMath 9.3",
   "language": "sage",
   "name": "sagemath"
  },
  "language_info": {
   "codemirror_mode": {
    "name": "ipython",
    "version": 3
   },
   "file_extension": ".py",
   "mimetype": "text/x-python",
   "name": "python",
   "nbconvert_exporter": "python",
   "pygments_lexer": "ipython3",
   "version": "3.7.10"
  }
 },
 "nbformat": 4,
 "nbformat_minor": 4
}
