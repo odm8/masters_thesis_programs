{
 "cells": [
  {
   "cell_type": "code",
   "execution_count": 1,
   "metadata": {},
   "outputs": [],
   "source": [
    "from itertools import combinations, product, chain\n",
    "import os\n",
    "import numpy as np"
   ]
  },
  {
   "cell_type": "code",
   "execution_count": null,
   "metadata": {},
   "outputs": [],
   "source": [
    "print(os.getcwd()) "
   ]
  },
  {
   "cell_type": "code",
   "execution_count": 2,
   "metadata": {},
   "outputs": [],
   "source": [
    "#Loading Golay Code\n",
    "codewords_weight_8  = np.load(\"data_golay-code/codewords_weight_8.npy\")\n",
    "codewords_weight_12  = np.load(\"data_golay-code/codewords_weight_12.npy\")\n",
    "codewords_weight_16  = np.load(\"data_golay-code/codewords_weight_16.npy\")\n",
    "C  = np.load(\"data_golay-code/C.npy\")"
   ]
  },
  {
   "cell_type": "code",
   "execution_count": 3,
   "metadata": {},
   "outputs": [],
   "source": [
    "#Adapted to numpy\n",
    "def leech_latt_controll_vector(vec):\n",
    "    v_m = vec % 2\n",
    "    i = np.all(v_m == v_m[0])\n",
    "    iii = (np.sum(vec) % 8 == 4*(v_m[0]) % 8)\n",
    "    norm_sq = np.sum(vec**2)\n",
    "    b_0 = (vec % 4 == 0) in C\n",
    "    b_1 = (vec % 4 == 1) in C\n",
    "    b_2 = (vec % 4 == 2) in C\n",
    "    b_3 = (vec % 4 == 3) in C\n",
    "    #actual conditions\n",
    "    if (norm_sq) != 64: #8*8\n",
    "        return False\n",
    "    if not (i and iii and all([b_0, b_1, b_2, b_3])):\n",
    "        return False\n",
    "    return True"
   ]
  },
  {
   "cell_type": "markdown",
   "metadata": {},
   "source": [
    "----------------------------------------------------------------------------------------------------------------------------"
   ]
  },
  {
   "cell_type": "markdown",
   "metadata": {},
   "source": [
    "Shape $\\left( (\\pm 6), (\\pm 2)^7, 0^{16}\\right)$, where the nonzero entries occupy an octad and have negative product."
   ]
  },
  {
   "cell_type": "code",
   "execution_count": 4,
   "metadata": {},
   "outputs": [],
   "source": [
    "#Shape (± 6,(± 2)^7, 0^16), where ± 6,(± 2)^7 occupies an octad and have negative product\n",
    "def shape7(cw):\n",
    "    vectors = []\n",
    "    vec = np.zeros(24)\n",
    "    pos= np.where(cw == 1)[0]\n",
    "    for i in [1,3,5,7]: # number of -'s\n",
    "        for comb in combinations(pos,i):\n",
    "            pos_without_comb = np.setdiff1d(pos, comb)\n",
    "            for pos_6 in pos:\n",
    "                vec.fill(0)\n",
    "                vec[list(comb)] = -2\n",
    "                vec[list(pos_without_comb)] = 2\n",
    "                if pos_6 in comb:\n",
    "                    vec[pos_6] = -6\n",
    "                else:\n",
    "                    vec[pos_6] = 6\n",
    "                vectors.append(vec.copy()) \n",
    "    return vectors"
   ]
  },
  {
   "cell_type": "markdown",
   "metadata": {},
   "source": [
    "---------------------------------------------------------------------------------------------------------------------------------"
   ]
  },
  {
   "cell_type": "code",
   "execution_count": 5,
   "metadata": {},
   "outputs": [
    {
     "data": {
      "text/plain": [
       "(759, 1024, 24)"
      ]
     },
     "execution_count": 5,
     "metadata": {},
     "output_type": "execute_result"
    }
   ],
   "source": [
    "M_shape7 = np.apply_along_axis(shape7, axis=1, arr=codewords_weight_8)\n",
    "M_shape7.shape"
   ]
  },
  {
   "cell_type": "code",
   "execution_count": 6,
   "metadata": {},
   "outputs": [
    {
     "name": "stdout",
     "output_type": "stream",
     "text": [
      "True\n"
     ]
    }
   ],
   "source": [
    "check = np.apply_along_axis(leech_latt_controll_vector, axis=2, arr=M_shape7)\n",
    "print(np.all(check))"
   ]
  },
  {
   "cell_type": "code",
   "execution_count": 7,
   "metadata": {},
   "outputs": [],
   "source": [
    "np.save(\"shell3_shape7_around_zero\", M_shape7)"
   ]
  }
 ],
 "metadata": {
  "kernelspec": {
   "display_name": "Python 3",
   "language": "python",
   "name": "python3"
  },
  "language_info": {
   "codemirror_mode": {
    "name": "ipython",
    "version": 3
   },
   "file_extension": ".py",
   "mimetype": "text/x-python",
   "name": "python",
   "nbconvert_exporter": "python",
   "pygments_lexer": "ipython3",
   "version": "3.7.10"
  }
 },
 "nbformat": 4,
 "nbformat_minor": 4
}
