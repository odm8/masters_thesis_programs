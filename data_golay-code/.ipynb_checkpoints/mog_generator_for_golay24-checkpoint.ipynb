{
 "cells": [
  {
   "cell_type": "code",
   "execution_count": 17,
   "metadata": {},
   "outputs": [],
   "source": [
    "import numpy as np"
   ]
  },
  {
   "cell_type": "code",
   "execution_count": 18,
   "metadata": {},
   "outputs": [],
   "source": [
    "#Transforms the MOG_Array into a vector when read up to down, left to right\n",
    "def translater(V):\n",
    "    v =[]\n",
    "    for j in range (6):\n",
    "        for i in range(4):\n",
    "            v.append(V[i][j])\n",
    "    return v"
   ]
  },
  {
   "cell_type": "code",
   "execution_count": 19,
   "metadata": {},
   "outputs": [],
   "source": [
    "n = 24\n",
    "#Basis Golay code in MOG coordinates (p.48, 12 Sporadic Groups by Griess\n",
    "V_1 = matrix([[0,1,1,1,1,1],\n",
    "              [1,0,0,0,0,0],\n",
    "              [1,0,0,0,0,0],\n",
    "              [1,0,0,0,0,0]\n",
    "                ])\n",
    "V_2 = matrix([[1,0,1,1,1,1],\n",
    "              [0,1,0,0,0,0],\n",
    "              [0,1,0,0,0,0],\n",
    "              [0,1,0,0,0,0]\n",
    "                ])\n",
    "V_3 = matrix([[1,1,1,1,0,0],\n",
    "              [1,1,1,1,0,0],\n",
    "              [0,0,0,0,0,0],\n",
    "              [0,0,0,0,0,0]\n",
    "                ])\n",
    "V_4 = matrix([[0,0,1,1,1,1],\n",
    "              [0,0,1,1,1,1],\n",
    "              [0,0,0,0,0,0],\n",
    "              [0,0,0,0,0,0]\n",
    "                ])\n",
    "V_5 = matrix([[1,1,0,1,1,1],\n",
    "              [0,0,1,0,0,0],\n",
    "              [0,0,1,0,0,0],\n",
    "              [0,0,1,0,0,0]\n",
    "                ])\n",
    "V_6 = matrix([[1,1,1,0,1,1],\n",
    "              [0,0,0,1,0,0],\n",
    "              [0,0,0,1,0,0],\n",
    "              [0,0,0,1,0,0]\n",
    "                ])\n",
    "V_7 = matrix([[1,1,1,1,0,0],\n",
    "              [0,0,0,0,0,0],\n",
    "              [1,1,1,1,0,0],\n",
    "              [0,0,0,0,0,0]\n",
    "                ])\n",
    "V_8 = matrix([[0,0,1,1,1,1],\n",
    "              [0,0,0,0,0,0],\n",
    "              [0,0,1,1,1,1],\n",
    "              [0,0,0,0,0,0]\n",
    "                ])\n",
    "V_9 = matrix([[1,1,1,1,0,1],\n",
    "              [0,0,0,0,1,0],\n",
    "              [0,0,0,0,1,0],\n",
    "              [0,0,0,0,1,0]\n",
    "                ])\n",
    "V_10 = matrix([[1,1,1,1,1,0],\n",
    "               [0,0,0,0,0,1],\n",
    "               [0,0,0,0,0,1],\n",
    "               [0,0,0,0,0,1]\n",
    "                ])\n",
    "V_11 = matrix([[0,1,0,1,1,1],\n",
    "               [0,1,0,1,0,0],\n",
    "               [0,0,0,0,1,0],\n",
    "               [0,0,0,0,0,1]\n",
    "                ])\n",
    "V_12 = matrix([[0,1,0,1,1,1],\n",
    "               [0,0,0,0,0,1],\n",
    "               [0,1,0,1,0,0],\n",
    "               [0,0,0,0,1,0]\n",
    "                ])\n",
    "mog_base =[V_1, V_2, V_3, V_4, V_5, V_6, V_7, V_8, V_9, V_10, V_11, V_12]"
   ]
  },
  {
   "cell_type": "code",
   "execution_count": 20,
   "metadata": {},
   "outputs": [],
   "source": [
    "basis = []\n",
    "for v in mog_base:\n",
    "    basis.append(translater(v))"
   ]
  },
  {
   "cell_type": "code",
   "execution_count": 21,
   "metadata": {},
   "outputs": [
    {
     "name": "stdout",
     "output_type": "stream",
     "text": [
      "[24, 12] linear code over GF(2)\n",
      "x^24 + 759*x^16*y^8 + 2576*x^12*y^12 + 759*x^8*y^16 + y^24\n"
     ]
    }
   ],
   "source": [
    "#Golay code compatible with MOG coordinates\n",
    "G = Matrix(GF(2), basis)\n",
    "# Create a linear code from the generator matrix\n",
    "C = LinearCode(G)\n",
    "W = C.weight_enumerator()\n",
    "# Print the code\n",
    "print(C)\n",
    "print(W)"
   ]
  },
  {
   "cell_type": "code",
   "execution_count": 22,
   "metadata": {},
   "outputs": [],
   "source": [
    "#Transform to numpy-array/matrix\n",
    "codewords_weight_8 = np.array([[int(x) for x in cw] for cw in C if cw.hamming_weight() == 8])\n",
    "codewords_weight_12 = np.array([[int(x) for x in cw] for cw in C if cw.hamming_weight() == 12])\n",
    "codewords_weight_16 = np.array([[int(x) for x in cw] for cw in C if cw.hamming_weight() == 16])\n",
    "C_l = np.array([[int(x) for x in cw] for cw in C])"
   ]
  },
  {
   "cell_type": "code",
   "execution_count": 23,
   "metadata": {},
   "outputs": [],
   "source": [
    "# Save as numpy matrix\n",
    "np.save('codewords_weight_8', codewords_weight_8)\n",
    "np.save('codewords_weight_12', codewords_weight_12)\n",
    "np.save('codewords_weight_16', codewords_weight_16)\n",
    "np.save('C', C_l)"
   ]
  }
 ],
 "metadata": {
  "kernelspec": {
   "display_name": "SageMath 9.3",
   "language": "sage",
   "name": "sagemath"
  },
  "language_info": {
   "codemirror_mode": {
    "name": "ipython",
    "version": 3
   },
   "file_extension": ".py",
   "mimetype": "text/x-python",
   "name": "python",
   "nbconvert_exporter": "python",
   "pygments_lexer": "ipython3",
   "version": "3.7.10"
  }
 },
 "nbformat": 4,
 "nbformat_minor": 4
}
