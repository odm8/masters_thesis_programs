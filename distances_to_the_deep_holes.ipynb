{
 "cells": [
  {
   "cell_type": "markdown",
   "metadata": {},
   "source": [
    "In this Jupyter notebook, we calculate the sizes of all shells around a deep hole up to squared distance $ 3 $, using the deep holes listed below. These points all lie within the first three shells of $ \\Lambda_{24} $ (see Appendix E of the Master's thesis, or verify this using the Cauchy–Schwarz inequality and the fact that $ \\Lambda_{24} $ has covering radius $ \\sqrt{2} $.\n",
    "\n",
    "As a sidenote: According to Section 4.4.2 of the Master's thesis, the squared distance of any shell is a multiple of\n",
    "\n",
    "$$\n",
    "\\frac{2}{h}\n",
    "$$\n",
    "\n",
    "starting from $ 2 $ (which corresponds to the squared covering radius of $ \\Lambda_{24} $), where $ h $ is the **Coxeter number** associated with the deep hole.\n",
    "\n",
    "\n"
   ]
  },
  {
   "cell_type": "code",
   "execution_count": 1,
   "metadata": {},
   "outputs": [],
   "source": [
    "from tqdm.notebook import tqdm\n",
    "import pickle\n",
    "import numpy as np\n",
    "import os"
   ]
  },
  {
   "cell_type": "code",
   "execution_count": 2,
   "metadata": {},
   "outputs": [
    {
     "name": "stdout",
     "output_type": "stream",
     "text": [
      "/home/sage\n"
     ]
    }
   ],
   "source": [
    "print(os.getcwd()) "
   ]
  },
  {
   "cell_type": "code",
   "execution_count": 3,
   "metadata": {},
   "outputs": [],
   "source": [
    "folder = \"data_leech-shells-around-zero/\""
   ]
  },
  {
   "cell_type": "markdown",
   "metadata": {},
   "source": [
    "--------------------------------------------------------------------------------------------------"
   ]
  },
  {
   "cell_type": "markdown",
   "metadata": {},
   "source": [
    "**Deep Hole List**\n",
    "\n",
    "All are scaled by $\\sqrt 8 \\cdot s$, where $s$ is the second entry in the tuple in the dictionary below."
   ]
  },
  {
   "cell_type": "code",
   "execution_count": 4,
   "metadata": {},
   "outputs": [],
   "source": [
    "c_A1 = vector([4,0,0,0, 0,0,0,0, 0,0,0,0, 0,0,0,0, 0,0,0,0, 0,0,0,0]) \n",
    "c_A2 = vector([10,0,0,0, 0,2,2,2, 2,0,0,0,  0,2,2,2, 2,0,0,0, 0,2,2,2 ])\n",
    "c_A3 = vector([-1,1,1,1, 1,1,1,1, 2,0,0,0, 0,0,0,0, 2,0,0,0, 0,0,0,0])\n",
    "c_A4 = vector([4,8,4,4, 4,4,4,4, 2,2,6,6, 6,2,2,2, 6,2,2,2, 6,2,2,2]) \n",
    "c_A6 = vector([21]*1 + [1]*7 + [-7]*1 + [5]*7 +[7]*1+ [3]*7)\n",
    "c_A8 = vector([27,1,1,1, 3,1,1,1, -9,5,5,5, 3,5,5,5, 9,7,7,7, 3,5,5,5])\n",
    "c_A12 = vector([39,3,1,3, 3,1,1,1, -13,5,7,7, 5,9,9,7, 13,7,11,7, 5,9,7,9])\n",
    "c_A7D5 = vector([12,1,1,1, 1,0,0,0, -4,3,2,2,  2,3,2,2, 4,3,2,2, 2,3,2,2])\n",
    "c_A9D6 = vector([ 15,1,1,1, 1,0,0,1, -5,3,2,2, 2,3,4,3, 5,3,3,3, 2,3,3,4])  \n",
    "c_A11D7E6 = vector([ 18,1,1,1, 2,0,0,1, -6,3,3,3, 2,4,4,3, 6,3,4,4, 3,5,4,3])\n",
    "c_A15D9 = vector([ 24,1,1,2, 2,1,0,1, -8,4,4,4, 3,7,6,4, 8,4,5,5, 3,5,5,5])\n",
    "c_A17E7 =  vector([ 27,1,2,2, 2,1,0,1, -9,4,5,4, 3,7,6,6, 9,4,7,6, 4,6,5,5])\n",
    "c_E8 =  vector([ 45,1,4,1, 6,2,2,-1, -15,8,8,8, 6,7,10,10, 15,10,10,10, 6,7,10,10]) \n",
    "c_E6 = vector([ 18,1,1,1, 3,0,0,0, -6,5,5,5, 4,3,3,3, 4,3,3,3, 4,3,3,3])\n",
    "c_A24 = vector([75,3,5,5, 7,1,1,3, -25,13,13,11, 9,17,15,15, 25,13,23,15, 11,17,13,15]) \n",
    "c_D4 = vector([2,4,4,4, 2,2,4,2, 2,2,2,2, 2,2,2,2, 2,2,2,2, 2,2,2,2])\n",
    "c_A5D4 = vector([5,9,9,9, 3,3,3,3, 5,5,3,3, 3,3,5,5, 3,3,5,5, 3,3,5,5])\n",
    "c_D6 = vector([3,7,7,7, 3,3,3,3, 3,3,3,3, 3,3,3,3, 3,3,5,5, 3,3,5,5])\n",
    "c_D8 = vector([4,10,10,10, 6,4,4,8, 4,4,4,4, 4,4,4,4, 4,4,6,6, 4,4,6,6])\n",
    "c_D10E7 = vector([5,13,13,13, 7,7,5,9, 5,5,5,5, 5,5,5,5, 5,5,9,9, 5,5,7,7])\n",
    "c_D12 = vector([6,16,16,16, 8,8,6,12, 6,6,6,6, 6,6,6,6, 8,6,10,10, 6,6,10,8])\n",
    "c_D16E8 = vector([8,22,22,22, 12,10,8,16, 10,8,8,8, 8,8,8,8, 10,8,14,14, 8,8,12,12])\n",
    "c_D24 = vector([12,34,34,34, 18,16,12,24, 14,12,12,12, 12,12,12,12, 16,12,20,22, 12,14,20,18]) "
   ]
  },
  {
   "cell_type": "code",
   "execution_count": 5,
   "metadata": {},
   "outputs": [],
   "source": [
    "deep_hole_dict = {\n",
    "    \"A1\": (np.array(c_A1), 1), #s is the second entry\n",
    "    \"A2\": (np.array(c_A2), 3),\n",
    "    \"A3\": (np.array(c_A3), 1),\n",
    "    \"A4\": (np.array(c_A4), 5),\n",
    "    \"A6\": (np.array(c_A6), 7), \n",
    "    \"A8\": (np.array(c_A8), 9),\n",
    "    \"A12\":(np.array(c_A12), 13),   \n",
    "    \"A7D5\":(np.array(c_A7D5), 4),\n",
    "    \"A9D6\":(np.array(c_A9D6), 5),\n",
    "    \"A11D7E6\":(np.array(c_A11D7E6), 6),\n",
    "    \"A15D9\":(np.array(c_A15D9), 8),   \n",
    "    \"A17E7\":(np.array(c_A17E7), 9),\n",
    "    \"E8\":(np.array(c_E8), 15),\n",
    "    \"E6\":(np.array(c_E6), 6),  \n",
    "    \"A24\":(np.array(c_A24), 25),\n",
    "    \"D4\":(np.array(c_D4), 3),\n",
    "    \"A5D4\":(np.array(c_A5D4), 6),\n",
    "    \"D6\": (np.array(c_D6), 5),\n",
    "    \"D8\": (np.array(c_D8), 7),\n",
    "    \"D10E7\": (np.array(c_D10E7), 9),\n",
    "    \"D12\": (np.array(c_D12), 11),       \n",
    "    \"D16E8\": (np.array(c_D16E8), 15),\n",
    "    \"D24\": (np.array(c_D24), 23)   \n",
    "}"
   ]
  },
  {
   "cell_type": "markdown",
   "metadata": {},
   "source": [
    "----------------------------------------------------"
   ]
  },
  {
   "cell_type": "markdown",
   "metadata": {},
   "source": [
    "The procedure is as follows.\n",
    "\n",
    "Since our database of $ \\Lambda_{24} $ is scaled by $ \\sqrt{8} $ so that all entries are integers, we additionally scale by a factor $ s $, as our deep hole is scaled accordingly. The squared distance $ \\text{dist} $ from the shell to the deep hole then becomes the integer:\n",
    "\n",
    "$$\n",
    "\\text{dist} \\cdot 8 \\cdot s^2.\n",
    "$$\n",
    "\n",
    "Since we are working exclusively with integers, we can safely use NumPy functions while still obtaining exact results—this is the approach we follow.\n",
    "\n",
    "With this scaling in place, we search through each of the first three shells for points that lie at a squared distance less than or equal to $ 3 \\cdot 8 \\cdot s^2 $ from our deep hole and count them and store the amount correctly rescaled. Important: We store the squared distance.\n",
    "\n",
    "At the end we save the result.\n"
   ]
  },
  {
   "cell_type": "markdown",
   "metadata": {},
   "source": [
    "-----------------------------------"
   ]
  },
  {
   "cell_type": "code",
   "execution_count": 6,
   "metadata": {},
   "outputs": [],
   "source": [
    "data_distances = {}\n",
    "for key in deep_hole_dict:\n",
    "    data_distances[key] = {}"
   ]
  },
  {
   "cell_type": "code",
   "execution_count": 7,
   "metadata": {},
   "outputs": [
    {
     "name": "stdout",
     "output_type": "stream",
     "text": [
      "{'A1': {}, 'A2': {}, 'A3': {}, 'A4': {}, 'A6': {}, 'A8': {}, 'A12': {}, 'A7D5': {}, 'A9D6': {}, 'A11D7E6': {}, 'A15D9': {}, 'A17E7': {}, 'E8': {}, 'E6': {}, 'A24': {}, 'D4': {}, 'A5D4': {}, 'D6': {}, 'D8': {}, 'D10E7': {}, 'D12': {}, 'D16E8': {}, 'D24': {}}\n"
     ]
    }
   ],
   "source": [
    "print(data_distances)"
   ]
  },
  {
   "cell_type": "markdown",
   "metadata": {},
   "source": [
    "**Zero Shell**"
   ]
  },
  {
   "cell_type": "code",
   "execution_count": 8,
   "metadata": {},
   "outputs": [
    {
     "data": {
      "application/vnd.jupyter.widget-view+json": {
       "model_id": "9582a9795a2b4fd8a7b9041a18bfb1cc",
       "version_major": 2,
       "version_minor": 0
      },
      "text/plain": [
       "  0%|          | 0/23 [00:00<?, ?it/s]"
      ]
     },
     "metadata": {},
     "output_type": "display_data"
    }
   ],
   "source": [
    "for key in tqdm(deep_hole_dict):\n",
    "    data_distances[key][2] = 1 #All the chosen deep hole have squared norm 2\n",
    "    "
   ]
  },
  {
   "cell_type": "code",
   "execution_count": 9,
   "metadata": {},
   "outputs": [
    {
     "name": "stdout",
     "output_type": "stream",
     "text": [
      "{'A1': {2: 1}, 'A2': {2: 1}, 'A3': {2: 1}, 'A4': {2: 1}, 'A6': {2: 1}, 'A8': {2: 1}, 'A12': {2: 1}, 'A7D5': {2: 1}, 'A9D6': {2: 1}, 'A11D7E6': {2: 1}, 'A15D9': {2: 1}, 'A17E7': {2: 1}, 'E8': {2: 1}, 'E6': {2: 1}, 'A24': {2: 1}, 'D4': {2: 1}, 'A5D4': {2: 1}, 'D6': {2: 1}, 'D8': {2: 1}, 'D10E7': {2: 1}, 'D12': {2: 1}, 'D16E8': {2: 1}, 'D24': {2: 1}}\n"
     ]
    }
   ],
   "source": [
    "print(data_distances)"
   ]
  },
  {
   "cell_type": "markdown",
   "metadata": {},
   "source": [
    "**First Shell**"
   ]
  },
  {
   "cell_type": "code",
   "execution_count": 10,
   "metadata": {},
   "outputs": [
    {
     "name": "stdout",
     "output_type": "stream",
     "text": [
      "(196560, 24)\n"
     ]
    }
   ],
   "source": [
    "np_shell_1_around_zero = np.load(folder+'shell1_around_zero.npy')\n",
    "print(np_shell_1_around_zero.shape)"
   ]
  },
  {
   "cell_type": "code",
   "execution_count": 11,
   "metadata": {},
   "outputs": [
    {
     "data": {
      "application/vnd.jupyter.widget-view+json": {
       "model_id": "fb8f8e98cdf8451baa3d019cc556e951",
       "version_major": 2,
       "version_minor": 0
      },
      "text/plain": [
       "  0%|          | 0/23 [00:00<?, ?it/s]"
      ]
     },
     "metadata": {},
     "output_type": "display_data"
    }
   ],
   "source": [
    "for key in tqdm(deep_hole_dict):   \n",
    "    sqrd_max = 3*8*deep_hole_dict[key][1]^2\n",
    "    \n",
    "    differences = np_shell_1_around_zero*deep_hole_dict[key][1] - deep_hole_dict[key][0]  \n",
    "\n",
    "    squared_distances = np.sum(differences**2, axis=1) \n",
    "    unique_distances, counts = np.unique(squared_distances, return_counts=True)\n",
    "    \n",
    "    mask = unique_distances <= sqrd_max \n",
    "    \n",
    "    filtered_distances = unique_distances[mask]\n",
    "    filtered_counts = counts[mask]\n",
    "    \n",
    "    distance_counts = zip(filtered_distances, filtered_counts) #Can be iterated over only once!\n",
    "    \n",
    "    for (i,j) in distance_counts:\n",
    "        scaled_dist = Integer(int(i))/(8*deep_hole_dict[key][1]^2)\n",
    "        if scaled_dist in data_distances[key]:\n",
    "            data_distances[key][scaled_dist] += j\n",
    "        else:\n",
    "            data_distances[key][scaled_dist] = j"
   ]
  },
  {
   "cell_type": "code",
   "execution_count": 12,
   "metadata": {},
   "outputs": [
    {
     "name": "stdout",
     "output_type": "stream",
     "text": [
      "{'A1': {2: 47, 3: 2048}, 'A2': {2: 34, 8/3: 486}, 'A3': {2: 30, 5/2: 192, 3: 1032}, 'A4': {2: 28, 12/5: 100, 14/5: 450}, 'A6': {2: 26, 16/7: 42, 18/7: 140, 20/7: 392}, 'A8': {2: 25, 20/9: 24, 22/9: 63, 8/3: 162, 26/9: 330}, 'A12': {2: 24, 28/13: 12, 30/13: 22, 32/13: 50, 34/13: 90, 36/13: 160, 38/13: 252}, 'A7D5': {2: 26, 9/4: 28, 5/2: 96, 11/4: 240, 3: 515}, 'A9D6': {2: 25, 11/5: 18, 12/5: 48, 13/5: 112, 14/5: 228, 3: 412}, 'A11D7E6': {2: 25, 13/6: 11, 7/3: 30, 5/2: 63, 8/3: 120, 17/6: 210, 3: 344}, 'A15D9': {2: 24, 17/8: 7, 9/4: 15, 19/8: 26, 5/2: 48, 21/8: 76, 11/4: 120, 23/8: 180, 3: 257}, 'A17E7': {2: 24, 19/9: 5, 20/9: 12, 7/3: 20, 22/9: 32, 23/9: 52, 8/3: 80, 25/9: 116, 26/9: 168, 3: 229}, 'E8': {2: 26, 32/15: 3, 11/5: 5, 34/15: 8, 7/3: 12, 12/5: 17, 37/15: 21, 38/15: 30, 13/5: 38, 8/3: 49, 41/15: 61, 14/5: 77, 43/15: 92, 44/15: 114, 3: 136}, 'E6': {2: 27, 13/6: 6, 7/3: 30, 5/2: 68, 8/3: 123, 17/6: 204, 3: 344}, 'A24': {2: 23, 52/25: 5, 54/25: 5, 56/25: 8, 58/25: 12, 12/5: 20, 62/25: 27, 64/25: 40, 66/25: 51, 68/25: 71, 14/5: 90, 72/25: 118, 74/25: 146}, 'D4': {2: 26, 7/3: 64, 8/3: 244, 3: 640}, 'A5D4': {2: 25, 7/3: 72, 8/3: 216, 3: 696}, 'D6': {2: 25, 11/5: 16, 12/5: 54, 13/5: 112, 14/5: 218, 3: 408}, 'D8': {2: 24, 15/7: 8, 16/7: 23, 17/7: 40, 18/7: 69, 19/7: 124, 20/7: 188, 3: 288}, 'D10E7': {2: 24, 19/9: 4, 20/9: 12, 7/3: 22, 22/9: 35, 23/9: 52, 8/3: 74, 25/9: 116, 26/9: 164, 3: 230}, 'D12': {2: 23, 23/11: 4, 24/11: 8, 25/11: 12, 26/11: 21, 27/11: 28, 28/11: 38, 29/11: 60, 30/11: 78, 31/11: 110, 32/11: 142, 3: 184}, 'D16E8': {2: 23, 31/15: 2, 32/15: 4, 11/5: 6, 34/15: 10, 7/3: 13, 12/5: 16, 37/15: 22, 38/15: 28, 13/5: 37, 8/3: 45, 41/15: 61, 14/5: 74, 43/15: 93, 44/15: 112, 3: 137}, 'D24': {2: 22, 47/23: 2, 48/23: 2, 49/23: 2, 50/23: 4, 51/23: 4, 52/23: 6, 53/23: 8, 54/23: 9, 55/23: 10, 56/23: 12, 57/23: 15, 58/23: 17, 59/23: 21, 60/23: 23, 61/23: 30, 62/23: 34, 63/23: 41, 64/23: 45, 65/23: 54, 66/23: 60, 67/23: 70, 68/23: 79, 3: 88}}\n"
     ]
    }
   ],
   "source": [
    "print(data_distances)"
   ]
  },
  {
   "cell_type": "code",
   "execution_count": 13,
   "metadata": {},
   "outputs": [],
   "source": [
    "del np_shell_1_around_zero"
   ]
  },
  {
   "cell_type": "markdown",
   "metadata": {},
   "source": [
    "**Second Shell**"
   ]
  },
  {
   "cell_type": "code",
   "execution_count": 14,
   "metadata": {},
   "outputs": [
    {
     "name": "stdout",
     "output_type": "stream",
     "text": [
      "(16773120, 24)\n"
     ]
    }
   ],
   "source": [
    "np_shell_2_around_zero = np.vstack(((np.load(folder+'shell2_shape1_around_zero.npy')).reshape(-1, 24), \n",
    "                                    np.load(folder+'shell2_shape2_around_zero.npy').reshape(-1, 24), \n",
    "                                    np.load(folder+'shell2_shape3_around_zero.npy').reshape(-1, 24), \n",
    "                                    np.load(folder+'shell2_shape4_around_zero.npy').reshape(-1, 24)))\n",
    "print(np_shell_2_around_zero.shape)"
   ]
  },
  {
   "cell_type": "code",
   "execution_count": 15,
   "metadata": {},
   "outputs": [
    {
     "data": {
      "application/vnd.jupyter.widget-view+json": {
       "model_id": "cefd7c7a05884942af845f86222795a6",
       "version_major": 2,
       "version_minor": 0
      },
      "text/plain": [
       "  0%|          | 0/23 [00:00<?, ?it/s]"
      ]
     },
     "metadata": {},
     "output_type": "display_data"
    }
   ],
   "source": [
    "for key in tqdm(deep_hole_dict):   \n",
    "    sqrd_max = 3*8*deep_hole_dict[key][1]^2\n",
    "    \n",
    "    differences = np_shell_2_around_zero*deep_hole_dict[key][1] - deep_hole_dict[key][0]  \n",
    "\n",
    "    squared_distances = np.sum(differences**2, axis=1) \n",
    "    \n",
    "    unique_distances, counts = np.unique(squared_distances, return_counts=True)\n",
    "    \n",
    "    mask = unique_distances <= sqrd_max  \n",
    "    \n",
    "    filtered_distances = unique_distances[mask]\n",
    "    filtered_counts = counts[mask]\n",
    "    \n",
    "    distance_counts = zip(filtered_distances, filtered_counts) #Can be iterated over only once!\n",
    "    \n",
    "    for (i,j) in distance_counts:\n",
    "        scaled_dist = Integer(int(i))/(8*deep_hole_dict[key][1]^2)\n",
    "        if scaled_dist in data_distances[key]:\n",
    "            data_distances[key][scaled_dist] += j\n",
    "        else:\n",
    "            data_distances[key][scaled_dist] = j"
   ]
  },
  {
   "cell_type": "code",
   "execution_count": 16,
   "metadata": {},
   "outputs": [
    {
     "name": "stdout",
     "output_type": "stream",
     "text": [
      "{'A1': {2: 47, 3: 4096}, 'A2': {2: 36, 8/3: 729}, 'A3': {2: 32, 5/2: 256, 3: 2040}, 'A4': {2: 30, 12/5: 125, 14/5: 750}, 'A6': {2: 28, 16/7: 49, 18/7: 196, 20/7: 686}, 'A8': {2: 27, 20/9: 27, 22/9: 81, 8/3: 243, 26/9: 594}, 'A12': {2: 26, 28/13: 13, 30/13: 26, 32/13: 65, 34/13: 130, 36/13: 260, 38/13: 468}, 'A7D5': {2: 28, 9/4: 32, 5/2: 128, 11/4: 384, 3: 1021}, 'A9D6': {2: 27, 11/5: 20, 12/5: 60, 13/5: 160, 14/5: 380, 3: 818}, 'A11D7E6': {2: 27, 13/6: 12, 7/3: 36, 5/2: 84, 8/3: 180, 17/6: 360, 3: 682}, 'A15D9': {2: 26, 17/8: 8, 9/4: 16, 19/8: 32, 5/2: 64, 21/8: 112, 11/4: 192, 23/8: 320, 3: 511}, 'A17E7': {2: 26, 19/9: 6, 20/9: 12, 7/3: 24, 22/9: 42, 23/9: 72, 8/3: 120, 25/9: 192, 26/9: 300, 3: 455}, 'E8': {2: 27, 32/15: 3, 11/5: 6, 34/15: 10, 7/3: 15, 12/5: 21, 37/15: 28, 38/15: 39, 13/5: 54, 8/3: 73, 41/15: 96, 14/5: 126, 43/15: 163, 44/15: 209, 3: 273, 31/15: 1}, 'E6': {2: 28, 13/6: 9, 7/3: 36, 5/2: 90, 8/3: 180, 17/6: 351, 3: 681}, 'A24': {2: 25, 52/25: 5, 54/25: 5, 56/25: 10, 58/25: 15, 12/5: 25, 62/25: 35, 64/25: 55, 66/25: 75, 68/25: 110, 14/5: 150, 72/25: 210, 74/25: 280}, 'D4': {2: 30, 7/3: 64, 8/3: 384, 3: 1344}, 'A5D4': {2: 29, 7/3: 72, 8/3: 360, 3: 1368}, 'D6': {2: 28, 11/5: 16, 12/5: 64, 13/5: 160, 14/5: 384, 3: 816}, 'D8': {2: 27, 15/7: 8, 16/7: 24, 17/7: 48, 18/7: 104, 19/7: 192, 20/7: 336, 3: 584}, 'D10E7': {2: 27, 19/9: 4, 20/9: 12, 7/3: 24, 22/9: 44, 23/9: 72, 8/3: 120, 25/9: 192, 26/9: 300, 3: 456}, 'D12': {2: 26, 23/11: 4, 24/11: 8, 25/11: 12, 26/11: 24, 27/11: 36, 28/11: 56, 29/11: 88, 30/11: 128, 31/11: 184, 32/11: 264, 3: 372}, 'D16E8': {2: 26, 31/15: 2, 32/15: 4, 11/5: 6, 34/15: 10, 7/3: 14, 12/5: 20, 37/15: 28, 38/15: 40, 13/5: 54, 8/3: 72, 41/15: 96, 14/5: 126, 43/15: 164, 44/15: 212, 3: 274}, 'D24': {2: 25, 47/23: 2, 48/23: 2, 49/23: 2, 50/23: 4, 51/23: 4, 52/23: 6, 53/23: 8, 54/23: 10, 55/23: 12, 56/23: 16, 57/23: 20, 58/23: 24, 59/23: 30, 60/23: 36, 61/23: 44, 62/23: 54, 63/23: 64, 64/23: 76, 65/23: 92, 66/23: 108, 67/23: 128, 68/23: 152, 3: 178}}\n"
     ]
    }
   ],
   "source": [
    "print(data_distances)"
   ]
  },
  {
   "cell_type": "code",
   "execution_count": 17,
   "metadata": {},
   "outputs": [],
   "source": [
    "del np_shell_2_around_zero"
   ]
  },
  {
   "cell_type": "markdown",
   "metadata": {},
   "source": [
    "**Third Shell**"
   ]
  },
  {
   "cell_type": "code",
   "execution_count": 18,
   "metadata": {},
   "outputs": [],
   "source": [
    "# Due to the size of the third shell, we need to use memory mapping to avoid loading the entire array into RAM\n",
    "memmap_array1 = np.load(folder+'shell3_shape1_around_zero.npy', mmap_mode='r')\n",
    "memmap_array2 = np.load(folder+'shell3_shape2_around_zero.npy', mmap_mode='r')\n",
    "memmap_array3 = np.load(folder+'shell3_shape3_around_zero.npy', mmap_mode='r')\n",
    "memmap_array4 = np.load(folder+'shell3_shape4_around_zero.npy', mmap_mode='r')\n",
    "memmap_array5 = np.load(folder+'shell3_shape5_around_zero.npy', mmap_mode='r')\n",
    "memmap_array6 = np.load(folder+'shell3_shape6_around_zero.npy', mmap_mode='r')\n",
    "memmap_array7 = np.load(folder+'shell3_shape7_around_zero.npy', mmap_mode='r')\n",
    "memmap_array8 = np.load(folder+'shell3_shape8_around_zero.npy', mmap_mode='r')"
   ]
  },
  {
   "cell_type": "code",
   "execution_count": 19,
   "metadata": {},
   "outputs": [],
   "source": [
    "shape_arrays = [memmap_array1.reshape(-1,24), memmap_array2.reshape(-1,24), memmap_array3.reshape(-1,24), \n",
    "                memmap_array4.reshape(-1,24), memmap_array5.reshape(-1,24), memmap_array6.reshape(-1,24), \n",
    "                memmap_array7.reshape(-1,24), memmap_array8.reshape(-1,24)]"
   ]
  },
  {
   "cell_type": "code",
   "execution_count": 20,
   "metadata": {},
   "outputs": [
    {
     "data": {
      "text/plain": [
       "(48, 24)"
      ]
     },
     "execution_count": 20,
     "metadata": {},
     "output_type": "execute_result"
    }
   ],
   "source": [
    "chunk_size = 1600000\n",
    "shape_arrays[7].shape"
   ]
  },
  {
   "cell_type": "code",
   "execution_count": 21,
   "metadata": {},
   "outputs": [
    {
     "data": {
      "application/vnd.jupyter.widget-view+json": {
       "model_id": "f9f0190d7bc446378ca1d7873af8c475",
       "version_major": 2,
       "version_minor": 0
      },
      "text/plain": [
       "  0%|          | 0/23 [00:00<?, ?it/s]"
      ]
     },
     "metadata": {},
     "output_type": "display_data"
    },
    {
     "data": {
      "application/vnd.jupyter.widget-view+json": {
       "model_id": "588b4adaf7b144ea8dba1be7ef669f12",
       "version_major": 2,
       "version_minor": 0
      },
      "text/plain": [
       "  0%|          | 0/8 [00:00<?, ?it/s]"
      ]
     },
     "metadata": {},
     "output_type": "display_data"
    },
    {
     "data": {
      "application/vnd.jupyter.widget-view+json": {
       "model_id": "446810b1e6754c5e9e56d451ba5967a7",
       "version_major": 2,
       "version_minor": 0
      },
      "text/plain": [
       "  0%|          | 0/8 [00:00<?, ?it/s]"
      ]
     },
     "metadata": {},
     "output_type": "display_data"
    },
    {
     "data": {
      "application/vnd.jupyter.widget-view+json": {
       "model_id": "0053cd3ca22248d4a993d7a7b841bd56",
       "version_major": 2,
       "version_minor": 0
      },
      "text/plain": [
       "  0%|          | 0/8 [00:00<?, ?it/s]"
      ]
     },
     "metadata": {},
     "output_type": "display_data"
    },
    {
     "data": {
      "application/vnd.jupyter.widget-view+json": {
       "model_id": "913851344be94d068859bdb9a0f7008e",
       "version_major": 2,
       "version_minor": 0
      },
      "text/plain": [
       "  0%|          | 0/8 [00:00<?, ?it/s]"
      ]
     },
     "metadata": {},
     "output_type": "display_data"
    },
    {
     "data": {
      "application/vnd.jupyter.widget-view+json": {
       "model_id": "280f8ad365224090882948043cef67b3",
       "version_major": 2,
       "version_minor": 0
      },
      "text/plain": [
       "  0%|          | 0/8 [00:00<?, ?it/s]"
      ]
     },
     "metadata": {},
     "output_type": "display_data"
    },
    {
     "data": {
      "application/vnd.jupyter.widget-view+json": {
       "model_id": "7193ce59c854498680b08b2e5adaa3b6",
       "version_major": 2,
       "version_minor": 0
      },
      "text/plain": [
       "  0%|          | 0/8 [00:00<?, ?it/s]"
      ]
     },
     "metadata": {},
     "output_type": "display_data"
    },
    {
     "data": {
      "application/vnd.jupyter.widget-view+json": {
       "model_id": "83ee383c98d54ed887ec9114fcf214bd",
       "version_major": 2,
       "version_minor": 0
      },
      "text/plain": [
       "  0%|          | 0/8 [00:00<?, ?it/s]"
      ]
     },
     "metadata": {},
     "output_type": "display_data"
    },
    {
     "data": {
      "application/vnd.jupyter.widget-view+json": {
       "model_id": "1c7cbaf1101548c5b347a9e1a8163238",
       "version_major": 2,
       "version_minor": 0
      },
      "text/plain": [
       "  0%|          | 0/8 [00:00<?, ?it/s]"
      ]
     },
     "metadata": {},
     "output_type": "display_data"
    },
    {
     "data": {
      "application/vnd.jupyter.widget-view+json": {
       "model_id": "40ed551ddb3e488496287936de0c5b03",
       "version_major": 2,
       "version_minor": 0
      },
      "text/plain": [
       "  0%|          | 0/8 [00:00<?, ?it/s]"
      ]
     },
     "metadata": {},
     "output_type": "display_data"
    },
    {
     "data": {
      "application/vnd.jupyter.widget-view+json": {
       "model_id": "36e5b5f6962b4a03b6baee886fd46cdb",
       "version_major": 2,
       "version_minor": 0
      },
      "text/plain": [
       "  0%|          | 0/8 [00:00<?, ?it/s]"
      ]
     },
     "metadata": {},
     "output_type": "display_data"
    },
    {
     "data": {
      "application/vnd.jupyter.widget-view+json": {
       "model_id": "71420534aaaf457990f440b67f242f9f",
       "version_major": 2,
       "version_minor": 0
      },
      "text/plain": [
       "  0%|          | 0/8 [00:00<?, ?it/s]"
      ]
     },
     "metadata": {},
     "output_type": "display_data"
    },
    {
     "data": {
      "application/vnd.jupyter.widget-view+json": {
       "model_id": "3804fca01d9542b2a0e3032ce2509917",
       "version_major": 2,
       "version_minor": 0
      },
      "text/plain": [
       "  0%|          | 0/8 [00:00<?, ?it/s]"
      ]
     },
     "metadata": {},
     "output_type": "display_data"
    },
    {
     "data": {
      "application/vnd.jupyter.widget-view+json": {
       "model_id": "d8a7b6ff7de34676ba778defd6087d00",
       "version_major": 2,
       "version_minor": 0
      },
      "text/plain": [
       "  0%|          | 0/8 [00:00<?, ?it/s]"
      ]
     },
     "metadata": {},
     "output_type": "display_data"
    },
    {
     "data": {
      "application/vnd.jupyter.widget-view+json": {
       "model_id": "f2031b836f3a48a9933db4246475f43a",
       "version_major": 2,
       "version_minor": 0
      },
      "text/plain": [
       "  0%|          | 0/8 [00:00<?, ?it/s]"
      ]
     },
     "metadata": {},
     "output_type": "display_data"
    },
    {
     "data": {
      "application/vnd.jupyter.widget-view+json": {
       "model_id": "94278bdab6ea441b98c88b65e6c7ce9b",
       "version_major": 2,
       "version_minor": 0
      },
      "text/plain": [
       "  0%|          | 0/8 [00:00<?, ?it/s]"
      ]
     },
     "metadata": {},
     "output_type": "display_data"
    },
    {
     "data": {
      "application/vnd.jupyter.widget-view+json": {
       "model_id": "8c59ad435e014052be283e59f7fd1c5b",
       "version_major": 2,
       "version_minor": 0
      },
      "text/plain": [
       "  0%|          | 0/8 [00:00<?, ?it/s]"
      ]
     },
     "metadata": {},
     "output_type": "display_data"
    },
    {
     "data": {
      "application/vnd.jupyter.widget-view+json": {
       "model_id": "0d78a4976b6c49359db76d6a9b686850",
       "version_major": 2,
       "version_minor": 0
      },
      "text/plain": [
       "  0%|          | 0/8 [00:00<?, ?it/s]"
      ]
     },
     "metadata": {},
     "output_type": "display_data"
    },
    {
     "data": {
      "application/vnd.jupyter.widget-view+json": {
       "model_id": "f05e0b2dd9e54f30a363a8490fa0ab1a",
       "version_major": 2,
       "version_minor": 0
      },
      "text/plain": [
       "  0%|          | 0/8 [00:00<?, ?it/s]"
      ]
     },
     "metadata": {},
     "output_type": "display_data"
    },
    {
     "data": {
      "application/vnd.jupyter.widget-view+json": {
       "model_id": "22063377ea75411c99ba97a9642392ad",
       "version_major": 2,
       "version_minor": 0
      },
      "text/plain": [
       "  0%|          | 0/8 [00:00<?, ?it/s]"
      ]
     },
     "metadata": {},
     "output_type": "display_data"
    },
    {
     "data": {
      "application/vnd.jupyter.widget-view+json": {
       "model_id": "7eb245bd73174880ac2034f71aa7c953",
       "version_major": 2,
       "version_minor": 0
      },
      "text/plain": [
       "  0%|          | 0/8 [00:00<?, ?it/s]"
      ]
     },
     "metadata": {},
     "output_type": "display_data"
    },
    {
     "data": {
      "application/vnd.jupyter.widget-view+json": {
       "model_id": "fe1932cb41744aaba1eca252af0b40d0",
       "version_major": 2,
       "version_minor": 0
      },
      "text/plain": [
       "  0%|          | 0/8 [00:00<?, ?it/s]"
      ]
     },
     "metadata": {},
     "output_type": "display_data"
    },
    {
     "data": {
      "application/vnd.jupyter.widget-view+json": {
       "model_id": "948b10033f29468c99098b04cfab83fd",
       "version_major": 2,
       "version_minor": 0
      },
      "text/plain": [
       "  0%|          | 0/8 [00:00<?, ?it/s]"
      ]
     },
     "metadata": {},
     "output_type": "display_data"
    },
    {
     "data": {
      "application/vnd.jupyter.widget-view+json": {
       "model_id": "e957d2100a5449e2aba2dac46c442b96",
       "version_major": 2,
       "version_minor": 0
      },
      "text/plain": [
       "  0%|          | 0/8 [00:00<?, ?it/s]"
      ]
     },
     "metadata": {},
     "output_type": "display_data"
    }
   ],
   "source": [
    "for key in tqdm(deep_hole_dict):\n",
    "    sqrd_max = 3*8*deep_hole_dict[key][1]^2\n",
    "    for array in tqdm(shape_arrays):\n",
    "        for i in range(0,array.shape[0],chunk_size):\n",
    "            \n",
    "            differences = array[i:i + chunk_size, :]*deep_hole_dict[key][1] - deep_hole_dict[key][0]  \n",
    "\n",
    "            squared_distances = np.sum(differences**2, axis=1) \n",
    "\n",
    "            unique_distances, counts = np.unique(squared_distances, return_counts=True)\n",
    "\n",
    "            mask = unique_distances <= sqrd_max \n",
    "\n",
    "            filtered_distances = unique_distances[mask]\n",
    "            filtered_counts = counts[mask]\n",
    "\n",
    "            distance_counts = zip(filtered_distances, filtered_counts) #Can be iterated over only once!\n",
    "\n",
    "            for (i,j) in distance_counts:\n",
    "                scaled_dist = Integer(int(i))/(8*deep_hole_dict[key][1]^2)\n",
    "                if scaled_dist in data_distances[key]:\n",
    "                    data_distances[key][scaled_dist] += j\n",
    "                else:\n",
    "                    data_distances[key][scaled_dist] = j"
   ]
  },
  {
   "cell_type": "code",
   "execution_count": 22,
   "metadata": {},
   "outputs": [
    {
     "name": "stdout",
     "output_type": "stream",
     "text": [
      "{'A1': {2: 48, 3: 4096}, 'A2': {2: 36, 8/3: 729}, 'A3': {2: 32, 5/2: 256, 3: 2048}, 'A4': {2: 30, 12/5: 125, 14/5: 750}, 'A6': {2: 28, 16/7: 49, 18/7: 196, 20/7: 686}, 'A8': {2: 27, 20/9: 27, 22/9: 81, 8/3: 243, 26/9: 594}, 'A12': {2: 26, 28/13: 13, 30/13: 26, 32/13: 65, 34/13: 130, 36/13: 260, 38/13: 468}, 'A7D5': {2: 28, 9/4: 32, 5/2: 128, 11/4: 384, 3: 1024}, 'A9D6': {2: 27, 11/5: 20, 12/5: 60, 13/5: 160, 14/5: 380, 3: 820}, 'A11D7E6': {2: 27, 13/6: 12, 7/3: 36, 5/2: 84, 8/3: 180, 17/6: 360, 3: 684}, 'A15D9': {2: 26, 17/8: 8, 9/4: 16, 19/8: 32, 5/2: 64, 21/8: 112, 11/4: 192, 23/8: 320, 3: 512}, 'A17E7': {2: 26, 19/9: 6, 20/9: 12, 7/3: 24, 22/9: 42, 23/9: 72, 8/3: 120, 25/9: 192, 26/9: 300, 3: 456}, 'E8': {2: 27, 32/15: 3, 11/5: 6, 34/15: 10, 7/3: 15, 12/5: 21, 37/15: 28, 38/15: 39, 13/5: 54, 8/3: 73, 41/15: 96, 14/5: 126, 43/15: 163, 44/15: 210, 3: 273, 31/15: 1}, 'E6': {2: 28, 13/6: 9, 7/3: 36, 5/2: 90, 8/3: 180, 17/6: 351, 3: 684}, 'A24': {2: 25, 52/25: 5, 54/25: 5, 56/25: 10, 58/25: 15, 12/5: 25, 62/25: 35, 64/25: 55, 66/25: 75, 68/25: 110, 14/5: 150, 72/25: 210, 74/25: 280}, 'D4': {2: 30, 7/3: 64, 8/3: 384, 3: 1344}, 'A5D4': {2: 29, 7/3: 72, 8/3: 360, 3: 1368}, 'D6': {2: 28, 11/5: 16, 12/5: 64, 13/5: 160, 14/5: 384, 3: 816}, 'D8': {2: 27, 15/7: 8, 16/7: 24, 17/7: 48, 18/7: 104, 19/7: 192, 20/7: 336, 3: 584}, 'D10E7': {2: 27, 19/9: 4, 20/9: 12, 7/3: 24, 22/9: 44, 23/9: 72, 8/3: 120, 25/9: 192, 26/9: 300, 3: 456}, 'D12': {2: 26, 23/11: 4, 24/11: 8, 25/11: 12, 26/11: 24, 27/11: 36, 28/11: 56, 29/11: 88, 30/11: 128, 31/11: 184, 32/11: 264, 3: 372}, 'D16E8': {2: 26, 31/15: 2, 32/15: 4, 11/5: 6, 34/15: 10, 7/3: 14, 12/5: 20, 37/15: 28, 38/15: 40, 13/5: 54, 8/3: 72, 41/15: 96, 14/5: 126, 43/15: 164, 44/15: 212, 3: 274}, 'D24': {2: 25, 47/23: 2, 48/23: 2, 49/23: 2, 50/23: 4, 51/23: 4, 52/23: 6, 53/23: 8, 54/23: 10, 55/23: 12, 56/23: 16, 57/23: 20, 58/23: 24, 59/23: 30, 60/23: 36, 61/23: 44, 62/23: 54, 63/23: 64, 64/23: 76, 65/23: 92, 66/23: 108, 67/23: 128, 68/23: 152, 3: 178}}\n"
     ]
    }
   ],
   "source": [
    "print(data_distances)"
   ]
  },
  {
   "cell_type": "code",
   "execution_count": 23,
   "metadata": {},
   "outputs": [],
   "source": [
    "del memmap_array1\n",
    "del memmap_array2\n",
    "del memmap_array3\n",
    "del memmap_array4\n",
    "del memmap_array5\n",
    "del memmap_array6\n",
    "del memmap_array7\n",
    "del memmap_array8"
   ]
  },
  {
   "cell_type": "markdown",
   "metadata": {},
   "source": [
    "----------------------------------"
   ]
  },
  {
   "cell_type": "markdown",
   "metadata": {},
   "source": [
    "Save the data."
   ]
  },
  {
   "cell_type": "code",
   "execution_count": 24,
   "metadata": {},
   "outputs": [],
   "source": [
    "# Save\n",
    "with open(\"size_shells_up_to_sq_dist_3_dh.pkl\", \"wb\") as f:\n",
    "    pickle.dump(data_distances, f)"
   ]
  },
  {
   "cell_type": "markdown",
   "metadata": {},
   "source": [
    "--------------------------------------------------------------"
   ]
  },
  {
   "cell_type": "markdown",
   "metadata": {},
   "source": [
    "List of the shellls and their sizes for each deep hole sorted by increasing distance."
   ]
  },
  {
   "cell_type": "code",
   "execution_count": 34,
   "metadata": {},
   "outputs": [
    {
     "name": "stdout",
     "output_type": "stream",
     "text": [
      "Deep hole: A1\n",
      "[(2, 48), (3, 4096)]\n",
      "Total amount:  4144\n",
      "\n",
      "Deep hole: A2\n",
      "[(2, 36), (8/3, 729)]\n",
      "Total amount:  765\n",
      "\n",
      "Deep hole: A3\n",
      "[(2, 32), (5/2, 256), (3, 2048)]\n",
      "Total amount:  2336\n",
      "\n",
      "Deep hole: A4\n",
      "[(2, 30), (12/5, 125), (14/5, 750)]\n",
      "Total amount:  905\n",
      "\n",
      "Deep hole: A6\n",
      "[(2, 28), (16/7, 49), (18/7, 196), (20/7, 686)]\n",
      "Total amount:  959\n",
      "\n",
      "Deep hole: A8\n",
      "[(2, 27), (20/9, 27), (22/9, 81), (8/3, 243), (26/9, 594)]\n",
      "Total amount:  972\n",
      "\n",
      "Deep hole: A12\n",
      "[(2, 26), (28/13, 13), (30/13, 26), (32/13, 65), (34/13, 130), (36/13, 260), (38/13, 468)]\n",
      "Total amount:  988\n",
      "\n",
      "Deep hole: A7D5\n",
      "[(2, 28), (9/4, 32), (5/2, 128), (11/4, 384), (3, 1024)]\n",
      "Total amount:  1596\n",
      "\n",
      "Deep hole: A9D6\n",
      "[(2, 27), (11/5, 20), (12/5, 60), (13/5, 160), (14/5, 380), (3, 820)]\n",
      "Total amount:  1467\n",
      "\n",
      "Deep hole: A11D7E6\n",
      "[(2, 27), (13/6, 12), (7/3, 36), (5/2, 84), (8/3, 180), (17/6, 360), (3, 684)]\n",
      "Total amount:  1383\n",
      "\n",
      "Deep hole: A15D9\n",
      "[(2, 26), (17/8, 8), (9/4, 16), (19/8, 32), (5/2, 64), (21/8, 112), (11/4, 192), (23/8, 320), (3, 512)]\n",
      "Total amount:  1282\n",
      "\n",
      "Deep hole: A17E7\n",
      "[(2, 26), (19/9, 6), (20/9, 12), (7/3, 24), (22/9, 42), (23/9, 72), (8/3, 120), (25/9, 192), (26/9, 300), (3, 456)]\n",
      "Total amount:  1250\n",
      "\n",
      "Deep hole: E8\n",
      "[(2, 27), (31/15, 1), (32/15, 3), (11/5, 6), (34/15, 10), (7/3, 15), (12/5, 21), (37/15, 28), (38/15, 39), (13/5, 54), (8/3, 73), (41/15, 96), (14/5, 126), (43/15, 163), (44/15, 210), (3, 273)]\n",
      "Total amount:  1145\n",
      "\n",
      "Deep hole: E6\n",
      "[(2, 28), (13/6, 9), (7/3, 36), (5/2, 90), (8/3, 180), (17/6, 351), (3, 684)]\n",
      "Total amount:  1378\n",
      "\n",
      "Deep hole: A24\n",
      "[(2, 25), (52/25, 5), (54/25, 5), (56/25, 10), (58/25, 15), (12/5, 25), (62/25, 35), (64/25, 55), (66/25, 75), (68/25, 110), (14/5, 150), (72/25, 210), (74/25, 280)]\n",
      "Total amount:  1000\n",
      "\n",
      "Deep hole: D4\n",
      "[(2, 30), (7/3, 64), (8/3, 384), (3, 1344)]\n",
      "Total amount:  1822\n",
      "\n",
      "Deep hole: A5D4\n",
      "[(2, 29), (7/3, 72), (8/3, 360), (3, 1368)]\n",
      "Total amount:  1829\n",
      "\n",
      "Deep hole: D6\n",
      "[(2, 28), (11/5, 16), (12/5, 64), (13/5, 160), (14/5, 384), (3, 816)]\n",
      "Total amount:  1468\n",
      "\n",
      "Deep hole: D8\n",
      "[(2, 27), (15/7, 8), (16/7, 24), (17/7, 48), (18/7, 104), (19/7, 192), (20/7, 336), (3, 584)]\n",
      "Total amount:  1323\n",
      "\n",
      "Deep hole: D10E7\n",
      "[(2, 27), (19/9, 4), (20/9, 12), (7/3, 24), (22/9, 44), (23/9, 72), (8/3, 120), (25/9, 192), (26/9, 300), (3, 456)]\n",
      "Total amount:  1251\n",
      "\n",
      "Deep hole: D12\n",
      "[(2, 26), (23/11, 4), (24/11, 8), (25/11, 12), (26/11, 24), (27/11, 36), (28/11, 56), (29/11, 88), (30/11, 128), (31/11, 184), (32/11, 264), (3, 372)]\n",
      "Total amount:  1202\n",
      "\n",
      "Deep hole: D16E8\n",
      "[(2, 26), (31/15, 2), (32/15, 4), (11/5, 6), (34/15, 10), (7/3, 14), (12/5, 20), (37/15, 28), (38/15, 40), (13/5, 54), (8/3, 72), (41/15, 96), (14/5, 126), (43/15, 164), (44/15, 212), (3, 274)]\n",
      "Total amount:  1148\n",
      "\n",
      "Deep hole: D24\n",
      "[(2, 25), (47/23, 2), (48/23, 2), (49/23, 2), (50/23, 4), (51/23, 4), (52/23, 6), (53/23, 8), (54/23, 10), (55/23, 12), (56/23, 16), (57/23, 20), (58/23, 24), (59/23, 30), (60/23, 36), (61/23, 44), (62/23, 54), (63/23, 64), (64/23, 76), (65/23, 92), (66/23, 108), (67/23, 128), (68/23, 152), (3, 178)]\n",
      "Total amount:  1097\n",
      "\n"
     ]
    }
   ],
   "source": [
    "for key in data_distances:\n",
    "    total = sum(data_distances[key].values())\n",
    "    print(f\"Deep hole: {key}\")\n",
    "    print(sorted(data_distances[key].items(), key=lambda x: x[0], reverse=False))\n",
    "    print(f\"Total amount:  {total}\")\n",
    "    print(\"\")"
   ]
  },
  {
   "cell_type": "markdown",
   "metadata": {},
   "source": [
    "---------------------------------------------------------------------------------------------"
   ]
  }
 ],
 "metadata": {
  "kernelspec": {
   "display_name": "SageMath 9.3",
   "language": "sage",
   "name": "sagemath"
  },
  "language_info": {
   "codemirror_mode": {
    "name": "ipython",
    "version": 3
   },
   "file_extension": ".py",
   "mimetype": "text/x-python",
   "name": "python",
   "nbconvert_exporter": "python",
   "pygments_lexer": "ipython3",
   "version": "3.7.10"
  },
  "widgets": {
   "application/vnd.jupyter.widget-state+json": {
    "state": {
     "0053cd3ca22248d4a993d7a7b841bd56": {
      "model_module": "@jupyter-widgets/controls",
      "model_module_version": "1.5.0",
      "model_name": "HBoxModel",
      "state": {
       "children": [
        "IPY_MODEL_7c4bb1c92a7a4e81a7ff64cf61357b9e",
        "IPY_MODEL_7267d801cc9b4e838019d12837fb068a",
        "IPY_MODEL_303f210e6ccb4ba89580aff9ff2aa97e"
       ],
       "layout": "IPY_MODEL_313d4cdc28794457b1c968ff6f2b9d0f"
      }
     },
     "0059e27dc38d4b8db1683f526f959b0d": {
      "model_module": "@jupyter-widgets/controls",
      "model_module_version": "1.5.0",
      "model_name": "DescriptionStyleModel",
      "state": {
       "description_width": ""
      }
     },
     "008418fd3a02475491ca224aa96b072b": {
      "model_module": "@jupyter-widgets/controls",
      "model_module_version": "1.5.0",
      "model_name": "DescriptionStyleModel",
      "state": {
       "description_width": ""
      }
     },
     "00a49d049c7446c8a896b3a7f2fdb96e": {
      "model_module": "@jupyter-widgets/base",
      "model_module_version": "1.2.0",
      "model_name": "LayoutModel",
      "state": {}
     },
     "00b27cc0b7dd429db46621bf434b5636": {
      "model_module": "@jupyter-widgets/base",
      "model_module_version": "1.2.0",
      "model_name": "LayoutModel",
      "state": {}
     },
     "00c2504e6704410e9457ccdbc2c7085a": {
      "model_module": "@jupyter-widgets/controls",
      "model_module_version": "1.5.0",
      "model_name": "HTMLModel",
      "state": {
       "layout": "IPY_MODEL_b1ace5ecafd74eafa968b26ae25cdb5d",
       "style": "IPY_MODEL_0b674c114e8846bbab4d83f55a6bd803",
       "value": "100%"
      }
     },
     "00cddb69467a44339df899b6a58a1b85": {
      "model_module": "@jupyter-widgets/base",
      "model_module_version": "1.2.0",
      "model_name": "LayoutModel",
      "state": {}
     },
     "00fe98af2bf548aa8510bbe56d01b61f": {
      "model_module": "@jupyter-widgets/base",
      "model_module_version": "1.2.0",
      "model_name": "LayoutModel",
      "state": {}
     },
     "015ecf41ea2048e5a459d0aec1a1e2b0": {
      "model_module": "@jupyter-widgets/controls",
      "model_module_version": "1.5.0",
      "model_name": "HTMLModel",
      "state": {
       "layout": "IPY_MODEL_18bdf5e3d38a4355bc898912da8f9243",
       "style": "IPY_MODEL_461f607b6d0047d496c4162166f338f0",
       "value": "100%"
      }
     },
     "0167ded863ee49a688e850e966df60a4": {
      "model_module": "@jupyter-widgets/controls",
      "model_module_version": "1.5.0",
      "model_name": "DescriptionStyleModel",
      "state": {
       "description_width": ""
      }
     },
     "01a732b9fa204f0596413326bbd67ed4": {
      "model_module": "@jupyter-widgets/base",
      "model_module_version": "1.2.0",
      "model_name": "LayoutModel",
      "state": {}
     },
     "01c7b5ded79a40ff912564e67316f226": {
      "model_module": "@jupyter-widgets/controls",
      "model_module_version": "1.5.0",
      "model_name": "FloatProgressModel",
      "state": {
       "bar_style": "success",
       "layout": "IPY_MODEL_b3aa3b072c384b759a5dcba8e7c71ede",
       "max": 8,
       "style": "IPY_MODEL_909eb226fd1f47808fdf15a42799bd01",
       "value": 8
      }
     },
     "01e0830a5b7247918b9c858862325cf9": {
      "model_module": "@jupyter-widgets/controls",
      "model_module_version": "1.5.0",
      "model_name": "HTMLModel",
      "state": {
       "layout": "IPY_MODEL_3bf62153b6b44d739c72a49e2afc645b",
       "style": "IPY_MODEL_ef1a646f730f4bf3a6e9e7de5fc17480",
       "value": " 23/23 [00:00&lt;00:00, 878.67it/s]"
      }
     },
     "01ef90ce57a649579072e0df47837688": {
      "model_module": "@jupyter-widgets/base",
      "model_module_version": "1.2.0",
      "model_name": "LayoutModel",
      "state": {}
     },
     "021bf6ab00d749cbb82b7c6f09782143": {
      "model_module": "@jupyter-widgets/base",
      "model_module_version": "1.2.0",
      "model_name": "LayoutModel",
      "state": {}
     },
     "026315ac412545aca62173fabf17925e": {
      "model_module": "@jupyter-widgets/controls",
      "model_module_version": "1.5.0",
      "model_name": "DescriptionStyleModel",
      "state": {
       "description_width": ""
      }
     },
     "02632f0e6c044f5bb37cde108ca457f3": {
      "model_module": "@jupyter-widgets/base",
      "model_module_version": "1.2.0",
      "model_name": "LayoutModel",
      "state": {}
     },
     "027310550c2e4375a76432ec752f748b": {
      "model_module": "@jupyter-widgets/controls",
      "model_module_version": "1.5.0",
      "model_name": "ProgressStyleModel",
      "state": {
       "description_width": ""
      }
     },
     "0290a2cc709e432a9fe89fc40c61c042": {
      "model_module": "@jupyter-widgets/controls",
      "model_module_version": "1.5.0",
      "model_name": "HTMLModel",
      "state": {
       "layout": "IPY_MODEL_0c180d5ac2f84b708e051d1200f6133e",
       "style": "IPY_MODEL_d24c31724a704557b2d09038579c3857",
       "value": " 23/23 [00:02&lt;00:00,  8.47it/s]"
      }
     },
     "02bf0d99c6624b33afe01067d9020406": {
      "model_module": "@jupyter-widgets/base",
      "model_module_version": "1.2.0",
      "model_name": "LayoutModel",
      "state": {}
     },
     "02f582840d3048ef99fbf088ee91f902": {
      "model_module": "@jupyter-widgets/controls",
      "model_module_version": "1.5.0",
      "model_name": "ProgressStyleModel",
      "state": {
       "description_width": ""
      }
     },
     "030faeef398a4b46965077a1a8bf8a3a": {
      "model_module": "@jupyter-widgets/controls",
      "model_module_version": "1.5.0",
      "model_name": "HTMLModel",
      "state": {
       "layout": "IPY_MODEL_f6cd314389b64f7ab17531e72128f896",
       "style": "IPY_MODEL_b9115e32037743b78e9b0126602c5afc",
       "value": "100%"
      }
     },
     "037b96f9b5ad407faeeae22c5100ac1b": {
      "model_module": "@jupyter-widgets/controls",
      "model_module_version": "1.5.0",
      "model_name": "DescriptionStyleModel",
      "state": {
       "description_width": ""
      }
     },
     "038ff020088948b8bd7edcad10259f67": {
      "model_module": "@jupyter-widgets/base",
      "model_module_version": "1.2.0",
      "model_name": "LayoutModel",
      "state": {}
     },
     "03b9e538d81848b7990acd278b5ac548": {
      "model_module": "@jupyter-widgets/controls",
      "model_module_version": "1.5.0",
      "model_name": "HTMLModel",
      "state": {
       "layout": "IPY_MODEL_e0166c2977e748f480ad5a9aa81d92ea",
       "style": "IPY_MODEL_6049568f16524346a36d7b412ed25d6c",
       "value": "  0%"
      }
     },
     "03d85388b517463dad0263084884d1a8": {
      "model_module": "@jupyter-widgets/controls",
      "model_module_version": "1.5.0",
      "model_name": "DescriptionStyleModel",
      "state": {
       "description_width": ""
      }
     },
     "05a10d7de78b411e956f81cd396be17b": {
      "model_module": "@jupyter-widgets/base",
      "model_module_version": "1.2.0",
      "model_name": "LayoutModel",
      "state": {}
     },
     "05a970c7efd34eae8cc470abdc24d1f6": {
      "model_module": "@jupyter-widgets/controls",
      "model_module_version": "1.5.0",
      "model_name": "HTMLModel",
      "state": {
       "layout": "IPY_MODEL_7cf1c98dabac48e489c7fdee09781f02",
       "style": "IPY_MODEL_1175b896927448369a7fb6c69d0f6c05",
       "value": " 8/8 [15:59&lt;00:00, 101.42s/it]"
      }
     },
     "05cb2ebeed6a49d4ae3d9961c807dc94": {
      "model_module": "@jupyter-widgets/controls",
      "model_module_version": "1.5.0",
      "model_name": "HTMLModel",
      "state": {
       "layout": "IPY_MODEL_d1d164586a8e45fa834096ac6780b8b2",
       "style": "IPY_MODEL_bd88fbc0ecd44cb4bb69e28d8a9dc4e7",
       "value": " 0/8 [00:25&lt;?, ?it/s]"
      }
     },
     "05fb16e8b1364868b0018edfed6fbee2": {
      "model_module": "@jupyter-widgets/base",
      "model_module_version": "1.2.0",
      "model_name": "LayoutModel",
      "state": {}
     },
     "06a8273366264f51a62ef880eb27152f": {
      "model_module": "@jupyter-widgets/controls",
      "model_module_version": "1.5.0",
      "model_name": "ProgressStyleModel",
      "state": {
       "description_width": ""
      }
     },
     "06e52c636c3e4773a8ed364701ff75ce": {
      "model_module": "@jupyter-widgets/controls",
      "model_module_version": "1.5.0",
      "model_name": "HTMLModel",
      "state": {
       "layout": "IPY_MODEL_8a16077979ab42b2af0d3ba7f5b6e412",
       "style": "IPY_MODEL_d7d1e1125da34485b8b27c258a7f7a40",
       "value": "100%"
      }
     },
     "06ed956249924c9983d4dae1743a72af": {
      "model_module": "@jupyter-widgets/controls",
      "model_module_version": "1.5.0",
      "model_name": "DescriptionStyleModel",
      "state": {
       "description_width": ""
      }
     },
     "071107c0c6c64cd5a8bf20987ce3e982": {
      "model_module": "@jupyter-widgets/base",
      "model_module_version": "1.2.0",
      "model_name": "LayoutModel",
      "state": {}
     },
     "0722a03bf9594382a7a77ffb5fbe1c3e": {
      "model_module": "@jupyter-widgets/controls",
      "model_module_version": "1.5.0",
      "model_name": "DescriptionStyleModel",
      "state": {
       "description_width": ""
      }
     },
     "0741c7101b184bccb6f826e897365981": {
      "model_module": "@jupyter-widgets/controls",
      "model_module_version": "1.5.0",
      "model_name": "HTMLModel",
      "state": {
       "layout": "IPY_MODEL_1a48ec4ed4ad40cf9ed51f61a321df31",
       "style": "IPY_MODEL_f9feb8bc1d4d4e71911ce849e3edfa49",
       "value": "  0%"
      }
     },
     "077963a64f44482f86586073322005c0": {
      "model_module": "@jupyter-widgets/base",
      "model_module_version": "1.2.0",
      "model_name": "LayoutModel",
      "state": {}
     },
     "0789033df7ab473ab63dc700da0bde0b": {
      "model_module": "@jupyter-widgets/controls",
      "model_module_version": "1.5.0",
      "model_name": "FloatProgressModel",
      "state": {
       "bar_style": "success",
       "layout": "IPY_MODEL_b249bf37e83440a8983bb6a64b2633ad",
       "max": 8,
       "style": "IPY_MODEL_5629cbe494d6420793f57deca2c1c56f",
       "value": 8
      }
     },
     "07b5fbe640ad410cb63805b2519ae30a": {
      "model_module": "@jupyter-widgets/controls",
      "model_module_version": "1.5.0",
      "model_name": "ProgressStyleModel",
      "state": {
       "description_width": ""
      }
     },
     "07c70a8b87f346c0b67fcda4bd8311ea": {
      "model_module": "@jupyter-widgets/controls",
      "model_module_version": "1.5.0",
      "model_name": "ProgressStyleModel",
      "state": {
       "description_width": ""
      }
     },
     "07cc6fcd933147fea0f3b0046f2412e7": {
      "model_module": "@jupyter-widgets/controls",
      "model_module_version": "1.5.0",
      "model_name": "HTMLModel",
      "state": {
       "layout": "IPY_MODEL_d480e6d5513b4e049d5ff6945939933f",
       "style": "IPY_MODEL_7ea2a68d64094e2482c5fb7bd43ff862",
       "value": "100%"
      }
     },
     "07cdb51e96474b529cb21f1706b067f0": {
      "model_module": "@jupyter-widgets/controls",
      "model_module_version": "1.5.0",
      "model_name": "DescriptionStyleModel",
      "state": {
       "description_width": ""
      }
     },
     "085d6c20d01248e9b2e848bfc0079ebd": {
      "model_module": "@jupyter-widgets/base",
      "model_module_version": "1.2.0",
      "model_name": "LayoutModel",
      "state": {}
     },
     "0871f88f700341ff8a026b674c784782": {
      "model_module": "@jupyter-widgets/controls",
      "model_module_version": "1.5.0",
      "model_name": "FloatProgressModel",
      "state": {
       "bar_style": "success",
       "layout": "IPY_MODEL_e200625de9c4496a8cc5da6eb602637f",
       "max": 8,
       "style": "IPY_MODEL_b56cbccc98f74c83831afa432d436e1b",
       "value": 8
      }
     },
     "08a469fe19944df6a60f3dcd0f7f8b05": {
      "model_module": "@jupyter-widgets/base",
      "model_module_version": "1.2.0",
      "model_name": "LayoutModel",
      "state": {}
     },
     "08b78e5785c948ba887c1ac6dd25a058": {
      "model_module": "@jupyter-widgets/controls",
      "model_module_version": "1.5.0",
      "model_name": "DescriptionStyleModel",
      "state": {
       "description_width": ""
      }
     },
     "08df7ecb8b344f919c1f8104fef3fcd9": {
      "model_module": "@jupyter-widgets/controls",
      "model_module_version": "1.5.0",
      "model_name": "HTMLModel",
      "state": {
       "layout": "IPY_MODEL_7c2d864416204d5fba7d88fcd18248ac",
       "style": "IPY_MODEL_7b2d260f63e54c95809a1f2ee062d9ee",
       "value": "  0%"
      }
     },
     "08e18291479e434a861b216742a1c407": {
      "model_module": "@jupyter-widgets/controls",
      "model_module_version": "1.5.0",
      "model_name": "FloatProgressModel",
      "state": {
       "bar_style": "success",
       "layout": "IPY_MODEL_02632f0e6c044f5bb37cde108ca457f3",
       "max": 8,
       "style": "IPY_MODEL_e6df84e892b442e49c0241d74a670cb9",
       "value": 8
      }
     },
     "093b27a1f9bd410ab6c9344dc89105e8": {
      "model_module": "@jupyter-widgets/base",
      "model_module_version": "1.2.0",
      "model_name": "LayoutModel",
      "state": {}
     },
     "09404b3a8c4444c6a5cac5551ce0c58c": {
      "model_module": "@jupyter-widgets/controls",
      "model_module_version": "1.5.0",
      "model_name": "HTMLModel",
      "state": {
       "layout": "IPY_MODEL_0c2fd2aa53144c2ca99d7b5e2489c70c",
       "style": "IPY_MODEL_4b5564b6f81d467395009b4223af6c32",
       "value": "100%"
      }
     },
     "0952cc64906f4cec82c8b06ab180abe5": {
      "model_module": "@jupyter-widgets/controls",
      "model_module_version": "1.5.0",
      "model_name": "HTMLModel",
      "state": {
       "layout": "IPY_MODEL_83e1c637c03547cab3abf8654283cb62",
       "style": "IPY_MODEL_0f6d4752f0ad41668420e7949ddd2b40",
       "value": "100%"
      }
     },
     "09647e2bcbd745d6ab938797ccf7963d": {
      "model_module": "@jupyter-widgets/base",
      "model_module_version": "1.2.0",
      "model_name": "LayoutModel",
      "state": {}
     },
     "097f0fb77e1c492b86628790cacfc352": {
      "model_module": "@jupyter-widgets/controls",
      "model_module_version": "1.5.0",
      "model_name": "HTMLModel",
      "state": {
       "layout": "IPY_MODEL_3f196c67cb7c48aeb5f497c22f94b62c",
       "style": "IPY_MODEL_47b0faf104514882a0feca7066b1dd99",
       "value": "100%"
      }
     },
     "09823c5a545b4cb3889695d861450f22": {
      "model_module": "@jupyter-widgets/controls",
      "model_module_version": "1.5.0",
      "model_name": "DescriptionStyleModel",
      "state": {
       "description_width": ""
      }
     },
     "098556e3d439459e9562675dd1f3b457": {
      "model_module": "@jupyter-widgets/base",
      "model_module_version": "1.2.0",
      "model_name": "LayoutModel",
      "state": {}
     },
     "09a343b28b4546f9878aea80477e44b2": {
      "model_module": "@jupyter-widgets/base",
      "model_module_version": "1.2.0",
      "model_name": "LayoutModel",
      "state": {}
     },
     "09b1598c1af449a98314ec0b6d7c81fe": {
      "model_module": "@jupyter-widgets/base",
      "model_module_version": "1.2.0",
      "model_name": "LayoutModel",
      "state": {}
     },
     "0a1d875ec8dc4336a44b0b7b545d269c": {
      "model_module": "@jupyter-widgets/controls",
      "model_module_version": "1.5.0",
      "model_name": "DescriptionStyleModel",
      "state": {
       "description_width": ""
      }
     },
     "0a8581fd13404385be9ec9e34a5bce3c": {
      "model_module": "@jupyter-widgets/controls",
      "model_module_version": "1.5.0",
      "model_name": "HBoxModel",
      "state": {
       "children": [
        "IPY_MODEL_c55f57997bcf408ea28989a02b76eb18",
        "IPY_MODEL_98ff828507084be7891f95770e733527",
        "IPY_MODEL_c38b9ccd87c5448cb245939c4e00a486"
       ],
       "layout": "IPY_MODEL_a17c191b43e74c84a2b6a11eeb0cc954"
      }
     },
     "0aa9808d6b5b436987a81ddcf45c3b6c": {
      "model_module": "@jupyter-widgets/controls",
      "model_module_version": "1.5.0",
      "model_name": "HTMLModel",
      "state": {
       "layout": "IPY_MODEL_e048e2e63b34461d9967ffe780cb622e",
       "style": "IPY_MODEL_db2b99bbc02f4adfbfd063f9c372dcb5",
       "value": " 8/8 [14:17&lt;00:00, 89.66s/it]"
      }
     },
     "0ae86eb1bcef4bc08fec0b9cbdf09907": {
      "model_module": "@jupyter-widgets/controls",
      "model_module_version": "1.5.0",
      "model_name": "FloatProgressModel",
      "state": {
       "bar_style": "success",
       "layout": "IPY_MODEL_00b27cc0b7dd429db46621bf434b5636",
       "max": 8,
       "style": "IPY_MODEL_966202937bea47d3afe60108b6b72c1b",
       "value": 8
      }
     },
     "0b06e1a47fc74554b8ab0be7d0849b57": {
      "model_module": "@jupyter-widgets/controls",
      "model_module_version": "1.5.0",
      "model_name": "HTMLModel",
      "state": {
       "layout": "IPY_MODEL_9f83f995e69140d08d6dbcfc1ec478b6",
       "style": "IPY_MODEL_cd0e6419122e42dd81f8476100d1f19c",
       "value": " 8/8 [15:02&lt;00:00, 94.58s/it]"
      }
     },
     "0b1a656c1dca4796896843e2a94c4b76": {
      "model_module": "@jupyter-widgets/base",
      "model_module_version": "1.2.0",
      "model_name": "LayoutModel",
      "state": {}
     },
     "0b674c114e8846bbab4d83f55a6bd803": {
      "model_module": "@jupyter-widgets/controls",
      "model_module_version": "1.5.0",
      "model_name": "DescriptionStyleModel",
      "state": {
       "description_width": ""
      }
     },
     "0bc1e9669e8d445bb6857e56e2d5e4a5": {
      "model_module": "@jupyter-widgets/controls",
      "model_module_version": "1.5.0",
      "model_name": "FloatProgressModel",
      "state": {
       "bar_style": "success",
       "layout": "IPY_MODEL_999050cb98b54087acfcd15a00e59ef6",
       "max": 8,
       "style": "IPY_MODEL_efbd7d9925db473d84e6e8bdb04a4c6c",
       "value": 8
      }
     },
     "0bd37a5caaed4c509790f5fb1ccd1133": {
      "model_module": "@jupyter-widgets/base",
      "model_module_version": "1.2.0",
      "model_name": "LayoutModel",
      "state": {}
     },
     "0c180d5ac2f84b708e051d1200f6133e": {
      "model_module": "@jupyter-widgets/base",
      "model_module_version": "1.2.0",
      "model_name": "LayoutModel",
      "state": {}
     },
     "0c2fd2aa53144c2ca99d7b5e2489c70c": {
      "model_module": "@jupyter-widgets/base",
      "model_module_version": "1.2.0",
      "model_name": "LayoutModel",
      "state": {}
     },
     "0c5064313de043f9a2d682cd18b3ef29": {
      "model_module": "@jupyter-widgets/controls",
      "model_module_version": "1.5.0",
      "model_name": "DescriptionStyleModel",
      "state": {
       "description_width": ""
      }
     },
     "0c59aa7079544863a9338c35d38ca9cd": {
      "model_module": "@jupyter-widgets/controls",
      "model_module_version": "1.5.0",
      "model_name": "HTMLModel",
      "state": {
       "layout": "IPY_MODEL_55905abbd05d401c9bedbbccb8503ef8",
       "style": "IPY_MODEL_8e9d9b52df41407782715389faa35080",
       "value": " 23/23 [00:00&lt;00:00, 1039.51it/s]"
      }
     },
     "0c8cc52108644e69a4eed8ec43c22630": {
      "model_module": "@jupyter-widgets/controls",
      "model_module_version": "1.5.0",
      "model_name": "FloatProgressModel",
      "state": {
       "bar_style": "success",
       "layout": "IPY_MODEL_c8ba028310364f44a26e14cce829dd3c",
       "max": 23,
       "style": "IPY_MODEL_4e48cbacf2ab4699a3bd9a608fabde21",
       "value": 23
      }
     },
     "0c8f689de01a4acd88d63af42368c2b4": {
      "model_module": "@jupyter-widgets/controls",
      "model_module_version": "1.5.0",
      "model_name": "HTMLModel",
      "state": {
       "layout": "IPY_MODEL_953ea480e17e414c91655340d98c75e1",
       "style": "IPY_MODEL_e56a0a3e8cbb40ef9f965bca0285071e",
       "value": " 8/8 [14:42&lt;00:00, 92.50s/it]"
      }
     },
     "0cc89af3d4684d4499b539eb7cb1a17b": {
      "model_module": "@jupyter-widgets/base",
      "model_module_version": "1.2.0",
      "model_name": "LayoutModel",
      "state": {}
     },
     "0cf41577cbf4473e8e8dfe431a825c4c": {
      "model_module": "@jupyter-widgets/controls",
      "model_module_version": "1.5.0",
      "model_name": "HTMLModel",
      "state": {
       "layout": "IPY_MODEL_3d695f75defd458f9f094db690991e1c",
       "style": "IPY_MODEL_4c27839411b34ac0bff41fe1ff15b1be",
       "value": " 8/8 [14:53&lt;00:00, 95.67s/it]"
      }
     },
     "0d40074e3be74c9fa20917e168f6aba7": {
      "model_module": "@jupyter-widgets/base",
      "model_module_version": "1.2.0",
      "model_name": "LayoutModel",
      "state": {}
     },
     "0d78a4976b6c49359db76d6a9b686850": {
      "model_module": "@jupyter-widgets/controls",
      "model_module_version": "1.5.0",
      "model_name": "HBoxModel",
      "state": {
       "children": [
        "IPY_MODEL_1907880e02404ee09b56d4704559fd1a",
        "IPY_MODEL_977a9a5af3e94773a78f09482300aee2",
        "IPY_MODEL_c9923004a4434f26bac59d0e5e28c7a3"
       ],
       "layout": "IPY_MODEL_da0599d4762341e8a09cd209eaaec72d"
      }
     },
     "0d7e16fa45434b83a9b21cdf5fce10ac": {
      "model_module": "@jupyter-widgets/controls",
      "model_module_version": "1.5.0",
      "model_name": "HBoxModel",
      "state": {
       "children": [
        "IPY_MODEL_9c704e03cef54ad79e7ef5f08f94a081",
        "IPY_MODEL_d9c0bc7797a547469ff1fa16b1d25a20",
        "IPY_MODEL_193c7518d5c44272be814b80bddb2d7a"
       ],
       "layout": "IPY_MODEL_c4baae19100547fe88de6255d067e5a0"
      }
     },
     "0e4f2251b41e42cfbf2ae29713547ea4": {
      "model_module": "@jupyter-widgets/controls",
      "model_module_version": "1.5.0",
      "model_name": "FloatProgressModel",
      "state": {
       "bar_style": "success",
       "layout": "IPY_MODEL_071107c0c6c64cd5a8bf20987ce3e982",
       "max": 8,
       "style": "IPY_MODEL_98b665d1b8e2413cb2fbb716246c76ea",
       "value": 8
      }
     },
     "0e5100ab5ee04f6a8da5846671e09e59": {
      "model_module": "@jupyter-widgets/controls",
      "model_module_version": "1.5.0",
      "model_name": "ProgressStyleModel",
      "state": {
       "description_width": ""
      }
     },
     "0e6dc161ac76426d8ba71bb8bbbd6180": {
      "model_module": "@jupyter-widgets/controls",
      "model_module_version": "1.5.0",
      "model_name": "ProgressStyleModel",
      "state": {
       "description_width": ""
      }
     },
     "0f00097d74644898aab07393d8ad16a3": {
      "model_module": "@jupyter-widgets/base",
      "model_module_version": "1.2.0",
      "model_name": "LayoutModel",
      "state": {}
     },
     "0f4199a3bf284990bf79ba230800e120": {
      "model_module": "@jupyter-widgets/base",
      "model_module_version": "1.2.0",
      "model_name": "LayoutModel",
      "state": {}
     },
     "0f63e2e7329b49b6bd540dddb4b0caaa": {
      "model_module": "@jupyter-widgets/controls",
      "model_module_version": "1.5.0",
      "model_name": "HTMLModel",
      "state": {
       "layout": "IPY_MODEL_6b04afed6e7b4f86aacf982309dae9b5",
       "style": "IPY_MODEL_bbf7a7ad2fcd4d32b7f396978b992232",
       "value": "100%"
      }
     },
     "0f6d4752f0ad41668420e7949ddd2b40": {
      "model_module": "@jupyter-widgets/controls",
      "model_module_version": "1.5.0",
      "model_name": "DescriptionStyleModel",
      "state": {
       "description_width": ""
      }
     },
     "0f7fb8151fd74e29bf54f4e9ddcd9cfd": {
      "model_module": "@jupyter-widgets/controls",
      "model_module_version": "1.5.0",
      "model_name": "FloatProgressModel",
      "state": {
       "bar_style": "danger",
       "layout": "IPY_MODEL_4f92dc61c0024ca882a12c2d21ae8b5d",
       "max": 23,
       "style": "IPY_MODEL_4258c3633214414f9dd8448e73ef4c87",
       "value": 1
      }
     },
     "101eeee2b29b43febfea74a51c14ddbd": {
      "model_module": "@jupyter-widgets/controls",
      "model_module_version": "1.5.0",
      "model_name": "DescriptionStyleModel",
      "state": {
       "description_width": ""
      }
     },
     "104685049fdf468ea0cc854a7d8dcd72": {
      "model_module": "@jupyter-widgets/base",
      "model_module_version": "1.2.0",
      "model_name": "LayoutModel",
      "state": {}
     },
     "10c101c20f02400a8f43dcedd5ae7742": {
      "model_module": "@jupyter-widgets/controls",
      "model_module_version": "1.5.0",
      "model_name": "FloatProgressModel",
      "state": {
       "bar_style": "success",
       "layout": "IPY_MODEL_720e5934e8034df190427106889a101b",
       "max": 23,
       "style": "IPY_MODEL_a920547cc5094b2d91733ae530df7150",
       "value": 23
      }
     },
     "10db8ef45640447988c31a8a30f7956c": {
      "model_module": "@jupyter-widgets/controls",
      "model_module_version": "1.5.0",
      "model_name": "FloatProgressModel",
      "state": {
       "bar_style": "success",
       "layout": "IPY_MODEL_a08a8e6989a14f60bf8f6f650d8e9aaa",
       "max": 8,
       "style": "IPY_MODEL_1c02f25e0d5d4b1597e79263210d035d",
       "value": 8
      }
     },
     "116d566a562c448dbbb7d0a7310625e7": {
      "model_module": "@jupyter-widgets/controls",
      "model_module_version": "1.5.0",
      "model_name": "HTMLModel",
      "state": {
       "layout": "IPY_MODEL_09647e2bcbd745d6ab938797ccf7963d",
       "style": "IPY_MODEL_cbcef100c92a4efcb2cb5d56da32af23",
       "value": "100%"
      }
     },
     "1175b896927448369a7fb6c69d0f6c05": {
      "model_module": "@jupyter-widgets/controls",
      "model_module_version": "1.5.0",
      "model_name": "DescriptionStyleModel",
      "state": {
       "description_width": ""
      }
     },
     "11d0a0a0fec84ff48b13c4207e5dcff4": {
      "model_module": "@jupyter-widgets/controls",
      "model_module_version": "1.5.0",
      "model_name": "DescriptionStyleModel",
      "state": {
       "description_width": ""
      }
     },
     "11e39bf0be854ae69ad1c06fe4e08155": {
      "model_module": "@jupyter-widgets/base",
      "model_module_version": "1.2.0",
      "model_name": "LayoutModel",
      "state": {}
     },
     "12f84de00bf6463da698285ead798d63": {
      "model_module": "@jupyter-widgets/base",
      "model_module_version": "1.2.0",
      "model_name": "LayoutModel",
      "state": {}
     },
     "13238520425d428195263aa3922340c9": {
      "model_module": "@jupyter-widgets/controls",
      "model_module_version": "1.5.0",
      "model_name": "HTMLModel",
      "state": {
       "layout": "IPY_MODEL_86c53d8c2cc040b082ccb855c7c5b47a",
       "style": "IPY_MODEL_874bef8382534e819640943807a8a80f",
       "value": " 8/8 [15:15&lt;00:00, 94.90s/it]"
      }
     },
     "1337db2d6b81452189d187ab4fca9f19": {
      "model_module": "@jupyter-widgets/controls",
      "model_module_version": "1.5.0",
      "model_name": "HTMLModel",
      "state": {
       "layout": "IPY_MODEL_3a5a6610bcdb47ce8a2c28af4d1b2be5",
       "style": "IPY_MODEL_a1ff0ec0413649d7994eb9929a090ae4",
       "value": "  0%"
      }
     },
     "1342d9719d954c9195112341009ef5c6": {
      "model_module": "@jupyter-widgets/base",
      "model_module_version": "1.2.0",
      "model_name": "LayoutModel",
      "state": {}
     },
     "1382400bb8c04535b791fbc44d2f6876": {
      "model_module": "@jupyter-widgets/controls",
      "model_module_version": "1.5.0",
      "model_name": "HTMLModel",
      "state": {
       "layout": "IPY_MODEL_d782dfb038314ef3bf91904629e383d4",
       "style": "IPY_MODEL_c4c59bf727b749f788ceb2d6b7020a6a",
       "value": "100%"
      }
     },
     "13cbdf7b025148e4aba82f1988f69024": {
      "model_module": "@jupyter-widgets/base",
      "model_module_version": "1.2.0",
      "model_name": "LayoutModel",
      "state": {}
     },
     "141071133e674665bfe6f96d8c0825fc": {
      "model_module": "@jupyter-widgets/base",
      "model_module_version": "1.2.0",
      "model_name": "LayoutModel",
      "state": {}
     },
     "145a026e586f46a887b05626c46bcd2d": {
      "model_module": "@jupyter-widgets/base",
      "model_module_version": "1.2.0",
      "model_name": "LayoutModel",
      "state": {}
     },
     "147a0026c32148a5ba9886e20ba628e1": {
      "model_module": "@jupyter-widgets/base",
      "model_module_version": "1.2.0",
      "model_name": "LayoutModel",
      "state": {}
     },
     "14b18efe57c248b1aa4ed1b62227e435": {
      "model_module": "@jupyter-widgets/controls",
      "model_module_version": "1.5.0",
      "model_name": "DescriptionStyleModel",
      "state": {
       "description_width": ""
      }
     },
     "14b5cd32e9ea4ce4924886c421ab9478": {
      "model_module": "@jupyter-widgets/controls",
      "model_module_version": "1.5.0",
      "model_name": "HBoxModel",
      "state": {
       "children": [
        "IPY_MODEL_9c4ac47fbc25485db194a37ee77d2b00",
        "IPY_MODEL_c6036daa98724f90817401734c4f2e00",
        "IPY_MODEL_9feecee053db48a5b9b3c0e248379e18"
       ],
       "layout": "IPY_MODEL_f585763ab0e741d98cf3e2573c9e5825"
      }
     },
     "14c368fd4212413a86ec3723feb5c4d8": {
      "model_module": "@jupyter-widgets/controls",
      "model_module_version": "1.5.0",
      "model_name": "HBoxModel",
      "state": {
       "children": [
        "IPY_MODEL_4173e77dca134151b5a6817a554781ff",
        "IPY_MODEL_a5b8739bcce8412f94c7fe8833649de2",
        "IPY_MODEL_3aee979febad48faa74f3cd70b9a4fca"
       ],
       "layout": "IPY_MODEL_35fdbe6ad361479587f4fe85f713da11"
      }
     },
     "1516f296c6994653b070bd5293705778": {
      "model_module": "@jupyter-widgets/controls",
      "model_module_version": "1.5.0",
      "model_name": "DescriptionStyleModel",
      "state": {
       "description_width": ""
      }
     },
     "157318bebfce4df383c10e6b80c8c071": {
      "model_module": "@jupyter-widgets/controls",
      "model_module_version": "1.5.0",
      "model_name": "DescriptionStyleModel",
      "state": {
       "description_width": ""
      }
     },
     "15871d1305f34ac0bfd318f8950ef97d": {
      "model_module": "@jupyter-widgets/base",
      "model_module_version": "1.2.0",
      "model_name": "LayoutModel",
      "state": {}
     },
     "15b6be65c8964e9fb57080de82ab6319": {
      "model_module": "@jupyter-widgets/base",
      "model_module_version": "1.2.0",
      "model_name": "LayoutModel",
      "state": {}
     },
     "15bb0ee5f6c84268a3c8af85b0cb0dab": {
      "model_module": "@jupyter-widgets/controls",
      "model_module_version": "1.5.0",
      "model_name": "DescriptionStyleModel",
      "state": {
       "description_width": ""
      }
     },
     "15f92c3254364855aa4e99d74fbbf8d9": {
      "model_module": "@jupyter-widgets/base",
      "model_module_version": "1.2.0",
      "model_name": "LayoutModel",
      "state": {}
     },
     "1641bf398da14b7b816612eea37b4009": {
      "model_module": "@jupyter-widgets/controls",
      "model_module_version": "1.5.0",
      "model_name": "FloatProgressModel",
      "state": {
       "bar_style": "success",
       "layout": "IPY_MODEL_291fdd91f8a9496cba36237dea122e98",
       "max": 8,
       "style": "IPY_MODEL_1a0c68ad035d4b8eb7aa6d08266d9992",
       "value": 8
      }
     },
     "164f75de93d549e0ae05eaad6336a134": {
      "model_module": "@jupyter-widgets/controls",
      "model_module_version": "1.5.0",
      "model_name": "HBoxModel",
      "state": {
       "children": [
        "IPY_MODEL_0741c7101b184bccb6f826e897365981",
        "IPY_MODEL_bacf4e942c1943ecafb3f2c968a36e8e",
        "IPY_MODEL_c30f058c19a145bc8f9b61dbfaea4f2a"
       ],
       "layout": "IPY_MODEL_b7e063d383834ed78fc654be7050105d"
      }
     },
     "168598486efa4989851477f210b41f7a": {
      "model_module": "@jupyter-widgets/controls",
      "model_module_version": "1.5.0",
      "model_name": "ProgressStyleModel",
      "state": {
       "description_width": ""
      }
     },
     "16975ea2a2ec4790b1ddc2e11c6f65ee": {
      "model_module": "@jupyter-widgets/base",
      "model_module_version": "1.2.0",
      "model_name": "LayoutModel",
      "state": {}
     },
     "16f0cf185fd0493f91afbb76c06fa800": {
      "model_module": "@jupyter-widgets/controls",
      "model_module_version": "1.5.0",
      "model_name": "HBoxModel",
      "state": {
       "children": [
        "IPY_MODEL_9cfcc46addb34906b8ceb8e0ab5af482",
        "IPY_MODEL_9d81270671fd48219b2f87ae104d1264",
        "IPY_MODEL_1d00e3b3a460448fadceb8115d5d967a"
       ],
       "layout": "IPY_MODEL_943b4cc8faaf43fd821772159d09575b"
      }
     },
     "17a255474604405586cf9eb7b62dbd75": {
      "model_module": "@jupyter-widgets/base",
      "model_module_version": "1.2.0",
      "model_name": "LayoutModel",
      "state": {}
     },
     "17c4fe9b9ca04254a25a596d6b5d6983": {
      "model_module": "@jupyter-widgets/controls",
      "model_module_version": "1.5.0",
      "model_name": "HBoxModel",
      "state": {
       "children": [
        "IPY_MODEL_1382400bb8c04535b791fbc44d2f6876",
        "IPY_MODEL_20e6532752394884a7c86532007080a2",
        "IPY_MODEL_5156e790da09431aa4f6f97909a935e1"
       ],
       "layout": "IPY_MODEL_75afcdb1b5eb4290bf1791e983745fc5"
      }
     },
     "17f86cbcbf784f34a44ef898d0acaddb": {
      "model_module": "@jupyter-widgets/base",
      "model_module_version": "1.2.0",
      "model_name": "LayoutModel",
      "state": {}
     },
     "1817b4ac2e0c40169f07c88cab4205e6": {
      "model_module": "@jupyter-widgets/controls",
      "model_module_version": "1.5.0",
      "model_name": "HTMLModel",
      "state": {
       "layout": "IPY_MODEL_d66917864848481da61336930db3aea8",
       "style": "IPY_MODEL_1fe2c0354957463dbc557dd4941be7f9",
       "value": " 23/23 [00:00&lt;00:00, 831.63it/s]"
      }
     },
     "181f98a5db0d4eaaa3ac5ec55ead1242": {
      "model_module": "@jupyter-widgets/controls",
      "model_module_version": "1.5.0",
      "model_name": "FloatProgressModel",
      "state": {
       "bar_style": "success",
       "layout": "IPY_MODEL_eb5a9a25254d457e98e0f685248ec0b1",
       "max": 8,
       "style": "IPY_MODEL_5d6409d7e3aa46d6be20904b3e92dde8",
       "value": 8
      }
     },
     "18251204f5084fcd9062e210e8358ca8": {
      "model_module": "@jupyter-widgets/controls",
      "model_module_version": "1.5.0",
      "model_name": "DescriptionStyleModel",
      "state": {
       "description_width": ""
      }
     },
     "184bf1e03a814880ac8ffdc2cab16781": {
      "model_module": "@jupyter-widgets/controls",
      "model_module_version": "1.5.0",
      "model_name": "ProgressStyleModel",
      "state": {
       "description_width": ""
      }
     },
     "186a8a111a074a6c890845fcee874a36": {
      "model_module": "@jupyter-widgets/base",
      "model_module_version": "1.2.0",
      "model_name": "LayoutModel",
      "state": {}
     },
     "189c75e9cde14ebe854b7e46b1d0e316": {
      "model_module": "@jupyter-widgets/base",
      "model_module_version": "1.2.0",
      "model_name": "LayoutModel",
      "state": {}
     },
     "18bdf5e3d38a4355bc898912da8f9243": {
      "model_module": "@jupyter-widgets/base",
      "model_module_version": "1.2.0",
      "model_name": "LayoutModel",
      "state": {}
     },
     "1907880e02404ee09b56d4704559fd1a": {
      "model_module": "@jupyter-widgets/controls",
      "model_module_version": "1.5.0",
      "model_name": "HTMLModel",
      "state": {
       "layout": "IPY_MODEL_f48b01e6b999431786359cd0345a07d2",
       "style": "IPY_MODEL_6f2b355c27154ae18f286ee2f7d6b512",
       "value": "100%"
      }
     },
     "19229d232ff449b1837487bfb69a3bc0": {
      "model_module": "@jupyter-widgets/base",
      "model_module_version": "1.2.0",
      "model_name": "LayoutModel",
      "state": {}
     },
     "193c7518d5c44272be814b80bddb2d7a": {
      "model_module": "@jupyter-widgets/controls",
      "model_module_version": "1.5.0",
      "model_name": "HTMLModel",
      "state": {
       "layout": "IPY_MODEL_c65e4153a4bc4c3eb4c65fb8b0a9fd7b",
       "style": "IPY_MODEL_2f7cdcb03f764a5eb430510ddea9b96c",
       "value": " 23/23 [5:31:45&lt;00:00, 876.49s/it]"
      }
     },
     "1941b823abfd4219aa5ea200ebea1c87": {
      "model_module": "@jupyter-widgets/controls",
      "model_module_version": "1.5.0",
      "model_name": "DescriptionStyleModel",
      "state": {
       "description_width": ""
      }
     },
     "1958641c39894817b13258bec2a0b127": {
      "model_module": "@jupyter-widgets/base",
      "model_module_version": "1.2.0",
      "model_name": "LayoutModel",
      "state": {}
     },
     "195f473142994f37b2237f2b7e044806": {
      "model_module": "@jupyter-widgets/base",
      "model_module_version": "1.2.0",
      "model_name": "LayoutModel",
      "state": {}
     },
     "197ff34a30524c078001a86a60ca369b": {
      "model_module": "@jupyter-widgets/base",
      "model_module_version": "1.2.0",
      "model_name": "LayoutModel",
      "state": {}
     },
     "19a362402b194f718e26d25d5f2ef314": {
      "model_module": "@jupyter-widgets/base",
      "model_module_version": "1.2.0",
      "model_name": "LayoutModel",
      "state": {}
     },
     "1a0c68ad035d4b8eb7aa6d08266d9992": {
      "model_module": "@jupyter-widgets/controls",
      "model_module_version": "1.5.0",
      "model_name": "ProgressStyleModel",
      "state": {
       "description_width": ""
      }
     },
     "1a48ec4ed4ad40cf9ed51f61a321df31": {
      "model_module": "@jupyter-widgets/base",
      "model_module_version": "1.2.0",
      "model_name": "LayoutModel",
      "state": {}
     },
     "1a7fb36c780d44f381e8141d86e75c6e": {
      "model_module": "@jupyter-widgets/base",
      "model_module_version": "1.2.0",
      "model_name": "LayoutModel",
      "state": {}
     },
     "1ae29900119b46da8861fab112400aa6": {
      "model_module": "@jupyter-widgets/base",
      "model_module_version": "1.2.0",
      "model_name": "LayoutModel",
      "state": {}
     },
     "1b51c41a10a64fb78ee78b0d2539f110": {
      "model_module": "@jupyter-widgets/base",
      "model_module_version": "1.2.0",
      "model_name": "LayoutModel",
      "state": {}
     },
     "1b9e5f3f7cc54b4d9063a0a18e60fa04": {
      "model_module": "@jupyter-widgets/controls",
      "model_module_version": "1.5.0",
      "model_name": "FloatProgressModel",
      "state": {
       "bar_style": "success",
       "layout": "IPY_MODEL_00a49d049c7446c8a896b3a7f2fdb96e",
       "max": 23,
       "style": "IPY_MODEL_26e1ddbae7474afa9588abb1197ef737",
       "value": 23
      }
     },
     "1bdb219b55f34643b50679dfc157e2c6": {
      "model_module": "@jupyter-widgets/base",
      "model_module_version": "1.2.0",
      "model_name": "LayoutModel",
      "state": {}
     },
     "1c02f25e0d5d4b1597e79263210d035d": {
      "model_module": "@jupyter-widgets/controls",
      "model_module_version": "1.5.0",
      "model_name": "ProgressStyleModel",
      "state": {
       "description_width": ""
      }
     },
     "1c24649319864e66a410e37dbbfc6e76": {
      "model_module": "@jupyter-widgets/controls",
      "model_module_version": "1.5.0",
      "model_name": "DescriptionStyleModel",
      "state": {
       "description_width": ""
      }
     },
     "1c30d1838de14f3988a0c5196f57ed54": {
      "model_module": "@jupyter-widgets/controls",
      "model_module_version": "1.5.0",
      "model_name": "HTMLModel",
      "state": {
       "layout": "IPY_MODEL_f66858cf420b4c39823f925648e67e5e",
       "style": "IPY_MODEL_101eeee2b29b43febfea74a51c14ddbd",
       "value": "100%"
      }
     },
     "1c7cbaf1101548c5b347a9e1a8163238": {
      "model_module": "@jupyter-widgets/controls",
      "model_module_version": "1.5.0",
      "model_name": "HBoxModel",
      "state": {
       "children": [
        "IPY_MODEL_0952cc64906f4cec82c8b06ab180abe5",
        "IPY_MODEL_8ce9cc95530c40f1a12bc5b0d7311787",
        "IPY_MODEL_525bbed75fa947bbb1cb954ef7395839"
       ],
       "layout": "IPY_MODEL_3bcd2a4f67cf46dfadc1d92661fce2a5"
      }
     },
     "1c8911a34a0c46b09cde98ecd35dd9aa": {
      "model_module": "@jupyter-widgets/controls",
      "model_module_version": "1.5.0",
      "model_name": "DescriptionStyleModel",
      "state": {
       "description_width": ""
      }
     },
     "1d00e3b3a460448fadceb8115d5d967a": {
      "model_module": "@jupyter-widgets/controls",
      "model_module_version": "1.5.0",
      "model_name": "HTMLModel",
      "state": {
       "layout": "IPY_MODEL_afd5b971ca1f47be88806c4e1a1de22e",
       "style": "IPY_MODEL_dd4275f978de44f5b3750555b71c31fc",
       "value": " 8/8 [14:28&lt;00:00, 92.84s/it]"
      }
     },
     "1d0d10d165e2464bb7c2047af805c8cd": {
      "model_module": "@jupyter-widgets/base",
      "model_module_version": "1.2.0",
      "model_name": "LayoutModel",
      "state": {}
     },
     "1d2b154232b34011b63ec11b426fe232": {
      "model_module": "@jupyter-widgets/controls",
      "model_module_version": "1.5.0",
      "model_name": "HBoxModel",
      "state": {
       "children": [
        "IPY_MODEL_3793d830e5214330ac199e8e541be9af",
        "IPY_MODEL_94b3b0e07c454ff0b7d217c5b9d297a5",
        "IPY_MODEL_9fb08b2e1873477f8a6488a27f34d9b7"
       ],
       "layout": "IPY_MODEL_986b2140064e464293c8b0afe59850b1"
      }
     },
     "1dbc5355d98a495bb5f0e2aed0251b43": {
      "model_module": "@jupyter-widgets/controls",
      "model_module_version": "1.5.0",
      "model_name": "DescriptionStyleModel",
      "state": {
       "description_width": ""
      }
     },
     "1e6c07673a51481292fdbbc29188eb4d": {
      "model_module": "@jupyter-widgets/base",
      "model_module_version": "1.2.0",
      "model_name": "LayoutModel",
      "state": {}
     },
     "1ed5c78536cc4e81823617caaf8fe177": {
      "model_module": "@jupyter-widgets/controls",
      "model_module_version": "1.5.0",
      "model_name": "DescriptionStyleModel",
      "state": {
       "description_width": ""
      }
     },
     "1ed8613d24dd43d7851da6f1240693d4": {
      "model_module": "@jupyter-widgets/controls",
      "model_module_version": "1.5.0",
      "model_name": "DescriptionStyleModel",
      "state": {
       "description_width": ""
      }
     },
     "1f57e9f8797d45fea90f360e5fdbc311": {
      "model_module": "@jupyter-widgets/controls",
      "model_module_version": "1.5.0",
      "model_name": "HTMLModel",
      "state": {
       "layout": "IPY_MODEL_6aa5ac6444374dc6b92b171747b88f74",
       "style": "IPY_MODEL_9a227c5bd65345c39a59c6158219aff5",
       "value": "100%"
      }
     },
     "1f747d58d946488c98f3b8e147da7027": {
      "model_module": "@jupyter-widgets/controls",
      "model_module_version": "1.5.0",
      "model_name": "HBoxModel",
      "state": {
       "children": [
        "IPY_MODEL_983f58d6ba6d4c309e6534c571c906d5",
        "IPY_MODEL_d6b31e4ca14f49f99b94f98253ba0235",
        "IPY_MODEL_241a179572654f40b98e02ec299d726a"
       ],
       "layout": "IPY_MODEL_f99286dc9c7f489e9bc95b9dfa9ecc46"
      }
     },
     "1f7b26360c644e6aa126d8cb619a544a": {
      "model_module": "@jupyter-widgets/base",
      "model_module_version": "1.2.0",
      "model_name": "LayoutModel",
      "state": {}
     },
     "1f884292e9ea45b4bad97ecec39516ab": {
      "model_module": "@jupyter-widgets/base",
      "model_module_version": "1.2.0",
      "model_name": "LayoutModel",
      "state": {}
     },
     "1fcdce658ef14dbc9186da4814744c2f": {
      "model_module": "@jupyter-widgets/base",
      "model_module_version": "1.2.0",
      "model_name": "LayoutModel",
      "state": {}
     },
     "1fe2c0354957463dbc557dd4941be7f9": {
      "model_module": "@jupyter-widgets/controls",
      "model_module_version": "1.5.0",
      "model_name": "DescriptionStyleModel",
      "state": {
       "description_width": ""
      }
     },
     "1fec7ae4f96b4c8999073810420eb5fd": {
      "model_module": "@jupyter-widgets/controls",
      "model_module_version": "1.5.0",
      "model_name": "DescriptionStyleModel",
      "state": {
       "description_width": ""
      }
     },
     "2003c1c6044b4524add22563a6d9dbeb": {
      "model_module": "@jupyter-widgets/controls",
      "model_module_version": "1.5.0",
      "model_name": "HBoxModel",
      "state": {
       "children": [
        "IPY_MODEL_a60f82a043134b05a653d20c5947c021",
        "IPY_MODEL_a5139761882b4720a4d76c8e57a9d886",
        "IPY_MODEL_a475784a992a495b9baf9e194c12abd5"
       ],
       "layout": "IPY_MODEL_22ea51039922468ba3020180f0a435b3"
      }
     },
     "2006aa95e6744830904d19d7dad13acc": {
      "model_module": "@jupyter-widgets/base",
      "model_module_version": "1.2.0",
      "model_name": "LayoutModel",
      "state": {}
     },
     "203dc8cdebaf406ca2b5b3b2d3a27270": {
      "model_module": "@jupyter-widgets/base",
      "model_module_version": "1.2.0",
      "model_name": "LayoutModel",
      "state": {}
     },
     "20789810a94445b39b3a887e64bd8d88": {
      "model_module": "@jupyter-widgets/controls",
      "model_module_version": "1.5.0",
      "model_name": "FloatProgressModel",
      "state": {
       "bar_style": "danger",
       "layout": "IPY_MODEL_65df93ddb3eb49029cf2ada2708dd918",
       "max": 23,
       "style": "IPY_MODEL_d439a13fa30e465b878836d2b08ffc32"
      }
     },
     "2083733cf66943b69ffbb6ca0f2c5e32": {
      "model_module": "@jupyter-widgets/controls",
      "model_module_version": "1.5.0",
      "model_name": "DescriptionStyleModel",
      "state": {
       "description_width": ""
      }
     },
     "20aa8e5742414e3581879fc69c5468a0": {
      "model_module": "@jupyter-widgets/controls",
      "model_module_version": "1.5.0",
      "model_name": "DescriptionStyleModel",
      "state": {
       "description_width": ""
      }
     },
     "20c035f17b3a4b438f6d53bb8307f3ca": {
      "model_module": "@jupyter-widgets/controls",
      "model_module_version": "1.5.0",
      "model_name": "HTMLModel",
      "state": {
       "layout": "IPY_MODEL_9907651bd004414babe401a5260e85cd",
       "style": "IPY_MODEL_14b18efe57c248b1aa4ed1b62227e435",
       "value": "100%"
      }
     },
     "20e6532752394884a7c86532007080a2": {
      "model_module": "@jupyter-widgets/controls",
      "model_module_version": "1.5.0",
      "model_name": "FloatProgressModel",
      "state": {
       "bar_style": "success",
       "layout": "IPY_MODEL_da74f5d746824ab6a77a6a95441d24d6",
       "max": 8,
       "style": "IPY_MODEL_935ea2b826124084911243684b844ac4",
       "value": 8
      }
     },
     "20fa196d0b5d4d20acb43534477f559a": {
      "model_module": "@jupyter-widgets/controls",
      "model_module_version": "1.5.0",
      "model_name": "ProgressStyleModel",
      "state": {
       "description_width": ""
      }
     },
     "210e4bbd7d4c48759eaea7b7bb1f4348": {
      "model_module": "@jupyter-widgets/controls",
      "model_module_version": "1.5.0",
      "model_name": "ProgressStyleModel",
      "state": {
       "description_width": ""
      }
     },
     "21489f12dcad4ef5b8ec9890203f09ff": {
      "model_module": "@jupyter-widgets/base",
      "model_module_version": "1.2.0",
      "model_name": "LayoutModel",
      "state": {}
     },
     "21767671e43148b1a06d991cb2909000": {
      "model_module": "@jupyter-widgets/controls",
      "model_module_version": "1.5.0",
      "model_name": "DescriptionStyleModel",
      "state": {
       "description_width": ""
      }
     },
     "22063377ea75411c99ba97a9642392ad": {
      "model_module": "@jupyter-widgets/controls",
      "model_module_version": "1.5.0",
      "model_name": "HBoxModel",
      "state": {
       "children": [
        "IPY_MODEL_09404b3a8c4444c6a5cac5551ce0c58c",
        "IPY_MODEL_dc6c0c0ca0374b939df6009c859d725e",
        "IPY_MODEL_71eadf3bf7bf4f8d8fec3e6a3e2e01a9"
       ],
       "layout": "IPY_MODEL_427cfab2099540b38c0c2a046298c7eb"
      }
     },
     "220ac63b3b1f43c98a02d9719b1fd52b": {
      "model_module": "@jupyter-widgets/controls",
      "model_module_version": "1.5.0",
      "model_name": "ProgressStyleModel",
      "state": {
       "description_width": ""
      }
     },
     "22c6453f48a04d4d9ec2902a23f4092f": {
      "model_module": "@jupyter-widgets/controls",
      "model_module_version": "1.5.0",
      "model_name": "DescriptionStyleModel",
      "state": {
       "description_width": ""
      }
     },
     "22ea51039922468ba3020180f0a435b3": {
      "model_module": "@jupyter-widgets/base",
      "model_module_version": "1.2.0",
      "model_name": "LayoutModel",
      "state": {}
     },
     "2321a2c9f1d04a3aae7a5f25ab18c8ce": {
      "model_module": "@jupyter-widgets/base",
      "model_module_version": "1.2.0",
      "model_name": "LayoutModel",
      "state": {}
     },
     "2337f85ab83941f5b5fd07e498789863": {
      "model_module": "@jupyter-widgets/controls",
      "model_module_version": "1.5.0",
      "model_name": "ProgressStyleModel",
      "state": {
       "description_width": ""
      }
     },
     "234a0861515143dfbe29a0f3214c2599": {
      "model_module": "@jupyter-widgets/controls",
      "model_module_version": "1.5.0",
      "model_name": "ProgressStyleModel",
      "state": {
       "description_width": ""
      }
     },
     "235a56643ab44372a77783ce4f3a41af": {
      "model_module": "@jupyter-widgets/base",
      "model_module_version": "1.2.0",
      "model_name": "LayoutModel",
      "state": {}
     },
     "237bb126b5d44a9383442d588e8cd8e2": {
      "model_module": "@jupyter-widgets/base",
      "model_module_version": "1.2.0",
      "model_name": "LayoutModel",
      "state": {}
     },
     "241a179572654f40b98e02ec299d726a": {
      "model_module": "@jupyter-widgets/controls",
      "model_module_version": "1.5.0",
      "model_name": "HTMLModel",
      "state": {
       "layout": "IPY_MODEL_86c4442d121144eeab45fdd0bf6c9459",
       "style": "IPY_MODEL_521d6f11ac174066bd0d823c3374a92a",
       "value": " 23/23 [00:00&lt;00:00, 938.24it/s]"
      }
     },
     "24ab0bd647f142329e10c0f6a54a1263": {
      "model_module": "@jupyter-widgets/base",
      "model_module_version": "1.2.0",
      "model_name": "LayoutModel",
      "state": {}
     },
     "2513c73e394c40689bee27387c67616c": {
      "model_module": "@jupyter-widgets/controls",
      "model_module_version": "1.5.0",
      "model_name": "ProgressStyleModel",
      "state": {
       "description_width": ""
      }
     },
     "25741a59d5df4102befbce403660c373": {
      "model_module": "@jupyter-widgets/base",
      "model_module_version": "1.2.0",
      "model_name": "LayoutModel",
      "state": {}
     },
     "25a41837b39b4f10a842bf05d9810aec": {
      "model_module": "@jupyter-widgets/controls",
      "model_module_version": "1.5.0",
      "model_name": "DescriptionStyleModel",
      "state": {
       "description_width": ""
      }
     },
     "25acf01d0fc84bf1bf4b5f6adde0b967": {
      "model_module": "@jupyter-widgets/controls",
      "model_module_version": "1.5.0",
      "model_name": "DescriptionStyleModel",
      "state": {
       "description_width": ""
      }
     },
     "25b73042e0a34ef1903b4c1693556748": {
      "model_module": "@jupyter-widgets/controls",
      "model_module_version": "1.5.0",
      "model_name": "ProgressStyleModel",
      "state": {
       "description_width": ""
      }
     },
     "25c4475b12fa44698635c5f92a13c2ae": {
      "model_module": "@jupyter-widgets/base",
      "model_module_version": "1.2.0",
      "model_name": "LayoutModel",
      "state": {}
     },
     "263e54e63dab4d948b1e6597398116e9": {
      "model_module": "@jupyter-widgets/controls",
      "model_module_version": "1.5.0",
      "model_name": "FloatProgressModel",
      "state": {
       "bar_style": "success",
       "layout": "IPY_MODEL_186a8a111a074a6c890845fcee874a36",
       "max": 8,
       "style": "IPY_MODEL_28879bae01914881a2e2258c1341dd41",
       "value": 8
      }
     },
     "2686f3541e4945bbb7f3c2be24b6b1c6": {
      "model_module": "@jupyter-widgets/controls",
      "model_module_version": "1.5.0",
      "model_name": "HTMLModel",
      "state": {
       "layout": "IPY_MODEL_339ef075f92a413d84c0f3cf1167c820",
       "style": "IPY_MODEL_5d6a47e2566c400dbc3ecbc44a53067a",
       "value": " 8/8 [14:29&lt;00:00, 90.89s/it]"
      }
     },
     "26e1ddbae7474afa9588abb1197ef737": {
      "model_module": "@jupyter-widgets/controls",
      "model_module_version": "1.5.0",
      "model_name": "ProgressStyleModel",
      "state": {
       "description_width": ""
      }
     },
     "27c0eabaf3cf4ffab7be51e852f2cb89": {
      "model_module": "@jupyter-widgets/controls",
      "model_module_version": "1.5.0",
      "model_name": "FloatProgressModel",
      "state": {
       "bar_style": "success",
       "layout": "IPY_MODEL_ca7993db2ca140b9b6678169873a1922",
       "max": 8,
       "style": "IPY_MODEL_5288c38e87954ecabe47457b292e7517",
       "value": 8
      }
     },
     "280f8ad365224090882948043cef67b3": {
      "model_module": "@jupyter-widgets/controls",
      "model_module_version": "1.5.0",
      "model_name": "HBoxModel",
      "state": {
       "children": [
        "IPY_MODEL_413cf02993e44676866c61ed7b95bfbb",
        "IPY_MODEL_9575c4d4bd8140e498dcf0f750c6ec60",
        "IPY_MODEL_a69129ea97984817bfff9a69034a4aab"
       ],
       "layout": "IPY_MODEL_56d7373cc1864371a01d9b8d625776c3"
      }
     },
     "282aa08ef1004e25a445f1daf87a2945": {
      "model_module": "@jupyter-widgets/base",
      "model_module_version": "1.2.0",
      "model_name": "LayoutModel",
      "state": {}
     },
     "28879bae01914881a2e2258c1341dd41": {
      "model_module": "@jupyter-widgets/controls",
      "model_module_version": "1.5.0",
      "model_name": "ProgressStyleModel",
      "state": {
       "description_width": ""
      }
     },
     "2905a0e2784f4dfdb578662cd9393353": {
      "model_module": "@jupyter-widgets/controls",
      "model_module_version": "1.5.0",
      "model_name": "HTMLModel",
      "state": {
       "layout": "IPY_MODEL_834a6df0c7004274b61740ea7865c10a",
       "style": "IPY_MODEL_4a7edc40d7f3479f998884dc127d3581",
       "value": " 8/8 [13:58&lt;00:00, 87.37s/it]"
      }
     },
     "291fdd91f8a9496cba36237dea122e98": {
      "model_module": "@jupyter-widgets/base",
      "model_module_version": "1.2.0",
      "model_name": "LayoutModel",
      "state": {}
     },
     "2928e3bf63f44e859ca17b50169ed247": {
      "model_module": "@jupyter-widgets/controls",
      "model_module_version": "1.5.0",
      "model_name": "HTMLModel",
      "state": {
       "layout": "IPY_MODEL_627d227fae4a40ba9bc82e7d1b5dd8e1",
       "style": "IPY_MODEL_6df9b51285ba4697acadd66297f3a8d1",
       "value": "100%"
      }
     },
     "2939bb880a0d4c4fb176f5afe5359eca": {
      "model_module": "@jupyter-widgets/base",
      "model_module_version": "1.2.0",
      "model_name": "LayoutModel",
      "state": {}
     },
     "293f489a79234b6aabafb549bb8712ef": {
      "model_module": "@jupyter-widgets/controls",
      "model_module_version": "1.5.0",
      "model_name": "HTMLModel",
      "state": {
       "layout": "IPY_MODEL_bfd9278c79ea4e12907c5c7809c6c8bd",
       "style": "IPY_MODEL_3574a0e989534c0c9105f3797d3e160d",
       "value": "100%"
      }
     },
     "29710b368c044211ac77c154bb55edbd": {
      "model_module": "@jupyter-widgets/controls",
      "model_module_version": "1.5.0",
      "model_name": "HTMLModel",
      "state": {
       "layout": "IPY_MODEL_44e3fb5cc0f94a3fa04c18fb7ec77e42",
       "style": "IPY_MODEL_008418fd3a02475491ca224aa96b072b",
       "value": "100%"
      }
     },
     "2af540ed499b404d828a341ec13700b0": {
      "model_module": "@jupyter-widgets/base",
      "model_module_version": "1.2.0",
      "model_name": "LayoutModel",
      "state": {}
     },
     "2b5d639d94bc44d9830d7878d2159d44": {
      "model_module": "@jupyter-widgets/controls",
      "model_module_version": "1.5.0",
      "model_name": "FloatProgressModel",
      "state": {
       "bar_style": "danger",
       "layout": "IPY_MODEL_6922b36ebc62435ea996b289da4cfe0e",
       "max": 8,
       "style": "IPY_MODEL_df60adb96aa04305b6944b613544f996"
      }
     },
     "2c58488eb1f64e3ab268cb2311f955fc": {
      "model_module": "@jupyter-widgets/controls",
      "model_module_version": "1.5.0",
      "model_name": "DescriptionStyleModel",
      "state": {
       "description_width": ""
      }
     },
     "2d0c73227b2d41899792c742a0ffe3a5": {
      "model_module": "@jupyter-widgets/controls",
      "model_module_version": "1.5.0",
      "model_name": "DescriptionStyleModel",
      "state": {
       "description_width": ""
      }
     },
     "2d4a265b754f4b94b6a6a1f180ac09e2": {
      "model_module": "@jupyter-widgets/controls",
      "model_module_version": "1.5.0",
      "model_name": "DescriptionStyleModel",
      "state": {
       "description_width": ""
      }
     },
     "2d6eb6aa4fb045ef9434e62919ff60e3": {
      "model_module": "@jupyter-widgets/controls",
      "model_module_version": "1.5.0",
      "model_name": "HTMLModel",
      "state": {
       "layout": "IPY_MODEL_76910a2e989d457b84a0ba38d246ed42",
       "style": "IPY_MODEL_731da3cfa4264bdcb37cdd49246c3df1",
       "value": "100%"
      }
     },
     "2d6fffdf50b9445b88fefdb4efd00a25": {
      "model_module": "@jupyter-widgets/controls",
      "model_module_version": "1.5.0",
      "model_name": "HBoxModel",
      "state": {
       "children": [
        "IPY_MODEL_07cc6fcd933147fea0f3b0046f2412e7",
        "IPY_MODEL_907a80dbc88e4736ab672d0f0b18cea6",
        "IPY_MODEL_9b05cf2863bb46ec82c45c5f7143f2cf"
       ],
       "layout": "IPY_MODEL_731e18163d3a4b4498e2e73211f2734c"
      }
     },
     "2d9c439f426e47d585a890a806884509": {
      "model_module": "@jupyter-widgets/controls",
      "model_module_version": "1.5.0",
      "model_name": "HTMLModel",
      "state": {
       "layout": "IPY_MODEL_e64ae1e914b24a18aeed930138134e5b",
       "style": "IPY_MODEL_ee67f080b6d142fe9d1d062b7c240d5c",
       "value": " 8/8 [07:42&lt;00:00, 49.37s/it]"
      }
     },
     "2dc4c470bd4d4b91944b615bfa4ac5b6": {
      "model_module": "@jupyter-widgets/controls",
      "model_module_version": "1.5.0",
      "model_name": "ProgressStyleModel",
      "state": {
       "description_width": ""
      }
     },
     "2e2a9655e99e44668b1d78d997ea74ce": {
      "model_module": "@jupyter-widgets/base",
      "model_module_version": "1.2.0",
      "model_name": "LayoutModel",
      "state": {}
     },
     "2e44341cfa2941b0a6f2929c720b0de2": {
      "model_module": "@jupyter-widgets/base",
      "model_module_version": "1.2.0",
      "model_name": "LayoutModel",
      "state": {}
     },
     "2ea851a8e1f84fed8c57274f61e4d23c": {
      "model_module": "@jupyter-widgets/controls",
      "model_module_version": "1.5.0",
      "model_name": "HTMLModel",
      "state": {
       "layout": "IPY_MODEL_2e44341cfa2941b0a6f2929c720b0de2",
       "style": "IPY_MODEL_ccce99b04a2244d9a101f3fc0fc4c0ed",
       "value": " 8/8 [13:55&lt;00:00, 89.12s/it]"
      }
     },
     "2f7cdcb03f764a5eb430510ddea9b96c": {
      "model_module": "@jupyter-widgets/controls",
      "model_module_version": "1.5.0",
      "model_name": "DescriptionStyleModel",
      "state": {
       "description_width": ""
      }
     },
     "2fa9788f5784473ea07cf23c49ab0f81": {
      "model_module": "@jupyter-widgets/controls",
      "model_module_version": "1.5.0",
      "model_name": "HTMLModel",
      "state": {
       "layout": "IPY_MODEL_682322445f2f4bf786b8cf9ff719fc88",
       "style": "IPY_MODEL_919d9ce2558849688492a0d450597347",
       "value": "100%"
      }
     },
     "2fd3518e07be4e449caeb663b1a3bf68": {
      "model_module": "@jupyter-widgets/base",
      "model_module_version": "1.2.0",
      "model_name": "LayoutModel",
      "state": {}
     },
     "2fdbbf6ba4b94e74a76afdf5a2c0c6a1": {
      "model_module": "@jupyter-widgets/controls",
      "model_module_version": "1.5.0",
      "model_name": "FloatProgressModel",
      "state": {
       "bar_style": "success",
       "layout": "IPY_MODEL_f0f0276891de442eae3d15e021794214",
       "max": 8,
       "style": "IPY_MODEL_89993e6546f34fd3ab0513a4bf6b465f",
       "value": 8
      }
     },
     "2fe294ada697456cb84bb55a802e1e3a": {
      "model_module": "@jupyter-widgets/controls",
      "model_module_version": "1.5.0",
      "model_name": "ProgressStyleModel",
      "state": {
       "description_width": ""
      }
     },
     "2fe982142b764a3ab3a31321d628406c": {
      "model_module": "@jupyter-widgets/controls",
      "model_module_version": "1.5.0",
      "model_name": "DescriptionStyleModel",
      "state": {
       "description_width": ""
      }
     },
     "30008b94f3ed43cdaf2d7675c95d53a6": {
      "model_module": "@jupyter-widgets/controls",
      "model_module_version": "1.5.0",
      "model_name": "ProgressStyleModel",
      "state": {
       "description_width": ""
      }
     },
     "303f210e6ccb4ba89580aff9ff2aa97e": {
      "model_module": "@jupyter-widgets/controls",
      "model_module_version": "1.5.0",
      "model_name": "HTMLModel",
      "state": {
       "layout": "IPY_MODEL_21489f12dcad4ef5b8ec9890203f09ff",
       "style": "IPY_MODEL_f36704115d114800a0aadc568a9350c7",
       "value": " 8/8 [14:41&lt;00:00, 92.64s/it]"
      }
     },
     "304e41b8679443d99dafde277e7ca3cb": {
      "model_module": "@jupyter-widgets/controls",
      "model_module_version": "1.5.0",
      "model_name": "ProgressStyleModel",
      "state": {
       "description_width": ""
      }
     },
     "308c9e321a97404f9cc1349ee9e12847": {
      "model_module": "@jupyter-widgets/controls",
      "model_module_version": "1.5.0",
      "model_name": "HTMLModel",
      "state": {
       "layout": "IPY_MODEL_5a95008adf034d3d851283f55b25b944",
       "style": "IPY_MODEL_c04c824b2dec478bb2e56c93d5e26777",
       "value": "100%"
      }
     },
     "30abab1f1d3848f8864d67e1acb2843e": {
      "model_module": "@jupyter-widgets/base",
      "model_module_version": "1.2.0",
      "model_name": "LayoutModel",
      "state": {}
     },
     "30c792180c524390a2e5667e7833b449": {
      "model_module": "@jupyter-widgets/controls",
      "model_module_version": "1.5.0",
      "model_name": "DescriptionStyleModel",
      "state": {
       "description_width": ""
      }
     },
     "30dbc673be3f454f8e1408c330119386": {
      "model_module": "@jupyter-widgets/base",
      "model_module_version": "1.2.0",
      "model_name": "LayoutModel",
      "state": {}
     },
     "30f8f2b6ef7c43f5b14cc18755d8527d": {
      "model_module": "@jupyter-widgets/base",
      "model_module_version": "1.2.0",
      "model_name": "LayoutModel",
      "state": {}
     },
     "313d4cdc28794457b1c968ff6f2b9d0f": {
      "model_module": "@jupyter-widgets/base",
      "model_module_version": "1.2.0",
      "model_name": "LayoutModel",
      "state": {}
     },
     "31d652d69634484d917c9436e4515f92": {
      "model_module": "@jupyter-widgets/controls",
      "model_module_version": "1.5.0",
      "model_name": "FloatProgressModel",
      "state": {
       "bar_style": "success",
       "layout": "IPY_MODEL_34dab693383e415a8df2238dfeb004ef",
       "max": 23,
       "style": "IPY_MODEL_c931160219d746029855a1244beb14cc",
       "value": 23
      }
     },
     "3219ae73fb764fba846ee3de47de6cc1": {
      "model_module": "@jupyter-widgets/controls",
      "model_module_version": "1.5.0",
      "model_name": "HBoxModel",
      "state": {
       "children": [
        "IPY_MODEL_feba5ee62f0145168e32ee6f995b65fe",
        "IPY_MODEL_3ee9283a7bd34eb39e30fdfacee2a670",
        "IPY_MODEL_6bc5a2f3f05e45bea6da3cd7465d6d23"
       ],
       "layout": "IPY_MODEL_8b021c836a0e46519dab917687b41ace"
      }
     },
     "328ab0349b5645acb29bf1b3649a165f": {
      "model_module": "@jupyter-widgets/base",
      "model_module_version": "1.2.0",
      "model_name": "LayoutModel",
      "state": {}
     },
     "3291fa4e866e408390dadd7a8d8b264b": {
      "model_module": "@jupyter-widgets/base",
      "model_module_version": "1.2.0",
      "model_name": "LayoutModel",
      "state": {}
     },
     "3351ffddedc34261986d335394f54c41": {
      "model_module": "@jupyter-widgets/base",
      "model_module_version": "1.2.0",
      "model_name": "LayoutModel",
      "state": {}
     },
     "3353ce6431fe425ba24028da4359be99": {
      "model_module": "@jupyter-widgets/controls",
      "model_module_version": "1.5.0",
      "model_name": "DescriptionStyleModel",
      "state": {
       "description_width": ""
      }
     },
     "339ef075f92a413d84c0f3cf1167c820": {
      "model_module": "@jupyter-widgets/base",
      "model_module_version": "1.2.0",
      "model_name": "LayoutModel",
      "state": {}
     },
     "33dcaf3f52234e728a6f0ec59544f449": {
      "model_module": "@jupyter-widgets/controls",
      "model_module_version": "1.5.0",
      "model_name": "HTMLModel",
      "state": {
       "layout": "IPY_MODEL_a2ef46da5751464489180702b6adf5f1",
       "style": "IPY_MODEL_30c792180c524390a2e5667e7833b449",
       "value": "100%"
      }
     },
     "33e60d545e7148568e54e3d53453ba26": {
      "model_module": "@jupyter-widgets/base",
      "model_module_version": "1.2.0",
      "model_name": "LayoutModel",
      "state": {}
     },
     "3412f501df144f36bf79cbeffa57e673": {
      "model_module": "@jupyter-widgets/base",
      "model_module_version": "1.2.0",
      "model_name": "LayoutModel",
      "state": {}
     },
     "3471f2a950f34527b8d9a08ca505e0d1": {
      "model_module": "@jupyter-widgets/controls",
      "model_module_version": "1.5.0",
      "model_name": "HTMLModel",
      "state": {
       "layout": "IPY_MODEL_1bdb219b55f34643b50679dfc157e2c6",
       "style": "IPY_MODEL_0a1d875ec8dc4336a44b0b7b545d269c",
       "value": "100%"
      }
     },
     "34dab693383e415a8df2238dfeb004ef": {
      "model_module": "@jupyter-widgets/base",
      "model_module_version": "1.2.0",
      "model_name": "LayoutModel",
      "state": {}
     },
     "34e81fea787e42a0b93d2ef063c3b7a4": {
      "model_module": "@jupyter-widgets/base",
      "model_module_version": "1.2.0",
      "model_name": "LayoutModel",
      "state": {}
     },
     "3544fccd5c4a4e76a133c70aad7a04c4": {
      "model_module": "@jupyter-widgets/controls",
      "model_module_version": "1.5.0",
      "model_name": "HTMLModel",
      "state": {
       "layout": "IPY_MODEL_869351272e43495196b93164640b809d",
       "style": "IPY_MODEL_82be175a96d54211ac9b6fe9fdfaac73",
       "value": " 8/8 [14:35&lt;00:00, 92.74s/it]"
      }
     },
     "3574a0e989534c0c9105f3797d3e160d": {
      "model_module": "@jupyter-widgets/controls",
      "model_module_version": "1.5.0",
      "model_name": "DescriptionStyleModel",
      "state": {
       "description_width": ""
      }
     },
     "359510715fbc498d88d33043c80d5830": {
      "model_module": "@jupyter-widgets/controls",
      "model_module_version": "1.5.0",
      "model_name": "HTMLModel",
      "state": {
       "layout": "IPY_MODEL_c74362e23cf141a990e6ae2a614a6dde",
       "style": "IPY_MODEL_5e68c1df0e9b4d36955380b4d202f38d",
       "value": "100%"
      }
     },
     "35b9737f773f4adc94704375ad169dd5": {
      "model_module": "@jupyter-widgets/controls",
      "model_module_version": "1.5.0",
      "model_name": "ProgressStyleModel",
      "state": {
       "description_width": ""
      }
     },
     "35fdbe6ad361479587f4fe85f713da11": {
      "model_module": "@jupyter-widgets/base",
      "model_module_version": "1.2.0",
      "model_name": "LayoutModel",
      "state": {}
     },
     "36e5b5f6962b4a03b6baee886fd46cdb": {
      "model_module": "@jupyter-widgets/controls",
      "model_module_version": "1.5.0",
      "model_name": "HBoxModel",
      "state": {
       "children": [
        "IPY_MODEL_ba6d57f54eda4de893ba49cf04fbae8e",
        "IPY_MODEL_7edf1a0696374d99aeda8d3df285b1ac",
        "IPY_MODEL_5d0de01bef5049a3992e95ffb9388d06"
       ],
       "layout": "IPY_MODEL_ce188f7bb69d46dda3b7dca67481eecd"
      }
     },
     "370ec4874aa1471185d6f7c25cbedd65": {
      "model_module": "@jupyter-widgets/controls",
      "model_module_version": "1.5.0",
      "model_name": "DescriptionStyleModel",
      "state": {
       "description_width": ""
      }
     },
     "373198a9a1894913a484f21d0b39f0b7": {
      "model_module": "@jupyter-widgets/controls",
      "model_module_version": "1.5.0",
      "model_name": "HTMLModel",
      "state": {
       "layout": "IPY_MODEL_581eb16ffad7447f84b57fb334469a68",
       "style": "IPY_MODEL_af38d0ffd453465f89df0c35627c9a01",
       "value": "100%"
      }
     },
     "3785a0d8266c45cd96eadb1c12e459bc": {
      "model_module": "@jupyter-widgets/base",
      "model_module_version": "1.2.0",
      "model_name": "LayoutModel",
      "state": {}
     },
     "378f37d8545f4682b08ce2b688075c33": {
      "model_module": "@jupyter-widgets/controls",
      "model_module_version": "1.5.0",
      "model_name": "ProgressStyleModel",
      "state": {
       "description_width": ""
      }
     },
     "3793d830e5214330ac199e8e541be9af": {
      "model_module": "@jupyter-widgets/controls",
      "model_module_version": "1.5.0",
      "model_name": "HTMLModel",
      "state": {
       "layout": "IPY_MODEL_11e39bf0be854ae69ad1c06fe4e08155",
       "style": "IPY_MODEL_ee4efe6a598643e28f88dddc7d3e5b27",
       "value": "100%"
      }
     },
     "37fde4b15d8c46a1a8a411678b91552c": {
      "model_module": "@jupyter-widgets/base",
      "model_module_version": "1.2.0",
      "model_name": "LayoutModel",
      "state": {}
     },
     "37ffadea5c424b5a9a35c4c205e1c476": {
      "model_module": "@jupyter-widgets/base",
      "model_module_version": "1.2.0",
      "model_name": "LayoutModel",
      "state": {}
     },
     "3804fca01d9542b2a0e3032ce2509917": {
      "model_module": "@jupyter-widgets/controls",
      "model_module_version": "1.5.0",
      "model_name": "HBoxModel",
      "state": {
       "children": [
        "IPY_MODEL_834f74a347ea4c97ace794b44ff6a6df",
        "IPY_MODEL_0bc1e9669e8d445bb6857e56e2d5e4a5",
        "IPY_MODEL_d9da283ac6ea4699808b6739b93d2489"
       ],
       "layout": "IPY_MODEL_cc5b98950fab4b61b3af9768de360ecb"
      }
     },
     "380a9bf40fd54e8b980dae4bae85dda3": {
      "model_module": "@jupyter-widgets/controls",
      "model_module_version": "1.5.0",
      "model_name": "DescriptionStyleModel",
      "state": {
       "description_width": ""
      }
     },
     "381e53767fab456383e998d44f855e78": {
      "model_module": "@jupyter-widgets/controls",
      "model_module_version": "1.5.0",
      "model_name": "HBoxModel",
      "state": {
       "children": [
        "IPY_MODEL_359510715fbc498d88d33043c80d5830",
        "IPY_MODEL_10c101c20f02400a8f43dcedd5ae7742",
        "IPY_MODEL_e5750d8af0884ba6bbcedb6d8ec84e7b"
       ],
       "layout": "IPY_MODEL_235a56643ab44372a77783ce4f3a41af"
      }
     },
     "38e8dfafb07a423a85bc60761631207b": {
      "model_module": "@jupyter-widgets/base",
      "model_module_version": "1.2.0",
      "model_name": "LayoutModel",
      "state": {}
     },
     "38f9615aedd94d879f4ea45377cb304d": {
      "model_module": "@jupyter-widgets/base",
      "model_module_version": "1.2.0",
      "model_name": "LayoutModel",
      "state": {}
     },
     "398c17414e6e495f9e4dc2a27e20f658": {
      "model_module": "@jupyter-widgets/controls",
      "model_module_version": "1.5.0",
      "model_name": "HBoxModel",
      "state": {
       "children": [
        "IPY_MODEL_4b426ca04f394cd4a11737178be0079d",
        "IPY_MODEL_81a312987e9e44e0aa3ef39531795823",
        "IPY_MODEL_c38c1ee8e33c404d8798a407db6ac07e"
       ],
       "layout": "IPY_MODEL_5b78bc9336bc4fd6971b559d5e18f69d"
      }
     },
     "39dfc7426e4642b08b3ff0f1ec5fc11e": {
      "model_module": "@jupyter-widgets/controls",
      "model_module_version": "1.5.0",
      "model_name": "DescriptionStyleModel",
      "state": {
       "description_width": ""
      }
     },
     "3a08397f06c04f66ac4effa9c3f7f204": {
      "model_module": "@jupyter-widgets/base",
      "model_module_version": "1.2.0",
      "model_name": "LayoutModel",
      "state": {}
     },
     "3a5a6610bcdb47ce8a2c28af4d1b2be5": {
      "model_module": "@jupyter-widgets/base",
      "model_module_version": "1.2.0",
      "model_name": "LayoutModel",
      "state": {}
     },
     "3a7de91b723d4c66af2b3b20c141b325": {
      "model_module": "@jupyter-widgets/base",
      "model_module_version": "1.2.0",
      "model_name": "LayoutModel",
      "state": {}
     },
     "3aee979febad48faa74f3cd70b9a4fca": {
      "model_module": "@jupyter-widgets/controls",
      "model_module_version": "1.5.0",
      "model_name": "HTMLModel",
      "state": {
       "layout": "IPY_MODEL_9d488da6247e4b71b76b03b0c8ef957c",
       "style": "IPY_MODEL_06ed956249924c9983d4dae1743a72af",
       "value": " 8/8 [14:39&lt;00:00, 92.20s/it]"
      }
     },
     "3b2ec825a72b455382af80ba235eb7e9": {
      "model_module": "@jupyter-widgets/controls",
      "model_module_version": "1.5.0",
      "model_name": "ProgressStyleModel",
      "state": {
       "description_width": ""
      }
     },
     "3b8d0cab6e5e4655bed757deba4655b2": {
      "model_module": "@jupyter-widgets/controls",
      "model_module_version": "1.5.0",
      "model_name": "DescriptionStyleModel",
      "state": {
       "description_width": ""
      }
     },
     "3bcd2a4f67cf46dfadc1d92661fce2a5": {
      "model_module": "@jupyter-widgets/base",
      "model_module_version": "1.2.0",
      "model_name": "LayoutModel",
      "state": {}
     },
     "3be133573fe14976b19843795ce604eb": {
      "model_module": "@jupyter-widgets/controls",
      "model_module_version": "1.5.0",
      "model_name": "HTMLModel",
      "state": {
       "layout": "IPY_MODEL_147a0026c32148a5ba9886e20ba628e1",
       "style": "IPY_MODEL_9370a37bd829474283b1599b01fcf63c",
       "value": "100%"
      }
     },
     "3be6b3643e3040ee95dd62e0bf8c95eb": {
      "model_module": "@jupyter-widgets/controls",
      "model_module_version": "1.5.0",
      "model_name": "DescriptionStyleModel",
      "state": {
       "description_width": ""
      }
     },
     "3bf62153b6b44d739c72a49e2afc645b": {
      "model_module": "@jupyter-widgets/base",
      "model_module_version": "1.2.0",
      "model_name": "LayoutModel",
      "state": {}
     },
     "3c1a390fe7cb40aca2ea34e1d61a9b5e": {
      "model_module": "@jupyter-widgets/controls",
      "model_module_version": "1.5.0",
      "model_name": "HBoxModel",
      "state": {
       "children": [
        "IPY_MODEL_990632c280cd4b328a6705cf3b4fb887",
        "IPY_MODEL_b236fbaea2c344ffb3cfdcf4238563ef",
        "IPY_MODEL_ebc6645d9d8a4fa6b4e5ee95bdeb2f8f"
       ],
       "layout": "IPY_MODEL_c1b35056a07848e59768b7e772d7809e"
      }
     },
     "3c7434e1b95c462789b8330c646146fd": {
      "model_module": "@jupyter-widgets/base",
      "model_module_version": "1.2.0",
      "model_name": "LayoutModel",
      "state": {}
     },
     "3c9ba18b67004096afccdee44a2fc111": {
      "model_module": "@jupyter-widgets/controls",
      "model_module_version": "1.5.0",
      "model_name": "DescriptionStyleModel",
      "state": {
       "description_width": ""
      }
     },
     "3cddd45c37a844b9b32d616dac38bd58": {
      "model_module": "@jupyter-widgets/controls",
      "model_module_version": "1.5.0",
      "model_name": "HBoxModel",
      "state": {
       "children": [
        "IPY_MODEL_f9dd8353818d41b89ad915b7d13b008d",
        "IPY_MODEL_df252287aaa84ca8b432d85e7362ae72",
        "IPY_MODEL_8336d45f20bd49f6a2e1e541cda01ce4"
       ],
       "layout": "IPY_MODEL_00fe98af2bf548aa8510bbe56d01b61f"
      }
     },
     "3d0e69cd5bee4b8eb2efd2c66620374c": {
      "model_module": "@jupyter-widgets/controls",
      "model_module_version": "1.5.0",
      "model_name": "DescriptionStyleModel",
      "state": {
       "description_width": ""
      }
     },
     "3d400ae4f822438489f835826209f8ce": {
      "model_module": "@jupyter-widgets/base",
      "model_module_version": "1.2.0",
      "model_name": "LayoutModel",
      "state": {}
     },
     "3d4a718112d64da189a9839471d7ad14": {
      "model_module": "@jupyter-widgets/controls",
      "model_module_version": "1.5.0",
      "model_name": "HTMLModel",
      "state": {
       "layout": "IPY_MODEL_093b27a1f9bd410ab6c9344dc89105e8",
       "style": "IPY_MODEL_6548d899436142c180b12aef0c621e1e",
       "value": " 8/8 [14:47&lt;00:00, 94.19s/it]"
      }
     },
     "3d695f75defd458f9f094db690991e1c": {
      "model_module": "@jupyter-widgets/base",
      "model_module_version": "1.2.0",
      "model_name": "LayoutModel",
      "state": {}
     },
     "3daaa20544bb4e4d8da61689dc9ed3ce": {
      "model_module": "@jupyter-widgets/base",
      "model_module_version": "1.2.0",
      "model_name": "LayoutModel",
      "state": {}
     },
     "3dd87843a2fc45a1ac302fa136c55b58": {
      "model_module": "@jupyter-widgets/controls",
      "model_module_version": "1.5.0",
      "model_name": "HBoxModel",
      "state": {
       "children": [
        "IPY_MODEL_cd9d08aec81e4130aa3b61ff6426bf55",
        "IPY_MODEL_263e54e63dab4d948b1e6597398116e9",
        "IPY_MODEL_dc3ee82d9f2a48bb8f33eff74a5022d1"
       ],
       "layout": "IPY_MODEL_5c672a655d0945cba94e6093fcd7f9cc"
      }
     },
     "3df618cfcb4540ef86edb4a71046c429": {
      "model_module": "@jupyter-widgets/controls",
      "model_module_version": "1.5.0",
      "model_name": "FloatProgressModel",
      "state": {
       "bar_style": "danger",
       "layout": "IPY_MODEL_6badf83da5e448aebc213722be3b33f5",
       "max": 8,
       "style": "IPY_MODEL_44d49e6a6d1d4a9eba20f1c69c9892a9"
      }
     },
     "3e517f5043d140daa8986787e4b3aa7b": {
      "model_module": "@jupyter-widgets/controls",
      "model_module_version": "1.5.0",
      "model_name": "HTMLModel",
      "state": {
       "layout": "IPY_MODEL_19a362402b194f718e26d25d5f2ef314",
       "style": "IPY_MODEL_2083733cf66943b69ffbb6ca0f2c5e32",
       "value": " 8/8 [14:27&lt;00:00, 92.54s/it]"
      }
     },
     "3e86bcb9845940bb87e36f22433219e8": {
      "model_module": "@jupyter-widgets/controls",
      "model_module_version": "1.5.0",
      "model_name": "FloatProgressModel",
      "state": {
       "bar_style": "success",
       "layout": "IPY_MODEL_651338e875a542658bb50796d6326602",
       "max": 8,
       "style": "IPY_MODEL_0e5100ab5ee04f6a8da5846671e09e59",
       "value": 8
      }
     },
     "3e91e3674d714ff5879b9953fd47903f": {
      "model_module": "@jupyter-widgets/controls",
      "model_module_version": "1.5.0",
      "model_name": "ProgressStyleModel",
      "state": {
       "description_width": ""
      }
     },
     "3ee9283a7bd34eb39e30fdfacee2a670": {
      "model_module": "@jupyter-widgets/controls",
      "model_module_version": "1.5.0",
      "model_name": "FloatProgressModel",
      "state": {
       "bar_style": "success",
       "layout": "IPY_MODEL_d7c2a9157f3043bab2dee86165b42671",
       "max": 8,
       "style": "IPY_MODEL_93d61dd7cba4438aa2b031a039e0b001",
       "value": 8
      }
     },
     "3f0f3a0326bc4824996a541d70dcb313": {
      "model_module": "@jupyter-widgets/controls",
      "model_module_version": "1.5.0",
      "model_name": "ProgressStyleModel",
      "state": {
       "description_width": ""
      }
     },
     "3f11c9aa29824e8c9b31950eeac8153b": {
      "model_module": "@jupyter-widgets/controls",
      "model_module_version": "1.5.0",
      "model_name": "DescriptionStyleModel",
      "state": {
       "description_width": ""
      }
     },
     "3f196c67cb7c48aeb5f497c22f94b62c": {
      "model_module": "@jupyter-widgets/base",
      "model_module_version": "1.2.0",
      "model_name": "LayoutModel",
      "state": {}
     },
     "3f3533b5902f4d17974fc059f4534464": {
      "model_module": "@jupyter-widgets/controls",
      "model_module_version": "1.5.0",
      "model_name": "HBoxModel",
      "state": {
       "children": [
        "IPY_MODEL_4754e8337c39468fa8b344b86e4329e4",
        "IPY_MODEL_1b9e5f3f7cc54b4d9063a0a18e60fa04",
        "IPY_MODEL_89a142e329284daaba00c228ea536a7a"
       ],
       "layout": "IPY_MODEL_70c8b553899e48afaed4f4629c9d57b2"
      }
     },
     "3f6dd9e096df4003b4ccbc9d2c5c3f1d": {
      "model_module": "@jupyter-widgets/base",
      "model_module_version": "1.2.0",
      "model_name": "LayoutModel",
      "state": {}
     },
     "3f7f38d614144024a3de6e44e83cb4c5": {
      "model_module": "@jupyter-widgets/controls",
      "model_module_version": "1.5.0",
      "model_name": "HTMLModel",
      "state": {
       "layout": "IPY_MODEL_25741a59d5df4102befbce403660c373",
       "style": "IPY_MODEL_728ea0476ac94a69a3746e48ef177f83",
       "value": " 0/23 [00:00&lt;?, ?it/s]"
      }
     },
     "3fa4d424a0104d27877f74c897b50d9e": {
      "model_module": "@jupyter-widgets/base",
      "model_module_version": "1.2.0",
      "model_name": "LayoutModel",
      "state": {}
     },
     "400760cdf01f47729d398b446e7038dc": {
      "model_module": "@jupyter-widgets/base",
      "model_module_version": "1.2.0",
      "model_name": "LayoutModel",
      "state": {}
     },
     "4046ef34a0f0477b8fef51040973ddfd": {
      "model_module": "@jupyter-widgets/controls",
      "model_module_version": "1.5.0",
      "model_name": "DescriptionStyleModel",
      "state": {
       "description_width": ""
      }
     },
     "409f0960a1e14073bc78a9a2928a2d24": {
      "model_module": "@jupyter-widgets/base",
      "model_module_version": "1.2.0",
      "model_name": "LayoutModel",
      "state": {}
     },
     "40e79f15b2fd4e50817365f50c397392": {
      "model_module": "@jupyter-widgets/controls",
      "model_module_version": "1.5.0",
      "model_name": "HBoxModel",
      "state": {
       "children": [
        "IPY_MODEL_8470ebc8c4b74f62a6c6bc38d74ec3f9",
        "IPY_MODEL_27c0eabaf3cf4ffab7be51e852f2cb89",
        "IPY_MODEL_b0ee917468a84871b6df9b8f970f678f"
       ],
       "layout": "IPY_MODEL_b15e885ae89243fb8a5eb74e6a60ccaf"
      }
     },
     "40ed551ddb3e488496287936de0c5b03": {
      "model_module": "@jupyter-widgets/controls",
      "model_module_version": "1.5.0",
      "model_name": "HBoxModel",
      "state": {
       "children": [
        "IPY_MODEL_b840adceda73463ba97aa6b029ccd39d",
        "IPY_MODEL_4fc578ef9fb94d189b3eb4c2ce8fe47c",
        "IPY_MODEL_0c8f689de01a4acd88d63af42368c2b4"
       ],
       "layout": "IPY_MODEL_b73f8c120edf4f338e39d44af0b0dd29"
      }
     },
     "40f60d6a2e514ed099caeaa6f65dfcba": {
      "model_module": "@jupyter-widgets/controls",
      "model_module_version": "1.5.0",
      "model_name": "HTMLModel",
      "state": {
       "layout": "IPY_MODEL_688d6e52b0124c738304bb45a6ffa680",
       "style": "IPY_MODEL_4c8c105b96d84a9ca1109b5b40f236a4",
       "value": " 8/8 [14:27&lt;00:00, 90.33s/it]"
      }
     },
     "41393290a29146cd93cbc55b97ab4bbd": {
      "model_module": "@jupyter-widgets/base",
      "model_module_version": "1.2.0",
      "model_name": "LayoutModel",
      "state": {}
     },
     "413cf02993e44676866c61ed7b95bfbb": {
      "model_module": "@jupyter-widgets/controls",
      "model_module_version": "1.5.0",
      "model_name": "HTMLModel",
      "state": {
       "layout": "IPY_MODEL_d5ca06ea8d084339bdc67fb964d4f29f",
       "style": "IPY_MODEL_026315ac412545aca62173fabf17925e",
       "value": "100%"
      }
     },
     "4173e77dca134151b5a6817a554781ff": {
      "model_module": "@jupyter-widgets/controls",
      "model_module_version": "1.5.0",
      "model_name": "HTMLModel",
      "state": {
       "layout": "IPY_MODEL_fa873062ad794ca583b404386b2b6c6c",
       "style": "IPY_MODEL_824ccf24aa864379b7c5e558e5440159",
       "value": "100%"
      }
     },
     "418c81c9a9c248739499e60e986037fe": {
      "model_module": "@jupyter-widgets/base",
      "model_module_version": "1.2.0",
      "model_name": "LayoutModel",
      "state": {}
     },
     "4190e7ecbfa3487ab8884bbb45da4e57": {
      "model_module": "@jupyter-widgets/controls",
      "model_module_version": "1.5.0",
      "model_name": "DescriptionStyleModel",
      "state": {
       "description_width": ""
      }
     },
     "41a85ef227574c89b6833e6f7fb07ecc": {
      "model_module": "@jupyter-widgets/base",
      "model_module_version": "1.2.0",
      "model_name": "LayoutModel",
      "state": {}
     },
     "4258c3633214414f9dd8448e73ef4c87": {
      "model_module": "@jupyter-widgets/controls",
      "model_module_version": "1.5.0",
      "model_name": "ProgressStyleModel",
      "state": {
       "description_width": ""
      }
     },
     "425bb7bb51084029890bb35847f9405d": {
      "model_module": "@jupyter-widgets/base",
      "model_module_version": "1.2.0",
      "model_name": "LayoutModel",
      "state": {}
     },
     "427cfab2099540b38c0c2a046298c7eb": {
      "model_module": "@jupyter-widgets/base",
      "model_module_version": "1.2.0",
      "model_name": "LayoutModel",
      "state": {}
     },
     "4288334b88fc4287b124bbfe39370c65": {
      "model_module": "@jupyter-widgets/controls",
      "model_module_version": "1.5.0",
      "model_name": "HTMLModel",
      "state": {
       "layout": "IPY_MODEL_69a47fe5cc7e430581884425c57bf7c0",
       "style": "IPY_MODEL_95298442e1da4dbaac059d2cfb5fe78d",
       "value": "100%"
      }
     },
     "430864a7f2614371bf44f13edad42f5c": {
      "model_module": "@jupyter-widgets/controls",
      "model_module_version": "1.5.0",
      "model_name": "ProgressStyleModel",
      "state": {
       "description_width": ""
      }
     },
     "433ad1c0ac0144e4a942a92e6d3a0c4d": {
      "model_module": "@jupyter-widgets/base",
      "model_module_version": "1.2.0",
      "model_name": "LayoutModel",
      "state": {}
     },
     "436b0e7ffff945219d38a9418b254005": {
      "model_module": "@jupyter-widgets/base",
      "model_module_version": "1.2.0",
      "model_name": "LayoutModel",
      "state": {}
     },
     "43b387af1f3e4c01af48e9c481c7ee66": {
      "model_module": "@jupyter-widgets/controls",
      "model_module_version": "1.5.0",
      "model_name": "DescriptionStyleModel",
      "state": {
       "description_width": ""
      }
     },
     "43f5831168ee437fb7fda3a80d0514e2": {
      "model_module": "@jupyter-widgets/controls",
      "model_module_version": "1.5.0",
      "model_name": "DescriptionStyleModel",
      "state": {
       "description_width": ""
      }
     },
     "43fe2340298b4859875b30af00610dfe": {
      "model_module": "@jupyter-widgets/controls",
      "model_module_version": "1.5.0",
      "model_name": "HTMLModel",
      "state": {
       "layout": "IPY_MODEL_5d23dffde0354c83b31764895b6b7b14",
       "style": "IPY_MODEL_9ff6e9f556cb4cf382200e83da2e06cd",
       "value": "  0%"
      }
     },
     "4411283ee9f54466ab6ce6d391f00c27": {
      "model_module": "@jupyter-widgets/controls",
      "model_module_version": "1.5.0",
      "model_name": "HBoxModel",
      "state": {
       "children": [
        "IPY_MODEL_466d263f162940ad85791a33840a37d4",
        "IPY_MODEL_0f7fb8151fd74e29bf54f4e9ddcd9cfd",
        "IPY_MODEL_cbeeaf02fec745d69846ca5945fc4a04"
       ],
       "layout": "IPY_MODEL_8f9226a117ec461ebbe451b49343f6bf"
      }
     },
     "442da93c00d744dd8f690dbfb900ac50": {
      "model_module": "@jupyter-widgets/base",
      "model_module_version": "1.2.0",
      "model_name": "LayoutModel",
      "state": {}
     },
     "4450294ccf2c440180152ffaf03fa151": {
      "model_module": "@jupyter-widgets/controls",
      "model_module_version": "1.5.0",
      "model_name": "ProgressStyleModel",
      "state": {
       "description_width": ""
      }
     },
     "446810b1e6754c5e9e56d451ba5967a7": {
      "model_module": "@jupyter-widgets/controls",
      "model_module_version": "1.5.0",
      "model_name": "HBoxModel",
      "state": {
       "children": [
        "IPY_MODEL_030faeef398a4b46965077a1a8bf8a3a",
        "IPY_MODEL_3e86bcb9845940bb87e36f22433219e8",
        "IPY_MODEL_e1fe45e570e546cface9dbcc3e5e6ef3"
       ],
       "layout": "IPY_MODEL_1a7fb36c780d44f381e8141d86e75c6e"
      }
     },
     "447bde799bea4bfcb213abb2b3e14718": {
      "model_module": "@jupyter-widgets/controls",
      "model_module_version": "1.5.0",
      "model_name": "DescriptionStyleModel",
      "state": {
       "description_width": ""
      }
     },
     "44829adcfe2f4a64b0e4d7082cf9f822": {
      "model_module": "@jupyter-widgets/controls",
      "model_module_version": "1.5.0",
      "model_name": "HTMLModel",
      "state": {
       "layout": "IPY_MODEL_e2bddc8c9b4d49d8a8d3a56183a588a9",
       "style": "IPY_MODEL_b7a19c94e4ee46b994cb315c83ee31e4",
       "value": "100%"
      }
     },
     "44d49e6a6d1d4a9eba20f1c69c9892a9": {
      "model_module": "@jupyter-widgets/controls",
      "model_module_version": "1.5.0",
      "model_name": "ProgressStyleModel",
      "state": {
       "description_width": ""
      }
     },
     "44e3fb5cc0f94a3fa04c18fb7ec77e42": {
      "model_module": "@jupyter-widgets/base",
      "model_module_version": "1.2.0",
      "model_name": "LayoutModel",
      "state": {}
     },
     "452904d0ac8445c9940b5fb1b30bdc1e": {
      "model_module": "@jupyter-widgets/controls",
      "model_module_version": "1.5.0",
      "model_name": "DescriptionStyleModel",
      "state": {
       "description_width": ""
      }
     },
     "4536eed27cb641a4a7707730d2b697ac": {
      "model_module": "@jupyter-widgets/controls",
      "model_module_version": "1.5.0",
      "model_name": "HBoxModel",
      "state": {
       "children": [
        "IPY_MODEL_a1b0711510dd443ca1b964a27ed6fd13",
        "IPY_MODEL_815a09c7eecd43d9871e62356757df90",
        "IPY_MODEL_0aa9808d6b5b436987a81ddcf45c3b6c"
       ],
       "layout": "IPY_MODEL_3a08397f06c04f66ac4effa9c3f7f204"
      }
     },
     "45c900152a8d4236be836cc397631b4c": {
      "model_module": "@jupyter-widgets/controls",
      "model_module_version": "1.5.0",
      "model_name": "HBoxModel",
      "state": {
       "children": [
        "IPY_MODEL_308c9e321a97404f9cc1349ee9e12847",
        "IPY_MODEL_c5a7dcdd2d094afe9a4906472fcbfd59",
        "IPY_MODEL_a9e7d8a00aa945459ceac09ac86f99a0"
       ],
       "layout": "IPY_MODEL_822a54e6eb2949d68f587f90fe1a64c8"
      }
     },
     "45d08be803cd465d903c2c6d49d9a151": {
      "model_module": "@jupyter-widgets/controls",
      "model_module_version": "1.5.0",
      "model_name": "HTMLModel",
      "state": {
       "layout": "IPY_MODEL_3351ffddedc34261986d335394f54c41",
       "style": "IPY_MODEL_a9cc6a718c404003bb950353254088c0",
       "value": "100%"
      }
     },
     "461f607b6d0047d496c4162166f338f0": {
      "model_module": "@jupyter-widgets/controls",
      "model_module_version": "1.5.0",
      "model_name": "DescriptionStyleModel",
      "state": {
       "description_width": ""
      }
     },
     "462c88033e3d4bfda707edc549b34006": {
      "model_module": "@jupyter-widgets/controls",
      "model_module_version": "1.5.0",
      "model_name": "HTMLModel",
      "state": {
       "layout": "IPY_MODEL_73f312b4671f428a96e753be48598c43",
       "style": "IPY_MODEL_6fee1ccd5c2b43f0bd191e6af779bdce",
       "value": "100%"
      }
     },
     "466d263f162940ad85791a33840a37d4": {
      "model_module": "@jupyter-widgets/controls",
      "model_module_version": "1.5.0",
      "model_name": "HTMLModel",
      "state": {
       "layout": "IPY_MODEL_021bf6ab00d749cbb82b7c6f09782143",
       "style": "IPY_MODEL_ad690f341a3e4f86a3fcf5ef21ff9c7f",
       "value": "  4%"
      }
     },
     "46981c34e52240afa82584909e53e534": {
      "model_module": "@jupyter-widgets/controls",
      "model_module_version": "1.5.0",
      "model_name": "HTMLModel",
      "state": {
       "layout": "IPY_MODEL_328ab0349b5645acb29bf1b3649a165f",
       "style": "IPY_MODEL_693e05f8a68f46d690344645535c3114",
       "value": " 8/8 [14:54&lt;00:00, 94.35s/it]"
      }
     },
     "469bf2f87e2249318867a3becbfeeaf7": {
      "model_module": "@jupyter-widgets/controls",
      "model_module_version": "1.5.0",
      "model_name": "HBoxModel",
      "state": {
       "children": [
        "IPY_MODEL_8472c58abe7a433cb46745ca9874460f",
        "IPY_MODEL_8a92bdc1a1574a7cab79bef5d0a6aa74",
        "IPY_MODEL_b29df192a8f44fc2867a408368de0edf"
       ],
       "layout": "IPY_MODEL_8c91bf04735f44e0b56cab15ae0d7e1c"
      }
     },
     "469d5dbde85447d0bde93ac800dff920": {
      "model_module": "@jupyter-widgets/controls",
      "model_module_version": "1.5.0",
      "model_name": "FloatProgressModel",
      "state": {
       "bar_style": "success",
       "layout": "IPY_MODEL_15b6be65c8964e9fb57080de82ab6319",
       "max": 23,
       "style": "IPY_MODEL_ac62fc4aaa7e4076ade407236616cef0",
       "value": 23
      }
     },
     "46b513916fd3437980f3c06f8b16da95": {
      "model_module": "@jupyter-widgets/controls",
      "model_module_version": "1.5.0",
      "model_name": "HTMLModel",
      "state": {
       "layout": "IPY_MODEL_b1dad68b2bd34fb4914527b17c8d5ef6",
       "style": "IPY_MODEL_56346a898e0541ff9f3b1f1d094d26be",
       "value": " 8/8 [14:25&lt;00:00, 90.13s/it]"
      }
     },
     "4754e8337c39468fa8b344b86e4329e4": {
      "model_module": "@jupyter-widgets/controls",
      "model_module_version": "1.5.0",
      "model_name": "HTMLModel",
      "state": {
       "layout": "IPY_MODEL_409f0960a1e14073bc78a9a2928a2d24",
       "style": "IPY_MODEL_3353ce6431fe425ba24028da4359be99",
       "value": "100%"
      }
     },
     "47b0faf104514882a0feca7066b1dd99": {
      "model_module": "@jupyter-widgets/controls",
      "model_module_version": "1.5.0",
      "model_name": "DescriptionStyleModel",
      "state": {
       "description_width": ""
      }
     },
     "47b43211653a499d829b76ca0ba226f0": {
      "model_module": "@jupyter-widgets/controls",
      "model_module_version": "1.5.0",
      "model_name": "HTMLModel",
      "state": {
       "layout": "IPY_MODEL_e4f34134f50e4e029ce93933f64d4aac",
       "style": "IPY_MODEL_aa29ba61d3e44fb898d6a020f0db8eab",
       "value": " 8/8 [14:36&lt;00:00, 93.68s/it]"
      }
     },
     "483f3580984041f58f2615594da75edb": {
      "model_module": "@jupyter-widgets/base",
      "model_module_version": "1.2.0",
      "model_name": "LayoutModel",
      "state": {}
     },
     "485d2f72b593417d8184848ba988768d": {
      "model_module": "@jupyter-widgets/controls",
      "model_module_version": "1.5.0",
      "model_name": "HTMLModel",
      "state": {
       "layout": "IPY_MODEL_24ab0bd647f142329e10c0f6a54a1263",
       "style": "IPY_MODEL_2c58488eb1f64e3ab268cb2311f955fc",
       "value": " 8/8 [07:36&lt;00:00, 33.32s/it]"
      }
     },
     "4865530bffba4d2d87815a4e97356ad9": {
      "model_module": "@jupyter-widgets/base",
      "model_module_version": "1.2.0",
      "model_name": "LayoutModel",
      "state": {}
     },
     "4878754bceb34d1c8fde3084aea5e2c8": {
      "model_module": "@jupyter-widgets/controls",
      "model_module_version": "1.5.0",
      "model_name": "FloatProgressModel",
      "state": {
       "bar_style": "success",
       "layout": "IPY_MODEL_436b0e7ffff945219d38a9418b254005",
       "max": 8,
       "style": "IPY_MODEL_c92d5b8807c64cd9bfcb8ef624a07a6b",
       "value": 8
      }
     },
     "493f7fe573394108a6351f48cdf775dc": {
      "model_module": "@jupyter-widgets/base",
      "model_module_version": "1.2.0",
      "model_name": "LayoutModel",
      "state": {}
     },
     "499c0e552e754718b248272b495a86ce": {
      "model_module": "@jupyter-widgets/base",
      "model_module_version": "1.2.0",
      "model_name": "LayoutModel",
      "state": {}
     },
     "49c1947dfbc7496f855d48dbc2e5d5c4": {
      "model_module": "@jupyter-widgets/controls",
      "model_module_version": "1.5.0",
      "model_name": "DescriptionStyleModel",
      "state": {
       "description_width": ""
      }
     },
     "4a14ffbb1a2544618e6192e412ce874d": {
      "model_module": "@jupyter-widgets/controls",
      "model_module_version": "1.5.0",
      "model_name": "DescriptionStyleModel",
      "state": {
       "description_width": ""
      }
     },
     "4a390eb4a1254deb87c5defe0c4ab013": {
      "model_module": "@jupyter-widgets/controls",
      "model_module_version": "1.5.0",
      "model_name": "ProgressStyleModel",
      "state": {
       "description_width": ""
      }
     },
     "4a777c433dfa47588368019a4caf6964": {
      "model_module": "@jupyter-widgets/controls",
      "model_module_version": "1.5.0",
      "model_name": "DescriptionStyleModel",
      "state": {
       "description_width": ""
      }
     },
     "4a7edc40d7f3479f998884dc127d3581": {
      "model_module": "@jupyter-widgets/controls",
      "model_module_version": "1.5.0",
      "model_name": "DescriptionStyleModel",
      "state": {
       "description_width": ""
      }
     },
     "4ae440d7948e4071bb549ffe1c482ada": {
      "model_module": "@jupyter-widgets/controls",
      "model_module_version": "1.5.0",
      "model_name": "HTMLModel",
      "state": {
       "layout": "IPY_MODEL_1d0d10d165e2464bb7c2047af805c8cd",
       "style": "IPY_MODEL_72c9f5a4fcdd47549442b30d09a1f798",
       "value": " 23/23 [00:00&lt;00:00, 982.82it/s]"
      }
     },
     "4b426ca04f394cd4a11737178be0079d": {
      "model_module": "@jupyter-widgets/controls",
      "model_module_version": "1.5.0",
      "model_name": "HTMLModel",
      "state": {
       "layout": "IPY_MODEL_6eda27fae15247f3babf4237407bdb1e",
       "style": "IPY_MODEL_4a14ffbb1a2544618e6192e412ce874d",
       "value": "100%"
      }
     },
     "4b5564b6f81d467395009b4223af6c32": {
      "model_module": "@jupyter-widgets/controls",
      "model_module_version": "1.5.0",
      "model_name": "DescriptionStyleModel",
      "state": {
       "description_width": ""
      }
     },
     "4c27839411b34ac0bff41fe1ff15b1be": {
      "model_module": "@jupyter-widgets/controls",
      "model_module_version": "1.5.0",
      "model_name": "DescriptionStyleModel",
      "state": {
       "description_width": ""
      }
     },
     "4c8c105b96d84a9ca1109b5b40f236a4": {
      "model_module": "@jupyter-widgets/controls",
      "model_module_version": "1.5.0",
      "model_name": "DescriptionStyleModel",
      "state": {
       "description_width": ""
      }
     },
     "4c9e4795009a47a1a595fa7db03a1a0f": {
      "model_module": "@jupyter-widgets/base",
      "model_module_version": "1.2.0",
      "model_name": "LayoutModel",
      "state": {}
     },
     "4d5b5525d907441ebd44060865e673ee": {
      "model_module": "@jupyter-widgets/controls",
      "model_module_version": "1.5.0",
      "model_name": "DescriptionStyleModel",
      "state": {
       "description_width": ""
      }
     },
     "4d690af1c99346edb1d3b05df3a0afb1": {
      "model_module": "@jupyter-widgets/controls",
      "model_module_version": "1.5.0",
      "model_name": "DescriptionStyleModel",
      "state": {
       "description_width": ""
      }
     },
     "4da6cf38ad4a40a1bd09e6b80982731b": {
      "model_module": "@jupyter-widgets/base",
      "model_module_version": "1.2.0",
      "model_name": "LayoutModel",
      "state": {}
     },
     "4da959a255cd46afb627fd0c5b11fa11": {
      "model_module": "@jupyter-widgets/base",
      "model_module_version": "1.2.0",
      "model_name": "LayoutModel",
      "state": {}
     },
     "4db71d6b7ca44aa4954e2d544703e83a": {
      "model_module": "@jupyter-widgets/base",
      "model_module_version": "1.2.0",
      "model_name": "LayoutModel",
      "state": {}
     },
     "4dcf75429f3e45d7abdfb8d74af9fdb9": {
      "model_module": "@jupyter-widgets/base",
      "model_module_version": "1.2.0",
      "model_name": "LayoutModel",
      "state": {}
     },
     "4df5e62387a34ed082fc8ddb37ec769e": {
      "model_module": "@jupyter-widgets/base",
      "model_module_version": "1.2.0",
      "model_name": "LayoutModel",
      "state": {}
     },
     "4df8aaf2e08544719949ac6e4f514842": {
      "model_module": "@jupyter-widgets/controls",
      "model_module_version": "1.5.0",
      "model_name": "FloatProgressModel",
      "state": {
       "bar_style": "success",
       "layout": "IPY_MODEL_c7d247ab620a4671aea65e4019a05e8f",
       "max": 23,
       "style": "IPY_MODEL_07b5fbe640ad410cb63805b2519ae30a",
       "value": 23
      }
     },
     "4e3c3e284e704ee1bcbac14dcf9d0e2e": {
      "model_module": "@jupyter-widgets/base",
      "model_module_version": "1.2.0",
      "model_name": "LayoutModel",
      "state": {}
     },
     "4e48cbacf2ab4699a3bd9a608fabde21": {
      "model_module": "@jupyter-widgets/controls",
      "model_module_version": "1.5.0",
      "model_name": "ProgressStyleModel",
      "state": {
       "description_width": ""
      }
     },
     "4e6d37b5fc9042e99d796b0fb9454951": {
      "model_module": "@jupyter-widgets/base",
      "model_module_version": "1.2.0",
      "model_name": "LayoutModel",
      "state": {}
     },
     "4eb8ed58f14b4572ac48ba2eadcc3a15": {
      "model_module": "@jupyter-widgets/controls",
      "model_module_version": "1.5.0",
      "model_name": "HBoxModel",
      "state": {
       "children": [
        "IPY_MODEL_5a77667dee164c1bbae3b438de4d14b4",
        "IPY_MODEL_eebf4bbb8b174d15861c0608dfc259c2",
        "IPY_MODEL_5918f9bac1f948ffa982eb562e91433f"
       ],
       "layout": "IPY_MODEL_c381f1083b184994b09f3597c0db6424"
      }
     },
     "4ed4142be4fc46e6b667b43d9ecd0239": {
      "model_module": "@jupyter-widgets/base",
      "model_module_version": "1.2.0",
      "model_name": "LayoutModel",
      "state": {}
     },
     "4efbd1e002c246be85070b2db2073d90": {
      "model_module": "@jupyter-widgets/base",
      "model_module_version": "1.2.0",
      "model_name": "LayoutModel",
      "state": {}
     },
     "4f6b4b40233248df9c6b39cf2d78131c": {
      "model_module": "@jupyter-widgets/controls",
      "model_module_version": "1.5.0",
      "model_name": "DescriptionStyleModel",
      "state": {
       "description_width": ""
      }
     },
     "4f92dc61c0024ca882a12c2d21ae8b5d": {
      "model_module": "@jupyter-widgets/base",
      "model_module_version": "1.2.0",
      "model_name": "LayoutModel",
      "state": {}
     },
     "4fb4efab6caa4124870a8dade1e971dc": {
      "model_module": "@jupyter-widgets/base",
      "model_module_version": "1.2.0",
      "model_name": "LayoutModel",
      "state": {}
     },
     "4fc578ef9fb94d189b3eb4c2ce8fe47c": {
      "model_module": "@jupyter-widgets/controls",
      "model_module_version": "1.5.0",
      "model_name": "FloatProgressModel",
      "state": {
       "bar_style": "success",
       "layout": "IPY_MODEL_bb4efcf0bca744cab2fc0c228ae412f5",
       "max": 8,
       "style": "IPY_MODEL_e3da33cff41940b1ba8548851643c937",
       "value": 8
      }
     },
     "50180b0317e5474983f9a0e2101875fa": {
      "model_module": "@jupyter-widgets/controls",
      "model_module_version": "1.5.0",
      "model_name": "DescriptionStyleModel",
      "state": {
       "description_width": ""
      }
     },
     "502281b638204bd492885c33b946f875": {
      "model_module": "@jupyter-widgets/base",
      "model_module_version": "1.2.0",
      "model_name": "LayoutModel",
      "state": {}
     },
     "5068413ace3e45128069ae1ef9efa988": {
      "model_module": "@jupyter-widgets/controls",
      "model_module_version": "1.5.0",
      "model_name": "DescriptionStyleModel",
      "state": {
       "description_width": ""
      }
     },
     "50b3729a75304aefb4018cc0db238332": {
      "model_module": "@jupyter-widgets/base",
      "model_module_version": "1.2.0",
      "model_name": "LayoutModel",
      "state": {}
     },
     "50ce634b90364eecbab7df977827e663": {
      "model_module": "@jupyter-widgets/base",
      "model_module_version": "1.2.0",
      "model_name": "LayoutModel",
      "state": {}
     },
     "50eb5620ec1a469393e929035b0c9ff4": {
      "model_module": "@jupyter-widgets/base",
      "model_module_version": "1.2.0",
      "model_name": "LayoutModel",
      "state": {}
     },
     "51020cba8b5c43c387a9a654e9b7fd1f": {
      "model_module": "@jupyter-widgets/base",
      "model_module_version": "1.2.0",
      "model_name": "LayoutModel",
      "state": {}
     },
     "5117971afb664383a6216b447567ad3f": {
      "model_module": "@jupyter-widgets/base",
      "model_module_version": "1.2.0",
      "model_name": "LayoutModel",
      "state": {}
     },
     "514472715eba483a8514df69f9e53a70": {
      "model_module": "@jupyter-widgets/controls",
      "model_module_version": "1.5.0",
      "model_name": "FloatProgressModel",
      "state": {
       "bar_style": "success",
       "layout": "IPY_MODEL_493f7fe573394108a6351f48cdf775dc",
       "max": 8,
       "style": "IPY_MODEL_984b0a98cda943feaec4ca762cddf4b2",
       "value": 8
      }
     },
     "51502bb6585c4f0b8c8784b4620276ac": {
      "model_module": "@jupyter-widgets/controls",
      "model_module_version": "1.5.0",
      "model_name": "HTMLModel",
      "state": {
       "layout": "IPY_MODEL_cbbe50dbb60646b0a08463af9ae139c9",
       "style": "IPY_MODEL_0167ded863ee49a688e850e966df60a4",
       "value": " 8/8 [14:22&lt;00:00, 92.11s/it]"
      }
     },
     "5156e790da09431aa4f6f97909a935e1": {
      "model_module": "@jupyter-widgets/controls",
      "model_module_version": "1.5.0",
      "model_name": "HTMLModel",
      "state": {
       "layout": "IPY_MODEL_203dc8cdebaf406ca2b5b3b2d3a27270",
       "style": "IPY_MODEL_ac0551765ec14cbb82c24bbc6e3a2700",
       "value": " 8/8 [14:18&lt;00:00, 90.12s/it]"
      }
     },
     "51d1053940f84ebc8b4fc3203062089e": {
      "model_module": "@jupyter-widgets/controls",
      "model_module_version": "1.5.0",
      "model_name": "ProgressStyleModel",
      "state": {
       "description_width": ""
      }
     },
     "51d85f4ef5274ace803c8716eb3a1dc5": {
      "model_module": "@jupyter-widgets/base",
      "model_module_version": "1.2.0",
      "model_name": "LayoutModel",
      "state": {}
     },
     "521d6f11ac174066bd0d823c3374a92a": {
      "model_module": "@jupyter-widgets/controls",
      "model_module_version": "1.5.0",
      "model_name": "DescriptionStyleModel",
      "state": {
       "description_width": ""
      }
     },
     "525bbed75fa947bbb1cb954ef7395839": {
      "model_module": "@jupyter-widgets/controls",
      "model_module_version": "1.5.0",
      "model_name": "HTMLModel",
      "state": {
       "layout": "IPY_MODEL_a05716fd866042be8fa2350b056fb30e",
       "style": "IPY_MODEL_07cdb51e96474b529cb21f1706b067f0",
       "value": " 8/8 [14:42&lt;00:00, 92.42s/it]"
      }
     },
     "5288c38e87954ecabe47457b292e7517": {
      "model_module": "@jupyter-widgets/controls",
      "model_module_version": "1.5.0",
      "model_name": "ProgressStyleModel",
      "state": {
       "description_width": ""
      }
     },
     "529546c36a28485aa9067c659bae7e4f": {
      "model_module": "@jupyter-widgets/base",
      "model_module_version": "1.2.0",
      "model_name": "LayoutModel",
      "state": {}
     },
     "52b9587fd4404648b791ec0ee640630f": {
      "model_module": "@jupyter-widgets/controls",
      "model_module_version": "1.5.0",
      "model_name": "HTMLModel",
      "state": {
       "layout": "IPY_MODEL_6f0c17b19d28443393801383a477f284",
       "style": "IPY_MODEL_11d0a0a0fec84ff48b13c4207e5dcff4",
       "value": "100%"
      }
     },
     "5314b1a5b3764d3e933facc495cc6866": {
      "model_module": "@jupyter-widgets/controls",
      "model_module_version": "1.5.0",
      "model_name": "HTMLModel",
      "state": {
       "layout": "IPY_MODEL_74adfc3e8b6e460db1418f5836802394",
       "style": "IPY_MODEL_da84fdedaa3a45b3bce1762946225395",
       "value": " 8/8 [14:29&lt;00:00, 89.59s/it]"
      }
     },
     "532fe802661542f8bfe2afa255e9f5b6": {
      "model_module": "@jupyter-widgets/base",
      "model_module_version": "1.2.0",
      "model_name": "LayoutModel",
      "state": {}
     },
     "53311fd46030438b8a5dca973294037e": {
      "model_module": "@jupyter-widgets/controls",
      "model_module_version": "1.5.0",
      "model_name": "DescriptionStyleModel",
      "state": {
       "description_width": ""
      }
     },
     "535e49a269f54c8485c32dfdea585c1d": {
      "model_module": "@jupyter-widgets/controls",
      "model_module_version": "1.5.0",
      "model_name": "HTMLModel",
      "state": {
       "layout": "IPY_MODEL_237bb126b5d44a9383442d588e8cd8e2",
       "style": "IPY_MODEL_59dd6bbd419e4343b83693e22b61934b",
       "value": "100%"
      }
     },
     "5371c1d023274a23b1be6ee96fff58e4": {
      "model_module": "@jupyter-widgets/base",
      "model_module_version": "1.2.0",
      "model_name": "LayoutModel",
      "state": {}
     },
     "5382eaf5be0c45a2ac87601398a08d14": {
      "model_module": "@jupyter-widgets/controls",
      "model_module_version": "1.5.0",
      "model_name": "ProgressStyleModel",
      "state": {
       "description_width": ""
      }
     },
     "53dbd073cec74ce2a51e9cfb75c87f5c": {
      "model_module": "@jupyter-widgets/base",
      "model_module_version": "1.2.0",
      "model_name": "LayoutModel",
      "state": {}
     },
     "54015214649d4229bf5b55361233eb50": {
      "model_module": "@jupyter-widgets/base",
      "model_module_version": "1.2.0",
      "model_name": "LayoutModel",
      "state": {}
     },
     "5494a7767e80465aa69c160b732e1b3d": {
      "model_module": "@jupyter-widgets/controls",
      "model_module_version": "1.5.0",
      "model_name": "DescriptionStyleModel",
      "state": {
       "description_width": ""
      }
     },
     "552fc66015804e19b6a4e1648544a2b5": {
      "model_module": "@jupyter-widgets/controls",
      "model_module_version": "1.5.0",
      "model_name": "ProgressStyleModel",
      "state": {
       "description_width": ""
      }
     },
     "556af94a1d9b483e90febb55a400e28b": {
      "model_module": "@jupyter-widgets/controls",
      "model_module_version": "1.5.0",
      "model_name": "HTMLModel",
      "state": {
       "layout": "IPY_MODEL_3fa4d424a0104d27877f74c897b50d9e",
       "style": "IPY_MODEL_c1db4eb308074aa09a690d91608d66ca",
       "value": " 8/8 [14:19&lt;00:00, 91.06s/it]"
      }
     },
     "55708cd977384d989743a061b2934ea2": {
      "model_module": "@jupyter-widgets/controls",
      "model_module_version": "1.5.0",
      "model_name": "FloatProgressModel",
      "state": {
       "bar_style": "success",
       "layout": "IPY_MODEL_b32d5601ef544ec296d461aaf7d5206f",
       "max": 23,
       "style": "IPY_MODEL_f38cb5871de746d6ae68b4fd8197f4ac",
       "value": 23
      }
     },
     "55905abbd05d401c9bedbbccb8503ef8": {
      "model_module": "@jupyter-widgets/base",
      "model_module_version": "1.2.0",
      "model_name": "LayoutModel",
      "state": {}
     },
     "5594007952e749e592d4ab7d96f258ae": {
      "model_module": "@jupyter-widgets/base",
      "model_module_version": "1.2.0",
      "model_name": "LayoutModel",
      "state": {}
     },
     "55f3107ced5e4267a988051414c5ca17": {
      "model_module": "@jupyter-widgets/base",
      "model_module_version": "1.2.0",
      "model_name": "LayoutModel",
      "state": {}
     },
     "561c758479ee4d5d9ba97314a43a07fc": {
      "model_module": "@jupyter-widgets/base",
      "model_module_version": "1.2.0",
      "model_name": "LayoutModel",
      "state": {}
     },
     "5629cbe494d6420793f57deca2c1c56f": {
      "model_module": "@jupyter-widgets/controls",
      "model_module_version": "1.5.0",
      "model_name": "ProgressStyleModel",
      "state": {
       "description_width": ""
      }
     },
     "56346a898e0541ff9f3b1f1d094d26be": {
      "model_module": "@jupyter-widgets/controls",
      "model_module_version": "1.5.0",
      "model_name": "DescriptionStyleModel",
      "state": {
       "description_width": ""
      }
     },
     "56946000a3ae44c9b71c844e225d630d": {
      "model_module": "@jupyter-widgets/controls",
      "model_module_version": "1.5.0",
      "model_name": "ProgressStyleModel",
      "state": {
       "description_width": ""
      }
     },
     "5697c34f67b84970a32dba82c74e7f4a": {
      "model_module": "@jupyter-widgets/controls",
      "model_module_version": "1.5.0",
      "model_name": "HBoxModel",
      "state": {
       "children": [
        "IPY_MODEL_f63646b4ecf84e57934efd5ff7b38307",
        "IPY_MODEL_bfcc0fdea3644648a4030a58e883ed8d",
        "IPY_MODEL_13238520425d428195263aa3922340c9"
       ],
       "layout": "IPY_MODEL_25c4475b12fa44698635c5f92a13c2ae"
      }
     },
     "56d7373cc1864371a01d9b8d625776c3": {
      "model_module": "@jupyter-widgets/base",
      "model_module_version": "1.2.0",
      "model_name": "LayoutModel",
      "state": {}
     },
     "570aaa1d773e4df69ffa4b4f228e30c1": {
      "model_module": "@jupyter-widgets/base",
      "model_module_version": "1.2.0",
      "model_name": "LayoutModel",
      "state": {}
     },
     "573682036db84699b8e82c2bb71e7558": {
      "model_module": "@jupyter-widgets/controls",
      "model_module_version": "1.5.0",
      "model_name": "HTMLModel",
      "state": {
       "layout": "IPY_MODEL_6173ce04927241718f91a1278147bbd9",
       "style": "IPY_MODEL_8aa4027e8e924dc9991546b7f72e3465",
       "value": "100%"
      }
     },
     "5741ad912d3745ab8b6d5c09dd0333ec": {
      "model_module": "@jupyter-widgets/controls",
      "model_module_version": "1.5.0",
      "model_name": "ProgressStyleModel",
      "state": {
       "description_width": ""
      }
     },
     "579567fed47241c3a87d0c83e0e18f93": {
      "model_module": "@jupyter-widgets/controls",
      "model_module_version": "1.5.0",
      "model_name": "HTMLModel",
      "state": {
       "layout": "IPY_MODEL_fdd24fe19b7148468998db3a9dacb08b",
       "style": "IPY_MODEL_582cc02dfe1943e1a9dc8054241c680e",
       "value": " 8/8 [07:57&lt;00:00, 50.04s/it]"
      }
     },
     "57ce1971fc8e44129ece2583083c1902": {
      "model_module": "@jupyter-widgets/base",
      "model_module_version": "1.2.0",
      "model_name": "LayoutModel",
      "state": {}
     },
     "57fb41041bba4de391b096b3749ea480": {
      "model_module": "@jupyter-widgets/controls",
      "model_module_version": "1.5.0",
      "model_name": "DescriptionStyleModel",
      "state": {
       "description_width": ""
      }
     },
     "581eb16ffad7447f84b57fb334469a68": {
      "model_module": "@jupyter-widgets/base",
      "model_module_version": "1.2.0",
      "model_name": "LayoutModel",
      "state": {}
     },
     "582cc02dfe1943e1a9dc8054241c680e": {
      "model_module": "@jupyter-widgets/controls",
      "model_module_version": "1.5.0",
      "model_name": "DescriptionStyleModel",
      "state": {
       "description_width": ""
      }
     },
     "588b4adaf7b144ea8dba1be7ef669f12": {
      "model_module": "@jupyter-widgets/controls",
      "model_module_version": "1.5.0",
      "model_name": "HBoxModel",
      "state": {
       "children": [
        "IPY_MODEL_e0adaa85775a43f8958f209284cae3e7",
        "IPY_MODEL_58eceb3fbdbc4c56b7ca59dde8d5bfb2",
        "IPY_MODEL_579567fed47241c3a87d0c83e0e18f93"
       ],
       "layout": "IPY_MODEL_8af5986bc45e413a8ce7951d61605ebe"
      }
     },
     "5895dda3e760405d998849d7e4d7e360": {
      "model_module": "@jupyter-widgets/base",
      "model_module_version": "1.2.0",
      "model_name": "LayoutModel",
      "state": {}
     },
     "58d144f4d941464e9f6275f60dc15561": {
      "model_module": "@jupyter-widgets/base",
      "model_module_version": "1.2.0",
      "model_name": "LayoutModel",
      "state": {}
     },
     "58eceb3fbdbc4c56b7ca59dde8d5bfb2": {
      "model_module": "@jupyter-widgets/controls",
      "model_module_version": "1.5.0",
      "model_name": "FloatProgressModel",
      "state": {
       "bar_style": "success",
       "layout": "IPY_MODEL_bbdfeadc20bd41bea29f4161ff9390cb",
       "max": 8,
       "style": "IPY_MODEL_efec7ae1c364484d949fd5d9992bf647",
       "value": 8
      }
     },
     "58f17d20629e4f8789f578376e366675": {
      "model_module": "@jupyter-widgets/controls",
      "model_module_version": "1.5.0",
      "model_name": "HTMLModel",
      "state": {
       "layout": "IPY_MODEL_fb9a484edac04af6891ad5ec2c57aec5",
       "style": "IPY_MODEL_1ed5c78536cc4e81823617caaf8fe177",
       "value": " 8/8 [14:46&lt;00:00, 94.97s/it]"
      }
     },
     "5918f9bac1f948ffa982eb562e91433f": {
      "model_module": "@jupyter-widgets/controls",
      "model_module_version": "1.5.0",
      "model_name": "HTMLModel",
      "state": {
       "layout": "IPY_MODEL_433ad1c0ac0144e4a942a92e6d3a0c4d",
       "style": "IPY_MODEL_d9e1edaba38149399fa8aa3faccd2a78",
       "value": " 23/23 [00:02&lt;00:00,  7.84it/s]"
      }
     },
     "59dd6bbd419e4343b83693e22b61934b": {
      "model_module": "@jupyter-widgets/controls",
      "model_module_version": "1.5.0",
      "model_name": "DescriptionStyleModel",
      "state": {
       "description_width": ""
      }
     },
     "59e1c6441f0f485e9aba365f99baa533": {
      "model_module": "@jupyter-widgets/base",
      "model_module_version": "1.2.0",
      "model_name": "LayoutModel",
      "state": {}
     },
     "5a01da380f58495582d23ec2fe005b2c": {
      "model_module": "@jupyter-widgets/controls",
      "model_module_version": "1.5.0",
      "model_name": "HTMLModel",
      "state": {
       "layout": "IPY_MODEL_15f92c3254364855aa4e99d74fbbf8d9",
       "style": "IPY_MODEL_cdf97e85cc514050b7c979459e0272eb",
       "value": " 8/8 [14:39&lt;00:00, 93.14s/it]"
      }
     },
     "5a77667dee164c1bbae3b438de4d14b4": {
      "model_module": "@jupyter-widgets/controls",
      "model_module_version": "1.5.0",
      "model_name": "HTMLModel",
      "state": {
       "layout": "IPY_MODEL_6abfd8db0719497a9b40b14e4c756159",
       "style": "IPY_MODEL_baac1c1b71874cc3938f6f78d00710c5",
       "value": "100%"
      }
     },
     "5a95008adf034d3d851283f55b25b944": {
      "model_module": "@jupyter-widgets/base",
      "model_module_version": "1.2.0",
      "model_name": "LayoutModel",
      "state": {}
     },
     "5abcbe58d62840d9842a7100314e9b9c": {
      "model_module": "@jupyter-widgets/controls",
      "model_module_version": "1.5.0",
      "model_name": "HTMLModel",
      "state": {
       "layout": "IPY_MODEL_f340981c0a604cfd8d49dddafc578472",
       "style": "IPY_MODEL_ee1bbbb30a974a889c385679a77619de",
       "value": "100%"
      }
     },
     "5b417e7a157443df8689e8b322612a8c": {
      "model_module": "@jupyter-widgets/controls",
      "model_module_version": "1.5.0",
      "model_name": "HTMLModel",
      "state": {
       "layout": "IPY_MODEL_b045a5449caf4a8899dbedc1c5952dd7",
       "style": "IPY_MODEL_8569fc6f76ad441faf6d0f276530967e",
       "value": "100%"
      }
     },
     "5b78bc9336bc4fd6971b559d5e18f69d": {
      "model_module": "@jupyter-widgets/base",
      "model_module_version": "1.2.0",
      "model_name": "LayoutModel",
      "state": {}
     },
     "5b85230654e4468da33002a66fe1c3c5": {
      "model_module": "@jupyter-widgets/base",
      "model_module_version": "1.2.0",
      "model_name": "LayoutModel",
      "state": {}
     },
     "5c01e70758e2482692759cc973b78bbd": {
      "model_module": "@jupyter-widgets/controls",
      "model_module_version": "1.5.0",
      "model_name": "FloatProgressModel",
      "state": {
       "bar_style": "success",
       "layout": "IPY_MODEL_418c81c9a9c248739499e60e986037fe",
       "max": 23,
       "style": "IPY_MODEL_30008b94f3ed43cdaf2d7675c95d53a6",
       "value": 23
      }
     },
     "5c63a987fa4c48d99102667637d2408c": {
      "model_module": "@jupyter-widgets/controls",
      "model_module_version": "1.5.0",
      "model_name": "HBoxModel",
      "state": {
       "children": [
        "IPY_MODEL_b07e7022b254467cae123db7dc86140c",
        "IPY_MODEL_a10322d1106c42a2a2769568a1b75f33",
        "IPY_MODEL_485d2f72b593417d8184848ba988768d"
       ],
       "layout": "IPY_MODEL_db3069adfb4b4918bf4c010e34675b13"
      }
     },
     "5c672a655d0945cba94e6093fcd7f9cc": {
      "model_module": "@jupyter-widgets/base",
      "model_module_version": "1.2.0",
      "model_name": "LayoutModel",
      "state": {}
     },
     "5c7ce542e0ac490b8a9f3f9cba5daac2": {
      "model_module": "@jupyter-widgets/base",
      "model_module_version": "1.2.0",
      "model_name": "LayoutModel",
      "state": {}
     },
     "5cf545e2fd2a46b3a3c51214ba0823e0": {
      "model_module": "@jupyter-widgets/controls",
      "model_module_version": "1.5.0",
      "model_name": "HBoxModel",
      "state": {
       "children": [
        "IPY_MODEL_5abcbe58d62840d9842a7100314e9b9c",
        "IPY_MODEL_4878754bceb34d1c8fde3084aea5e2c8",
        "IPY_MODEL_b678e477c61f4bf5a4e73ea4e10b3208"
       ],
       "layout": "IPY_MODEL_fe30938565af4ef5ba92da1fe3ce7f20"
      }
     },
     "5d0de01bef5049a3992e95ffb9388d06": {
      "model_module": "@jupyter-widgets/controls",
      "model_module_version": "1.5.0",
      "model_name": "HTMLModel",
      "state": {
       "layout": "IPY_MODEL_5895dda3e760405d998849d7e4d7e360",
       "style": "IPY_MODEL_f8a55894fff342bcb83a3255cab2d981",
       "value": " 8/8 [14:30&lt;00:00, 92.06s/it]"
      }
     },
     "5d23dffde0354c83b31764895b6b7b14": {
      "model_module": "@jupyter-widgets/base",
      "model_module_version": "1.2.0",
      "model_name": "LayoutModel",
      "state": {}
     },
     "5d4f5db3c2bf418f80b8f3901941e651": {
      "model_module": "@jupyter-widgets/controls",
      "model_module_version": "1.5.0",
      "model_name": "HTMLModel",
      "state": {
       "layout": "IPY_MODEL_502281b638204bd492885c33b946f875",
       "style": "IPY_MODEL_2fe982142b764a3ab3a31321d628406c",
       "value": "100%"
      }
     },
     "5d6409d7e3aa46d6be20904b3e92dde8": {
      "model_module": "@jupyter-widgets/controls",
      "model_module_version": "1.5.0",
      "model_name": "ProgressStyleModel",
      "state": {
       "description_width": ""
      }
     },
     "5d6a47e2566c400dbc3ecbc44a53067a": {
      "model_module": "@jupyter-widgets/controls",
      "model_module_version": "1.5.0",
      "model_name": "DescriptionStyleModel",
      "state": {
       "description_width": ""
      }
     },
     "5d7819913846429588f8a7e13d883268": {
      "model_module": "@jupyter-widgets/controls",
      "model_module_version": "1.5.0",
      "model_name": "HTMLModel",
      "state": {
       "layout": "IPY_MODEL_b6d5a369fbf54867ae6ea7cf777a5635",
       "style": "IPY_MODEL_9dacb955d4cf49ee9dc897f883426cd5",
       "value": "100%"
      }
     },
     "5de0c51b74e04b3ab7d0f85bdbf63f96": {
      "model_module": "@jupyter-widgets/controls",
      "model_module_version": "1.5.0",
      "model_name": "DescriptionStyleModel",
      "state": {
       "description_width": ""
      }
     },
     "5df8dc1e83e448d49f757dca87061fff": {
      "model_module": "@jupyter-widgets/controls",
      "model_module_version": "1.5.0",
      "model_name": "HBoxModel",
      "state": {
       "children": [
        "IPY_MODEL_7d0bd3b2678645d7a060ece86291d4f6",
        "IPY_MODEL_f158b914497d40dcb488333b8cb3c49c",
        "IPY_MODEL_c15a7600d1b4407f9c6a398342da2385"
       ],
       "layout": "IPY_MODEL_901771d0fed6483a83791b49530f92fb"
      }
     },
     "5e68c1df0e9b4d36955380b4d202f38d": {
      "model_module": "@jupyter-widgets/controls",
      "model_module_version": "1.5.0",
      "model_name": "DescriptionStyleModel",
      "state": {
       "description_width": ""
      }
     },
     "5ea35358f14741808b03263ba62182cf": {
      "model_module": "@jupyter-widgets/base",
      "model_module_version": "1.2.0",
      "model_name": "LayoutModel",
      "state": {}
     },
     "5ed50b4dd8534f8fa83b09babca396a3": {
      "model_module": "@jupyter-widgets/controls",
      "model_module_version": "1.5.0",
      "model_name": "HTMLModel",
      "state": {
       "layout": "IPY_MODEL_3a7de91b723d4c66af2b3b20c141b325",
       "style": "IPY_MODEL_c45c414657f145e79cfd62983051c612",
       "value": "100%"
      }
     },
     "5ee796b6c0fd42f3b23c9cf0fbe874d6": {
      "model_module": "@jupyter-widgets/controls",
      "model_module_version": "1.5.0",
      "model_name": "ProgressStyleModel",
      "state": {
       "description_width": ""
      }
     },
     "5fa68f0154f44bb59943a677ba8df099": {
      "model_module": "@jupyter-widgets/base",
      "model_module_version": "1.2.0",
      "model_name": "LayoutModel",
      "state": {}
     },
     "5fded6f5cc1148edbd68768107a80c19": {
      "model_module": "@jupyter-widgets/controls",
      "model_module_version": "1.5.0",
      "model_name": "DescriptionStyleModel",
      "state": {
       "description_width": ""
      }
     },
     "5ffacdf589264b11a571b140026a3635": {
      "model_module": "@jupyter-widgets/controls",
      "model_module_version": "1.5.0",
      "model_name": "ProgressStyleModel",
      "state": {
       "description_width": ""
      }
     },
     "604778b7efdf4c0b85f5129444e1f18c": {
      "model_module": "@jupyter-widgets/base",
      "model_module_version": "1.2.0",
      "model_name": "LayoutModel",
      "state": {}
     },
     "6049568f16524346a36d7b412ed25d6c": {
      "model_module": "@jupyter-widgets/controls",
      "model_module_version": "1.5.0",
      "model_name": "DescriptionStyleModel",
      "state": {
       "description_width": ""
      }
     },
     "608b79e5b21546bf8333abced6e1d5ce": {
      "model_module": "@jupyter-widgets/controls",
      "model_module_version": "1.5.0",
      "model_name": "HTMLModel",
      "state": {
       "layout": "IPY_MODEL_f16e809534a541368b3613427b8c125d",
       "style": "IPY_MODEL_d26297c8546b4c5b94f0a34ec2ab226f",
       "value": " 23/23 [04:26&lt;00:00,  9.26s/it]"
      }
     },
     "616ed73bc8fd4efc8250f3f4aa7b8b8a": {
      "model_module": "@jupyter-widgets/controls",
      "model_module_version": "1.5.0",
      "model_name": "HBoxModel",
      "state": {
       "children": [
        "IPY_MODEL_7bf56a7137cc4b3299f9fabfb15d1155",
        "IPY_MODEL_b00786655bc4476f92630a47e77c2a6b",
        "IPY_MODEL_556af94a1d9b483e90febb55a400e28b"
       ],
       "layout": "IPY_MODEL_fcd48c379a894e13a0a14149d59d4e3f"
      }
     },
     "6173ce04927241718f91a1278147bbd9": {
      "model_module": "@jupyter-widgets/base",
      "model_module_version": "1.2.0",
      "model_name": "LayoutModel",
      "state": {}
     },
     "61cdefa2bbef4b7caeeb190f2448552d": {
      "model_module": "@jupyter-widgets/base",
      "model_module_version": "1.2.0",
      "model_name": "LayoutModel",
      "state": {}
     },
     "6227bc0b50164399ad4cae1f30653757": {
      "model_module": "@jupyter-widgets/base",
      "model_module_version": "1.2.0",
      "model_name": "LayoutModel",
      "state": {}
     },
     "6232849bab914af7a756ff479a7ecee1": {
      "model_module": "@jupyter-widgets/controls",
      "model_module_version": "1.5.0",
      "model_name": "FloatProgressModel",
      "state": {
       "bar_style": "success",
       "layout": "IPY_MODEL_3291fa4e866e408390dadd7a8d8b264b",
       "max": 23,
       "style": "IPY_MODEL_b1db98eba2ff48d4b5749650eb6c57fc",
       "value": 23
      }
     },
     "623daefaa1104fc399c6243b75536753": {
      "model_module": "@jupyter-widgets/base",
      "model_module_version": "1.2.0",
      "model_name": "LayoutModel",
      "state": {}
     },
     "627d227fae4a40ba9bc82e7d1b5dd8e1": {
      "model_module": "@jupyter-widgets/base",
      "model_module_version": "1.2.0",
      "model_name": "LayoutModel",
      "state": {}
     },
     "62a0165da79540a78815f5718e1807ce": {
      "model_module": "@jupyter-widgets/base",
      "model_module_version": "1.2.0",
      "model_name": "LayoutModel",
      "state": {}
     },
     "636328c509ea4e34983da0ccfdaa89cb": {
      "model_module": "@jupyter-widgets/base",
      "model_module_version": "1.2.0",
      "model_name": "LayoutModel",
      "state": {}
     },
     "64d982e5ab174b25bc3a1cb4a5d50ff1": {
      "model_module": "@jupyter-widgets/controls",
      "model_module_version": "1.5.0",
      "model_name": "FloatProgressModel",
      "state": {
       "bar_style": "success",
       "layout": "IPY_MODEL_a5e51492cbc54ae6bb4b45c2b11d4c25",
       "max": 8,
       "style": "IPY_MODEL_7f042d5ec064495abe52acd1dcb989f7",
       "value": 8
      }
     },
     "64e967f055784b70b36c2babbcbce677": {
      "model_module": "@jupyter-widgets/base",
      "model_module_version": "1.2.0",
      "model_name": "LayoutModel",
      "state": {}
     },
     "651338e875a542658bb50796d6326602": {
      "model_module": "@jupyter-widgets/base",
      "model_module_version": "1.2.0",
      "model_name": "LayoutModel",
      "state": {}
     },
     "6548d899436142c180b12aef0c621e1e": {
      "model_module": "@jupyter-widgets/controls",
      "model_module_version": "1.5.0",
      "model_name": "DescriptionStyleModel",
      "state": {
       "description_width": ""
      }
     },
     "65bcc1dccc8b46778d7da908709e36bb": {
      "model_module": "@jupyter-widgets/controls",
      "model_module_version": "1.5.0",
      "model_name": "DescriptionStyleModel",
      "state": {
       "description_width": ""
      }
     },
     "65df93ddb3eb49029cf2ada2708dd918": {
      "model_module": "@jupyter-widgets/base",
      "model_module_version": "1.2.0",
      "model_name": "LayoutModel",
      "state": {}
     },
     "6622d6245ff44557a7c97c4faa783c49": {
      "model_module": "@jupyter-widgets/controls",
      "model_module_version": "1.5.0",
      "model_name": "DescriptionStyleModel",
      "state": {
       "description_width": ""
      }
     },
     "66237022fb7347889b3fd95f2297da1e": {
      "model_module": "@jupyter-widgets/base",
      "model_module_version": "1.2.0",
      "model_name": "LayoutModel",
      "state": {}
     },
     "662c539d7cfa4f128a8fcd657edc25fa": {
      "model_module": "@jupyter-widgets/controls",
      "model_module_version": "1.5.0",
      "model_name": "HTMLModel",
      "state": {
       "layout": "IPY_MODEL_9aa242ba62ef4954a91d44979c6c4d33",
       "style": "IPY_MODEL_3be6b3643e3040ee95dd62e0bf8c95eb",
       "value": "100%"
      }
     },
     "667e694043314f26877f24f8a4db99f2": {
      "model_module": "@jupyter-widgets/controls",
      "model_module_version": "1.5.0",
      "model_name": "FloatProgressModel",
      "state": {
       "bar_style": "success",
       "layout": "IPY_MODEL_30dbc673be3f454f8e1408c330119386",
       "max": 8,
       "style": "IPY_MODEL_d0fe78b037bc414a9716c2bc8a65ec45",
       "value": 8
      }
     },
     "66e56233db264db29fbf3e85c65a11e6": {
      "model_module": "@jupyter-widgets/base",
      "model_module_version": "1.2.0",
      "model_name": "LayoutModel",
      "state": {}
     },
     "66ecdae8ee5049c88647f9c3d798caa1": {
      "model_module": "@jupyter-widgets/base",
      "model_module_version": "1.2.0",
      "model_name": "LayoutModel",
      "state": {}
     },
     "671af9a252b3456e9d85b637da3ff913": {
      "model_module": "@jupyter-widgets/base",
      "model_module_version": "1.2.0",
      "model_name": "LayoutModel",
      "state": {}
     },
     "672e69b3549f4b5ca48f5cf7e930413d": {
      "model_module": "@jupyter-widgets/controls",
      "model_module_version": "1.5.0",
      "model_name": "DescriptionStyleModel",
      "state": {
       "description_width": ""
      }
     },
     "673ae04c328d46aba9c342347708710c": {
      "model_module": "@jupyter-widgets/base",
      "model_module_version": "1.2.0",
      "model_name": "LayoutModel",
      "state": {}
     },
     "6790bfaf4ebf45a585a8280dd77e94a2": {
      "model_module": "@jupyter-widgets/base",
      "model_module_version": "1.2.0",
      "model_name": "LayoutModel",
      "state": {}
     },
     "67f4680420ff45df8f309df1a80d2285": {
      "model_module": "@jupyter-widgets/controls",
      "model_module_version": "1.5.0",
      "model_name": "HTMLModel",
      "state": {
       "layout": "IPY_MODEL_13cbdf7b025148e4aba82f1988f69024",
       "style": "IPY_MODEL_7d10fe6ef1ab4ab4a1e937ac99390f25",
       "value": " 8/8 [14:48&lt;00:00, 94.24s/it]"
      }
     },
     "6808c406abfa47cf92682be17903069e": {
      "model_module": "@jupyter-widgets/base",
      "model_module_version": "1.2.0",
      "model_name": "LayoutModel",
      "state": {}
     },
     "682322445f2f4bf786b8cf9ff719fc88": {
      "model_module": "@jupyter-widgets/base",
      "model_module_version": "1.2.0",
      "model_name": "LayoutModel",
      "state": {}
     },
     "687f92e213594637b2a44968edf12d26": {
      "model_module": "@jupyter-widgets/base",
      "model_module_version": "1.2.0",
      "model_name": "LayoutModel",
      "state": {}
     },
     "688d6e52b0124c738304bb45a6ffa680": {
      "model_module": "@jupyter-widgets/base",
      "model_module_version": "1.2.0",
      "model_name": "LayoutModel",
      "state": {}
     },
     "68f069dba39f4eea927de4a0439720e0": {
      "model_module": "@jupyter-widgets/base",
      "model_module_version": "1.2.0",
      "model_name": "LayoutModel",
      "state": {}
     },
     "691ed64c347447708e045f9cb5090e54": {
      "model_module": "@jupyter-widgets/base",
      "model_module_version": "1.2.0",
      "model_name": "LayoutModel",
      "state": {}
     },
     "6922b36ebc62435ea996b289da4cfe0e": {
      "model_module": "@jupyter-widgets/base",
      "model_module_version": "1.2.0",
      "model_name": "LayoutModel",
      "state": {}
     },
     "693e05f8a68f46d690344645535c3114": {
      "model_module": "@jupyter-widgets/controls",
      "model_module_version": "1.5.0",
      "model_name": "DescriptionStyleModel",
      "state": {
       "description_width": ""
      }
     },
     "69a47fe5cc7e430581884425c57bf7c0": {
      "model_module": "@jupyter-widgets/base",
      "model_module_version": "1.2.0",
      "model_name": "LayoutModel",
      "state": {}
     },
     "6a02e1d541d54fb2aaf71496f7b76fed": {
      "model_module": "@jupyter-widgets/controls",
      "model_module_version": "1.5.0",
      "model_name": "DescriptionStyleModel",
      "state": {
       "description_width": ""
      }
     },
     "6a5bf6e8d6d447dc80012d25a7870792": {
      "model_module": "@jupyter-widgets/controls",
      "model_module_version": "1.5.0",
      "model_name": "FloatProgressModel",
      "state": {
       "bar_style": "success",
       "layout": "IPY_MODEL_085d6c20d01248e9b2e848bfc0079ebd",
       "max": 8,
       "style": "IPY_MODEL_0e6dc161ac76426d8ba71bb8bbbd6180",
       "value": 8
      }
     },
     "6a626e3f85cd48d885cbd7961f4b9fdc": {
      "model_module": "@jupyter-widgets/controls",
      "model_module_version": "1.5.0",
      "model_name": "ProgressStyleModel",
      "state": {
       "description_width": ""
      }
     },
     "6aa5ac6444374dc6b92b171747b88f74": {
      "model_module": "@jupyter-widgets/base",
      "model_module_version": "1.2.0",
      "model_name": "LayoutModel",
      "state": {}
     },
     "6abfd8db0719497a9b40b14e4c756159": {
      "model_module": "@jupyter-widgets/base",
      "model_module_version": "1.2.0",
      "model_name": "LayoutModel",
      "state": {}
     },
     "6b04afed6e7b4f86aacf982309dae9b5": {
      "model_module": "@jupyter-widgets/base",
      "model_module_version": "1.2.0",
      "model_name": "LayoutModel",
      "state": {}
     },
     "6b264f6c1fb046f8b2150dd454321d9f": {
      "model_module": "@jupyter-widgets/controls",
      "model_module_version": "1.5.0",
      "model_name": "DescriptionStyleModel",
      "state": {
       "description_width": ""
      }
     },
     "6b5f47a1f07b4357bfeb685eb6122f35": {
      "model_module": "@jupyter-widgets/base",
      "model_module_version": "1.2.0",
      "model_name": "LayoutModel",
      "state": {}
     },
     "6b74d6bcb9474cfe90ebf0a9b591edc8": {
      "model_module": "@jupyter-widgets/controls",
      "model_module_version": "1.5.0",
      "model_name": "ProgressStyleModel",
      "state": {
       "description_width": ""
      }
     },
     "6badf83da5e448aebc213722be3b33f5": {
      "model_module": "@jupyter-widgets/base",
      "model_module_version": "1.2.0",
      "model_name": "LayoutModel",
      "state": {}
     },
     "6bafc2804d28482d873eecb1f4914baa": {
      "model_module": "@jupyter-widgets/base",
      "model_module_version": "1.2.0",
      "model_name": "LayoutModel",
      "state": {}
     },
     "6bb1fd7f5f424fe191ed70691924cbbf": {
      "model_module": "@jupyter-widgets/base",
      "model_module_version": "1.2.0",
      "model_name": "LayoutModel",
      "state": {}
     },
     "6bc5a2f3f05e45bea6da3cd7465d6d23": {
      "model_module": "@jupyter-widgets/controls",
      "model_module_version": "1.5.0",
      "model_name": "HTMLModel",
      "state": {
       "layout": "IPY_MODEL_b3867de6d34b42dd861ae229dddac58d",
       "style": "IPY_MODEL_756b4312c3d3414ab877f89c6ce52a2f",
       "value": " 8/8 [15:12&lt;00:00, 97.05s/it]"
      }
     },
     "6c012380ee8b4d82ae5c536f939cf8e4": {
      "model_module": "@jupyter-widgets/controls",
      "model_module_version": "1.5.0",
      "model_name": "FloatProgressModel",
      "state": {
       "bar_style": "success",
       "layout": "IPY_MODEL_ec10f51e0424422096c94420ddd6a92e",
       "max": 8,
       "style": "IPY_MODEL_f9db8b2cef65413082271fedd5d9bc35",
       "value": 8
      }
     },
     "6d017ecc7fd1437a94622a632f2ab959": {
      "model_module": "@jupyter-widgets/controls",
      "model_module_version": "1.5.0",
      "model_name": "DescriptionStyleModel",
      "state": {
       "description_width": ""
      }
     },
     "6d1001ec42b342e6b3021e11615c6588": {
      "model_module": "@jupyter-widgets/base",
      "model_module_version": "1.2.0",
      "model_name": "LayoutModel",
      "state": {}
     },
     "6d84330532c44c3c9549a2714754918f": {
      "model_module": "@jupyter-widgets/base",
      "model_module_version": "1.2.0",
      "model_name": "LayoutModel",
      "state": {}
     },
     "6da2b3b61a7940cf9cf682a33530c468": {
      "model_module": "@jupyter-widgets/controls",
      "model_module_version": "1.5.0",
      "model_name": "HTMLModel",
      "state": {
       "layout": "IPY_MODEL_3d400ae4f822438489f835826209f8ce",
       "style": "IPY_MODEL_a22dbeb0e7ff4b6eaf366196f5983664",
       "value": " 8/8 [14:39&lt;00:00, 94.80s/it]"
      }
     },
     "6da6189121474646843841ba93e16dd0": {
      "model_module": "@jupyter-widgets/controls",
      "model_module_version": "1.5.0",
      "model_name": "HBoxModel",
      "state": {
       "children": [
        "IPY_MODEL_00c2504e6704410e9457ccdbc2c7085a",
        "IPY_MODEL_0ae86eb1bcef4bc08fec0b9cbdf09907",
        "IPY_MODEL_05a970c7efd34eae8cc470abdc24d1f6"
       ],
       "layout": "IPY_MODEL_70978c90d8a1458487538b7006a3405f"
      }
     },
     "6db814460e3c45f9b4d70297b051d253": {
      "model_module": "@jupyter-widgets/controls",
      "model_module_version": "1.5.0",
      "model_name": "HBoxModel",
      "state": {
       "children": [
        "IPY_MODEL_5d4f5db3c2bf418f80b8f3901941e651",
        "IPY_MODEL_c510b156e67a4379830939f0ece36b47",
        "IPY_MODEL_1817b4ac2e0c40169f07c88cab4205e6"
       ],
       "layout": "IPY_MODEL_09b1598c1af449a98314ec0b6d7c81fe"
      }
     },
     "6df9b51285ba4697acadd66297f3a8d1": {
      "model_module": "@jupyter-widgets/controls",
      "model_module_version": "1.5.0",
      "model_name": "DescriptionStyleModel",
      "state": {
       "description_width": ""
      }
     },
     "6e183c289ed94470a89fb009bc357bb5": {
      "model_module": "@jupyter-widgets/controls",
      "model_module_version": "1.5.0",
      "model_name": "HTMLModel",
      "state": {
       "layout": "IPY_MODEL_532fe802661542f8bfe2afa255e9f5b6",
       "style": "IPY_MODEL_ca7d4808ef1445caad9bc87f98819940",
       "value": " 23/23 [5:25:49&lt;00:00, 865.92s/it]"
      }
     },
     "6e258da0d35141c887fec27d78763fcb": {
      "model_module": "@jupyter-widgets/base",
      "model_module_version": "1.2.0",
      "model_name": "LayoutModel",
      "state": {}
     },
     "6e3554c6f5b041d2b6aadf7930b475c1": {
      "model_module": "@jupyter-widgets/controls",
      "model_module_version": "1.5.0",
      "model_name": "DescriptionStyleModel",
      "state": {
       "description_width": ""
      }
     },
     "6ea6c59d43ef46b5b4669a8f4b496b4f": {
      "model_module": "@jupyter-widgets/controls",
      "model_module_version": "1.5.0",
      "model_name": "DescriptionStyleModel",
      "state": {
       "description_width": ""
      }
     },
     "6ebe74f7113448589e44d7b69e775429": {
      "model_module": "@jupyter-widgets/controls",
      "model_module_version": "1.5.0",
      "model_name": "DescriptionStyleModel",
      "state": {
       "description_width": ""
      }
     },
     "6ecccf75fe474ed8b1619c4ff2e940e0": {
      "model_module": "@jupyter-widgets/base",
      "model_module_version": "1.2.0",
      "model_name": "LayoutModel",
      "state": {}
     },
     "6eda27fae15247f3babf4237407bdb1e": {
      "model_module": "@jupyter-widgets/base",
      "model_module_version": "1.2.0",
      "model_name": "LayoutModel",
      "state": {}
     },
     "6f0c17b19d28443393801383a477f284": {
      "model_module": "@jupyter-widgets/base",
      "model_module_version": "1.2.0",
      "model_name": "LayoutModel",
      "state": {}
     },
     "6f2b355c27154ae18f286ee2f7d6b512": {
      "model_module": "@jupyter-widgets/controls",
      "model_module_version": "1.5.0",
      "model_name": "DescriptionStyleModel",
      "state": {
       "description_width": ""
      }
     },
     "6f6e9d2e7ec14a0bbb9d2cda81a48770": {
      "model_module": "@jupyter-widgets/base",
      "model_module_version": "1.2.0",
      "model_name": "LayoutModel",
      "state": {}
     },
     "6fee1ccd5c2b43f0bd191e6af779bdce": {
      "model_module": "@jupyter-widgets/controls",
      "model_module_version": "1.5.0",
      "model_name": "DescriptionStyleModel",
      "state": {
       "description_width": ""
      }
     },
     "701b8f2d92a14bed9875ee4751eb5b69": {
      "model_module": "@jupyter-widgets/base",
      "model_module_version": "1.2.0",
      "model_name": "LayoutModel",
      "state": {}
     },
     "7040f74e56414ab4973ba3fcd9dc858c": {
      "model_module": "@jupyter-widgets/controls",
      "model_module_version": "1.5.0",
      "model_name": "DescriptionStyleModel",
      "state": {
       "description_width": ""
      }
     },
     "7047f5372e774fa69e8e20107fadd2e6": {
      "model_module": "@jupyter-widgets/controls",
      "model_module_version": "1.5.0",
      "model_name": "HTMLModel",
      "state": {
       "layout": "IPY_MODEL_e95723a44dd14f23801110bf6086f5d4",
       "style": "IPY_MODEL_3d0e69cd5bee4b8eb2efd2c66620374c",
       "value": " 8/8 [14:38&lt;00:00, 93.08s/it]"
      }
     },
     "70603f5beb21440980921649582b64b9": {
      "model_module": "@jupyter-widgets/controls",
      "model_module_version": "1.5.0",
      "model_name": "FloatProgressModel",
      "state": {
       "bar_style": "success",
       "layout": "IPY_MODEL_b0d846fa19c0472683d56473b37a3df1",
       "max": 8,
       "style": "IPY_MODEL_2337f85ab83941f5b5fd07e498789863",
       "value": 8
      }
     },
     "708772fd00fd48fc8e91524043ea5b03": {
      "model_module": "@jupyter-widgets/controls",
      "model_module_version": "1.5.0",
      "model_name": "ProgressStyleModel",
      "state": {
       "description_width": ""
      }
     },
     "70928e3fa62b4416b9124c9563b85f26": {
      "model_module": "@jupyter-widgets/controls",
      "model_module_version": "1.5.0",
      "model_name": "FloatProgressModel",
      "state": {
       "bar_style": "success",
       "layout": "IPY_MODEL_425bb7bb51084029890bb35847f9405d",
       "max": 8,
       "style": "IPY_MODEL_915002477beb4b3fb661faaa05c8fa63",
       "value": 8
      }
     },
     "70978c90d8a1458487538b7006a3405f": {
      "model_module": "@jupyter-widgets/base",
      "model_module_version": "1.2.0",
      "model_name": "LayoutModel",
      "state": {}
     },
     "70c8b553899e48afaed4f4629c9d57b2": {
      "model_module": "@jupyter-widgets/base",
      "model_module_version": "1.2.0",
      "model_name": "LayoutModel",
      "state": {}
     },
     "71420534aaaf457990f440b67f242f9f": {
      "model_module": "@jupyter-widgets/controls",
      "model_module_version": "1.5.0",
      "model_name": "HBoxModel",
      "state": {
       "children": [
        "IPY_MODEL_52b9587fd4404648b791ec0ee640630f",
        "IPY_MODEL_6a5bf6e8d6d447dc80012d25a7870792",
        "IPY_MODEL_5a01da380f58495582d23ec2fe005b2c"
       ],
       "layout": "IPY_MODEL_55f3107ced5e4267a988051414c5ca17"
      }
     },
     "7193ce59c854498680b08b2e5adaa3b6": {
      "model_module": "@jupyter-widgets/controls",
      "model_module_version": "1.5.0",
      "model_name": "HBoxModel",
      "state": {
       "children": [
        "IPY_MODEL_c42def662cd44049a65d94117f205250",
        "IPY_MODEL_fbd2c2f2a142418cbbd350732704f330",
        "IPY_MODEL_3e517f5043d140daa8986787e4b3aa7b"
       ],
       "layout": "IPY_MODEL_f93a0add13b94ed8af436f3a2db4d9f5"
      }
     },
     "71eadf3bf7bf4f8d8fec3e6a3e2e01a9": {
      "model_module": "@jupyter-widgets/controls",
      "model_module_version": "1.5.0",
      "model_name": "HTMLModel",
      "state": {
       "layout": "IPY_MODEL_bf4010c3bdb8481e92d2c51694147200",
       "style": "IPY_MODEL_72c6c81212444c6b95655b640142f050",
       "value": " 8/8 [14:55&lt;00:00, 94.45s/it]"
      }
     },
     "720e5934e8034df190427106889a101b": {
      "model_module": "@jupyter-widgets/base",
      "model_module_version": "1.2.0",
      "model_name": "LayoutModel",
      "state": {}
     },
     "7267d801cc9b4e838019d12837fb068a": {
      "model_module": "@jupyter-widgets/controls",
      "model_module_version": "1.5.0",
      "model_name": "FloatProgressModel",
      "state": {
       "bar_style": "success",
       "layout": "IPY_MODEL_a7815ad445e24a3c9b399e537c0b56b1",
       "max": 8,
       "style": "IPY_MODEL_f0186b88eef24707b0b29d5d28caa9c5",
       "value": 8
      }
     },
     "728ea0476ac94a69a3746e48ef177f83": {
      "model_module": "@jupyter-widgets/controls",
      "model_module_version": "1.5.0",
      "model_name": "DescriptionStyleModel",
      "state": {
       "description_width": ""
      }
     },
     "72c6c81212444c6b95655b640142f050": {
      "model_module": "@jupyter-widgets/controls",
      "model_module_version": "1.5.0",
      "model_name": "DescriptionStyleModel",
      "state": {
       "description_width": ""
      }
     },
     "72c9f5a4fcdd47549442b30d09a1f798": {
      "model_module": "@jupyter-widgets/controls",
      "model_module_version": "1.5.0",
      "model_name": "DescriptionStyleModel",
      "state": {
       "description_width": ""
      }
     },
     "731da3cfa4264bdcb37cdd49246c3df1": {
      "model_module": "@jupyter-widgets/controls",
      "model_module_version": "1.5.0",
      "model_name": "DescriptionStyleModel",
      "state": {
       "description_width": ""
      }
     },
     "731e18163d3a4b4498e2e73211f2734c": {
      "model_module": "@jupyter-widgets/base",
      "model_module_version": "1.2.0",
      "model_name": "LayoutModel",
      "state": {}
     },
     "73c31e00084c4902a2abcac7720bc701": {
      "model_module": "@jupyter-widgets/base",
      "model_module_version": "1.2.0",
      "model_name": "LayoutModel",
      "state": {}
     },
     "73f312b4671f428a96e753be48598c43": {
      "model_module": "@jupyter-widgets/base",
      "model_module_version": "1.2.0",
      "model_name": "LayoutModel",
      "state": {}
     },
     "73f62898133941f58bf1ea4b9085335d": {
      "model_module": "@jupyter-widgets/controls",
      "model_module_version": "1.5.0",
      "model_name": "HTMLModel",
      "state": {
       "layout": "IPY_MODEL_965fd9cd30814020a14e1d3b823a5f40",
       "style": "IPY_MODEL_20aa8e5742414e3581879fc69c5468a0",
       "value": " 8/8 [14:38&lt;00:00, 91.97s/it]"
      }
     },
     "7432a93f415c4f77a5d4453d91173cb2": {
      "model_module": "@jupyter-widgets/controls",
      "model_module_version": "1.5.0",
      "model_name": "HTMLModel",
      "state": {
       "layout": "IPY_MODEL_b95b02682a7840b48fc3256467742496",
       "style": "IPY_MODEL_8b6a0b23719f413384c016b29558168e",
       "value": " 8/8 [14:28&lt;00:00, 92.45s/it]"
      }
     },
     "7471c81d78094e838a7ade696b0d29a9": {
      "model_module": "@jupyter-widgets/controls",
      "model_module_version": "1.5.0",
      "model_name": "HTMLModel",
      "state": {
       "layout": "IPY_MODEL_e807060040ac4d369db6f47005d3a5d9",
       "style": "IPY_MODEL_a6b9c369aaf1462ca5bbb606ae1be8bd",
       "value": " 8/8 [07:39&lt;00:00, 48.98s/it]"
      }
     },
     "74adfc3e8b6e460db1418f5836802394": {
      "model_module": "@jupyter-widgets/base",
      "model_module_version": "1.2.0",
      "model_name": "LayoutModel",
      "state": {}
     },
     "74c2f087114e4943857790c447ad5f34": {
      "model_module": "@jupyter-widgets/controls",
      "model_module_version": "1.5.0",
      "model_name": "HTMLModel",
      "state": {
       "layout": "IPY_MODEL_ed2a2297c21645a2b487ebd8bb69a84a",
       "style": "IPY_MODEL_4f6b4b40233248df9c6b39cf2d78131c",
       "value": "100%"
      }
     },
     "74fb3101391d4cfe847392ac4415e9f2": {
      "model_module": "@jupyter-widgets/controls",
      "model_module_version": "1.5.0",
      "model_name": "HBoxModel",
      "state": {
       "children": [
        "IPY_MODEL_cb8f0c35777e456997c3ce92d2d00c94",
        "IPY_MODEL_dd5cb62655c64983b27411229923f0d7",
        "IPY_MODEL_959a4b03abc447a1a93e12adad92af7b"
       ],
       "layout": "IPY_MODEL_6808c406abfa47cf92682be17903069e"
      }
     },
     "75115e2407634d16bdab4ff1dfc97b85": {
      "model_module": "@jupyter-widgets/controls",
      "model_module_version": "1.5.0",
      "model_name": "FloatProgressModel",
      "state": {
       "bar_style": "success",
       "layout": "IPY_MODEL_b245b64de66d42b4857fd877dbdb05c7",
       "max": 8,
       "style": "IPY_MODEL_862c88507bcd4d60b740c88e243c5762",
       "value": 8
      }
     },
     "756b4312c3d3414ab877f89c6ce52a2f": {
      "model_module": "@jupyter-widgets/controls",
      "model_module_version": "1.5.0",
      "model_name": "DescriptionStyleModel",
      "state": {
       "description_width": ""
      }
     },
     "75afcdb1b5eb4290bf1791e983745fc5": {
      "model_module": "@jupyter-widgets/base",
      "model_module_version": "1.2.0",
      "model_name": "LayoutModel",
      "state": {}
     },
     "761af5725bd64c46b3f0cf0821b49650": {
      "model_module": "@jupyter-widgets/base",
      "model_module_version": "1.2.0",
      "model_name": "LayoutModel",
      "state": {}
     },
     "76910a2e989d457b84a0ba38d246ed42": {
      "model_module": "@jupyter-widgets/base",
      "model_module_version": "1.2.0",
      "model_name": "LayoutModel",
      "state": {}
     },
     "770df238445b4f90a976fc5afb6fd374": {
      "model_module": "@jupyter-widgets/controls",
      "model_module_version": "1.5.0",
      "model_name": "DescriptionStyleModel",
      "state": {
       "description_width": ""
      }
     },
     "77bec3e590554f3b8b59c721901da56a": {
      "model_module": "@jupyter-widgets/base",
      "model_module_version": "1.2.0",
      "model_name": "LayoutModel",
      "state": {}
     },
     "78d2b668bafb45f1bd27208725424f97": {
      "model_module": "@jupyter-widgets/controls",
      "model_module_version": "1.5.0",
      "model_name": "FloatProgressModel",
      "state": {
       "bar_style": "success",
       "layout": "IPY_MODEL_c8b79ae3356640d688fbee803e0d9706",
       "max": 8,
       "style": "IPY_MODEL_fccf8a517d8e4bf3bd5271e9031d19a3",
       "value": 8
      }
     },
     "7917d5c4d2c34cb0865a54091505be0d": {
      "model_module": "@jupyter-widgets/base",
      "model_module_version": "1.2.0",
      "model_name": "LayoutModel",
      "state": {}
     },
     "7980ad16aba54c32b4a4342889670081": {
      "model_module": "@jupyter-widgets/controls",
      "model_module_version": "1.5.0",
      "model_name": "HBoxModel",
      "state": {
       "children": [
        "IPY_MODEL_cd2529a99b34409596e48ab468391b04",
        "IPY_MODEL_55708cd977384d989743a061b2934ea2",
        "IPY_MODEL_0290a2cc709e432a9fe89fc40c61c042"
       ],
       "layout": "IPY_MODEL_195f473142994f37b2237f2b7e044806"
      }
     },
     "79d8e84a2e6149259978057dd43c0ee7": {
      "model_module": "@jupyter-widgets/controls",
      "model_module_version": "1.5.0",
      "model_name": "HBoxModel",
      "state": {
       "children": [
        "IPY_MODEL_03b9e538d81848b7990acd278b5ac548",
        "IPY_MODEL_c590549aaf1d44b681b5d0ffaff2b95c",
        "IPY_MODEL_79e6ffc4f86b4b16afff2eb84f376c36"
       ],
       "layout": "IPY_MODEL_e2d07e8f772c4fb38f3fb8432533e1da"
      }
     },
     "79e6ffc4f86b4b16afff2eb84f376c36": {
      "model_module": "@jupyter-widgets/controls",
      "model_module_version": "1.5.0",
      "model_name": "HTMLModel",
      "state": {
       "layout": "IPY_MODEL_ddac69db338649d08a257ae69163b3a4",
       "style": "IPY_MODEL_c5325cd54faf4a13bd1b3dccb8f29e7a",
       "value": " 0/23 [00:00&lt;?, ?it/s]"
      }
     },
     "7b131b803a93466abd1942164657fa39": {
      "model_module": "@jupyter-widgets/base",
      "model_module_version": "1.2.0",
      "model_name": "LayoutModel",
      "state": {}
     },
     "7b2d260f63e54c95809a1f2ee062d9ee": {
      "model_module": "@jupyter-widgets/controls",
      "model_module_version": "1.5.0",
      "model_name": "DescriptionStyleModel",
      "state": {
       "description_width": ""
      }
     },
     "7b7677102a344f47a0503a7bd9ac8030": {
      "model_module": "@jupyter-widgets/controls",
      "model_module_version": "1.5.0",
      "model_name": "HTMLModel",
      "state": {
       "layout": "IPY_MODEL_6b5f47a1f07b4357bfeb685eb6122f35",
       "style": "IPY_MODEL_7d32143808764474bd16e2914c77bc70",
       "value": " 8/8 [14:19&lt;00:00, 90.74s/it]"
      }
     },
     "7b9a204b596c47bc96314556dfd34d3f": {
      "model_module": "@jupyter-widgets/controls",
      "model_module_version": "1.5.0",
      "model_name": "ProgressStyleModel",
      "state": {
       "description_width": ""
      }
     },
     "7bf56a7137cc4b3299f9fabfb15d1155": {
      "model_module": "@jupyter-widgets/controls",
      "model_module_version": "1.5.0",
      "model_name": "HTMLModel",
      "state": {
       "layout": "IPY_MODEL_995643796b6442b399fc5e3d5e33abf5",
       "style": "IPY_MODEL_d3640a2103d345099211e086cb29a4b8",
       "value": "100%"
      }
     },
     "7bfaf1dede9f4cb1957f5e4879e48bc2": {
      "model_module": "@jupyter-widgets/base",
      "model_module_version": "1.2.0",
      "model_name": "LayoutModel",
      "state": {}
     },
     "7c0857df98884872bfe8f987ab8dfbc5": {
      "model_module": "@jupyter-widgets/controls",
      "model_module_version": "1.5.0",
      "model_name": "DescriptionStyleModel",
      "state": {
       "description_width": ""
      }
     },
     "7c2d864416204d5fba7d88fcd18248ac": {
      "model_module": "@jupyter-widgets/base",
      "model_module_version": "1.2.0",
      "model_name": "LayoutModel",
      "state": {}
     },
     "7c4bb1c92a7a4e81a7ff64cf61357b9e": {
      "model_module": "@jupyter-widgets/controls",
      "model_module_version": "1.5.0",
      "model_name": "HTMLModel",
      "state": {
       "layout": "IPY_MODEL_1342d9719d954c9195112341009ef5c6",
       "style": "IPY_MODEL_e2e458732e7f45129e44427690cd3808",
       "value": "100%"
      }
     },
     "7c7d55a350614b84a14d4ca76d9245e9": {
      "model_module": "@jupyter-widgets/controls",
      "model_module_version": "1.5.0",
      "model_name": "HTMLModel",
      "state": {
       "layout": "IPY_MODEL_6ecccf75fe474ed8b1619c4ff2e940e0",
       "style": "IPY_MODEL_4046ef34a0f0477b8fef51040973ddfd",
       "value": " 8/8 [15:21&lt;00:00, 98.14s/it]"
      }
     },
     "7c7da10ca09b4ab88763149b18ed09d2": {
      "model_module": "@jupyter-widgets/controls",
      "model_module_version": "1.5.0",
      "model_name": "HBoxModel",
      "state": {
       "children": [
        "IPY_MODEL_f5518aa7078a4dfd8421c09fe7ed51e7",
        "IPY_MODEL_64d982e5ab174b25bc3a1cb4a5d50ff1",
        "IPY_MODEL_2905a0e2784f4dfdb578662cd9393353"
       ],
       "layout": "IPY_MODEL_41a85ef227574c89b6833e6f7fb07ecc"
      }
     },
     "7cf1c98dabac48e489c7fdee09781f02": {
      "model_module": "@jupyter-widgets/base",
      "model_module_version": "1.2.0",
      "model_name": "LayoutModel",
      "state": {}
     },
     "7d0bd3b2678645d7a060ece86291d4f6": {
      "model_module": "@jupyter-widgets/controls",
      "model_module_version": "1.5.0",
      "model_name": "HTMLModel",
      "state": {
       "layout": "IPY_MODEL_5594007952e749e592d4ab7d96f258ae",
       "style": "IPY_MODEL_21767671e43148b1a06d991cb2909000",
       "value": "  0%"
      }
     },
     "7d10fe6ef1ab4ab4a1e937ac99390f25": {
      "model_module": "@jupyter-widgets/controls",
      "model_module_version": "1.5.0",
      "model_name": "DescriptionStyleModel",
      "state": {
       "description_width": ""
      }
     },
     "7d32143808764474bd16e2914c77bc70": {
      "model_module": "@jupyter-widgets/controls",
      "model_module_version": "1.5.0",
      "model_name": "DescriptionStyleModel",
      "state": {
       "description_width": ""
      }
     },
     "7d57594c293f4f62b7b505f32e591b60": {
      "model_module": "@jupyter-widgets/controls",
      "model_module_version": "1.5.0",
      "model_name": "FloatProgressModel",
      "state": {
       "bar_style": "success",
       "layout": "IPY_MODEL_2321a2c9f1d04a3aae7a5f25ab18c8ce",
       "max": 8,
       "style": "IPY_MODEL_304e41b8679443d99dafde277e7ca3cb",
       "value": 8
      }
     },
     "7ea2a68d64094e2482c5fb7bd43ff862": {
      "model_module": "@jupyter-widgets/controls",
      "model_module_version": "1.5.0",
      "model_name": "DescriptionStyleModel",
      "state": {
       "description_width": ""
      }
     },
     "7eb245bd73174880ac2034f71aa7c953": {
      "model_module": "@jupyter-widgets/controls",
      "model_module_version": "1.5.0",
      "model_name": "HBoxModel",
      "state": {
       "children": [
        "IPY_MODEL_e576ce7f40ea49a8889ac41d2be93043",
        "IPY_MODEL_a276d1b63d594871a7039aa0b9709625",
        "IPY_MODEL_7ff21aa48ab1444eb445feebfefea34d"
       ],
       "layout": "IPY_MODEL_4dcf75429f3e45d7abdfb8d74af9fdb9"
      }
     },
     "7edf1a0696374d99aeda8d3df285b1ac": {
      "model_module": "@jupyter-widgets/controls",
      "model_module_version": "1.5.0",
      "model_name": "FloatProgressModel",
      "state": {
       "bar_style": "success",
       "layout": "IPY_MODEL_bee772ff4d584070971565260224688f",
       "max": 8,
       "style": "IPY_MODEL_7b9a204b596c47bc96314556dfd34d3f",
       "value": 8
      }
     },
     "7f042d5ec064495abe52acd1dcb989f7": {
      "model_module": "@jupyter-widgets/controls",
      "model_module_version": "1.5.0",
      "model_name": "ProgressStyleModel",
      "state": {
       "description_width": ""
      }
     },
     "7fba5b1c4b8a438398e7a7ee066d9944": {
      "model_module": "@jupyter-widgets/controls",
      "model_module_version": "1.5.0",
      "model_name": "HBoxModel",
      "state": {
       "children": [
        "IPY_MODEL_e03ce9d1f37644b58dcba515cf894cf2",
        "IPY_MODEL_bc16e671df6044a7b48cdb0d5c4c6d93",
        "IPY_MODEL_b2998e2a56034b5db7bda829a215cf81"
       ],
       "layout": "IPY_MODEL_4c9e4795009a47a1a595fa7db03a1a0f"
      }
     },
     "7ff21aa48ab1444eb445feebfefea34d": {
      "model_module": "@jupyter-widgets/controls",
      "model_module_version": "1.5.0",
      "model_name": "HTMLModel",
      "state": {
       "layout": "IPY_MODEL_89fdd54e3b7748c68b4c99519dfb8374",
       "style": "IPY_MODEL_4d690af1c99346edb1d3b05df3a0afb1",
       "value": " 8/8 [14:07&lt;00:00, 89.41s/it]"
      }
     },
     "805581998fbd4a04baeb115f93f93611": {
      "model_module": "@jupyter-widgets/controls",
      "model_module_version": "1.5.0",
      "model_name": "DescriptionStyleModel",
      "state": {
       "description_width": ""
      }
     },
     "80f79c2499ba47458f118bf713f11a49": {
      "model_module": "@jupyter-widgets/controls",
      "model_module_version": "1.5.0",
      "model_name": "HTMLModel",
      "state": {
       "layout": "IPY_MODEL_967f31e4829349d085d075e7a22d11d5",
       "style": "IPY_MODEL_2d4a265b754f4b94b6a6a1f180ac09e2",
       "value": "100%"
      }
     },
     "81164153bef34af0b4a72b822dd17ce5": {
      "model_module": "@jupyter-widgets/controls",
      "model_module_version": "1.5.0",
      "model_name": "HTMLModel",
      "state": {
       "layout": "IPY_MODEL_08a469fe19944df6a60f3dcd0f7f8b05",
       "style": "IPY_MODEL_22c6453f48a04d4d9ec2902a23f4092f",
       "value": "100%"
      }
     },
     "815a09c7eecd43d9871e62356757df90": {
      "model_module": "@jupyter-widgets/controls",
      "model_module_version": "1.5.0",
      "model_name": "FloatProgressModel",
      "state": {
       "bar_style": "success",
       "layout": "IPY_MODEL_bc0a4c7c22e04af588253b2db9748c14",
       "max": 8,
       "style": "IPY_MODEL_234a0861515143dfbe29a0f3214c2599",
       "value": 8
      }
     },
     "81a312987e9e44e0aa3ef39531795823": {
      "model_module": "@jupyter-widgets/controls",
      "model_module_version": "1.5.0",
      "model_name": "FloatProgressModel",
      "state": {
       "bar_style": "success",
       "layout": "IPY_MODEL_8f685d5566bd4ddda4c3b4e5ab6fbcfe",
       "max": 23,
       "style": "IPY_MODEL_430864a7f2614371bf44f13edad42f5c",
       "value": 23
      }
     },
     "822a54e6eb2949d68f587f90fe1a64c8": {
      "model_module": "@jupyter-widgets/base",
      "model_module_version": "1.2.0",
      "model_name": "LayoutModel",
      "state": {}
     },
     "824ccf24aa864379b7c5e558e5440159": {
      "model_module": "@jupyter-widgets/controls",
      "model_module_version": "1.5.0",
      "model_name": "DescriptionStyleModel",
      "state": {
       "description_width": ""
      }
     },
     "82603523046a4cc891cce6d8cc536611": {
      "model_module": "@jupyter-widgets/base",
      "model_module_version": "1.2.0",
      "model_name": "LayoutModel",
      "state": {}
     },
     "827682c389e24ec8acfddc2a7c0f4a2b": {
      "model_module": "@jupyter-widgets/controls",
      "model_module_version": "1.5.0",
      "model_name": "DescriptionStyleModel",
      "state": {
       "description_width": ""
      }
     },
     "82be175a96d54211ac9b6fe9fdfaac73": {
      "model_module": "@jupyter-widgets/controls",
      "model_module_version": "1.5.0",
      "model_name": "DescriptionStyleModel",
      "state": {
       "description_width": ""
      }
     },
     "831bc441b18c42ea8d16d118b4f98fcb": {
      "model_module": "@jupyter-widgets/controls",
      "model_module_version": "1.5.0",
      "model_name": "HBoxModel",
      "state": {
       "children": [
        "IPY_MODEL_116d566a562c448dbbb7d0a7310625e7",
        "IPY_MODEL_f9c42f4daa6242caa4df044f72f522cf",
        "IPY_MODEL_7b7677102a344f47a0503a7bd9ac8030"
       ],
       "layout": "IPY_MODEL_b9fa709a4ade4ab6a7918e04848ffd91"
      }
     },
     "8336d45f20bd49f6a2e1e541cda01ce4": {
      "model_module": "@jupyter-widgets/controls",
      "model_module_version": "1.5.0",
      "model_name": "HTMLModel",
      "state": {
       "layout": "IPY_MODEL_50eb5620ec1a469393e929035b0c9ff4",
       "style": "IPY_MODEL_b3a195671450417390ff39002a3e25b4",
       "value": " 8/8 [14:40&lt;00:00, 92.86s/it]"
      }
     },
     "834a6df0c7004274b61740ea7865c10a": {
      "model_module": "@jupyter-widgets/base",
      "model_module_version": "1.2.0",
      "model_name": "LayoutModel",
      "state": {}
     },
     "834f74a347ea4c97ace794b44ff6a6df": {
      "model_module": "@jupyter-widgets/controls",
      "model_module_version": "1.5.0",
      "model_name": "HTMLModel",
      "state": {
       "layout": "IPY_MODEL_f57a6d4078aa47d0afb93bb527f8782e",
       "style": "IPY_MODEL_aae4380256664b669d1e50cc1df1c1d7",
       "value": "100%"
      }
     },
     "83be042421e0468e9ce54f66e2dbc08a": {
      "model_module": "@jupyter-widgets/controls",
      "model_module_version": "1.5.0",
      "model_name": "DescriptionStyleModel",
      "state": {
       "description_width": ""
      }
     },
     "83e1c637c03547cab3abf8654283cb62": {
      "model_module": "@jupyter-widgets/base",
      "model_module_version": "1.2.0",
      "model_name": "LayoutModel",
      "state": {}
     },
     "83ee383c98d54ed887ec9114fcf214bd": {
      "model_module": "@jupyter-widgets/controls",
      "model_module_version": "1.5.0",
      "model_name": "HBoxModel",
      "state": {
       "children": [
        "IPY_MODEL_e3dd25da3ac04376959b44fb3982ba73",
        "IPY_MODEL_af34994bd9644c5c86acabd66dd95314",
        "IPY_MODEL_db012518f2af43caaee5da636d9523d4"
       ],
       "layout": "IPY_MODEL_038ff020088948b8bd7edcad10259f67"
      }
     },
     "84050cfdd61240c9bdbaf985f6d35bdb": {
      "model_module": "@jupyter-widgets/base",
      "model_module_version": "1.2.0",
      "model_name": "LayoutModel",
      "state": {}
     },
     "84562a1bab954f6da3a51ac774ad0420": {
      "model_module": "@jupyter-widgets/controls",
      "model_module_version": "1.5.0",
      "model_name": "HTMLModel",
      "state": {
       "layout": "IPY_MODEL_6227bc0b50164399ad4cae1f30653757",
       "style": "IPY_MODEL_a97429f5fe2249649c963edd7b70c04a",
       "value": " 8/8 [14:28&lt;00:00, 92.45s/it]"
      }
     },
     "8470ebc8c4b74f62a6c6bc38d74ec3f9": {
      "model_module": "@jupyter-widgets/controls",
      "model_module_version": "1.5.0",
      "model_name": "HTMLModel",
      "state": {
       "layout": "IPY_MODEL_a6a3f9f50a3c4ee2834d1ca33fb289eb",
       "style": "IPY_MODEL_157318bebfce4df383c10e6b80c8c071",
       "value": "100%"
      }
     },
     "8472c58abe7a433cb46745ca9874460f": {
      "model_module": "@jupyter-widgets/controls",
      "model_module_version": "1.5.0",
      "model_name": "HTMLModel",
      "state": {
       "layout": "IPY_MODEL_bc21a58d77044731b24c8fcada06ac9f",
       "style": "IPY_MODEL_380a9bf40fd54e8b980dae4bae85dda3",
       "value": "100%"
      }
     },
     "84b40c96bf914cffa06fe01a3746fd4c": {
      "model_module": "@jupyter-widgets/base",
      "model_module_version": "1.2.0",
      "model_name": "LayoutModel",
      "state": {}
     },
     "8503de6fed624c77b1ec19df243a76d4": {
      "model_module": "@jupyter-widgets/controls",
      "model_module_version": "1.5.0",
      "model_name": "HTMLModel",
      "state": {
       "layout": "IPY_MODEL_1958641c39894817b13258bec2a0b127",
       "style": "IPY_MODEL_39dfc7426e4642b08b3ff0f1ec5fc11e",
       "value": "100%"
      }
     },
     "8506d39618b644c6a6d7308fc28fb56a": {
      "model_module": "@jupyter-widgets/controls",
      "model_module_version": "1.5.0",
      "model_name": "ProgressStyleModel",
      "state": {
       "description_width": ""
      }
     },
     "8569fc6f76ad441faf6d0f276530967e": {
      "model_module": "@jupyter-widgets/controls",
      "model_module_version": "1.5.0",
      "model_name": "DescriptionStyleModel",
      "state": {
       "description_width": ""
      }
     },
     "85734b7242504e298d8ea8543c22525e": {
      "model_module": "@jupyter-widgets/controls",
      "model_module_version": "1.5.0",
      "model_name": "HTMLModel",
      "state": {
       "layout": "IPY_MODEL_fd028e34200d4fbc8217ef8bd2f0b169",
       "style": "IPY_MODEL_1dbc5355d98a495bb5f0e2aed0251b43",
       "value": "100%"
      }
     },
     "85f7899cfa114bf591d49f543851aad4": {
      "model_module": "@jupyter-widgets/controls",
      "model_module_version": "1.5.0",
      "model_name": "HTMLModel",
      "state": {
       "layout": "IPY_MODEL_104685049fdf468ea0cc854a7d8dcd72",
       "style": "IPY_MODEL_93fc4df6551844ce8affaba117745f3e",
       "value": "100%"
      }
     },
     "862c88507bcd4d60b740c88e243c5762": {
      "model_module": "@jupyter-widgets/controls",
      "model_module_version": "1.5.0",
      "model_name": "ProgressStyleModel",
      "state": {
       "description_width": ""
      }
     },
     "863daae5630048c59abd2b5411a47130": {
      "model_module": "@jupyter-widgets/controls",
      "model_module_version": "1.5.0",
      "model_name": "HTMLModel",
      "state": {
       "layout": "IPY_MODEL_4efbd1e002c246be85070b2db2073d90",
       "style": "IPY_MODEL_e7a7c0df3b984dc8af6ac89b44158104",
       "value": "100%"
      }
     },
     "86604be553464d8ab81d068690e13639": {
      "model_module": "@jupyter-widgets/controls",
      "model_module_version": "1.5.0",
      "model_name": "FloatProgressModel",
      "state": {
       "bar_style": "success",
       "layout": "IPY_MODEL_671af9a252b3456e9d85b637da3ff913",
       "max": 23,
       "style": "IPY_MODEL_87d15b46906f4672a328ad6c960174fc",
       "value": 23
      }
     },
     "869351272e43495196b93164640b809d": {
      "model_module": "@jupyter-widgets/base",
      "model_module_version": "1.2.0",
      "model_name": "LayoutModel",
      "state": {}
     },
     "86b29d654068493aa723612765e59930": {
      "model_module": "@jupyter-widgets/controls",
      "model_module_version": "1.5.0",
      "model_name": "DescriptionStyleModel",
      "state": {
       "description_width": ""
      }
     },
     "86b604a8ab7e4bcabe588526ec6492af": {
      "model_module": "@jupyter-widgets/base",
      "model_module_version": "1.2.0",
      "model_name": "LayoutModel",
      "state": {}
     },
     "86c4442d121144eeab45fdd0bf6c9459": {
      "model_module": "@jupyter-widgets/base",
      "model_module_version": "1.2.0",
      "model_name": "LayoutModel",
      "state": {}
     },
     "86c53d8c2cc040b082ccb855c7c5b47a": {
      "model_module": "@jupyter-widgets/base",
      "model_module_version": "1.2.0",
      "model_name": "LayoutModel",
      "state": {}
     },
     "86dd7fee18dd47219e41dba8a73449f7": {
      "model_module": "@jupyter-widgets/controls",
      "model_module_version": "1.5.0",
      "model_name": "FloatProgressModel",
      "state": {
       "bar_style": "success",
       "layout": "IPY_MODEL_6790bfaf4ebf45a585a8280dd77e94a2",
       "max": 23,
       "style": "IPY_MODEL_ece3ac7d02814c3294eb24629ca81314",
       "value": 23
      }
     },
     "870f5f7c7aa04b178ddb484b2a9c8cf0": {
      "model_module": "@jupyter-widgets/controls",
      "model_module_version": "1.5.0",
      "model_name": "ProgressStyleModel",
      "state": {
       "description_width": ""
      }
     },
     "874bef8382534e819640943807a8a80f": {
      "model_module": "@jupyter-widgets/controls",
      "model_module_version": "1.5.0",
      "model_name": "DescriptionStyleModel",
      "state": {
       "description_width": ""
      }
     },
     "87725d2cad144b0d8c8bd1c074d5c94e": {
      "model_module": "@jupyter-widgets/controls",
      "model_module_version": "1.5.0",
      "model_name": "DescriptionStyleModel",
      "state": {
       "description_width": ""
      }
     },
     "87d15b46906f4672a328ad6c960174fc": {
      "model_module": "@jupyter-widgets/controls",
      "model_module_version": "1.5.0",
      "model_name": "ProgressStyleModel",
      "state": {
       "description_width": ""
      }
     },
     "886b418fafa1439a9e1a23a1ae0e8017": {
      "model_module": "@jupyter-widgets/controls",
      "model_module_version": "1.5.0",
      "model_name": "HTMLModel",
      "state": {
       "layout": "IPY_MODEL_1f884292e9ea45b4bad97ecec39516ab",
       "style": "IPY_MODEL_1c8911a34a0c46b09cde98ecd35dd9aa",
       "value": "100%"
      }
     },
     "887f17100df04badb3394c5127eb689a": {
      "model_module": "@jupyter-widgets/controls",
      "model_module_version": "1.5.0",
      "model_name": "DescriptionStyleModel",
      "state": {
       "description_width": ""
      }
     },
     "895eb8b54f4945069c350a34133207e7": {
      "model_module": "@jupyter-widgets/controls",
      "model_module_version": "1.5.0",
      "model_name": "HTMLModel",
      "state": {
       "layout": "IPY_MODEL_1ae29900119b46da8861fab112400aa6",
       "style": "IPY_MODEL_dd015621edce4e729dc0a26b2391c02f",
       "value": " 8/8 [14:04&lt;00:00, 88.74s/it]"
      }
     },
     "89993e6546f34fd3ab0513a4bf6b465f": {
      "model_module": "@jupyter-widgets/controls",
      "model_module_version": "1.5.0",
      "model_name": "ProgressStyleModel",
      "state": {
       "description_width": ""
      }
     },
     "89a142e329284daaba00c228ea536a7a": {
      "model_module": "@jupyter-widgets/controls",
      "model_module_version": "1.5.0",
      "model_name": "HTMLModel",
      "state": {
       "layout": "IPY_MODEL_4da6cf38ad4a40a1bd09e6b80982731b",
       "style": "IPY_MODEL_0059e27dc38d4b8db1683f526f959b0d",
       "value": " 23/23 [03:27&lt;00:00,  9.07s/it]"
      }
     },
     "89e6fae46bbb420a94861000707b88d6": {
      "model_module": "@jupyter-widgets/controls",
      "model_module_version": "1.5.0",
      "model_name": "HTMLModel",
      "state": {
       "layout": "IPY_MODEL_691ed64c347447708e045f9cb5090e54",
       "style": "IPY_MODEL_cda2bd46849c44bc97bcd3c533887287",
       "value": " 12%"
      }
     },
     "89ebd5115eac430cad9f804dd108fe42": {
      "model_module": "@jupyter-widgets/controls",
      "model_module_version": "1.5.0",
      "model_name": "FloatProgressModel",
      "state": {
       "bar_style": "success",
       "layout": "IPY_MODEL_499c0e552e754718b248272b495a86ce",
       "max": 8,
       "style": "IPY_MODEL_184bf1e03a814880ac8ffdc2cab16781",
       "value": 8
      }
     },
     "89ee907e10dc498e9042619a576d01d5": {
      "model_module": "@jupyter-widgets/controls",
      "model_module_version": "1.5.0",
      "model_name": "ProgressStyleModel",
      "state": {
       "description_width": ""
      }
     },
     "89fdd54e3b7748c68b4c99519dfb8374": {
      "model_module": "@jupyter-widgets/base",
      "model_module_version": "1.2.0",
      "model_name": "LayoutModel",
      "state": {}
     },
     "8a16077979ab42b2af0d3ba7f5b6e412": {
      "model_module": "@jupyter-widgets/base",
      "model_module_version": "1.2.0",
      "model_name": "LayoutModel",
      "state": {}
     },
     "8a23d241e3c2434c9ba1be24e44d6959": {
      "model_module": "@jupyter-widgets/controls",
      "model_module_version": "1.5.0",
      "model_name": "ProgressStyleModel",
      "state": {
       "description_width": ""
      }
     },
     "8a860c142e9d41de9a14ff9894b895ae": {
      "model_module": "@jupyter-widgets/controls",
      "model_module_version": "1.5.0",
      "model_name": "FloatProgressModel",
      "state": {
       "bar_style": "success",
       "layout": "IPY_MODEL_9e014096924141ea96b73682ca8be91f",
       "max": 8,
       "style": "IPY_MODEL_a290aa87caea4b8aabd65e6769641cda",
       "value": 8
      }
     },
     "8a92bdc1a1574a7cab79bef5d0a6aa74": {
      "model_module": "@jupyter-widgets/controls",
      "model_module_version": "1.5.0",
      "model_name": "FloatProgressModel",
      "state": {
       "bar_style": "success",
       "layout": "IPY_MODEL_fbd0baf9acae4fcda4690f04a5da4a2b",
       "max": 8,
       "style": "IPY_MODEL_a9582d88d1ae4475ac1613b75ddaedb8",
       "value": 8
      }
     },
     "8aa4027e8e924dc9991546b7f72e3465": {
      "model_module": "@jupyter-widgets/controls",
      "model_module_version": "1.5.0",
      "model_name": "DescriptionStyleModel",
      "state": {
       "description_width": ""
      }
     },
     "8abdd2cc98574ff5b997d8b0f720ba08": {
      "model_module": "@jupyter-widgets/controls",
      "model_module_version": "1.5.0",
      "model_name": "HTMLModel",
      "state": {
       "layout": "IPY_MODEL_4df5e62387a34ed082fc8ddb37ec769e",
       "style": "IPY_MODEL_f6c4ce11a6d44065ad223018bb508b34",
       "value": " 23/23 [03:37&lt;00:00,  9.57s/it]"
      }
     },
     "8af5986bc45e413a8ce7951d61605ebe": {
      "model_module": "@jupyter-widgets/base",
      "model_module_version": "1.2.0",
      "model_name": "LayoutModel",
      "state": {}
     },
     "8b021c836a0e46519dab917687b41ace": {
      "model_module": "@jupyter-widgets/base",
      "model_module_version": "1.2.0",
      "model_name": "LayoutModel",
      "state": {}
     },
     "8b41e4a277fb4352bf6281edd76c8a0b": {
      "model_module": "@jupyter-widgets/base",
      "model_module_version": "1.2.0",
      "model_name": "LayoutModel",
      "state": {}
     },
     "8b6a0b23719f413384c016b29558168e": {
      "model_module": "@jupyter-widgets/controls",
      "model_module_version": "1.5.0",
      "model_name": "DescriptionStyleModel",
      "state": {
       "description_width": ""
      }
     },
     "8bf270437a34419481aca3b69a58c66e": {
      "model_module": "@jupyter-widgets/controls",
      "model_module_version": "1.5.0",
      "model_name": "FloatProgressModel",
      "state": {
       "bar_style": "success",
       "layout": "IPY_MODEL_16975ea2a2ec4790b1ddc2e11c6f65ee",
       "max": 23,
       "style": "IPY_MODEL_027310550c2e4375a76432ec752f748b",
       "value": 23
      }
     },
     "8c59ad435e014052be283e59f7fd1c5b": {
      "model_module": "@jupyter-widgets/controls",
      "model_module_version": "1.5.0",
      "model_name": "HBoxModel",
      "state": {
       "children": [
        "IPY_MODEL_5ed50b4dd8534f8fa83b09babca396a3",
        "IPY_MODEL_bb094b17a78d405098b1113dfafbc467",
        "IPY_MODEL_d190af371f154a6fa471aa60ee193a46"
       ],
       "layout": "IPY_MODEL_01ef90ce57a649579072e0df47837688"
      }
     },
     "8c68a584ea3743b2b2d6098314985a44": {
      "model_module": "@jupyter-widgets/base",
      "model_module_version": "1.2.0",
      "model_name": "LayoutModel",
      "state": {}
     },
     "8c91bf04735f44e0b56cab15ae0d7e1c": {
      "model_module": "@jupyter-widgets/base",
      "model_module_version": "1.2.0",
      "model_name": "LayoutModel",
      "state": {}
     },
     "8cb72892dcf9400596304c85c063b422": {
      "model_module": "@jupyter-widgets/controls",
      "model_module_version": "1.5.0",
      "model_name": "HTMLModel",
      "state": {
       "layout": "IPY_MODEL_e4ed591fbd034c27a0338d6928ba4e90",
       "style": "IPY_MODEL_887f17100df04badb3394c5127eb689a",
       "value": "100%"
      }
     },
     "8ce9cc95530c40f1a12bc5b0d7311787": {
      "model_module": "@jupyter-widgets/controls",
      "model_module_version": "1.5.0",
      "model_name": "FloatProgressModel",
      "state": {
       "bar_style": "success",
       "layout": "IPY_MODEL_dc797e410167486b8b778020182ad166",
       "max": 8,
       "style": "IPY_MODEL_b27b56c289b54b11ae699f1dbcb0471c",
       "value": 8
      }
     },
     "8ddbc7781da24f3fa38ee11a5807fc03": {
      "model_module": "@jupyter-widgets/controls",
      "model_module_version": "1.5.0",
      "model_name": "ProgressStyleModel",
      "state": {
       "description_width": ""
      }
     },
     "8e80ac91f99e460b944040dd2a01391a": {
      "model_module": "@jupyter-widgets/controls",
      "model_module_version": "1.5.0",
      "model_name": "FloatProgressModel",
      "state": {
       "bar_style": "success",
       "layout": "IPY_MODEL_1b51c41a10a64fb78ee78b0d2539f110",
       "max": 23,
       "style": "IPY_MODEL_51d1053940f84ebc8b4fc3203062089e",
       "value": 23
      }
     },
     "8e9d9b52df41407782715389faa35080": {
      "model_module": "@jupyter-widgets/controls",
      "model_module_version": "1.5.0",
      "model_name": "DescriptionStyleModel",
      "state": {
       "description_width": ""
      }
     },
     "8eb687843d6d48619dacf8b1919e522c": {
      "model_module": "@jupyter-widgets/controls",
      "model_module_version": "1.5.0",
      "model_name": "HTMLModel",
      "state": {
       "layout": "IPY_MODEL_a5f25a4b7d614dcb8c402b4400c653a8",
       "style": "IPY_MODEL_2d0c73227b2d41899792c742a0ffe3a5",
       "value": " 1/8 [06:22&lt;02:58, 25.47s/it]"
      }
     },
     "8f04571ede1746cf87c9bb556c80fbac": {
      "model_module": "@jupyter-widgets/base",
      "model_module_version": "1.2.0",
      "model_name": "LayoutModel",
      "state": {}
     },
     "8f128dc3d8134c1881b17b38000d0521": {
      "model_module": "@jupyter-widgets/controls",
      "model_module_version": "1.5.0",
      "model_name": "HBoxModel",
      "state": {
       "children": [
        "IPY_MODEL_2fa9788f5784473ea07cf23c49ab0f81",
        "IPY_MODEL_514472715eba483a8514df69f9e53a70",
        "IPY_MODEL_58f17d20629e4f8789f578376e366675"
       ],
       "layout": "IPY_MODEL_7bfaf1dede9f4cb1957f5e4879e48bc2"
      }
     },
     "8f685d5566bd4ddda4c3b4e5ab6fbcfe": {
      "model_module": "@jupyter-widgets/base",
      "model_module_version": "1.2.0",
      "model_name": "LayoutModel",
      "state": {}
     },
     "8f9226a117ec461ebbe451b49343f6bf": {
      "model_module": "@jupyter-widgets/base",
      "model_module_version": "1.2.0",
      "model_name": "LayoutModel",
      "state": {}
     },
     "8fbc143a6fda413db22250ef86d6ab61": {
      "model_module": "@jupyter-widgets/base",
      "model_module_version": "1.2.0",
      "model_name": "LayoutModel",
      "state": {}
     },
     "8fff385c387542fe8b32dd16f43cf1f1": {
      "model_module": "@jupyter-widgets/controls",
      "model_module_version": "1.5.0",
      "model_name": "HTMLModel",
      "state": {
       "layout": "IPY_MODEL_6bafc2804d28482d873eecb1f4914baa",
       "style": "IPY_MODEL_ea92355e393b4312b82645fa0d6bdf9d",
       "value": "100%"
      }
     },
     "9010ce89a0f3495c90cbe4cebb481380": {
      "model_module": "@jupyter-widgets/controls",
      "model_module_version": "1.5.0",
      "model_name": "HTMLModel",
      "state": {
       "layout": "IPY_MODEL_d56b786811ca4cfb842213e11eda157a",
       "style": "IPY_MODEL_770df238445b4f90a976fc5afb6fd374",
       "value": " 8/8 [14:19&lt;00:00, 91.36s/it]"
      }
     },
     "901771d0fed6483a83791b49530f92fb": {
      "model_module": "@jupyter-widgets/base",
      "model_module_version": "1.2.0",
      "model_name": "LayoutModel",
      "state": {}
     },
     "902a84a991d74f968634e2ae64b9fcc6": {
      "model_module": "@jupyter-widgets/base",
      "model_module_version": "1.2.0",
      "model_name": "LayoutModel",
      "state": {}
     },
     "907a80dbc88e4736ab672d0f0b18cea6": {
      "model_module": "@jupyter-widgets/controls",
      "model_module_version": "1.5.0",
      "model_name": "FloatProgressModel",
      "state": {
       "bar_style": "success",
       "layout": "IPY_MODEL_c243713ed6a543c49bfc5541ecf7d9c4",
       "max": 8,
       "style": "IPY_MODEL_5ee796b6c0fd42f3b23c9cf0fbe874d6",
       "value": 8
      }
     },
     "909eb226fd1f47808fdf15a42799bd01": {
      "model_module": "@jupyter-widgets/controls",
      "model_module_version": "1.5.0",
      "model_name": "ProgressStyleModel",
      "state": {
       "description_width": ""
      }
     },
     "90b12abc3c0d438aa49f636504c9c504": {
      "model_module": "@jupyter-widgets/controls",
      "model_module_version": "1.5.0",
      "model_name": "HTMLModel",
      "state": {
       "layout": "IPY_MODEL_09a343b28b4546f9878aea80477e44b2",
       "style": "IPY_MODEL_94052a7c042f409c8031a59760985fdd",
       "value": " 8/8 [14:30&lt;00:00, 91.47s/it]"
      }
     },
     "90bc1c3aa78c4e3ba0b3f1e53741fe9b": {
      "model_module": "@jupyter-widgets/controls",
      "model_module_version": "1.5.0",
      "model_name": "HTMLModel",
      "state": {
       "layout": "IPY_MODEL_61cdefa2bbef4b7caeeb190f2448552d",
       "style": "IPY_MODEL_f280a244c5e64b618a3149e216993aef",
       "value": " 23/23 [03:31&lt;00:00,  9.27s/it]"
      }
     },
     "9121c2e4b5044042a4220229c8fafbda": {
      "model_module": "@jupyter-widgets/controls",
      "model_module_version": "1.5.0",
      "model_name": "ProgressStyleModel",
      "state": {
       "description_width": ""
      }
     },
     "913851344be94d068859bdb9a0f7008e": {
      "model_module": "@jupyter-widgets/controls",
      "model_module_version": "1.5.0",
      "model_name": "HBoxModel",
      "state": {
       "children": [
        "IPY_MODEL_573682036db84699b8e82c2bb71e7558",
        "IPY_MODEL_bd6d462e86a14e7e995d5aa0344e6cf1",
        "IPY_MODEL_b0b219b66aa240d0ae3002dd4a413d29"
       ],
       "layout": "IPY_MODEL_50ce634b90364eecbab7df977827e663"
      }
     },
     "914f1eec05a0445c84c109955df5c9cc": {
      "model_module": "@jupyter-widgets/controls",
      "model_module_version": "1.5.0",
      "model_name": "DescriptionStyleModel",
      "state": {
       "description_width": ""
      }
     },
     "915002477beb4b3fb661faaa05c8fa63": {
      "model_module": "@jupyter-widgets/controls",
      "model_module_version": "1.5.0",
      "model_name": "ProgressStyleModel",
      "state": {
       "description_width": ""
      }
     },
     "9176e8959690475ab9f4b1e0798ca265": {
      "model_module": "@jupyter-widgets/controls",
      "model_module_version": "1.5.0",
      "model_name": "FloatProgressModel",
      "state": {
       "bar_style": "success",
       "layout": "IPY_MODEL_0b1a656c1dca4796896843e2a94c4b76",
       "max": 8,
       "style": "IPY_MODEL_5741ad912d3745ab8b6d5c09dd0333ec",
       "value": 8
      }
     },
     "919d9ce2558849688492a0d450597347": {
      "model_module": "@jupyter-widgets/controls",
      "model_module_version": "1.5.0",
      "model_name": "DescriptionStyleModel",
      "state": {
       "description_width": ""
      }
     },
     "91b46061712a4780ba0edd8133b90e57": {
      "model_module": "@jupyter-widgets/base",
      "model_module_version": "1.2.0",
      "model_name": "LayoutModel",
      "state": {}
     },
     "923d6a0abb09447d942bc6dbd42aaa9e": {
      "model_module": "@jupyter-widgets/base",
      "model_module_version": "1.2.0",
      "model_name": "LayoutModel",
      "state": {}
     },
     "92de65f98571405e8b4e142d1f53b4c1": {
      "model_module": "@jupyter-widgets/controls",
      "model_module_version": "1.5.0",
      "model_name": "HBoxModel",
      "state": {
       "children": [
        "IPY_MODEL_886b418fafa1439a9e1a23a1ae0e8017",
        "IPY_MODEL_cf6094b9c6aa4711af4665c7e55e4dd9",
        "IPY_MODEL_3544fccd5c4a4e76a133c70aad7a04c4"
       ],
       "layout": "IPY_MODEL_933a527c2f04405197b5c59eb5a84158"
      }
     },
     "933a527c2f04405197b5c59eb5a84158": {
      "model_module": "@jupyter-widgets/base",
      "model_module_version": "1.2.0",
      "model_name": "LayoutModel",
      "state": {}
     },
     "9352484c0f3c4539848468ad9b3b05c0": {
      "model_module": "@jupyter-widgets/controls",
      "model_module_version": "1.5.0",
      "model_name": "HTMLModel",
      "state": {
       "layout": "IPY_MODEL_34e81fea787e42a0b93d2ef063c3b7a4",
       "style": "IPY_MODEL_cd722e36930f4e768662d0125a46d4af",
       "value": " 8/8 [14:25&lt;00:00, 91.84s/it]"
      }
     },
     "935ea2b826124084911243684b844ac4": {
      "model_module": "@jupyter-widgets/controls",
      "model_module_version": "1.5.0",
      "model_name": "ProgressStyleModel",
      "state": {
       "description_width": ""
      }
     },
     "9370a37bd829474283b1599b01fcf63c": {
      "model_module": "@jupyter-widgets/controls",
      "model_module_version": "1.5.0",
      "model_name": "DescriptionStyleModel",
      "state": {
       "description_width": ""
      }
     },
     "9395a920345b4ee3b3631c962d9153b2": {
      "model_module": "@jupyter-widgets/base",
      "model_module_version": "1.2.0",
      "model_name": "LayoutModel",
      "state": {}
     },
     "93b4d2b500ea4ce6a9442e0fd23dc49f": {
      "model_module": "@jupyter-widgets/controls",
      "model_module_version": "1.5.0",
      "model_name": "HBoxModel",
      "state": {
       "children": [
        "IPY_MODEL_863daae5630048c59abd2b5411a47130",
        "IPY_MODEL_be03e15ae01442ed8450ffd617450120",
        "IPY_MODEL_9352484c0f3c4539848468ad9b3b05c0"
       ],
       "layout": "IPY_MODEL_38f9615aedd94d879f4ea45377cb304d"
      }
     },
     "93c15553a5d640afa62515b24ed8bfa4": {
      "model_module": "@jupyter-widgets/controls",
      "model_module_version": "1.5.0",
      "model_name": "FloatProgressModel",
      "state": {
       "bar_style": "success",
       "layout": "IPY_MODEL_0d40074e3be74c9fa20917e168f6aba7",
       "max": 8,
       "style": "IPY_MODEL_a9a232eddca7407680bfe1cb6e0d3f0d",
       "value": 8
      }
     },
     "93d61dd7cba4438aa2b031a039e0b001": {
      "model_module": "@jupyter-widgets/controls",
      "model_module_version": "1.5.0",
      "model_name": "ProgressStyleModel",
      "state": {
       "description_width": ""
      }
     },
     "93fc4df6551844ce8affaba117745f3e": {
      "model_module": "@jupyter-widgets/controls",
      "model_module_version": "1.5.0",
      "model_name": "DescriptionStyleModel",
      "state": {
       "description_width": ""
      }
     },
     "94052a7c042f409c8031a59760985fdd": {
      "model_module": "@jupyter-widgets/controls",
      "model_module_version": "1.5.0",
      "model_name": "DescriptionStyleModel",
      "state": {
       "description_width": ""
      }
     },
     "94278bdab6ea441b98c88b65e6c7ce9b": {
      "model_module": "@jupyter-widgets/controls",
      "model_module_version": "1.5.0",
      "model_name": "HBoxModel",
      "state": {
       "children": [
        "IPY_MODEL_80f79c2499ba47458f118bf713f11a49",
        "IPY_MODEL_ecd1c06ddd6f4e958961ad6c4dc4febf",
        "IPY_MODEL_2686f3541e4945bbb7f3c2be24b6b1c6"
       ],
       "layout": "IPY_MODEL_4ed4142be4fc46e6b667b43d9ecd0239"
      }
     },
     "943b4cc8faaf43fd821772159d09575b": {
      "model_module": "@jupyter-widgets/base",
      "model_module_version": "1.2.0",
      "model_name": "LayoutModel",
      "state": {}
     },
     "946f73dc335f4263b9f7359a5741ae6e": {
      "model_module": "@jupyter-widgets/controls",
      "model_module_version": "1.5.0",
      "model_name": "HBoxModel",
      "state": {
       "children": [
        "IPY_MODEL_cd4e7f6d40534921b67bfeec0636320d",
        "IPY_MODEL_a6ac9ff1baa24e82a2e96ca902514edc",
        "IPY_MODEL_0b06e1a47fc74554b8ab0be7d0849b57"
       ],
       "layout": "IPY_MODEL_f84ef80a29fe4c5a81cb377cffbe667c"
      }
     },
     "948b10033f29468c99098b04cfab83fd": {
      "model_module": "@jupyter-widgets/controls",
      "model_module_version": "1.5.0",
      "model_name": "HBoxModel",
      "state": {
       "children": [
        "IPY_MODEL_535e49a269f54c8485c32dfdea585c1d",
        "IPY_MODEL_70603f5beb21440980921649582b64b9",
        "IPY_MODEL_9d7c4b5e613b494295ba9ac4620eb423"
       ],
       "layout": "IPY_MODEL_9b39e1671258478b92df60cf644c7fcc"
      }
     },
     "9495c25a01ed493a951385444005016e": {
      "model_module": "@jupyter-widgets/controls",
      "model_module_version": "1.5.0",
      "model_name": "HTMLModel",
      "state": {
       "layout": "IPY_MODEL_cfbc9889da7f46e398b1d23d6c7fd4cf",
       "style": "IPY_MODEL_672e69b3549f4b5ca48f5cf7e930413d",
       "value": " 23/23 [00:00&lt;00:00, 984.45it/s]"
      }
     },
     "94b3b0e07c454ff0b7d217c5b9d297a5": {
      "model_module": "@jupyter-widgets/controls",
      "model_module_version": "1.5.0",
      "model_name": "FloatProgressModel",
      "state": {
       "bar_style": "success",
       "layout": "IPY_MODEL_15871d1305f34ac0bfd318f8950ef97d",
       "max": 8,
       "style": "IPY_MODEL_8a23d241e3c2434c9ba1be24e44d6959",
       "value": 8
      }
     },
     "95298442e1da4dbaac059d2cfb5fe78d": {
      "model_module": "@jupyter-widgets/controls",
      "model_module_version": "1.5.0",
      "model_name": "DescriptionStyleModel",
      "state": {
       "description_width": ""
      }
     },
     "953ea480e17e414c91655340d98c75e1": {
      "model_module": "@jupyter-widgets/base",
      "model_module_version": "1.2.0",
      "model_name": "LayoutModel",
      "state": {}
     },
     "9575c4d4bd8140e498dcf0f750c6ec60": {
      "model_module": "@jupyter-widgets/controls",
      "model_module_version": "1.5.0",
      "model_name": "FloatProgressModel",
      "state": {
       "bar_style": "success",
       "layout": "IPY_MODEL_b8da341b4d084e06ae7fbfcfd7034586",
       "max": 8,
       "style": "IPY_MODEL_9121c2e4b5044042a4220229c8fafbda",
       "value": 8
      }
     },
     "9582a9795a2b4fd8a7b9041a18bfb1cc": {
      "model_module": "@jupyter-widgets/controls",
      "model_module_version": "1.5.0",
      "model_name": "HBoxModel",
      "state": {
       "children": [
        "IPY_MODEL_85734b7242504e298d8ea8543c22525e",
        "IPY_MODEL_86604be553464d8ab81d068690e13639",
        "IPY_MODEL_a8f188df0c9942e48db9244f3d7a1d61"
       ],
       "layout": "IPY_MODEL_cf130a87b4414f469452591e5a1adb56"
      }
     },
     "959a4b03abc447a1a93e12adad92af7b": {
      "model_module": "@jupyter-widgets/controls",
      "model_module_version": "1.5.0",
      "model_name": "HTMLModel",
      "state": {
       "layout": "IPY_MODEL_e5f0145510064bb38fe92559d92d7a17",
       "style": "IPY_MODEL_447bde799bea4bfcb213abb2b3e14718",
       "value": " 3/23 [37:50&lt;4:26:05, 798.26s/it]"
      }
     },
     "9612d7ea5e534e758164384ab0c1490a": {
      "model_module": "@jupyter-widgets/base",
      "model_module_version": "1.2.0",
      "model_name": "LayoutModel",
      "state": {}
     },
     "965fd9cd30814020a14e1d3b823a5f40": {
      "model_module": "@jupyter-widgets/base",
      "model_module_version": "1.2.0",
      "model_name": "LayoutModel",
      "state": {}
     },
     "966202937bea47d3afe60108b6b72c1b": {
      "model_module": "@jupyter-widgets/controls",
      "model_module_version": "1.5.0",
      "model_name": "ProgressStyleModel",
      "state": {
       "description_width": ""
      }
     },
     "9679f056383142dc9d11b2813686b1e6": {
      "model_module": "@jupyter-widgets/base",
      "model_module_version": "1.2.0",
      "model_name": "LayoutModel",
      "state": {}
     },
     "967f31e4829349d085d075e7a22d11d5": {
      "model_module": "@jupyter-widgets/base",
      "model_module_version": "1.2.0",
      "model_name": "LayoutModel",
      "state": {}
     },
     "96b092107d8a4b7db4b19bfc53b25857": {
      "model_module": "@jupyter-widgets/controls",
      "model_module_version": "1.5.0",
      "model_name": "DescriptionStyleModel",
      "state": {
       "description_width": ""
      }
     },
     "96c2c8cf5b7f43cca0270d3a807ff272": {
      "model_module": "@jupyter-widgets/controls",
      "model_module_version": "1.5.0",
      "model_name": "HTMLModel",
      "state": {
       "layout": "IPY_MODEL_a4986e024643494bb09fdc14f0a800cf",
       "style": "IPY_MODEL_c51c086ced5c42b8a23c15c727ece279",
       "value": " 23/23 [00:00&lt;00:00, 986.00it/s]"
      }
     },
     "977a9a5af3e94773a78f09482300aee2": {
      "model_module": "@jupyter-widgets/controls",
      "model_module_version": "1.5.0",
      "model_name": "FloatProgressModel",
      "state": {
       "bar_style": "success",
       "layout": "IPY_MODEL_529546c36a28485aa9067c659bae7e4f",
       "max": 8,
       "style": "IPY_MODEL_dea0fa5384e345fd8548cec67564269a",
       "value": 8
      }
     },
     "983f58d6ba6d4c309e6534c571c906d5": {
      "model_module": "@jupyter-widgets/controls",
      "model_module_version": "1.5.0",
      "model_name": "HTMLModel",
      "state": {
       "layout": "IPY_MODEL_9679f056383142dc9d11b2813686b1e6",
       "style": "IPY_MODEL_5fded6f5cc1148edbd68768107a80c19",
       "value": "100%"
      }
     },
     "984b0a98cda943feaec4ca762cddf4b2": {
      "model_module": "@jupyter-widgets/controls",
      "model_module_version": "1.5.0",
      "model_name": "ProgressStyleModel",
      "state": {
       "description_width": ""
      }
     },
     "986b2140064e464293c8b0afe59850b1": {
      "model_module": "@jupyter-widgets/base",
      "model_module_version": "1.2.0",
      "model_name": "LayoutModel",
      "state": {}
     },
     "9880adf0163e4db794fa2bbe9a6d665d": {
      "model_module": "@jupyter-widgets/base",
      "model_module_version": "1.2.0",
      "model_name": "LayoutModel",
      "state": {}
     },
     "98b665d1b8e2413cb2fbb716246c76ea": {
      "model_module": "@jupyter-widgets/controls",
      "model_module_version": "1.5.0",
      "model_name": "ProgressStyleModel",
      "state": {
       "description_width": ""
      }
     },
     "98ff828507084be7891f95770e733527": {
      "model_module": "@jupyter-widgets/controls",
      "model_module_version": "1.5.0",
      "model_name": "FloatProgressModel",
      "state": {
       "bar_style": "success",
       "layout": "IPY_MODEL_66e56233db264db29fbf3e85c65a11e6",
       "max": 8,
       "style": "IPY_MODEL_a20f633aca05443982b38e1dc888146a",
       "value": 8
      }
     },
     "990632c280cd4b328a6705cf3b4fb887": {
      "model_module": "@jupyter-widgets/controls",
      "model_module_version": "1.5.0",
      "model_name": "HTMLModel",
      "state": {
       "layout": "IPY_MODEL_12f84de00bf6463da698285ead798d63",
       "style": "IPY_MODEL_805581998fbd4a04baeb115f93f93611",
       "value": "100%"
      }
     },
     "9907651bd004414babe401a5260e85cd": {
      "model_module": "@jupyter-widgets/base",
      "model_module_version": "1.2.0",
      "model_name": "LayoutModel",
      "state": {}
     },
     "995643796b6442b399fc5e3d5e33abf5": {
      "model_module": "@jupyter-widgets/base",
      "model_module_version": "1.2.0",
      "model_name": "LayoutModel",
      "state": {}
     },
     "999050cb98b54087acfcd15a00e59ef6": {
      "model_module": "@jupyter-widgets/base",
      "model_module_version": "1.2.0",
      "model_name": "LayoutModel",
      "state": {}
     },
     "99e888d599204984a0be798ef540134d": {
      "model_module": "@jupyter-widgets/base",
      "model_module_version": "1.2.0",
      "model_name": "LayoutModel",
      "state": {}
     },
     "9a217dcbecd9415a8fa86066f415d74a": {
      "model_module": "@jupyter-widgets/controls",
      "model_module_version": "1.5.0",
      "model_name": "HBoxModel",
      "state": {
       "children": [
        "IPY_MODEL_5b417e7a157443df8689e8b322612a8c",
        "IPY_MODEL_0c8cc52108644e69a4eed8ec43c22630",
        "IPY_MODEL_608b79e5b21546bf8333abced6e1d5ce"
       ],
       "layout": "IPY_MODEL_ba6e918c22294708a9d93da745a49dbc"
      }
     },
     "9a227c5bd65345c39a59c6158219aff5": {
      "model_module": "@jupyter-widgets/controls",
      "model_module_version": "1.5.0",
      "model_name": "DescriptionStyleModel",
      "state": {
       "description_width": ""
      }
     },
     "9aa242ba62ef4954a91d44979c6c4d33": {
      "model_module": "@jupyter-widgets/base",
      "model_module_version": "1.2.0",
      "model_name": "LayoutModel",
      "state": {}
     },
     "9abaf2a96f87443bb720f1d5f364946c": {
      "model_module": "@jupyter-widgets/base",
      "model_module_version": "1.2.0",
      "model_name": "LayoutModel",
      "state": {}
     },
     "9b05cf2863bb46ec82c45c5f7143f2cf": {
      "model_module": "@jupyter-widgets/controls",
      "model_module_version": "1.5.0",
      "model_name": "HTMLModel",
      "state": {
       "layout": "IPY_MODEL_ee406f5eb0194d57930d70949e70ddbf",
       "style": "IPY_MODEL_a33eb47b00414395b943f08bdeae7eb6",
       "value": " 8/8 [14:34&lt;00:00, 92.68s/it]"
      }
     },
     "9b39e1671258478b92df60cf644c7fcc": {
      "model_module": "@jupyter-widgets/base",
      "model_module_version": "1.2.0",
      "model_name": "LayoutModel",
      "state": {}
     },
     "9b616ddc375e4dceb588d73879ca5c8f": {
      "model_module": "@jupyter-widgets/controls",
      "model_module_version": "1.5.0",
      "model_name": "HBoxModel",
      "state": {
       "children": [
        "IPY_MODEL_29710b368c044211ac77c154bb55edbd",
        "IPY_MODEL_31d652d69634484d917c9436e4515f92",
        "IPY_MODEL_4ae440d7948e4071bb549ffe1c482ada"
       ],
       "layout": "IPY_MODEL_cb1a3375d5ad4fa0835cc9b027f2d692"
      }
     },
     "9bd53d96e27d4c3aaf2042517b96ec18": {
      "model_module": "@jupyter-widgets/base",
      "model_module_version": "1.2.0",
      "model_name": "LayoutModel",
      "state": {}
     },
     "9c4ac47fbc25485db194a37ee77d2b00": {
      "model_module": "@jupyter-widgets/controls",
      "model_module_version": "1.5.0",
      "model_name": "HTMLModel",
      "state": {
       "layout": "IPY_MODEL_701b8f2d92a14bed9875ee4751eb5b69",
       "style": "IPY_MODEL_e44ff44c443945c2b3ce6612fa369676",
       "value": "100%"
      }
     },
     "9c704e03cef54ad79e7ef5f08f94a081": {
      "model_module": "@jupyter-widgets/controls",
      "model_module_version": "1.5.0",
      "model_name": "HTMLModel",
      "state": {
       "layout": "IPY_MODEL_9c9885fa1bed467ba50e507f831513b6",
       "style": "IPY_MODEL_452904d0ac8445c9940b5fb1b30bdc1e",
       "value": "100%"
      }
     },
     "9c9885fa1bed467ba50e507f831513b6": {
      "model_module": "@jupyter-widgets/base",
      "model_module_version": "1.2.0",
      "model_name": "LayoutModel",
      "state": {}
     },
     "9cda7fba0bb2460d8ad1ea609d691774": {
      "model_module": "@jupyter-widgets/controls",
      "model_module_version": "1.5.0",
      "model_name": "HBoxModel",
      "state": {
       "children": [
        "IPY_MODEL_85f7899cfa114bf591d49f543851aad4",
        "IPY_MODEL_2fdbbf6ba4b94e74a76afdf5a2c0c6a1",
        "IPY_MODEL_5314b1a5b3764d3e933facc495cc6866"
       ],
       "layout": "IPY_MODEL_df5e3bd825274913b41d64fba19d1b87"
      }
     },
     "9cfcc46addb34906b8ceb8e0ab5af482": {
      "model_module": "@jupyter-widgets/controls",
      "model_module_version": "1.5.0",
      "model_name": "HTMLModel",
      "state": {
       "layout": "IPY_MODEL_0cc89af3d4684d4499b539eb7cb1a17b",
       "style": "IPY_MODEL_6a02e1d541d54fb2aaf71496f7b76fed",
       "value": "100%"
      }
     },
     "9d488da6247e4b71b76b03b0c8ef957c": {
      "model_module": "@jupyter-widgets/base",
      "model_module_version": "1.2.0",
      "model_name": "LayoutModel",
      "state": {}
     },
     "9d7c4b5e613b494295ba9ac4620eb423": {
      "model_module": "@jupyter-widgets/controls",
      "model_module_version": "1.5.0",
      "model_name": "HTMLModel",
      "state": {
       "layout": "IPY_MODEL_400760cdf01f47729d398b446e7038dc",
       "style": "IPY_MODEL_57fb41041bba4de391b096b3749ea480",
       "value": " 8/8 [14:47&lt;00:00, 96.35s/it]"
      }
     },
     "9d81270671fd48219b2f87ae104d1264": {
      "model_module": "@jupyter-widgets/controls",
      "model_module_version": "1.5.0",
      "model_name": "FloatProgressModel",
      "state": {
       "bar_style": "success",
       "layout": "IPY_MODEL_687f92e213594637b2a44968edf12d26",
       "max": 8,
       "style": "IPY_MODEL_2dc4c470bd4d4b91944b615bfa4ac5b6",
       "value": 8
      }
     },
     "9dacb955d4cf49ee9dc897f883426cd5": {
      "model_module": "@jupyter-widgets/controls",
      "model_module_version": "1.5.0",
      "model_name": "DescriptionStyleModel",
      "state": {
       "description_width": ""
      }
     },
     "9e014096924141ea96b73682ca8be91f": {
      "model_module": "@jupyter-widgets/base",
      "model_module_version": "1.2.0",
      "model_name": "LayoutModel",
      "state": {}
     },
     "9e1c78e20dce4f9ebc1995a55087c8bd": {
      "model_module": "@jupyter-widgets/controls",
      "model_module_version": "1.5.0",
      "model_name": "HTMLModel",
      "state": {
       "layout": "IPY_MODEL_f7cd1e07ea8b4253bf0c299cc66b1a73",
       "style": "IPY_MODEL_be4831489d9944e8b3672883ac342402",
       "value": " 8/8 [15:21&lt;00:00, 95.34s/it]"
      }
     },
     "9e46a9e106da40d7a8f50864285c186d": {
      "model_module": "@jupyter-widgets/controls",
      "model_module_version": "1.5.0",
      "model_name": "DescriptionStyleModel",
      "state": {
       "description_width": ""
      }
     },
     "9e5d78d46afd44db8ce95f6a6b58f341": {
      "model_module": "@jupyter-widgets/base",
      "model_module_version": "1.2.0",
      "model_name": "LayoutModel",
      "state": {}
     },
     "9ed152dad42d4b1892db0af72e327444": {
      "model_module": "@jupyter-widgets/base",
      "model_module_version": "1.2.0",
      "model_name": "LayoutModel",
      "state": {}
     },
     "9edfa99927ad4ac4b6d82ba80bdcdcdd": {
      "model_module": "@jupyter-widgets/controls",
      "model_module_version": "1.5.0",
      "model_name": "FloatProgressModel",
      "state": {
       "bar_style": "success",
       "layout": "IPY_MODEL_84050cfdd61240c9bdbaf985f6d35bdb",
       "max": 23,
       "style": "IPY_MODEL_5ffacdf589264b11a571b140026a3635",
       "value": 23
      }
     },
     "9f83f995e69140d08d6dbcfc1ec478b6": {
      "model_module": "@jupyter-widgets/base",
      "model_module_version": "1.2.0",
      "model_name": "LayoutModel",
      "state": {}
     },
     "9fb08b2e1873477f8a6488a27f34d9b7": {
      "model_module": "@jupyter-widgets/controls",
      "model_module_version": "1.5.0",
      "model_name": "HTMLModel",
      "state": {
       "layout": "IPY_MODEL_77bec3e590554f3b8b59c721901da56a",
       "style": "IPY_MODEL_65bcc1dccc8b46778d7da908709e36bb",
       "value": " 8/8 [14:22&lt;00:00, 89.93s/it]"
      }
     },
     "9feecee053db48a5b9b3c0e248379e18": {
      "model_module": "@jupyter-widgets/controls",
      "model_module_version": "1.5.0",
      "model_name": "HTMLModel",
      "state": {
       "layout": "IPY_MODEL_5b85230654e4468da33002a66fe1c3c5",
       "style": "IPY_MODEL_e56765f9ac984a4ca89bf8474be7306c",
       "value": " 8/8 [14:29&lt;00:00, 91.76s/it]"
      }
     },
     "9ff6e9f556cb4cf382200e83da2e06cd": {
      "model_module": "@jupyter-widgets/controls",
      "model_module_version": "1.5.0",
      "model_name": "DescriptionStyleModel",
      "state": {
       "description_width": ""
      }
     },
     "a05716fd866042be8fa2350b056fb30e": {
      "model_module": "@jupyter-widgets/base",
      "model_module_version": "1.2.0",
      "model_name": "LayoutModel",
      "state": {}
     },
     "a08a8e6989a14f60bf8f6f650d8e9aaa": {
      "model_module": "@jupyter-widgets/base",
      "model_module_version": "1.2.0",
      "model_name": "LayoutModel",
      "state": {}
     },
     "a0bbd359d79c41168129e7c6a820aab0": {
      "model_module": "@jupyter-widgets/base",
      "model_module_version": "1.2.0",
      "model_name": "LayoutModel",
      "state": {}
     },
     "a10322d1106c42a2a2769568a1b75f33": {
      "model_module": "@jupyter-widgets/controls",
      "model_module_version": "1.5.0",
      "model_name": "FloatProgressModel",
      "state": {
       "bar_style": "success",
       "layout": "IPY_MODEL_f5484a27f9954ad5b54f687f355ab708",
       "max": 8,
       "style": "IPY_MODEL_5382eaf5be0c45a2ac87601398a08d14",
       "value": 8
      }
     },
     "a17c191b43e74c84a2b6a11eeb0cc954": {
      "model_module": "@jupyter-widgets/base",
      "model_module_version": "1.2.0",
      "model_name": "LayoutModel",
      "state": {}
     },
     "a1b0711510dd443ca1b964a27ed6fd13": {
      "model_module": "@jupyter-widgets/controls",
      "model_module_version": "1.5.0",
      "model_name": "HTMLModel",
      "state": {
       "layout": "IPY_MODEL_1f7b26360c644e6aa126d8cb619a544a",
       "style": "IPY_MODEL_25acf01d0fc84bf1bf4b5f6adde0b967",
       "value": "100%"
      }
     },
     "a1ff0ec0413649d7994eb9929a090ae4": {
      "model_module": "@jupyter-widgets/controls",
      "model_module_version": "1.5.0",
      "model_name": "DescriptionStyleModel",
      "state": {
       "description_width": ""
      }
     },
     "a20f633aca05443982b38e1dc888146a": {
      "model_module": "@jupyter-widgets/controls",
      "model_module_version": "1.5.0",
      "model_name": "ProgressStyleModel",
      "state": {
       "description_width": ""
      }
     },
     "a22dbeb0e7ff4b6eaf366196f5983664": {
      "model_module": "@jupyter-widgets/controls",
      "model_module_version": "1.5.0",
      "model_name": "DescriptionStyleModel",
      "state": {
       "description_width": ""
      }
     },
     "a251cf520eec4e5f93c1b525a9bc48ad": {
      "model_module": "@jupyter-widgets/controls",
      "model_module_version": "1.5.0",
      "model_name": "DescriptionStyleModel",
      "state": {
       "description_width": ""
      }
     },
     "a276d1b63d594871a7039aa0b9709625": {
      "model_module": "@jupyter-widgets/controls",
      "model_module_version": "1.5.0",
      "model_name": "FloatProgressModel",
      "state": {
       "bar_style": "success",
       "layout": "IPY_MODEL_6d1001ec42b342e6b3021e11615c6588",
       "max": 8,
       "style": "IPY_MODEL_b04edaeb1c4c465191921bceedd4ffbd",
       "value": 8
      }
     },
     "a290aa87caea4b8aabd65e6769641cda": {
      "model_module": "@jupyter-widgets/controls",
      "model_module_version": "1.5.0",
      "model_name": "ProgressStyleModel",
      "state": {
       "description_width": ""
      }
     },
     "a2b6e5f2566c475b949b589399fea025": {
      "model_module": "@jupyter-widgets/controls",
      "model_module_version": "1.5.0",
      "model_name": "HBoxModel",
      "state": {
       "children": [
        "IPY_MODEL_ee0e5f77c1fa4c41bf63ae0fd1a8f20e",
        "IPY_MODEL_d6e9f687269d4b3082cd22456a360f82",
        "IPY_MODEL_46b513916fd3437980f3c06f8b16da95"
       ],
       "layout": "IPY_MODEL_098556e3d439459e9562675dd1f3b457"
      }
     },
     "a2ef46da5751464489180702b6adf5f1": {
      "model_module": "@jupyter-widgets/base",
      "model_module_version": "1.2.0",
      "model_name": "LayoutModel",
      "state": {}
     },
     "a33eb47b00414395b943f08bdeae7eb6": {
      "model_module": "@jupyter-widgets/controls",
      "model_module_version": "1.5.0",
      "model_name": "DescriptionStyleModel",
      "state": {
       "description_width": ""
      }
     },
     "a350864302d142f5aafb5154a3225b82": {
      "model_module": "@jupyter-widgets/base",
      "model_module_version": "1.2.0",
      "model_name": "LayoutModel",
      "state": {}
     },
     "a46cfaf7cba743e7896a10c6aed2efa9": {
      "model_module": "@jupyter-widgets/controls",
      "model_module_version": "1.5.0",
      "model_name": "DescriptionStyleModel",
      "state": {
       "description_width": ""
      }
     },
     "a475784a992a495b9baf9e194c12abd5": {
      "model_module": "@jupyter-widgets/controls",
      "model_module_version": "1.5.0",
      "model_name": "HTMLModel",
      "state": {
       "layout": "IPY_MODEL_145a026e586f46a887b05626c46bcd2d",
       "style": "IPY_MODEL_5de0c51b74e04b3ab7d0f85bdbf63f96",
       "value": " 23/23 [00:02&lt;00:00,  8.51it/s]"
      }
     },
     "a4986e024643494bb09fdc14f0a800cf": {
      "model_module": "@jupyter-widgets/base",
      "model_module_version": "1.2.0",
      "model_name": "LayoutModel",
      "state": {}
     },
     "a5139761882b4720a4d76c8e57a9d886": {
      "model_module": "@jupyter-widgets/controls",
      "model_module_version": "1.5.0",
      "model_name": "FloatProgressModel",
      "state": {
       "bar_style": "success",
       "layout": "IPY_MODEL_6f6e9d2e7ec14a0bbb9d2cda81a48770",
       "max": 23,
       "style": "IPY_MODEL_6b74d6bcb9474cfe90ebf0a9b591edc8",
       "value": 23
      }
     },
     "a5b8739bcce8412f94c7fe8833649de2": {
      "model_module": "@jupyter-widgets/controls",
      "model_module_version": "1.5.0",
      "model_name": "FloatProgressModel",
      "state": {
       "bar_style": "success",
       "layout": "IPY_MODEL_58d144f4d941464e9f6275f60dc15561",
       "max": 8,
       "style": "IPY_MODEL_8ddbc7781da24f3fa38ee11a5807fc03",
       "value": 8
      }
     },
     "a5e51492cbc54ae6bb4b45c2b11d4c25": {
      "model_module": "@jupyter-widgets/base",
      "model_module_version": "1.2.0",
      "model_name": "LayoutModel",
      "state": {}
     },
     "a5f25a4b7d614dcb8c402b4400c653a8": {
      "model_module": "@jupyter-widgets/base",
      "model_module_version": "1.2.0",
      "model_name": "LayoutModel",
      "state": {}
     },
     "a60f82a043134b05a653d20c5947c021": {
      "model_module": "@jupyter-widgets/controls",
      "model_module_version": "1.5.0",
      "model_name": "HTMLModel",
      "state": {
       "layout": "IPY_MODEL_c1910c4ac93c4f51804d3a8b46e02e4c",
       "style": "IPY_MODEL_f69e2adc69404ef2aacdb30401e00b48",
       "value": "100%"
      }
     },
     "a614141248f24a848a80b5a7594938e1": {
      "model_module": "@jupyter-widgets/controls",
      "model_module_version": "1.5.0",
      "model_name": "HBoxModel",
      "state": {
       "children": [
        "IPY_MODEL_cc8976cfbe094f06983a3e5ec3d5217f",
        "IPY_MODEL_469d5dbde85447d0bde93ac800dff920",
        "IPY_MODEL_96c2c8cf5b7f43cca0270d3a807ff272"
       ],
       "layout": "IPY_MODEL_ecab3211ca734278b19d784ce3c62854"
      }
     },
     "a69129ea97984817bfff9a69034a4aab": {
      "model_module": "@jupyter-widgets/controls",
      "model_module_version": "1.5.0",
      "model_name": "HTMLModel",
      "state": {
       "layout": "IPY_MODEL_b174ce3bb73d405e8ce44d93f045add9",
       "style": "IPY_MODEL_9e46a9e106da40d7a8f50864285c186d",
       "value": " 8/8 [14:14&lt;00:00, 90.61s/it]"
      }
     },
     "a6a3f9f50a3c4ee2834d1ca33fb289eb": {
      "model_module": "@jupyter-widgets/base",
      "model_module_version": "1.2.0",
      "model_name": "LayoutModel",
      "state": {}
     },
     "a6ac9ff1baa24e82a2e96ca902514edc": {
      "model_module": "@jupyter-widgets/controls",
      "model_module_version": "1.5.0",
      "model_name": "FloatProgressModel",
      "state": {
       "bar_style": "success",
       "layout": "IPY_MODEL_902a84a991d74f968634e2ae64b9fcc6",
       "max": 8,
       "style": "IPY_MODEL_210e4bbd7d4c48759eaea7b7bb1f4348",
       "value": 8
      }
     },
     "a6b9c369aaf1462ca5bbb606ae1be8bd": {
      "model_module": "@jupyter-widgets/controls",
      "model_module_version": "1.5.0",
      "model_name": "DescriptionStyleModel",
      "state": {
       "description_width": ""
      }
     },
     "a70d00fb9a134ba88bd07738df122ccc": {
      "model_module": "@jupyter-widgets/controls",
      "model_module_version": "1.5.0",
      "model_name": "HBoxModel",
      "state": {
       "children": [
        "IPY_MODEL_2d6eb6aa4fb045ef9434e62919ff60e3",
        "IPY_MODEL_89ebd5115eac430cad9f804dd108fe42",
        "IPY_MODEL_b8f60c5911d140349ab02bfedfe4bbf2"
       ],
       "layout": "IPY_MODEL_de7e2a76149740dc8b5c2534414ea965"
      }
     },
     "a7345004f9364d1d8cb52dfa379c7f18": {
      "model_module": "@jupyter-widgets/base",
      "model_module_version": "1.2.0",
      "model_name": "LayoutModel",
      "state": {}
     },
     "a7815ad445e24a3c9b399e537c0b56b1": {
      "model_module": "@jupyter-widgets/base",
      "model_module_version": "1.2.0",
      "model_name": "LayoutModel",
      "state": {}
     },
     "a8f188df0c9942e48db9244f3d7a1d61": {
      "model_module": "@jupyter-widgets/controls",
      "model_module_version": "1.5.0",
      "model_name": "HTMLModel",
      "state": {
       "layout": "IPY_MODEL_4db71d6b7ca44aa4954e2d544703e83a",
       "style": "IPY_MODEL_cce89bce27654ad3a94dd8659f7c19e2",
       "value": " 23/23 [00:00&lt;00:00, 634.33it/s]"
      }
     },
     "a920547cc5094b2d91733ae530df7150": {
      "model_module": "@jupyter-widgets/controls",
      "model_module_version": "1.5.0",
      "model_name": "ProgressStyleModel",
      "state": {
       "description_width": ""
      }
     },
     "a9582d88d1ae4475ac1613b75ddaedb8": {
      "model_module": "@jupyter-widgets/controls",
      "model_module_version": "1.5.0",
      "model_name": "ProgressStyleModel",
      "state": {
       "description_width": ""
      }
     },
     "a97429f5fe2249649c963edd7b70c04a": {
      "model_module": "@jupyter-widgets/controls",
      "model_module_version": "1.5.0",
      "model_name": "DescriptionStyleModel",
      "state": {
       "description_width": ""
      }
     },
     "a994ea3cc83c4719a9b157f5ceb63ea0": {
      "model_module": "@jupyter-widgets/base",
      "model_module_version": "1.2.0",
      "model_name": "LayoutModel",
      "state": {}
     },
     "a9a232eddca7407680bfe1cb6e0d3f0d": {
      "model_module": "@jupyter-widgets/controls",
      "model_module_version": "1.5.0",
      "model_name": "ProgressStyleModel",
      "state": {
       "description_width": ""
      }
     },
     "a9cc6a718c404003bb950353254088c0": {
      "model_module": "@jupyter-widgets/controls",
      "model_module_version": "1.5.0",
      "model_name": "DescriptionStyleModel",
      "state": {
       "description_width": ""
      }
     },
     "a9e7d8a00aa945459ceac09ac86f99a0": {
      "model_module": "@jupyter-widgets/controls",
      "model_module_version": "1.5.0",
      "model_name": "HTMLModel",
      "state": {
       "layout": "IPY_MODEL_17a255474604405586cf9eb7b62dbd75",
       "style": "IPY_MODEL_4d5b5525d907441ebd44060865e673ee",
       "value": " 23/23 [03:35&lt;00:00,  9.26s/it]"
      }
     },
     "aa29ba61d3e44fb898d6a020f0db8eab": {
      "model_module": "@jupyter-widgets/controls",
      "model_module_version": "1.5.0",
      "model_name": "DescriptionStyleModel",
      "state": {
       "description_width": ""
      }
     },
     "aae4380256664b669d1e50cc1df1c1d7": {
      "model_module": "@jupyter-widgets/controls",
      "model_module_version": "1.5.0",
      "model_name": "DescriptionStyleModel",
      "state": {
       "description_width": ""
      }
     },
     "abbb0c289bc94f8ea065dc4f36ab1929": {
      "model_module": "@jupyter-widgets/controls",
      "model_module_version": "1.5.0",
      "model_name": "HTMLModel",
      "state": {
       "layout": "IPY_MODEL_91b46061712a4780ba0edd8133b90e57",
       "style": "IPY_MODEL_43b387af1f3e4c01af48e9c481c7ee66",
       "value": " 8/8 [15:17&lt;00:00, 99.18s/it]"
      }
     },
     "abcb032d96da421c84c6786f4f16d808": {
      "model_module": "@jupyter-widgets/controls",
      "model_module_version": "1.5.0",
      "model_name": "HBoxModel",
      "state": {
       "children": [
        "IPY_MODEL_1f57e9f8797d45fea90f360e5fdbc311",
        "IPY_MODEL_10db8ef45640447988c31a8a30f7956c",
        "IPY_MODEL_84562a1bab954f6da3a51ac774ad0420"
       ],
       "layout": "IPY_MODEL_d10ed469721b45ba8023ef4f52c38827"
      }
     },
     "ac0551765ec14cbb82c24bbc6e3a2700": {
      "model_module": "@jupyter-widgets/controls",
      "model_module_version": "1.5.0",
      "model_name": "DescriptionStyleModel",
      "state": {
       "description_width": ""
      }
     },
     "ac09cc0022bf41fea3c49a04be851501": {
      "model_module": "@jupyter-widgets/controls",
      "model_module_version": "1.5.0",
      "model_name": "FloatProgressModel",
      "state": {
       "bar_style": "success",
       "layout": "IPY_MODEL_077963a64f44482f86586073322005c0",
       "max": 23,
       "style": "IPY_MODEL_3f0f3a0326bc4824996a541d70dcb313",
       "value": 23
      }
     },
     "ac62fc4aaa7e4076ade407236616cef0": {
      "model_module": "@jupyter-widgets/controls",
      "model_module_version": "1.5.0",
      "model_name": "ProgressStyleModel",
      "state": {
       "description_width": ""
      }
     },
     "acab7ea6bce74e1eaf41b4e62fefdfb3": {
      "model_module": "@jupyter-widgets/base",
      "model_module_version": "1.2.0",
      "model_name": "LayoutModel",
      "state": {}
     },
     "ad690f341a3e4f86a3fcf5ef21ff9c7f": {
      "model_module": "@jupyter-widgets/controls",
      "model_module_version": "1.5.0",
      "model_name": "DescriptionStyleModel",
      "state": {
       "description_width": ""
      }
     },
     "adcd50f99a1c42a28605fff86f302571": {
      "model_module": "@jupyter-widgets/base",
      "model_module_version": "1.2.0",
      "model_name": "LayoutModel",
      "state": {}
     },
     "add9e55b168646f68ba6eff084ab8c4d": {
      "model_module": "@jupyter-widgets/controls",
      "model_module_version": "1.5.0",
      "model_name": "ProgressStyleModel",
      "state": {
       "description_width": ""
      }
     },
     "aeb7da0bd8ac4a58a367fd6c56c041ab": {
      "model_module": "@jupyter-widgets/base",
      "model_module_version": "1.2.0",
      "model_name": "LayoutModel",
      "state": {}
     },
     "aed0b966d35146708815f1411d0150a7": {
      "model_module": "@jupyter-widgets/controls",
      "model_module_version": "1.5.0",
      "model_name": "FloatProgressModel",
      "state": {
       "bar_style": "success",
       "layout": "IPY_MODEL_c3c4564c3f374eacb5e653a799d2e7e6",
       "max": 8,
       "style": "IPY_MODEL_220ac63b3b1f43c98a02d9719b1fd52b",
       "value": 8
      }
     },
     "af25ab8e04b2464d84278daa21280f30": {
      "model_module": "@jupyter-widgets/controls",
      "model_module_version": "1.5.0",
      "model_name": "HTMLModel",
      "state": {
       "layout": "IPY_MODEL_99e888d599204984a0be798ef540134d",
       "style": "IPY_MODEL_7040f74e56414ab4973ba3fcd9dc858c",
       "value": " 0/8 [00:23&lt;?, ?it/s]"
      }
     },
     "af34994bd9644c5c86acabd66dd95314": {
      "model_module": "@jupyter-widgets/controls",
      "model_module_version": "1.5.0",
      "model_name": "FloatProgressModel",
      "state": {
       "bar_style": "success",
       "layout": "IPY_MODEL_0f00097d74644898aab07393d8ad16a3",
       "max": 8,
       "style": "IPY_MODEL_c128e9bf5d7c4dfc98005646efe20caa",
       "value": 8
      }
     },
     "af38d0ffd453465f89df0c35627c9a01": {
      "model_module": "@jupyter-widgets/controls",
      "model_module_version": "1.5.0",
      "model_name": "DescriptionStyleModel",
      "state": {
       "description_width": ""
      }
     },
     "afd5b971ca1f47be88806c4e1a1de22e": {
      "model_module": "@jupyter-widgets/base",
      "model_module_version": "1.2.0",
      "model_name": "LayoutModel",
      "state": {}
     },
     "b00786655bc4476f92630a47e77c2a6b": {
      "model_module": "@jupyter-widgets/controls",
      "model_module_version": "1.5.0",
      "model_name": "FloatProgressModel",
      "state": {
       "bar_style": "success",
       "layout": "IPY_MODEL_8c68a584ea3743b2b2d6098314985a44",
       "max": 8,
       "style": "IPY_MODEL_cd72bda5f6cc4cb49bc8239a9b789a55",
       "value": 8
      }
     },
     "b045a5449caf4a8899dbedc1c5952dd7": {
      "model_module": "@jupyter-widgets/base",
      "model_module_version": "1.2.0",
      "model_name": "LayoutModel",
      "state": {}
     },
     "b04edaeb1c4c465191921bceedd4ffbd": {
      "model_module": "@jupyter-widgets/controls",
      "model_module_version": "1.5.0",
      "model_name": "ProgressStyleModel",
      "state": {
       "description_width": ""
      }
     },
     "b07e7022b254467cae123db7dc86140c": {
      "model_module": "@jupyter-widgets/controls",
      "model_module_version": "1.5.0",
      "model_name": "HTMLModel",
      "state": {
       "layout": "IPY_MODEL_4e3c3e284e704ee1bcbac14dcf9d0e2e",
       "style": "IPY_MODEL_3c9ba18b67004096afccdee44a2fc111",
       "value": "100%"
      }
     },
     "b0b219b66aa240d0ae3002dd4a413d29": {
      "model_module": "@jupyter-widgets/controls",
      "model_module_version": "1.5.0",
      "model_name": "HTMLModel",
      "state": {
       "layout": "IPY_MODEL_5ea35358f14741808b03263ba62182cf",
       "style": "IPY_MODEL_6ebe74f7113448589e44d7b69e775429",
       "value": " 8/8 [14:17&lt;00:00, 88.36s/it]"
      }
     },
     "b0d3007d8e3d4ae0b42db43ac2e44737": {
      "model_module": "@jupyter-widgets/controls",
      "model_module_version": "1.5.0",
      "model_name": "FloatProgressModel",
      "state": {
       "bar_style": "success",
       "layout": "IPY_MODEL_a994ea3cc83c4719a9b157f5ceb63ea0",
       "max": 23,
       "style": "IPY_MODEL_4a390eb4a1254deb87c5defe0c4ab013",
       "value": 23
      }
     },
     "b0d846fa19c0472683d56473b37a3df1": {
      "model_module": "@jupyter-widgets/base",
      "model_module_version": "1.2.0",
      "model_name": "LayoutModel",
      "state": {}
     },
     "b0ee917468a84871b6df9b8f970f678f": {
      "model_module": "@jupyter-widgets/controls",
      "model_module_version": "1.5.0",
      "model_name": "HTMLModel",
      "state": {
       "layout": "IPY_MODEL_17f86cbcbf784f34a44ef898d0acaddb",
       "style": "IPY_MODEL_83be042421e0468e9ce54f66e2dbc08a",
       "value": " 8/8 [15:03&lt;00:00, 97.60s/it]"
      }
     },
     "b1154d614e134f7e99c4db19913f83c2": {
      "model_module": "@jupyter-widgets/controls",
      "model_module_version": "1.5.0",
      "model_name": "HBoxModel",
      "state": {
       "children": [
        "IPY_MODEL_81164153bef34af0b4a72b822dd17ce5",
        "IPY_MODEL_08e18291479e434a861b216742a1c407",
        "IPY_MODEL_3d4a718112d64da189a9839471d7ad14"
       ],
       "layout": "IPY_MODEL_73c31e00084c4902a2abcac7720bc701"
      }
     },
     "b15e885ae89243fb8a5eb74e6a60ccaf": {
      "model_module": "@jupyter-widgets/base",
      "model_module_version": "1.2.0",
      "model_name": "LayoutModel",
      "state": {}
     },
     "b174ce3bb73d405e8ce44d93f045add9": {
      "model_module": "@jupyter-widgets/base",
      "model_module_version": "1.2.0",
      "model_name": "LayoutModel",
      "state": {}
     },
     "b1ace5ecafd74eafa968b26ae25cdb5d": {
      "model_module": "@jupyter-widgets/base",
      "model_module_version": "1.2.0",
      "model_name": "LayoutModel",
      "state": {}
     },
     "b1dad68b2bd34fb4914527b17c8d5ef6": {
      "model_module": "@jupyter-widgets/base",
      "model_module_version": "1.2.0",
      "model_name": "LayoutModel",
      "state": {}
     },
     "b1db98eba2ff48d4b5749650eb6c57fc": {
      "model_module": "@jupyter-widgets/controls",
      "model_module_version": "1.5.0",
      "model_name": "ProgressStyleModel",
      "state": {
       "description_width": ""
      }
     },
     "b2315e83c915420388aaf80da0d94ea7": {
      "model_module": "@jupyter-widgets/base",
      "model_module_version": "1.2.0",
      "model_name": "LayoutModel",
      "state": {}
     },
     "b236fbaea2c344ffb3cfdcf4238563ef": {
      "model_module": "@jupyter-widgets/controls",
      "model_module_version": "1.5.0",
      "model_name": "FloatProgressModel",
      "state": {
       "bar_style": "success",
       "layout": "IPY_MODEL_acab7ea6bce74e1eaf41b4e62fefdfb3",
       "max": 8,
       "style": "IPY_MODEL_ba6ddf1866d641799beb515c77013ce3",
       "value": 8
      }
     },
     "b245b64de66d42b4857fd877dbdb05c7": {
      "model_module": "@jupyter-widgets/base",
      "model_module_version": "1.2.0",
      "model_name": "LayoutModel",
      "state": {}
     },
     "b249bf37e83440a8983bb6a64b2633ad": {
      "model_module": "@jupyter-widgets/base",
      "model_module_version": "1.2.0",
      "model_name": "LayoutModel",
      "state": {}
     },
     "b266b17a0cd742c9955002b5cbbcaffc": {
      "model_module": "@jupyter-widgets/controls",
      "model_module_version": "1.5.0",
      "model_name": "HTMLModel",
      "state": {
       "layout": "IPY_MODEL_483f3580984041f58f2615594da75edb",
       "style": "IPY_MODEL_1fec7ae4f96b4c8999073810420eb5fd",
       "value": "100%"
      }
     },
     "b27b56c289b54b11ae699f1dbcb0471c": {
      "model_module": "@jupyter-widgets/controls",
      "model_module_version": "1.5.0",
      "model_name": "ProgressStyleModel",
      "state": {
       "description_width": ""
      }
     },
     "b2998e2a56034b5db7bda829a215cf81": {
      "model_module": "@jupyter-widgets/controls",
      "model_module_version": "1.5.0",
      "model_name": "HTMLModel",
      "state": {
       "layout": "IPY_MODEL_3c7434e1b95c462789b8330c646146fd",
       "style": "IPY_MODEL_6e3554c6f5b041d2b6aadf7930b475c1",
       "value": " 8/8 [14:18&lt;00:00, 90.20s/it]"
      }
     },
     "b29df192a8f44fc2867a408368de0edf": {
      "model_module": "@jupyter-widgets/controls",
      "model_module_version": "1.5.0",
      "model_name": "HTMLModel",
      "state": {
       "layout": "IPY_MODEL_bd563697fd384432967df0c123dd9d69",
       "style": "IPY_MODEL_d6ff8537b3fc41398a847eed28c31bf3",
       "value": " 8/8 [14:10&lt;00:00, 88.64s/it]"
      }
     },
     "b32d5601ef544ec296d461aaf7d5206f": {
      "model_module": "@jupyter-widgets/base",
      "model_module_version": "1.2.0",
      "model_name": "LayoutModel",
      "state": {}
     },
     "b3867de6d34b42dd861ae229dddac58d": {
      "model_module": "@jupyter-widgets/base",
      "model_module_version": "1.2.0",
      "model_name": "LayoutModel",
      "state": {}
     },
     "b3a195671450417390ff39002a3e25b4": {
      "model_module": "@jupyter-widgets/controls",
      "model_module_version": "1.5.0",
      "model_name": "DescriptionStyleModel",
      "state": {
       "description_width": ""
      }
     },
     "b3aa3b072c384b759a5dcba8e7c71ede": {
      "model_module": "@jupyter-widgets/base",
      "model_module_version": "1.2.0",
      "model_name": "LayoutModel",
      "state": {}
     },
     "b417d54900af4c938fc30fa8f66cca6b": {
      "model_module": "@jupyter-widgets/controls",
      "model_module_version": "1.5.0",
      "model_name": "HTMLModel",
      "state": {
       "layout": "IPY_MODEL_761af5725bd64c46b3f0cf0821b49650",
       "style": "IPY_MODEL_f8150a08c17e48ab904999735f31ef5f",
       "value": " 8/8 [14:34&lt;00:00, 91.16s/it]"
      }
     },
     "b4fa5691dd2147f08d2e8dec67863ae1": {
      "model_module": "@jupyter-widgets/base",
      "model_module_version": "1.2.0",
      "model_name": "LayoutModel",
      "state": {}
     },
     "b523e45d449e439ea09a74d93b7d1fff": {
      "model_module": "@jupyter-widgets/base",
      "model_module_version": "1.2.0",
      "model_name": "LayoutModel",
      "state": {}
     },
     "b56cbccc98f74c83831afa432d436e1b": {
      "model_module": "@jupyter-widgets/controls",
      "model_module_version": "1.5.0",
      "model_name": "ProgressStyleModel",
      "state": {
       "description_width": ""
      }
     },
     "b678e477c61f4bf5a4e73ea4e10b3208": {
      "model_module": "@jupyter-widgets/controls",
      "model_module_version": "1.5.0",
      "model_name": "HTMLModel",
      "state": {
       "layout": "IPY_MODEL_51d85f4ef5274ace803c8716eb3a1dc5",
       "style": "IPY_MODEL_dc38143f2df0424799aa48a30caa885a",
       "value": " 8/8 [14:27&lt;00:00, 91.51s/it]"
      }
     },
     "b6d5a369fbf54867ae6ea7cf777a5635": {
      "model_module": "@jupyter-widgets/base",
      "model_module_version": "1.2.0",
      "model_name": "LayoutModel",
      "state": {}
     },
     "b73f8c120edf4f338e39d44af0b0dd29": {
      "model_module": "@jupyter-widgets/base",
      "model_module_version": "1.2.0",
      "model_name": "LayoutModel",
      "state": {}
     },
     "b7a19c94e4ee46b994cb315c83ee31e4": {
      "model_module": "@jupyter-widgets/controls",
      "model_module_version": "1.5.0",
      "model_name": "DescriptionStyleModel",
      "state": {
       "description_width": ""
      }
     },
     "b7c56cb60b594af782288a286646e462": {
      "model_module": "@jupyter-widgets/base",
      "model_module_version": "1.2.0",
      "model_name": "LayoutModel",
      "state": {}
     },
     "b7e063d383834ed78fc654be7050105d": {
      "model_module": "@jupyter-widgets/base",
      "model_module_version": "1.2.0",
      "model_name": "LayoutModel",
      "state": {}
     },
     "b839479f8b264e0aaa8855323ed95946": {
      "model_module": "@jupyter-widgets/controls",
      "model_module_version": "1.5.0",
      "model_name": "ProgressStyleModel",
      "state": {
       "description_width": ""
      }
     },
     "b8395e4035074cc0bcecc3b444c3ce47": {
      "model_module": "@jupyter-widgets/controls",
      "model_module_version": "1.5.0",
      "model_name": "HBoxModel",
      "state": {
       "children": [
        "IPY_MODEL_fb6bf47a730743f7857b2417685646dd",
        "IPY_MODEL_ca306c51a09e4227b0b195315b72839a",
        "IPY_MODEL_46981c34e52240afa82584909e53e534"
       ],
       "layout": "IPY_MODEL_02bf0d99c6624b33afe01067d9020406"
      }
     },
     "b840adceda73463ba97aa6b029ccd39d": {
      "model_module": "@jupyter-widgets/controls",
      "model_module_version": "1.5.0",
      "model_name": "HTMLModel",
      "state": {
       "layout": "IPY_MODEL_fa888a08c7444d35883499c34162826e",
       "style": "IPY_MODEL_ebe1861d59d948d3bd306cd704babc54",
       "value": "100%"
      }
     },
     "b8acfc729c8045238a20f14a4ac550cd": {
      "model_module": "@jupyter-widgets/base",
      "model_module_version": "1.2.0",
      "model_name": "LayoutModel",
      "state": {}
     },
     "b8cc3cb805e74dee8b9ab624ca91d176": {
      "model_module": "@jupyter-widgets/controls",
      "model_module_version": "1.5.0",
      "model_name": "HBoxModel",
      "state": {
       "children": [
        "IPY_MODEL_e2bb10f0b8a64ee080d6f1c4105b72c2",
        "IPY_MODEL_75115e2407634d16bdab4ff1dfc97b85",
        "IPY_MODEL_90b12abc3c0d438aa49f636504c9c504"
       ],
       "layout": "IPY_MODEL_adcd50f99a1c42a28605fff86f302571"
      }
     },
     "b8da341b4d084e06ae7fbfcfd7034586": {
      "model_module": "@jupyter-widgets/base",
      "model_module_version": "1.2.0",
      "model_name": "LayoutModel",
      "state": {}
     },
     "b8f2ab5853484d1d82fa934e599e7c4e": {
      "model_module": "@jupyter-widgets/controls",
      "model_module_version": "1.5.0",
      "model_name": "FloatProgressModel",
      "state": {
       "bar_style": "success",
       "layout": "IPY_MODEL_1e6c07673a51481292fdbbc29188eb4d",
       "max": 8,
       "style": "IPY_MODEL_c3094694ce224aeb9d23d542711afba3",
       "value": 8
      }
     },
     "b8f60c5911d140349ab02bfedfe4bbf2": {
      "model_module": "@jupyter-widgets/controls",
      "model_module_version": "1.5.0",
      "model_name": "HTMLModel",
      "state": {
       "layout": "IPY_MODEL_9612d7ea5e534e758164384ab0c1490a",
       "style": "IPY_MODEL_df18a481238a42508f22846e197da286",
       "value": " 8/8 [14:24&lt;00:00, 91.87s/it]"
      }
     },
     "b90acd86c1a94f1fa0b2434b7e7ef42a": {
      "model_module": "@jupyter-widgets/controls",
      "model_module_version": "1.5.0",
      "model_name": "DescriptionStyleModel",
      "state": {
       "description_width": ""
      }
     },
     "b9115e32037743b78e9b0126602c5afc": {
      "model_module": "@jupyter-widgets/controls",
      "model_module_version": "1.5.0",
      "model_name": "DescriptionStyleModel",
      "state": {
       "description_width": ""
      }
     },
     "b9240f3062cc47869954e314d864678d": {
      "model_module": "@jupyter-widgets/base",
      "model_module_version": "1.2.0",
      "model_name": "LayoutModel",
      "state": {}
     },
     "b95b02682a7840b48fc3256467742496": {
      "model_module": "@jupyter-widgets/base",
      "model_module_version": "1.2.0",
      "model_name": "LayoutModel",
      "state": {}
     },
     "b99faf7e4b06413fa61745322b92f9c2": {
      "model_module": "@jupyter-widgets/base",
      "model_module_version": "1.2.0",
      "model_name": "LayoutModel",
      "state": {}
     },
     "b9fa709a4ade4ab6a7918e04848ffd91": {
      "model_module": "@jupyter-widgets/base",
      "model_module_version": "1.2.0",
      "model_name": "LayoutModel",
      "state": {}
     },
     "ba607ac625514e6aab646430c2a0ffbf": {
      "model_module": "@jupyter-widgets/controls",
      "model_module_version": "1.5.0",
      "model_name": "HTMLModel",
      "state": {
       "layout": "IPY_MODEL_30abab1f1d3848f8864d67e1acb2843e",
       "style": "IPY_MODEL_08b78e5785c948ba887c1ac6dd25a058",
       "value": "100%"
      }
     },
     "ba6d57f54eda4de893ba49cf04fbae8e": {
      "model_module": "@jupyter-widgets/controls",
      "model_module_version": "1.5.0",
      "model_name": "HTMLModel",
      "state": {
       "layout": "IPY_MODEL_53dbd073cec74ce2a51e9cfb75c87f5c",
       "style": "IPY_MODEL_6ea6c59d43ef46b5b4669a8f4b496b4f",
       "value": "100%"
      }
     },
     "ba6ddf1866d641799beb515c77013ce3": {
      "model_module": "@jupyter-widgets/controls",
      "model_module_version": "1.5.0",
      "model_name": "ProgressStyleModel",
      "state": {
       "description_width": ""
      }
     },
     "ba6e918c22294708a9d93da745a49dbc": {
      "model_module": "@jupyter-widgets/base",
      "model_module_version": "1.2.0",
      "model_name": "LayoutModel",
      "state": {}
     },
     "baac1c1b71874cc3938f6f78d00710c5": {
      "model_module": "@jupyter-widgets/controls",
      "model_module_version": "1.5.0",
      "model_name": "DescriptionStyleModel",
      "state": {
       "description_width": ""
      }
     },
     "bac0164663fb419aa6896f2193db7e9b": {
      "model_module": "@jupyter-widgets/controls",
      "model_module_version": "1.5.0",
      "model_name": "HTMLModel",
      "state": {
       "layout": "IPY_MODEL_570aaa1d773e4df69ffa4b4f228e30c1",
       "style": "IPY_MODEL_6b264f6c1fb046f8b2150dd454321d9f",
       "value": "100%"
      }
     },
     "bacf4e942c1943ecafb3f2c968a36e8e": {
      "model_module": "@jupyter-widgets/controls",
      "model_module_version": "1.5.0",
      "model_name": "FloatProgressModel",
      "state": {
       "bar_style": "danger",
       "layout": "IPY_MODEL_5c7ce542e0ac490b8a9f3f9cba5daac2",
       "max": 8,
       "style": "IPY_MODEL_35b9737f773f4adc94704375ad169dd5"
      }
     },
     "bb094b17a78d405098b1113dfafbc467": {
      "model_module": "@jupyter-widgets/controls",
      "model_module_version": "1.5.0",
      "model_name": "FloatProgressModel",
      "state": {
       "bar_style": "success",
       "layout": "IPY_MODEL_4e6d37b5fc9042e99d796b0fb9454951",
       "max": 8,
       "style": "IPY_MODEL_add9e55b168646f68ba6eff084ab8c4d",
       "value": 8
      }
     },
     "bb330ddd90914a93a06bea85b2695a63": {
      "model_module": "@jupyter-widgets/controls",
      "model_module_version": "1.5.0",
      "model_name": "HBoxModel",
      "state": {
       "children": [
        "IPY_MODEL_5d7819913846429588f8a7e13d883268",
        "IPY_MODEL_8bf270437a34419481aca3b69a58c66e",
        "IPY_MODEL_01e0830a5b7247918b9c858862325cf9"
       ],
       "layout": "IPY_MODEL_8b41e4a277fb4352bf6281edd76c8a0b"
      }
     },
     "bb4efcf0bca744cab2fc0c228ae412f5": {
      "model_module": "@jupyter-widgets/base",
      "model_module_version": "1.2.0",
      "model_name": "LayoutModel",
      "state": {}
     },
     "bbdfeadc20bd41bea29f4161ff9390cb": {
      "model_module": "@jupyter-widgets/base",
      "model_module_version": "1.2.0",
      "model_name": "LayoutModel",
      "state": {}
     },
     "bbf7a7ad2fcd4d32b7f396978b992232": {
      "model_module": "@jupyter-widgets/controls",
      "model_module_version": "1.5.0",
      "model_name": "DescriptionStyleModel",
      "state": {
       "description_width": ""
      }
     },
     "bc0a4c7c22e04af588253b2db9748c14": {
      "model_module": "@jupyter-widgets/base",
      "model_module_version": "1.2.0",
      "model_name": "LayoutModel",
      "state": {}
     },
     "bc16e671df6044a7b48cdb0d5c4c6d93": {
      "model_module": "@jupyter-widgets/controls",
      "model_module_version": "1.5.0",
      "model_name": "FloatProgressModel",
      "state": {
       "bar_style": "success",
       "layout": "IPY_MODEL_141071133e674665bfe6f96d8c0825fc",
       "max": 8,
       "style": "IPY_MODEL_708772fd00fd48fc8e91524043ea5b03",
       "value": 8
      }
     },
     "bc21a58d77044731b24c8fcada06ac9f": {
      "model_module": "@jupyter-widgets/base",
      "model_module_version": "1.2.0",
      "model_name": "LayoutModel",
      "state": {}
     },
     "bd563697fd384432967df0c123dd9d69": {
      "model_module": "@jupyter-widgets/base",
      "model_module_version": "1.2.0",
      "model_name": "LayoutModel",
      "state": {}
     },
     "bd6d462e86a14e7e995d5aa0344e6cf1": {
      "model_module": "@jupyter-widgets/controls",
      "model_module_version": "1.5.0",
      "model_name": "FloatProgressModel",
      "state": {
       "bar_style": "success",
       "layout": "IPY_MODEL_57ce1971fc8e44129ece2583083c1902",
       "max": 8,
       "style": "IPY_MODEL_8506d39618b644c6a6d7308fc28fb56a",
       "value": 8
      }
     },
     "bd88fbc0ecd44cb4bb69e28d8a9dc4e7": {
      "model_module": "@jupyter-widgets/controls",
      "model_module_version": "1.5.0",
      "model_name": "DescriptionStyleModel",
      "state": {
       "description_width": ""
      }
     },
     "bda6fccfed424e3fa06201ce08fd30e9": {
      "model_module": "@jupyter-widgets/controls",
      "model_module_version": "1.5.0",
      "model_name": "ProgressStyleModel",
      "state": {
       "description_width": ""
      }
     },
     "bdba088423d7454cb3645d95e6e8ce5b": {
      "model_module": "@jupyter-widgets/controls",
      "model_module_version": "1.5.0",
      "model_name": "HBoxModel",
      "state": {
       "children": [
        "IPY_MODEL_293f489a79234b6aabafb549bb8712ef",
        "IPY_MODEL_db136bc93dcf44bbbf9f92bfb3113ffc",
        "IPY_MODEL_9e1c78e20dce4f9ebc1995a55087c8bd"
       ],
       "layout": "IPY_MODEL_189c75e9cde14ebe854b7e46b1d0e316"
      }
     },
     "bdbb3b31abfb409f96e2c81ab0f5b56d": {
      "model_module": "@jupyter-widgets/controls",
      "model_module_version": "1.5.0",
      "model_name": "HBoxModel",
      "state": {
       "children": [
        "IPY_MODEL_c96cd3239329419bb92888c229a694e6",
        "IPY_MODEL_9edfa99927ad4ac4b6d82ba80bdcdcdd",
        "IPY_MODEL_e717e8f9654a4b1eb1eacc060830ec8b"
       ],
       "layout": "IPY_MODEL_b7c56cb60b594af782288a286646e462"
      }
     },
     "be03e15ae01442ed8450ffd617450120": {
      "model_module": "@jupyter-widgets/controls",
      "model_module_version": "1.5.0",
      "model_name": "FloatProgressModel",
      "state": {
       "bar_style": "success",
       "layout": "IPY_MODEL_3412f501df144f36bf79cbeffa57e673",
       "max": 8,
       "style": "IPY_MODEL_e4df8031fc4d4d129c5a9ad0271bf2e3",
       "value": 8
      }
     },
     "be4831489d9944e8b3672883ac342402": {
      "model_module": "@jupyter-widgets/controls",
      "model_module_version": "1.5.0",
      "model_name": "DescriptionStyleModel",
      "state": {
       "description_width": ""
      }
     },
     "bea5edc83d7e4d5aa5cc51c174c70e84": {
      "model_module": "@jupyter-widgets/controls",
      "model_module_version": "1.5.0",
      "model_name": "HTMLModel",
      "state": {
       "layout": "IPY_MODEL_30f8f2b6ef7c43f5b14cc18755d8527d",
       "style": "IPY_MODEL_c084d6a197134c93934d23895ca7dfe8",
       "value": " 8/8 [07:40&lt;00:00, 49.01s/it]"
      }
     },
     "bee772ff4d584070971565260224688f": {
      "model_module": "@jupyter-widgets/base",
      "model_module_version": "1.2.0",
      "model_name": "LayoutModel",
      "state": {}
     },
     "bf4010c3bdb8481e92d2c51694147200": {
      "model_module": "@jupyter-widgets/base",
      "model_module_version": "1.2.0",
      "model_name": "LayoutModel",
      "state": {}
     },
     "bfb4deeddb8144eea533561a9c325643": {
      "model_module": "@jupyter-widgets/base",
      "model_module_version": "1.2.0",
      "model_name": "LayoutModel",
      "state": {}
     },
     "bfcc0fdea3644648a4030a58e883ed8d": {
      "model_module": "@jupyter-widgets/controls",
      "model_module_version": "1.5.0",
      "model_name": "FloatProgressModel",
      "state": {
       "bar_style": "success",
       "layout": "IPY_MODEL_6e258da0d35141c887fec27d78763fcb",
       "max": 8,
       "style": "IPY_MODEL_cb63d309ec5e4e1f9951c645eff87e3d",
       "value": 8
      }
     },
     "bfd9278c79ea4e12907c5c7809c6c8bd": {
      "model_module": "@jupyter-widgets/base",
      "model_module_version": "1.2.0",
      "model_name": "LayoutModel",
      "state": {}
     },
     "c04c824b2dec478bb2e56c93d5e26777": {
      "model_module": "@jupyter-widgets/controls",
      "model_module_version": "1.5.0",
      "model_name": "DescriptionStyleModel",
      "state": {
       "description_width": ""
      }
     },
     "c07b4afedbdc4895a5e94cc5a3850f2e": {
      "model_module": "@jupyter-widgets/base",
      "model_module_version": "1.2.0",
      "model_name": "LayoutModel",
      "state": {}
     },
     "c084d6a197134c93934d23895ca7dfe8": {
      "model_module": "@jupyter-widgets/controls",
      "model_module_version": "1.5.0",
      "model_name": "DescriptionStyleModel",
      "state": {
       "description_width": ""
      }
     },
     "c128e9bf5d7c4dfc98005646efe20caa": {
      "model_module": "@jupyter-widgets/controls",
      "model_module_version": "1.5.0",
      "model_name": "ProgressStyleModel",
      "state": {
       "description_width": ""
      }
     },
     "c15a7600d1b4407f9c6a398342da2385": {
      "model_module": "@jupyter-widgets/controls",
      "model_module_version": "1.5.0",
      "model_name": "HTMLModel",
      "state": {
       "layout": "IPY_MODEL_d48ed64d9be848da9c2e23d90549b1c2",
       "style": "IPY_MODEL_370ec4874aa1471185d6f7c25cbedd65",
       "value": " 0/23 [00:00&lt;?, ?it/s]"
      }
     },
     "c1910c4ac93c4f51804d3a8b46e02e4c": {
      "model_module": "@jupyter-widgets/base",
      "model_module_version": "1.2.0",
      "model_name": "LayoutModel",
      "state": {}
     },
     "c194ee86782e4315bd7fb34013efdad4": {
      "model_module": "@jupyter-widgets/base",
      "model_module_version": "1.2.0",
      "model_name": "LayoutModel",
      "state": {}
     },
     "c1b35056a07848e59768b7e772d7809e": {
      "model_module": "@jupyter-widgets/base",
      "model_module_version": "1.2.0",
      "model_name": "LayoutModel",
      "state": {}
     },
     "c1d3627d21e443198efd98b5fc3533e3": {
      "model_module": "@jupyter-widgets/controls",
      "model_module_version": "1.5.0",
      "model_name": "HBoxModel",
      "state": {
       "children": [
        "IPY_MODEL_45d08be803cd465d903c2c6d49d9a151",
        "IPY_MODEL_efa7e34f221d42a3a29a8398130eea64",
        "IPY_MODEL_9010ce89a0f3495c90cbe4cebb481380"
       ],
       "layout": "IPY_MODEL_86b604a8ab7e4bcabe588526ec6492af"
      }
     },
     "c1db4eb308074aa09a690d91608d66ca": {
      "model_module": "@jupyter-widgets/controls",
      "model_module_version": "1.5.0",
      "model_name": "DescriptionStyleModel",
      "state": {
       "description_width": ""
      }
     },
     "c243713ed6a543c49bfc5541ecf7d9c4": {
      "model_module": "@jupyter-widgets/base",
      "model_module_version": "1.2.0",
      "model_name": "LayoutModel",
      "state": {}
     },
     "c27b05d1591d43cab1211ac945f87a8a": {
      "model_module": "@jupyter-widgets/base",
      "model_module_version": "1.2.0",
      "model_name": "LayoutModel",
      "state": {}
     },
     "c3094694ce224aeb9d23d542711afba3": {
      "model_module": "@jupyter-widgets/controls",
      "model_module_version": "1.5.0",
      "model_name": "ProgressStyleModel",
      "state": {
       "description_width": ""
      }
     },
     "c30f058c19a145bc8f9b61dbfaea4f2a": {
      "model_module": "@jupyter-widgets/controls",
      "model_module_version": "1.5.0",
      "model_name": "HTMLModel",
      "state": {
       "layout": "IPY_MODEL_3785a0d8266c45cd96eadb1c12e459bc",
       "style": "IPY_MODEL_5068413ace3e45128069ae1ef9efa988",
       "value": " 0/8 [00:10&lt;?, ?it/s]"
      }
     },
     "c381f1083b184994b09f3597c0db6424": {
      "model_module": "@jupyter-widgets/base",
      "model_module_version": "1.2.0",
      "model_name": "LayoutModel",
      "state": {}
     },
     "c38b9ccd87c5448cb245939c4e00a486": {
      "model_module": "@jupyter-widgets/controls",
      "model_module_version": "1.5.0",
      "model_name": "HTMLModel",
      "state": {
       "layout": "IPY_MODEL_9ed152dad42d4b1892db0af72e327444",
       "style": "IPY_MODEL_a251cf520eec4e5f93c1b525a9bc48ad",
       "value": " 8/8 [14:30&lt;00:00, 92.10s/it]"
      }
     },
     "c38c1ee8e33c404d8798a407db6ac07e": {
      "model_module": "@jupyter-widgets/controls",
      "model_module_version": "1.5.0",
      "model_name": "HTMLModel",
      "state": {
       "layout": "IPY_MODEL_e68e1dc212b54b9cbbcd21e334818515",
       "style": "IPY_MODEL_d8284c865d8f45459963f1b291495920",
       "value": " 23/23 [00:03&lt;00:00,  7.75it/s]"
      }
     },
     "c3c4564c3f374eacb5e653a799d2e7e6": {
      "model_module": "@jupyter-widgets/base",
      "model_module_version": "1.2.0",
      "model_name": "LayoutModel",
      "state": {}
     },
     "c3d206894c5c474f86f717660dc69724": {
      "model_module": "@jupyter-widgets/controls",
      "model_module_version": "1.5.0",
      "model_name": "HBoxModel",
      "state": {
       "children": [
        "IPY_MODEL_b266b17a0cd742c9955002b5cbbcaffc",
        "IPY_MODEL_9176e8959690475ab9f4b1e0798ca265",
        "IPY_MODEL_895eb8b54f4945069c350a34133207e7"
       ],
       "layout": "IPY_MODEL_a0bbd359d79c41168129e7c6a820aab0"
      }
     },
     "c3df50098a8144f882e33368848920e7": {
      "model_module": "@jupyter-widgets/controls",
      "model_module_version": "1.5.0",
      "model_name": "HBoxModel",
      "state": {
       "children": [
        "IPY_MODEL_462c88033e3d4bfda707edc549b34006",
        "IPY_MODEL_78d2b668bafb45f1bd27208725424f97",
        "IPY_MODEL_d8a496a820884420b7d36bc83bd33c0f"
       ],
       "layout": "IPY_MODEL_d4a8233b5d564000be69a5003024147c"
      }
     },
     "c42def662cd44049a65d94117f205250": {
      "model_module": "@jupyter-widgets/controls",
      "model_module_version": "1.5.0",
      "model_name": "HTMLModel",
      "state": {
       "layout": "IPY_MODEL_282aa08ef1004e25a445f1daf87a2945",
       "style": "IPY_MODEL_4190e7ecbfa3487ab8884bbb45da4e57",
       "value": "100%"
      }
     },
     "c45c414657f145e79cfd62983051c612": {
      "model_module": "@jupyter-widgets/controls",
      "model_module_version": "1.5.0",
      "model_name": "DescriptionStyleModel",
      "state": {
       "description_width": ""
      }
     },
     "c4baae19100547fe88de6255d067e5a0": {
      "model_module": "@jupyter-widgets/base",
      "model_module_version": "1.2.0",
      "model_name": "LayoutModel",
      "state": {}
     },
     "c4c59bf727b749f788ceb2d6b7020a6a": {
      "model_module": "@jupyter-widgets/controls",
      "model_module_version": "1.5.0",
      "model_name": "DescriptionStyleModel",
      "state": {
       "description_width": ""
      }
     },
     "c510b156e67a4379830939f0ece36b47": {
      "model_module": "@jupyter-widgets/controls",
      "model_module_version": "1.5.0",
      "model_name": "FloatProgressModel",
      "state": {
       "bar_style": "success",
       "layout": "IPY_MODEL_9880adf0163e4db794fa2bbe9a6d665d",
       "max": 23,
       "style": "IPY_MODEL_3b2ec825a72b455382af80ba235eb7e9",
       "value": 23
      }
     },
     "c51c086ced5c42b8a23c15c727ece279": {
      "model_module": "@jupyter-widgets/controls",
      "model_module_version": "1.5.0",
      "model_name": "DescriptionStyleModel",
      "state": {
       "description_width": ""
      }
     },
     "c5325cd54faf4a13bd1b3dccb8f29e7a": {
      "model_module": "@jupyter-widgets/controls",
      "model_module_version": "1.5.0",
      "model_name": "DescriptionStyleModel",
      "state": {
       "description_width": ""
      }
     },
     "c55f57997bcf408ea28989a02b76eb18": {
      "model_module": "@jupyter-widgets/controls",
      "model_module_version": "1.5.0",
      "model_name": "HTMLModel",
      "state": {
       "layout": "IPY_MODEL_442da93c00d744dd8f690dbfb900ac50",
       "style": "IPY_MODEL_f5a29b2a36454016a333cfd7147a5513",
       "value": "100%"
      }
     },
     "c590549aaf1d44b681b5d0ffaff2b95c": {
      "model_module": "@jupyter-widgets/controls",
      "model_module_version": "1.5.0",
      "model_name": "FloatProgressModel",
      "state": {
       "bar_style": "danger",
       "layout": "IPY_MODEL_a350864302d142f5aafb5154a3225b82",
       "max": 23,
       "style": "IPY_MODEL_89ee907e10dc498e9042619a576d01d5"
      }
     },
     "c5a7dcdd2d094afe9a4906472fcbfd59": {
      "model_module": "@jupyter-widgets/controls",
      "model_module_version": "1.5.0",
      "model_name": "FloatProgressModel",
      "state": {
       "bar_style": "success",
       "layout": "IPY_MODEL_54015214649d4229bf5b55361233eb50",
       "max": 23,
       "style": "IPY_MODEL_2513c73e394c40689bee27387c67616c",
       "value": 23
      }
     },
     "c6036daa98724f90817401734c4f2e00": {
      "model_module": "@jupyter-widgets/controls",
      "model_module_version": "1.5.0",
      "model_name": "FloatProgressModel",
      "state": {
       "bar_style": "success",
       "layout": "IPY_MODEL_50b3729a75304aefb4018cc0db238332",
       "max": 8,
       "style": "IPY_MODEL_20fa196d0b5d4d20acb43534477f559a",
       "value": 8
      }
     },
     "c61de11327ac4bce832bfc94d76e4f62": {
      "model_module": "@jupyter-widgets/base",
      "model_module_version": "1.2.0",
      "model_name": "LayoutModel",
      "state": {}
     },
     "c65e4153a4bc4c3eb4c65fb8b0a9fd7b": {
      "model_module": "@jupyter-widgets/base",
      "model_module_version": "1.2.0",
      "model_name": "LayoutModel",
      "state": {}
     },
     "c6a53531d5734c73becd25e32baef084": {
      "model_module": "@jupyter-widgets/base",
      "model_module_version": "1.2.0",
      "model_name": "LayoutModel",
      "state": {}
     },
     "c74362e23cf141a990e6ae2a614a6dde": {
      "model_module": "@jupyter-widgets/base",
      "model_module_version": "1.2.0",
      "model_name": "LayoutModel",
      "state": {}
     },
     "c7a7cd154f6b4ffb8e7106d0f4647715": {
      "model_module": "@jupyter-widgets/controls",
      "model_module_version": "1.5.0",
      "model_name": "HTMLModel",
      "state": {
       "layout": "IPY_MODEL_51020cba8b5c43c387a9a654e9b7fd1f",
       "style": "IPY_MODEL_5494a7767e80465aa69c160b732e1b3d",
       "value": " 8/8 [14:45&lt;00:00, 91.28s/it]"
      }
     },
     "c7d247ab620a4671aea65e4019a05e8f": {
      "model_module": "@jupyter-widgets/base",
      "model_module_version": "1.2.0",
      "model_name": "LayoutModel",
      "state": {}
     },
     "c82e12815b7a4b788ff8f6490f9ad2f5": {
      "model_module": "@jupyter-widgets/controls",
      "model_module_version": "1.5.0",
      "model_name": "DescriptionStyleModel",
      "state": {
       "description_width": ""
      }
     },
     "c8b79ae3356640d688fbee803e0d9706": {
      "model_module": "@jupyter-widgets/base",
      "model_module_version": "1.2.0",
      "model_name": "LayoutModel",
      "state": {}
     },
     "c8ba028310364f44a26e14cce829dd3c": {
      "model_module": "@jupyter-widgets/base",
      "model_module_version": "1.2.0",
      "model_name": "LayoutModel",
      "state": {}
     },
     "c92d5b8807c64cd9bfcb8ef624a07a6b": {
      "model_module": "@jupyter-widgets/controls",
      "model_module_version": "1.5.0",
      "model_name": "ProgressStyleModel",
      "state": {
       "description_width": ""
      }
     },
     "c931160219d746029855a1244beb14cc": {
      "model_module": "@jupyter-widgets/controls",
      "model_module_version": "1.5.0",
      "model_name": "ProgressStyleModel",
      "state": {
       "description_width": ""
      }
     },
     "c96cd3239329419bb92888c229a694e6": {
      "model_module": "@jupyter-widgets/controls",
      "model_module_version": "1.5.0",
      "model_name": "HTMLModel",
      "state": {
       "layout": "IPY_MODEL_eb10e5f591144eb8b889e88f2923a30c",
       "style": "IPY_MODEL_18251204f5084fcd9062e210e8358ca8",
       "value": "100%"
      }
     },
     "c9923004a4434f26bac59d0e5e28c7a3": {
      "model_module": "@jupyter-widgets/controls",
      "model_module_version": "1.5.0",
      "model_name": "HTMLModel",
      "state": {
       "layout": "IPY_MODEL_c6a53531d5734c73becd25e32baef084",
       "style": "IPY_MODEL_cc73706016a041d09f81364c93836ecf",
       "value": " 8/8 [14:43&lt;00:00, 93.79s/it]"
      }
     },
     "ca306c51a09e4227b0b195315b72839a": {
      "model_module": "@jupyter-widgets/controls",
      "model_module_version": "1.5.0",
      "model_name": "FloatProgressModel",
      "state": {
       "bar_style": "success",
       "layout": "IPY_MODEL_ebd48289e70e4560a0c04afb56decfa4",
       "max": 8,
       "style": "IPY_MODEL_b839479f8b264e0aaa8855323ed95946",
       "value": 8
      }
     },
     "ca311c27cafc4f05894183ab74ca71a4": {
      "model_module": "@jupyter-widgets/controls",
      "model_module_version": "1.5.0",
      "model_name": "HTMLModel",
      "state": {
       "layout": "IPY_MODEL_dfec260187ef48298e278224486cf491",
       "style": "IPY_MODEL_6d017ecc7fd1437a94622a632f2ab959",
       "value": "100%"
      }
     },
     "ca7993db2ca140b9b6678169873a1922": {
      "model_module": "@jupyter-widgets/base",
      "model_module_version": "1.2.0",
      "model_name": "LayoutModel",
      "state": {}
     },
     "ca7d4808ef1445caad9bc87f98819940": {
      "model_module": "@jupyter-widgets/controls",
      "model_module_version": "1.5.0",
      "model_name": "DescriptionStyleModel",
      "state": {
       "description_width": ""
      }
     },
     "ca9acf62f3e545b3b7c9f7b1c8716b3f": {
      "model_module": "@jupyter-widgets/controls",
      "model_module_version": "1.5.0",
      "model_name": "HTMLModel",
      "state": {
       "layout": "IPY_MODEL_8fbc143a6fda413db22250ef86d6ab61",
       "style": "IPY_MODEL_1c24649319864e66a410e37dbbfc6e76",
       "value": "100%"
      }
     },
     "cb1a3375d5ad4fa0835cc9b027f2d692": {
      "model_module": "@jupyter-widgets/base",
      "model_module_version": "1.2.0",
      "model_name": "LayoutModel",
      "state": {}
     },
     "cb63d309ec5e4e1f9951c645eff87e3d": {
      "model_module": "@jupyter-widgets/controls",
      "model_module_version": "1.5.0",
      "model_name": "ProgressStyleModel",
      "state": {
       "description_width": ""
      }
     },
     "cb8f0c35777e456997c3ce92d2d00c94": {
      "model_module": "@jupyter-widgets/controls",
      "model_module_version": "1.5.0",
      "model_name": "HTMLModel",
      "state": {
       "layout": "IPY_MODEL_ec3fedd043d14185920bbfe089b9030c",
       "style": "IPY_MODEL_7c0857df98884872bfe8f987ab8dfbc5",
       "value": " 13%"
      }
     },
     "cbbe50dbb60646b0a08463af9ae139c9": {
      "model_module": "@jupyter-widgets/base",
      "model_module_version": "1.2.0",
      "model_name": "LayoutModel",
      "state": {}
     },
     "cbc9ea00f58b457bb60fcaccaddae633": {
      "model_module": "@jupyter-widgets/controls",
      "model_module_version": "1.5.0",
      "model_name": "DescriptionStyleModel",
      "state": {
       "description_width": ""
      }
     },
     "cbcef100c92a4efcb2cb5d56da32af23": {
      "model_module": "@jupyter-widgets/controls",
      "model_module_version": "1.5.0",
      "model_name": "DescriptionStyleModel",
      "state": {
       "description_width": ""
      }
     },
     "cbeeaf02fec745d69846ca5945fc4a04": {
      "model_module": "@jupyter-widgets/controls",
      "model_module_version": "1.5.0",
      "model_name": "HTMLModel",
      "state": {
       "layout": "IPY_MODEL_3daaa20544bb4e4d8da61689dc9ed3ce",
       "style": "IPY_MODEL_03d85388b517463dad0263084884d1a8",
       "value": " 1/23 [07:50&lt;2:48:37, 459.88s/it]"
      }
     },
     "cc5b98950fab4b61b3af9768de360ecb": {
      "model_module": "@jupyter-widgets/base",
      "model_module_version": "1.2.0",
      "model_name": "LayoutModel",
      "state": {}
     },
     "cc73706016a041d09f81364c93836ecf": {
      "model_module": "@jupyter-widgets/controls",
      "model_module_version": "1.5.0",
      "model_name": "DescriptionStyleModel",
      "state": {
       "description_width": ""
      }
     },
     "cc8976cfbe094f06983a3e5ec3d5217f": {
      "model_module": "@jupyter-widgets/controls",
      "model_module_version": "1.5.0",
      "model_name": "HTMLModel",
      "state": {
       "layout": "IPY_MODEL_e8961e65bc0848c4a9fe2ca0434f1863",
       "style": "IPY_MODEL_09823c5a545b4cb3889695d861450f22",
       "value": "100%"
      }
     },
     "ccce99b04a2244d9a101f3fc0fc4c0ed": {
      "model_module": "@jupyter-widgets/controls",
      "model_module_version": "1.5.0",
      "model_name": "DescriptionStyleModel",
      "state": {
       "description_width": ""
      }
     },
     "cce89bce27654ad3a94dd8659f7c19e2": {
      "model_module": "@jupyter-widgets/controls",
      "model_module_version": "1.5.0",
      "model_name": "DescriptionStyleModel",
      "state": {
       "description_width": ""
      }
     },
     "cd0e6419122e42dd81f8476100d1f19c": {
      "model_module": "@jupyter-widgets/controls",
      "model_module_version": "1.5.0",
      "model_name": "DescriptionStyleModel",
      "state": {
       "description_width": ""
      }
     },
     "cd2529a99b34409596e48ab468391b04": {
      "model_module": "@jupyter-widgets/controls",
      "model_module_version": "1.5.0",
      "model_name": "HTMLModel",
      "state": {
       "layout": "IPY_MODEL_fc9564b37f7d447b889837f409dff83e",
       "style": "IPY_MODEL_037b96f9b5ad407faeeae22c5100ac1b",
       "value": "100%"
      }
     },
     "cd4e7f6d40534921b67bfeec0636320d": {
      "model_module": "@jupyter-widgets/controls",
      "model_module_version": "1.5.0",
      "model_name": "HTMLModel",
      "state": {
       "layout": "IPY_MODEL_b9240f3062cc47869954e314d864678d",
       "style": "IPY_MODEL_f2c4690abb1b4592af3626b5f30f6b04",
       "value": "100%"
      }
     },
     "cd722e36930f4e768662d0125a46d4af": {
      "model_module": "@jupyter-widgets/controls",
      "model_module_version": "1.5.0",
      "model_name": "DescriptionStyleModel",
      "state": {
       "description_width": ""
      }
     },
     "cd72bda5f6cc4cb49bc8239a9b789a55": {
      "model_module": "@jupyter-widgets/controls",
      "model_module_version": "1.5.0",
      "model_name": "ProgressStyleModel",
      "state": {
       "description_width": ""
      }
     },
     "cd8c817ab4784c97844f5958ba506ae5": {
      "model_module": "@jupyter-widgets/controls",
      "model_module_version": "1.5.0",
      "model_name": "HBoxModel",
      "state": {
       "children": [
        "IPY_MODEL_20c035f17b3a4b438f6d53bb8307f3ca",
        "IPY_MODEL_6232849bab914af7a756ff479a7ecee1",
        "IPY_MODEL_0c59aa7079544863a9338c35d38ca9cd"
       ],
       "layout": "IPY_MODEL_561c758479ee4d5d9ba97314a43a07fc"
      }
     },
     "cd9d08aec81e4130aa3b61ff6426bf55": {
      "model_module": "@jupyter-widgets/controls",
      "model_module_version": "1.5.0",
      "model_name": "HTMLModel",
      "state": {
       "layout": "IPY_MODEL_05a10d7de78b411e956f81cd396be17b",
       "style": "IPY_MODEL_914f1eec05a0445c84c109955df5c9cc",
       "value": "100%"
      }
     },
     "cda2bd46849c44bc97bcd3c533887287": {
      "model_module": "@jupyter-widgets/controls",
      "model_module_version": "1.5.0",
      "model_name": "DescriptionStyleModel",
      "state": {
       "description_width": ""
      }
     },
     "cdf97e85cc514050b7c979459e0272eb": {
      "model_module": "@jupyter-widgets/controls",
      "model_module_version": "1.5.0",
      "model_name": "DescriptionStyleModel",
      "state": {
       "description_width": ""
      }
     },
     "ce188f7bb69d46dda3b7dca67481eecd": {
      "model_module": "@jupyter-widgets/base",
      "model_module_version": "1.2.0",
      "model_name": "LayoutModel",
      "state": {}
     },
     "ceac867ffba849dcb16bda69ab33f68b": {
      "model_module": "@jupyter-widgets/controls",
      "model_module_version": "1.5.0",
      "model_name": "HBoxModel",
      "state": {
       "children": [
        "IPY_MODEL_ca9acf62f3e545b3b7c9f7b1c8716b3f",
        "IPY_MODEL_667e694043314f26877f24f8a4db99f2",
        "IPY_MODEL_2ea851a8e1f84fed8c57274f61e4d23c"
       ],
       "layout": "IPY_MODEL_62a0165da79540a78815f5718e1807ce"
      }
     },
     "ceda91d9e7ca418194338dcd22069c87": {
      "model_module": "@jupyter-widgets/controls",
      "model_module_version": "1.5.0",
      "model_name": "HBoxModel",
      "state": {
       "children": [
        "IPY_MODEL_8503de6fed624c77b1ec19df243a76d4",
        "IPY_MODEL_70928e3fa62b4416b9124c9563b85f26",
        "IPY_MODEL_40f60d6a2e514ed099caeaa6f65dfcba"
       ],
       "layout": "IPY_MODEL_2006aa95e6744830904d19d7dad13acc"
      }
     },
     "cefd7c7a05884942af845f86222795a6": {
      "model_module": "@jupyter-widgets/controls",
      "model_module_version": "1.5.0",
      "model_name": "HBoxModel",
      "state": {
       "children": [
        "IPY_MODEL_ba607ac625514e6aab646430c2a0ffbf",
        "IPY_MODEL_5c01e70758e2482692759cc973b78bbd",
        "IPY_MODEL_8abdd2cc98574ff5b997d8b0f720ba08"
       ],
       "layout": "IPY_MODEL_673ae04c328d46aba9c342347708710c"
      }
     },
     "cf130a87b4414f469452591e5a1adb56": {
      "model_module": "@jupyter-widgets/base",
      "model_module_version": "1.2.0",
      "model_name": "LayoutModel",
      "state": {}
     },
     "cf6094b9c6aa4711af4665c7e55e4dd9": {
      "model_module": "@jupyter-widgets/controls",
      "model_module_version": "1.5.0",
      "model_name": "FloatProgressModel",
      "state": {
       "bar_style": "success",
       "layout": "IPY_MODEL_5117971afb664383a6216b447567ad3f",
       "max": 8,
       "style": "IPY_MODEL_25b73042e0a34ef1903b4c1693556748",
       "value": 8
      }
     },
     "cfbc9889da7f46e398b1d23d6c7fd4cf": {
      "model_module": "@jupyter-widgets/base",
      "model_module_version": "1.2.0",
      "model_name": "LayoutModel",
      "state": {}
     },
     "cff0402751214511bab82c9692d6fec3": {
      "model_module": "@jupyter-widgets/controls",
      "model_module_version": "1.5.0",
      "model_name": "HBoxModel",
      "state": {
       "children": [
        "IPY_MODEL_662c539d7cfa4f128a8fcd657edc25fa",
        "IPY_MODEL_7d57594c293f4f62b7b505f32e591b60",
        "IPY_MODEL_7047f5372e774fa69e8e20107fadd2e6"
       ],
       "layout": "IPY_MODEL_636328c509ea4e34983da0ccfdaa89cb"
      }
     },
     "d0fe78b037bc414a9716c2bc8a65ec45": {
      "model_module": "@jupyter-widgets/controls",
      "model_module_version": "1.5.0",
      "model_name": "ProgressStyleModel",
      "state": {
       "description_width": ""
      }
     },
     "d10ed469721b45ba8023ef4f52c38827": {
      "model_module": "@jupyter-widgets/base",
      "model_module_version": "1.2.0",
      "model_name": "LayoutModel",
      "state": {}
     },
     "d18fb74b7cb04ac2ac1cb0726304f362": {
      "model_module": "@jupyter-widgets/controls",
      "model_module_version": "1.5.0",
      "model_name": "HBoxModel",
      "state": {
       "children": [
        "IPY_MODEL_3471f2a950f34527b8d9a08ca505e0d1",
        "IPY_MODEL_8a860c142e9d41de9a14ff9894b895ae",
        "IPY_MODEL_47b43211653a499d829b76ca0ba226f0"
       ],
       "layout": "IPY_MODEL_82603523046a4cc891cce6d8cc536611"
      }
     },
     "d190af371f154a6fa471aa60ee193a46": {
      "model_module": "@jupyter-widgets/controls",
      "model_module_version": "1.5.0",
      "model_name": "HTMLModel",
      "state": {
       "layout": "IPY_MODEL_fc30c9416f72427da6b90d434bc5f968",
       "style": "IPY_MODEL_87725d2cad144b0d8c8bd1c074d5c94e",
       "value": " 8/8 [14:42&lt;00:00, 94.34s/it]"
      }
     },
     "d1d164586a8e45fa834096ac6780b8b2": {
      "model_module": "@jupyter-widgets/base",
      "model_module_version": "1.2.0",
      "model_name": "LayoutModel",
      "state": {}
     },
     "d20ee1647b594b29b77668421202339e": {
      "model_module": "@jupyter-widgets/controls",
      "model_module_version": "1.5.0",
      "model_name": "HBoxModel",
      "state": {
       "children": [
        "IPY_MODEL_ca311c27cafc4f05894183ab74ca71a4",
        "IPY_MODEL_01c7b5ded79a40ff912564e67316f226",
        "IPY_MODEL_b417d54900af4c938fc30fa8f66cca6b"
       ],
       "layout": "IPY_MODEL_b8acfc729c8045238a20f14a4ac550cd"
      }
     },
     "d24c31724a704557b2d09038579c3857": {
      "model_module": "@jupyter-widgets/controls",
      "model_module_version": "1.5.0",
      "model_name": "DescriptionStyleModel",
      "state": {
       "description_width": ""
      }
     },
     "d26297c8546b4c5b94f0a34ec2ab226f": {
      "model_module": "@jupyter-widgets/controls",
      "model_module_version": "1.5.0",
      "model_name": "DescriptionStyleModel",
      "state": {
       "description_width": ""
      }
     },
     "d30a6bcc10df47938a9ece8446277108": {
      "model_module": "@jupyter-widgets/controls",
      "model_module_version": "1.5.0",
      "model_name": "FloatProgressModel",
      "state": {
       "bar_style": "danger",
       "layout": "IPY_MODEL_9e5d78d46afd44db8ce95f6a6b58f341",
       "max": 8,
       "style": "IPY_MODEL_552fc66015804e19b6a4e1648544a2b5",
       "value": 1
      }
     },
     "d3640a2103d345099211e086cb29a4b8": {
      "model_module": "@jupyter-widgets/controls",
      "model_module_version": "1.5.0",
      "model_name": "DescriptionStyleModel",
      "state": {
       "description_width": ""
      }
     },
     "d3eeece9a8fa49d599398f59a964ff03": {
      "model_module": "@jupyter-widgets/controls",
      "model_module_version": "1.5.0",
      "model_name": "HBoxModel",
      "state": {
       "children": [
        "IPY_MODEL_74c2f087114e4943857790c447ad5f34",
        "IPY_MODEL_e5ac3a22d15e4edfa3f745b2bd53c6d4",
        "IPY_MODEL_7c7d55a350614b84a14d4ca76d9245e9"
       ],
       "layout": "IPY_MODEL_7917d5c4d2c34cb0865a54091505be0d"
      }
     },
     "d439a13fa30e465b878836d2b08ffc32": {
      "model_module": "@jupyter-widgets/controls",
      "model_module_version": "1.5.0",
      "model_name": "ProgressStyleModel",
      "state": {
       "description_width": ""
      }
     },
     "d480e6d5513b4e049d5ff6945939933f": {
      "model_module": "@jupyter-widgets/base",
      "model_module_version": "1.2.0",
      "model_name": "LayoutModel",
      "state": {}
     },
     "d48ed64d9be848da9c2e23d90549b1c2": {
      "model_module": "@jupyter-widgets/base",
      "model_module_version": "1.2.0",
      "model_name": "LayoutModel",
      "state": {}
     },
     "d4a8233b5d564000be69a5003024147c": {
      "model_module": "@jupyter-widgets/base",
      "model_module_version": "1.2.0",
      "model_name": "LayoutModel",
      "state": {}
     },
     "d56b786811ca4cfb842213e11eda157a": {
      "model_module": "@jupyter-widgets/base",
      "model_module_version": "1.2.0",
      "model_name": "LayoutModel",
      "state": {}
     },
     "d5ca06ea8d084339bdc67fb964d4f29f": {
      "model_module": "@jupyter-widgets/base",
      "model_module_version": "1.2.0",
      "model_name": "LayoutModel",
      "state": {}
     },
     "d66917864848481da61336930db3aea8": {
      "model_module": "@jupyter-widgets/base",
      "model_module_version": "1.2.0",
      "model_name": "LayoutModel",
      "state": {}
     },
     "d6866239a92e4a58b5f660194655b621": {
      "model_module": "@jupyter-widgets/controls",
      "model_module_version": "1.5.0",
      "model_name": "HTMLModel",
      "state": {
       "layout": "IPY_MODEL_0f4199a3bf284990bf79ba230800e120",
       "style": "IPY_MODEL_e2f0b69f9e9642eb9fe6c6a14a61da9c",
       "value": "100%"
      }
     },
     "d6b31e4ca14f49f99b94f98253ba0235": {
      "model_module": "@jupyter-widgets/controls",
      "model_module_version": "1.5.0",
      "model_name": "FloatProgressModel",
      "state": {
       "bar_style": "success",
       "layout": "IPY_MODEL_ddee1381c8f04d6baf2b7c8017df5a25",
       "max": 23,
       "style": "IPY_MODEL_870f5f7c7aa04b178ddb484b2a9c8cf0",
       "value": 23
      }
     },
     "d6dcae265cdc4dff989f24b46d1e5f22": {
      "model_module": "@jupyter-widgets/base",
      "model_module_version": "1.2.0",
      "model_name": "LayoutModel",
      "state": {}
     },
     "d6e9f687269d4b3082cd22456a360f82": {
      "model_module": "@jupyter-widgets/controls",
      "model_module_version": "1.5.0",
      "model_name": "FloatProgressModel",
      "state": {
       "bar_style": "success",
       "layout": "IPY_MODEL_19229d232ff449b1837487bfb69a3bc0",
       "max": 8,
       "style": "IPY_MODEL_bda6fccfed424e3fa06201ce08fd30e9",
       "value": 8
      }
     },
     "d6ff8537b3fc41398a847eed28c31bf3": {
      "model_module": "@jupyter-widgets/controls",
      "model_module_version": "1.5.0",
      "model_name": "DescriptionStyleModel",
      "state": {
       "description_width": ""
      }
     },
     "d782dfb038314ef3bf91904629e383d4": {
      "model_module": "@jupyter-widgets/base",
      "model_module_version": "1.2.0",
      "model_name": "LayoutModel",
      "state": {}
     },
     "d7c2a9157f3043bab2dee86165b42671": {
      "model_module": "@jupyter-widgets/base",
      "model_module_version": "1.2.0",
      "model_name": "LayoutModel",
      "state": {}
     },
     "d7d1e1125da34485b8b27c258a7f7a40": {
      "model_module": "@jupyter-widgets/controls",
      "model_module_version": "1.5.0",
      "model_name": "DescriptionStyleModel",
      "state": {
       "description_width": ""
      }
     },
     "d8284c865d8f45459963f1b291495920": {
      "model_module": "@jupyter-widgets/controls",
      "model_module_version": "1.5.0",
      "model_name": "DescriptionStyleModel",
      "state": {
       "description_width": ""
      }
     },
     "d8a496a820884420b7d36bc83bd33c0f": {
      "model_module": "@jupyter-widgets/controls",
      "model_module_version": "1.5.0",
      "model_name": "HTMLModel",
      "state": {
       "layout": "IPY_MODEL_38e8dfafb07a423a85bc60761631207b",
       "style": "IPY_MODEL_4a777c433dfa47588368019a4caf6964",
       "value": " 8/8 [14:08&lt;00:00, 90.69s/it]"
      }
     },
     "d8a7b6ff7de34676ba778defd6087d00": {
      "model_module": "@jupyter-widgets/controls",
      "model_module_version": "1.5.0",
      "model_name": "HBoxModel",
      "state": {
       "children": [
        "IPY_MODEL_097f0fb77e1c492b86628790cacfc352",
        "IPY_MODEL_ebec33fd1871461b9ca179e8495a9886",
        "IPY_MODEL_67f4680420ff45df8f309df1a80d2285"
       ],
       "layout": "IPY_MODEL_623daefaa1104fc399c6243b75536753"
      }
     },
     "d8cae7acb262461186818eb0b47f39cb": {
      "model_module": "@jupyter-widgets/base",
      "model_module_version": "1.2.0",
      "model_name": "LayoutModel",
      "state": {}
     },
     "d9c0bc7797a547469ff1fa16b1d25a20": {
      "model_module": "@jupyter-widgets/controls",
      "model_module_version": "1.5.0",
      "model_name": "FloatProgressModel",
      "state": {
       "bar_style": "success",
       "layout": "IPY_MODEL_00cddb69467a44339df899b6a58a1b85",
       "max": 23,
       "style": "IPY_MODEL_56946000a3ae44c9b71c844e225d630d",
       "value": 23
      }
     },
     "d9da283ac6ea4699808b6739b93d2489": {
      "model_module": "@jupyter-widgets/controls",
      "model_module_version": "1.5.0",
      "model_name": "HTMLModel",
      "state": {
       "layout": "IPY_MODEL_c07b4afedbdc4895a5e94cc5a3850f2e",
       "style": "IPY_MODEL_50180b0317e5474983f9a0e2101875fa",
       "value": " 8/8 [15:14&lt;00:00, 96.83s/it]"
      }
     },
     "d9e1edaba38149399fa8aa3faccd2a78": {
      "model_module": "@jupyter-widgets/controls",
      "model_module_version": "1.5.0",
      "model_name": "DescriptionStyleModel",
      "state": {
       "description_width": ""
      }
     },
     "da0599d4762341e8a09cd209eaaec72d": {
      "model_module": "@jupyter-widgets/base",
      "model_module_version": "1.2.0",
      "model_name": "LayoutModel",
      "state": {}
     },
     "da2f72ffb80d48a88cce3c1805108bce": {
      "model_module": "@jupyter-widgets/controls",
      "model_module_version": "1.5.0",
      "model_name": "HBoxModel",
      "state": {
       "children": [
        "IPY_MODEL_89e6fae46bbb420a94861000707b88d6",
        "IPY_MODEL_d30a6bcc10df47938a9ece8446277108",
        "IPY_MODEL_8eb687843d6d48619dacf8b1919e522c"
       ],
       "layout": "IPY_MODEL_4fb4efab6caa4124870a8dade1e971dc"
      }
     },
     "da587ef04f594baca44f08541a776e67": {
      "model_module": "@jupyter-widgets/controls",
      "model_module_version": "1.5.0",
      "model_name": "HTMLModel",
      "state": {
       "layout": "IPY_MODEL_2e2a9655e99e44668b1d78d997ea74ce",
       "style": "IPY_MODEL_96b092107d8a4b7db4b19bfc53b25857",
       "value": " 23/23 [00:02&lt;00:00,  8.46it/s]"
      }
     },
     "da74f5d746824ab6a77a6a95441d24d6": {
      "model_module": "@jupyter-widgets/base",
      "model_module_version": "1.2.0",
      "model_name": "LayoutModel",
      "state": {}
     },
     "da84fdedaa3a45b3bce1762946225395": {
      "model_module": "@jupyter-widgets/controls",
      "model_module_version": "1.5.0",
      "model_name": "DescriptionStyleModel",
      "state": {
       "description_width": ""
      }
     },
     "db012518f2af43caaee5da636d9523d4": {
      "model_module": "@jupyter-widgets/controls",
      "model_module_version": "1.5.0",
      "model_name": "HTMLModel",
      "state": {
       "layout": "IPY_MODEL_66237022fb7347889b3fd95f2297da1e",
       "style": "IPY_MODEL_86b29d654068493aa723612765e59930",
       "value": " 8/8 [14:30&lt;00:00, 92.86s/it]"
      }
     },
     "db136bc93dcf44bbbf9f92bfb3113ffc": {
      "model_module": "@jupyter-widgets/controls",
      "model_module_version": "1.5.0",
      "model_name": "FloatProgressModel",
      "state": {
       "bar_style": "success",
       "layout": "IPY_MODEL_e5db5c6902684498b16e62ae3a8f39f5",
       "max": 8,
       "style": "IPY_MODEL_e26d56c778624307b20c1c0df310d2e9",
       "value": 8
      }
     },
     "db2b99bbc02f4adfbfd063f9c372dcb5": {
      "model_module": "@jupyter-widgets/controls",
      "model_module_version": "1.5.0",
      "model_name": "DescriptionStyleModel",
      "state": {
       "description_width": ""
      }
     },
     "db3069adfb4b4918bf4c010e34675b13": {
      "model_module": "@jupyter-widgets/base",
      "model_module_version": "1.2.0",
      "model_name": "LayoutModel",
      "state": {}
     },
     "db73d5f987384a9294b2fbe81d64ddd0": {
      "model_module": "@jupyter-widgets/controls",
      "model_module_version": "1.5.0",
      "model_name": "HBoxModel",
      "state": {
       "children": [
        "IPY_MODEL_33dcaf3f52234e728a6f0ec59544f449",
        "IPY_MODEL_b0d3007d8e3d4ae0b42db43ac2e44737",
        "IPY_MODEL_6e183c289ed94470a89fb009bc357bb5"
       ],
       "layout": "IPY_MODEL_d8cae7acb262461186818eb0b47f39cb"
      }
     },
     "dc38143f2df0424799aa48a30caa885a": {
      "model_module": "@jupyter-widgets/controls",
      "model_module_version": "1.5.0",
      "model_name": "DescriptionStyleModel",
      "state": {
       "description_width": ""
      }
     },
     "dc3ee82d9f2a48bb8f33eff74a5022d1": {
      "model_module": "@jupyter-widgets/controls",
      "model_module_version": "1.5.0",
      "model_name": "HTMLModel",
      "state": {
       "layout": "IPY_MODEL_01a732b9fa204f0596413326bbd67ed4",
       "style": "IPY_MODEL_6622d6245ff44557a7c97c4faa783c49",
       "value": " 8/8 [14:39&lt;00:00, 92.91s/it]"
      }
     },
     "dc6c0c0ca0374b939df6009c859d725e": {
      "model_module": "@jupyter-widgets/controls",
      "model_module_version": "1.5.0",
      "model_name": "FloatProgressModel",
      "state": {
       "bar_style": "success",
       "layout": "IPY_MODEL_05fb16e8b1364868b0018edfed6fbee2",
       "max": 8,
       "style": "IPY_MODEL_3e91e3674d714ff5879b9953fd47903f",
       "value": 8
      }
     },
     "dc797e410167486b8b778020182ad166": {
      "model_module": "@jupyter-widgets/base",
      "model_module_version": "1.2.0",
      "model_name": "LayoutModel",
      "state": {}
     },
     "dd015621edce4e729dc0a26b2391c02f": {
      "model_module": "@jupyter-widgets/controls",
      "model_module_version": "1.5.0",
      "model_name": "DescriptionStyleModel",
      "state": {
       "description_width": ""
      }
     },
     "dd4275f978de44f5b3750555b71c31fc": {
      "model_module": "@jupyter-widgets/controls",
      "model_module_version": "1.5.0",
      "model_name": "DescriptionStyleModel",
      "state": {
       "description_width": ""
      }
     },
     "dd5cb62655c64983b27411229923f0d7": {
      "model_module": "@jupyter-widgets/controls",
      "model_module_version": "1.5.0",
      "model_name": "FloatProgressModel",
      "state": {
       "bar_style": "danger",
       "layout": "IPY_MODEL_2939bb880a0d4c4fb176f5afe5359eca",
       "max": 23,
       "style": "IPY_MODEL_378f37d8545f4682b08ce2b688075c33",
       "value": 3
      }
     },
     "ddac69db338649d08a257ae69163b3a4": {
      "model_module": "@jupyter-widgets/base",
      "model_module_version": "1.2.0",
      "model_name": "LayoutModel",
      "state": {}
     },
     "dde8331e6ea7405c8cdee93aa88c51ac": {
      "model_module": "@jupyter-widgets/base",
      "model_module_version": "1.2.0",
      "model_name": "LayoutModel",
      "state": {}
     },
     "ddee1381c8f04d6baf2b7c8017df5a25": {
      "model_module": "@jupyter-widgets/base",
      "model_module_version": "1.2.0",
      "model_name": "LayoutModel",
      "state": {}
     },
     "de6f3ae116124fd9be1f0b6c8571fa78": {
      "model_module": "@jupyter-widgets/controls",
      "model_module_version": "1.5.0",
      "model_name": "DescriptionStyleModel",
      "state": {
       "description_width": ""
      }
     },
     "de7e2a76149740dc8b5c2534414ea965": {
      "model_module": "@jupyter-widgets/base",
      "model_module_version": "1.2.0",
      "model_name": "LayoutModel",
      "state": {}
     },
     "dea0fa5384e345fd8548cec67564269a": {
      "model_module": "@jupyter-widgets/controls",
      "model_module_version": "1.5.0",
      "model_name": "ProgressStyleModel",
      "state": {
       "description_width": ""
      }
     },
     "debce889fa4543a693c55f557d7a7c94": {
      "model_module": "@jupyter-widgets/controls",
      "model_module_version": "1.5.0",
      "model_name": "HBoxModel",
      "state": {
       "children": [
        "IPY_MODEL_43fe2340298b4859875b30af00610dfe",
        "IPY_MODEL_3df618cfcb4540ef86edb4a71046c429",
        "IPY_MODEL_05cb2ebeed6a49d4ae3d9961c807dc94"
       ],
       "layout": "IPY_MODEL_4da959a255cd46afb627fd0c5b11fa11"
      }
     },
     "df18a481238a42508f22846e197da286": {
      "model_module": "@jupyter-widgets/controls",
      "model_module_version": "1.5.0",
      "model_name": "DescriptionStyleModel",
      "state": {
       "description_width": ""
      }
     },
     "df252287aaa84ca8b432d85e7362ae72": {
      "model_module": "@jupyter-widgets/controls",
      "model_module_version": "1.5.0",
      "model_name": "FloatProgressModel",
      "state": {
       "bar_style": "success",
       "layout": "IPY_MODEL_2fd3518e07be4e449caeb663b1a3bf68",
       "max": 8,
       "style": "IPY_MODEL_4450294ccf2c440180152ffaf03fa151",
       "value": 8
      }
     },
     "df5e3bd825274913b41d64fba19d1b87": {
      "model_module": "@jupyter-widgets/base",
      "model_module_version": "1.2.0",
      "model_name": "LayoutModel",
      "state": {}
     },
     "df60adb96aa04305b6944b613544f996": {
      "model_module": "@jupyter-widgets/controls",
      "model_module_version": "1.5.0",
      "model_name": "ProgressStyleModel",
      "state": {
       "description_width": ""
      }
     },
     "dfebedb35d9249d68e0e8059a422e44a": {
      "model_module": "@jupyter-widgets/controls",
      "model_module_version": "1.5.0",
      "model_name": "HBoxModel",
      "state": {
       "children": [
        "IPY_MODEL_08df7ecb8b344f919c1f8104fef3fcd9",
        "IPY_MODEL_2b5d639d94bc44d9830d7878d2159d44",
        "IPY_MODEL_af25ab8e04b2464d84278daa21280f30"
       ],
       "layout": "IPY_MODEL_4865530bffba4d2d87815a4e97356ad9"
      }
     },
     "dfec260187ef48298e278224486cf491": {
      "model_module": "@jupyter-widgets/base",
      "model_module_version": "1.2.0",
      "model_name": "LayoutModel",
      "state": {}
     },
     "e0166c2977e748f480ad5a9aa81d92ea": {
      "model_module": "@jupyter-widgets/base",
      "model_module_version": "1.2.0",
      "model_name": "LayoutModel",
      "state": {}
     },
     "e03ce9d1f37644b58dcba515cf894cf2": {
      "model_module": "@jupyter-widgets/controls",
      "model_module_version": "1.5.0",
      "model_name": "HTMLModel",
      "state": {
       "layout": "IPY_MODEL_f6be2048933f422d861fb28aaee8aef2",
       "style": "IPY_MODEL_53311fd46030438b8a5dca973294037e",
       "value": "100%"
      }
     },
     "e048e2e63b34461d9967ffe780cb622e": {
      "model_module": "@jupyter-widgets/base",
      "model_module_version": "1.2.0",
      "model_name": "LayoutModel",
      "state": {}
     },
     "e0adaa85775a43f8958f209284cae3e7": {
      "model_module": "@jupyter-widgets/controls",
      "model_module_version": "1.5.0",
      "model_name": "HTMLModel",
      "state": {
       "layout": "IPY_MODEL_b523e45d449e439ea09a74d93b7d1fff",
       "style": "IPY_MODEL_3b8d0cab6e5e4655bed757deba4655b2",
       "value": "100%"
      }
     },
     "e0d21babb4a344328fbaa53a048f6083": {
      "model_module": "@jupyter-widgets/controls",
      "model_module_version": "1.5.0",
      "model_name": "HTMLModel",
      "state": {
       "layout": "IPY_MODEL_b99faf7e4b06413fa61745322b92f9c2",
       "style": "IPY_MODEL_0722a03bf9594382a7a77ffb5fbe1c3e",
       "value": "100%"
      }
     },
     "e1bde079658245a3a572ed5a4cdbb7ca": {
      "model_module": "@jupyter-widgets/controls",
      "model_module_version": "1.5.0",
      "model_name": "FloatProgressModel",
      "state": {
       "bar_style": "success",
       "layout": "IPY_MODEL_33e60d545e7148568e54e3d53453ba26",
       "max": 8,
       "style": "IPY_MODEL_07c70a8b87f346c0b67fcda4bd8311ea",
       "value": 8
      }
     },
     "e1fe45e570e546cface9dbcc3e5e6ef3": {
      "model_module": "@jupyter-widgets/controls",
      "model_module_version": "1.5.0",
      "model_name": "HTMLModel",
      "state": {
       "layout": "IPY_MODEL_604778b7efdf4c0b85f5129444e1f18c",
       "style": "IPY_MODEL_0c5064313de043f9a2d682cd18b3ef29",
       "value": " 8/8 [15:39&lt;00:00, 101.02s/it]"
      }
     },
     "e200625de9c4496a8cc5da6eb602637f": {
      "model_module": "@jupyter-widgets/base",
      "model_module_version": "1.2.0",
      "model_name": "LayoutModel",
      "state": {}
     },
     "e21bef9b3f2f46819cebc7bea8e85bb7": {
      "model_module": "@jupyter-widgets/controls",
      "model_module_version": "1.5.0",
      "model_name": "HTMLModel",
      "state": {
       "layout": "IPY_MODEL_e478cf0624524f8ba81871991d499600",
       "style": "IPY_MODEL_a46cfaf7cba743e7896a10c6aed2efa9",
       "value": " 8/8 [14:48&lt;00:00, 94.96s/it]"
      }
     },
     "e26d56c778624307b20c1c0df310d2e9": {
      "model_module": "@jupyter-widgets/controls",
      "model_module_version": "1.5.0",
      "model_name": "ProgressStyleModel",
      "state": {
       "description_width": ""
      }
     },
     "e2bb10f0b8a64ee080d6f1c4105b72c2": {
      "model_module": "@jupyter-widgets/controls",
      "model_module_version": "1.5.0",
      "model_name": "HTMLModel",
      "state": {
       "layout": "IPY_MODEL_84b40c96bf914cffa06fe01a3746fd4c",
       "style": "IPY_MODEL_1ed8613d24dd43d7851da6f1240693d4",
       "value": "100%"
      }
     },
     "e2bddc8c9b4d49d8a8d3a56183a588a9": {
      "model_module": "@jupyter-widgets/base",
      "model_module_version": "1.2.0",
      "model_name": "LayoutModel",
      "state": {}
     },
     "e2d07e8f772c4fb38f3fb8432533e1da": {
      "model_module": "@jupyter-widgets/base",
      "model_module_version": "1.2.0",
      "model_name": "LayoutModel",
      "state": {}
     },
     "e2e458732e7f45129e44427690cd3808": {
      "model_module": "@jupyter-widgets/controls",
      "model_module_version": "1.5.0",
      "model_name": "DescriptionStyleModel",
      "state": {
       "description_width": ""
      }
     },
     "e2f0b69f9e9642eb9fe6c6a14a61da9c": {
      "model_module": "@jupyter-widgets/controls",
      "model_module_version": "1.5.0",
      "model_name": "DescriptionStyleModel",
      "state": {
       "description_width": ""
      }
     },
     "e3da33cff41940b1ba8548851643c937": {
      "model_module": "@jupyter-widgets/controls",
      "model_module_version": "1.5.0",
      "model_name": "ProgressStyleModel",
      "state": {
       "description_width": ""
      }
     },
     "e3dd25da3ac04376959b44fb3982ba73": {
      "model_module": "@jupyter-widgets/controls",
      "model_module_version": "1.5.0",
      "model_name": "HTMLModel",
      "state": {
       "layout": "IPY_MODEL_59e1c6441f0f485e9aba365f99baa533",
       "style": "IPY_MODEL_f4bd03c17a3b48cd8b6cf85bc3e9d003",
       "value": "100%"
      }
     },
     "e44ff44c443945c2b3ce6612fa369676": {
      "model_module": "@jupyter-widgets/controls",
      "model_module_version": "1.5.0",
      "model_name": "DescriptionStyleModel",
      "state": {
       "description_width": ""
      }
     },
     "e478cf0624524f8ba81871991d499600": {
      "model_module": "@jupyter-widgets/base",
      "model_module_version": "1.2.0",
      "model_name": "LayoutModel",
      "state": {}
     },
     "e4df8031fc4d4d129c5a9ad0271bf2e3": {
      "model_module": "@jupyter-widgets/controls",
      "model_module_version": "1.5.0",
      "model_name": "ProgressStyleModel",
      "state": {
       "description_width": ""
      }
     },
     "e4ed591fbd034c27a0338d6928ba4e90": {
      "model_module": "@jupyter-widgets/base",
      "model_module_version": "1.2.0",
      "model_name": "LayoutModel",
      "state": {}
     },
     "e4f34134f50e4e029ce93933f64d4aac": {
      "model_module": "@jupyter-widgets/base",
      "model_module_version": "1.2.0",
      "model_name": "LayoutModel",
      "state": {}
     },
     "e56765f9ac984a4ca89bf8474be7306c": {
      "model_module": "@jupyter-widgets/controls",
      "model_module_version": "1.5.0",
      "model_name": "DescriptionStyleModel",
      "state": {
       "description_width": ""
      }
     },
     "e56a0a3e8cbb40ef9f965bca0285071e": {
      "model_module": "@jupyter-widgets/controls",
      "model_module_version": "1.5.0",
      "model_name": "DescriptionStyleModel",
      "state": {
       "description_width": ""
      }
     },
     "e5750d8af0884ba6bbcedb6d8ec84e7b": {
      "model_module": "@jupyter-widgets/controls",
      "model_module_version": "1.5.0",
      "model_name": "HTMLModel",
      "state": {
       "layout": "IPY_MODEL_6d84330532c44c3c9549a2714754918f",
       "style": "IPY_MODEL_1516f296c6994653b070bd5293705778",
       "value": " 23/23 [05:09&lt;00:00, 13.06s/it]"
      }
     },
     "e576ce7f40ea49a8889ac41d2be93043": {
      "model_module": "@jupyter-widgets/controls",
      "model_module_version": "1.5.0",
      "model_name": "HTMLModel",
      "state": {
       "layout": "IPY_MODEL_66ecdae8ee5049c88647f9c3d798caa1",
       "style": "IPY_MODEL_cbc9ea00f58b457bb60fcaccaddae633",
       "value": "100%"
      }
     },
     "e5ac3a22d15e4edfa3f745b2bd53c6d4": {
      "model_module": "@jupyter-widgets/controls",
      "model_module_version": "1.5.0",
      "model_name": "FloatProgressModel",
      "state": {
       "bar_style": "success",
       "layout": "IPY_MODEL_6bb1fd7f5f424fe191ed70691924cbbf",
       "max": 8,
       "style": "IPY_MODEL_f4a79b077a814ebf833c822af2607b7d",
       "value": 8
      }
     },
     "e5db5c6902684498b16e62ae3a8f39f5": {
      "model_module": "@jupyter-widgets/base",
      "model_module_version": "1.2.0",
      "model_name": "LayoutModel",
      "state": {}
     },
     "e5f0145510064bb38fe92559d92d7a17": {
      "model_module": "@jupyter-widgets/base",
      "model_module_version": "1.2.0",
      "model_name": "LayoutModel",
      "state": {}
     },
     "e64ae1e914b24a18aeed930138134e5b": {
      "model_module": "@jupyter-widgets/base",
      "model_module_version": "1.2.0",
      "model_name": "LayoutModel",
      "state": {}
     },
     "e675cdbe4b114efeb9d4da5116f7773a": {
      "model_module": "@jupyter-widgets/controls",
      "model_module_version": "1.5.0",
      "model_name": "HBoxModel",
      "state": {
       "children": [
        "IPY_MODEL_015ecf41ea2048e5a459d0aec1a1e2b0",
        "IPY_MODEL_8e80ac91f99e460b944040dd2a01391a",
        "IPY_MODEL_9495c25a01ed493a951385444005016e"
       ],
       "layout": "IPY_MODEL_c61de11327ac4bce832bfc94d76e4f62"
      }
     },
     "e678a9f2a3fb4686a0cefc80b483939a": {
      "model_module": "@jupyter-widgets/base",
      "model_module_version": "1.2.0",
      "model_name": "LayoutModel",
      "state": {}
     },
     "e68e1dc212b54b9cbbcd21e334818515": {
      "model_module": "@jupyter-widgets/base",
      "model_module_version": "1.2.0",
      "model_name": "LayoutModel",
      "state": {}
     },
     "e6df84e892b442e49c0241d74a670cb9": {
      "model_module": "@jupyter-widgets/controls",
      "model_module_version": "1.5.0",
      "model_name": "ProgressStyleModel",
      "state": {
       "description_width": ""
      }
     },
     "e717e8f9654a4b1eb1eacc060830ec8b": {
      "model_module": "@jupyter-widgets/controls",
      "model_module_version": "1.5.0",
      "model_name": "HTMLModel",
      "state": {
       "layout": "IPY_MODEL_37fde4b15d8c46a1a8a411678b91552c",
       "style": "IPY_MODEL_15bb0ee5f6c84268a3c8af85b0cb0dab",
       "value": " 23/23 [00:02&lt;00:00,  7.86it/s]"
      }
     },
     "e7a7c0df3b984dc8af6ac89b44158104": {
      "model_module": "@jupyter-widgets/controls",
      "model_module_version": "1.5.0",
      "model_name": "DescriptionStyleModel",
      "state": {
       "description_width": ""
      }
     },
     "e807060040ac4d369db6f47005d3a5d9": {
      "model_module": "@jupyter-widgets/base",
      "model_module_version": "1.2.0",
      "model_name": "LayoutModel",
      "state": {}
     },
     "e8961e65bc0848c4a9fe2ca0434f1863": {
      "model_module": "@jupyter-widgets/base",
      "model_module_version": "1.2.0",
      "model_name": "LayoutModel",
      "state": {}
     },
     "e95723a44dd14f23801110bf6086f5d4": {
      "model_module": "@jupyter-widgets/base",
      "model_module_version": "1.2.0",
      "model_name": "LayoutModel",
      "state": {}
     },
     "e957d2100a5449e2aba2dac46c442b96": {
      "model_module": "@jupyter-widgets/controls",
      "model_module_version": "1.5.0",
      "model_name": "HBoxModel",
      "state": {
       "children": [
        "IPY_MODEL_2928e3bf63f44e859ca17b50169ed247",
        "IPY_MODEL_fe7436e597ea4502b73ceb4bc1d2302d",
        "IPY_MODEL_0cf41577cbf4473e8e8dfe431a825c4c"
       ],
       "layout": "IPY_MODEL_eec7b82c1b674ead8ff8574d115c035e"
      }
     },
     "ea92355e393b4312b82645fa0d6bdf9d": {
      "model_module": "@jupyter-widgets/controls",
      "model_module_version": "1.5.0",
      "model_name": "DescriptionStyleModel",
      "state": {
       "description_width": ""
      }
     },
     "eb10e5f591144eb8b889e88f2923a30c": {
      "model_module": "@jupyter-widgets/base",
      "model_module_version": "1.2.0",
      "model_name": "LayoutModel",
      "state": {}
     },
     "eb2fb8f8337e4cf0bd5f0e285a5d4a87": {
      "model_module": "@jupyter-widgets/base",
      "model_module_version": "1.2.0",
      "model_name": "LayoutModel",
      "state": {}
     },
     "eb5a9a25254d457e98e0f685248ec0b1": {
      "model_module": "@jupyter-widgets/base",
      "model_module_version": "1.2.0",
      "model_name": "LayoutModel",
      "state": {}
     },
     "ebc6645d9d8a4fa6b4e5ee95bdeb2f8f": {
      "model_module": "@jupyter-widgets/controls",
      "model_module_version": "1.5.0",
      "model_name": "HTMLModel",
      "state": {
       "layout": "IPY_MODEL_c27b05d1591d43cab1211ac945f87a8a",
       "style": "IPY_MODEL_b90acd86c1a94f1fa0b2434b7e7ef42a",
       "value": " 8/8 [15:08&lt;00:00, 93.58s/it]"
      }
     },
     "ebd48289e70e4560a0c04afb56decfa4": {
      "model_module": "@jupyter-widgets/base",
      "model_module_version": "1.2.0",
      "model_name": "LayoutModel",
      "state": {}
     },
     "ebe1861d59d948d3bd306cd704babc54": {
      "model_module": "@jupyter-widgets/controls",
      "model_module_version": "1.5.0",
      "model_name": "DescriptionStyleModel",
      "state": {
       "description_width": ""
      }
     },
     "ebec33fd1871461b9ca179e8495a9886": {
      "model_module": "@jupyter-widgets/controls",
      "model_module_version": "1.5.0",
      "model_name": "FloatProgressModel",
      "state": {
       "bar_style": "success",
       "layout": "IPY_MODEL_9bd53d96e27d4c3aaf2042517b96ec18",
       "max": 8,
       "style": "IPY_MODEL_06a8273366264f51a62ef880eb27152f",
       "value": 8
      }
     },
     "ec10f51e0424422096c94420ddd6a92e": {
      "model_module": "@jupyter-widgets/base",
      "model_module_version": "1.2.0",
      "model_name": "LayoutModel",
      "state": {}
     },
     "ec3fedd043d14185920bbfe089b9030c": {
      "model_module": "@jupyter-widgets/base",
      "model_module_version": "1.2.0",
      "model_name": "LayoutModel",
      "state": {}
     },
     "ec551ea8a798415ebe9d2472b48c3cf8": {
      "model_module": "@jupyter-widgets/controls",
      "model_module_version": "1.5.0",
      "model_name": "HBoxModel",
      "state": {
       "children": [
        "IPY_MODEL_bac0164663fb419aa6896f2193db7e9b",
        "IPY_MODEL_b8f2ab5853484d1d82fa934e599e7c4e",
        "IPY_MODEL_51502bb6585c4f0b8c8784b4620276ac"
       ],
       "layout": "IPY_MODEL_41393290a29146cd93cbc55b97ab4bbd"
      }
     },
     "eca320e673d14f27bbaaf5a8e34c67ce": {
      "model_module": "@jupyter-widgets/controls",
      "model_module_version": "1.5.0",
      "model_name": "HBoxModel",
      "state": {
       "children": [
        "IPY_MODEL_8fff385c387542fe8b32dd16f43cf1f1",
        "IPY_MODEL_4df8aaf2e08544719949ac6e4f514842",
        "IPY_MODEL_90bc1c3aa78c4e3ba0b3f1e53741fe9b"
       ],
       "layout": "IPY_MODEL_b2315e83c915420388aaf80da0d94ea7"
      }
     },
     "ecab3211ca734278b19d784ce3c62854": {
      "model_module": "@jupyter-widgets/base",
      "model_module_version": "1.2.0",
      "model_name": "LayoutModel",
      "state": {}
     },
     "ecd1c06ddd6f4e958961ad6c4dc4febf": {
      "model_module": "@jupyter-widgets/controls",
      "model_module_version": "1.5.0",
      "model_name": "FloatProgressModel",
      "state": {
       "bar_style": "success",
       "layout": "IPY_MODEL_7b131b803a93466abd1942164657fa39",
       "max": 8,
       "style": "IPY_MODEL_2fe294ada697456cb84bb55a802e1e3a",
       "value": 8
      }
     },
     "ece3ac7d02814c3294eb24629ca81314": {
      "model_module": "@jupyter-widgets/controls",
      "model_module_version": "1.5.0",
      "model_name": "ProgressStyleModel",
      "state": {
       "description_width": ""
      }
     },
     "ed2a2297c21645a2b487ebd8bb69a84a": {
      "model_module": "@jupyter-widgets/base",
      "model_module_version": "1.2.0",
      "model_name": "LayoutModel",
      "state": {}
     },
     "ed4de0671a5e47de81e29d8578912bea": {
      "model_module": "@jupyter-widgets/controls",
      "model_module_version": "1.5.0",
      "model_name": "ProgressStyleModel",
      "state": {
       "description_width": ""
      }
     },
     "edf84e7f31414be1a9fe81f6d53a7a6a": {
      "model_module": "@jupyter-widgets/controls",
      "model_module_version": "1.5.0",
      "model_name": "HBoxModel",
      "state": {
       "children": [
        "IPY_MODEL_06e52c636c3e4773a8ed364701ff75ce",
        "IPY_MODEL_aed0b966d35146708815f1411d0150a7",
        "IPY_MODEL_7471c81d78094e838a7ade696b0d29a9"
       ],
       "layout": "IPY_MODEL_e678a9f2a3fb4686a0cefc80b483939a"
      }
     },
     "ee0e5f77c1fa4c41bf63ae0fd1a8f20e": {
      "model_module": "@jupyter-widgets/controls",
      "model_module_version": "1.5.0",
      "model_name": "HTMLModel",
      "state": {
       "layout": "IPY_MODEL_197ff34a30524c078001a86a60ca369b",
       "style": "IPY_MODEL_49c1947dfbc7496f855d48dbc2e5d5c4",
       "value": "100%"
      }
     },
     "ee1bbbb30a974a889c385679a77619de": {
      "model_module": "@jupyter-widgets/controls",
      "model_module_version": "1.5.0",
      "model_name": "DescriptionStyleModel",
      "state": {
       "description_width": ""
      }
     },
     "ee406f5eb0194d57930d70949e70ddbf": {
      "model_module": "@jupyter-widgets/base",
      "model_module_version": "1.2.0",
      "model_name": "LayoutModel",
      "state": {}
     },
     "ee4efe6a598643e28f88dddc7d3e5b27": {
      "model_module": "@jupyter-widgets/controls",
      "model_module_version": "1.5.0",
      "model_name": "DescriptionStyleModel",
      "state": {
       "description_width": ""
      }
     },
     "ee67f080b6d142fe9d1d062b7c240d5c": {
      "model_module": "@jupyter-widgets/controls",
      "model_module_version": "1.5.0",
      "model_name": "DescriptionStyleModel",
      "state": {
       "description_width": ""
      }
     },
     "eebf4bbb8b174d15861c0608dfc259c2": {
      "model_module": "@jupyter-widgets/controls",
      "model_module_version": "1.5.0",
      "model_name": "FloatProgressModel",
      "state": {
       "bar_style": "success",
       "layout": "IPY_MODEL_b4fa5691dd2147f08d2e8dec67863ae1",
       "max": 23,
       "style": "IPY_MODEL_f3af7d14ea7c483aa4c89ea9b0b024bb",
       "value": 23
      }
     },
     "eec7b82c1b674ead8ff8574d115c035e": {
      "model_module": "@jupyter-widgets/base",
      "model_module_version": "1.2.0",
      "model_name": "LayoutModel",
      "state": {}
     },
     "ef1a646f730f4bf3a6e9e7de5fc17480": {
      "model_module": "@jupyter-widgets/controls",
      "model_module_version": "1.5.0",
      "model_name": "DescriptionStyleModel",
      "state": {
       "description_width": ""
      }
     },
     "efa7e34f221d42a3a29a8398130eea64": {
      "model_module": "@jupyter-widgets/controls",
      "model_module_version": "1.5.0",
      "model_name": "FloatProgressModel",
      "state": {
       "bar_style": "success",
       "layout": "IPY_MODEL_9395a920345b4ee3b3631c962d9153b2",
       "max": 8,
       "style": "IPY_MODEL_02f582840d3048ef99fbf088ee91f902",
       "value": 8
      }
     },
     "efbd7d9925db473d84e6e8bdb04a4c6c": {
      "model_module": "@jupyter-widgets/controls",
      "model_module_version": "1.5.0",
      "model_name": "ProgressStyleModel",
      "state": {
       "description_width": ""
      }
     },
     "efec7ae1c364484d949fd5d9992bf647": {
      "model_module": "@jupyter-widgets/controls",
      "model_module_version": "1.5.0",
      "model_name": "ProgressStyleModel",
      "state": {
       "description_width": ""
      }
     },
     "f0186b88eef24707b0b29d5d28caa9c5": {
      "model_module": "@jupyter-widgets/controls",
      "model_module_version": "1.5.0",
      "model_name": "ProgressStyleModel",
      "state": {
       "description_width": ""
      }
     },
     "f02d44d5734141e9b1e10d5174180eab": {
      "model_module": "@jupyter-widgets/base",
      "model_module_version": "1.2.0",
      "model_name": "LayoutModel",
      "state": {}
     },
     "f05e0b2dd9e54f30a363a8490fa0ab1a": {
      "model_module": "@jupyter-widgets/controls",
      "model_module_version": "1.5.0",
      "model_name": "HBoxModel",
      "state": {
       "children": [
        "IPY_MODEL_0f63e2e7329b49b6bd540dddb4b0caaa",
        "IPY_MODEL_6c012380ee8b4d82ae5c536f939cf8e4",
        "IPY_MODEL_abbb0c289bc94f8ea065dc4f36ab1929"
       ],
       "layout": "IPY_MODEL_f02d44d5734141e9b1e10d5174180eab"
      }
     },
     "f0f0276891de442eae3d15e021794214": {
      "model_module": "@jupyter-widgets/base",
      "model_module_version": "1.2.0",
      "model_name": "LayoutModel",
      "state": {}
     },
     "f118c5ae522a4ffaafb1f330de004754": {
      "model_module": "@jupyter-widgets/base",
      "model_module_version": "1.2.0",
      "model_name": "LayoutModel",
      "state": {}
     },
     "f158b914497d40dcb488333b8cb3c49c": {
      "model_module": "@jupyter-widgets/controls",
      "model_module_version": "1.5.0",
      "model_name": "FloatProgressModel",
      "state": {
       "bar_style": "danger",
       "layout": "IPY_MODEL_2af540ed499b404d828a341ec13700b0",
       "max": 23,
       "style": "IPY_MODEL_f19bad77d32142d0905ed51e27ed7c96"
      }
     },
     "f16e809534a541368b3613427b8c125d": {
      "model_module": "@jupyter-widgets/base",
      "model_module_version": "1.2.0",
      "model_name": "LayoutModel",
      "state": {}
     },
     "f19bad77d32142d0905ed51e27ed7c96": {
      "model_module": "@jupyter-widgets/controls",
      "model_module_version": "1.5.0",
      "model_name": "ProgressStyleModel",
      "state": {
       "description_width": ""
      }
     },
     "f2031b836f3a48a9933db4246475f43a": {
      "model_module": "@jupyter-widgets/controls",
      "model_module_version": "1.5.0",
      "model_name": "HBoxModel",
      "state": {
       "children": [
        "IPY_MODEL_44829adcfe2f4a64b0e4d7082cf9f822",
        "IPY_MODEL_0789033df7ab473ab63dc700da0bde0b",
        "IPY_MODEL_73f62898133941f58bf1ea4b9085335d"
       ],
       "layout": "IPY_MODEL_aeb7da0bd8ac4a58a367fd6c56c041ab"
      }
     },
     "f23c1d83a9fa455c8695c320ac9d6fa8": {
      "model_module": "@jupyter-widgets/controls",
      "model_module_version": "1.5.0",
      "model_name": "HBoxModel",
      "state": {
       "children": [
        "IPY_MODEL_d6866239a92e4a58b5f660194655b621",
        "IPY_MODEL_0e4f2251b41e42cfbf2ae29713547ea4",
        "IPY_MODEL_2d9c439f426e47d585a890a806884509"
       ],
       "layout": "IPY_MODEL_5371c1d023274a23b1be6ee96fff58e4"
      }
     },
     "f280a244c5e64b618a3149e216993aef": {
      "model_module": "@jupyter-widgets/controls",
      "model_module_version": "1.5.0",
      "model_name": "DescriptionStyleModel",
      "state": {
       "description_width": ""
      }
     },
     "f2c4690abb1b4592af3626b5f30f6b04": {
      "model_module": "@jupyter-widgets/controls",
      "model_module_version": "1.5.0",
      "model_name": "DescriptionStyleModel",
      "state": {
       "description_width": ""
      }
     },
     "f2ce01b2bf0648059c022b9ebec5b3a7": {
      "model_module": "@jupyter-widgets/controls",
      "model_module_version": "1.5.0",
      "model_name": "HTMLModel",
      "state": {
       "layout": "IPY_MODEL_bfb4deeddb8144eea533561a9c325643",
       "style": "IPY_MODEL_3f11c9aa29824e8c9b31950eeac8153b",
       "value": " 23/23 [5:31:42&lt;00:00, 885.49s/it]"
      }
     },
     "f3283cf695274d68b1d7b7e02701df78": {
      "model_module": "@jupyter-widgets/controls",
      "model_module_version": "1.5.0",
      "model_name": "HBoxModel",
      "state": {
       "children": [
        "IPY_MODEL_e0d21babb4a344328fbaa53a048f6083",
        "IPY_MODEL_93c15553a5d640afa62515b24ed8bfa4",
        "IPY_MODEL_7432a93f415c4f77a5d4453d91173cb2"
       ],
       "layout": "IPY_MODEL_dde8331e6ea7405c8cdee93aa88c51ac"
      }
     },
     "f340981c0a604cfd8d49dddafc578472": {
      "model_module": "@jupyter-widgets/base",
      "model_module_version": "1.2.0",
      "model_name": "LayoutModel",
      "state": {}
     },
     "f36704115d114800a0aadc568a9350c7": {
      "model_module": "@jupyter-widgets/controls",
      "model_module_version": "1.5.0",
      "model_name": "DescriptionStyleModel",
      "state": {
       "description_width": ""
      }
     },
     "f38cb5871de746d6ae68b4fd8197f4ac": {
      "model_module": "@jupyter-widgets/controls",
      "model_module_version": "1.5.0",
      "model_name": "ProgressStyleModel",
      "state": {
       "description_width": ""
      }
     },
     "f3af7d14ea7c483aa4c89ea9b0b024bb": {
      "model_module": "@jupyter-widgets/controls",
      "model_module_version": "1.5.0",
      "model_name": "ProgressStyleModel",
      "state": {
       "description_width": ""
      }
     },
     "f3dd70862da84c6a99442c924d432ba3": {
      "model_module": "@jupyter-widgets/base",
      "model_module_version": "1.2.0",
      "model_name": "LayoutModel",
      "state": {}
     },
     "f48b01e6b999431786359cd0345a07d2": {
      "model_module": "@jupyter-widgets/base",
      "model_module_version": "1.2.0",
      "model_name": "LayoutModel",
      "state": {}
     },
     "f4a79b077a814ebf833c822af2607b7d": {
      "model_module": "@jupyter-widgets/controls",
      "model_module_version": "1.5.0",
      "model_name": "ProgressStyleModel",
      "state": {
       "description_width": ""
      }
     },
     "f4bd03c17a3b48cd8b6cf85bc3e9d003": {
      "model_module": "@jupyter-widgets/controls",
      "model_module_version": "1.5.0",
      "model_name": "DescriptionStyleModel",
      "state": {
       "description_width": ""
      }
     },
     "f4ca9142228e4bb1922ff3fcbb88abea": {
      "model_module": "@jupyter-widgets/controls",
      "model_module_version": "1.5.0",
      "model_name": "HBoxModel",
      "state": {
       "children": [
        "IPY_MODEL_1337db2d6b81452189d187ab4fca9f19",
        "IPY_MODEL_20789810a94445b39b3a887e64bd8d88",
        "IPY_MODEL_3f7f38d614144024a3de6e44e83cb4c5"
       ],
       "layout": "IPY_MODEL_0bd37a5caaed4c509790f5fb1ccd1133"
      }
     },
     "f5484a27f9954ad5b54f687f355ab708": {
      "model_module": "@jupyter-widgets/base",
      "model_module_version": "1.2.0",
      "model_name": "LayoutModel",
      "state": {}
     },
     "f5518aa7078a4dfd8421c09fe7ed51e7": {
      "model_module": "@jupyter-widgets/controls",
      "model_module_version": "1.5.0",
      "model_name": "HTMLModel",
      "state": {
       "layout": "IPY_MODEL_d6dcae265cdc4dff989f24b46d1e5f22",
       "style": "IPY_MODEL_43f5831168ee437fb7fda3a80d0514e2",
       "value": "100%"
      }
     },
     "f57a6d4078aa47d0afb93bb527f8782e": {
      "model_module": "@jupyter-widgets/base",
      "model_module_version": "1.2.0",
      "model_name": "LayoutModel",
      "state": {}
     },
     "f585763ab0e741d98cf3e2573c9e5825": {
      "model_module": "@jupyter-widgets/base",
      "model_module_version": "1.2.0",
      "model_name": "LayoutModel",
      "state": {}
     },
     "f59e3f875c1d47baa1497d1608b2a2c2": {
      "model_module": "@jupyter-widgets/controls",
      "model_module_version": "1.5.0",
      "model_name": "HBoxModel",
      "state": {
       "children": [
        "IPY_MODEL_4288334b88fc4287b124bbfe39370c65",
        "IPY_MODEL_0871f88f700341ff8a026b674c784782",
        "IPY_MODEL_c7a7cd154f6b4ffb8e7106d0f4647715"
       ],
       "layout": "IPY_MODEL_5fa68f0154f44bb59943a677ba8df099"
      }
     },
     "f5a29b2a36454016a333cfd7147a5513": {
      "model_module": "@jupyter-widgets/controls",
      "model_module_version": "1.5.0",
      "model_name": "DescriptionStyleModel",
      "state": {
       "description_width": ""
      }
     },
     "f5cab9375231434fb8e59311042a91a1": {
      "model_module": "@jupyter-widgets/controls",
      "model_module_version": "1.5.0",
      "model_name": "HBoxModel",
      "state": {
       "children": [
        "IPY_MODEL_8cb72892dcf9400596304c85c063b422",
        "IPY_MODEL_1641bf398da14b7b816612eea37b4009",
        "IPY_MODEL_e21bef9b3f2f46819cebc7bea8e85bb7"
       ],
       "layout": "IPY_MODEL_37ffadea5c424b5a9a35c4c205e1c476"
      }
     },
     "f63646b4ecf84e57934efd5ff7b38307": {
      "model_module": "@jupyter-widgets/controls",
      "model_module_version": "1.5.0",
      "model_name": "HTMLModel",
      "state": {
       "layout": "IPY_MODEL_64e967f055784b70b36c2babbcbce677",
       "style": "IPY_MODEL_1941b823abfd4219aa5ea200ebea1c87",
       "value": "100%"
      }
     },
     "f66858cf420b4c39823f925648e67e5e": {
      "model_module": "@jupyter-widgets/base",
      "model_module_version": "1.2.0",
      "model_name": "LayoutModel",
      "state": {}
     },
     "f69e2adc69404ef2aacdb30401e00b48": {
      "model_module": "@jupyter-widgets/controls",
      "model_module_version": "1.5.0",
      "model_name": "DescriptionStyleModel",
      "state": {
       "description_width": ""
      }
     },
     "f6be2048933f422d861fb28aaee8aef2": {
      "model_module": "@jupyter-widgets/base",
      "model_module_version": "1.2.0",
      "model_name": "LayoutModel",
      "state": {}
     },
     "f6c4ce11a6d44065ad223018bb508b34": {
      "model_module": "@jupyter-widgets/controls",
      "model_module_version": "1.5.0",
      "model_name": "DescriptionStyleModel",
      "state": {
       "description_width": ""
      }
     },
     "f6cd314389b64f7ab17531e72128f896": {
      "model_module": "@jupyter-widgets/base",
      "model_module_version": "1.2.0",
      "model_name": "LayoutModel",
      "state": {}
     },
     "f7cd1e07ea8b4253bf0c299cc66b1a73": {
      "model_module": "@jupyter-widgets/base",
      "model_module_version": "1.2.0",
      "model_name": "LayoutModel",
      "state": {}
     },
     "f8150a08c17e48ab904999735f31ef5f": {
      "model_module": "@jupyter-widgets/controls",
      "model_module_version": "1.5.0",
      "model_name": "DescriptionStyleModel",
      "state": {
       "description_width": ""
      }
     },
     "f84ef80a29fe4c5a81cb377cffbe667c": {
      "model_module": "@jupyter-widgets/base",
      "model_module_version": "1.2.0",
      "model_name": "LayoutModel",
      "state": {}
     },
     "f8a55894fff342bcb83a3255cab2d981": {
      "model_module": "@jupyter-widgets/controls",
      "model_module_version": "1.5.0",
      "model_name": "DescriptionStyleModel",
      "state": {
       "description_width": ""
      }
     },
     "f93a0add13b94ed8af436f3a2db4d9f5": {
      "model_module": "@jupyter-widgets/base",
      "model_module_version": "1.2.0",
      "model_name": "LayoutModel",
      "state": {}
     },
     "f99286dc9c7f489e9bc95b9dfa9ecc46": {
      "model_module": "@jupyter-widgets/base",
      "model_module_version": "1.2.0",
      "model_name": "LayoutModel",
      "state": {}
     },
     "f9b472a681be41d8a23550b3965b10d0": {
      "model_module": "@jupyter-widgets/controls",
      "model_module_version": "1.5.0",
      "model_name": "HBoxModel",
      "state": {
       "children": [
        "IPY_MODEL_fcefdb1acf58420697f971dc6c26b17c",
        "IPY_MODEL_e1bde079658245a3a572ed5a4cdbb7ca",
        "IPY_MODEL_bea5edc83d7e4d5aa5cc51c174c70e84"
       ],
       "layout": "IPY_MODEL_923d6a0abb09447d942bc6dbd42aaa9e"
      }
     },
     "f9c42f4daa6242caa4df044f72f522cf": {
      "model_module": "@jupyter-widgets/controls",
      "model_module_version": "1.5.0",
      "model_name": "FloatProgressModel",
      "state": {
       "bar_style": "success",
       "layout": "IPY_MODEL_c194ee86782e4315bd7fb34013efdad4",
       "max": 8,
       "style": "IPY_MODEL_6a626e3f85cd48d885cbd7961f4b9fdc",
       "value": 8
      }
     },
     "f9db8b2cef65413082271fedd5d9bc35": {
      "model_module": "@jupyter-widgets/controls",
      "model_module_version": "1.5.0",
      "model_name": "ProgressStyleModel",
      "state": {
       "description_width": ""
      }
     },
     "f9dd8353818d41b89ad915b7d13b008d": {
      "model_module": "@jupyter-widgets/controls",
      "model_module_version": "1.5.0",
      "model_name": "HTMLModel",
      "state": {
       "layout": "IPY_MODEL_a7345004f9364d1d8cb52dfa379c7f18",
       "style": "IPY_MODEL_25a41837b39b4f10a842bf05d9810aec",
       "value": "100%"
      }
     },
     "f9f0190d7bc446378ca1d7873af8c475": {
      "model_module": "@jupyter-widgets/controls",
      "model_module_version": "1.5.0",
      "model_name": "HBoxModel",
      "state": {
       "children": [
        "IPY_MODEL_3be133573fe14976b19843795ce604eb",
        "IPY_MODEL_ac09cc0022bf41fea3c49a04be851501",
        "IPY_MODEL_f2ce01b2bf0648059c022b9ebec5b3a7"
       ],
       "layout": "IPY_MODEL_9abaf2a96f87443bb720f1d5f364946c"
      }
     },
     "f9feb8bc1d4d4e71911ce849e3edfa49": {
      "model_module": "@jupyter-widgets/controls",
      "model_module_version": "1.5.0",
      "model_name": "DescriptionStyleModel",
      "state": {
       "description_width": ""
      }
     },
     "fa873062ad794ca583b404386b2b6c6c": {
      "model_module": "@jupyter-widgets/base",
      "model_module_version": "1.2.0",
      "model_name": "LayoutModel",
      "state": {}
     },
     "fa888a08c7444d35883499c34162826e": {
      "model_module": "@jupyter-widgets/base",
      "model_module_version": "1.2.0",
      "model_name": "LayoutModel",
      "state": {}
     },
     "fb6bf47a730743f7857b2417685646dd": {
      "model_module": "@jupyter-widgets/controls",
      "model_module_version": "1.5.0",
      "model_name": "HTMLModel",
      "state": {
       "layout": "IPY_MODEL_f118c5ae522a4ffaafb1f330de004754",
       "style": "IPY_MODEL_827682c389e24ec8acfddc2a7c0f4a2b",
       "value": "100%"
      }
     },
     "fb8f8e98cdf8451baa3d019cc556e951": {
      "model_module": "@jupyter-widgets/controls",
      "model_module_version": "1.5.0",
      "model_name": "HBoxModel",
      "state": {
       "children": [
        "IPY_MODEL_373198a9a1894913a484f21d0b39f0b7",
        "IPY_MODEL_86dd7fee18dd47219e41dba8a73449f7",
        "IPY_MODEL_da587ef04f594baca44f08541a776e67"
       ],
       "layout": "IPY_MODEL_8f04571ede1746cf87c9bb556c80fbac"
      }
     },
     "fb9a484edac04af6891ad5ec2c57aec5": {
      "model_module": "@jupyter-widgets/base",
      "model_module_version": "1.2.0",
      "model_name": "LayoutModel",
      "state": {}
     },
     "fbd0baf9acae4fcda4690f04a5da4a2b": {
      "model_module": "@jupyter-widgets/base",
      "model_module_version": "1.2.0",
      "model_name": "LayoutModel",
      "state": {}
     },
     "fbd2c2f2a142418cbbd350732704f330": {
      "model_module": "@jupyter-widgets/controls",
      "model_module_version": "1.5.0",
      "model_name": "FloatProgressModel",
      "state": {
       "bar_style": "success",
       "layout": "IPY_MODEL_eb2fb8f8337e4cf0bd5f0e285a5d4a87",
       "max": 8,
       "style": "IPY_MODEL_ed4de0671a5e47de81e29d8578912bea",
       "value": 8
      }
     },
     "fc30c9416f72427da6b90d434bc5f968": {
      "model_module": "@jupyter-widgets/base",
      "model_module_version": "1.2.0",
      "model_name": "LayoutModel",
      "state": {}
     },
     "fc9564b37f7d447b889837f409dff83e": {
      "model_module": "@jupyter-widgets/base",
      "model_module_version": "1.2.0",
      "model_name": "LayoutModel",
      "state": {}
     },
     "fccf8a517d8e4bf3bd5271e9031d19a3": {
      "model_module": "@jupyter-widgets/controls",
      "model_module_version": "1.5.0",
      "model_name": "ProgressStyleModel",
      "state": {
       "description_width": ""
      }
     },
     "fcd48c379a894e13a0a14149d59d4e3f": {
      "model_module": "@jupyter-widgets/base",
      "model_module_version": "1.2.0",
      "model_name": "LayoutModel",
      "state": {}
     },
     "fcefdb1acf58420697f971dc6c26b17c": {
      "model_module": "@jupyter-widgets/controls",
      "model_module_version": "1.5.0",
      "model_name": "HTMLModel",
      "state": {
       "layout": "IPY_MODEL_3f6dd9e096df4003b4ccbc9d2c5c3f1d",
       "style": "IPY_MODEL_de6f3ae116124fd9be1f0b6c8571fa78",
       "value": "100%"
      }
     },
     "fd028e34200d4fbc8217ef8bd2f0b169": {
      "model_module": "@jupyter-widgets/base",
      "model_module_version": "1.2.0",
      "model_name": "LayoutModel",
      "state": {}
     },
     "fdd24fe19b7148468998db3a9dacb08b": {
      "model_module": "@jupyter-widgets/base",
      "model_module_version": "1.2.0",
      "model_name": "LayoutModel",
      "state": {}
     },
     "fe1932cb41744aaba1eca252af0b40d0": {
      "model_module": "@jupyter-widgets/controls",
      "model_module_version": "1.5.0",
      "model_name": "HBoxModel",
      "state": {
       "children": [
        "IPY_MODEL_1c30d1838de14f3988a0c5196f57ed54",
        "IPY_MODEL_181f98a5db0d4eaaa3ac5ec55ead1242",
        "IPY_MODEL_6da2b3b61a7940cf9cf682a33530c468"
       ],
       "layout": "IPY_MODEL_1fcdce658ef14dbc9186da4814744c2f"
      }
     },
     "fe30938565af4ef5ba92da1fe3ce7f20": {
      "model_module": "@jupyter-widgets/base",
      "model_module_version": "1.2.0",
      "model_name": "LayoutModel",
      "state": {}
     },
     "fe7436e597ea4502b73ceb4bc1d2302d": {
      "model_module": "@jupyter-widgets/controls",
      "model_module_version": "1.5.0",
      "model_name": "FloatProgressModel",
      "state": {
       "bar_style": "success",
       "layout": "IPY_MODEL_f3dd70862da84c6a99442c924d432ba3",
       "max": 8,
       "style": "IPY_MODEL_168598486efa4989851477f210b41f7a",
       "value": 8
      }
     },
     "feba5ee62f0145168e32ee6f995b65fe": {
      "model_module": "@jupyter-widgets/controls",
      "model_module_version": "1.5.0",
      "model_name": "HTMLModel",
      "state": {
       "layout": "IPY_MODEL_68f069dba39f4eea927de4a0439720e0",
       "style": "IPY_MODEL_c82e12815b7a4b788ff8f6490f9ad2f5",
       "value": "100%"
      }
     }
    },
    "version_major": 2,
    "version_minor": 0
   }
  }
 },
 "nbformat": 4,
 "nbformat_minor": 4
}
